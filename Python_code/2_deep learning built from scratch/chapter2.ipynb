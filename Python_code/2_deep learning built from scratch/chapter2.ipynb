{
 "cells": [
  {
   "cell_type": "code",
   "execution_count": 6,
   "id": "167da34b-893a-447f-8b5d-44f4de700bcc",
   "metadata": {},
   "outputs": [],
   "source": [
    "import numpy as np"
   ]
  },
  {
   "cell_type": "markdown",
   "id": "701fee46-3c14-405d-82ea-626d3f1cbf55",
   "metadata": {},
   "source": [
    "## コーパスの前処理"
   ]
  },
  {
   "cell_type": "code",
   "execution_count": 5,
   "id": "f0b8d5db-450b-4757-9497-9b1552f05bf2",
   "metadata": {},
   "outputs": [
    {
     "name": "stdout",
     "output_type": "stream",
     "text": [
      "you say goobye and i say hello .\n",
      "split後: ['you', 'say', 'goobye', 'and', 'i', 'say', 'hello', '.']\n"
     ]
    }
   ],
   "source": [
    "text = 'You say goobye and I say hello.'\n",
    "\n",
    "text = text.lower()\n",
    "text = text.replace('.', ' .')\n",
    "print(text)\n",
    "\n",
    "words = text.split(sep=' ')\n",
    "print('split後:', words)"
   ]
  },
  {
   "cell_type": "code",
   "execution_count": 22,
   "id": "268396b1-c0da-4022-b671-a240bc06633c",
   "metadata": {},
   "outputs": [
    {
     "name": "stdout",
     "output_type": "stream",
     "text": [
      "{'you': 0, 'say': 1, 'goobye': 2, 'and': 3, 'i': 4, 'hello': 5, '.': 6}\n",
      "{0: 'you', 1: 'say', 2: 'goobye', 3: 'and', 4: 'i', 5: 'hello', 6: '.'}\n"
     ]
    }
   ],
   "source": [
    "# 単語のid化\n",
    "\n",
    "# 対応するdictを作成\n",
    "word_to_id = {}\n",
    "id_to_word = {}\n",
    "\n",
    "for word in words:\n",
    "    if word not in word_to_id:\n",
    "        new_id = len(word_to_id)\n",
    "        word_to_id[word] = new_id\n",
    "        id_to_word[new_id] = word\n",
    "\n",
    "print(word_to_id)\n",
    "print(id_to_word)"
   ]
  },
  {
   "cell_type": "code",
   "execution_count": 29,
   "id": "c103e010-890c-43c3-b84f-f5117efe6955",
   "metadata": {},
   "outputs": [
    {
     "data": {
      "text/plain": [
       "array([0, 1, 2, 3, 4, 1, 5, 6])"
      ]
     },
     "execution_count": 29,
     "metadata": {},
     "output_type": "execute_result"
    }
   ],
   "source": [
    "# 数値として扱いやすいようにwordsを単語idに変換\n",
    "corpus = [word_to_id[word] for word in words]\n",
    "\n",
    "# np.array\n",
    "corpus = np.array(corpus)\n",
    "corpus"
   ]
  },
  {
   "cell_type": "code",
   "execution_count": 31,
   "id": "f9cc3d18-1b83-42d3-aeb8-cd2bf0301c4d",
   "metadata": {},
   "outputs": [],
   "source": [
    "# 上記の処理を関数化\n",
    "\n",
    "def preprocess(texts):\n",
    "    texts = texts.lower()\n",
    "    texts = texts.replace('.', ' .')\n",
    "    words = texts.split(sep=' ')\n",
    "\n",
    "    word_to_id = {}\n",
    "    id_to_word = {}\n",
    "\n",
    "    for word in words:\n",
    "        if word not in word_to_id:\n",
    "            new_id = len(word_to_id)\n",
    "            word_to_id[word] = new_id\n",
    "            id_to_word[new_id] = word\n",
    "\n",
    "    corpus = np.array([word_to_id[w] for w in words])\n",
    "    \n",
    "    return corpus, word_to_id, id_to_word"
   ]
  },
  {
   "cell_type": "code",
   "execution_count": 32,
   "id": "941420cd-bc97-4770-9fd6-ecd6036f89d2",
   "metadata": {},
   "outputs": [],
   "source": [
    "# 関数チェック\n",
    "text = 'You say goobye and I say hello.'\n",
    "\n",
    "corpus, word_to_id, id_to_word = preprocess(text)"
   ]
  },
  {
   "cell_type": "markdown",
   "id": "a95ce71c-145f-4cac-b918-81f9d099213a",
   "metadata": {},
   "source": [
    "・コーパスを扱う準備はこれで終わり。  \n",
    "・次からはこのコーパスを使用して、単語の意味を抽出をする。　-> 「カウントベースの手法」  \n",
    "・単語の意味を的確に捉えたベクトル表現を目指す。 (ex: 色のRGBのようなベクトル表現  ->  分散表現  \n",
    "・単語の分散表現：単語を固定長のベクトルで表現、密なベクトル。  \n",
    "<br>\n",
    "・単語の意味は周囲の単語によって形成される"
   ]
  },
  {
   "cell_type": "markdown",
   "id": "156a027f-75d7-45af-838e-fdb62745d9c7",
   "metadata": {},
   "source": [
    "## 共起行列"
   ]
  },
  {
   "cell_type": "code",
   "execution_count": 39,
   "id": "55d08ca8-80ef-456c-b304-e020e9087e60",
   "metadata": {},
   "outputs": [
    {
     "name": "stdout",
     "output_type": "stream",
     "text": [
      "[0 1 2 3 4 1 5 6]\n",
      "{'you': 0, 'say': 1, 'goobye': 2, 'and': 3, 'i': 4, 'hello': 5, '.': 6}\n"
     ]
    }
   ],
   "source": [
    "# テキストと前処理\n",
    "text = 'You say goobye and I say hello.'\n",
    "corpus, word_to_id, id_to_word = preprocess(text)\n",
    "print(corpus)\n",
    "print(word_to_id)"
   ]
  },
  {
   "cell_type": "code",
   "execution_count": 40,
   "id": "44a88f48-7b4e-4866-8102-34cd448487f5",
   "metadata": {},
   "outputs": [],
   "source": [
    "# 共起行列 (window size = 1)\n",
    "\n",
    "\n",
    "C = np.array([\n",
    "    [0, 1, 0, 0, 0, 0, 0],\n",
    "    [1, 0, 1, 0, 1, 1, 0],\n",
    "    [0, 1, 0, 1, 0, 0, 0],\n",
    "    [0, 0, 1, 0, 1, 0, 0],\n",
    "    [0, 1, 0, 1, 0, 0, 0],\n",
    "    [0, 1, 0, 0, 0, 0, 1],\n",
    "    [0, 0, 0, 0, 0, 1, 0]\n",
    "], dtype=np.int32)"
   ]
  },
  {
   "cell_type": "code",
   "execution_count": 71,
   "id": "2c23ca34-a45b-4595-84b4-5f629597750b",
   "metadata": {},
   "outputs": [],
   "source": [
    "# コーパスから共起行列を作る関数\n",
    "\n",
    "def create_co_matrix(corpus, vocab_size, window_size=1):\n",
    "    corpus_size = len(corpus)\n",
    "    co_matrix = np.zeros([corpus_size, corpus_size], dtype=np.int32)\n",
    "\n",
    "    for idx, word_id in enumerate(corpus):\n",
    "        for i in range(1, window_size + 1):\n",
    "            left_idx = idx - i\n",
    "            right_idx = idx + i\n",
    "\n",
    "            if left_idx >= 0:\n",
    "                left_word_id = corpus[left_idx]\n",
    "                co_matrix[word_id, left_word_id] = 1\n",
    "            \n",
    "            \n",
    "            if right_idx < corpus_size:\n",
    "                right_word_id = corpus[right_idx]\n",
    "                co_matrix[word_id, right_word_id] = 1\n",
    "\n",
    "    return co_matrix"
   ]
  },
  {
   "cell_type": "code",
   "execution_count": 72,
   "id": "d95490e8-a600-4cde-9266-bf27388d8903",
   "metadata": {},
   "outputs": [],
   "source": [
    "# コサイン類似度\n",
    "def cos_similarity(x, y, eps=1e-8):\n",
    "    nx = x/(np.sqrt(np.sum(x**2))+eps)\n",
    "    ny = y/(np.sqrt(np.sum(y**2))+eps)\n",
    "    return np.dot(nx, ny)    "
   ]
  },
  {
   "cell_type": "code",
   "execution_count": 81,
   "id": "9c30b1a1-4a53-43e7-9f8e-c1bbbc250b9a",
   "metadata": {},
   "outputs": [
    {
     "name": "stdout",
     "output_type": "stream",
     "text": [
      "[0 1 0 0 0 0 0 0]\n",
      "[0 1 0 1 0 0 0 0]\n",
      "0.7071067691154799\n"
     ]
    }
   ],
   "source": [
    "# コサイン類似度のチェック\n",
    "vocab_size = len(word_to_id)\n",
    "C = create_co_matrix(corpus, vocab_size)\n",
    "\n",
    "# youとIの類似度\n",
    "c0 = C[word_to_id['you']]\n",
    "c1 = C[word_to_id['i']]\n",
    "\n",
    "print(c0)\n",
    "print(c1)\n",
    "print(cos_similarity(c0, c1))\n",
    "\n",
    "\n",
    "\n"
   ]
  },
  {
   "cell_type": "code",
   "execution_count": null,
   "id": "ebae537a-201d-487d-9eb6-c6f7874db674",
   "metadata": {},
   "outputs": [],
   "source": []
  },
  {
   "cell_type": "markdown",
   "id": "861a0743-5d23-42a5-8643-2c60916f35cd",
   "metadata": {},
   "source": [
    "# "
   ]
  },
  {
   "cell_type": "code",
   "execution_count": null,
   "id": "404e31c1-33e0-4fca-acea-7c0bc64d8c1c",
   "metadata": {},
   "outputs": [],
   "source": []
  },
  {
   "cell_type": "code",
   "execution_count": null,
   "id": "4310b175-e95f-4634-b0a7-0fc40b23f440",
   "metadata": {},
   "outputs": [],
   "source": []
  },
  {
   "cell_type": "code",
   "execution_count": null,
   "id": "4ea07a1d-0af8-410b-8818-00bdc49afcaa",
   "metadata": {},
   "outputs": [],
   "source": []
  },
  {
   "cell_type": "code",
   "execution_count": null,
   "id": "64312174-4299-451b-9570-2772e594d6a0",
   "metadata": {},
   "outputs": [],
   "source": []
  },
  {
   "cell_type": "code",
   "execution_count": null,
   "id": "9a3ad767-a6c4-4755-ba88-76893c092352",
   "metadata": {},
   "outputs": [],
   "source": []
  },
  {
   "cell_type": "code",
   "execution_count": null,
   "id": "86bd88cf-d2ba-4b8d-b100-7e86174ef014",
   "metadata": {},
   "outputs": [],
   "source": []
  }
 ],
 "metadata": {
  "kernelspec": {
   "display_name": "Python 3 (ipykernel)",
   "language": "python",
   "name": "python3"
  },
  "language_info": {
   "codemirror_mode": {
    "name": "ipython",
    "version": 3
   },
   "file_extension": ".py",
   "mimetype": "text/x-python",
   "name": "python",
   "nbconvert_exporter": "python",
   "pygments_lexer": "ipython3",
   "version": "3.8.18"
  }
 },
 "nbformat": 4,
 "nbformat_minor": 5
}
