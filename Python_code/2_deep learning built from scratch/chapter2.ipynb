{
 "cells": [
  {
   "cell_type": "code",
   "execution_count": 254,
   "id": "167da34b-893a-447f-8b5d-44f4de700bcc",
   "metadata": {},
   "outputs": [],
   "source": [
    "import numpy as np\n",
    "import matplotlib.pyplot as plt"
   ]
  },
  {
   "cell_type": "markdown",
   "id": "701fee46-3c14-405d-82ea-626d3f1cbf55",
   "metadata": {},
   "source": [
    "## コーパスの前処理"
   ]
  },
  {
   "cell_type": "code",
   "execution_count": 230,
   "id": "f0b8d5db-450b-4757-9497-9b1552f05bf2",
   "metadata": {},
   "outputs": [
    {
     "name": "stdout",
     "output_type": "stream",
     "text": [
      "you say goobye and i say hello .\n",
      "split後: ['you', 'say', 'goobye', 'and', 'i', 'say', 'hello', '.']\n"
     ]
    }
   ],
   "source": [
    "text = 'You say goobye and I say hello.'\n",
    "\n",
    "text = text.lower()\n",
    "text = text.replace('.', ' .')\n",
    "print(text)\n",
    "\n",
    "words = text.split(sep=' ')\n",
    "print('split後:', words)"
   ]
  },
  {
   "cell_type": "code",
   "execution_count": 231,
   "id": "268396b1-c0da-4022-b671-a240bc06633c",
   "metadata": {},
   "outputs": [
    {
     "name": "stdout",
     "output_type": "stream",
     "text": [
      "{'you': 0, 'say': 1, 'goobye': 2, 'and': 3, 'i': 4, 'hello': 5, '.': 6}\n",
      "{0: 'you', 1: 'say', 2: 'goobye', 3: 'and', 4: 'i', 5: 'hello', 6: '.'}\n"
     ]
    }
   ],
   "source": [
    "# 単語のid化\n",
    "\n",
    "# 対応するdictを作成\n",
    "word_to_id = {}\n",
    "id_to_word = {}\n",
    "\n",
    "for word in words:\n",
    "    if word not in word_to_id:\n",
    "        new_id = len(word_to_id)\n",
    "        word_to_id[word] = new_id\n",
    "        id_to_word[new_id] = word\n",
    "\n",
    "print(word_to_id)\n",
    "print(id_to_word)"
   ]
  },
  {
   "cell_type": "code",
   "execution_count": 232,
   "id": "c103e010-890c-43c3-b84f-f5117efe6955",
   "metadata": {},
   "outputs": [
    {
     "data": {
      "text/plain": [
       "array([0, 1, 2, 3, 4, 1, 5, 6])"
      ]
     },
     "execution_count": 232,
     "metadata": {},
     "output_type": "execute_result"
    }
   ],
   "source": [
    "# 数値として扱いやすいようにwordsを単語idに変換\n",
    "corpus = [word_to_id[word] for word in words]\n",
    "\n",
    "# np.array\n",
    "corpus = np.array(corpus)\n",
    "corpus"
   ]
  },
  {
   "cell_type": "code",
   "execution_count": 233,
   "id": "f9cc3d18-1b83-42d3-aeb8-cd2bf0301c4d",
   "metadata": {},
   "outputs": [],
   "source": [
    "# 上記の処理を関数化\n",
    "\n",
    "def preprocess(texts):\n",
    "    texts = texts.lower()\n",
    "    texts = texts.replace('.', ' .')\n",
    "    words = texts.split(sep=' ')\n",
    "\n",
    "    word_to_id = {}\n",
    "    id_to_word = {}\n",
    "\n",
    "    for word in words:\n",
    "        if word not in word_to_id:\n",
    "            new_id = len(word_to_id)\n",
    "            word_to_id[word] = new_id\n",
    "            id_to_word[new_id] = word\n",
    "\n",
    "    corpus = np.array([word_to_id[w] for w in words])\n",
    "    \n",
    "    return corpus, word_to_id, id_to_word"
   ]
  },
  {
   "cell_type": "code",
   "execution_count": 234,
   "id": "941420cd-bc97-4770-9fd6-ecd6036f89d2",
   "metadata": {},
   "outputs": [],
   "source": [
    "# 関数チェック\n",
    "text = 'You say goobye and I say hello.'\n",
    "\n",
    "corpus, word_to_id, id_to_word = preprocess(text)"
   ]
  },
  {
   "cell_type": "markdown",
   "id": "a95ce71c-145f-4cac-b918-81f9d099213a",
   "metadata": {},
   "source": [
    "・コーパスを扱う準備はこれで終わり。  \n",
    "・次からはこのコーパスを使用して、単語の意味を抽出をする。　-> 「カウントベースの手法」  \n",
    "・単語の意味を的確に捉えたベクトル表現を目指す。 (ex: 色のRGBのようなベクトル表現  ->  分散表現  \n",
    "・単語の分散表現：単語を固定長のベクトルで表現、密なベクトル。  \n",
    "<br>\n",
    "・単語の意味は周囲の単語によって形成される"
   ]
  },
  {
   "cell_type": "markdown",
   "id": "156a027f-75d7-45af-838e-fdb62745d9c7",
   "metadata": {},
   "source": [
    "## 共起行列"
   ]
  },
  {
   "cell_type": "code",
   "execution_count": 235,
   "id": "55d08ca8-80ef-456c-b304-e020e9087e60",
   "metadata": {},
   "outputs": [
    {
     "name": "stdout",
     "output_type": "stream",
     "text": [
      "[0 1 2 3 4 1 5 6]\n",
      "{'you': 0, 'say': 1, 'goobye': 2, 'and': 3, 'i': 4, 'hello': 5, '.': 6}\n"
     ]
    }
   ],
   "source": [
    "# テキストと前処理\n",
    "text = 'You say goobye and I say hello.'\n",
    "corpus, word_to_id, id_to_word = preprocess(text)\n",
    "print(corpus)\n",
    "print(word_to_id)"
   ]
  },
  {
   "cell_type": "code",
   "execution_count": 236,
   "id": "44a88f48-7b4e-4866-8102-34cd448487f5",
   "metadata": {},
   "outputs": [],
   "source": [
    "# 共起行列 (window size = 1)\n",
    "\n",
    "\n",
    "C = np.array([\n",
    "    [0, 1, 0, 0, 0, 0, 0],\n",
    "    [1, 0, 1, 0, 1, 1, 0],\n",
    "    [0, 1, 0, 1, 0, 0, 0],\n",
    "    [0, 0, 1, 0, 1, 0, 0],\n",
    "    [0, 1, 0, 1, 0, 0, 0],\n",
    "    [0, 1, 0, 0, 0, 0, 1],\n",
    "    [0, 0, 0, 0, 0, 1, 0]\n",
    "], dtype=np.int32)"
   ]
  },
  {
   "cell_type": "code",
   "execution_count": 237,
   "id": "2c23ca34-a45b-4595-84b4-5f629597750b",
   "metadata": {},
   "outputs": [],
   "source": [
    "# コーパスから共起行列を作る関数\n",
    "\n",
    "def create_co_matrix(corpus, vocab_size, window_size=1):\n",
    "    corpus_size = len(corpus)\n",
    "    co_matrix = np.zeros([vocab_size, vocab_size], dtype=np.int32)\n",
    "\n",
    "    for idx, word_id in enumerate(corpus):\n",
    "        for i in range(1, window_size + 1):\n",
    "            left_idx = idx - i\n",
    "            right_idx = idx + i\n",
    "\n",
    "            if left_idx >= 0:\n",
    "                left_word_id = corpus[left_idx]\n",
    "                co_matrix[word_id, left_word_id] += 1\n",
    "            \n",
    "            \n",
    "            if right_idx < corpus_size:\n",
    "                right_word_id = corpus[right_idx]\n",
    "                co_matrix[word_id, right_word_id] += 1\n",
    "\n",
    "    return co_matrix"
   ]
  },
  {
   "cell_type": "code",
   "execution_count": 238,
   "id": "d95490e8-a600-4cde-9266-bf27388d8903",
   "metadata": {},
   "outputs": [],
   "source": [
    "# コサイン類似度\n",
    "def cos_similarity(x, y, eps=1e-8):\n",
    "    nx = x/(np.sqrt(np.sum(x**2))+eps)\n",
    "    ny = y/(np.sqrt(np.sum(y**2))+eps)\n",
    "    return np.dot(nx, ny)    "
   ]
  },
  {
   "cell_type": "code",
   "execution_count": 239,
   "id": "9c30b1a1-4a53-43e7-9f8e-c1bbbc250b9a",
   "metadata": {},
   "outputs": [
    {
     "name": "stdout",
     "output_type": "stream",
     "text": [
      "[0 1 0 0 0 0 0]\n",
      "[0 1 0 1 0 0 0]\n",
      "0.7071067691154799\n"
     ]
    }
   ],
   "source": [
    "# コサイン類似度のチェック\n",
    "vocab_size = len(word_to_id)\n",
    "C = create_co_matrix(corpus, vocab_size)\n",
    "\n",
    "# youとIの類似度\n",
    "c0 = C[word_to_id['you']]\n",
    "c1 = C[word_to_id['i']]\n",
    "\n",
    "print(c0)\n",
    "print(c1)\n",
    "print(cos_similarity(c0, c1))\n",
    "\n",
    "\n",
    "\n"
   ]
  },
  {
   "cell_type": "code",
   "execution_count": 240,
   "id": "ebae537a-201d-487d-9eb6-c6f7874db674",
   "metadata": {},
   "outputs": [
    {
     "data": {
      "text/plain": [
       "array([[0, 1, 0, 0, 0, 0, 0],\n",
       "       [1, 0, 1, 0, 1, 1, 0],\n",
       "       [0, 1, 0, 1, 0, 0, 0],\n",
       "       [0, 0, 1, 0, 1, 0, 0],\n",
       "       [0, 1, 0, 1, 0, 0, 0],\n",
       "       [0, 1, 0, 0, 0, 0, 1],\n",
       "       [0, 0, 0, 0, 0, 1, 0]], dtype=int32)"
      ]
     },
     "execution_count": 240,
     "metadata": {},
     "output_type": "execute_result"
    }
   ],
   "source": [
    "C"
   ]
  },
  {
   "cell_type": "markdown",
   "id": "861a0743-5d23-42a5-8643-2c60916f35cd",
   "metadata": {},
   "source": [
    "# 類似単語のランキング表示"
   ]
  },
  {
   "cell_type": "code",
   "execution_count": 241,
   "id": "404e31c1-33e0-4fca-acea-7c0bc64d8c1c",
   "metadata": {},
   "outputs": [],
   "source": [
    "def most_similar(query, word_to_id, id_to_word, word_matrix, top=5):\n",
    "    # クエリを取り出す\n",
    "    if query not in word_to_id:\n",
    "        print(f'{query}is not found')\n",
    "        return\n",
    "\n",
    "    print('\\n[query] ' + query)\n",
    "    query_id = word_to_id[query]\n",
    "    query_vec = word_matrix[query_id]\n",
    "\n",
    "    # コサイン類似度の算出\n",
    "    vaocab_size = len(word_to_id)\n",
    "\n",
    "    # word_matrix毎の類似度を出して、similarityに保管 -> similarityはword_matrix, id_to_word, word_to_idのインデックスに対応\n",
    "    similarity = np.zeros(vaocab_size)\n",
    "    for i in range(vaocab_size):\n",
    "        similarity[i] = cos_similarity(word_matrix[i], query_vec)\n",
    "\n",
    "    # ランキング\n",
    "    count=0\n",
    "    # argsortは昇順に並び替えた時の元値のインデックスを返す\n",
    "    # 昇順なので−１をかけている -> コサイン類似度は1に近いほど類似している\n",
    "    for i in (-1 * similarity).argsort():\n",
    "        if id_to_word[i] == query:\n",
    "            continue\n",
    "        print(f'{id_to_word[i]}: {similarity[i]}')\n",
    "\n",
    "        count += 1\n",
    "\n",
    "        if count >= top:\n",
    "            return"
   ]
  },
  {
   "cell_type": "code",
   "execution_count": 242,
   "id": "4ea07a1d-0af8-410b-8818-00bdc49afcaa",
   "metadata": {},
   "outputs": [
    {
     "name": "stdout",
     "output_type": "stream",
     "text": [
      "\n",
      "[query] you\n",
      "goodbye: 0.7071067691154799\n",
      "i: 0.7071067691154799\n",
      "hello: 0.7071067691154799\n",
      "say: 0.0\n",
      "and: 0.0\n"
     ]
    }
   ],
   "source": [
    "text = 'You say goodbye and I say hello.'\n",
    "\n",
    "corpus, word_to_id, id_to_word = preprocess(text)\n",
    "vocab_size = len(word_to_id)\n",
    "C = create_co_matrix(corpus, vocab_size)\n",
    "\n",
    "most_similar('you', word_to_id, id_to_word, C)"
   ]
  },
  {
   "cell_type": "markdown",
   "id": "493425c8-d603-4331-acdc-3772e97fe13a",
   "metadata": {},
   "source": [
    "## 相互情報量"
   ]
  },
  {
   "cell_type": "code",
   "execution_count": 243,
   "id": "af73be5e-d3b0-4bb7-8c16-597cfa2c45cd",
   "metadata": {},
   "outputs": [],
   "source": [
    "def ppmi (C, verbose=False, eps=1e-8):\n",
    "    M = np.zeros_like(C, dtype=np.float32) # 変換後の入れ物\n",
    "    N = np.sum(C) # Xコーパス内の単語数 -> 共起行列の総数\n",
    "    S = np.sum(C, axis=0) # 共起行列における各単語の出現数\n",
    "    total = C.shape[0] * C.shape[1] # 共起行列の要素数\n",
    "    cnt=0\n",
    "    count=0\n",
    "    \n",
    "    # 共起行列の各要素におけるpmiを算出 -> 該当要素と同じ場所のMに格納\n",
    "    for i in range(C.shape[0]):\n",
    "        count+=1\n",
    "        for j in range(C.shape[1]):\n",
    "            pmi = np.log2(C[i, j] * N / (S[j]*S[i]) + eps) # epsは-infを避けるため\n",
    "            M[i, j] = max(0,pmi) # -inf近くの値を避けるため,0以上の値にする\n",
    "\n",
    "            if verbose:\n",
    "                cnt += 1\n",
    "                if cnt % (total // 100 + 1) == 0:\n",
    "                    print('{:.1f}% done'.format(100*cnt/total))\n",
    "\n",
    "    return M"
   ]
  },
  {
   "cell_type": "code",
   "execution_count": 244,
   "id": "64312174-4299-451b-9570-2772e594d6a0",
   "metadata": {},
   "outputs": [
    {
     "name": "stdout",
     "output_type": "stream",
     "text": [
      "vocablary\n",
      "['you', 'say', 'goodbye', 'and', 'i', 'hello', '.']\n",
      "==================================================\n",
      "co-occurence matrix\n",
      "[[0 1 0 0 0 0 0]\n",
      " [1 0 1 0 1 1 0]\n",
      " [0 1 0 1 0 0 0]\n",
      " [0 0 1 0 1 0 0]\n",
      " [0 1 0 1 0 0 0]\n",
      " [0 1 0 0 0 0 1]\n",
      " [0 0 0 0 0 1 0]]\n",
      "==================================================\n",
      "PPMI\n",
      "[[0.    1.807 0.    0.    0.    0.    0.   ]\n",
      " [1.807 0.    0.807 0.    0.807 0.807 0.   ]\n",
      " [0.    0.807 0.    1.807 0.    0.    0.   ]\n",
      " [0.    0.    1.807 0.    1.807 0.    0.   ]\n",
      " [0.    0.807 0.    1.807 0.    0.    0.   ]\n",
      " [0.    0.807 0.    0.    0.    0.    2.807]\n",
      " [0.    0.    0.    0.    0.    2.807 0.   ]]\n"
     ]
    }
   ],
   "source": [
    "text = 'You say goodbye and I say hello.'\n",
    "\n",
    "corpus, word_to_id, id_to_word = preprocess(text)\n",
    "vocab_size = len(word_to_id)\n",
    "C = create_co_matrix(corpus, vocab_size)\n",
    "W = ppmi(C) \n",
    "\n",
    "np.set_printoptions(precision=3) # 下3桁表示\n",
    "print('vocablary')\n",
    "print(list(word_to_id.keys()))\n",
    "print('='*50)\n",
    "\n",
    "print('co-occurence matrix')\n",
    "print(C)\n",
    "\n",
    "print('='*50)\n",
    "print('PPMI')\n",
    "print(W)"
   ]
  },
  {
   "cell_type": "markdown",
   "id": "5c20a0db-e217-4530-96de-4038274b75cf",
   "metadata": {},
   "source": [
    "＜問題点＞  \n",
    "・コーパスの語彙が増えると、ベクトルの次元も増えていく問題がある。  \n",
    "・疎行列 -> ロバスト性が乏しく、ノイズに弱い"
   ]
  },
  {
   "cell_type": "markdown",
   "id": "cd5ba45f-b544-4591-8f80-aaf27524faeb",
   "metadata": {},
   "source": [
    "## 次元削減"
   ]
  },
  {
   "cell_type": "code",
   "execution_count": 263,
   "id": "8d607b61-bcf9-4105-9d15-d553eeb31a74",
   "metadata": {},
   "outputs": [
    {
     "name": "stdout",
     "output_type": "stream",
     "text": [
      "[0 1 0 0 0 0 0]\n",
      "[0.    1.807 0.    0.    0.    0.    0.   ]\n",
      "[ 0.000e+00  3.409e-01 -1.205e-01 -3.886e-16 -1.110e-16 -9.323e-01\n",
      " -2.426e-17]\n"
     ]
    }
   ],
   "source": [
    "# 今回使用するのは特異値分解(SVD)\n",
    "\n",
    "\n",
    "text = 'You say goodbye and I say hello.'\n",
    "\n",
    "corpus, word_to_id, id_to_word = preprocess(text)\n",
    "vocab_size = len(word_to_id)\n",
    "C = create_co_matrix(corpus, vocab_size)\n",
    "W = ppmi(C) \n",
    "\n",
    "# SVD\n",
    "U, S, V = np.linalg.svd(W)\n",
    "\n",
    "print(C[0])\n",
    "print(W[0])\n",
    "print(U[0])\n"
   ]
  },
  {
   "cell_type": "code",
   "execution_count": 282,
   "id": "916d0a8e-1b56-49f1-b63b-2ddea8383502",
   "metadata": {},
   "outputs": [
    {
     "data": {
      "text/plain": [
       "<matplotlib.collections.PathCollection at 0x7f51301f4f70>"
      ]
     },
     "execution_count": 282,
     "metadata": {},
     "output_type": "execute_result"
    },
    {
     "data": {
      "image/png": "[encoded data removed]",
      "text/plain": [
       "<Figure size 640x480 with 1 Axes>"
      ]
     },
     "metadata": {},
     "output_type": "display_data"
    }
   ],
   "source": [
    "\n",
    "for word, word_id in word_to_id.items():\n",
    "    plt.annotate(word, (U[word_id, 1], U[word_id, 0]))\n",
    "\n",
    "plt.scatter(U[:, 1], U[:, 0], alpha=0.5)"
   ]
  },
  {
   "cell_type": "code",
   "execution_count": 276,
   "id": "22d9e296-3947-44c7-807c-f20d88737f82",
   "metadata": {},
   "outputs": [
    {
     "data": {
      "text/plain": [
       "array([[ 0.000e+00,  3.409e-01],\n",
       "       [-5.976e-01,  0.000e+00],\n",
       "       [-5.551e-17,  4.363e-01],\n",
       "       [-4.978e-01,  1.665e-16],\n",
       "       [-3.124e-17,  4.363e-01],\n",
       "       [-3.124e-17,  7.092e-01],\n",
       "       [-6.285e-01, -1.943e-16]], dtype=float32)"
      ]
     },
     "execution_count": 276,
     "metadata": {},
     "output_type": "execute_result"
    }
   ],
   "source": [
    "U[:, 0:2]"
   ]
  },
  {
   "cell_type": "markdown",
   "id": "46528bc0-e3f8-45aa-9f1f-9b6a30486186",
   "metadata": {},
   "source": [
    "## PTBデータセットk"
   ]
  },
  {
   "cell_type": "code",
   "execution_count": 284,
   "id": "e7dbf7ae-a1ae-467b-a471-a5306396d8be",
   "metadata": {},
   "outputs": [
    {
     "name": "stdout",
     "output_type": "stream",
     "text": [
      "Downloading ptb.train.txt ... \n",
      "Done\n"
     ]
    }
   ],
   "source": [
    "from hidden_others.dataset import ptb\n",
    "\n",
    "corpus, word_to_id, id_to_word = ptb.load_data('train')"
   ]
  },
  {
   "cell_type": "code",
   "execution_count": 287,
   "id": "42a19d7f-a2ec-4cd1-925a-91fa05684da7",
   "metadata": {},
   "outputs": [
    {
     "name": "stdout",
     "output_type": "stream",
     "text": [
      "corpus size: 929589\n",
      "corpus[:30] [ 0  1  2  3  4  5  6  7  8  9 10 11 12 13 14 15 16 17 18 19 20 21 22 23\n",
      " 24 25 26 27 28 29]\n",
      "\n",
      "id_to_word[0]: aer\n",
      "id_to_word[1]: banknote\n",
      "id_to_word[2]: berlitz\n",
      "\n",
      "word_to_id[car] 3856\n",
      "word_to_id[happy] 4428\n",
      "word_to_id[lexus] 7426\n"
     ]
    }
   ],
   "source": [
    "print('corpus size:', len(corpus))\n",
    "print('corpus[:30]', corpus[:30])\n",
    "print()\n",
    "print('id_to_word[0]:', id_to_word[0])\n",
    "print('id_to_word[1]:', id_to_word[1])\n",
    "print('id_to_word[2]:', id_to_word[2])\n",
    "print()\n",
    "print('word_to_id[car]', word_to_id['car'])\n",
    "print('word_to_id[happy]', word_to_id['happy'])\n",
    "print('word_to_id[lexus]', word_to_id['lexus'])\n",
    "\n",
    "\n"
   ]
  },
  {
   "cell_type": "code",
   "execution_count": 289,
   "id": "27453a96-4202-42cb-a0b1-f3fa2d6db1c6",
   "metadata": {
    "scrolled": true
   },
   "outputs": [
    {
     "name": "stdout",
     "output_type": "stream",
     "text": [
      "counting co-occurrence....\n",
      "calculating PPMI....\n",
      "1.0% done\n",
      "2.0% done\n",
      "3.0% done\n",
      "4.0% done\n",
      "5.0% done\n",
      "6.0% done\n",
      "7.0% done\n",
      "8.0% done\n",
      "9.0% done\n",
      "10.0% done\n",
      "11.0% done\n",
      "12.0% done\n",
      "13.0% done\n",
      "14.0% done\n",
      "15.0% done\n",
      "16.0% done\n",
      "17.0% done\n",
      "18.0% done\n",
      "19.0% done\n",
      "20.0% done\n",
      "21.0% done\n",
      "22.0% done\n",
      "23.0% done\n",
      "24.0% done\n",
      "25.0% done\n",
      "26.0% done\n",
      "27.0% done\n",
      "28.0% done\n",
      "29.0% done\n",
      "30.0% done\n",
      "31.0% done\n",
      "32.0% done\n",
      "33.0% done\n",
      "34.0% done\n",
      "35.0% done\n",
      "36.0% done\n",
      "37.0% done\n",
      "38.0% done\n",
      "39.0% done\n",
      "40.0% done\n",
      "41.0% done\n",
      "42.0% done\n",
      "43.0% done\n",
      "44.0% done\n",
      "45.0% done\n",
      "46.0% done\n",
      "47.0% done\n",
      "48.0% done\n",
      "49.0% done\n",
      "50.0% done\n",
      "51.0% done\n",
      "52.0% done\n",
      "53.0% done\n",
      "54.0% done\n",
      "55.0% done\n",
      "56.0% done\n",
      "57.0% done\n",
      "58.0% done\n",
      "59.0% done\n",
      "60.0% done\n",
      "61.0% done\n",
      "62.0% done\n",
      "63.0% done\n",
      "64.0% done\n",
      "65.0% done\n",
      "66.0% done\n",
      "67.0% done\n",
      "68.0% done\n",
      "69.0% done\n",
      "70.0% done\n",
      "71.0% done\n",
      "72.0% done\n",
      "73.0% done\n",
      "74.0% done\n",
      "75.0% done\n",
      "76.0% done\n",
      "77.0% done\n",
      "78.0% done\n",
      "79.0% done\n",
      "80.0% done\n",
      "81.0% done\n",
      "82.0% done\n",
      "83.0% done\n",
      "84.0% done\n",
      "85.0% done\n",
      "86.0% done\n",
      "87.0% done\n",
      "88.0% done\n",
      "89.0% done\n",
      "90.0% done\n",
      "91.0% done\n",
      "92.0% done\n",
      "93.0% done\n",
      "94.0% done\n",
      "95.0% done\n",
      "96.0% done\n",
      "97.0% done\n",
      "98.0% done\n",
      "99.0% done\n",
      "calculating SVD...\n",
      "\n",
      "[query] you\n",
      " i: 0.6578480005264282\n",
      " we: 0.6092700958251953\n",
      " do: 0.5196194052696228\n",
      " anybody: 0.497446745634079\n",
      " somebody: 0.4961112141609192\n",
      "\n",
      "[query] year\n",
      " month: 0.6607733964920044\n",
      " quarter: 0.6110071539878845\n",
      " next: 0.6108770370483398\n",
      " earlier: 0.6047606468200684\n",
      " last: 0.6036353707313538\n",
      "\n",
      "[query] car\n",
      " luxury: 0.6422609090805054\n",
      " auto: 0.6282497048377991\n",
      " cars: 0.5385127067565918\n",
      " truck: 0.5340493321418762\n",
      " corsica: 0.5303389430046082\n",
      "\n",
      "[query] toyota\n",
      " motor: 0.7271467447280884\n",
      " nissan: 0.6737128496170044\n",
      " honda: 0.66593998670578\n",
      " motors: 0.6213038563728333\n",
      " lexus: 0.6033720374107361\n"
     ]
    }
   ],
   "source": [
    "from common.util import most_similar, create_co_matrix, ppmi\n",
    "window_size = 2\n",
    "wordvec_size = 100\n",
    "\n",
    "\n",
    "corpus, word_to_id, id_to_word = ptb.load_data('train')\n",
    "vocab_size = len(word_to_id)\n",
    "print('counting co-occurrence....')\n",
    "C = create_co_matrix(corpus, vocab_size, window_size)\n",
    "print('calculating PPMI....')\n",
    "W = ppmi(C, verbose=True)\n",
    "\n",
    "print('calculating SVD...')\n",
    "try:\n",
    "    from sklearn.utils.extmath import randomized_svd\n",
    "    U, S, V = randomized_svd(W, n_components=wordvec_size, n_iter=5, random_state=None)\n",
    "except ImportError:\n",
    "    U, S, V = np.linalg.svd(W)\n",
    "\n",
    "\n",
    "word_vecs = U[:, :wordvec_size]\n",
    "\n",
    "querys = ['you', 'year', 'car', 'toyota']\n",
    "\n",
    "for query in querys:\n",
    "    most_similar(query, word_to_id, id_to_word, word_vecs, top=5)"
   ]
  },
  {
   "cell_type": "code",
   "execution_count": null,
   "id": "01110d62-aa78-4e36-ad52-fa658473a1d5",
   "metadata": {},
   "outputs": [],
   "source": []
  },
  {
   "cell_type": "code",
   "execution_count": null,
   "id": "a00f43a5-17ec-4a84-9348-1fd5eaf43272",
   "metadata": {},
   "outputs": [],
   "source": []
  },
  {
   "cell_type": "code",
   "execution_count": null,
   "id": "ddee7969-ec36-400a-b609-ffe224cf9600",
   "metadata": {},
   "outputs": [],
   "source": []
  },
  {
   "cell_type": "code",
   "execution_count": null,
   "id": "4cd2b56a-00fc-43c2-a4c2-7af65f8282b8",
   "metadata": {},
   "outputs": [],
   "source": []
  },
  {
   "cell_type": "code",
   "execution_count": null,
   "id": "84fab8a9-0672-49b8-a95a-440d4d17adbc",
   "metadata": {},
   "outputs": [],
   "source": []
  },
  {
   "cell_type": "code",
   "execution_count": null,
   "id": "ca7fcefb-d29b-45ea-be24-64a05c0699d8",
   "metadata": {},
   "outputs": [],
   "source": []
  },
  {
   "cell_type": "code",
   "execution_count": null,
   "id": "675435eb-427e-4f2e-8d09-615518cbc2a5",
   "metadata": {},
   "outputs": [],
   "source": []
  },
  {
   "cell_type": "code",
   "execution_count": null,
   "id": "b8f77354-f64f-42ad-abf7-eb93ce2bf01f",
   "metadata": {},
   "outputs": [],
   "source": []
  },
  {
   "cell_type": "code",
   "execution_count": null,
   "id": "edcb2b6d-af07-45f5-b30b-404c375e544c",
   "metadata": {},
   "outputs": [],
   "source": []
  },
  {
   "cell_type": "code",
   "execution_count": null,
   "id": "4a14ad0a-0525-4d72-b9cf-8fcf79b87bad",
   "metadata": {},
   "outputs": [],
   "source": []
  },
  {
   "cell_type": "code",
   "execution_count": null,
   "id": "6cef679f-d2dc-40e7-b0c7-484ae3ae6fc6",
   "metadata": {},
   "outputs": [],
   "source": []
  },
  {
   "cell_type": "code",
   "execution_count": null,
   "id": "a80dd2ac-7e4d-4654-893f-81e0eb3ade66",
   "metadata": {},
   "outputs": [],
   "source": []
  },
  {
   "cell_type": "code",
   "execution_count": null,
   "id": "8f670839-45d4-4f39-9633-191fabce5f3d",
   "metadata": {},
   "outputs": [],
   "source": []
  },
  {
   "cell_type": "code",
   "execution_count": null,
   "id": "0b022bb3-0fb5-42cc-a689-6ec2382e3ac2",
   "metadata": {},
   "outputs": [],
   "source": []
  },
  {
   "cell_type": "code",
   "execution_count": null,
   "id": "94886f89-b917-40e5-8116-4551dd7ffb39",
   "metadata": {},
   "outputs": [],
   "source": []
  }
 ],
 "metadata": {
  "kernelspec": {
   "display_name": "Python 3 (ipykernel)",
   "language": "python",
   "name": "python3"
  },
  "language_info": {
   "codemirror_mode": {
    "name": "ipython",
    "version": 3
   },
   "file_extension": ".py",
   "mimetype": "text/x-python",
   "name": "python",
   "nbconvert_exporter": "python",
   "pygments_lexer": "ipython3",
   "version": "3.8.18"
  }
 },
 "nbformat": 4,
 "nbformat_minor": 5
}
