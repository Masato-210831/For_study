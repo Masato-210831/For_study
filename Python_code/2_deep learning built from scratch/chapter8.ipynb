{
 "cells": [
  {
   "cell_type": "code",
   "execution_count": 22,
   "id": "40416d15-d443-4862-823b-ff2833295c19",
   "metadata": {},
   "outputs": [],
   "source": [
    "import numpy as np\n",
    "import matplotlib.pyplot as plt\n",
    "from common.layers import *"
   ]
  },
  {
   "cell_type": "code",
   "execution_count": 15,
   "id": "9683310b-104b-433f-a529-69116d7054c0",
   "metadata": {},
   "outputs": [
    {
     "name": "stdout",
     "output_type": "stream",
     "text": [
      "(5, 4)\n",
      "(5, 4)\n",
      "(4,)\n"
     ]
    }
   ],
   "source": [
    "# コンテキストベクトルの擬似計算\n",
    "\n",
    "T, H = 5, 4\n",
    "hs = np.random.randn(T, H) # 各時系列の隠れベクトル\n",
    "a = np.array([0.8, 0.1, 0.03, 0.05, 0.02]) # 各単語の重み\n",
    "\n",
    "# 重みのブロードキャスト\n",
    "ar = a.reshape(5, 1).repeat(4, axis=1)\n",
    "print(ar.shape)\n",
    "\n",
    "# 積\n",
    "t = hs *ar\n",
    "print(t.shape)\n",
    "\n",
    "# 和\n",
    "c = np.sum(t, axis=0)\n",
    "print(c.shape)"
   ]
  },
  {
   "cell_type": "code",
   "execution_count": 6,
   "id": "9c1a7982-e3fd-4bbf-9d34-7b8008d76fb0",
   "metadata": {},
   "outputs": [
    {
     "data": {
      "text/plain": [
       "array([-1.79017492,  0.30723916, -0.87767826,  0.71320593])"
      ]
     },
     "execution_count": 6,
     "metadata": {},
     "output_type": "execute_result"
    }
   ],
   "source": [
    "np.dot(a, hs) # バッチだとこの積は容易ではない。"
   ]
  },
  {
   "cell_type": "code",
   "execution_count": 8,
   "id": "a27eab9a-d0a0-4ecb-8a37-916c9c286598",
   "metadata": {},
   "outputs": [
    {
     "data": {
      "text/plain": [
       "array([-1.79017492,  0.30723916, -0.87767826,  0.71320593])"
      ]
     },
     "execution_count": 8,
     "metadata": {},
     "output_type": "execute_result"
    }
   ],
   "source": [
    "np.sum(ar * hs, axis=0)"
   ]
  },
  {
   "cell_type": "code",
   "execution_count": 13,
   "id": "66b698ce-2f37-4742-83d0-8796b10d53db",
   "metadata": {},
   "outputs": [
    {
     "data": {
      "text/plain": [
       "array([-1.79017492,  0.30723916, -0.87767826,  0.71320593])"
      ]
     },
     "execution_count": 13,
     "metadata": {},
     "output_type": "execute_result"
    }
   ],
   "source": [
    "test = a.reshape(5, 1)\n",
    "np.sum(test * hs,0)"
   ]
  },
  {
   "cell_type": "code",
   "execution_count": 19,
   "id": "1638df56-bd8b-4510-9883-6a73d49c7bb8",
   "metadata": {},
   "outputs": [
    {
     "name": "stdout",
     "output_type": "stream",
     "text": [
      "(10, 5, 4)\n",
      "(10, 4)\n"
     ]
    }
   ],
   "source": [
    "# バッチ処理の場合\n",
    "N, T, H = 10, 5, 4\n",
    "hs = np.random.randn(N, T, H)\n",
    "a = np.random.randn(N, T)\n",
    "\n",
    "ar = a.reshape(N, T, 1).repeat(H, axis = 2)\n",
    "\n",
    "t = hs * ar\n",
    "print(t.shape)\n",
    "\n",
    "c = np.sum(t, axis = 1)\n",
    "print(c.shape)"
   ]
  },
  {
   "cell_type": "code",
   "execution_count": 21,
   "id": "6a439700-2078-4e0e-9b2a-c2aa3d76037b",
   "metadata": {},
   "outputs": [],
   "source": [
    "class WeightSum:\n",
    "    def __init__(self):\n",
    "        self.params = [], self.grads = []\n",
    "        self.cache = None\n",
    "\n",
    "\n",
    "    def forward(self, hs, a):\n",
    "        N, T, H = hs.shape\n",
    "\n",
    "        ar = a.reshape(N, T, 1).repeat(H, axis= 2)\n",
    "        t = hs * ar\n",
    "        c = np.sum(t, axis=1)\n",
    "        self.cache = (hs, ar)\n",
    "        return c\n",
    "\n",
    "\n",
    "    def backward(self, dc): # dcのshape:(N, H)\n",
    "        hs, ar = self.cache\n",
    "        N, T, H = hs.shape\n",
    "        dt = dc.reshape(N, 1, H).repeat(T, axis=1)\n",
    "        dar = dt * hs\n",
    "        dhs = dt * ar\n",
    "        da = np.sum(dar, axis=2) # daのshape:(N, T)\n",
    "        return dhs, da"
   ]
  },
  {
   "cell_type": "code",
   "execution_count": 26,
   "id": "79c6a2ae-5fff-4b68-9e0a-a2d12bf92030",
   "metadata": {},
   "outputs": [
    {
     "name": "stdout",
     "output_type": "stream",
     "text": [
      "(10, 5, 4)\n",
      "(10, 5)\n",
      "(10, 5)\n"
     ]
    }
   ],
   "source": [
    "# 重みの計算\n",
    "# バッチ処理の場合\n",
    "N, T, H = 10, 5, 4\n",
    "hs = np.random.randn(N, T, H)\n",
    "h = np.random.randn(N, H)\n",
    "\n",
    "hr = h.reshape(N, 1, H).repeat(T, axis = 1)\n",
    "\n",
    "# 内積で類似を算出\n",
    "t = hs * hr\n",
    "print(t.shape)\n",
    "\n",
    "s = np.sum(t, axis = 2) # shape:(N, T)\n",
    "print(s.shape)\n",
    "\n",
    "# 確率へ\n",
    "softmax = Softmax()\n",
    "a = softmax.forward(s)\n",
    "print(a.shape)\n",
    "\n"
   ]
  },
  {
   "cell_type": "code",
   "execution_count": 27,
   "id": "91c582a3-7c38-49c8-aca8-b70897bdabaa",
   "metadata": {},
   "outputs": [],
   "source": [
    "class AttentionWeight:\n",
    "    def __init__(self):\n",
    "        self.params, self.grads = [], []\n",
    "        self.softmax = Softmax()\n",
    "        self.cache = None\n",
    "\n",
    "\n",
    "    def forward(self, hs, h):\n",
    "        N, T, H = hs.shape\n",
    "        \n",
    "        hr = h.reshape(N, 1, H).repeat(T, axis= 1)\n",
    "        t = hs * hr\n",
    "        s = np.sum(t, axis=2)\n",
    "        a = self.softmax.forward(s)\n",
    "        self.cache = (hs, hr)\n",
    "        \n",
    "        return a\n",
    "\n",
    "\n",
    "    def backward(self, da):\n",
    "        hs, hr = self.cache\n",
    "        N, T, H = hs.shape\n",
    "        \n",
    "        ds = softmax.backward(da)\n",
    "        dt = ds.reshape(N, T, 1).repeat(H, axis=2)\n",
    "        dhs = dt * hr\n",
    "        dhr = dt * hs\n",
    "        dh = np.sum(dhr, axis=1)\n",
    "        \n",
    "        return dhs, dh"
   ]
  },
  {
   "cell_type": "code",
   "execution_count": null,
   "id": "f53f0028-91bd-4154-a12c-e0df0d452b9a",
   "metadata": {},
   "outputs": [],
   "source": []
  },
  {
   "cell_type": "code",
   "execution_count": null,
   "id": "4e8734aa-5a31-4580-98d4-8835c18e495b",
   "metadata": {},
   "outputs": [],
   "source": []
  },
  {
   "cell_type": "code",
   "execution_count": null,
   "id": "da2ca002-2edd-4019-9ba5-922f39c21791",
   "metadata": {},
   "outputs": [],
   "source": []
  },
  {
   "cell_type": "code",
   "execution_count": null,
   "id": "80cee16b-8f37-4ecb-9e17-001c126598d4",
   "metadata": {},
   "outputs": [],
   "source": []
  },
  {
   "cell_type": "code",
   "execution_count": null,
   "id": "ba31d146-bae4-4887-b0a4-5698bda6fce9",
   "metadata": {},
   "outputs": [],
   "source": []
  },
  {
   "cell_type": "code",
   "execution_count": null,
   "id": "c6a06e58-c0ae-4b7e-8055-835fd567dda2",
   "metadata": {},
   "outputs": [],
   "source": []
  },
  {
   "cell_type": "code",
   "execution_count": null,
   "id": "49f29ffd-85f6-44ec-979a-e86ba055a200",
   "metadata": {},
   "outputs": [],
   "source": []
  },
  {
   "cell_type": "code",
   "execution_count": null,
   "id": "7a70acb9-2298-4d8f-a81f-1e214e9ea7dd",
   "metadata": {},
   "outputs": [],
   "source": []
  },
  {
   "cell_type": "code",
   "execution_count": null,
   "id": "7fd8dddc-eafa-4169-a4a5-50f8206b74c1",
   "metadata": {},
   "outputs": [],
   "source": []
  },
  {
   "cell_type": "code",
   "execution_count": null,
   "id": "dbe95fd8-e8e1-4982-b0bb-18f29a3a8a02",
   "metadata": {},
   "outputs": [],
   "source": []
  },
  {
   "cell_type": "code",
   "execution_count": null,
   "id": "d0e5c4d1-5141-4799-8f80-11e1a964241b",
   "metadata": {},
   "outputs": [],
   "source": []
  },
  {
   "cell_type": "code",
   "execution_count": null,
   "id": "4a5b10f4-e974-4722-bb38-0bdff94a12ac",
   "metadata": {},
   "outputs": [],
   "source": []
  },
  {
   "cell_type": "code",
   "execution_count": null,
   "id": "e2c3eeaa-737a-4e8d-9699-6662180d1946",
   "metadata": {},
   "outputs": [],
   "source": []
  },
  {
   "cell_type": "code",
   "execution_count": null,
   "id": "a68c6737-1827-4f6b-a9fb-d705d79ce833",
   "metadata": {},
   "outputs": [],
   "source": []
  }
 ],
 "metadata": {
  "kernelspec": {
   "display_name": "Python 3 (ipykernel)",
   "language": "python",
   "name": "python3"
  },
  "language_info": {
   "codemirror_mode": {
    "name": "ipython",
    "version": 3
   },
   "file_extension": ".py",
   "mimetype": "text/x-python",
   "name": "python",
   "nbconvert_exporter": "python",
   "pygments_lexer": "ipython3",
   "version": "3.8.18"
  }
 },
 "nbformat": 4,
 "nbformat_minor": 5
}
