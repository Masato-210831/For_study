{
 "cells": [
  {
   "cell_type": "code",
   "execution_count": 1,
   "id": "3297488f-a4e5-493f-a5d0-5389134b4358",
   "metadata": {},
   "outputs": [],
   "source": [
    "import numpy as np "
   ]
  },
  {
   "cell_type": "markdown",
   "id": "4f1287e5-8547-4268-b3b9-68787a7f9d06",
   "metadata": {},
   "source": [
    "## ニューラルネットワークの復習"
   ]
  },
  {
   "cell_type": "code",
   "execution_count": 6,
   "id": "cf23c68f-6381-4332-834b-7cc0fd149e1f",
   "metadata": {},
   "outputs": [
    {
     "data": {
      "text/plain": [
       "(10, 4)"
      ]
     },
     "execution_count": 6,
     "metadata": {},
     "output_type": "execute_result"
    }
   ],
   "source": [
    "w1 = np.random.randn(2, 4)\n",
    "b1 = np.random.randn(4)\n",
    "x = np.random.randn(10, 2)\n",
    "\n",
    "h = np.dot(x, w1) + b1\n",
    "\n",
    "h.shape"
   ]
  },
  {
   "cell_type": "code",
   "execution_count": 7,
   "id": "8f78b152-e731-4a03-a3ea-fc053e718805",
   "metadata": {},
   "outputs": [],
   "source": [
    "def sigmoid(x):\n",
    "    return 1 / (1 + np.exp(-x))"
   ]
  },
  {
   "cell_type": "code",
   "execution_count": 9,
   "id": "41fa69e5-4abc-4423-824d-d8d3e7d931fa",
   "metadata": {},
   "outputs": [
    {
     "data": {
      "text/plain": [
       "(10, 3)"
      ]
     },
     "execution_count": 9,
     "metadata": {},
     "output_type": "execute_result"
    }
   ],
   "source": [
    "x = np.random.randn(10, 2)\n",
    "w1 = np.random.randn(2, 4)\n",
    "b1 = np.random.randn(4)\n",
    "w2 = np.random.randn(4, 3)\n",
    "b2 = np.random.randn(3)\n",
    "\n",
    "h = np.dot(x, w1) + b1\n",
    "a = sigmoid(h)\n",
    "s = np.dot(a, w2) + b2\n",
    "s.shape"
   ]
  },
  {
   "cell_type": "code",
   "execution_count": 22,
   "id": "9e099327-76a6-43d9-bb7c-1df91f8abbcb",
   "metadata": {},
   "outputs": [],
   "source": [
    "# layerの実装\n",
    "\n",
    "# シグモイド\n",
    "class Sigmoid:\n",
    "    def __init__(self):\n",
    "        self.params = []\n",
    "\n",
    "    def forward(self, x):\n",
    "        return 1 / (1 + np.exp(-x))\n",
    "\n",
    "\n",
    "# 全結合\n",
    "class Affine:\n",
    "    def __init__(self, W, b):\n",
    "        self.params = [W, b]\n",
    "\n",
    "    def forward(self, x):\n",
    "        W, b = self.params\n",
    "        out =  np.dot(x, W) + b\n",
    "        return out"
   ]
  },
  {
   "cell_type": "code",
   "execution_count": 34,
   "id": "7d533c2a-834f-408d-9643-e1268ef0d9aa",
   "metadata": {},
   "outputs": [],
   "source": [
    "# aff -> sig -> aff\n",
    "\n",
    "class TwolayerNet:\n",
    "    def __init__(self, input_size, hidden_size, output_size):\n",
    "\n",
    "        # レイヤーの生成\n",
    "        I, H, O = input_size, hidden_size, output_size\n",
    "        w1 = np.random.randn(I, H)\n",
    "        b1 = np.random.randn(H)\n",
    "        w2 = np.random.randn(H, O)\n",
    "        b2 = np.random.randn(O)\n",
    "\n",
    "        self.layers = [\n",
    "            Affine(w1, b1),\n",
    "            Sigmoid(),\n",
    "            Affine(w2, b2)\n",
    "        ]\n",
    "\n",
    "        # パラメータをまとめる\n",
    "        self.params = []\n",
    "        for layer in self.layers:\n",
    "            self.params += layer.params\n",
    "\n",
    "    # 推論\n",
    "    def predict(self, x):\n",
    "        for layer in self.layers:\n",
    "            x = layer.forward(x)\n",
    "        return x\n",
    "        "
   ]
  },
  {
   "cell_type": "code",
   "execution_count": 35,
   "id": "7416c1d4-e0dd-445b-9c80-a725c3cc74ff",
   "metadata": {},
   "outputs": [],
   "source": [
    "# 実際に推論してみる\n",
    "x = np.random.randn(10,2)\n",
    "model = TwolayerNet(2, 4, 3)\n",
    "s = model.predict(x)"
   ]
  },
  {
   "cell_type": "code",
   "execution_count": 40,
   "id": "4f0dc575-eb3e-41f2-9002-24d17488a797",
   "metadata": {},
   "outputs": [
    {
     "data": {
      "text/plain": [
       "[array([[-0.45169862, -0.22800835, -0.97227584, -0.37928813],\n",
       "        [-2.17279999, -0.59518809,  1.96000837, -0.2470133 ]]),\n",
       " array([-0.59460211, -0.98188608,  0.62442778, -1.16866044]),\n",
       " array([[ 1.01374973, -0.37232415, -1.15848661],\n",
       "        [ 0.16891674,  0.54420896,  0.79923485],\n",
       "        [-1.88120017, -0.15914182,  0.83001465],\n",
       "        [-0.55969501,  0.6535826 ,  1.08176436]]),\n",
       " array([-1.48414064,  0.07911855, -0.16433585])]"
      ]
     },
     "execution_count": 40,
     "metadata": {},
     "output_type": "execute_result"
    }
   ],
   "source": [
    "model.params"
   ]
  },
  {
   "cell_type": "code",
   "execution_count": 41,
   "id": "f5efa1ee-d656-4069-9885-91095f06c608",
   "metadata": {},
   "outputs": [
    {
     "data": {
      "text/plain": [
       "array([[-1.07863063,  0.14960528, -0.34004083],\n",
       "       [-3.42803349,  0.09143038,  0.92831842],\n",
       "       [-1.7830109 ,  0.13630769,  0.04829085],\n",
       "       [-3.35649446,  0.07588756,  0.87139536],\n",
       "       [-2.56264729,  0.14775557,  0.49238655],\n",
       "       [-3.28752594,  0.17730357,  0.96369396],\n",
       "       [-1.00903517,  0.13910992, -0.39132568],\n",
       "       [-1.18459114,  0.12566364, -0.29887757],\n",
       "       [-1.65496377,  0.15545846, -0.01455686],\n",
       "       [-3.39700139,  0.16760898,  1.01331101]])"
      ]
     },
     "execution_count": 41,
     "metadata": {},
     "output_type": "execute_result"
    }
   ],
   "source": [
    "s"
   ]
  },
  {
   "cell_type": "code",
   "execution_count": null,
   "id": "0846b2a5-d004-4ea6-aa66-e3584db1c1ef",
   "metadata": {},
   "outputs": [],
   "source": []
  },
  {
   "cell_type": "code",
   "execution_count": null,
   "id": "4324f999-d28c-4e92-befa-b6022aeddeaf",
   "metadata": {},
   "outputs": [],
   "source": []
  },
  {
   "cell_type": "code",
   "execution_count": null,
   "id": "70e2e63d-d4b6-45d3-adae-e264000ed75b",
   "metadata": {},
   "outputs": [],
   "source": []
  },
  {
   "cell_type": "code",
   "execution_count": null,
   "id": "328db9c6-3a67-4762-b2f9-240358e20786",
   "metadata": {},
   "outputs": [],
   "source": []
  },
  {
   "cell_type": "code",
   "execution_count": null,
   "id": "5d84bb4e-09b7-4597-9900-60e7a53fc6d0",
   "metadata": {},
   "outputs": [],
   "source": []
  },
  {
   "cell_type": "code",
   "execution_count": null,
   "id": "3b8bf527-d5fd-4626-ac4c-f2cbe4a71180",
   "metadata": {},
   "outputs": [],
   "source": []
  },
  {
   "cell_type": "code",
   "execution_count": null,
   "id": "07669d04-92ea-4883-afff-c3cca09768bf",
   "metadata": {},
   "outputs": [],
   "source": []
  }
 ],
 "metadata": {
  "kernelspec": {
   "display_name": "Python 3 (ipykernel)",
   "language": "python",
   "name": "python3"
  },
  "language_info": {
   "codemirror_mode": {
    "name": "ipython",
    "version": 3
   },
   "file_extension": ".py",
   "mimetype": "text/x-python",
   "name": "python",
   "nbconvert_exporter": "python",
   "pygments_lexer": "ipython3",
   "version": "3.8.18"
  }
 },
 "nbformat": 4,
 "nbformat_minor": 5
}
