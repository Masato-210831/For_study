{
 "cells": [
  {
   "cell_type": "code",
   "execution_count": 1,
   "id": "5be4b6b1-a8aa-4e2e-836b-b2d453999f06",
   "metadata": {},
   "outputs": [],
   "source": [
    "import matplotlib.pyplot as plt\n",
    "import numpy as np \n",
    "from common.optimizer import SGD\n",
    "from hidden_others.dataset import ptb"
   ]
  },
  {
   "cell_type": "code",
   "execution_count": 2,
   "id": "1b9df9d2-257f-4ded-bade-958a933544e8",
   "metadata": {},
   "outputs": [],
   "source": [
    "class RNN:\n",
    "    def __init__(self, Wx, Wh, b):\n",
    "        self.params = [Wx, Wh, b]\n",
    "        self.grad = [np.zeros_like(Wx), np.zeros_like(Wh), np.zeros_like(b)]\n",
    "        self.cache = None\n",
    "\n",
    "\n",
    "    def forward(self, x, h_prev):\n",
    "        Wx, Wh, b = self.params\n",
    "        t = np.dot(h_prev, Wh) + np.dot(x, Wx) + b\n",
    "        h_next = np.tanh(t)\n",
    "\n",
    "        self.cache = (x, h_prev, h_next)\n",
    "        return h_next\n",
    "\n",
    "    def backward(self, dh_next):\n",
    "        Wx, Wh, b = self.params\n",
    "        x, h_prev, h_next = self.cache\n",
    "\n",
    "        dt = dh_next * (1 - df_next**2)\n",
    "        db = np.sum(dt, axis=0)\n",
    "        dWh = np.dot(h_prev.T, dt)\n",
    "        dh_prev = np.dot(dt, Wh.T)\n",
    "        dWx = np.dot(x.T ,dt)\n",
    "        dx = np.dot(dt, Wx.T)\n",
    "\n",
    "        self.grad[0][...] = dWx\n",
    "        self.grad[1][...] = dWh\n",
    "        self.grad[2][...] = db\n",
    "\n",
    "        return dx, dh_prev"
   ]
  },
  {
   "cell_type": "code",
   "execution_count": 31,
   "id": "8d18ffc7-f787-4552-b1c6-ae530d53b772",
   "metadata": {},
   "outputs": [],
   "source": [
    "class TimeRNN:\n",
    "    def __init__(self, Wx, Wh, b, stateful=False):\n",
    "        self.params = [Wx, Wh, b]\n",
    "        self.grad =[np.zeros_like(Wx), np.zeros_like(Wh), np.zeros_like(b)]\n",
    "        self.layers = None\n",
    "\n",
    "        self.h, self.dh = None, None\n",
    "        self.stateful = stateful\n",
    "\n",
    "    def set_state(self, h):\n",
    "        self.h = h\n",
    "\n",
    "    def reset_state(self):\n",
    "        self.h = None\n",
    "\n",
    "    def forward(self, xs):\n",
    "        Wx, Wh, b = self.params\n",
    "        N, T, D = xs.shape # N:バッチ数, T:時系列データ数, D:次元数\n",
    "        D, H = Wx.shape\n",
    "\n",
    "        self.layers = []\n",
    "        hs = np.empty((N, T, H), dtype='f')\n",
    "\n",
    "        if not self.stateful or self.h is None:\n",
    "            self.h = np.zeros((N, H), dtype='f')\n",
    "\n",
    "        for t in range(T): # バッチのt時間を対象にする\n",
    "            layer = RNN(*self.params)\n",
    "            self.h = layer.forward(xs[:, t, :], self.h) # prev_h -> next_hへ\n",
    "            hs[:, t, :] = self.h\n",
    "            self.layers.append(layer)\n",
    "\n",
    "        return hs\n",
    "\n",
    "\n",
    "    def backward(self, dhs):\n",
    "        Ws, Wh, b = self.params.shape\n",
    "        N, T, D = dhs.shape\n",
    "        D, H = Wx.shape\n",
    "\n",
    "        dxs = np.empty((N, T, D), dtype='f')\n",
    "        dh = 0\n",
    "        grads = [0, 0, 0]\n",
    "        for t in reverse(range(T)):\n",
    "            layer = self.layers[t]\n",
    "            dx, dh = layer.backward(dhs[:, t, :] + dh)\n",
    "            dxs[:, t, :] = dx\n",
    "\n",
    "            for i, grad in enumerate(layer.grads):\n",
    "                grads[i] += grad\n",
    "\n",
    "        for i, grad in enumerate(grads):\n",
    "            self.grads[i][...] = grad\n",
    "        self.dh = dh # self.dhはseq2seqで使用\n",
    "\n",
    "        return dxs"
   ]
  },
  {
   "cell_type": "code",
   "execution_count": 32,
   "id": "d521e718-ff1c-45e8-a5de-5dac9818922b",
   "metadata": {},
   "outputs": [
    {
     "data": {
      "text/plain": [
       "array([[0, 0],\n",
       "       [1, 1],\n",
       "       [0, 0],\n",
       "       [0, 0]])"
      ]
     },
     "execution_count": 32,
     "metadata": {},
     "output_type": "execute_result"
    }
   ],
   "source": [
    "a = np.array([[0, 0], [1, 1]])\n",
    "idx = np.array([0, 1, 0, 0])\n",
    "\n",
    "a[idx]"
   ]
  },
  {
   "cell_type": "code",
   "execution_count": 33,
   "id": "8a64e834-a7a0-4cbe-a198-bcebd4624582",
   "metadata": {},
   "outputs": [
    {
     "data": {
      "text/plain": [
       "array([0, 1])"
      ]
     },
     "execution_count": 33,
     "metadata": {},
     "output_type": "execute_result"
    }
   ],
   "source": [
    "a[:, 1]"
   ]
  },
  {
   "cell_type": "code",
   "execution_count": 34,
   "id": "26ec19bd-ff5c-43fc-b653-7ff47704372e",
   "metadata": {},
   "outputs": [
    {
     "data": {
      "text/plain": [
       "array([0, 1])"
      ]
     },
     "execution_count": 34,
     "metadata": {},
     "output_type": "execute_result"
    }
   ],
   "source": [
    "a[np.arange(2), [0, 1]]"
   ]
  },
  {
   "cell_type": "code",
   "execution_count": 30,
   "id": "57e318e1-5f8e-4a0f-af74-6db858462c4c",
   "metadata": {},
   "outputs": [
    {
     "data": {
      "text/plain": [
       "array([[0, 0],\n",
       "       [1, 1]])"
      ]
     },
     "execution_count": 30,
     "metadata": {},
     "output_type": "execute_result"
    }
   ],
   "source": [
    "a"
   ]
  },
  {
   "cell_type": "code",
   "execution_count": 9,
   "id": "d737e70e-5b99-415f-99e9-4ab0605bd4dd",
   "metadata": {},
   "outputs": [],
   "source": [
    "# RNNLM\n",
    "\n",
    "from common.time_layers import *\n",
    "\n",
    "class SimpleRnnlm:\n",
    "    def __init__(self, vocab_size, wordvec_size, hidden_size):\n",
    "        V, D, H = vocab_size, wordvec_size, hidden_size\n",
    "        rn = np.random.randn\n",
    "\n",
    "        # 重みの初期化\n",
    "        embed_W = (rn(V, D) / 100).astype('f')\n",
    "        rnn_Wx = (rn(D, H) / np.sqrt(D)).astype('f')\n",
    "        rnn_Wh = (rn(H, H) / np.sqrt(H)).astype('f')\n",
    "        rnn_b = np.zeros(H).astype('f')\n",
    "        affine_W = (rn(H, V) / np.sqrt(H)).astype('f')\n",
    "        affine_b = np.zeros(V).astype('f')\n",
    "\n",
    "        \n",
    "        # レイヤーの生成\n",
    "        self.layers = [\n",
    "            TimeEmbedding(embed_W),\n",
    "            TimeRNN(rnn_Wh, rnn_Wx, rnn_b, stateful=True),\n",
    "            TimeAffine(affine_W, affine_b)\n",
    "        ]\n",
    "\n",
    "        self.loss_layer = TimeSoftmaxWithLoss()\n",
    "        self.rnn_layer = self.layers[1]\n",
    "\n",
    "\n",
    "        # 全ての重みと勾配をリストにまとめる\n",
    "        self.params, self.grads = [], []\n",
    "        for layer in self.layers:\n",
    "            self.params += layer.params\n",
    "            self.grads += layer.grads\n",
    "\n",
    "\n",
    "    # 順伝播\n",
    "    def forward(self, xs, ts):\n",
    "        for layer in self.layers:\n",
    "            xs = layer.forward(xs)\n",
    "        loss = self.loss_layer.forward(xs, ts)\n",
    "        return loss\n",
    "\n",
    "\n",
    "    # バックプロパゲーション\n",
    "    def backward(self, dout=1):\n",
    "        dout = self.loss_layer.backward(dout)\n",
    "        for layer in reversed(self.layers):\n",
    "            dout = layer.backward(dout)\n",
    "\n",
    "        return dout\n",
    "\n",
    "    # Time_RNNのhの保持を止める\n",
    "    def reset_state(self):\n",
    "        self.rnn_layer.reset_state()\n",
    "\n",
    "    "
   ]
  },
  {
   "cell_type": "code",
   "execution_count": 41,
   "id": "d7b74fff-f7f2-47c4-b459-4ce4dc150b85",
   "metadata": {
    "scrolled": true
   },
   "outputs": [
    {
     "name": "stdout",
     "output_type": "stream",
     "text": [
      "corpus size:1000, vocabulary size: 418\n",
      "| epoxh 0 | perplexity 343.26\n",
      "| epoxh 1 | perplexity 236.77\n",
      "| epoxh 2 | perplexity 213.48\n",
      "| epoxh 3 | perplexity 207.78\n",
      "| epoxh 4 | perplexity 199.09\n",
      "| epoxh 5 | perplexity 192.96\n",
      "| epoxh 6 | perplexity 178.93\n",
      "| epoxh 7 | perplexity 173.76\n",
      "| epoxh 8 | perplexity 161.14\n",
      "| epoxh 9 | perplexity 147.17\n",
      "| epoxh 10 | perplexity 134.32\n",
      "| epoxh 11 | perplexity 120.88\n",
      "| epoxh 12 | perplexity 108.37\n",
      "| epoxh 13 | perplexity 103.23\n",
      "| epoxh 14 | perplexity 91.28\n",
      "| epoxh 15 | perplexity 84.49\n",
      "| epoxh 16 | perplexity 76.81\n",
      "| epoxh 17 | perplexity 70.00\n",
      "| epoxh 18 | perplexity 66.20\n",
      "| epoxh 19 | perplexity 63.85\n",
      "| epoxh 20 | perplexity 58.59\n",
      "| epoxh 21 | perplexity 53.05\n",
      "| epoxh 22 | perplexity 50.13\n",
      "| epoxh 23 | perplexity 47.48\n",
      "| epoxh 24 | perplexity 43.42\n",
      "| epoxh 25 | perplexity 41.61\n",
      "| epoxh 26 | perplexity 37.84\n",
      "| epoxh 27 | perplexity 35.94\n",
      "| epoxh 28 | perplexity 33.43\n",
      "| epoxh 29 | perplexity 31.36\n",
      "| epoxh 30 | perplexity 29.20\n",
      "| epoxh 31 | perplexity 28.25\n",
      "| epoxh 32 | perplexity 26.90\n",
      "| epoxh 33 | perplexity 25.12\n",
      "| epoxh 34 | perplexity 23.52\n",
      "| epoxh 35 | perplexity 21.99\n",
      "| epoxh 36 | perplexity 20.36\n",
      "| epoxh 37 | perplexity 19.43\n",
      "| epoxh 38 | perplexity 18.42\n",
      "| epoxh 39 | perplexity 17.56\n",
      "| epoxh 40 | perplexity 16.59\n",
      "| epoxh 41 | perplexity 15.20\n",
      "| epoxh 42 | perplexity 14.44\n",
      "| epoxh 43 | perplexity 13.86\n",
      "| epoxh 44 | perplexity 12.56\n",
      "| epoxh 45 | perplexity 12.42\n",
      "| epoxh 46 | perplexity 11.29\n",
      "| epoxh 47 | perplexity 10.69\n",
      "| epoxh 48 | perplexity 10.30\n",
      "| epoxh 49 | perplexity 9.54\n",
      "| epoxh 50 | perplexity 9.14\n",
      "| epoxh 51 | perplexity 8.56\n",
      "| epoxh 52 | perplexity 8.24\n",
      "| epoxh 53 | perplexity 7.83\n",
      "| epoxh 54 | perplexity 7.43\n",
      "| epoxh 55 | perplexity 6.95\n",
      "| epoxh 56 | perplexity 6.57\n",
      "| epoxh 57 | perplexity 6.39\n",
      "| epoxh 58 | perplexity 6.00\n",
      "| epoxh 59 | perplexity 5.72\n",
      "| epoxh 60 | perplexity 5.49\n",
      "| epoxh 61 | perplexity 5.25\n",
      "| epoxh 62 | perplexity 4.97\n",
      "| epoxh 63 | perplexity 4.72\n",
      "| epoxh 64 | perplexity 4.54\n",
      "| epoxh 65 | perplexity 4.37\n",
      "| epoxh 66 | perplexity 4.18\n",
      "| epoxh 67 | perplexity 3.97\n",
      "| epoxh 68 | perplexity 3.82\n",
      "| epoxh 69 | perplexity 3.67\n",
      "| epoxh 70 | perplexity 3.53\n",
      "| epoxh 71 | perplexity 3.38\n",
      "| epoxh 72 | perplexity 3.28\n",
      "| epoxh 73 | perplexity 3.15\n",
      "| epoxh 74 | perplexity 3.09\n",
      "| epoxh 75 | perplexity 2.92\n",
      "| epoxh 76 | perplexity 2.81\n",
      "| epoxh 77 | perplexity 2.74\n",
      "| epoxh 78 | perplexity 2.64\n",
      "| epoxh 79 | perplexity 2.57\n",
      "| epoxh 80 | perplexity 2.51\n",
      "| epoxh 81 | perplexity 2.44\n",
      "| epoxh 82 | perplexity 2.33\n",
      "| epoxh 83 | perplexity 2.29\n",
      "| epoxh 84 | perplexity 2.22\n",
      "| epoxh 85 | perplexity 2.14\n",
      "| epoxh 86 | perplexity 2.13\n",
      "| epoxh 87 | perplexity 2.02\n",
      "| epoxh 88 | perplexity 2.00\n",
      "| epoxh 89 | perplexity 1.95\n",
      "| epoxh 90 | perplexity 1.91\n",
      "| epoxh 91 | perplexity 1.86\n",
      "| epoxh 92 | perplexity 1.83\n",
      "| epoxh 93 | perplexity 1.80\n",
      "| epoxh 94 | perplexity 1.77\n",
      "| epoxh 95 | perplexity 1.72\n",
      "| epoxh 96 | perplexity 1.68\n",
      "| epoxh 97 | perplexity 1.65\n",
      "| epoxh 98 | perplexity 1.64\n",
      "| epoxh 99 | perplexity 1.61\n"
     ]
    }
   ],
   "source": [
    "# hyperparams\n",
    "batch_size = 10\n",
    "wordvec_size = 100\n",
    "hidden_size = 100 # hの要素数\n",
    "time_size = 5 # truncated BPTTの時間サイズ\n",
    "lr = 0.1\n",
    "max_epoch = 100\n",
    "\n",
    "# 学習データ\n",
    "corpus, word_to_id, id_to_word = ptb.load_data('train')\n",
    "corpus_size = 1000\n",
    "corpus = corpus[:corpus_size]\n",
    "vocab_size = int(max(corpus)+1)\n",
    "\n",
    "\n",
    "xs = corpus[1:]\n",
    "ts = corpus[:-1]\n",
    "data_size = len(xs)\n",
    "\n",
    "print(f\"corpus size:{corpus_size}, vocabulary size: {vocab_size}\")\n",
    "\n",
    "\n",
    "# 学習時の変数\n",
    "max_iters = data_size // (batch_size * time_size) # 何回iterを回したらdatasetに達するのか, batch_size*time_sizeでtime_RNNの１ブロックを示している \n",
    "time_idx = 0\n",
    "total_loss = 0\n",
    "loss_count = 0\n",
    "\n",
    "ppl_list = []\n",
    "\n",
    "\n",
    "# モデル\n",
    "model = SimpleRnnlm(vocab_size, wordvec_size, hidden_size)\n",
    "optimizer = SGD(lr)\n",
    "\n",
    "# 各ミニバッチの各サンプルの読み込み開始地点\n",
    "jump = (corpus_size - 1) // batch_size\n",
    "offsets = [i * jump for i in range(batch_size)]\n",
    "\n",
    "for epoch in range(max_epoch):\n",
    "    for iter in range(max_iters):\n",
    "        # ミニバッチ\n",
    "        batch_x = np.empty((batch_size, time_size), dtype='i')\n",
    "        batch_t = np.empty((batch_size, time_size), dtype='i')\n",
    "        for t in range(time_size):\n",
    "            for i, offset in enumerate(offsets):\n",
    "                batch_x[i, t] = xs[(offset + time_idx) % data_size] # batchの各バッチのt0からt9の列を順々に埋めていっている\n",
    "                batch_t[i, t] = ts[(offset + time_idx) % data_size] # time_idxをiter間で保持することで次のブロックの開始位置を取得する\n",
    "            time_idx += 1 # 1 全datasizeを超えるとdata_sizeで割れて0からのデータ取得になる　\n",
    "\n",
    "        # 勾配計算＝＞更新\n",
    "        loss = model.forward(batch_x, batch_t)\n",
    "        model.backward()\n",
    "        optimizer.update(model.params, model.grads)\n",
    "        total_loss += loss\n",
    "        loss_count += 1\n",
    "\n",
    "    # エポックごとのperplexity\n",
    "    ppl = np.exp(total_loss / loss_count)\n",
    "    print(f\"| epoxh {epoch} | perplexity { ppl :.2f}\")\n",
    "    ppl_list.append(float(ppl))\n",
    "    total_loss, loss_count = 0, 0"
   ]
  },
  {
   "cell_type": "code",
   "execution_count": 50,
   "id": "d07c999e-ed6d-428f-9012-7f41c3da2411",
   "metadata": {},
   "outputs": [
    {
     "data": {
      "text/plain": [
       "[<matplotlib.lines.Line2D at 0x7f005e1da910>]"
      ]
     },
     "execution_count": 50,
     "metadata": {},
     "output_type": "execute_result"
    },
    {
     "data": {
      "image/png": "[encoded data removed]",
      "text/plain": [
       "<Figure size 640x480 with 1 Axes>"
      ]
     },
     "metadata": {},
     "output_type": "display_data"
    }
   ],
   "source": [
    "plt.plot(np.arange(len(ppl_list)), ppl_list)"
   ]
  },
  {
   "cell_type": "code",
   "execution_count": null,
   "id": "9475a285-6a2c-4135-bd77-6a4e0180db4c",
   "metadata": {
    "scrolled": true
   },
   "outputs": [],
   "source": []
  },
  {
   "cell_type": "code",
   "execution_count": null,
   "id": "62c00569-6d8d-4a34-991e-39c044ba2eea",
   "metadata": {},
   "outputs": [],
   "source": []
  },
  {
   "cell_type": "code",
   "execution_count": null,
   "id": "50916c41-2427-4777-a66e-7ba39f4fc18c",
   "metadata": {},
   "outputs": [],
   "source": []
  },
  {
   "cell_type": "code",
   "execution_count": null,
   "id": "349b203a-cd55-4d68-94fb-e7c32e4918ec",
   "metadata": {},
   "outputs": [],
   "source": []
  }
 ],
 "metadata": {
  "kernelspec": {
   "display_name": "Python 3 (ipykernel)",
   "language": "python",
   "name": "python3"
  },
  "language_info": {
   "codemirror_mode": {
    "name": "ipython",
    "version": 3
   },
   "file_extension": ".py",
   "mimetype": "text/x-python",
   "name": "python",
   "nbconvert_exporter": "python",
   "pygments_lexer": "ipython3",
   "version": "3.8.18"
  }
 },
 "nbformat": 4,
 "nbformat_minor": 5
}
