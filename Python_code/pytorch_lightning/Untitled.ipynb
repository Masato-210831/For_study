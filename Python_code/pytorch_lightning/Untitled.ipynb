{
 "cells": [
  {
   "cell_type": "code",
   "execution_count": 2,
   "id": "1a010a3c-7713-4175-9745-81541089576b",
   "metadata": {},
   "outputs": [],
   "source": [
    "from enum import Enum\n",
    "class _CompanyKey(Enum):\n",
    "    ID = 'id'\n",
    "    NAME = 'name'\n",
    "    CREATOR_ID = 'creator_id'\n",
    "    CREATED_AT = 'created_at'\n",
    "    UPDATED_AT = 'updated_at'"
   ]
  },
  {
   "cell_type": "code",
   "execution_count": 8,
   "id": "1576b4a3-f43b-4430-a211-a224c4464be4",
   "metadata": {},
   "outputs": [
    {
     "data": {
      "text/plain": [
       "<_CompanyKey.ID: 'id'>"
      ]
     },
     "execution_count": 8,
     "metadata": {},
     "output_type": "execute_result"
    }
   ],
   "source": [
    "_CompanyKey.ID"
   ]
  },
  {
   "cell_type": "code",
   "execution_count": 21,
   "id": "d7578ebd-5c63-49dd-ac31-efaa7606d85c",
   "metadata": {},
   "outputs": [],
   "source": [
    "creators_dummy_data = [\n",
    "    {\n",
    "        \"id\": 1,\n",
    "        \"name\": \"仮作者名1\",\n",
    "        \"updated_at\": \"2024-01-01\",\n",
    "        \"created_at\": \"2024-01-01\",\n",
    "    },\n",
    "    {\n",
    "        \"id\": 2,\n",
    "        \"name\": \"仮作者名2\",\n",
    "        \"updated_at\": \"2024-01-01\",\n",
    "        \"created_at\": \"2024-01-01\",\n",
    "    },\n",
    "]\n",
    "\n",
    "companies_dummy_data = [\n",
    "    {\n",
    "        \"id\": 1,\n",
    "        \"name\": \"仮会社名1\",\n",
    "        \"creator\": \"仮作者名1\",\n",
    "        \"updated_at\": \"2024-01-01\",\n",
    "        \"created_at\": \"2024-01-01\",\n",
    "    },\n",
    "    {\n",
    "        \"id\": 2,\n",
    "        \"name\": \"仮会社名2\",\n",
    "        \"creator\": \"仮作者名2\",\n",
    "        \"updated_at\": \"2024-01-01\",\n",
    "        \"created_at\": \"2024-01-01\",\n",
    "    },\n",
    "]\n",
    "\n",
    "sources_dummy_data = [\n",
    "    {\n",
    "        \"id\": 1,\n",
    "        \"company_id\": 1,\n",
    "        \"title\": \"仮タイトル1\",\n",
    "        \"link\": \"https://example1.com\",\n",
    "        \"is_deleted\": False,\n",
    "        \"updated_at\": \"2024-01-01\",\n",
    "        \"created_at\": \"2024-01-01\",\n",
    "    },\n",
    "    {\n",
    "        \"id\": 2,\n",
    "        \"company_id\": 2,\n",
    "        \"title\": \"仮タイトル2\",\n",
    "        \"link\": \"https://example2.com\",\n",
    "        \"is_deleted\": True,\n",
    "        \"updated_at\": \"2024-01-01\",\n",
    "        \"created_at\": \"2024-01-01\",\n",
    "    },\n",
    "]\n",
    "\n",
    "speech_transcriptions_dummy_data = [\n",
    "    {\n",
    "        \"id\": 1,\n",
    "        \"source_id\": 1,\n",
    "        \"sst_id\": \"537216f8-0620-4a10-ae2d-00bdb423b36f\",\n",
    "        \"created_at\": \"2024-01-01\",\n",
    "    },\n",
    "    {\n",
    "        \"id\": 2,\n",
    "        \"source_id\": 2,\n",
    "        \"sst_id\": \"537216f8-0620-4a10-ae0d-00bdb000b00f\",\n",
    "        \"created_at\": \"2024-01-01\",\n",
    "    },\n",
    "]\n",
    "\n",
    "prompts_dummy_data = [\n",
    "    {\n",
    "        \"id\": 1,\n",
    "        \"company_id\": 1,\n",
    "        \"category\": \"category1\",\n",
    "        \"is_deleted\": False,\n",
    "        \"created_at\": \"2024-01-01\",\n",
    "        \"updated_at\": \"2024-01-01\",\n",
    "    },\n",
    "    {\n",
    "        \"id\": 2,\n",
    "        \"company_id\": 2,\n",
    "        \"category\": \"category2\",\n",
    "        \"is_deleted\": True,\n",
    "        \"created_at\": \"2024-01-01\",\n",
    "        \"updated_at\": \"2024-01-01\",\n",
    "    },\n",
    "]\n",
    "\n",
    "prompt_histories_dummy_data = [\n",
    "    {\n",
    "        \"id\": 1,\n",
    "        \"prompt_id\": 1,\n",
    "        \"prompt\": \"仮プロンプト1\",\n",
    "        \"created_at\": \"2024-01-01\",\n",
    "    },\n",
    "    {\n",
    "        \"id\": 2,\n",
    "        \"prompt_id\": 2,\n",
    "        \"prompt\": \"仮プロンプト2\",\n",
    "        \"created_at\": \"2024-01-01\",\n",
    "    },\n",
    "]\n",
    "\n",
    "themes_dummy_data = [\n",
    "    {\n",
    "        \"id\": 1,\n",
    "        \"source_id\": 1,\n",
    "        \"category\": \"category1\",\n",
    "        \"theme\": \"仮テーマ1\",\n",
    "        \"is_deleted\": False,\n",
    "        \"updated_at\": \"2024-01-01\",\n",
    "        \"created_at\": \"2024-01-01\",\n",
    "    },\n",
    "    {\n",
    "        \"id\": 2,\n",
    "        \"source_id\": 1,\n",
    "        \"category\": \"category1\",\n",
    "        \"theme\": \"仮テーマ2\",\n",
    "        \"is_deleted\": True,\n",
    "        \"updated_at\": \"2024-01-01\",\n",
    "        \"created_at\": \"2024-01-01\",\n",
    "    },\n",
    "]\n",
    "\n",
    "transcriptions_dummy_data = [\n",
    "    {\n",
    "        \"id\": 1,\n",
    "        \"source_id\": 1,\n",
    "        \"transcription\": \"仮文字起こし1\",\n",
    "        \"created_at\": \"2024-01-01\",\n",
    "    },\n",
    "    {\n",
    "        \"id\": 2,\n",
    "        \"source_id\": 2,\n",
    "        \"transcription\": \"仮文字起こし2\",\n",
    "        \"created_at\": \"2024-01-01\",\n",
    "    },\n",
    "]\n",
    "\n",
    "\n",
    "contents_dummy_data = [\n",
    "    {\n",
    "        \"id\": 1,\n",
    "        \"transcription_id\": 1,\n",
    "        \"theme_id\": 1,\n",
    "        \"template\": \"仮テンプレート1\",\n",
    "        \"prompt_id\": 1,\n",
    "        \"created_at\": \"2024-01-01\",\n",
    "    },\n",
    "    {\n",
    "        \"id\": 2,\n",
    "        \"transcription_id\": 1,\n",
    "        \"theme_id\": 1,\n",
    "        \"template\": \"仮テンプレート2\",\n",
    "        \"prompt_id\": 1,\n",
    "        \"created_at\": \"2024-01-01\",\n",
    "    },\n",
    "]\n",
    "\n",
    "dummy_data_list = [\n",
    "    creators_dummy_data,\n",
    "    companies_dummy_data,\n",
    "    sources_dummy_data,\n",
    "    speech_transcriptions_dummy_data,\n",
    "    prompts_dummy_data,\n",
    "    prompt_histories_dummy_data,\n",
    "    themes_dummy_data,\n",
    "    transcriptions_dummy_data,\n",
    "    contents_dummy_data,\n",
    "]"
   ]
  },
  {
   "cell_type": "code",
   "execution_count": 10,
   "id": "4c8c28d6-263e-4a7a-985e-96bd2a5e1987",
   "metadata": {},
   "outputs": [],
   "source": [
    "CONTAINERS_NAME = [\n",
    "    \"creators\",\n",
    "    \"companies\",\n",
    "    \"sources\",\n",
    "    \"speech_transcriptions\",\n",
    "    \"prompts\",\n",
    "    \"prompt_histories\",\n",
    "    \"themes\",\n",
    "    \"transcriptions\",\n",
    "    \"contents\",\n",
    "]\n"
   ]
  },
  {
   "cell_type": "code",
   "execution_count": 27,
   "id": "883ac0f3-1d42-4ba0-8d7a-48d60310b0a7",
   "metadata": {},
   "outputs": [],
   "source": [
    "dummy_datas = []\n",
    "\n",
    "for container_name, dummy_data in zip(CONTAINERS_NAME[:2], dummy_data_list[:2]):\n",
    "    dummy_datas.append({container_name: dummy_data})"
   ]
  },
  {
   "cell_type": "code",
   "execution_count": 28,
   "id": "b537767b-78b7-46dc-ada8-cf6451ae1b41",
   "metadata": {},
   "outputs": [
    {
     "data": {
      "text/plain": [
       "[{'creators': [{'id': 1,\n",
       "    'name': '仮作者名1',\n",
       "    'updated_at': '2024-01-01',\n",
       "    'created_at': '2024-01-01'},\n",
       "   {'id': 2,\n",
       "    'name': '仮作者名2',\n",
       "    'updated_at': '2024-01-01',\n",
       "    'created_at': '2024-01-01'}]},\n",
       " {'companies': [{'id': 1,\n",
       "    'name': '仮会社名1',\n",
       "    'creator': '仮作者名1',\n",
       "    'updated_at': '2024-01-01',\n",
       "    'created_at': '2024-01-01'},\n",
       "   {'id': 2,\n",
       "    'name': '仮会社名2',\n",
       "    'creator': '仮作者名2',\n",
       "    'updated_at': '2024-01-01',\n",
       "    'created_at': '2024-01-01'}]}]"
      ]
     },
     "execution_count": 28,
     "metadata": {},
     "output_type": "execute_result"
    }
   ],
   "source": [
    "dummy_datas"
   ]
  },
  {
   "cell_type": "code",
   "execution_count": 40,
   "id": "fee3a4c1-17b6-4c72-9495-e0011f8fb4f3",
   "metadata": {},
   "outputs": [
    {
     "ename": "AttributeError",
     "evalue": "'dict_keys' object has no attribute 'value'",
     "output_type": "error",
     "traceback": [
      "\u001b[0;31m---------------------------------------------------------------------------\u001b[0m",
      "\u001b[0;31mAttributeError\u001b[0m                            Traceback (most recent call last)",
      "Cell \u001b[0;32mIn[40], line 2\u001b[0m\n\u001b[1;32m      1\u001b[0m \u001b[38;5;28;01mfor\u001b[39;00m dummy \u001b[38;5;129;01min\u001b[39;00m dummy_datas:\n\u001b[0;32m----> 2\u001b[0m     \u001b[38;5;28mprint\u001b[39m(\u001b[43mdummy\u001b[49m\u001b[38;5;241;43m.\u001b[39;49m\u001b[43mkeys\u001b[49m\u001b[43m(\u001b[49m\u001b[43m)\u001b[49m\u001b[38;5;241;43m.\u001b[39;49m\u001b[43mvalue\u001b[49m)\n",
      "\u001b[0;31mAttributeError\u001b[0m: 'dict_keys' object has no attribute 'value'"
     ]
    }
   ],
   "source": [
    "for dummy in dummy_datas:\n",
    "    print(dummy.keys().)"
   ]
  },
  {
   "cell_type": "code",
   "execution_count": 20,
   "id": "b0408be2-460c-4ed6-afbe-85b0f38257b0",
   "metadata": {},
   "outputs": [
    {
     "data": {
      "text/plain": [
       "[{'id': 1,\n",
       "  'name': '仮作者名1',\n",
       "  'updated_at': '2024-01-01',\n",
       "  'created_at': '2024-01-01'},\n",
       " {'id': 2,\n",
       "  'name': '仮作者名2',\n",
       "  'updated_at': '2024-01-01',\n",
       "  'created_at': '2024-01-01'},\n",
       " {'creators': [...]}]"
      ]
     },
     "execution_count": 20,
     "metadata": {},
     "output_type": "execute_result"
    }
   ],
   "source": [
    "creators_dummy_data"
   ]
  },
  {
   "cell_type": "code",
   "execution_count": null,
   "id": "f81e6dcc-79e1-4db2-ae71-dcd3a6092a69",
   "metadata": {},
   "outputs": [],
   "source": []
  },
  {
   "cell_type": "code",
   "execution_count": null,
   "id": "8bab1b3b-5cc3-4287-bf44-cd2794885295",
   "metadata": {},
   "outputs": [],
   "source": []
  },
  {
   "cell_type": "code",
   "execution_count": null,
   "id": "b5b11a90-db59-4fb1-8742-3e5e287109be",
   "metadata": {},
   "outputs": [],
   "source": []
  }
 ],
 "metadata": {
  "kernelspec": {
   "display_name": "Python 3 (ipykernel)",
   "language": "python",
   "name": "python3"
  },
  "language_info": {
   "codemirror_mode": {
    "name": "ipython",
    "version": 3
   },
   "file_extension": ".py",
   "mimetype": "text/x-python",
   "name": "python",
   "nbconvert_exporter": "python",
   "pygments_lexer": "ipython3",
   "version": "3.8.20"
  }
 },
 "nbformat": 4,
 "nbformat_minor": 5
}
