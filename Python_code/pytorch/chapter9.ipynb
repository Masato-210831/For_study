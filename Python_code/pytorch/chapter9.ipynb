{
 "cells": [
  {
   "cell_type": "code",
   "execution_count": 3,
   "id": "dd9a1bd1-7d40-471c-8e43-9cc1e29a8e74",
   "metadata": {},
   "outputs": [],
   "source": [
    "import numpy as np\n",
    "import matplotlib.pyplot as plt\n",
    "import torch \n",
    "from torch import nn\n",
    "import torchvision"
   ]
  },
  {
   "cell_type": "code",
   "execution_count": 4,
   "id": "8fddb40b-e510-4d62-b41e-a58c0f592435",
   "metadata": {},
   "outputs": [],
   "source": [
    "conv1 = nn.Conv2d(3, 32, 3)\n",
    "relu = nn.ReLU()\n",
    "conv2 = nn.Conv2d(32, 32, 3)\n",
    "maxpool = nn.MaxPool2d(2)"
   ]
  },
  {
   "cell_type": "code",
   "execution_count": 12,
   "id": "b2037305-4ed9-4f51-83bf-b0e12761b0f3",
   "metadata": {},
   "outputs": [
    {
     "name": "stdout",
     "output_type": "stream",
     "text": [
      "Conv2d(3, 32, kernel_size=(3, 3), stride=(1, 1))\n",
      "torch.Size([32, 3, 3, 3])\n",
      "torch.Size([32])\n",
      "\n",
      "--------------\n",
      "\n",
      "Conv2d(32, 32, kernel_size=(3, 3), stride=(1, 1))\n",
      "torch.Size([32, 32, 3, 3])\n",
      "torch.Size([32])\n"
     ]
    }
   ],
   "source": [
    "# 各weight, biasの確認\n",
    "print(conv1)\n",
    "print(conv1.weight.shape)\n",
    "print(conv1.bias.shape)\n",
    "\n",
    "print('\\n--------------\\n')\n",
    "\n",
    "# conv2d\n",
    "print(conv2)\n",
    "print(conv2.weight.shape)\n",
    "print(conv2.bias.shape)\n"
   ]
  },
  {
   "cell_type": "code",
   "execution_count": 20,
   "id": "f31fa5a3-1e58-46f1-925b-b19b73e68a43",
   "metadata": {},
   "outputs": [
    {
     "name": "stdout",
     "output_type": "stream",
     "text": [
      "torch.Size([100, 3, 32, 32])\n",
      "torch.Size([100, 32, 30, 30])\n",
      "torch.Size([100, 32, 30, 30])\n",
      "torch.Size([100, 32, 28, 28])\n",
      "torch.Size([100, 32, 28, 28])\n",
      "torch.Size([100, 32, 14, 14])\n"
     ]
    }
   ],
   "source": [
    "# ダミーデータで処理\n",
    "# 100データ分\n",
    "inputs = torch.randn(100, 3, 32, 32)\n",
    "print(inputs.shape)\n",
    "\n",
    "# CNNのシュミレーション\n",
    "x1 = conv1(inputs)\n",
    "x2 = relu(x1)\n",
    "x3 = conv2(x2)\n",
    "x4 = relu(x3)\n",
    "x5 = maxpool(x4)\n",
    "\n",
    "print(x1.shape)\n",
    "print(x2.shape)\n",
    "print(x3.shape)\n",
    "print(x4.shape)\n",
    "print(x5.shape)"
   ]
  },
  {
   "cell_type": "code",
   "execution_count": 19,
   "id": "f4931fc5-8598-4c2f-96ce-9a3a13661871",
   "metadata": {},
   "outputs": [
    {
     "data": {
      "text/plain": [
       "tensor(4.5508)"
      ]
     },
     "execution_count": 19,
     "metadata": {},
     "output_type": "execute_result"
    }
   ],
   "source": [
    "inputs.max()"
   ]
  },
  {
   "cell_type": "code",
   "execution_count": null,
   "id": "4e95d874-3a42-41e1-8c9e-48907fc4ad14",
   "metadata": {},
   "outputs": [],
   "source": []
  },
  {
   "cell_type": "code",
   "execution_count": null,
   "id": "eb9918a4-b18d-46e5-909d-059ca0096c59",
   "metadata": {},
   "outputs": [],
   "source": []
  },
  {
   "cell_type": "code",
   "execution_count": null,
   "id": "e906a5c7-eb64-4ffc-89fd-30ccdd6b3eaa",
   "metadata": {},
   "outputs": [],
   "source": []
  },
  {
   "cell_type": "code",
   "execution_count": null,
   "id": "cda5bc75-43c8-4c0b-8004-eaa07099ab9b",
   "metadata": {},
   "outputs": [],
   "source": []
  },
  {
   "cell_type": "code",
   "execution_count": null,
   "id": "a4c4e16b-e5d5-4692-9d99-5bb3b733fe88",
   "metadata": {},
   "outputs": [],
   "source": []
  },
  {
   "cell_type": "code",
   "execution_count": null,
   "id": "07f38ab3-7187-4a18-940e-5d990adaabaa",
   "metadata": {},
   "outputs": [],
   "source": []
  },
  {
   "cell_type": "code",
   "execution_count": null,
   "id": "2e4c9722-0bf5-42de-864b-173eff573277",
   "metadata": {},
   "outputs": [],
   "source": []
  }
 ],
 "metadata": {
  "kernelspec": {
   "display_name": "Python 3 (ipykernel)",
   "language": "python",
   "name": "python3"
  },
  "language_info": {
   "codemirror_mode": {
    "name": "ipython",
    "version": 3
   },
   "file_extension": ".py",
   "mimetype": "text/x-python",
   "name": "python",
   "nbconvert_exporter": "python",
   "pygments_lexer": "ipython3",
   "version": "3.8.18"
  }
 },
 "nbformat": 4,
 "nbformat_minor": 5
}
