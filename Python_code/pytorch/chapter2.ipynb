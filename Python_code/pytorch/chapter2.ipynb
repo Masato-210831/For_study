{
 "cells": [
  {
   "cell_type": "code",
   "execution_count": 23,
   "id": "94cf3122-6cd9-4ff6-8315-9b53f36320c3",
   "metadata": {},
   "outputs": [],
   "source": [
    "import torch\n",
    "import numpy as np\n",
    "import matplotlib.pyplot as plt\n",
    "from torchviz import make_dot"
   ]
  },
  {
   "cell_type": "code",
   "execution_count": 13,
   "id": "139c85dc-748e-485a-9b5a-7acd1b42b526",
   "metadata": {},
   "outputs": [
    {
     "name": "stdout",
     "output_type": "stream",
     "text": [
      "[-2.   -1.75 -1.5  -1.25 -1.   -0.75 -0.5  -0.25  0.    0.25  0.5   0.75\n",
      "  1.    1.25  1.5   1.75  2.  ]\n"
     ]
    }
   ],
   "source": [
    "# y=2x^2+2の勾配\n",
    "x_np = np.arange(-2, 2.1, 0.25)\n",
    "print(x_np)"
   ]
  },
  {
   "cell_type": "code",
   "execution_count": 15,
   "id": "2735bf57-a8a6-46ad-a5b1-0cc42415ad55",
   "metadata": {},
   "outputs": [
    {
     "data": {
      "text/plain": [
       "tensor([-2.0000, -1.7500, -1.5000, -1.2500, -1.0000, -0.7500, -0.5000, -0.2500,\n",
       "         0.0000,  0.2500,  0.5000,  0.7500,  1.0000,  1.2500,  1.5000,  1.7500,\n",
       "         2.0000], requires_grad=True)"
      ]
     },
     "execution_count": 15,
     "metadata": {},
     "output_type": "execute_result"
    }
   ],
   "source": [
    "# tensor化\n",
    "x = torch.tensor(x_np, requires_grad=True, dtype=torch.float32)\n",
    "x"
   ]
  },
  {
   "cell_type": "code",
   "execution_count": 16,
   "id": "3998d89a-01cb-431c-a87b-493b545017e1",
   "metadata": {},
   "outputs": [
    {
     "name": "stdout",
     "output_type": "stream",
     "text": [
      "tensor([10.0000,  8.1250,  6.5000,  5.1250,  4.0000,  3.1250,  2.5000,  2.1250,\n",
      "         2.0000,  2.1250,  2.5000,  3.1250,  4.0000,  5.1250,  6.5000,  8.1250,\n",
      "        10.0000], grad_fn=<AddBackward0>)\n"
     ]
    }
   ],
   "source": [
    "# テンソル計算 -> yもテンソル変数になる\n",
    "y = 2* x**2 + 2\n",
    "print(y)"
   ]
  },
  {
   "cell_type": "code",
   "execution_count": 19,
   "id": "4bb95d6e-ef57-4159-a5d7-959c329d4f61",
   "metadata": {},
   "outputs": [
    {
     "data": {
      "text/plain": [
       "[<matplotlib.lines.Line2D at 0x7f61a8757d30>]"
      ]
     },
     "execution_count": 19,
     "metadata": {},
     "output_type": "execute_result"
    },
    {
     "data": {
      "image/png": "[encoded data removed]",
      "text/plain": [
       "<Figure size 640x480 with 1 Axes>"
      ]
     },
     "metadata": {},
     "output_type": "display_data"
    }
   ],
   "source": [
    "plt.plot(x.data, y.data)"
   ]
  },
  {
   "cell_type": "code",
   "execution_count": 20,
   "id": "3acf4254-00f8-4470-ba82-673e7d7cdc21",
   "metadata": {},
   "outputs": [],
   "source": [
    "# 1階層テンソルのスカラーでないと勾配は見れないので、sumする\n",
    "z = y.sum()"
   ]
  },
  {
   "cell_type": "code",
   "execution_count": 27,
   "id": "57a2260d-c95f-4376-bfbf-477f3731a832",
   "metadata": {},
   "outputs": [
    {
     "data": {
      "image/svg+xml": [
       "<?xml version=\"1.0\" encoding=\"UTF-8\" standalone=\"no\"?>\n",
       "<!DOCTYPE svg PUBLIC \"-//W3C//DTD SVG 1.1//EN\"\n",
       " \"http://www.w3.org/Graphics/SVG/1.1/DTD/svg11.dtd\">\n",
       "<!-- Generated by graphviz version 2.43.0 (0)\n",
       " -->\n",
       "<!-- Title: %3 Pages: 1 -->\n",
       "<svg width=\"109pt\" height=\"380pt\"\n",
       " viewBox=\"0.00 0.00 109.00 380.00\" xmlns=\"http://www.w3.org/2000/svg\" xmlns:xlink=\"http://www.w3.org/1999/xlink\">\n",
       "<g id=\"graph0\" class=\"graph\" transform=\"scale(1 1) rotate(0) translate(4 376)\">\n",
       "<title>%3</title>\n",
       "<polygon fill=\"white\" stroke=\"transparent\" points=\"-4,4 -4,-376 105,-376 105,4 -4,4\"/>\n",
       "<!-- 140057420947840 -->\n",
       "<g id=\"node1\" class=\"node\">\n",
       "<title>140057420947840</title>\n",
       "<polygon fill=\"#caff70\" stroke=\"black\" points=\"77.5,-31 23.5,-31 23.5,0 77.5,0 77.5,-31\"/>\n",
       "<text text-anchor=\"middle\" x=\"50.5\" y=\"-7\" font-family=\"monospace\" font-size=\"10.00\"> ()</text>\n",
       "</g>\n",
       "<!-- 140057408432208 -->\n",
       "<g id=\"node2\" class=\"node\">\n",
       "<title>140057408432208</title>\n",
       "<polygon fill=\"lightgrey\" stroke=\"black\" points=\"95,-86 6,-86 6,-67 95,-67 95,-86\"/>\n",
       "<text text-anchor=\"middle\" x=\"50.5\" y=\"-74\" font-family=\"monospace\" font-size=\"10.00\">SumBackward0</text>\n",
       "</g>\n",
       "<!-- 140057408432208&#45;&gt;140057420947840 -->\n",
       "<g id=\"edge6\" class=\"edge\">\n",
       "<title>140057408432208&#45;&gt;140057420947840</title>\n",
       "<path fill=\"none\" stroke=\"black\" d=\"M50.5,-66.79C50.5,-60.07 50.5,-50.4 50.5,-41.34\"/>\n",
       "<polygon fill=\"black\" stroke=\"black\" points=\"54,-41.19 50.5,-31.19 47,-41.19 54,-41.19\"/>\n",
       "</g>\n",
       "<!-- 140057408433408 -->\n",
       "<g id=\"node3\" class=\"node\">\n",
       "<title>140057408433408</title>\n",
       "<polygon fill=\"lightgrey\" stroke=\"black\" points=\"95,-141 6,-141 6,-122 95,-122 95,-141\"/>\n",
       "<text text-anchor=\"middle\" x=\"50.5\" y=\"-129\" font-family=\"monospace\" font-size=\"10.00\">AddBackward0</text>\n",
       "</g>\n",
       "<!-- 140057408433408&#45;&gt;140057408432208 -->\n",
       "<g id=\"edge1\" class=\"edge\">\n",
       "<title>140057408433408&#45;&gt;140057408432208</title>\n",
       "<path fill=\"none\" stroke=\"black\" d=\"M50.5,-121.75C50.5,-114.8 50.5,-104.85 50.5,-96.13\"/>\n",
       "<polygon fill=\"black\" stroke=\"black\" points=\"54,-96.09 50.5,-86.09 47,-96.09 54,-96.09\"/>\n",
       "</g>\n",
       "<!-- 140057408433120 -->\n",
       "<g id=\"node4\" class=\"node\">\n",
       "<title>140057408433120</title>\n",
       "<polygon fill=\"lightgrey\" stroke=\"black\" points=\"95,-196 6,-196 6,-177 95,-177 95,-196\"/>\n",
       "<text text-anchor=\"middle\" x=\"50.5\" y=\"-184\" font-family=\"monospace\" font-size=\"10.00\">MulBackward0</text>\n",
       "</g>\n",
       "<!-- 140057408433120&#45;&gt;140057408433408 -->\n",
       "<g id=\"edge2\" class=\"edge\">\n",
       "<title>140057408433120&#45;&gt;140057408433408</title>\n",
       "<path fill=\"none\" stroke=\"black\" d=\"M50.5,-176.75C50.5,-169.8 50.5,-159.85 50.5,-151.13\"/>\n",
       "<polygon fill=\"black\" stroke=\"black\" points=\"54,-151.09 50.5,-141.09 47,-151.09 54,-151.09\"/>\n",
       "</g>\n",
       "<!-- 140057408433840 -->\n",
       "<g id=\"node5\" class=\"node\">\n",
       "<title>140057408433840</title>\n",
       "<polygon fill=\"lightgrey\" stroke=\"black\" points=\"95,-251 6,-251 6,-232 95,-232 95,-251\"/>\n",
       "<text text-anchor=\"middle\" x=\"50.5\" y=\"-239\" font-family=\"monospace\" font-size=\"10.00\">PowBackward0</text>\n",
       "</g>\n",
       "<!-- 140057408433840&#45;&gt;140057408433120 -->\n",
       "<g id=\"edge3\" class=\"edge\">\n",
       "<title>140057408433840&#45;&gt;140057408433120</title>\n",
       "<path fill=\"none\" stroke=\"black\" d=\"M50.5,-231.75C50.5,-224.8 50.5,-214.85 50.5,-206.13\"/>\n",
       "<polygon fill=\"black\" stroke=\"black\" points=\"54,-206.09 50.5,-196.09 47,-206.09 54,-206.09\"/>\n",
       "</g>\n",
       "<!-- 140057408433792 -->\n",
       "<g id=\"node6\" class=\"node\">\n",
       "<title>140057408433792</title>\n",
       "<polygon fill=\"lightgrey\" stroke=\"black\" points=\"101,-306 0,-306 0,-287 101,-287 101,-306\"/>\n",
       "<text text-anchor=\"middle\" x=\"50.5\" y=\"-294\" font-family=\"monospace\" font-size=\"10.00\">AccumulateGrad</text>\n",
       "</g>\n",
       "<!-- 140057408433792&#45;&gt;140057408433840 -->\n",
       "<g id=\"edge4\" class=\"edge\">\n",
       "<title>140057408433792&#45;&gt;140057408433840</title>\n",
       "<path fill=\"none\" stroke=\"black\" d=\"M50.5,-286.75C50.5,-279.8 50.5,-269.85 50.5,-261.13\"/>\n",
       "<polygon fill=\"black\" stroke=\"black\" points=\"54,-261.09 50.5,-251.09 47,-261.09 54,-261.09\"/>\n",
       "</g>\n",
       "<!-- 140057493466624 -->\n",
       "<g id=\"node7\" class=\"node\">\n",
       "<title>140057493466624</title>\n",
       "<polygon fill=\"lightblue\" stroke=\"black\" points=\"77.5,-372 23.5,-372 23.5,-342 77.5,-342 77.5,-372\"/>\n",
       "<text text-anchor=\"middle\" x=\"50.5\" y=\"-360\" font-family=\"monospace\" font-size=\"10.00\">x</text>\n",
       "<text text-anchor=\"middle\" x=\"50.5\" y=\"-349\" font-family=\"monospace\" font-size=\"10.00\"> (17)</text>\n",
       "</g>\n",
       "<!-- 140057493466624&#45;&gt;140057408433792 -->\n",
       "<g id=\"edge5\" class=\"edge\">\n",
       "<title>140057493466624&#45;&gt;140057408433792</title>\n",
       "<path fill=\"none\" stroke=\"black\" d=\"M50.5,-341.84C50.5,-334.21 50.5,-324.7 50.5,-316.45\"/>\n",
       "<polygon fill=\"black\" stroke=\"black\" points=\"54,-316.27 50.5,-306.27 47,-316.27 54,-316.27\"/>\n",
       "</g>\n",
       "</g>\n",
       "</svg>\n"
      ],
      "text/plain": [
       "<graphviz.graphs.Digraph at 0x7f61a813e9a0>"
      ]
     },
     "metadata": {},
     "output_type": "display_data"
    }
   ],
   "source": [
    "# 計算グラフの可視化\n",
    "g = make_dot(z, params={'x':x})\n",
    "display(g)"
   ]
  },
  {
   "cell_type": "markdown",
   "id": "6e77fccb-4df8-495f-8b17-8afa3ae6b46e",
   "metadata": {},
   "source": [
    "<解説>  \n",
    "・青色のノード：リーフノード  \n",
    "・()は変数のshape -> 下のノードは０階層のスカラー  \n",
    "・AccumulateGradは勾配値を蓄積する場所  \n",
    "・\\*Backward0の*の文字は関数名  \n",
    "\n"
   ]
  },
  {
   "cell_type": "code",
   "execution_count": 28,
   "id": "0a5944c1-dbce-4a4c-b97c-e25dbf308910",
   "metadata": {},
   "outputs": [],
   "source": [
    "# 勾配の計算\n",
    "z.backward()"
   ]
  },
  {
   "cell_type": "code",
   "execution_count": 29,
   "id": "1f9b8d2d-45f5-4d74-9567-e2ae7a55bc77",
   "metadata": {},
   "outputs": [
    {
     "data": {
      "text/plain": [
       "tensor([-8., -7., -6., -5., -4., -3., -2., -1.,  0.,  1.,  2.,  3.,  4.,  5.,\n",
       "         6.,  7.,  8.])"
      ]
     },
     "execution_count": 29,
     "metadata": {},
     "output_type": "execute_result"
    }
   ],
   "source": [
    "x.grad"
   ]
  },
  {
   "cell_type": "code",
   "execution_count": 30,
   "id": "06c3f5ef-e297-476d-be3f-80a0b15de267",
   "metadata": {},
   "outputs": [
    {
     "data": {
      "text/plain": [
       "tensor([-2.0000, -1.7500, -1.5000, -1.2500, -1.0000, -0.7500, -0.5000, -0.2500,\n",
       "         0.0000,  0.2500,  0.5000,  0.7500,  1.0000,  1.2500,  1.5000,  1.7500,\n",
       "         2.0000], requires_grad=True)"
      ]
     },
     "execution_count": 30,
     "metadata": {},
     "output_type": "execute_result"
    }
   ],
   "source": [
    "x"
   ]
  },
  {
   "cell_type": "code",
   "execution_count": 41,
   "id": "04ecd277-0ae0-4794-b225-55b83ffa3105",
   "metadata": {},
   "outputs": [
    {
     "data": {
      "text/plain": [
       "<matplotlib.legend.Legend at 0x7f61a1b061f0>"
      ]
     },
     "execution_count": 41,
     "metadata": {},
     "output_type": "execute_result"
    },
    {
     "data": {
      "image/png": "[encoded data removed]",
      "text/plain": [
       "<Figure size 640x480 with 1 Axes>"
      ]
     },
     "metadata": {},
     "output_type": "display_data"
    }
   ],
   "source": [
    "plt.plot(x.data, y.data, color='b', label='y')\n",
    "plt.plot(x.data, x.grad, c='k', label='y.grad')\n",
    "plt.legend()"
   ]
  },
  {
   "cell_type": "code",
   "execution_count": 42,
   "id": "459ffd85-5b2c-410c-86a4-044553d6fdb3",
   "metadata": {},
   "outputs": [
    {
     "name": "stdout",
     "output_type": "stream",
     "text": [
      "tensor([-16., -14., -12., -10.,  -8.,  -6.,  -4.,  -2.,   0.,   2.,   4.,   6.,\n",
      "          8.,  10.,  12.,  14.,  16.])\n"
     ]
    }
   ],
   "source": [
    "# 2回目の勾配計算\n",
    "y = 2*x**2 + 2\n",
    "z = y.sum()\n",
    "z.backward()\n",
    "\n",
    "print(x.grad)"
   ]
  },
  {
   "cell_type": "code",
   "execution_count": 45,
   "id": "64cd2d25-0c6e-4b63-a716-0c79dc846f75",
   "metadata": {},
   "outputs": [
    {
     "data": {
      "text/plain": [
       "tensor([0., 0., 0., 0., 0., 0., 0., 0., 0., 0., 0., 0., 0., 0., 0., 0., 0.])"
      ]
     },
     "execution_count": 45,
     "metadata": {},
     "output_type": "execute_result"
    }
   ],
   "source": [
    "# gradの初期化\n",
    "x.grad.zero_()\n",
    "x.grad"
   ]
  },
  {
   "cell_type": "code",
   "execution_count": 56,
   "id": "caca9a73-ce97-4ea3-810b-57cbd032970d",
   "metadata": {},
   "outputs": [],
   "source": [
    "c = np.arange(0, 11, 1)\n",
    "y = 3*c**2 + 1\n",
    "a = 6*c\n"
   ]
  },
  {
   "cell_type": "code",
   "execution_count": 57,
   "id": "b9ee7aef-b9e9-4ff2-aa34-d00cd7847fed",
   "metadata": {},
   "outputs": [
    {
     "data": {
      "text/plain": [
       "[<matplotlib.lines.Line2D at 0x7f61a1d9ee20>]"
      ]
     },
     "execution_count": 57,
     "metadata": {},
     "output_type": "execute_result"
    },
    {
     "data": {
      "image/png": "[encoded data removed]",
      "text/plain": [
       "<Figure size 640x480 with 1 Axes>"
      ]
     },
     "metadata": {},
     "output_type": "display_data"
    }
   ],
   "source": [
    "plt.plot(c, y)\n",
    "plt.plot(c, a)"
   ]
  },
  {
   "cell_type": "markdown",
   "id": "94dcd462-4e39-4832-9e9e-ba08dd26d6e9",
   "metadata": {},
   "source": [
    "## Sigmoidの場合"
   ]
  },
  {
   "cell_type": "code",
   "execution_count": 58,
   "id": "2fc1f4f3-609e-4414-a32d-20c6d196e861",
   "metadata": {},
   "outputs": [],
   "source": [
    "sigmoid = torch.nn.Sigmoid()"
   ]
  },
  {
   "cell_type": "code",
   "execution_count": 60,
   "id": "c53d54e3-88df-4259-bcb2-f690cecadcc8",
   "metadata": {},
   "outputs": [],
   "source": [
    "y = sigmoid(x)"
   ]
  },
  {
   "cell_type": "code",
   "execution_count": 62,
   "id": "e9e25408-b39b-49a6-81da-dd093aae065f",
   "metadata": {},
   "outputs": [
    {
     "data": {
      "text/plain": [
       "[<matplotlib.lines.Line2D at 0x7f61a1cc3370>]"
      ]
     },
     "execution_count": 62,
     "metadata": {},
     "output_type": "execute_result"
    },
    {
     "data": {
      "image/png": "[encoded data removed]",
      "text/plain": [
       "<Figure size 640x480 with 1 Axes>"
      ]
     },
     "metadata": {},
     "output_type": "display_data"
    }
   ],
   "source": [
    "plt.plot(x.data, y.data)"
   ]
  },
  {
   "cell_type": "code",
   "execution_count": 63,
   "id": "205be70c-d711-4e79-a5e5-48dc4b631404",
   "metadata": {},
   "outputs": [],
   "source": [
    "# 計算グラフを見るためにsumでスカラーにする\n",
    "z = y.sum()"
   ]
  },
  {
   "cell_type": "code",
   "execution_count": 64,
   "id": "e9856c95-18d1-419d-a540-b25291808b5f",
   "metadata": {},
   "outputs": [
    {
     "data": {
      "image/svg+xml": [
       "<?xml version=\"1.0\" encoding=\"UTF-8\" standalone=\"no\"?>\n",
       "<!DOCTYPE svg PUBLIC \"-//W3C//DTD SVG 1.1//EN\"\n",
       " \"http://www.w3.org/Graphics/SVG/1.1/DTD/svg11.dtd\">\n",
       "<!-- Generated by graphviz version 2.43.0 (0)\n",
       " -->\n",
       "<!-- Title: %3 Pages: 1 -->\n",
       "<svg width=\"121pt\" height=\"270pt\"\n",
       " viewBox=\"0.00 0.00 121.00 270.00\" xmlns=\"http://www.w3.org/2000/svg\" xmlns:xlink=\"http://www.w3.org/1999/xlink\">\n",
       "<g id=\"graph0\" class=\"graph\" transform=\"scale(1 1) rotate(0) translate(4 266)\">\n",
       "<title>%3</title>\n",
       "<polygon fill=\"white\" stroke=\"transparent\" points=\"-4,4 -4,-266 117,-266 117,4 -4,4\"/>\n",
       "<!-- 140057420945344 -->\n",
       "<g id=\"node1\" class=\"node\">\n",
       "<title>140057420945344</title>\n",
       "<polygon fill=\"#caff70\" stroke=\"black\" points=\"83.5,-31 29.5,-31 29.5,0 83.5,0 83.5,-31\"/>\n",
       "<text text-anchor=\"middle\" x=\"56.5\" y=\"-7\" font-family=\"monospace\" font-size=\"10.00\"> ()</text>\n",
       "</g>\n",
       "<!-- 140057407479088 -->\n",
       "<g id=\"node2\" class=\"node\">\n",
       "<title>140057407479088</title>\n",
       "<polygon fill=\"lightgrey\" stroke=\"black\" points=\"101,-86 12,-86 12,-67 101,-67 101,-86\"/>\n",
       "<text text-anchor=\"middle\" x=\"56.5\" y=\"-74\" font-family=\"monospace\" font-size=\"10.00\">SumBackward0</text>\n",
       "</g>\n",
       "<!-- 140057407479088&#45;&gt;140057420945344 -->\n",
       "<g id=\"edge4\" class=\"edge\">\n",
       "<title>140057407479088&#45;&gt;140057420945344</title>\n",
       "<path fill=\"none\" stroke=\"black\" d=\"M56.5,-66.79C56.5,-60.07 56.5,-50.4 56.5,-41.34\"/>\n",
       "<polygon fill=\"black\" stroke=\"black\" points=\"60,-41.19 56.5,-31.19 53,-41.19 60,-41.19\"/>\n",
       "</g>\n",
       "<!-- 140057407476496 -->\n",
       "<g id=\"node3\" class=\"node\">\n",
       "<title>140057407476496</title>\n",
       "<polygon fill=\"lightgrey\" stroke=\"black\" points=\"113,-141 0,-141 0,-122 113,-122 113,-141\"/>\n",
       "<text text-anchor=\"middle\" x=\"56.5\" y=\"-129\" font-family=\"monospace\" font-size=\"10.00\">SigmoidBackward0</text>\n",
       "</g>\n",
       "<!-- 140057407476496&#45;&gt;140057407479088 -->\n",
       "<g id=\"edge1\" class=\"edge\">\n",
       "<title>140057407476496&#45;&gt;140057407479088</title>\n",
       "<path fill=\"none\" stroke=\"black\" d=\"M56.5,-121.75C56.5,-114.8 56.5,-104.85 56.5,-96.13\"/>\n",
       "<polygon fill=\"black\" stroke=\"black\" points=\"60,-96.09 56.5,-86.09 53,-96.09 60,-96.09\"/>\n",
       "</g>\n",
       "<!-- 140057407476064 -->\n",
       "<g id=\"node4\" class=\"node\">\n",
       "<title>140057407476064</title>\n",
       "<polygon fill=\"lightgrey\" stroke=\"black\" points=\"107,-196 6,-196 6,-177 107,-177 107,-196\"/>\n",
       "<text text-anchor=\"middle\" x=\"56.5\" y=\"-184\" font-family=\"monospace\" font-size=\"10.00\">AccumulateGrad</text>\n",
       "</g>\n",
       "<!-- 140057407476064&#45;&gt;140057407476496 -->\n",
       "<g id=\"edge2\" class=\"edge\">\n",
       "<title>140057407476064&#45;&gt;140057407476496</title>\n",
       "<path fill=\"none\" stroke=\"black\" d=\"M56.5,-176.75C56.5,-169.8 56.5,-159.85 56.5,-151.13\"/>\n",
       "<polygon fill=\"black\" stroke=\"black\" points=\"60,-151.09 56.5,-141.09 53,-151.09 60,-151.09\"/>\n",
       "</g>\n",
       "<!-- 140057493466624 -->\n",
       "<g id=\"node5\" class=\"node\">\n",
       "<title>140057493466624</title>\n",
       "<polygon fill=\"lightblue\" stroke=\"black\" points=\"83.5,-262 29.5,-262 29.5,-232 83.5,-232 83.5,-262\"/>\n",
       "<text text-anchor=\"middle\" x=\"56.5\" y=\"-250\" font-family=\"monospace\" font-size=\"10.00\">x</text>\n",
       "<text text-anchor=\"middle\" x=\"56.5\" y=\"-239\" font-family=\"monospace\" font-size=\"10.00\"> (17)</text>\n",
       "</g>\n",
       "<!-- 140057493466624&#45;&gt;140057407476064 -->\n",
       "<g id=\"edge3\" class=\"edge\">\n",
       "<title>140057493466624&#45;&gt;140057407476064</title>\n",
       "<path fill=\"none\" stroke=\"black\" d=\"M56.5,-231.84C56.5,-224.21 56.5,-214.7 56.5,-206.45\"/>\n",
       "<polygon fill=\"black\" stroke=\"black\" points=\"60,-206.27 56.5,-196.27 53,-206.27 60,-206.27\"/>\n",
       "</g>\n",
       "</g>\n",
       "</svg>\n"
      ],
      "text/plain": [
       "<graphviz.graphs.Digraph at 0x7f61a8055820>"
      ]
     },
     "execution_count": 64,
     "metadata": {},
     "output_type": "execute_result"
    }
   ],
   "source": [
    "g = make_dot(z, params={'x':x})\n",
    "g"
   ]
  },
  {
   "cell_type": "code",
   "execution_count": 65,
   "id": "f22e57ae-f71c-4eb7-a2d7-7743a4acf167",
   "metadata": {},
   "outputs": [],
   "source": [
    "z.backward()"
   ]
  },
  {
   "cell_type": "code",
   "execution_count": 66,
   "id": "960516af-e5b9-45e2-b07f-cf7bf1173a9e",
   "metadata": {},
   "outputs": [
    {
     "name": "stdout",
     "output_type": "stream",
     "text": [
      "tensor([0.1050, 0.1261, 0.1491, 0.1731, 0.1966, 0.2179, 0.2350, 0.2461, 0.2500,\n",
      "        0.2461, 0.2350, 0.2179, 0.1966, 0.1731, 0.1491, 0.1261, 0.1050])\n"
     ]
    }
   ],
   "source": [
    "print(x.grad)"
   ]
  },
  {
   "cell_type": "code",
   "execution_count": 67,
   "id": "04b66897-7bff-43b3-b6ad-397d959f220c",
   "metadata": {},
   "outputs": [
    {
     "data": {
      "text/plain": [
       "<matplotlib.legend.Legend at 0x7f61a850ba90>"
      ]
     },
     "execution_count": 67,
     "metadata": {},
     "output_type": "execute_result"
    },
    {
     "data": {
      "image/png": "[encoded data removed]",
      "text/plain": [
       "<Figure size 640x480 with 1 Axes>"
      ]
     },
     "metadata": {},
     "output_type": "display_data"
    }
   ],
   "source": [
    "plt.plot(x.data, y.data, color='b', label='y')\n",
    "plt.plot(x.data, x.grad, c='k', label='y.grad')\n",
    "plt.legend()"
   ]
  },
  {
   "cell_type": "code",
   "execution_count": 68,
   "id": "45bb6d07-8466-49df-bdf5-f68998693aac",
   "metadata": {},
   "outputs": [
    {
     "data": {
      "text/plain": [
       "tensor([0., 0., 0., 0., 0., 0., 0., 0., 0., 0., 0., 0., 0., 0., 0., 0., 0.])"
      ]
     },
     "execution_count": 68,
     "metadata": {},
     "output_type": "execute_result"
    }
   ],
   "source": [
    "x.grad.zero_()\n"
   ]
  },
  {
   "cell_type": "code",
   "execution_count": 73,
   "id": "e43d74cf-57f6-442d-bb3d-67645878df4f",
   "metadata": {},
   "outputs": [],
   "source": [
    "# シグモイド関数の定義\n",
    "\n",
    "def sigmoid(x):\n",
    "return(1/(1 + torch.exp(-x)))\n",
    "\n",
    "\n",
    "y = sigmoid(x)"
   ]
  },
  {
   "cell_type": "code",
   "execution_count": 75,
   "id": "a6e81df4-959b-40ed-bbf4-2cdeae4bd59f",
   "metadata": {},
   "outputs": [
    {
     "data": {
      "image/svg+xml": [
       "<?xml version=\"1.0\" encoding=\"UTF-8\" standalone=\"no\"?>\n",
       "<!DOCTYPE svg PUBLIC \"-//W3C//DTD SVG 1.1//EN\"\n",
       " \"http://www.w3.org/Graphics/SVG/1.1/DTD/svg11.dtd\">\n",
       "<!-- Generated by graphviz version 2.43.0 (0)\n",
       " -->\n",
       "<!-- Title: %3 Pages: 1 -->\n",
       "<svg width=\"139pt\" height=\"435pt\"\n",
       " viewBox=\"0.00 0.00 139.00 435.00\" xmlns=\"http://www.w3.org/2000/svg\" xmlns:xlink=\"http://www.w3.org/1999/xlink\">\n",
       "<g id=\"graph0\" class=\"graph\" transform=\"scale(1 1) rotate(0) translate(4 431)\">\n",
       "<title>%3</title>\n",
       "<polygon fill=\"white\" stroke=\"transparent\" points=\"-4,4 -4,-431 135,-431 135,4 -4,4\"/>\n",
       "<!-- 140057411906992 -->\n",
       "<g id=\"node1\" class=\"node\">\n",
       "<title>140057411906992</title>\n",
       "<polygon fill=\"#caff70\" stroke=\"black\" points=\"92.5,-31 38.5,-31 38.5,0 92.5,0 92.5,-31\"/>\n",
       "<text text-anchor=\"middle\" x=\"65.5\" y=\"-7\" font-family=\"monospace\" font-size=\"10.00\"> (17)</text>\n",
       "</g>\n",
       "<!-- 140057411597168 -->\n",
       "<g id=\"node2\" class=\"node\">\n",
       "<title>140057411597168</title>\n",
       "<polygon fill=\"lightgrey\" stroke=\"black\" points=\"110,-86 21,-86 21,-67 110,-67 110,-86\"/>\n",
       "<text text-anchor=\"middle\" x=\"65.5\" y=\"-74\" font-family=\"monospace\" font-size=\"10.00\">MulBackward0</text>\n",
       "</g>\n",
       "<!-- 140057411597168&#45;&gt;140057411906992 -->\n",
       "<g id=\"edge7\" class=\"edge\">\n",
       "<title>140057411597168&#45;&gt;140057411906992</title>\n",
       "<path fill=\"none\" stroke=\"black\" d=\"M65.5,-66.79C65.5,-60.07 65.5,-50.4 65.5,-41.34\"/>\n",
       "<polygon fill=\"black\" stroke=\"black\" points=\"69,-41.19 65.5,-31.19 62,-41.19 69,-41.19\"/>\n",
       "</g>\n",
       "<!-- 140057411599664 -->\n",
       "<g id=\"node3\" class=\"node\">\n",
       "<title>140057411599664</title>\n",
       "<polygon fill=\"lightgrey\" stroke=\"black\" points=\"131,-141 0,-141 0,-122 131,-122 131,-141\"/>\n",
       "<text text-anchor=\"middle\" x=\"65.5\" y=\"-129\" font-family=\"monospace\" font-size=\"10.00\">ReciprocalBackward0</text>\n",
       "</g>\n",
       "<!-- 140057411599664&#45;&gt;140057411597168 -->\n",
       "<g id=\"edge1\" class=\"edge\">\n",
       "<title>140057411599664&#45;&gt;140057411597168</title>\n",
       "<path fill=\"none\" stroke=\"black\" d=\"M65.5,-121.75C65.5,-114.8 65.5,-104.85 65.5,-96.13\"/>\n",
       "<polygon fill=\"black\" stroke=\"black\" points=\"69,-96.09 65.5,-86.09 62,-96.09 69,-96.09\"/>\n",
       "</g>\n",
       "<!-- 140057411598512 -->\n",
       "<g id=\"node4\" class=\"node\">\n",
       "<title>140057411598512</title>\n",
       "<polygon fill=\"lightgrey\" stroke=\"black\" points=\"110,-196 21,-196 21,-177 110,-177 110,-196\"/>\n",
       "<text text-anchor=\"middle\" x=\"65.5\" y=\"-184\" font-family=\"monospace\" font-size=\"10.00\">AddBackward0</text>\n",
       "</g>\n",
       "<!-- 140057411598512&#45;&gt;140057411599664 -->\n",
       "<g id=\"edge2\" class=\"edge\">\n",
       "<title>140057411598512&#45;&gt;140057411599664</title>\n",
       "<path fill=\"none\" stroke=\"black\" d=\"M65.5,-176.75C65.5,-169.8 65.5,-159.85 65.5,-151.13\"/>\n",
       "<polygon fill=\"black\" stroke=\"black\" points=\"69,-151.09 65.5,-141.09 62,-151.09 69,-151.09\"/>\n",
       "</g>\n",
       "<!-- 140057411597360 -->\n",
       "<g id=\"node5\" class=\"node\">\n",
       "<title>140057411597360</title>\n",
       "<polygon fill=\"lightgrey\" stroke=\"black\" points=\"110,-251 21,-251 21,-232 110,-232 110,-251\"/>\n",
       "<text text-anchor=\"middle\" x=\"65.5\" y=\"-239\" font-family=\"monospace\" font-size=\"10.00\">ExpBackward0</text>\n",
       "</g>\n",
       "<!-- 140057411597360&#45;&gt;140057411598512 -->\n",
       "<g id=\"edge3\" class=\"edge\">\n",
       "<title>140057411597360&#45;&gt;140057411598512</title>\n",
       "<path fill=\"none\" stroke=\"black\" d=\"M65.5,-231.75C65.5,-224.8 65.5,-214.85 65.5,-206.13\"/>\n",
       "<polygon fill=\"black\" stroke=\"black\" points=\"69,-206.09 65.5,-196.09 62,-206.09 69,-206.09\"/>\n",
       "</g>\n",
       "<!-- 140057411600096 -->\n",
       "<g id=\"node6\" class=\"node\">\n",
       "<title>140057411600096</title>\n",
       "<polygon fill=\"lightgrey\" stroke=\"black\" points=\"110,-306 21,-306 21,-287 110,-287 110,-306\"/>\n",
       "<text text-anchor=\"middle\" x=\"65.5\" y=\"-294\" font-family=\"monospace\" font-size=\"10.00\">NegBackward0</text>\n",
       "</g>\n",
       "<!-- 140057411600096&#45;&gt;140057411597360 -->\n",
       "<g id=\"edge4\" class=\"edge\">\n",
       "<title>140057411600096&#45;&gt;140057411597360</title>\n",
       "<path fill=\"none\" stroke=\"black\" d=\"M65.5,-286.75C65.5,-279.8 65.5,-269.85 65.5,-261.13\"/>\n",
       "<polygon fill=\"black\" stroke=\"black\" points=\"69,-261.09 65.5,-251.09 62,-261.09 69,-261.09\"/>\n",
       "</g>\n",
       "<!-- 140057411600336 -->\n",
       "<g id=\"node7\" class=\"node\">\n",
       "<title>140057411600336</title>\n",
       "<polygon fill=\"lightgrey\" stroke=\"black\" points=\"116,-361 15,-361 15,-342 116,-342 116,-361\"/>\n",
       "<text text-anchor=\"middle\" x=\"65.5\" y=\"-349\" font-family=\"monospace\" font-size=\"10.00\">AccumulateGrad</text>\n",
       "</g>\n",
       "<!-- 140057411600336&#45;&gt;140057411600096 -->\n",
       "<g id=\"edge5\" class=\"edge\">\n",
       "<title>140057411600336&#45;&gt;140057411600096</title>\n",
       "<path fill=\"none\" stroke=\"black\" d=\"M65.5,-341.75C65.5,-334.8 65.5,-324.85 65.5,-316.13\"/>\n",
       "<polygon fill=\"black\" stroke=\"black\" points=\"69,-316.09 65.5,-306.09 62,-316.09 69,-316.09\"/>\n",
       "</g>\n",
       "<!-- 140057493466624 -->\n",
       "<g id=\"node8\" class=\"node\">\n",
       "<title>140057493466624</title>\n",
       "<polygon fill=\"lightblue\" stroke=\"black\" points=\"92.5,-427 38.5,-427 38.5,-397 92.5,-397 92.5,-427\"/>\n",
       "<text text-anchor=\"middle\" x=\"65.5\" y=\"-415\" font-family=\"monospace\" font-size=\"10.00\">x</text>\n",
       "<text text-anchor=\"middle\" x=\"65.5\" y=\"-404\" font-family=\"monospace\" font-size=\"10.00\"> (17)</text>\n",
       "</g>\n",
       "<!-- 140057493466624&#45;&gt;140057411600336 -->\n",
       "<g id=\"edge6\" class=\"edge\">\n",
       "<title>140057493466624&#45;&gt;140057411600336</title>\n",
       "<path fill=\"none\" stroke=\"black\" d=\"M65.5,-396.84C65.5,-389.21 65.5,-379.7 65.5,-371.45\"/>\n",
       "<polygon fill=\"black\" stroke=\"black\" points=\"69,-371.27 65.5,-361.27 62,-371.27 69,-371.27\"/>\n",
       "</g>\n",
       "</g>\n",
       "</svg>\n"
      ],
      "text/plain": [
       "<graphviz.graphs.Digraph at 0x7f61a84681f0>"
      ]
     },
     "execution_count": 75,
     "metadata": {},
     "output_type": "execute_result"
    }
   ],
   "source": [
    "make_dot(y, {'x':x})"
   ]
  },
  {
   "cell_type": "code",
   "execution_count": null,
   "id": "6cfc27ed-2a46-4797-8281-123a05faac8b",
   "metadata": {},
   "outputs": [],
   "source": []
  },
  {
   "cell_type": "code",
   "execution_count": null,
   "id": "5ff2a8f6-ce35-4044-9e0b-76338f283404",
   "metadata": {},
   "outputs": [],
   "source": []
  },
  {
   "cell_type": "code",
   "execution_count": null,
   "id": "86087fc7-e6a1-4aa6-aaa4-2855c9f0a448",
   "metadata": {},
   "outputs": [],
   "source": []
  },
  {
   "cell_type": "code",
   "execution_count": null,
   "id": "c97d2f4b-0dcd-412c-b0b4-01e3f2cea981",
   "metadata": {},
   "outputs": [],
   "source": []
  },
  {
   "cell_type": "code",
   "execution_count": null,
   "id": "38d43c02-2f3f-4b2c-896e-29aa8e321869",
   "metadata": {},
   "outputs": [],
   "source": []
  },
  {
   "cell_type": "code",
   "execution_count": null,
   "id": "a40477cd-01f7-4f25-8667-28d754fc9a4f",
   "metadata": {},
   "outputs": [],
   "source": []
  },
  {
   "cell_type": "code",
   "execution_count": null,
   "id": "9a240950-5fb8-483d-8125-69cf03f4b129",
   "metadata": {},
   "outputs": [],
   "source": []
  },
  {
   "cell_type": "code",
   "execution_count": null,
   "id": "d16d3e2e-94d7-47dd-8950-028bbda7a0f0",
   "metadata": {},
   "outputs": [],
   "source": []
  },
  {
   "cell_type": "code",
   "execution_count": null,
   "id": "d95336f4-0731-4cd1-a7e3-0dc3fb58a4a1",
   "metadata": {},
   "outputs": [],
   "source": []
  }
 ],
 "metadata": {
  "kernelspec": {
   "display_name": "Python 3 (ipykernel)",
   "language": "python",
   "name": "python3"
  },
  "language_info": {
   "codemirror_mode": {
    "name": "ipython",
    "version": 3
   },
   "file_extension": ".py",
   "mimetype": "text/x-python",
   "name": "python",
   "nbconvert_exporter": "python",
   "pygments_lexer": "ipython3",
   "version": "3.8.18"
  }
 },
 "nbformat": 4,
 "nbformat_minor": 5
}
