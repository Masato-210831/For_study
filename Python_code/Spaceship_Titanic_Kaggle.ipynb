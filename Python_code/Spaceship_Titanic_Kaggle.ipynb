{
 "cells": [
  {
   "cell_type": "markdown",
   "id": "69299866-1c40-4298-a8c7-af264fdc35d4",
   "metadata": {},
   "source": [
    "# Spaceship Titanic "
   ]
  },
  {
   "cell_type": "code",
   "execution_count": 14,
   "id": "5db3ff36-750a-41a9-b728-7b3bed73ae6c",
   "metadata": {},
   "outputs": [],
   "source": [
    "import numpy as np\n",
    "import pandas as pd\n",
    "import matplotlib.pyplot as plt\n",
    "%matplotlib inline"
   ]
  },
  {
   "cell_type": "code",
   "execution_count": null,
   "id": "21ee3e46-4601-4ef4-b2cc-68b8bc33634f",
   "metadata": {},
   "outputs": [],
   "source": [
    "#データの格納場所の確認\n",
    "# import os\n",
    "# for dirname, _, filenames in os.walk('/kaggle/input'):\n",
    "#     for filename in filenames:\n",
    "#         print(os.path.join(dirname, filename))"
   ]
  },
  {
   "cell_type": "code",
   "execution_count": 5,
   "id": "ce1f14b6-9c53-4dae-bb2c-ed58ca074e61",
   "metadata": {},
   "outputs": [
    {
     "data": {
      "text/html": [
       "<div>\n",
       "<style scoped>\n",
       "    .dataframe tbody tr th:only-of-type {\n",
       "        vertical-align: middle;\n",
       "    }\n",
       "\n",
       "    .dataframe tbody tr th {\n",
       "        vertical-align: top;\n",
       "    }\n",
       "\n",
       "    .dataframe thead th {\n",
       "        text-align: right;\n",
       "    }\n",
       "</style>\n",
       "<table border=\"1\" class=\"dataframe\">\n",
       "  <thead>\n",
       "    <tr style=\"text-align: right;\">\n",
       "      <th></th>\n",
       "      <th>PassengerId</th>\n",
       "      <th>HomePlanet</th>\n",
       "      <th>CryoSleep</th>\n",
       "      <th>Cabin</th>\n",
       "      <th>Destination</th>\n",
       "      <th>Age</th>\n",
       "      <th>VIP</th>\n",
       "      <th>RoomService</th>\n",
       "      <th>FoodCourt</th>\n",
       "      <th>ShoppingMall</th>\n",
       "      <th>Spa</th>\n",
       "      <th>VRDeck</th>\n",
       "      <th>Name</th>\n",
       "      <th>Transported</th>\n",
       "    </tr>\n",
       "  </thead>\n",
       "  <tbody>\n",
       "    <tr>\n",
       "      <th>0</th>\n",
       "      <td>0001_01</td>\n",
       "      <td>Europa</td>\n",
       "      <td>False</td>\n",
       "      <td>B/0/P</td>\n",
       "      <td>TRAPPIST-1e</td>\n",
       "      <td>39.0</td>\n",
       "      <td>False</td>\n",
       "      <td>0.0</td>\n",
       "      <td>0.0</td>\n",
       "      <td>0.0</td>\n",
       "      <td>0.0</td>\n",
       "      <td>0.0</td>\n",
       "      <td>Maham Ofracculy</td>\n",
       "      <td>False</td>\n",
       "    </tr>\n",
       "    <tr>\n",
       "      <th>1</th>\n",
       "      <td>0002_01</td>\n",
       "      <td>Earth</td>\n",
       "      <td>False</td>\n",
       "      <td>F/0/S</td>\n",
       "      <td>TRAPPIST-1e</td>\n",
       "      <td>24.0</td>\n",
       "      <td>False</td>\n",
       "      <td>109.0</td>\n",
       "      <td>9.0</td>\n",
       "      <td>25.0</td>\n",
       "      <td>549.0</td>\n",
       "      <td>44.0</td>\n",
       "      <td>Juanna Vines</td>\n",
       "      <td>True</td>\n",
       "    </tr>\n",
       "    <tr>\n",
       "      <th>2</th>\n",
       "      <td>0003_01</td>\n",
       "      <td>Europa</td>\n",
       "      <td>False</td>\n",
       "      <td>A/0/S</td>\n",
       "      <td>TRAPPIST-1e</td>\n",
       "      <td>58.0</td>\n",
       "      <td>True</td>\n",
       "      <td>43.0</td>\n",
       "      <td>3576.0</td>\n",
       "      <td>0.0</td>\n",
       "      <td>6715.0</td>\n",
       "      <td>49.0</td>\n",
       "      <td>Altark Susent</td>\n",
       "      <td>False</td>\n",
       "    </tr>\n",
       "    <tr>\n",
       "      <th>3</th>\n",
       "      <td>0003_02</td>\n",
       "      <td>Europa</td>\n",
       "      <td>False</td>\n",
       "      <td>A/0/S</td>\n",
       "      <td>TRAPPIST-1e</td>\n",
       "      <td>33.0</td>\n",
       "      <td>False</td>\n",
       "      <td>0.0</td>\n",
       "      <td>1283.0</td>\n",
       "      <td>371.0</td>\n",
       "      <td>3329.0</td>\n",
       "      <td>193.0</td>\n",
       "      <td>Solam Susent</td>\n",
       "      <td>False</td>\n",
       "    </tr>\n",
       "    <tr>\n",
       "      <th>4</th>\n",
       "      <td>0004_01</td>\n",
       "      <td>Earth</td>\n",
       "      <td>False</td>\n",
       "      <td>F/1/S</td>\n",
       "      <td>TRAPPIST-1e</td>\n",
       "      <td>16.0</td>\n",
       "      <td>False</td>\n",
       "      <td>303.0</td>\n",
       "      <td>70.0</td>\n",
       "      <td>151.0</td>\n",
       "      <td>565.0</td>\n",
       "      <td>2.0</td>\n",
       "      <td>Willy Santantines</td>\n",
       "      <td>True</td>\n",
       "    </tr>\n",
       "  </tbody>\n",
       "</table>\n",
       "</div>"
      ],
      "text/plain": [
       "  PassengerId HomePlanet CryoSleep  Cabin  Destination   Age    VIP  \\\n",
       "0     0001_01     Europa     False  B/0/P  TRAPPIST-1e  39.0  False   \n",
       "1     0002_01      Earth     False  F/0/S  TRAPPIST-1e  24.0  False   \n",
       "2     0003_01     Europa     False  A/0/S  TRAPPIST-1e  58.0   True   \n",
       "3     0003_02     Europa     False  A/0/S  TRAPPIST-1e  33.0  False   \n",
       "4     0004_01      Earth     False  F/1/S  TRAPPIST-1e  16.0  False   \n",
       "\n",
       "   RoomService  FoodCourt  ShoppingMall     Spa  VRDeck               Name  \\\n",
       "0          0.0        0.0           0.0     0.0     0.0    Maham Ofracculy   \n",
       "1        109.0        9.0          25.0   549.0    44.0       Juanna Vines   \n",
       "2         43.0     3576.0           0.0  6715.0    49.0      Altark Susent   \n",
       "3          0.0     1283.0         371.0  3329.0   193.0       Solam Susent   \n",
       "4        303.0       70.0         151.0   565.0     2.0  Willy Santantines   \n",
       "\n",
       "   Transported  \n",
       "0        False  \n",
       "1         True  \n",
       "2        False  \n",
       "3        False  \n",
       "4         True  "
      ]
     },
     "execution_count": 5,
     "metadata": {},
     "output_type": "execute_result"
    }
   ],
   "source": [
    "#トレーニングデータとテストデータの取得\n",
    "# df_train = pd.read_csv('../input/spaceship-titanic/train.csv')\n",
    "# df_test = pd.read_csv('../input/spaceship-titanic/test.csv')\n",
    "df_train = pd.read_csv('csv/train.csv')\n",
    "df_test = pd.read_csv('csv/test.csv')\n",
    "\n",
    "#トレーニングデータの確認\n",
    "df_train.head()"
   ]
  },
  {
   "cell_type": "code",
   "execution_count": 6,
   "id": "cfdb4cdc-7386-4035-912e-048af72ddd04",
   "metadata": {},
   "outputs": [
    {
     "name": "stdout",
     "output_type": "stream",
     "text": [
      "<class 'pandas.core.frame.DataFrame'>\n",
      "RangeIndex: 8693 entries, 0 to 8692\n",
      "Data columns (total 14 columns):\n",
      " #   Column        Non-Null Count  Dtype  \n",
      "---  ------        --------------  -----  \n",
      " 0   PassengerId   8693 non-null   object \n",
      " 1   HomePlanet    8492 non-null   object \n",
      " 2   CryoSleep     8476 non-null   object \n",
      " 3   Cabin         8494 non-null   object \n",
      " 4   Destination   8511 non-null   object \n",
      " 5   Age           8514 non-null   float64\n",
      " 6   VIP           8490 non-null   object \n",
      " 7   RoomService   8512 non-null   float64\n",
      " 8   FoodCourt     8510 non-null   float64\n",
      " 9   ShoppingMall  8485 non-null   float64\n",
      " 10  Spa           8510 non-null   float64\n",
      " 11  VRDeck        8505 non-null   float64\n",
      " 12  Name          8493 non-null   object \n",
      " 13  Transported   8693 non-null   bool   \n",
      "dtypes: bool(1), float64(6), object(7)\n",
      "memory usage: 891.5+ KB\n"
     ]
    }
   ],
   "source": [
    "#データの詳細\n",
    "df_train.info()"
   ]
  },
  {
   "cell_type": "code",
   "execution_count": 10,
   "id": "bcd51474-5f7f-4ec3-9c64-f52215166789",
   "metadata": {},
   "outputs": [
    {
     "data": {
      "text/plain": [
       "False    6606\n",
       "True     2087\n",
       "Name: count, dtype: int64"
      ]
     },
     "execution_count": 10,
     "metadata": {},
     "output_type": "execute_result"
    }
   ],
   "source": [
    "#欠損値を含む行数\n",
    "df_train.isnull().any(axis=1).value_counts()"
   ]
  },
  {
   "cell_type": "code",
   "execution_count": null,
   "id": "6035001e-ff09-4ecf-a64d-2590d28e91f9",
   "metadata": {},
   "outputs": [],
   "source": []
  },
  {
   "cell_type": "markdown",
   "id": "43679e41-2c70-48e7-8e14-e44d018bf8a9",
   "metadata": {},
   "source": [
    "# 欠損値を含むが多いので特徴量を絞る"
   ]
  },
  {
   "cell_type": "code",
   "execution_count": null,
   "id": "5aa9237a-79c1-49b5-a7b6-99d25109ecc6",
   "metadata": {},
   "outputs": [],
   "source": [
    "\"\"\"\n",
    "『特徴量の説明』\n",
    "PassengerId：ユニークなID（gggg_pp）、ggggは旅行グループ、ppはグループ内の番号、グループ内は家族メンバーが多いが、全てではない\n",
    "\n",
    "HomePlanet；乗客が出発した惑星\n",
    "\n",
    "CryoSleep；航海中に休眠状態に入ったかどうか、キャビンに閉じ込められている\n",
    "\n",
    "Cabin；客室番号、deck/num/sideの形式でsideはPortのP(航空機の右側)またはStarboard(航空機の右側)のSのいずれか\n",
    "\n",
    "Destination：行き先惑星（３カ所ある）\n",
    "\n",
    "Age；年齢\n",
    "\n",
    "VIP - 乗客が航海中の特別なVIPサービスに対して追加料金を支払ったかどうか。\n",
    "\n",
    "RoomService, FoodCourt, ShoppingMall, Spa, VRDeck -数々の高級アメニティで乗客が請求した金額。\n",
    "\n",
    "Name：乗客の名前と名字\n",
    "\n",
    "\n",
    "『その他の情報』\n",
    "train.csv : 2/3のデータ\n",
    "\n",
    "\"\"\""
   ]
  },
  {
   "cell_type": "code",
   "execution_count": null,
   "id": "103904b8-8c47-4fdf-8f8c-c35873989bf0",
   "metadata": {},
   "outputs": [],
   "source": [
    "\"\"\"\n",
    "『特徴量の優先度』\n",
    "\n",
    "「大」\n",
    "PassengerId : ggggの部分 -> ggggに分けて新たな特徴量にしないと・・・\n",
    "CryoSleep：キャビンにいるか否かで分別できるかも\n",
    "Cabin：客室の場所を示しているので語尾のsとpでラベルコーディングすればいいかも\n",
    "VIP：安全性、場所が決まっていると思うので、良い特徴量になるはず\n",
    "\n",
    "「中」\n",
    "Age；可能性はあるかも\n",
    "RoomService, FoodCourt, ShoppingMall, Spa, VRDeck ：いつ、どのくらい利用してたか分からないので何とも言えないが、どれかを利用してたかが良い特徴になるかも？\n",
    "Name：セカンドネームで家族か分かるかも\n",
    "　　　　Passengerldの効果が大きかったら、Nameを入れるのもいいかも\n",
    "\n",
    "\n",
    "「小」\n",
    "HomePlanet；永住惑星で別次元に飛ばされるとは考えにくい\n",
    "Destination：行き先惑星関係なくランダムに飛ばされている。\n",
    "\n",
    "\"\"\""
   ]
  },
  {
   "cell_type": "code",
   "execution_count": 11,
   "id": "20579571-ce6d-4aba-a87d-bccd67f28ed4",
   "metadata": {},
   "outputs": [
    {
     "name": "stderr",
     "output_type": "stream",
     "text": [
      "/tmp/ipykernel_232/2280273295.py:27: FutureWarning: Series.__getitem__ treating keys as positions is deprecated. In a future version, integer keys will always be treated as labels (consistent with DataFrame behavior). To access a value by position, use `ser.iloc[pos]`\n",
      "  planet_rate.append(rate[0].round(2))\n"
     ]
    },
    {
     "data": {
      "text/plain": [
       "'\\n全て約50%の割合で飛ばされているので、\\n行き先に関係なくランダム飛ばされていることが分かる。\\n\\n'"
      ]
     },
     "execution_count": 11,
     "metadata": {},
     "output_type": "execute_result"
    },
    {
     "data": {
      "image/png": "[encoded data removed]",
      "text/plain": [
       "<Figure size 640x480 with 1 Axes>"
      ]
     },
     "metadata": {},
     "output_type": "display_data"
    }
   ],
   "source": [
    "\"\"\"\n",
    "行き先惑星の2番目の途中で飛ばされた可能性があるかもしれない\n",
    "行き先惑星ごとの総人数で各飛ばされた割合を見る。\n",
    "\"\"\"\n",
    "\n",
    "#到着惑星における飛ばされた割合(%)\n",
    "all_num = len(df_train.index)\n",
    "dest_trans = df_train[['Destination', 'Transported']]\n",
    "\n",
    "# ーーーーーーーーーーーーーーーーーーーーーーーーーーーーーーーーーーーーーーーーーーーーー\n",
    "#↓行き先惑星ごとの飛ばされ率を総乗客で割った場合\n",
    "# trains_rate = (dest_trans.groupby('Destination').sum() / all_num) * 100\n",
    "# trains_rate['Transported'] = trains_rate['Transported'].round(1)\n",
    "# trains_rate\n",
    "# ーーーーーーーーーーーーーーーーーーーーーーーーーーーーーーーーーーーーーーーーーーーーーーー\n",
    "\n",
    "#各行き先惑星ごとの総人数\n",
    "dest_count = dest_trans['Destination'].value_counts()\n",
    "\n",
    "#各行き先惑星ごとの飛ばされた割合\n",
    "dest_trans_sum = (dest_trans.groupby('Destination').sum())*100\n",
    "\n",
    "#リスト変換\n",
    "planet_rate = []\n",
    "for planet in dest_count.index:\n",
    "    rate = dest_trans_sum.loc[planet]/dest_count[planet]\n",
    "    planet_rate.append(rate[0].round(2))\n",
    "\n",
    "#棒グラフ\n",
    "plt.bar(dest_count.index, planet_rate)\n",
    "plt.ylabel('Transport rate by destination planet (%)')\n",
    "\n",
    "\"\"\"\n",
    "全て約50%の割合で飛ばされているので、\n",
    "行き先に関係なくランダム飛ばされていることが分かる。\n",
    "\n",
    "\"\"\""
   ]
  },
  {
   "cell_type": "code",
   "execution_count": 12,
   "id": "a548da4c-64fe-4afc-ad99-03de338757c9",
   "metadata": {},
   "outputs": [
    {
     "name": "stderr",
     "output_type": "stream",
     "text": [
      "/tmp/ipykernel_232/4160743348.py:12: FutureWarning: Series.__getitem__ treating keys as positions is deprecated. In a future version, integer keys will always be treated as labels (consistent with DataFrame behavior). To access a value by position, use `ser.iloc[pos]`\n",
      "  home_rate.append(rate[0].round(2))\n"
     ]
    },
    {
     "data": {
      "text/plain": [
       "'\\n可能性は限りなくないが、念の為確認\\n\\u3000HomePlanetに関係なくランダムに飛ばされている。\\n\\n'"
      ]
     },
     "execution_count": 12,
     "metadata": {},
     "output_type": "execute_result"
    },
    {
     "data": {
      "image/png": "[encoded data removed]",
      "text/plain": [
       "<Figure size 640x480 with 1 Axes>"
      ]
     },
     "metadata": {},
     "output_type": "display_data"
    }
   ],
   "source": [
    "#乗客惑星ごとの総人数ーーーー関数で書けばよかった・・・・\n",
    "home_df = df_train[['HomePlanet', 'Transported']]\n",
    "home_count = home_df['HomePlanet'].value_counts()\n",
    "\n",
    "#各行き先惑星ごとの飛ばされた割合\n",
    "home_trans_sum = (home_df.groupby('HomePlanet').sum())*100\n",
    "\n",
    "#リスト変換\n",
    "home_rate = []\n",
    "for planet in home_count.index:\n",
    "    rate = home_trans_sum.loc[planet]/home_count[planet]\n",
    "    home_rate.append(rate[0].round(2))\n",
    "\n",
    "#棒グラフ\n",
    "plt.bar(home_count.index, home_rate)\n",
    "plt.ylabel('Transport rate by HomePlanet (%)')\n",
    "\n",
    "\"\"\"\n",
    "可能性は限りなくないが、念の為確認\n",
    "　HomePlanetに関係なくランダムに飛ばされている。\n",
    "\n",
    "\"\"\""
   ]
  },
  {
   "cell_type": "code",
   "execution_count": 13,
   "id": "5911106c-94a7-46ce-ae76-f200ad143c19",
   "metadata": {},
   "outputs": [
    {
     "name": "stdout",
     "output_type": "stream",
     "text": [
      "[47.12, 61.0, 50.38]\n",
      "[42.39, 65.88, 52.3]\n"
     ]
    }
   ],
   "source": [
    "print(planet_rate)\n",
    "print(home_rate)"
   ]
  },
  {
   "cell_type": "code",
   "execution_count": null,
   "id": "90702546-a9f5-41f7-994f-5a08740b6cd4",
   "metadata": {},
   "outputs": [],
   "source": [
    "\"\"\"\n",
    "今後の予定\n",
    "\n",
    "1. 優先度：大の特徴rで特徴量を作成\n",
    "2. 欠損値確認\n",
    "3. 欠損値drop()、もし欠損値がかなり多ければ考える\n",
    "4. 「機械学習のパラメータチューニングを「これでもか！」というくらい丁寧に解説」を参考にパラメータチューニング\n",
    "   使用モデル：余裕があればlightGBM, 厳しければサイト通りSVM\n",
    "\n",
    "5. 提出\n",
    "\"\"\""
   ]
  },
  {
   "cell_type": "code",
   "execution_count": null,
   "id": "e5f8b1e3-a48f-48e6-b0b2-2357771894df",
   "metadata": {},
   "outputs": [],
   "source": []
  },
  {
   "cell_type": "code",
   "execution_count": null,
   "id": "659394af-7ca9-4f64-8566-98ba9051b620",
   "metadata": {},
   "outputs": [],
   "source": []
  },
  {
   "cell_type": "code",
   "execution_count": null,
   "id": "027a9778-9ec1-4620-b5fd-b634364719ef",
   "metadata": {},
   "outputs": [],
   "source": []
  },
  {
   "cell_type": "code",
   "execution_count": null,
   "id": "dd658ec6-bee6-40e6-92c9-40500c739222",
   "metadata": {},
   "outputs": [],
   "source": []
  },
  {
   "cell_type": "code",
   "execution_count": null,
   "id": "0b53cf8e-01d4-4657-8e88-64f1cbf06a57",
   "metadata": {},
   "outputs": [],
   "source": []
  },
  {
   "cell_type": "code",
   "execution_count": null,
   "id": "70ea69fa-ab89-45c9-9069-3723a5d4ceb0",
   "metadata": {},
   "outputs": [],
   "source": []
  },
  {
   "cell_type": "code",
   "execution_count": null,
   "id": "c9c22364-5732-4649-bc4e-e6dc60c0a1ed",
   "metadata": {},
   "outputs": [],
   "source": []
  },
  {
   "cell_type": "code",
   "execution_count": null,
   "id": "d60f50a2-d0e8-4166-846f-fd0fbc0dea51",
   "metadata": {},
   "outputs": [],
   "source": []
  },
  {
   "cell_type": "code",
   "execution_count": null,
   "id": "7d118482-67a0-4a3b-839f-f33d57fda74c",
   "metadata": {},
   "outputs": [],
   "source": []
  },
  {
   "cell_type": "code",
   "execution_count": null,
   "id": "7ebd8544-f73f-471e-a7d0-8c4829a4a374",
   "metadata": {},
   "outputs": [],
   "source": []
  }
 ],
 "metadata": {
  "kernelspec": {
   "display_name": "Python 3 (ipykernel)",
   "language": "python",
   "name": "python3"
  },
  "language_info": {
   "codemirror_mode": {
    "name": "ipython",
    "version": 3
   },
   "file_extension": ".py",
   "mimetype": "text/x-python",
   "name": "python",
   "nbconvert_exporter": "python",
   "pygments_lexer": "ipython3",
   "version": "3.9.13"
  }
 },
 "nbformat": 4,
 "nbformat_minor": 5
}
