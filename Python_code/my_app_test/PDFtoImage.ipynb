{
 "cells": [
  {
   "cell_type": "code",
   "execution_count": 16,
   "id": "4b714c80-ec12-4164-91a4-1a5af5ce5159",
   "metadata": {
    "scrolled": true
   },
   "outputs": [],
   "source": [
    "from PIL import Image"
   ]
  },
  {
   "cell_type": "code",
   "execution_count": 17,
   "id": "29fd4c65-50ab-41ec-9685-91d9f26bd852",
   "metadata": {},
   "outputs": [],
   "source": [
    "a = Image.open('test.jpg')\n",
    "a.save()"
   ]
  },
  {
   "cell_type": "code",
   "execution_count": 9,
   "id": "a93e1932-7849-4b8c-83cd-139b54193a0f",
   "metadata": {},
   "outputs": [],
   "source": [
    "pdf_list =[\"sample_page_4.jpg\",\n",
    "'sample_page_1.jpg',\n",
    "'sample_page_2.jpg',\n",
    "'sample_page_3.jpg',\n",
    "'aaaa_page_2.jpg',\n",
    "'aaaa_page_3.jpg'\n",
    "          ]"
   ]
  },
  {
   "cell_type": "code",
   "execution_count": 13,
   "id": "7e0ca5e5-b2c0-43ed-a520-1800e6a664fd",
   "metadata": {},
   "outputs": [],
   "source": [
    "imgs_path = sorted(pdf_list)"
   ]
  },
  {
   "cell_type": "code",
   "execution_count": 14,
   "id": "cbd3c913-6feb-446b-b056-ad6b60e0eb9d",
   "metadata": {},
   "outputs": [
    {
     "data": {
      "text/plain": [
       "['aaaa_page_2.jpg',\n",
       " 'aaaa_page_3.jpg',\n",
       " 'sample_page_1.jpg',\n",
       " 'sample_page_2.jpg',\n",
       " 'sample_page_3.jpg',\n",
       " 'sample_page_4.jpg']"
      ]
     },
     "execution_count": 14,
     "metadata": {},
     "output_type": "execute_result"
    }
   ],
   "source": [
    "imgs_path"
   ]
  },
  {
   "cell_type": "code",
   "execution_count": null,
   "id": "74990932-8468-4c0d-b5e4-dc9867470e14",
   "metadata": {},
   "outputs": [],
   "source": []
  },
  {
   "cell_type": "code",
   "execution_count": null,
   "id": "ea64f1b9-c03b-48c7-b692-127896b4498a",
   "metadata": {},
   "outputs": [],
   "source": []
  },
  {
   "cell_type": "code",
   "execution_count": null,
   "id": "c9d8a0b0-2faa-45c0-b5fb-9100ae9b6c6c",
   "metadata": {},
   "outputs": [],
   "source": []
  },
  {
   "cell_type": "code",
   "execution_count": null,
   "id": "65b96a3b-5f66-42a6-bf7f-c81a759b9451",
   "metadata": {},
   "outputs": [],
   "source": []
  },
  {
   "cell_type": "code",
   "execution_count": null,
   "id": "0973d09c-2d15-43ca-bc80-6a1fc4a1dd21",
   "metadata": {},
   "outputs": [],
   "source": []
  },
  {
   "cell_type": "code",
   "execution_count": null,
   "id": "2592e9be-3dd7-4aab-ba2c-efc1a8fdd765",
   "metadata": {},
   "outputs": [],
   "source": []
  },
  {
   "cell_type": "code",
   "execution_count": null,
   "id": "6a88877a-7e7c-4469-96e7-f6ca22cad21f",
   "metadata": {},
   "outputs": [],
   "source": []
  },
  {
   "cell_type": "code",
   "execution_count": null,
   "id": "08adc444-7013-4152-a6fc-78de2287b50e",
   "metadata": {},
   "outputs": [],
   "source": []
  },
  {
   "cell_type": "code",
   "execution_count": null,
   "id": "c1c2a9ee-de1f-4939-847c-3c41ddabd965",
   "metadata": {},
   "outputs": [],
   "source": []
  },
  {
   "cell_type": "code",
   "execution_count": null,
   "id": "1a2fd039-306b-4b2c-a42d-707cfdf531d9",
   "metadata": {},
   "outputs": [],
   "source": []
  },
  {
   "cell_type": "code",
   "execution_count": null,
   "id": "f6e4c85b-8336-4659-a936-893062009723",
   "metadata": {},
   "outputs": [],
   "source": []
  },
  {
   "cell_type": "code",
   "execution_count": null,
   "id": "d90130cc-1be8-4a9b-98b2-dc8c1a3166b1",
   "metadata": {},
   "outputs": [],
   "source": []
  }
 ],
 "metadata": {
  "kernelspec": {
   "display_name": "Python 3 (ipykernel)",
   "language": "python",
   "name": "python3"
  },
  "language_info": {
   "codemirror_mode": {
    "name": "ipython",
    "version": 3
   },
   "file_extension": ".py",
   "mimetype": "text/x-python",
   "name": "python",
   "nbconvert_exporter": "python",
   "pygments_lexer": "ipython3",
   "version": "3.8.18"
  }
 },
 "nbformat": 4,
 "nbformat_minor": 5
}
