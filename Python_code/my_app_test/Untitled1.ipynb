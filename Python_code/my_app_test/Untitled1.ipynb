{
 "cells": [
  {
   "cell_type": "code",
   "execution_count": 17,
   "id": "6c423ab6-7ff5-4b79-9da8-95750559fe9a",
   "metadata": {},
   "outputs": [],
   "source": [
    "import cv2\n",
    "import numpy as np"
   ]
  },
  {
   "cell_type": "code",
   "execution_count": 14,
   "id": "95f27f64-319c-4916-8a30-297ee213fcb7",
   "metadata": {},
   "outputs": [],
   "source": [
    "# def run()を模した関数\n",
    "def test(a):\n",
    "    if a :\n",
    "        return 1 , [1, 2, 3]\n",
    "    else:\n",
    "        return 0 , None"
   ]
  },
  {
   "cell_type": "code",
   "execution_count": 15,
   "id": "3f37fcc9-a80b-4fef-b4cc-5a9d22c3abec",
   "metadata": {},
   "outputs": [],
   "source": [
    "# main.pyのrun()の返しの処理 -> 0:False, 1:True\n",
    "count = 0\n",
    "img_list = []\n",
    "for b in [0, 0, 1, 0, 1]:\n",
    "    cls, img = test(b)\n",
    "    count += cls\n",
    "    if img:\n",
    "        img_list.append(img)"
   ]
  },
  {
   "cell_type": "code",
   "execution_count": 16,
   "id": "1e37d2ed-41f4-423b-81e0-76e9914521a2",
   "metadata": {},
   "outputs": [
    {
     "data": {
      "text/plain": [
       "[[1, 2, 3], [1, 2, 3]]"
      ]
     },
     "execution_count": 16,
     "metadata": {},
     "output_type": "execute_result"
    }
   ],
   "source": [
    "img_list"
   ]
  },
  {
   "cell_type": "code",
   "execution_count": null,
   "id": "4fdeecc3-499c-4eea-97dc-2f8b4f7f2204",
   "metadata": {},
   "outputs": [],
   "source": []
  },
  {
   "cell_type": "code",
   "execution_count": 18,
   "id": "44a7ca3c-76ea-4538-a548-b4d7b3d6b43b",
   "metadata": {},
   "outputs": [],
   "source": [
    "# byte処理\n",
    "\n",
    "# 画像処理を行う\n",
    "img_bgr = cv2.imread(\"test_006.jpg\")\n",
    "img_rgb = cv2.cvtColor(img_bgr, cv2.COLOR_BGR2RGB)\n",
    "img_chw = img_rgb.transpose(2, 0, 1)\n",
    "\n",
    "# ndarrayをバイナリデータに変換\n",
    "img_bytes = img_chw.tobytes()"
   ]
  },
  {
   "cell_type": "code",
   "execution_count": 20,
   "id": "756985ef-59e4-4afb-a8ee-11b899583aba",
   "metadata": {},
   "outputs": [
    {
     "data": {
      "text/plain": [
       "bytes"
      ]
     },
     "execution_count": 20,
     "metadata": {},
     "output_type": "execute_result"
    }
   ],
   "source": [
    "img_bytes"
   ]
  },
  {
   "cell_type": "code",
   "execution_count": null,
   "id": "a1632717-2431-440e-8c40-58aa47c28170",
   "metadata": {},
   "outputs": [],
   "source": []
  },
  {
   "cell_type": "code",
   "execution_count": null,
   "id": "0f08d378-0088-4978-ae95-8d1007d63e30",
   "metadata": {},
   "outputs": [],
   "source": []
  },
  {
   "cell_type": "code",
   "execution_count": null,
   "id": "2a4ca0d0-b869-414c-863a-cbb8ba3dad09",
   "metadata": {},
   "outputs": [],
   "source": []
  },
  {
   "cell_type": "code",
   "execution_count": null,
   "id": "68524238-030a-4993-8f2d-f934d5507dc8",
   "metadata": {},
   "outputs": [],
   "source": []
  }
 ],
 "metadata": {
  "kernelspec": {
   "display_name": "Python 3 (ipykernel)",
   "language": "python",
   "name": "python3"
  },
  "language_info": {
   "codemirror_mode": {
    "name": "ipython",
    "version": 3
   },
   "file_extension": ".py",
   "mimetype": "text/x-python",
   "name": "python",
   "nbconvert_exporter": "python",
   "pygments_lexer": "ipython3",
   "version": "3.8.18"
  }
 },
 "nbformat": 4,
 "nbformat_minor": 5
}
