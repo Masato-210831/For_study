{
 "cells": [
  {
   "cell_type": "code",
   "execution_count": 1,
   "id": "f5c9a777-0600-4563-97cb-dad93df8d641",
   "metadata": {},
   "outputs": [],
   "source": [
    "import torch\n",
    "import torchvision\n",
    "import glob\n",
    "from PIL import Image, ImageOps\n",
    "import onnxruntime\n",
    "import numpy as np\n",
    "import time\n"
   ]
  },
  {
   "cell_type": "markdown",
   "id": "c6bd3b4d-eb24-4ca5-8212-286245c3ac3b",
   "metadata": {},
   "source": [
    "## 自作前処理　＋　onnx "
   ]
  },
  {
   "cell_type": "code",
   "execution_count": 2,
   "id": "9cd0d118-37a1-41dd-b7a0-87697196dfb2",
   "metadata": {},
   "outputs": [
    {
     "name": "stderr",
     "output_type": "stream",
     "text": [
      "YOLOv5 🚀 2024-3-10 Python-3.8.18 torch-2.2.1+cu121 CPU\n",
      "\n",
      "Loading best.onnx for ONNX Runtime inference...\n",
      "Adding AutoShape... \n"
     ]
    }
   ],
   "source": [
    "model = torch.hub.load('./hidden_others/yolov5', 'custom', 'best.onnx', source='local')"
   ]
  },
  {
   "cell_type": "code",
   "execution_count": 3,
   "id": "f9109321-13a2-49f8-8464-9723d5d44bbd",
   "metadata": {},
   "outputs": [],
   "source": [
    "img_files = ['test_002.jpg']"
   ]
  },
  {
   "cell_type": "code",
   "execution_count": 4,
   "id": "fe5fb0e3-cdb1-43e4-ad9b-e24adc9b51a7",
   "metadata": {},
   "outputs": [
    {
     "name": "stderr",
     "output_type": "stream",
     "text": [
      "image 1/1: 640x640 1 押印, 1 未押印\n",
      "Speed: 5.7ms pre-process, 344.9ms inference, 10.7ms NMS per image at shape (1, 3, 640, 640)\n"
     ]
    },
    {
     "name": "stdout",
     "output_type": "stream",
     "text": [
      "[tensor([[4.27367e+02, 4.45427e+02, 4.72278e+02, 5.03631e+02, 9.22218e-01, 1.00000e+00],\n",
      "        [4.27713e+02, 4.46479e+02, 4.73168e+02, 5.03123e+02, 4.53981e-01, 0.00000e+00]])]\n"
     ]
    }
   ],
   "source": [
    "# 処理された画像を保持するリスト\n",
    "processed_imgs = []\n",
    "\n",
    "img_size = 640\n",
    "\n",
    "for img_file in img_files:\n",
    "    # 画像を開き、期待するサイズにリサイズ\n",
    "    img = Image.open(img_file)\n",
    "    img.thumbnail((img_size, img_size))\n",
    "    img = ImageOps.pad(img, size=((img_size, img_size)))\n",
    "    img.save('pad_002.jpg')\n",
    "    processed_imgs.append(img)\n",
    "\n",
    "for img in processed_imgs:\n",
    "    # model.conf = 0.6\n",
    "    result = model(img)\n",
    "    result.print()\n",
    "    print(result.xyxy)"
   ]
  },
  {
   "cell_type": "code",
   "execution_count": 5,
   "id": "4f48d8a6-af34-4a05-ae98-c4a60b983671",
   "metadata": {},
   "outputs": [
    {
     "data": {
      "text/plain": [
       "[tensor([[4.27367e+02, 4.45427e+02, 4.72278e+02, 5.03631e+02, 9.22218e-01, 1.00000e+00],\n",
       "         [4.27713e+02, 4.46479e+02, 4.73168e+02, 5.03123e+02, 4.53981e-01, 0.00000e+00]])]"
      ]
     },
     "execution_count": 5,
     "metadata": {},
     "output_type": "execute_result"
    }
   ],
   "source": [
    "result.xyxy"
   ]
  },
  {
   "cell_type": "code",
   "execution_count": null,
   "id": "1e6c3462-f8bc-42b2-973e-f080ca125404",
   "metadata": {},
   "outputs": [],
   "source": []
  },
  {
   "cell_type": "markdown",
   "id": "36d90e6e-f461-439b-81a8-4ede15e00057",
   "metadata": {},
   "source": [
    "## 自前前処理　＋　best.pt "
   ]
  },
  {
   "cell_type": "code",
   "execution_count": 10,
   "id": "eda2d807-8cb1-4767-95f4-89106b4f9344",
   "metadata": {},
   "outputs": [
    {
     "name": "stderr",
     "output_type": "stream",
     "text": [
      "YOLOv5 🚀 2024-3-10 Python-3.8.18 torch-2.2.1+cu121 CPU\n",
      "\n",
      "Fusing layers... \n",
      "YOLOv5m summary: 212 layers, 20856975 parameters, 0 gradients, 47.9 GFLOPs\n",
      "Adding AutoShape... \n"
     ]
    }
   ],
   "source": [
    "model1 = torch.hub.load('./hidden_others/yolov5', 'custom', './hidden_others/best.pt', source='local')"
   ]
  },
  {
   "cell_type": "code",
   "execution_count": 7,
   "id": "85fc0787-a15a-45e7-a4c6-0ab173c0ce56",
   "metadata": {},
   "outputs": [
    {
     "name": "stderr",
     "output_type": "stream",
     "text": [
      "image 1/1: 640x640 1 押印, 1 未押印\n",
      "Speed: 11.9ms pre-process, 409.9ms inference, 0.9ms NMS per image at shape (1, 3, 640, 640)\n"
     ]
    },
    {
     "name": "stdout",
     "output_type": "stream",
     "text": [
      "[tensor([[4.27367e+02, 4.45427e+02, 4.72278e+02, 5.03631e+02, 9.22218e-01, 1.00000e+00],\n",
      "        [4.27713e+02, 4.46479e+02, 4.73168e+02, 5.03123e+02, 4.53982e-01, 0.00000e+00]])]\n"
     ]
    }
   ],
   "source": [
    "for img in processed_imgs:\n",
    "    # model1.conf = 0.6\n",
    "    result = model1(img)\n",
    "    result.print()\n",
    "    print(result.xyxy)"
   ]
  },
  {
   "cell_type": "code",
   "execution_count": 104,
   "id": "ba41cf10-88c0-4011-9bf5-ac69e72c4e00",
   "metadata": {},
   "outputs": [
    {
     "name": "stdout",
     "output_type": "stream",
     "text": [
      "[tensor([[4.27367e+02, 4.45427e+02, 4.72278e+02, 5.03631e+02, 9.22218e-01, 1.00000e+00],\n",
      "        [4.27713e+02, 4.46479e+02, 4.73168e+02, 5.03123e+02, 4.53982e-01, 0.00000e+00]])]\n"
     ]
    }
   ],
   "source": [
    "print(result.xyxy)"
   ]
  },
  {
   "cell_type": "markdown",
   "id": "dd4b40c2-aebd-4622-aee9-6dbf82d4db5a",
   "metadata": {},
   "source": [
    "## yolov5 + best.pt"
   ]
  },
  {
   "cell_type": "code",
   "execution_count": 105,
   "id": "18944730-a90b-460e-9bf6-82e99dadae48",
   "metadata": {},
   "outputs": [
    {
     "name": "stderr",
     "output_type": "stream",
     "text": [
      "YOLOv5 🚀 2024-3-10 Python-3.8.18 torch-2.2.1+cu121 CPU\n",
      "\n",
      "Fusing layers... \n",
      "YOLOv5m summary: 212 layers, 20856975 parameters, 0 gradients, 47.9 GFLOPs\n",
      "Adding AutoShape... \n"
     ]
    }
   ],
   "source": [
    "model1 = torch.hub.load('./hidden_others/yolov5', 'custom', './hidden_others/best.pt', source='local')"
   ]
  },
  {
   "cell_type": "code",
   "execution_count": 106,
   "id": "7b27ec55-cdc6-4916-a83a-d1e92bf2f96d",
   "metadata": {},
   "outputs": [
    {
     "name": "stderr",
     "output_type": "stream",
     "text": [
      "image 1/1: 1161x819 1 押印, 1 未押印\n",
      "Speed: 63.9ms pre-process, 399.6ms inference, 1.1ms NMS per image at shape (1, 3, 640, 480)\n"
     ]
    },
    {
     "data": {
      "text/plain": [
       "[tensor([[6.04151e+02, 8.07996e+02, 6.85716e+02, 9.13076e+02, 9.32026e-01, 1.00000e+00],\n",
       "         [6.01491e+02, 8.06746e+02, 6.88052e+02, 9.11995e+02, 7.41273e-01, 0.00000e+00]])]"
      ]
     },
     "execution_count": 106,
     "metadata": {},
     "output_type": "execute_result"
    }
   ],
   "source": [
    "result = model1(img_files)\n",
    "# model1.conf = 0.6\n",
    "result.print()\n",
    "result.xyxy"
   ]
  },
  {
   "cell_type": "code",
   "execution_count": 107,
   "id": "2ae572f8-e746-426b-b860-35583579b8c3",
   "metadata": {},
   "outputs": [
    {
     "data": {
      "text/plain": [
       "[         xmin        ymin        xmax        ymax  confidence  class name\n",
       " 0  604.151001  807.996033  685.716492  913.076233    0.932026      1  未押印\n",
       " 1  601.491211  806.746277  688.052124  911.995056    0.741273      0   押印]"
      ]
     },
     "execution_count": 107,
     "metadata": {},
     "output_type": "execute_result"
    }
   ],
   "source": [
    "result.pandas().xyxy"
   ]
  },
  {
   "cell_type": "code",
   "execution_count": null,
   "id": "f121b39a-0500-4850-97c9-b0d1a35e1424",
   "metadata": {},
   "outputs": [],
   "source": []
  },
  {
   "cell_type": "code",
   "execution_count": null,
   "id": "ced6b2a3-356c-466e-a0e6-6f7ab7e23beb",
   "metadata": {},
   "outputs": [],
   "source": []
  },
  {
   "cell_type": "code",
   "execution_count": null,
   "id": "eb8550e8-4cb8-4e79-a1a0-e4d7b2d882e0",
   "metadata": {},
   "outputs": [],
   "source": []
  },
  {
   "cell_type": "code",
   "execution_count": null,
   "id": "094bbbd2-f145-4d3a-b3b9-615d7609e31b",
   "metadata": {},
   "outputs": [],
   "source": []
  },
  {
   "cell_type": "code",
   "execution_count": null,
   "id": "02b0483d-afd2-4698-accc-c35b836f3cb2",
   "metadata": {},
   "outputs": [],
   "source": []
  },
  {
   "cell_type": "code",
   "execution_count": null,
   "id": "4e9996e1-5337-4491-8b93-7460071d1147",
   "metadata": {},
   "outputs": [],
   "source": []
  },
  {
   "cell_type": "code",
   "execution_count": null,
   "id": "517c0896-8997-4e53-9b54-c53489542537",
   "metadata": {},
   "outputs": [],
   "source": []
  },
  {
   "cell_type": "code",
   "execution_count": null,
   "id": "c4460c90-d335-4ca6-947a-8b74f26b5fa8",
   "metadata": {},
   "outputs": [],
   "source": []
  },
  {
   "cell_type": "code",
   "execution_count": 9,
   "id": "445bd8a4-1617-40b6-a7ac-c9394d1953c1",
   "metadata": {},
   "outputs": [],
   "source": [
    "def preprocess_image(image_path, target_size=640):\n",
    "    image_list = []\n",
    "    for one_image in image_path:\n",
    "        image = Image.open(one_image)\n",
    "        image.thumbnail((target_size, target_size))\n",
    "        padded_image = ImageOps.pad(image, (target_size, target_size), color='black') \n",
    "        image_np = np.array(padded_image).astype(np.float32) / 255.0\n",
    "        image_np = np.transpose(image_np, [2, 0, 1])  # HWCからCHWへ変換\n",
    "        image_np = np.expand_dims(image_np, axis=0)  # バッチサイズの次元を追加\n",
    "    return image_np"
   ]
  },
  {
   "cell_type": "code",
   "execution_count": 91,
   "id": "dff0e07a-b22d-43a3-9cc0-889e0c6cc99c",
   "metadata": {},
   "outputs": [],
   "source": [
    "def preprocess_image(image_path, target_size=640):\n",
    "    image_list = []\n",
    "    for one_image in image_path:\n",
    "        image = Image.open(one_image)\n",
    "        image.thumbnail((target_size, target_size))\n",
    "        padded_image = ImageOps.pad(image, (target_size, target_size), color='black') \n",
    "        image_np = ((np.array(padded_image).astype(np.float32) / 255.0)-0.5)*2\n",
    "        image_np = np.transpose(image_np, [2, 0, 1])  # HWCからCHWへ変換\n",
    "        image_np = np.expand_dims(image_np, axis=0)  # バッチサイズの次元を追加\n",
    "    return image_np"
   ]
  },
  {
   "cell_type": "code",
   "execution_count": 92,
   "id": "b9aadb04-bc5b-4638-8b72-1f6e2f555883",
   "metadata": {},
   "outputs": [],
   "source": [
    "# ONNX Runtimeセッションを作成し、モデルをロード\n",
    "session = onnxruntime.InferenceSession('best.onnx')"
   ]
  },
  {
   "cell_type": "code",
   "execution_count": 93,
   "id": "f93f6a78-096e-4d6f-8c02-6d449c230f3d",
   "metadata": {},
   "outputs": [],
   "source": [
    "image_path = img_files\n",
    "input_tensor = preprocess_image(image_path)"
   ]
  },
  {
   "cell_type": "code",
   "execution_count": 94,
   "id": "84238635-d135-43bc-863d-9dabbb6c6448",
   "metadata": {},
   "outputs": [],
   "source": [
    "# 推論を実行\n",
    "input_name = session.get_inputs()[0].name\n",
    "output_name = session.get_outputs()[0].name\n",
    "result = session.run([output_name], {input_name: input_tensor})"
   ]
  },
  {
   "cell_type": "code",
   "execution_count": 95,
   "id": "5d49f45f-1e51-4477-b860-cdffbd253933",
   "metadata": {},
   "outputs": [],
   "source": [
    "conf_thres = 0.25  # 信頼値の閾値\n",
    "iou_thres = 0.45  # NMS IOU の閾値\n",
    "agnostic_nms = False\n",
    "max_det = 1000\n",
    "\n",
    "\n",
    "pred = torch.from_numpy(result[0])\n",
    "pred = non_max_suppression(pred, conf_thres, iou_thres, agnostic_nms, max_det=max_det)"
   ]
  },
  {
   "cell_type": "code",
   "execution_count": 96,
   "id": "9bd1359c-254c-4487-91da-15c2e8441943",
   "metadata": {},
   "outputs": [
    {
     "data": {
      "text/plain": [
       "[tensor([[4.27126e+02, 4.45251e+02, 4.72056e+02, 5.03764e+02, 9.26464e-01, 1.00000e+00],\n",
       "         [4.27496e+02, 4.46230e+02, 4.73546e+02, 5.03092e+02, 4.41865e-01, 0.00000e+00]])]"
      ]
     },
     "execution_count": 96,
     "metadata": {},
     "output_type": "execute_result"
    }
   ],
   "source": [
    "pred"
   ]
  },
  {
   "cell_type": "markdown",
   "id": "e63d5fbb-91dd-41b9-a81a-a6e4dbdaaae9",
   "metadata": {},
   "source": [
    "#### conf_thresを下げると押印欄の検知がされる！！！！！！！！！！！！！！！！"
   ]
  },
  {
   "cell_type": "code",
   "execution_count": null,
   "id": "3f29f3fc-ad89-4153-89c2-9327996b93a5",
   "metadata": {},
   "outputs": [],
   "source": []
  },
  {
   "cell_type": "code",
   "execution_count": null,
   "id": "b5f1cd9e-26ae-49a3-b408-aa13b690ef37",
   "metadata": {},
   "outputs": [],
   "source": []
  },
  {
   "cell_type": "code",
   "execution_count": null,
   "id": "45c9c2f9-22e6-4106-ae12-e51f2a0db4c3",
   "metadata": {},
   "outputs": [],
   "source": []
  },
  {
   "cell_type": "code",
   "execution_count": null,
   "id": "12739bfc-240d-43a3-9de3-b68e4e79bb33",
   "metadata": {},
   "outputs": [],
   "source": []
  },
  {
   "cell_type": "code",
   "execution_count": null,
   "id": "a51d9d52-82d1-4944-a7ac-34fbce74e1fc",
   "metadata": {},
   "outputs": [],
   "source": []
  },
  {
   "cell_type": "code",
   "execution_count": null,
   "id": "a44b6096-595c-433d-bd6a-5fcd8cd2a8f2",
   "metadata": {},
   "outputs": [],
   "source": []
  },
  {
   "cell_type": "code",
   "execution_count": null,
   "id": "e409cfa9-15bd-4fc7-a278-264933c00847",
   "metadata": {},
   "outputs": [],
   "source": []
  },
  {
   "cell_type": "code",
   "execution_count": null,
   "id": "fe67d44e-1790-435d-88b2-07e9f64fb821",
   "metadata": {},
   "outputs": [],
   "source": []
  },
  {
   "cell_type": "code",
   "execution_count": null,
   "id": "96ba9ea9-4515-426d-b09e-8029f2cf90dd",
   "metadata": {},
   "outputs": [],
   "source": []
  },
  {
   "cell_type": "code",
   "execution_count": null,
   "id": "900d8d0f-e9f2-4dfc-88f7-520c8100bf2a",
   "metadata": {},
   "outputs": [],
   "source": []
  },
  {
   "cell_type": "code",
   "execution_count": 16,
   "id": "34eadff4-3627-40d9-ada8-2832e880cf72",
   "metadata": {},
   "outputs": [],
   "source": [
    "def box_label (\n",
    "    img,\n",
    "    box,\n",
    "    label =\"\",\n",
    "    color = (56, 56, 255),\n",
    "    txt_color = (255, 255, 255),\n",
    "    \n",
    "):\n",
    "    \"\"\"\n",
    "    オリジナル画像にクラス、クラス確率のテキストが付与されたbboxを描画する。\n",
    "\n",
    "    Parameters\n",
    "    --------------\n",
    "    img : (ndarray) cv2処理されたオリジナル画像のndarray配列。\n",
    "                    Channelは(B, G, R)。\n",
    "    box : (tensor) リスケール画像のbboxの情報　[x1, y1, x2, y2]。\n",
    "                   x1,y1はbboxの左上のx,y座標、x2, y2は右下のx,y座標を表す。\n",
    "    label : (str) bboxに付与されるテキスト \"bboxのクラス名 クラス確率(下2桁)\"の文字列。\n",
    "    color : (tuple | list-like) bboxの枠の色 (B, G, R)。\n",
    "    txt_color : (tuple | list-like) bboxの付与するテキストの色。 \n",
    "                                    PIL処理のため、Channelは(R, G, B)。\n",
    "\n",
    "    \n",
    "    Return\n",
    "    -----------\n",
    "    output : (ndarray) オリジナル画像にbbox(テキスト付き)を描画したndarray配列。\n",
    "    \n",
    "    \"\"\"\n",
    "\n",
    "    \n",
    "    # YOLOv5の使用より (参照：ultralytics/ultralytics/utils/plotting.py)\n",
    "    # line_widthは　1　と　2で挙動を確認済み\n",
    "    line_width = max(math.floor(sum(img.shape) / 2 * 0.003), 2) # bboxの枠用に調整\n",
    "    \n",
    "    # p1:(x1, y1), p2:(x2, y2)\n",
    "    p1, p2 = (int(box[0]), int(box[1])), (int(box[2]), int(box[3]))\n",
    "    \n",
    "    # bboxの描画\n",
    "    cv2.rectangle(img, p1, p2, color, thickness=line_width, lineType=cv2.LINE_AA)\n",
    "    \n",
    "    if label:\n",
    "        \n",
    "        # 日本語フォントファイルのパス\n",
    "        font_path = \"font/Koruri-Bold.ttf\"\n",
    "    \n",
    "        # 日本語フォントを読み込み\n",
    "        font_size = int(line_width * 6)\n",
    "        font = ImageFont.truetype(font_path, font_size)\n",
    "    \n",
    "        # テキストのサイズを計算\n",
    "        text_bbox = font.getbbox(label) # return -> bboxの(left, top, right, bottom) \n",
    "        w, h = text_bbox[2] - text_bbox[0], text_bbox[3] - text_bbox[1]\n",
    "    \n",
    "        # テキスト用の領域描画\n",
    "        outside = p1[1] - h >= 3\n",
    "        p2 = p1[0] + w + 7, p1[1] - h - 5 if outside else p1[1] + h + 5 # テキスト分の右上座標を計算 \n",
    "        cv2.rectangle(img, p1, p2, color, -1, cv2.LINE_AA)  # テキスト領域の塗り潰し\n",
    "    \n",
    "        #------------ PIL (BGR -> RGB)　-------------\n",
    "        # PILイメージに変換\n",
    "        img = cv2.cvtColor(img, cv2.COLOR_BGR2RGB) # BGR -> RGB変換\n",
    "        img_pil = Image.fromarray(img)\n",
    "        draw = ImageDraw.Draw(img_pil)\n",
    "    \n",
    "        # テキストを描画\n",
    "        position = (p1[0]+ 4, p2[1] if outside else p1[1] + h + 2)\n",
    "        draw.text(position, label, font=font, fill=txt_color)\n",
    "    \n",
    "        # ndarrayに変換\n",
    "        img = np.array(img_pil)\n",
    "        img = cv2.cvtColor(img, cv2.COLOR_BGR2RGB) # BGRに戻す\n",
    "        \n",
    "\n",
    "    return img"
   ]
  },
  {
   "cell_type": "code",
   "execution_count": 17,
   "id": "81901027-9002-4100-8a0b-f6e67a940d57",
   "metadata": {},
   "outputs": [],
   "source": [
    "def scale_boxes(scaled_img_shape, boxes, img_shape):\n",
    "    \"\"\"\n",
    "    渡されたbboxをオリジナル画像用に調整する。\n",
    "\n",
    "    Parameters\n",
    "    --------------\n",
    "    scaled_img_shape : (tuple) リスケールした画像のshape()\n",
    "    boxes : (tensor) リスケール画像用bboxの情報　[x1, y1, x2, y2]\n",
    "                     x1,y1はbboxの左上のx,y座標、x2, y2は右下のx,y座標を表す\n",
    "    img_shape : (tuple) オリジナル画像のshape, (H, W, C)の順番\n",
    "\n",
    "    \n",
    "    Return\n",
    "    -----------\n",
    "    output : (tensor) オリジナル画像用に調整したbboxの情報 [x1, y1, x2, y2]\n",
    "                      オリジナル画像からはみ出る大きさのbboxはクリッピングされる。\n",
    "    \n",
    "    \"\"\"\n",
    "    \n",
    "    ratio = min(scaled_img_shape[0] / img_shape[0], scaled_img_shape[1] / img_shape[1]) # new / old\n",
    "    pad = (scaled_img_shape[1] - img_shape[1] * ratio) / 2, (scaled_img_shape[0] - img_shape[0] * ratio) / 2 # 片面のpad計算 \n",
    "    \n",
    "    # 元画像用にbboxを調整するため,\n",
    "    # 片方のpad分を引き、リスケールの比率で割る\n",
    "    boxes[:, [0, 2]] -= pad[0] # x padding\n",
    "    boxes[:, [1, 3]] -= pad[1] # y padding\n",
    "    boxes /= ratio \n",
    "    \n",
    "    # 0以上、オリジナル画像の幅、高さ以内にbboxが入るようにクリップ\n",
    "    clip_boxes(boxes, img_shape)\n",
    "\n",
    "    return boxes\n",
    "\n"
   ]
  },
  {
   "cell_type": "code",
   "execution_count": 18,
   "id": "1fd3c109-82ac-4019-a523-382d000469c4",
   "metadata": {},
   "outputs": [],
   "source": [
    "def clip_boxes(boxes, shape):\n",
    "    \"\"\"\n",
    "    bboxがオリジナル画像の範囲内に収まるようにクリッピング\n",
    "    0以上もしくはオリジナル画像の幅、高さに制限する。\n",
    "    \n",
    "    Parameters\n",
    "    --------------\n",
    "    boxes : (tensor) オリジナル画像用に調整したbbox, [x1, y1, x2, y2],\n",
    "                     x1,y1はbboxの左上のx,y座標、x2, y2は右下のx,y座標を表す\n",
    "    shape : (tuple) オリジナル画像のshape, (H, W, C)の順番\n",
    "\n",
    "\n",
    "    Return\n",
    "    -----------\n",
    "    output : None \n",
    "             しかし、クリッピングにより変更がある場合は、直接boxesに直接変更が加えられる。\n",
    "    \n",
    "    \"\"\"\n",
    "    \n",
    "    # bboxがオリジナル画像の範囲内に収まるようにクリッピング\n",
    "    boxes[..., 0].clamp_(0, shape[1])  # x1\n",
    "    boxes[..., 1].clamp_(0, shape[0])  # y1\n",
    "    boxes[..., 2].clamp_(0, shape[1])  # x2\n",
    "    boxes[..., 3].clamp_(0, shape[0])  # y2\n"
   ]
  },
  {
   "cell_type": "code",
   "execution_count": 19,
   "id": "d2298587-2150-40d3-8ee3-037ad87eb0fb",
   "metadata": {},
   "outputs": [],
   "source": [
    "def non_max_suppression(\n",
    "    prediction, \n",
    "    conf_thres=0.25,\n",
    "    iou_thres=0.45,\n",
    "    agnostic=False,\n",
    "    labels=(),\n",
    "    max_det=300,\n",
    "    nm=0,\n",
    "):\n",
    "    \"\"\"\n",
    "    \n",
    "    YOLOの予測結果をNMS処理する。\n",
    "\n",
    "    Parameters\n",
    "    --------------\n",
    "    prediction : (tensor) テンソル化したyoloが予測した結果\n",
    "    conf_thres : (float) バウンディングボックス(bbox)の信頼度スコアの閾値\n",
    "    iou_thres : (float) IOUの閾値\n",
    "    agnostic : (Bool) 重なった異なるクラスのbboxを同一のbboxにするか\n",
    "    labels : (tuple or list-like) 画像内のラベルの情報\n",
    "    max_det : (int) 最大のbbox数\n",
    "    nm : (int) マスク数\n",
    "    \n",
    "    Return\n",
    "    -----------\n",
    "    output : (tensor) NMS処理後のbbox情報を含むテンソル、[x1, y1, x2, y2, クラス確率, cls_id]のカラムに変換されている\n",
    "                      x1,y1はbboxの左上のx,y座標、x2, y2は右下のx,y座標を表す\n",
    "                      \n",
    "    \"\"\"\n",
    "    batch_size = prediction.shape[0] # バッチサイズ\n",
    "    num_class = prediction.shape[2] - nm - 5 # クラス数\n",
    "    bool_cnf = prediction[..., 4] > conf_thres # bbox毎に信頼度スコアがconf_thresより大きいかのbool\n",
    "    \n",
    "    max_wh = 7680  # 最大のbboxの幅、高さ\n",
    "    max_nms = 30000  # torchvision.ops.nms()のための最大のbbox数\n",
    "    time_limit = 0.5 + 0.05 * batch_size  # タイムリミット(s)\n",
    "    \n",
    "    start = time.time()\n",
    "    mi = 5 + num_class\n",
    "    output = [torch.zeros((0, 6 + nm), device=prediction.device)] * batch_size\n",
    "    \n",
    "    \n",
    "    for idx, x in enumerate(prediction):\n",
    "    \n",
    "        # conf_thresより大きい信頼度スコアを持つbboxsを抽出\n",
    "        x = x[bool_cnf[idx]]\n",
    "    \n",
    "        # labelsを持っていた時の処理\n",
    "        if labels and len(labels[idx]):\n",
    "                lb = labels[idx]\n",
    "                v = torch.zeros((len(lb), num_class + nm + 5), device=x.device)\n",
    "                v[:, :4] = lb[:, 1:5]  # box\n",
    "                v[:, 4] = 1.0  # conf\n",
    "                v[range(len(lb)), lb[:, 0].long() + 5] = 1.0  # cls\n",
    "                x = torch.cat((x, v), 0)\n",
    "            \n",
    "    \n",
    "        # フィルター後のbboxがない場合\n",
    "        if not x.shape[0]:\n",
    "            continue\n",
    "            \n",
    "        x[:, 5:] *= x[:, 4:5] # 信頼度スコア*各cls確率\n",
    "        box = xywh2xyxy(x[:, :4]) # [x1, y1, x2, y2]:bboxの左上と右下の座標に変換\n",
    "        mask = x[:, mi:] # maskがなければ[]\n",
    "    \n",
    "        cls_prob, cls_id = x[:, 5:mi].max(1, keepdim=True) # 各bboxで確率の高いclsの値とcls_idを返す\n",
    "    \n",
    "        # [x1, y1, x2, y2, clsの確率, cls_id]のカラムの順に結合\n",
    "        # clsの確率(本来のprob*信頼度スコア)がconf_thresより高いもののみ抽出\n",
    "        x = torch.cat((box, cls_prob, cls_id.float(), mask), axis=1)[cls_prob.view(-1) > conf_thres]\n",
    "        \n",
    "        n = x.shape[0]\n",
    "        if not n:\n",
    "            continue\n",
    "    \n",
    "        # cls確率をキーにして降順に並び替え、且つ max_nmsを超えないようにする\n",
    "        x = x[x[:, 4].argsort(descending=True)[:max_nms]] \n",
    "    \n",
    "        # 異なるクラスのbboxを区別して評価するため、agnosticでクラス固有のbboxを作成\n",
    "        c = x[:, 5:6] * (0 if agnostic else max_wh)\n",
    "        boxes, scores = x[:, :4] + c, x[:, 4]\n",
    "    \n",
    "        # nms\n",
    "        selected_idx = torchvision.ops.nms(boxes, scores, iou_thres)\n",
    "        selected_idx = selected_idx[:max_det]\n",
    "\n",
    "        output[idx] = x[selected_idx]\n",
    "        finish = time.time()\n",
    "        if (finish - start) > time_limit:\n",
    "            break\n",
    "            \n",
    "    return output\n"
   ]
  },
  {
   "cell_type": "code",
   "execution_count": 20,
   "id": "683b3cfb-9bb1-4c77-8414-ca862c73f236",
   "metadata": {},
   "outputs": [],
   "source": [
    "def xywh2xyxy(x):\n",
    "    \"\"\"\n",
    "    [x中心、y中心、bboxの幅, bboxの高さ] -> [bboxの左上のx、bboxの左上のy, bboxの右下のx, bboxの右下のy]\n",
    "    \n",
    "    \"\"\"\n",
    "    y = x.clone()\n",
    "    y[..., 0] = x[..., 0] - x[..., 2] / 2  # bboxの左上のx\n",
    "    y[..., 1] = x[..., 1] - x[..., 3] / 2  # bboxの左上のy\n",
    "    y[..., 2] = x[..., 0] + x[..., 2] / 2  # bboxの右下のx\n",
    "    y[..., 3] = x[..., 1] + x[..., 3] / 2  # bboxの右下のy\n",
    "    return y"
   ]
  },
  {
   "cell_type": "code",
   "execution_count": 21,
   "id": "0f6b58b0-ed3c-418f-8bae-f9992fa9be3e",
   "metadata": {},
   "outputs": [],
   "source": [
    "def letterbox(\n",
    "    img,\n",
    "    new_shape=(640, 640),\n",
    "    color=(0, 0, 0),\n",
    "    scaleup=True,\n",
    "):\n",
    "    \"\"\"\n",
    "    指定されたサイズに画像をリサイズを行う。\n",
    "\n",
    "    Parameters\n",
    "    --------------\n",
    "    img : (ndarray) 画像のndarray配列\n",
    "    new_shape : (tuple) リサイズしたい画像サイズ\n",
    "    color : (tuple:(B, G, R)) パディングの色\n",
    "    scaleup : (Bool) スケールアップを行う場合はTrue\n",
    "\n",
    "    Return\n",
    "    -----------\n",
    "    padded_img : (ndarray) リサイズされた画像のndarray配列\n",
    "    ratio : (tuple リサイズした比率\n",
    "    (dw, dh) : (int:(横、高さ)) パディングした数値(横、高さ)\n",
    "    \"\"\"\n",
    "    \n",
    "    # アスペクト比を保った画像のリサイズ\n",
    "    ori_shape = img.shape[:2] # [H, W, C] -> [H, W]\n",
    "    r = min(new_shape[0] / ori_shape[0], new_shape[1] / ori_shape[1])\n",
    "    \n",
    "    # スケールアップなしの場合\n",
    "    if not scaleup:\n",
    "        r = min(r, 1.0)\n",
    "    \n",
    "    # アスペクト比を保ったまま、リスケール\n",
    "    ratio = (r, r)\n",
    "    new_unpad = (round(ori_shape[1] * r), round(ori_shape[0] * r)) # cv.resizeのため[W, H]にする\n",
    "    \n",
    "    # パディングする領域を算出\n",
    "    dw, dh = new_shape[1] - new_unpad[0], new_shape[0] - new_unpad[1]\n",
    "    dw, dh = dw / 2, dh / 2\n",
    "\n",
    "    # dw, dfが.5の時の対応 -> この微調整をしないとsession.run()時のinputのshapeが合わなくなる\n",
    "    top, bottom = round(dh - 0.1), round(dh + 0.1)\n",
    "    left, right = round(dw - 0.1), round(dw + 0.1)\n",
    "    \n",
    "    # 画像のリサイズ\n",
    "    if new_shape[::-1] != new_unpad:\n",
    "        img = cv2.resize(img, new_unpad, interpolation=cv2.INTER_LINEAR)\n",
    "        \n",
    "    padded_img = cv2.copyMakeBorder(img, top, bottom, left, right, cv2.BORDER_CONSTANT, value=color)\n",
    "\n",
    "    return padded_img, ratio, (dw, dh)"
   ]
  },
  {
   "cell_type": "code",
   "execution_count": null,
   "id": "4d2ea9ce-a781-4d85-8450-7b54c8545cb3",
   "metadata": {},
   "outputs": [],
   "source": []
  },
  {
   "cell_type": "code",
   "execution_count": null,
   "id": "05d2a132-35eb-4e91-8e2d-4cad8609e29e",
   "metadata": {},
   "outputs": [],
   "source": []
  },
  {
   "cell_type": "code",
   "execution_count": null,
   "id": "9d04d86b-97ad-4d27-b59f-6bf646edbb88",
   "metadata": {},
   "outputs": [],
   "source": []
  },
  {
   "cell_type": "code",
   "execution_count": null,
   "id": "003b8408-de89-4181-8cb4-3ec92b5f7e69",
   "metadata": {},
   "outputs": [],
   "source": []
  },
  {
   "cell_type": "code",
   "execution_count": null,
   "id": "e7ec6f21-e0bf-4193-9901-3422e1b6b0fd",
   "metadata": {},
   "outputs": [],
   "source": []
  },
  {
   "cell_type": "code",
   "execution_count": null,
   "id": "383189b3-a281-4b18-a61f-a85101800d5d",
   "metadata": {},
   "outputs": [],
   "source": []
  },
  {
   "cell_type": "code",
   "execution_count": null,
   "id": "b97e8215-ff96-4f2e-94d5-64943b74d4e1",
   "metadata": {},
   "outputs": [],
   "source": []
  },
  {
   "cell_type": "code",
   "execution_count": null,
   "id": "e40d7fc3-ee8d-43a0-a89f-d901a0f76f81",
   "metadata": {},
   "outputs": [],
   "source": []
  }
 ],
 "metadata": {
  "kernelspec": {
   "display_name": "Python 3 (ipykernel)",
   "language": "python",
   "name": "python3"
  },
  "language_info": {
   "codemirror_mode": {
    "name": "ipython",
    "version": 3
   },
   "file_extension": ".py",
   "mimetype": "text/x-python",
   "name": "python",
   "nbconvert_exporter": "python",
   "pygments_lexer": "ipython3",
   "version": "3.8.18"
  }
 },
 "nbformat": 4,
 "nbformat_minor": 5
}
