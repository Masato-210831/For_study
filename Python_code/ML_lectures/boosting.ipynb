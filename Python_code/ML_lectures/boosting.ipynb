{
 "cells": [
  {
   "cell_type": "markdown",
   "id": "ae706b2d-ba97-40d2-bc42-d76cbab1d7b7",
   "metadata": {},
   "source": [
    "# Boosting"
   ]
  },
  {
   "cell_type": "markdown",
   "id": "612fd7db-b5d5-46fb-be57-811fbb7aaf7c",
   "metadata": {},
   "source": [
    "## Adaboost"
   ]
  },
  {
   "cell_type": "code",
   "execution_count": 3,
   "id": "aa351ac9-a8f8-476a-b2a4-aa5ee09327d5",
   "metadata": {},
   "outputs": [],
   "source": [
    "import seaborn as sns\n",
    "import pandas as pd\n",
    "import numpy as np\n",
    "import matplotlib.pyplot as plt\n",
    "from sklearn.model_selection import train_test_split\n",
    "from sklearn.ensemble import AdaBoostClassifier\n",
    "from sklearn.metrics import roc_auc_score"
   ]
  },
  {
   "cell_type": "code",
   "execution_count": 2,
   "id": "f82f255a-a542-45a5-bd61-b24c5b7bc80c",
   "metadata": {},
   "outputs": [],
   "source": [
    "# データのロード\n",
    "df = sns.load_dataset('titanic')\n",
    "df.dropna(inplace=True)\n",
    "\n",
    "\n",
    "# x, yの準備\n",
    "X = df.loc[:, (df.columns != 'survived') & (df.columns != 'alive')]\n",
    "y = df['survived']\n",
    "\n",
    "\n",
    "# ラベルエンコーディング\n",
    "from sklearn.preprocessing import OrdinalEncoder\n",
    "oe = OrdinalEncoder()\n",
    "\n",
    "\n",
    "# defaultはnp.arrayで返るので、pdで返るようにする\n",
    "oe.set_output(transform='pandas')\n",
    "\n",
    "\n",
    "# カテゴリカルデータの選択 => label encoding\n",
    "cat_cols = X.select_dtypes(exclude=np.number).columns.to_numpy()\n",
    "X.loc[:, cat_cols] = oe.fit_transform(X[cat_cols])\n",
    "# X = oe.fit_transform(X)\n",
    "\n",
    "\n",
    "# hold-out\n",
    "X_train, X_test, y_train, y_test = train_test_split(X, y, test_size=0.3, random_state=0)"
   ]
  },
  {
   "cell_type": "code",
   "execution_count": 16,
   "id": "a562e75b-b966-4d73-9478-c33b3d4dd81b",
   "metadata": {},
   "outputs": [
    {
     "name": "stderr",
     "output_type": "stream",
     "text": [
      "/opt/anaconda3/lib/python3.9/site-packages/sklearn/ensemble/_weight_boosting.py:519: FutureWarning: The SAMME.R algorithm (the default) is deprecated and will be removed in 1.6. Use the SAMME algorithm to circumvent this warning.\n",
      "  warnings.warn(\n"
     ]
    },
    {
     "name": "stdout",
     "output_type": "stream",
     "text": [
      "adaboost AUC: 0.9375\n"
     ]
    }
   ],
   "source": [
    "ada = AdaBoostClassifier(n_estimators=100, learning_rate=0.01, random_state=0).fit(X_train, y_train)\n",
    "y_pred_ada = ada.predict_proba(X_test)\n",
    "print(f\"adaboost AUC: {roc_auc_score(y_test, y_pred_ada[:, 1])}\")"
   ]
  },
  {
   "cell_type": "code",
   "execution_count": 18,
   "id": "9f9af627-236c-4138-a672-01f51ccdca06",
   "metadata": {},
   "outputs": [
    {
     "data": {
      "text/plain": [
       "<BarContainer object of 13 artists>"
      ]
     },
     "execution_count": 18,
     "metadata": {},
     "output_type": "execute_result"
    },
    {
     "data": {
      "image/png": "[encoded data removed]",
      "text/plain": [
       "<Figure size 640x480 with 1 Axes>"
      ]
     },
     "metadata": {},
     "output_type": "display_data"
    }
   ],
   "source": [
    "# 重要度の描画\n",
    "plt.barh(X.columns, ada.feature_importances_)"
   ]
  },
  {
   "cell_type": "markdown",
   "id": "bf46f856-5247-42b1-92e2-d7ae147a0f16",
   "metadata": {},
   "source": [
    "Random Forestと異なり、特徴量の選出がないので同じような特徴量で分割をしている。　<br>\n",
    "※ max-depthが１というのもある。"
   ]
  },
  {
   "cell_type": "code",
   "execution_count": null,
   "id": "b1fc9226-b8d5-45a9-9669-0d6576dc9262",
   "metadata": {},
   "outputs": [],
   "source": []
  },
  {
   "cell_type": "code",
   "execution_count": null,
   "id": "38704be0-5fb9-4dc7-a7a8-3e1cef503229",
   "metadata": {},
   "outputs": [],
   "source": []
  },
  {
   "cell_type": "code",
   "execution_count": null,
   "id": "149557f7-8a99-4f38-888a-2971b5c2023d",
   "metadata": {},
   "outputs": [],
   "source": []
  },
  {
   "cell_type": "code",
   "execution_count": null,
   "id": "022a4d18-6083-429c-b305-5b3bdb6141cb",
   "metadata": {
    "jupyter": {
     "source_hidden": true
    },
    "tags": []
   },
   "outputs": [],
   "source": []
  }
 ],
 "metadata": {
  "kernelspec": {
   "display_name": "Python 3 (ipykernel)",
   "language": "python",
   "name": "python3"
  },
  "language_info": {
   "codemirror_mode": {
    "name": "ipython",
    "version": 3
   },
   "file_extension": ".py",
   "mimetype": "text/x-python",
   "name": "python",
   "nbconvert_exporter": "python",
   "pygments_lexer": "ipython3",
   "version": "3.9.13"
  }
 },
 "nbformat": 4,
 "nbformat_minor": 5
}
