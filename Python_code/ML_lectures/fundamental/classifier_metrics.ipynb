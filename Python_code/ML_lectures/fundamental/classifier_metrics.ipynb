{
 "cells": [
  {
   "cell_type": "markdown",
   "id": "cfa848fd-1626-4ac8-9ddd-2426a233c04f",
   "metadata": {},
   "source": [
    "## 分類器の精度指標"
   ]
  },
  {
   "cell_type": "code",
   "execution_count": 2,
   "id": "fc169423-7445-4cd2-ac30-8f4396ef3aa1",
   "metadata": {},
   "outputs": [],
   "source": [
    "import seaborn as sns\n",
    "from sklearn.model_selection import train_test_split\n",
    "from sklearn.linear_model import LogisticRegression\n",
    "# データロード\n",
    "df = sns.load_dataset('iris')\n",
    "y_col='species'\n",
    "X = df.drop(columns=[y_col])\n",
    "y = df[y_col]\n",
    "# hold-out\n",
    "X_train, X_test, y_train, y_test = train_test_split(X, y, test_size=0.3, random_state=0)\n",
    "# モデル学習\n",
    "model = LogisticRegression(penalty=None)\n",
    "model.fit(X_train, y_train)\n",
    "# 予想\n",
    "y_pred = model.predict(X_test)"
   ]
  },
  {
   "cell_type": "code",
   "execution_count": 3,
   "id": "df43ac0e-f1de-48a3-a83e-35622eaab602",
   "metadata": {},
   "outputs": [
    {
     "data": {
      "text/plain": [
       "<sklearn.metrics._plot.confusion_matrix.ConfusionMatrixDisplay at 0x7f4d42cf0940>"
      ]
     },
     "execution_count": 3,
     "metadata": {},
     "output_type": "execute_result"
    },
    {
     "data": {
      "image/png": "[encoded data removed]",
      "text/plain": [
       "<Figure size 640x480 with 2 Axes>"
      ]
     },
     "metadata": {},
     "output_type": "display_data"
    }
   ],
   "source": [
    "from sklearn.metrics import confusion_matrix, ConfusionMatrixDisplay\n",
    "cm = confusion_matrix(y_test, y_pred)\n",
    "disp = ConfusionMatrixDisplay(confusion_matrix=cm, display_labels=model.classes_)\n",
    "disp.plot()"
   ]
  },
  {
   "cell_type": "code",
   "execution_count": 4,
   "id": "11548f49-47e3-4df8-9da0-dd12e3ec7d09",
   "metadata": {},
   "outputs": [
    {
     "data": {
      "text/plain": [
       "array(['setosa', 'versicolor', 'virginica'], dtype=object)"
      ]
     },
     "execution_count": 4,
     "metadata": {},
     "output_type": "execute_result"
    }
   ],
   "source": [
    "model.classes_"
   ]
  },
  {
   "cell_type": "markdown",
   "id": "13810609-f46d-4f70-815e-1d32347a9175",
   "metadata": {},
   "source": [
    "## Accuraxy"
   ]
  },
  {
   "cell_type": "code",
   "execution_count": 5,
   "id": "c4e5938e-856f-4d8e-b39b-d145a51a5bb9",
   "metadata": {},
   "outputs": [],
   "source": [
    "# サンプルデータ\n",
    "y_true = [1, 1, 0, 1, 0, 0, 1, 1]\n",
    "y_pred = [1, 1, 1, 0, 0, 1, 0, 1]"
   ]
  },
  {
   "cell_type": "code",
   "execution_count": 6,
   "id": "9e06848a-58d6-407e-8616-adc4162b5911",
   "metadata": {},
   "outputs": [
    {
     "data": {
      "text/plain": [
       "0.5"
      ]
     },
     "execution_count": 6,
     "metadata": {},
     "output_type": "execute_result"
    }
   ],
   "source": [
    "from sklearn.metrics import accuracy_score\n",
    "accuracy_score(y_true, y_pred)"
   ]
  },
  {
   "cell_type": "markdown",
   "id": "a4467301-3c76-46a4-9ee1-1ec361902333",
   "metadata": {},
   "source": [
    "## Precision"
   ]
  },
  {
   "cell_type": "code",
   "execution_count": 7,
   "id": "c9347230-5477-45a7-b39d-2d4770f193e4",
   "metadata": {},
   "outputs": [
    {
     "data": {
      "text/plain": [
       "0.6"
      ]
     },
     "execution_count": 7,
     "metadata": {},
     "output_type": "execute_result"
    }
   ],
   "source": [
    "from sklearn.metrics import precision_score\n",
    "precision_score(y_true, y_pred)"
   ]
  },
  {
   "cell_type": "markdown",
   "id": "95d04c6b-fd8d-48a4-a6d4-06d98fcb2658",
   "metadata": {},
   "source": [
    "## Recall "
   ]
  },
  {
   "cell_type": "code",
   "execution_count": 8,
   "id": "0d76453e-6080-4371-9fb5-3ee1cee300ce",
   "metadata": {},
   "outputs": [
    {
     "data": {
      "text/plain": [
       "0.6"
      ]
     },
     "execution_count": 8,
     "metadata": {},
     "output_type": "execute_result"
    }
   ],
   "source": [
    "from sklearn.metrics import recall_score\n",
    "recall_score(y_true, y_pred)"
   ]
  },
  {
   "cell_type": "markdown",
   "id": "9fbf8204-0464-4db2-b771-40dfa8fbca65",
   "metadata": {},
   "source": [
    "## Specificity"
   ]
  },
  {
   "cell_type": "code",
   "execution_count": 9,
   "id": "4477ced0-85e5-4a94-9b51-bc9ecc321194",
   "metadata": {},
   "outputs": [
    {
     "data": {
      "text/plain": [
       "array([False, False,  True, False,  True,  True, False, False])"
      ]
     },
     "execution_count": 9,
     "metadata": {},
     "output_type": "execute_result"
    }
   ],
   "source": [
    "import numpy as np\n",
    "np.array(y_true) != 1"
   ]
  },
  {
   "cell_type": "code",
   "execution_count": 10,
   "id": "7e28a3b4-59d4-459e-b585-0ea03b82a96e",
   "metadata": {},
   "outputs": [
    {
     "data": {
      "text/plain": [
       "0.3333333333333333"
      ]
     },
     "execution_count": 10,
     "metadata": {},
     "output_type": "execute_result"
    }
   ],
   "source": [
    "recall_score(np.array(y_true)!=1, np.array(y_pred)!=1)"
   ]
  },
  {
   "cell_type": "markdown",
   "id": "43f832d2-5880-4b79-8c8a-5cf9a81a27a7",
   "metadata": {},
   "source": [
    "## 多クラス評価におけるPrecision"
   ]
  },
  {
   "cell_type": "code",
   "execution_count": 11,
   "id": "01deb63d-a643-452c-b115-bbf74b458d2c",
   "metadata": {},
   "outputs": [],
   "source": [
    "# データロード\n",
    "df = sns.load_dataset('iris')\n",
    "y_col='species'\n",
    "X = df.drop(columns=[y_col])\n",
    "y = df[y_col]\n",
    "# hold-out\n",
    "X_train, X_test, y_train, y_test = train_test_split(X, y, test_size=0.3, random_state=0)\n",
    "# モデル学習\n",
    "model = LogisticRegression(penalty=None)\n",
    "model.fit(X_train, y_train)\n",
    "# 予想\n",
    "y_pred = model.predict(X_test)"
   ]
  },
  {
   "cell_type": "code",
   "execution_count": 12,
   "id": "a5e697dc-42f2-4b35-8423-1dd9bda854e0",
   "metadata": {},
   "outputs": [
    {
     "name": "stdout",
     "output_type": "stream",
     "text": [
      "[1.         0.94444444 0.90909091]\n",
      "0.9511784511784511\n",
      "0.9555555555555556\n",
      "0.9555555555555556\n"
     ]
    }
   ],
   "source": [
    "# average=None\n",
    "print(precision_score(y_test, y_pred, average=None))\n",
    "# verage=macro\n",
    "print(precision_score(y_test, y_pred, average='macro'))\n",
    "# verage=micro\n",
    "print(precision_score(y_test, y_pred, average='micro'))\n",
    "# same as accuracy\n",
    "print(accuracy_score(y_test, y_pred))"
   ]
  },
  {
   "cell_type": "code",
   "execution_count": 13,
   "id": "a3e22ebc-63c6-469b-a1d1-68a03480ad21",
   "metadata": {},
   "outputs": [
    {
     "data": {
      "text/plain": [
       "array(['setosa', 'versicolor', 'virginica'], dtype=object)"
      ]
     },
     "execution_count": 13,
     "metadata": {},
     "output_type": "execute_result"
    }
   ],
   "source": [
    "model.classes_"
   ]
  },
  {
   "cell_type": "code",
   "execution_count": 14,
   "id": "b67a6064-7380-4f8d-987a-661cb5b839f7",
   "metadata": {},
   "outputs": [
    {
     "data": {
      "text/plain": [
       "0.9511784511784511"
      ]
     },
     "execution_count": 14,
     "metadata": {},
     "output_type": "execute_result"
    }
   ],
   "source": [
    "precision_score(y_test, y_pred, average=None).mean()"
   ]
  },
  {
   "cell_type": "markdown",
   "id": "a0b6011f-2b42-413c-aa0c-498325dfd8c0",
   "metadata": {},
   "source": [
    "## Precision Recall Curve"
   ]
  },
  {
   "cell_type": "code",
   "execution_count": 15,
   "id": "c3e9f266-d7a2-4799-ae06-3a48f8d171ca",
   "metadata": {},
   "outputs": [],
   "source": [
    "import pandas as pd\n",
    "\n",
    "df = pd.read_csv('../csv/heart_preprocessed.csv')"
   ]
  },
  {
   "cell_type": "code",
   "execution_count": 16,
   "id": "9c01944f-1ca8-4455-a852-a6d6b2996628",
   "metadata": {},
   "outputs": [],
   "source": [
    "y_col = 'target'\n",
    "X = df.drop(columns=[y_col])\n",
    "y = df[y_col]\n",
    "X_train, X_test, y_train, y_test = train_test_split(X, y, test_size=0.3, random_state=0)\n",
    "\n",
    "# モデルの構築\n",
    "model = LogisticRegression(solver='liblinear')\n",
    "model.fit(X_train, y_train)\n",
    "y_pred_proba = model.predict_proba(X_test)"
   ]
  },
  {
   "cell_type": "code",
   "execution_count": 17,
   "id": "f53e1256-a8dc-4808-a851-7e773873c204",
   "metadata": {},
   "outputs": [],
   "source": [
    "from sklearn.metrics import precision_recall_curve\n",
    "precision, recall, thresholds = precision_recall_curve(y_test, y_pred_proba[:, 1])"
   ]
  },
  {
   "cell_type": "code",
   "execution_count": 18,
   "id": "7af29e94-7bc9-4d66-8b5a-2dd7da1af99b",
   "metadata": {},
   "outputs": [
    {
     "data": {
      "text/plain": [
       "Text(0.5, 1.0, 'Precision Recall Curve')"
      ]
     },
     "execution_count": 18,
     "metadata": {},
     "output_type": "execute_result"
    },
    {
     "data": {
      "image/png": "[encoded data removed]",
      "text/plain": [
       "<Figure size 640x480 with 1 Axes>"
      ]
     },
     "metadata": {},
     "output_type": "display_data"
    }
   ],
   "source": [
    "import matplotlib.pyplot as plt\n",
    "plt.plot(recall, precision)\n",
    "plt.xlabel('recall')\n",
    "plt.ylabel('precision')\n",
    "plt.title('Precision Recall Curve')"
   ]
  },
  {
   "cell_type": "markdown",
   "id": "8809ba7a-75f8-4e10-bf3a-cfc092fb8dc4",
   "metadata": {},
   "source": [
    "## F値"
   ]
  },
  {
   "cell_type": "code",
   "execution_count": 19,
   "id": "97a2a9cd-5716-4e6b-94a0-f2a0523fae39",
   "metadata": {},
   "outputs": [],
   "source": [
    "from sklearn.metrics import f1_score, recall_score, precision_score\n",
    "y_true = [1,0,0,1,0,0,1,1]\n",
    "y_pred = [1,1,1,0,0,1,0,1]"
   ]
  },
  {
   "cell_type": "code",
   "execution_count": 20,
   "id": "1d32d9c5-5f38-4aeb-84f1-0e7ed1e0a3ca",
   "metadata": {},
   "outputs": [
    {
     "data": {
      "text/plain": [
       "0.4444444444444445"
      ]
     },
     "execution_count": 20,
     "metadata": {},
     "output_type": "execute_result"
    }
   ],
   "source": [
    "f1_score(y_true, y_pred)"
   ]
  },
  {
   "cell_type": "code",
   "execution_count": 21,
   "id": "e7457609-de2b-4139-9b7a-84ec86e919db",
   "metadata": {},
   "outputs": [
    {
     "data": {
      "text/plain": [
       "0.4444444444444444"
      ]
     },
     "execution_count": 21,
     "metadata": {},
     "output_type": "execute_result"
    }
   ],
   "source": [
    "# 調和平均\n",
    "\n",
    "from scipy.stats import hmean\n",
    "hmean([recall_score(y_true, y_pred), precision_score(y_true, y_pred)])"
   ]
  },
  {
   "cell_type": "code",
   "execution_count": 22,
   "id": "0c30b03f-5e3b-4200-a4c1-d6bd4f885c94",
   "metadata": {},
   "outputs": [
    {
     "data": {
      "text/plain": [
       "0.5"
      ]
     },
     "execution_count": 22,
     "metadata": {},
     "output_type": "execute_result"
    }
   ],
   "source": [
    "recall_score(y_true, y_pred)"
   ]
  },
  {
   "cell_type": "code",
   "execution_count": 23,
   "id": "95717413-8ac9-401c-a2ca-aa32b844daec",
   "metadata": {},
   "outputs": [
    {
     "data": {
      "text/plain": [
       "0.4"
      ]
     },
     "execution_count": 23,
     "metadata": {},
     "output_type": "execute_result"
    }
   ],
   "source": [
    "precision_score(y_true, y_pred)"
   ]
  },
  {
   "cell_type": "markdown",
   "id": "d21664d2-1dbc-44f2-9317-1d1dfbec8d7c",
   "metadata": {},
   "source": [
    "## 閾値に対してのprecision,Recall, F値の推移を描画"
   ]
  },
  {
   "cell_type": "code",
   "execution_count": 67,
   "id": "c8683061-0700-4388-8741-f95dd34c970e",
   "metadata": {},
   "outputs": [],
   "source": [
    "precision, recall, thresholds = precision_recall_curve(y_test, y_pred_proba[:, 1])"
   ]
  },
  {
   "cell_type": "code",
   "execution_count": 28,
   "id": "eaa62eca-6ef6-4f79-a4f7-bbc0bd1d9d5f",
   "metadata": {},
   "outputs": [
    {
     "data": {
      "text/plain": [
       "1.0"
      ]
     },
     "execution_count": 28,
     "metadata": {},
     "output_type": "execute_result"
    }
   ],
   "source": [
    "precision[-1]"
   ]
  },
  {
   "cell_type": "code",
   "execution_count": 29,
   "id": "77adb321-fdf1-41e8-b248-25734b2804db",
   "metadata": {},
   "outputs": [
    {
     "data": {
      "text/plain": [
       "0.0"
      ]
     },
     "execution_count": 29,
     "metadata": {},
     "output_type": "execute_result"
    }
   ],
   "source": [
    "recall[-1]"
   ]
  },
  {
   "cell_type": "code",
   "execution_count": 32,
   "id": "dbbabc0f-be34-4d09-8cd7-55bedfbe1002",
   "metadata": {},
   "outputs": [],
   "source": [
    "added_thresholds = np.append(thresholds, 1)"
   ]
  },
  {
   "cell_type": "code",
   "execution_count": 50,
   "id": "abeb05e0-e78b-4fa8-8e43-74323dc1e32f",
   "metadata": {},
   "outputs": [],
   "source": [
    "# f_value = []\n",
    "# for pre_v, rec_v in zip(precision, recall):\n",
    "#     hmean_v = hmean([pre_v, rec_v])\n",
    "#     f_value.append(hmean_v)"
   ]
  },
  {
   "cell_type": "code",
   "execution_count": 77,
   "id": "8580a77c-af86-4f8c-bb44-fbedcda4ccbd",
   "metadata": {},
   "outputs": [],
   "source": [
    "f1_values = hmean([precision, recall])"
   ]
  },
  {
   "cell_type": "code",
   "execution_count": 86,
   "id": "0715f447-759e-45db-9131-a0e65df11982",
   "metadata": {},
   "outputs": [
    {
     "name": "stdout",
     "output_type": "stream",
     "text": [
      "89th threshold(=0.44) is the highest f1 score = 0.86\n"
     ]
    },
    {
     "data": {
      "image/png": "[encoded data removed]",
      "text/plain": [
       "<Figure size 640x480 with 1 Axes>"
      ]
     },
     "metadata": {},
     "output_type": "display_data"
    }
   ],
   "source": [
    "plt.plot(thresholds, precision[:-1], label=\"Precsion\", color='g')\n",
    "plt.plot(thresholds, recall[:-1], label=\"Recall\", color=\"orange\")\n",
    "plt.plot(thresholds, f1_values[:-1], label=\"F1 score\")\n",
    "plt.legend()\n",
    "plt.xlabel('threshold')\n",
    "print(f\"{np.argmax(f1_values)}th threshold(={thresholds[np.argmax(f1_values)]:.2f}) is the highest f1 score = {np.max(f1_values):.2f}\")"
   ]
  },
  {
   "cell_type": "code",
   "execution_count": 80,
   "id": "dc51be0d-866f-4474-a796-2de3f7ce72c9",
   "metadata": {},
   "outputs": [
    {
     "data": {
      "text/plain": [
       "89"
      ]
     },
     "execution_count": 80,
     "metadata": {},
     "output_type": "execute_result"
    }
   ],
   "source": [
    "np.argmax(f1_values)"
   ]
  },
  {
   "cell_type": "code",
   "execution_count": 83,
   "id": "b8eb0e49-e402-447e-8c04-6b42ce3011c9",
   "metadata": {},
   "outputs": [
    {
     "data": {
      "text/plain": [
       "0.44206937579178296"
      ]
     },
     "execution_count": 83,
     "metadata": {},
     "output_type": "execute_result"
    }
   ],
   "source": [
    "thresholds[np.argmax(f1_values)]"
   ]
  },
  {
   "cell_type": "markdown",
   "id": "d8eeb7f8-2fce-41c2-9269-93abe77466d3",
   "metadata": {},
   "source": [
    "## ROC"
   ]
  },
  {
   "cell_type": "code",
   "execution_count": 89,
   "id": "933b32a0-6824-4da7-b0d9-b222d7637bc2",
   "metadata": {},
   "outputs": [],
   "source": [
    "from sklearn.metrics import roc_curve\n",
    "fpr, tpr , threshold = roc_curve(y_test, y_pred_proba[:, 1])"
   ]
  },
  {
   "cell_type": "code",
   "execution_count": 92,
   "id": "1d70a7bc-6205-4c7e-9237-e58f2035b940",
   "metadata": {},
   "outputs": [
    {
     "data": {
      "text/plain": [
       "Text(0.5, 1.0, 'ROC Curve')"
      ]
     },
     "execution_count": 92,
     "metadata": {},
     "output_type": "execute_result"
    },
    {
     "data": {
      "image/png": "[encoded data removed]",
      "text/plain": [
       "<Figure size 640x480 with 1 Axes>"
      ]
     },
     "metadata": {},
     "output_type": "display_data"
    }
   ],
   "source": [
    "plt.plot(fpr, tpr)\n",
    "plt.xlabel('1-speificity(FPR)')\n",
    "plt.ylabel('senritivity(TPR)')\n",
    "plt.title('ROC Curve')"
   ]
  },
  {
   "cell_type": "markdown",
   "id": "513aa6a0-4efc-4a0c-8661-aca140e166b0",
   "metadata": {},
   "source": [
    "## AUC"
   ]
  },
  {
   "cell_type": "code",
   "execution_count": 96,
   "id": "2afae0bd-ca35-43e0-87ae-5e73ec23c900",
   "metadata": {},
   "outputs": [
    {
     "data": {
      "text/plain": [
       "0.9196762141967622"
      ]
     },
     "execution_count": 96,
     "metadata": {},
     "output_type": "execute_result"
    }
   ],
   "source": [
    "from sklearn.metrics import auc\n",
    "auc(fpr, tpr)"
   ]
  },
  {
   "cell_type": "markdown",
   "id": "ca0bab45-4f17-4cde-a946-95e2593a4e45",
   "metadata": {},
   "source": [
    "## 多クラスROC"
   ]
  },
  {
   "cell_type": "markdown",
   "id": "69cc9ce0-4106-4877-8376-1e9cad1bca1f",
   "metadata": {},
   "source": [
    "### データ準備"
   ]
  },
  {
   "cell_type": "code",
   "execution_count": 147,
   "id": "77b10d1b-c764-4529-8db7-31545cccd968",
   "metadata": {},
   "outputs": [],
   "source": [
    "# データロード\n",
    "df = sns.load_dataset('iris')\n",
    "y_col='species'\n",
    "X = df.drop(columns=[y_col])\n",
    "y = df[y_col]\n",
    "# hold-out\n",
    "X_train, X_test, y_train, y_test = train_test_split(X, y, test_size=0.3, random_state=0)\n",
    "# モデル学習\n",
    "model = LogisticRegression()\n",
    "model.fit(X_train, y_train)\n",
    "# 予想\n",
    "y_pred_proba = model.predict_proba(X_test)"
   ]
  },
  {
   "cell_type": "code",
   "execution_count": null,
   "id": "2b3ada0e-2a56-4ce8-9031-1fe06ea542d5",
   "metadata": {},
   "outputs": [],
   "source": []
  },
  {
   "cell_type": "code",
   "execution_count": null,
   "id": "1f3ee60e-d0aa-419b-835b-f24c687e9d34",
   "metadata": {},
   "outputs": [],
   "source": []
  },
  {
   "cell_type": "markdown",
   "id": "90548a72-87d2-4965-922d-5e3b9f5d3e29",
   "metadata": {},
   "source": [
    "### macro平均"
   ]
  },
  {
   "cell_type": "code",
   "execution_count": 157,
   "id": "8bf59a86-bff6-443a-ae92-6add5190a003",
   "metadata": {},
   "outputs": [],
   "source": [
    "from sklearn.preprocessing import label_binarize\n",
    "y_test_one_hot = label_binarize(y_test, classes=model.classes_)\n",
    "n_classes = 3\n",
    "fpr = {}\n",
    "tpr = {}\n",
    "roc_auc = {}\n",
    "for i in range(n_classes):\n",
    "    fpr[i], tpr[i], _ = roc_curve(y_test_one_hot[:, i], y_pred_proba[:, i])\n",
    "    roc_auc[i] = auc(fpr[i], tpr[i])"
   ]
  },
  {
   "cell_type": "code",
   "execution_count": 158,
   "id": "3dc175cc-d6f9-4d1c-9833-a45c058914bf",
   "metadata": {},
   "outputs": [
    {
     "data": {
      "image/png": "[encoded data removed]",
      "text/plain": [
       "<Figure size 640x480 with 1 Axes>"
      ]
     },
     "metadata": {},
     "output_type": "display_data"
    }
   ],
   "source": [
    "# それぞれのクラスのROC\n",
    "\n",
    "for i in range(n_classes):\n",
    "    plt.plot(fpr[i], tpr[i], label=f'class:{i}')\n",
    "    plt.legend()"
   ]
  },
  {
   "cell_type": "markdown",
   "id": "5d170243-edae-47e0-af08-a7bcb96897cb",
   "metadata": {},
   "source": [
    "# np.interpの例"
   ]
  },
  {
   "cell_type": "code",
   "execution_count": 154,
   "id": "b061eca3-e079-488c-ad2d-63331fe1a681",
   "metadata": {},
   "outputs": [
    {
     "data": {
      "text/plain": [
       "array([0.        , 1.        , 2.        , 2.66666667, 3.33333333,\n",
       "       4.        , 6.        ])"
      ]
     },
     "execution_count": 154,
     "metadata": {},
     "output_type": "execute_result"
    }
   ],
   "source": [
    "all_x = np.arange(7)\n",
    "data_x = [0, 2, 5, 6]\n",
    "data_y = [0, 2, 4, 6]\n",
    "np.interp(all_x, data_x, data_y)"
   ]
  },
  {
   "cell_type": "code",
   "execution_count": 191,
   "id": "f6539196-0290-4469-a304-452dcf0d6549",
   "metadata": {},
   "outputs": [],
   "source": [
    "# 必要なxの値のリスト\n",
    "all_fpr = np.unique(np.concatenate([fpr[i] for i in range(n_classes)]))\n",
    "# 線形補完\n",
    "mean_tpr = np.zeros_like(all_fpr)\n",
    "for i in range(n_classes):\n",
    "    mean_tpr += np.interp(all_fpr, fpr[i], tpr[i])\n",
    "mean_tpr = mean_tpr/n_classes\n",
    "    "
   ]
  },
  {
   "cell_type": "code",
   "execution_count": 192,
   "id": "eb9f6e72-c7ae-43cd-a034-75bec117bcd2",
   "metadata": {},
   "outputs": [
    {
     "data": {
      "text/plain": [
       "array([0.92087542, 0.98148148, 1.        , 1.        ])"
      ]
     },
     "execution_count": 192,
     "metadata": {},
     "output_type": "execute_result"
    }
   ],
   "source": [
    "mean_tpr"
   ]
  },
  {
   "cell_type": "code",
   "execution_count": 205,
   "id": "e7185819-8baa-40e9-b5a3-3a6dbc7e1a7e",
   "metadata": {},
   "outputs": [],
   "source": [
    "fpr['macro'] = all_fpr\n",
    "tpr['macro'] = mean_tpr\n",
    "roc_auc['macro'] = auc(fpr['macro'], tpr['macro'])"
   ]
  },
  {
   "cell_type": "code",
   "execution_count": 206,
   "id": "449039d1-23ff-4ed8-9d0a-25e642bef3c9",
   "metadata": {},
   "outputs": [
    {
     "data": {
      "text/plain": [
       "{0: array([0., 0., 0., 1.]),\n",
       " 1: array([0.        , 0.        , 0.        , 0.07407407, 0.07407407,\n",
       "        1.        ]),\n",
       " 2: array([0.        , 0.        , 0.        , 0.02941176, 0.02941176,\n",
       "        1.        ]),\n",
       " 'macro': array([0.        , 0.02941176, 0.07407407, 1.        ])}"
      ]
     },
     "execution_count": 206,
     "metadata": {},
     "output_type": "execute_result"
    }
   ],
   "source": [
    "fpr"
   ]
  },
  {
   "cell_type": "code",
   "execution_count": 209,
   "id": "c8edbf23-602d-42d8-a499-b4443375a9f1",
   "metadata": {},
   "outputs": [
    {
     "data": {
      "text/plain": [
       "<matplotlib.legend.Legend at 0x7f4ce33556a0>"
      ]
     },
     "execution_count": 209,
     "metadata": {},
     "output_type": "execute_result"
    },
    {
     "data": {
      "image/png": "[encoded data removed]",
      "text/plain": [
       "<Figure size 640x480 with 1 Axes>"
      ]
     },
     "metadata": {},
     "output_type": "display_data"
    }
   ],
   "source": [
    "for i in range(n_classes):\n",
    "    plt.plot(fpr[i], tpr[i], label=f'class:{i}')\n",
    "plt.plot(fpr['macro'], tpr['macro'], label='macro')\n",
    "plt.legend()"
   ]
  },
  {
   "cell_type": "code",
   "execution_count": null,
   "id": "f9ae3b9c-9084-4c42-9c87-b9c1af773449",
   "metadata": {},
   "outputs": [],
   "source": []
  },
  {
   "cell_type": "markdown",
   "id": "35e2117d-4916-4bcd-a6de-9616988164a2",
   "metadata": {},
   "source": [
    "## micro平均"
   ]
  },
  {
   "cell_type": "code",
   "execution_count": 290,
   "id": "8632772d-df3f-4d8a-be76-e3bf05b3eec3",
   "metadata": {},
   "outputs": [],
   "source": [
    "fpr['micro'], tpr['micro'], _ =  roc_curve(y_test_one_hot.ravel(),y_pred_proba.ravel() )\n",
    "roc_auc['micro'] =  auc(fpr['micro'], tpr['micro'])"
   ]
  },
  {
   "cell_type": "code",
   "execution_count": 217,
   "id": "4198ac9f-0c6f-410b-b935-db24c9093305",
   "metadata": {},
   "outputs": [
    {
     "data": {
      "text/plain": [
       "<matplotlib.legend.Legend at 0x7f4ce4234a30>"
      ]
     },
     "execution_count": 217,
     "metadata": {},
     "output_type": "execute_result"
    },
    {
     "data": {
      "image/png": "[encoded data removed]",
      "text/plain": [
       "<Figure size 640x480 with 1 Axes>"
      ]
     },
     "metadata": {},
     "output_type": "display_data"
    }
   ],
   "source": [
    "for i in range(n_classes):\n",
    "    plt.plot(fpr[i], tpr[i], label=f'class:{i}')\n",
    "plt.plot(fpr['macro'], tpr['macro'], label='macro')\n",
    "plt.plot(fpr['micro'], tpr['micro'], label='micro')\n",
    "\n",
    "plt.legend()"
   ]
  },
  {
   "cell_type": "markdown",
   "id": "cfa7dc42-4b8f-4787-8ebd-c1851c20ec39",
   "metadata": {},
   "source": [
    "## 多クラスROC"
   ]
  },
  {
   "cell_type": "code",
   "execution_count": 239,
   "id": "d7174152-c948-4feb-a263-f2b838aed425",
   "metadata": {},
   "outputs": [],
   "source": [
    "# データロード\n",
    "df = sns.load_dataset('iris')\n",
    "y_col='species'\n",
    "X = df.drop(columns=[y_col])\n",
    "y = df[y_col]\n",
    "# hold-out\n",
    "X_train, X_test, y_train, y_test = train_test_split(X, y, test_size=0.3, random_state=0)\n",
    "# モデル学習\n",
    "model = LogisticRegression()\n",
    "model.fit(X_train, y_train)\n",
    "# 予想\n",
    "y_pred_proba = model.predict_proba(X_test)"
   ]
  },
  {
   "cell_type": "markdown",
   "id": "1965f26b-8715-4e44-9d56-72de7c25ad45",
   "metadata": {},
   "source": [
    "# macro平均"
   ]
  },
  {
   "cell_type": "code",
   "execution_count": 240,
   "id": "45f8245e-0a54-41b9-ac7b-847bb26eb6ff",
   "metadata": {},
   "outputs": [],
   "source": [
    "from sklearn.preprocessing import label_binarize\n",
    "y_test_one_hot = label_binarize(y_test, classes=model.classes_)\n",
    "n_classes = 3\n",
    "fpr = {}\n",
    "tpr = {}\n",
    "roc_auc = {}\n",
    "for i in range(n_classes):\n",
    "    fpr[i], tpr[i], _ = roc_curve(y_test_one_hot[:, i], y_pred_proba[:, i])\n",
    "    roc_auc[i] = auc(fpr[i], tpr[i])"
   ]
  },
  {
   "cell_type": "code",
   "execution_count": 241,
   "id": "30fa32e9-f2f2-4b75-a199-f175e76e9466",
   "metadata": {},
   "outputs": [
    {
     "data": {
      "image/png": "[encoded data removed]",
      "text/plain": [
       "<Figure size 640x480 with 1 Axes>"
      ]
     },
     "metadata": {},
     "output_type": "display_data"
    }
   ],
   "source": [
    "# それぞれのクラスのROC\n",
    "\n",
    "for i in range(n_classes):\n",
    "    plt.plot(fpr[i], tpr[i], label=f\"class:{i}\")\n",
    "    plt.legend()"
   ]
  },
  {
   "cell_type": "markdown",
   "id": "86a2ab5a-b92a-4aef-9c16-45a2a90e3c1c",
   "metadata": {},
   "source": [
    "# np.interpの例"
   ]
  },
  {
   "cell_type": "code",
   "execution_count": 244,
   "id": "08b37a74-0d94-43fa-b618-af928f97c276",
   "metadata": {},
   "outputs": [
    {
     "data": {
      "text/plain": [
       "array([0.        , 1.        , 2.        , 2.66666667, 3.33333333,\n",
       "       4.        , 6.        ])"
      ]
     },
     "execution_count": 244,
     "metadata": {},
     "output_type": "execute_result"
    }
   ],
   "source": [
    "all_x = np.arange(7)\n",
    "datta_x = [0, 2, 5, 6]\n",
    "datta_y = [0, 2, 4, 6]\n",
    "np.interp(all_x, data_x, data_y)"
   ]
  },
  {
   "cell_type": "code",
   "execution_count": 274,
   "id": "c5a1902f-9f73-45f6-8bf7-8eef509e00f4",
   "metadata": {},
   "outputs": [],
   "source": [
    "# 必要なxの値のリスト\n",
    "all_fpr = np.unique(np.concatenate([fpr[i] for i in range(n_classes)]))\n",
    "\n",
    "# 線形補完\n",
    "mean_tpr = np.zeros_like(all_fpr)\n",
    "for i in range(n_classes):\n",
    "    mean_tpr += np.interp(all_fpr, fpr[i], tpr[i])\n",
    "mean_tpr = mean_tpr / n_classes"
   ]
  },
  {
   "cell_type": "code",
   "execution_count": 275,
   "id": "3c7fb47b-0446-4200-b7f3-2eb2825be18e",
   "metadata": {},
   "outputs": [
    {
     "data": {
      "text/plain": [
       "array([0.92087542, 0.98148148, 1.        , 1.        ])"
      ]
     },
     "execution_count": 275,
     "metadata": {},
     "output_type": "execute_result"
    }
   ],
   "source": [
    "mean_tpr"
   ]
  },
  {
   "cell_type": "code",
   "execution_count": 277,
   "id": "b32a2dc7-5bfa-4fde-9a9e-5cbc1251dcd4",
   "metadata": {},
   "outputs": [],
   "source": [
    "fpr['macro'] = all_fpr\n",
    "tpr['macro'] = mean_tpr\n",
    "roc_auc['macro'] = auc(fpr['macro'], tpr['macro'])"
   ]
  },
  {
   "cell_type": "code",
   "execution_count": 280,
   "id": "0642337a-94a0-4519-bb1c-ccacf707b5f5",
   "metadata": {},
   "outputs": [
    {
     "data": {
      "text/plain": [
       "<matplotlib.legend.Legend at 0x7f4ce305bcd0>"
      ]
     },
     "execution_count": 280,
     "metadata": {},
     "output_type": "execute_result"
    },
    {
     "data": {
      "image/png": "[encoded data removed]",
      "text/plain": [
       "<Figure size 640x480 with 1 Axes>"
      ]
     },
     "metadata": {},
     "output_type": "display_data"
    }
   ],
   "source": [
    "# それぞれのクラスとmacro平均のROC\n",
    "\n",
    "for i in range(n_classes):\n",
    "    plt.plot(fpr[i], tpr[i], label=f\"class:{i}\")\n",
    "plt.plot(fpr['macro'], tpr['macro'],  label='macro')\n",
    "plt.legend()"
   ]
  },
  {
   "cell_type": "markdown",
   "id": "9a9f87a8-af95-452e-b926-bd4b0a0be19a",
   "metadata": {},
   "source": [
    "## macro平均"
   ]
  },
  {
   "cell_type": "code",
   "execution_count": 289,
   "id": "7b4dc4b6-a69f-461f-810a-df8ff0a520a7",
   "metadata": {},
   "outputs": [],
   "source": [
    "fpr['micro'], tpr['micro'], _ = roc_curve(y_test_one_hot.ravel(), y_pred_proba.ravel())\n",
    "roc_acu['micro'] = auc(fpr['micro'], tpr['micro'])"
   ]
  },
  {
   "cell_type": "code",
   "execution_count": 291,
   "id": "7947c707-29b6-4760-87de-b0eb239307bd",
   "metadata": {},
   "outputs": [
    {
     "data": {
      "text/plain": [
       "<matplotlib.legend.Legend at 0x7f4ce25ee6d0>"
      ]
     },
     "execution_count": 291,
     "metadata": {},
     "output_type": "execute_result"
    },
    {
     "data": {
      "image/png": "[encoded data removed]",
      "text/plain": [
       "<Figure size 640x480 with 1 Axes>"
      ]
     },
     "metadata": {},
     "output_type": "display_data"
    }
   ],
   "source": [
    "for i in range(n_classes):\n",
    "    plt.plot(fpr[i], tpr[i], label=f\"class:{i}\")\n",
    "plt.plot(fpr['macro'], tpr['macro'],  label='macro')\n",
    "plt.plot(fpr['micro'], tpr['micro'],  label='micro')\n",
    "\n",
    "plt.legend()"
   ]
  },
  {
   "cell_type": "code",
   "execution_count": null,
   "id": "696f9d53-7b0d-4f2f-b164-f21b1146c895",
   "metadata": {},
   "outputs": [],
   "source": []
  },
  {
   "cell_type": "code",
   "execution_count": null,
   "id": "bff53f4b-f600-4ca0-93ec-9c0939540e65",
   "metadata": {},
   "outputs": [],
   "source": []
  },
  {
   "cell_type": "code",
   "execution_count": null,
   "id": "a8a124d3-b433-43f7-b327-e3e319520e27",
   "metadata": {},
   "outputs": [],
   "source": []
  },
  {
   "cell_type": "code",
   "execution_count": null,
   "id": "3235c510-ad61-4148-a4a3-264a070b79bd",
   "metadata": {},
   "outputs": [],
   "source": []
  },
  {
   "cell_type": "code",
   "execution_count": null,
   "id": "25fdd5af-7cc1-43ca-865e-786f33d52825",
   "metadata": {},
   "outputs": [],
   "source": []
  },
  {
   "cell_type": "code",
   "execution_count": null,
   "id": "7dadea8d-b2f5-4f86-b3a5-2975a8d72491",
   "metadata": {},
   "outputs": [],
   "source": []
  },
  {
   "cell_type": "code",
   "execution_count": null,
   "id": "f632facd-306f-43c0-a138-6521d779b35c",
   "metadata": {},
   "outputs": [],
   "source": []
  },
  {
   "cell_type": "code",
   "execution_count": null,
   "id": "1464772c-5135-420d-b134-d4e4e1f2a734",
   "metadata": {},
   "outputs": [],
   "source": []
  },
  {
   "cell_type": "code",
   "execution_count": null,
   "id": "478c4847-272d-4c7b-bf1b-1edb28bc8b15",
   "metadata": {},
   "outputs": [],
   "source": []
  },
  {
   "cell_type": "code",
   "execution_count": null,
   "id": "613eb0a0-8dba-4229-93fb-d5ad05401e5d",
   "metadata": {},
   "outputs": [],
   "source": []
  },
  {
   "cell_type": "code",
   "execution_count": null,
   "id": "84b0b4c3-0398-4ec0-9cc6-cc37ccd1d448",
   "metadata": {},
   "outputs": [],
   "source": []
  },
  {
   "cell_type": "code",
   "execution_count": null,
   "id": "ed914d32-e822-47dc-87be-7fc49beaa900",
   "metadata": {},
   "outputs": [],
   "source": []
  }
 ],
 "metadata": {
  "kernelspec": {
   "display_name": "Python 3 (ipykernel)",
   "language": "python",
   "name": "python3"
  },
  "language_info": {
   "codemirror_mode": {
    "name": "ipython",
    "version": 3
   },
   "file_extension": ".py",
   "mimetype": "text/x-python",
   "name": "python",
   "nbconvert_exporter": "python",
   "pygments_lexer": "ipython3",
   "version": "3.9.13"
  }
 },
 "nbformat": 4,
 "nbformat_minor": 5
}
