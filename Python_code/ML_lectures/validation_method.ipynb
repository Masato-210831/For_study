{
 "cells": [
  {
   "cell_type": "markdown",
   "id": "1886aa4d-83b4-455f-99e1-7ef3ce7e3963",
   "metadata": {},
   "source": [
    "# hold-out"
   ]
  },
  {
   "cell_type": "code",
   "execution_count": 31,
   "id": "cb64ff63-f866-47da-84d7-4cdce63dafdd",
   "metadata": {},
   "outputs": [],
   "source": [
    "import seaborn as sns\n",
    "import numpy as np\n",
    "import pandas as pd\n",
    "from sklearn.model_selection import train_test_split\n",
    "df = sns.load_dataset('tips')"
   ]
  },
  {
   "cell_type": "code",
   "execution_count": 2,
   "id": "f3190acf-98b4-47ce-84ec-fd10750c04cc",
   "metadata": {},
   "outputs": [
    {
     "data": {
      "text/html": [
       "<div>\n",
       "<style scoped>\n",
       "    .dataframe tbody tr th:only-of-type {\n",
       "        vertical-align: middle;\n",
       "    }\n",
       "\n",
       "    .dataframe tbody tr th {\n",
       "        vertical-align: top;\n",
       "    }\n",
       "\n",
       "    .dataframe thead th {\n",
       "        text-align: right;\n",
       "    }\n",
       "</style>\n",
       "<table border=\"1\" class=\"dataframe\">\n",
       "  <thead>\n",
       "    <tr style=\"text-align: right;\">\n",
       "      <th></th>\n",
       "      <th>total_bill</th>\n",
       "      <th>tip</th>\n",
       "      <th>sex</th>\n",
       "      <th>smoker</th>\n",
       "      <th>day</th>\n",
       "      <th>time</th>\n",
       "      <th>size</th>\n",
       "    </tr>\n",
       "  </thead>\n",
       "  <tbody>\n",
       "    <tr>\n",
       "      <th>0</th>\n",
       "      <td>16.99</td>\n",
       "      <td>1.01</td>\n",
       "      <td>Female</td>\n",
       "      <td>No</td>\n",
       "      <td>Sun</td>\n",
       "      <td>Dinner</td>\n",
       "      <td>2</td>\n",
       "    </tr>\n",
       "    <tr>\n",
       "      <th>1</th>\n",
       "      <td>10.34</td>\n",
       "      <td>1.66</td>\n",
       "      <td>Male</td>\n",
       "      <td>No</td>\n",
       "      <td>Sun</td>\n",
       "      <td>Dinner</td>\n",
       "      <td>3</td>\n",
       "    </tr>\n",
       "    <tr>\n",
       "      <th>2</th>\n",
       "      <td>21.01</td>\n",
       "      <td>3.50</td>\n",
       "      <td>Male</td>\n",
       "      <td>No</td>\n",
       "      <td>Sun</td>\n",
       "      <td>Dinner</td>\n",
       "      <td>3</td>\n",
       "    </tr>\n",
       "    <tr>\n",
       "      <th>3</th>\n",
       "      <td>23.68</td>\n",
       "      <td>3.31</td>\n",
       "      <td>Male</td>\n",
       "      <td>No</td>\n",
       "      <td>Sun</td>\n",
       "      <td>Dinner</td>\n",
       "      <td>2</td>\n",
       "    </tr>\n",
       "    <tr>\n",
       "      <th>4</th>\n",
       "      <td>24.59</td>\n",
       "      <td>3.61</td>\n",
       "      <td>Female</td>\n",
       "      <td>No</td>\n",
       "      <td>Sun</td>\n",
       "      <td>Dinner</td>\n",
       "      <td>4</td>\n",
       "    </tr>\n",
       "  </tbody>\n",
       "</table>\n",
       "</div>"
      ],
      "text/plain": [
       "   total_bill   tip     sex smoker  day    time  size\n",
       "0       16.99  1.01  Female     No  Sun  Dinner     2\n",
       "1       10.34  1.66    Male     No  Sun  Dinner     3\n",
       "2       21.01  3.50    Male     No  Sun  Dinner     3\n",
       "3       23.68  3.31    Male     No  Sun  Dinner     2\n",
       "4       24.59  3.61  Female     No  Sun  Dinner     4"
      ]
     },
     "execution_count": 2,
     "metadata": {},
     "output_type": "execute_result"
    }
   ],
   "source": [
    "df.head()"
   ]
  },
  {
   "cell_type": "code",
   "execution_count": 32,
   "id": "af1d2412-6c4e-4f77-9195-4c4629768907",
   "metadata": {},
   "outputs": [],
   "source": [
    "y_col = 'tip'\n",
    "X = df.drop(columns=[y_col])\n",
    "\n",
    "#　標準化のために数値カラムのリストを取得\n",
    "numeric_cols = X.select_dtypes(include=np.number).columns.to_list()\n",
    "\n",
    "X = pd.get_dummies(X, drop_first=True, dtype=int)\n",
    "y = df[y_col]\n",
    "\n",
    "X_train, X_test, y_train, y_test = train_test_split(X, y, test_size=0.3, random_state=0)"
   ]
  },
  {
   "cell_type": "code",
   "execution_count": 36,
   "id": "f4f52953-820b-43ba-afc0-28ea9215c6cf",
   "metadata": {},
   "outputs": [
    {
     "name": "stdout",
     "output_type": "stream",
     "text": [
      "170\n",
      "74\n"
     ]
    }
   ],
   "source": [
    "print(len(X_train))\n",
    "print(len(X_test))"
   ]
  },
  {
   "cell_type": "code",
   "execution_count": 45,
   "id": "5a590922-c7f5-40b3-9807-b7d62e50d8f0",
   "metadata": {},
   "outputs": [],
   "source": [
    "# 標準化\n",
    "# 標準化は、データ分割の後に実施する\n",
    "from sklearn.preprocessing import StandardScaler\n",
    "\n",
    "# 数値カラムのみ標準化\n",
    "scaler = StandardScaler()\n",
    "X_train_scaled = X_train.copy()\n",
    "X_train_scaled[numeric_cols] = scaler.fit_transform(X_train[numeric_cols])\n",
    "\n",
    "X_test_scaled = X_test.copy()\n",
    "X_test_scaled[numeric_cols] = scaler.transform(X_test[numeric_cols])"
   ]
  },
  {
   "cell_type": "code",
   "execution_count": 48,
   "id": "37a9f6cd-e258-474f-ba15-181747e6eb6c",
   "metadata": {},
   "outputs": [],
   "source": [
    "# 線形回帰のモデル学習\n",
    "from sklearn.linear_model import LinearRegression\n",
    "model = LinearRegression()\n",
    "model.fit(X_train_scaled, y_train)\n",
    "y_pred = model.predict(X_test_scaled)\n"
   ]
  },
  {
   "cell_type": "code",
   "execution_count": 52,
   "id": "b2277ef4-168c-4e0e-91f7-c0674b6c7332",
   "metadata": {},
   "outputs": [
    {
     "data": {
      "text/plain": [
       "0.9550808988617148"
      ]
     },
     "execution_count": 52,
     "metadata": {},
     "output_type": "execute_result"
    }
   ],
   "source": [
    "# モデルの精度\n",
    "from sklearn.metrics import mean_squared_error\n",
    "mean_squared_error(y_test, y_pred) # np.mean(np.square(y_test - y_pred))"
   ]
  },
  {
   "cell_type": "markdown",
   "id": "f263f47a-491b-47b8-8319-2b05c4d5083a",
   "metadata": {},
   "source": [
    "# LOOCV"
   ]
  },
  {
   "cell_type": "code",
   "execution_count": 58,
   "id": "4d00a3b1-c6e2-4ffe-bf3a-6a6908f2406b",
   "metadata": {},
   "outputs": [],
   "source": [
    "# データ準備\n",
    "X = df['total_bill'].values.reshape(-1, 1)\n",
    "y = df['tip']"
   ]
  },
  {
   "cell_type": "code",
   "execution_count": 59,
   "id": "a7d68f61-7e17-4d72-9cd2-662845b2f89f",
   "metadata": {},
   "outputs": [],
   "source": [
    "from sklearn.model_selection import LeaveOneOut\n",
    "loo = LeaveOneOut()"
   ]
  },
  {
   "cell_type": "code",
   "execution_count": 63,
   "id": "8627a270-c79d-47e7-867a-f11036ab0880",
   "metadata": {},
   "outputs": [],
   "source": [
    "mse_list = []\n",
    "model = LinearRegression()\n",
    "for train_index, test_index in list(loo.split(X)):\n",
    "    X_train, X_test = X[train_index], X[test_index]\n",
    "    y_train, y_test = y[train_index], y[test_index]\n",
    "    \n",
    "    # モデルの学習\n",
    "    model.fit(X_train, y_train)\n",
    "    \n",
    "    #　予測\n",
    "    y_pred = model.predict(X_test)\n",
    "    \n",
    "    #評価(MSE)\n",
    "    mse = mean_squared_error(y_test, y_pred)\n",
    "    mse_list.append(mse)"
   ]
  },
  {
   "cell_type": "code",
   "execution_count": 66,
   "id": "f95ff948-f83e-4694-9567-fd54f71051fe",
   "metadata": {},
   "outputs": [
    {
     "name": "stdout",
     "output_type": "stream",
     "text": [
      "MSE(LOOCV)：1.0675673489857438\n"
     ]
    }
   ],
   "source": [
    "print(f\"MSE(LOOCV)：{np.mean(mse_list)}\")"
   ]
  },
  {
   "cell_type": "code",
   "execution_count": 70,
   "id": "b0a3f1bb-e574-4f86-8ae0-dad00e399822",
   "metadata": {},
   "outputs": [
    {
     "name": "stdout",
     "output_type": "stream",
     "text": [
      "MSE(LOOCV)：1.0675673489857438\n"
     ]
    }
   ],
   "source": [
    "from sklearn.model_selection import cross_val_score\n",
    "cv = LeaveOneOut()\n",
    "scores = cross_val_score(model, X, y, cv = cv, scoring='neg_mean_squared_error')\n",
    "\n",
    "print(f\"MSE(LOOCV)：{np.mean(-scores)}\")"
   ]
  },
  {
   "cell_type": "markdown",
   "id": "8a560fcd-81c4-42fc-bfb0-4f506f1fb641",
   "metadata": {},
   "source": [
    "## K-FoldCV"
   ]
  },
  {
   "cell_type": "code",
   "execution_count": 98,
   "id": "d50d4f58-fef5-4f0f-8f6b-7ba128677a18",
   "metadata": {},
   "outputs": [],
   "source": [
    "from sklearn.model_selection import KFold\n",
    "from sklearn.model_selection import RepeatedKFold\n",
    "k = 5\n",
    "n_repeats = 3\n",
    "\n",
    "mse_list = []\n",
    "\n",
    "model = LinearRegression()\n",
    "# cv = KFold(n_splits=k, shuffle=True)\n",
    "cv = RepeatedKFold(n_splits=k, n_repeats=n_repeats, random_state=0)\n",
    "\n",
    "for train_index, test_index in cv.split(X):\n",
    "    X_train, X_test = X[train_index], X[test_index]\n",
    "    y_train, y_test = y[train_index], y[test_index]\n",
    "    \n",
    "    # モデル学習\n",
    "    model.fit(X_train, y_train)\n",
    "    \n",
    "    # テストデータ予想\n",
    "    y_pred = model.predict(X_test)\n",
    "    \n",
    "    # MSE\n",
    "    mse = mean_squared_error(y_test, y_pred)\n",
    "    mse_list.append(mse)"
   ]
  },
  {
   "cell_type": "code",
   "execution_count": 99,
   "id": "289991b8-8cdf-495e-ba71-dab03ceb00fe",
   "metadata": {},
   "outputs": [
    {
     "name": "stdout",
     "output_type": "stream",
     "text": [
      "MSE(5FoldCV : 1.0746387233165982)\n",
      "std: 0.2651717854089844\n"
     ]
    }
   ],
   "source": [
    "print(f\"MSE({k}FoldCV : {np.mean(mse_list)})\")\n",
    "print(f\"std: {np.std(mse_list)}\")"
   ]
  },
  {
   "cell_type": "code",
   "execution_count": 100,
   "id": "d6c7d328-41a6-4216-a2f1-d6078596a7b5",
   "metadata": {},
   "outputs": [
    {
     "data": {
      "text/plain": [
       "[0.8213090642766285,\n",
       " 1.0745842125927976,\n",
       " 1.0880123892600388,\n",
       " 1.3323867714930204,\n",
       " 1.084763004349474,\n",
       " 1.1587839131131425,\n",
       " 1.6042084002514578,\n",
       " 1.0307086207441924,\n",
       " 0.7120290668798743,\n",
       " 0.8472985410140897,\n",
       " 0.8856103319481908,\n",
       " 1.5248521639391936,\n",
       " 0.6332659028150582,\n",
       " 1.200354200262607,\n",
       " 1.121414266809207]"
      ]
     },
     "execution_count": 100,
     "metadata": {},
     "output_type": "execute_result"
    }
   ],
   "source": [
    "mse_list"
   ]
  },
  {
   "cell_type": "code",
   "execution_count": 101,
   "id": "0356ef65-f298-4a24-916f-ae597b5068a4",
   "metadata": {},
   "outputs": [
    {
     "name": "stderr",
     "output_type": "stream",
     "text": [
      "[Parallel(n_jobs=-1)]: Using backend LokyBackend with 6 concurrent workers.\n",
      "[Parallel(n_jobs=-1)]: Done  15 out of  15 | elapsed:    2.7s finished\n"
     ]
    }
   ],
   "source": [
    "scores = cross_val_score(model, X, y, cv=cv, verbose=True, scoring='neg_mean_squared_error', n_jobs=-1)"
   ]
  },
  {
   "cell_type": "code",
   "execution_count": 102,
   "id": "949dd434-e2ce-4d46-8cc9-9af0a8a499b7",
   "metadata": {},
   "outputs": [
    {
     "data": {
      "text/plain": [
       "array([0.82130906, 1.07458421, 1.08801239, 1.33238677, 1.084763  ,\n",
       "       1.15878391, 1.6042084 , 1.03070862, 0.71202907, 0.84729854,\n",
       "       0.88561033, 1.52485216, 0.6332659 , 1.2003542 , 1.12141427])"
      ]
     },
     "execution_count": 102,
     "metadata": {},
     "output_type": "execute_result"
    }
   ],
   "source": [
    "-scores"
   ]
  },
  {
   "cell_type": "markdown",
   "id": "80fb97d4-fbe4-4588-957b-200ac5e32635",
   "metadata": {},
   "source": [
    "## Pipeline + KFold"
   ]
  },
  {
   "cell_type": "code",
   "execution_count": 109,
   "id": "33ac28c7-a45a-4275-9314-4bcfe5dd2488",
   "metadata": {},
   "outputs": [
    {
     "data": {
      "text/plain": [
       "array([-0.82130906, -1.07458421, -1.08801239, -1.33238677, -1.084763  ])"
      ]
     },
     "execution_count": 109,
     "metadata": {},
     "output_type": "execute_result"
    }
   ],
   "source": [
    "from sklearn.pipeline import Pipeline\n",
    "pipeline = Pipeline(steps=[('scaler', StandardScaler()), ('mdoel', LinearRegression())])\n",
    "\n",
    "cv = KFold(n_splits=5, shuffle=True, random_state=0)\n",
    "scores = cross_val_score(pipeline, X, y, scoring='neg_mean_squared_error', cv=cv)\n",
    "scores"
   ]
  },
  {
   "cell_type": "markdown",
   "id": "508fc27f-7e9e-4efa-b8c9-d48ce0b93e1b",
   "metadata": {},
   "source": [
    "## Piplineなし"
   ]
  },
  {
   "cell_type": "code",
   "execution_count": 116,
   "id": "6433b2b1-838b-4dcf-8e14-b49abf9f7860",
   "metadata": {},
   "outputs": [
    {
     "data": {
      "text/plain": [
       "array([2.71486884, 2.78639251, 2.90900452, 1.65836207, 2.57999564,\n",
       "       1.50509707, 2.74858715, 3.30136293, 2.77208778, 4.45800284,\n",
       "       3.50060744, 3.49345507, 2.35520697, 2.24587793, 2.28879213,\n",
       "       4.02375199, 1.77075641, 2.3480546 , 2.83645908, 3.2778623 ,\n",
       "       3.98901192, 3.05511716, 2.55240794, 2.45431834, 2.29798803,\n",
       "       2.59327861, 2.16004953, 3.96244599, 3.50162921, 2.5289073 ,\n",
       "       2.42264357, 2.19274606, 2.49314547, 1.99963215, 2.78639251,\n",
       "       2.28572683, 2.64743224, 1.97306622, 5.85577969, 2.55036441,\n",
       "       1.79425705, 2.18763723, 2.52073317, 3.96755482, 2.22135553,\n",
       "       2.65151931, 2.78128368, 3.12255376, 2.66173698, 3.66409011,\n",
       "       4.2567148 , 2.74552185, 3.01118119, 5.83943142, 1.89847725,\n",
       "       2.14676656, 3.97572896, 3.03161652, 2.37462053, 2.21113786,\n",
       "       3.70496078, 2.53299437, 3.07963956, 3.47199797, 3.99718606,\n",
       "       2.5043849 , 2.60043097, 4.2720413 , 1.97306622, 3.87763935,\n",
       "       2.4890584 , 1.99145802, 3.43010554, 2.37972937])"
      ]
     },
     "execution_count": 116,
     "metadata": {},
     "output_type": "execute_result"
    }
   ],
   "source": [
    "X_train, X_test, y_train, y_test = train_test_split(X, y, test_size=0.3, random_state=0)\n",
    "model = LinearRegression()\n",
    "\n",
    "scaler = StandardScaler()\n",
    "X_train_scaled = scaler.fit_transform(X_train)\n",
    "X_test_scaled = scaler.transform(X_test)\n",
    "\n",
    "model.fit(X_train_scaled, y_train)\n",
    "y_pred = model.predict(X_test_scaled)\n",
    "y_pred"
   ]
  },
  {
   "cell_type": "markdown",
   "id": "74c22fc3-805b-43c2-bf8c-c7c7a48b46eb",
   "metadata": {},
   "source": [
    "## pipelineあり"
   ]
  },
  {
   "cell_type": "code",
   "execution_count": 117,
   "id": "67cf354e-a728-4b4e-9d0f-053ccbf180b2",
   "metadata": {},
   "outputs": [
    {
     "data": {
      "text/plain": [
       "array([2.71486884, 2.78639251, 2.90900452, 1.65836207, 2.57999564,\n",
       "       1.50509707, 2.74858715, 3.30136293, 2.77208778, 4.45800284,\n",
       "       3.50060744, 3.49345507, 2.35520697, 2.24587793, 2.28879213,\n",
       "       4.02375199, 1.77075641, 2.3480546 , 2.83645908, 3.2778623 ,\n",
       "       3.98901192, 3.05511716, 2.55240794, 2.45431834, 2.29798803,\n",
       "       2.59327861, 2.16004953, 3.96244599, 3.50162921, 2.5289073 ,\n",
       "       2.42264357, 2.19274606, 2.49314547, 1.99963215, 2.78639251,\n",
       "       2.28572683, 2.64743224, 1.97306622, 5.85577969, 2.55036441,\n",
       "       1.79425705, 2.18763723, 2.52073317, 3.96755482, 2.22135553,\n",
       "       2.65151931, 2.78128368, 3.12255376, 2.66173698, 3.66409011,\n",
       "       4.2567148 , 2.74552185, 3.01118119, 5.83943142, 1.89847725,\n",
       "       2.14676656, 3.97572896, 3.03161652, 2.37462053, 2.21113786,\n",
       "       3.70496078, 2.53299437, 3.07963956, 3.47199797, 3.99718606,\n",
       "       2.5043849 , 2.60043097, 4.2720413 , 1.97306622, 3.87763935,\n",
       "       2.4890584 , 1.99145802, 3.43010554, 2.37972937])"
      ]
     },
     "execution_count": 117,
     "metadata": {},
     "output_type": "execute_result"
    }
   ],
   "source": [
    "X_train, X_test, y_train, y_test = train_test_split(X, y, test_size=0.3, random_state=0)\n",
    "\n",
    "pipeline = Pipeline(steps=[('scaler', StandardScaler()), ('model', LinearRegression())])\n",
    "pipeline.fit(X_train, y_train)\n",
    "y_pred = pipeline.predict(X_test)\n",
    "y_pred"
   ]
  },
  {
   "cell_type": "code",
   "execution_count": null,
   "id": "8d8d23ad-ddf0-497d-bf75-2c59a8792df0",
   "metadata": {},
   "outputs": [],
   "source": []
  },
  {
   "cell_type": "code",
   "execution_count": null,
   "id": "e286f5e7-3719-44bd-8625-4a74c4ae490a",
   "metadata": {},
   "outputs": [],
   "source": []
  },
  {
   "cell_type": "code",
   "execution_count": null,
   "id": "7c6bc91f-e337-4a1e-9ab4-aff999f45e62",
   "metadata": {},
   "outputs": [],
   "source": []
  },
  {
   "cell_type": "code",
   "execution_count": null,
   "id": "d6a18c25-5abd-4cd0-87eb-dd1398a36b76",
   "metadata": {},
   "outputs": [],
   "source": []
  }
 ],
 "metadata": {
  "kernelspec": {
   "display_name": "Python 3 (ipykernel)",
   "language": "python",
   "name": "python3"
  },
  "language_info": {
   "codemirror_mode": {
    "name": "ipython",
    "version": 3
   },
   "file_extension": ".py",
   "mimetype": "text/x-python",
   "name": "python",
   "nbconvert_exporter": "python",
   "pygments_lexer": "ipython3",
   "version": "3.9.13"
  }
 },
 "nbformat": 4,
 "nbformat_minor": 5
}
