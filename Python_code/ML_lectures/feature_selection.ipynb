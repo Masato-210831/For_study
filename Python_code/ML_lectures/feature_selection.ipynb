{
 "cells": [
  {
   "cell_type": "markdown",
   "id": "b0ed9fed-7aa6-40b2-b025-2381c54f4535",
   "metadata": {},
   "source": [
    "## Greedy feature selection"
   ]
  },
  {
   "cell_type": "code",
   "execution_count": 48,
   "id": "2635cfca-532f-4313-99c2-edfc1fedcc32",
   "metadata": {},
   "outputs": [],
   "source": [
    "import numpy as np\n",
    "import pandas as pd\n",
    "from sklearn.impute import SimpleImputer\n",
    "from sklearn.base import BaseEstimator, TransformerMixin\n",
    "from sklearn.preprocessing import StandardScaler, PolynomialFeatures\n",
    "from sklearn.pipeline import Pipeline\n",
    "from sklearn.linear_model import LogisticRegression\n",
    "from sklearn.model_selection import KFold, cross_val_score"
   ]
  },
  {
   "cell_type": "code",
   "execution_count": 6,
   "id": "97903130-d468-4622-a8d7-b4448ab04ab2",
   "metadata": {},
   "outputs": [],
   "source": [
    "df = pd.read_csv('document/penguins_size.csv')\n",
    "df.loc[df[df['sex'] == '.'].index, 'sex'] = np.nan"
   ]
  },
  {
   "cell_type": "code",
   "execution_count": 7,
   "id": "cd476a9e-cd62-44d6-bcd8-c5444d97c42f",
   "metadata": {},
   "outputs": [],
   "source": [
    "# threshを指定することでその数以上の特徴量データを持っていないとドロップする\n",
    "df.dropna(thresh=3, inplace=True)"
   ]
  },
  {
   "cell_type": "code",
   "execution_count": 53,
   "id": "bdcee037-09e2-4813-a5d4-bea0a6ec1b36",
   "metadata": {},
   "outputs": [],
   "source": [
    "X = df.drop('species', axis=1)\n",
    "y = df['species']\n",
    "\n",
    "# 欠損値を新しいカテゴリ'NaN'に代入\n",
    "imputer = SimpleImputer(strategy='constant', fill_value='NaN')\n",
    "imputer.set_output(transform='pandas')\n",
    "X['sex'] = imputer.fit_transform(X[['sex']])\n",
    "\n",
    "\n",
    "# pipelineのためのダミー変数クラス\n",
    "class GetDummies(BaseEstimator, TransformerMixin):\n",
    "    def __init__(self):\n",
    "        self.X_columns = None\n",
    "    \n",
    "    def fit(self, X, y):\n",
    "        self.X_columns = pd.get_dummies(X).columns.to_list()\n",
    "        return self\n",
    "    \n",
    "    def transform(self, X):\n",
    "        X_dummies = pd.get_dummies(X)\n",
    "        return X_dummies.reindex(columns=self.X_columns, fill_value=0)\n",
    "    \n",
    "    \n",
    "# 特徴量エンジニアリング\n",
    "# 多項式特徴量\n",
    "poly = PolynomialFeatures(degree=2, include_bias=False)\n",
    "X[['culmen_length_mm', 'culmen_depth_mm', 'culmen_length_mm^2', 'culmen_length_mm * culmen_length_mm', 'culmen_depth_mm^2',]] = poly.fit_transform(X[['culmen_length_mm', 'culmen_depth_mm']])\n",
    "\n",
    "# 四則演算\n",
    "X['culmen_diff'] = X['culmen_length_mm'] - X['culmen_depth_mm']\n",
    "X['culmen_ratio'] = X['culmen_length_mm'] / X['culmen_depth_mm']\n",
    "\n",
    "\n",
    "# Pipeline\n",
    "pipeline =Pipeline(steps=[('dummy', GetDummies()),\n",
    "                          ('scaler', StandardScaler()),\n",
    "                          ('model', LogisticRegression())])\n",
    "\n",
    "\n",
    "# cv\n",
    "cv = KFold(n_splits=3, random_state=0, shuffle=True)\n",
    "\n",
    "\n"
   ]
  },
  {
   "cell_type": "code",
   "execution_count": 213,
   "id": "f3447341-b339-4e30-b57f-c1f10fa61488",
   "metadata": {},
   "outputs": [],
   "source": [
    "# Greedy feature selection\n",
    "# gfs = GreedyFeatureSElection(Piplene=pipline, cv=cv)\n",
    "# gfs.select_feature(X, y)\n",
    "# gfs.scores -> 各最高精度が見れる\n",
    "# gfs.selected_features -> 選択された特徴量が見れる\n",
    "\n",
    "\n",
    "class GreedyFeatureSelection:\n",
    "    def __init__(self, pipeline, cv):\n",
    "        self.pipeline = pipeline\n",
    "        self.cv = cv\n",
    "        self.scores = []\n",
    "        self.selected_features = []\n",
    "        \n",
    "    \n",
    "    def select_feature(self, X, y):\n",
    "        \n",
    "        while True:\n",
    "            # Xのカラム名リスト\n",
    "            X_cols = X.columns.to_list()\n",
    "            \n",
    "            # 最初にiterとそれ以降のiterで分岐\n",
    "            if len(self.scores) == 0:\n",
    "                selected_cols = X_cols\n",
    "            else:\n",
    "                # self.selected_featuresに入っていないカラムを抽出\n",
    "                selected_cols = [col for col in X_cols if col not in self.selected_features]\n",
    "\n",
    "            # 各カラムを使用した精度を格納\n",
    "            scores = {}\n",
    "            for col in selected_cols:\n",
    "                # 格納したカラム名との結合 -> list型\n",
    "                cols = [col] + self.selected_features\n",
    "                selected_col_X = X[cols]\n",
    "                score = cross_val_score(self.pipeline, selected_col_X, y, cv=self.cv, scoring='accuracy')\n",
    "                scores[col] = score.mean()\n",
    "\n",
    "            # 一番高い精度のcolを選出\n",
    "            best_col = max(scores,  key=scores.get)\n",
    "            best_score = scores[best_col]\n",
    "            self.selected_features.append(best_col)\n",
    "            self.scores.append(best_score)\n",
    "            \n",
    "            # bestscoreが向上していなかったらbreak\n",
    "            # 初回のiterは回避\n",
    "            if len(self.scores) > 1:\n",
    "                if best_score <= self.scores[-2]:\n",
    "                    self.selected_features.pop(-1)\n",
    "                    self.scores.pop(-1)\n",
    "                    break\n",
    "\n",
    "            \n",
    "\n",
    "    "
   ]
  },
  {
   "cell_type": "code",
   "execution_count": 214,
   "id": "75b88aa2-0951-4eae-a78f-a0441bd9c379",
   "metadata": {},
   "outputs": [],
   "source": [
    "gfs = GreedyFeatureSelection(pipeline=pipeline, cv=cv)\n",
    "gfs.select_feature(X, y)"
   ]
  },
  {
   "cell_type": "code",
   "execution_count": 215,
   "id": "589ba9df-e7a2-4e2b-8eca-5217386ccd3d",
   "metadata": {},
   "outputs": [
    {
     "data": {
      "text/plain": [
       "['culmen_ratio', 'island', 'culmen_diff', 'body_mass_g']"
      ]
     },
     "execution_count": 215,
     "metadata": {},
     "output_type": "execute_result"
    }
   ],
   "source": [
    "gfs.selected_features"
   ]
  },
  {
   "cell_type": "code",
   "execution_count": 216,
   "id": "32689579-3a97-422c-9c6e-cef30962e3a0",
   "metadata": {},
   "outputs": [
    {
     "data": {
      "text/plain": [
       "[0.9619883040935672, 0.9912280701754387, 0.9970760233918128, 1.0]"
      ]
     },
     "execution_count": 216,
     "metadata": {},
     "output_type": "execute_result"
    }
   ],
   "source": [
    "gfs.scores"
   ]
  },
  {
   "cell_type": "markdown",
   "id": "60a20821-18b6-4b1b-8183-5422bfea0c13",
   "metadata": {},
   "source": [
    "## かめさんのコード => 自分で作成したものと比較用に"
   ]
  },
  {
   "cell_type": "code",
   "execution_count": null,
   "id": "b93a3150-36f9-4e6b-aea6-282f4e9e5c51",
   "metadata": {},
   "outputs": [],
   "source": [
    "class GreedyFeatureSelection():\n",
    "    \n",
    "    def __init__(self, pipeline, cv):\n",
    "        self.pipeline = pipeline\n",
    "        self.cv = cv\n",
    "        self.selected_features = []\n",
    "        self.scores = [0]\n",
    "    \n",
    "    def select_feature(self, X, y):\n",
    "        \n",
    "        all_features = X.columns\n",
    "        \n",
    "        while True:\n",
    "            # print('greedy selection started')\n",
    "            best_score = self.scores[-1]\n",
    "            candidate_feature = None\n",
    "            for feature in all_features:\n",
    "                if feature in self.selected_features:\n",
    "                    continue\n",
    "                # print(f'{feature} started')\n",
    "                features = self.selected_features + [feature]\n",
    "                X_train = X[features]\n",
    "                # 評価\n",
    "                score = cross_val_score(self.pipeline, X_train, y, cv=self.cv).mean()\n",
    "                # print(f'{features} score: {score}')\n",
    "                if score > best_score:\n",
    "                    # print(f'best score updated {best_score} -> {score}')\n",
    "                    best_score = score\n",
    "                    candidate_feature = feature\n",
    "            \n",
    "            if candidate_feature is not None:\n",
    "                # print(f'========{candidate_feature} is selected=============')\n",
    "                self.scores.append(best_score)\n",
    "                self.selected_features.append(candidate_feature)\n",
    "            else:\n",
    "                break"
   ]
  },
  {
   "cell_type": "markdown",
   "id": "52b0661e-f7c4-4ec7-a9d1-e938f52b64cb",
   "metadata": {},
   "source": [
    "## RFE"
   ]
  },
  {
   "cell_type": "code",
   "execution_count": 243,
   "id": "510036ab-c7f1-469c-9665-462b1ca50ff6",
   "metadata": {},
   "outputs": [],
   "source": [
    "from sklearn.feature_selection import RFE, RFECV\n",
    "from sklearn.tree import DecisionTreeClassifier\n",
    "import matplotlib.pyplot as plt"
   ]
  },
  {
   "cell_type": "code",
   "execution_count": 228,
   "id": "265ddd9d-b59e-454d-9898-bca73a519904",
   "metadata": {},
   "outputs": [
    {
     "data": {
      "text/html": [
       "<div>\n",
       "<style scoped>\n",
       "    .dataframe tbody tr th:only-of-type {\n",
       "        vertical-align: middle;\n",
       "    }\n",
       "\n",
       "    .dataframe tbody tr th {\n",
       "        vertical-align: top;\n",
       "    }\n",
       "\n",
       "    .dataframe thead th {\n",
       "        text-align: right;\n",
       "    }\n",
       "</style>\n",
       "<table border=\"1\" class=\"dataframe\">\n",
       "  <thead>\n",
       "    <tr style=\"text-align: right;\">\n",
       "      <th></th>\n",
       "      <th>culmen_diff</th>\n",
       "      <th>culmen_ratio</th>\n",
       "      <th>island_Dream</th>\n",
       "      <th>island_Torgersen</th>\n",
       "      <th>sex_MALE</th>\n",
       "      <th>sex_NaN</th>\n",
       "    </tr>\n",
       "  </thead>\n",
       "  <tbody>\n",
       "    <tr>\n",
       "      <th>0</th>\n",
       "      <td>20.4</td>\n",
       "      <td>2.090909</td>\n",
       "      <td>0</td>\n",
       "      <td>1</td>\n",
       "      <td>1</td>\n",
       "      <td>0</td>\n",
       "    </tr>\n",
       "    <tr>\n",
       "      <th>1</th>\n",
       "      <td>22.1</td>\n",
       "      <td>2.270115</td>\n",
       "      <td>0</td>\n",
       "      <td>1</td>\n",
       "      <td>0</td>\n",
       "      <td>0</td>\n",
       "    </tr>\n",
       "    <tr>\n",
       "      <th>2</th>\n",
       "      <td>22.3</td>\n",
       "      <td>2.238889</td>\n",
       "      <td>0</td>\n",
       "      <td>1</td>\n",
       "      <td>0</td>\n",
       "      <td>0</td>\n",
       "    </tr>\n",
       "    <tr>\n",
       "      <th>4</th>\n",
       "      <td>17.4</td>\n",
       "      <td>1.901554</td>\n",
       "      <td>0</td>\n",
       "      <td>1</td>\n",
       "      <td>0</td>\n",
       "      <td>0</td>\n",
       "    </tr>\n",
       "    <tr>\n",
       "      <th>5</th>\n",
       "      <td>18.7</td>\n",
       "      <td>1.907767</td>\n",
       "      <td>0</td>\n",
       "      <td>1</td>\n",
       "      <td>1</td>\n",
       "      <td>0</td>\n",
       "    </tr>\n",
       "    <tr>\n",
       "      <th>...</th>\n",
       "      <td>...</td>\n",
       "      <td>...</td>\n",
       "      <td>...</td>\n",
       "      <td>...</td>\n",
       "      <td>...</td>\n",
       "      <td>...</td>\n",
       "    </tr>\n",
       "    <tr>\n",
       "      <th>338</th>\n",
       "      <td>33.5</td>\n",
       "      <td>3.445255</td>\n",
       "      <td>0</td>\n",
       "      <td>0</td>\n",
       "      <td>0</td>\n",
       "      <td>0</td>\n",
       "    </tr>\n",
       "    <tr>\n",
       "      <th>340</th>\n",
       "      <td>32.5</td>\n",
       "      <td>3.272727</td>\n",
       "      <td>0</td>\n",
       "      <td>0</td>\n",
       "      <td>0</td>\n",
       "      <td>0</td>\n",
       "    </tr>\n",
       "    <tr>\n",
       "      <th>341</th>\n",
       "      <td>34.7</td>\n",
       "      <td>3.210191</td>\n",
       "      <td>0</td>\n",
       "      <td>0</td>\n",
       "      <td>1</td>\n",
       "      <td>0</td>\n",
       "    </tr>\n",
       "    <tr>\n",
       "      <th>342</th>\n",
       "      <td>30.4</td>\n",
       "      <td>3.054054</td>\n",
       "      <td>0</td>\n",
       "      <td>0</td>\n",
       "      <td>0</td>\n",
       "      <td>0</td>\n",
       "    </tr>\n",
       "    <tr>\n",
       "      <th>343</th>\n",
       "      <td>33.8</td>\n",
       "      <td>3.099379</td>\n",
       "      <td>0</td>\n",
       "      <td>0</td>\n",
       "      <td>1</td>\n",
       "      <td>0</td>\n",
       "    </tr>\n",
       "  </tbody>\n",
       "</table>\n",
       "<p>342 rows × 6 columns</p>\n",
       "</div>"
      ],
      "text/plain": [
       "     culmen_diff  culmen_ratio  island_Dream  island_Torgersen  sex_MALE  \\\n",
       "0           20.4      2.090909             0                 1         1   \n",
       "1           22.1      2.270115             0                 1         0   \n",
       "2           22.3      2.238889             0                 1         0   \n",
       "4           17.4      1.901554             0                 1         0   \n",
       "5           18.7      1.907767             0                 1         1   \n",
       "..           ...           ...           ...               ...       ...   \n",
       "338         33.5      3.445255             0                 0         0   \n",
       "340         32.5      3.272727             0                 0         0   \n",
       "341         34.7      3.210191             0                 0         1   \n",
       "342         30.4      3.054054             0                 0         0   \n",
       "343         33.8      3.099379             0                 0         1   \n",
       "\n",
       "     sex_NaN  \n",
       "0          0  \n",
       "1          0  \n",
       "2          0  \n",
       "4          0  \n",
       "5          0  \n",
       "..       ...  \n",
       "338        0  \n",
       "340        0  \n",
       "341        0  \n",
       "342        0  \n",
       "343        0  \n",
       "\n",
       "[342 rows x 6 columns]"
      ]
     },
     "execution_count": 228,
     "metadata": {},
     "output_type": "execute_result"
    }
   ],
   "source": [
    "rfe = RFE(DecisionTreeClassifier(), n_features_to_select=6)\n",
    "X = pd.get_dummies(X, drop_first=True)\n",
    "rfe.fit(X, y)\n",
    "rfe.set_output(transform='pandas')\n",
    "rfe.transform(X)"
   ]
  },
  {
   "cell_type": "code",
   "execution_count": 229,
   "id": "5a73a084-3525-4f6d-a2d5-3225e94caed4",
   "metadata": {},
   "outputs": [
    {
     "data": {
      "text/plain": [
       "array([8, 7, 6, 5, 4, 3, 2, 1, 1, 1, 1, 1, 1])"
      ]
     },
     "execution_count": 229,
     "metadata": {},
     "output_type": "execute_result"
    }
   ],
   "source": [
    "# 今回6つの特徴量が選択される => 1で表される\n",
    "rfe.ranking_"
   ]
  },
  {
   "cell_type": "code",
   "execution_count": 230,
   "id": "1c485980-5c0b-46e1-991c-4af587e9e8c6",
   "metadata": {},
   "outputs": [
    {
     "data": {
      "text/plain": [
       "array(['culmen_length_mm', 'culmen_depth_mm', 'flipper_length_mm',\n",
       "       'body_mass_g', 'culmen_length_mm^2',\n",
       "       'culmen_length_mm * culmen_length_mm', 'culmen_depth_mm^2',\n",
       "       'culmen_diff', 'culmen_ratio', 'island_Dream', 'island_Torgersen',\n",
       "       'sex_MALE', 'sex_NaN'], dtype=object)"
      ]
     },
     "execution_count": 230,
     "metadata": {},
     "output_type": "execute_result"
    }
   ],
   "source": [
    "rfe.feature_names_in_"
   ]
  },
  {
   "cell_type": "code",
   "execution_count": 232,
   "id": "f0e35fac-b5d7-4f39-97c8-5f6b55a8a6d3",
   "metadata": {},
   "outputs": [
    {
     "data": {
      "text/plain": [
       "array(['culmen_diff', 'culmen_ratio', 'island_Dream', 'island_Torgersen',\n",
       "       'sex_MALE', 'sex_NaN'], dtype=object)"
      ]
     },
     "execution_count": 232,
     "metadata": {},
     "output_type": "execute_result"
    }
   ],
   "source": [
    "# こんな風に取り出しても良いけど\n",
    "rfe.feature_names_in_[rfe.ranking_==1]"
   ]
  },
  {
   "cell_type": "code",
   "execution_count": 233,
   "id": "d67b47b8-4fd7-4a5f-85ea-e1392071211a",
   "metadata": {},
   "outputs": [
    {
     "data": {
      "text/plain": [
       "array([False, False, False, False, False, False, False,  True,  True,\n",
       "        True,  True,  True,  True])"
      ]
     },
     "execution_count": 233,
     "metadata": {},
     "output_type": "execute_result"
    }
   ],
   "source": [
    "# .support_を使用すると簡単\n",
    "rfe.support_"
   ]
  },
  {
   "cell_type": "code",
   "execution_count": 234,
   "id": "59989d53-9715-4980-a8b7-19fe469c3307",
   "metadata": {},
   "outputs": [
    {
     "data": {
      "text/plain": [
       "array(['culmen_diff', 'culmen_ratio', 'island_Dream', 'island_Torgersen',\n",
       "       'sex_MALE', 'sex_NaN'], dtype=object)"
      ]
     },
     "execution_count": 234,
     "metadata": {},
     "output_type": "execute_result"
    }
   ],
   "source": [
    "rfe.feature_names_in_[rfe.support_]"
   ]
  },
  {
   "cell_type": "code",
   "execution_count": 237,
   "id": "405a49fb-c1f3-4cc2-9223-11b6162e7efd",
   "metadata": {},
   "outputs": [
    {
     "data": {
      "text/plain": [
       "array([1.        , 1.        , 0.99122807])"
      ]
     },
     "execution_count": 237,
     "metadata": {},
     "output_type": "execute_result"
    }
   ],
   "source": [
    "# インスタンス化したrfeをpipelineで使用する\n",
    "pipeline = Pipeline([('rfe', rfe), ('scaler', StandardScaler()), ('model', LogisticRegression())])\n",
    "cross_val_score(pipeline, X, y, cv=cv)"
   ]
  },
  {
   "cell_type": "code",
   "execution_count": 263,
   "id": "42caef11-23f6-44a2-901a-36d351717c63",
   "metadata": {},
   "outputs": [
    {
     "data": {
      "text/plain": [
       "array([[20.4       ,  2.09090909,  0.        ],\n",
       "       [22.1       ,  2.27011494,  0.        ],\n",
       "       [22.3       ,  2.23888889,  0.        ],\n",
       "       ...,\n",
       "       [34.7       ,  3.21019108,  0.        ],\n",
       "       [30.4       ,  3.05405405,  0.        ],\n",
       "       [33.8       ,  3.09937888,  0.        ]])"
      ]
     },
     "execution_count": 263,
     "metadata": {},
     "output_type": "execute_result"
    }
   ],
   "source": [
    "# RFECV\n",
    "# RFECVは自動で特徴量を決めてくれる\n",
    "rfecv = RFECV(DecisionTreeClassifier(), cv=cv)\n",
    "rfecv.fit(X, y)\n",
    "rfecv.transform(X)"
   ]
  },
  {
   "cell_type": "code",
   "execution_count": 264,
   "id": "9cf4bf74-df5d-42b1-a48a-7b6a10f9e5f1",
   "metadata": {},
   "outputs": [
    {
     "data": {
      "text/plain": [
       "array(['culmen_diff', 'culmen_ratio', 'island_Dream'], dtype=object)"
      ]
     },
     "execution_count": 264,
     "metadata": {},
     "output_type": "execute_result"
    }
   ],
   "source": [
    "# どの特徴量が選ばれたのか？\n",
    "rfecv.feature_names_in_[rfecv.support_]"
   ]
  },
  {
   "cell_type": "code",
   "execution_count": 265,
   "id": "dedb224f-c6c9-4e9c-adbf-c2ca0869d7e5",
   "metadata": {},
   "outputs": [
    {
     "data": {
      "text/plain": [
       "{'mean_test_score': array([0.8625731 , 0.97953216, 0.98830409, 0.98830409, 0.98830409,\n",
       "        0.98830409, 0.98830409, 0.98538012, 0.98538012, 0.97660819,\n",
       "        0.98830409, 0.98830409, 0.98538012]),\n",
       " 'std_test_score': array([0.1063138 , 0.01094052, 0.00413513, 0.00413513, 0.00413513,\n",
       "        0.00413513, 0.00413513, 0.00413513, 0.00413513, 0.00827025,\n",
       "        0.00413513, 0.00413513, 0.00413513]),\n",
       " 'split0_test_score': array([0.97368421, 0.99122807, 0.99122807, 0.99122807, 0.99122807,\n",
       "        0.99122807, 0.99122807, 0.98245614, 0.98245614, 0.98245614,\n",
       "        0.99122807, 0.99122807, 0.99122807]),\n",
       " 'split1_test_score': array([0.89473684, 0.98245614, 0.99122807, 0.99122807, 0.99122807,\n",
       "        0.99122807, 0.99122807, 0.99122807, 0.99122807, 0.96491228,\n",
       "        0.99122807, 0.99122807, 0.98245614]),\n",
       " 'split2_test_score': array([0.71929825, 0.96491228, 0.98245614, 0.98245614, 0.98245614,\n",
       "        0.98245614, 0.98245614, 0.98245614, 0.98245614, 0.98245614,\n",
       "        0.98245614, 0.98245614, 0.98245614])}"
      ]
     },
     "execution_count": 265,
     "metadata": {},
     "output_type": "execute_result"
    }
   ],
   "source": [
    "rfecv.cv_results_"
   ]
  },
  {
   "cell_type": "code",
   "execution_count": 266,
   "id": "73f7da86-3ff6-43bf-a3f2-9818cbe55baf",
   "metadata": {},
   "outputs": [
    {
     "data": {
      "text/plain": [
       "<ErrorbarContainer object of 3 artists>"
      ]
     },
     "execution_count": 266,
     "metadata": {},
     "output_type": "execute_result"
    },
    {
     "data": {
      "image/png": "[encoded data removed]",
      "text/plain": [
       "<Figure size 640x480 with 1 Axes>"
      ]
     },
     "metadata": {},
     "output_type": "display_data"
    }
   ],
   "source": [
    "plt.errorbar(range(1, 1+len(rfecv.cv_results_['mean_test_score'])), \n",
    "            rfecv.cv_results_['mean_test_score'],\n",
    "            yerr=rfecv.cv_results_['std_test_score'],)"
   ]
  },
  {
   "cell_type": "markdown",
   "id": "1088ff7b-f905-4e4c-a00c-5073d7b277d5",
   "metadata": {},
   "source": [
    "・'mean_test_score'において、3つ目以8まで降同じ値が続いているので3つ目の特徴まで選択された  \n",
    "・自動で特徴量数を選択してくれるRFECVの方が使いやすいかも"
   ]
  },
  {
   "cell_type": "markdown",
   "id": "7bdedc91-1e0c-4730-81a0-723865255f3d",
   "metadata": {},
   "source": [
    "## モデルの係数や重要度で特徴量選択"
   ]
  },
  {
   "cell_type": "markdown",
   "id": "f57bcaf3-e517-4c6a-af4f-a0d67b1e6f02",
   "metadata": {},
   "source": [
    "・予算等の関係から全ての特徴量を使えない時に使用することが多い（多少の精度を犠牲にすることもある。）"
   ]
  },
  {
   "cell_type": "code",
   "execution_count": 249,
   "id": "04db70f8-753d-4036-bce8-8d066d6c8a0f",
   "metadata": {},
   "outputs": [],
   "source": [
    "from sklearn.feature_selection import SelectFromModel\n",
    "from sklearn.ensemble import RandomForestClassifier\n"
   ]
  },
  {
   "cell_type": "code",
   "execution_count": 258,
   "id": "184fdcf8-05fb-45ff-bf3f-d874bce72cb0",
   "metadata": {},
   "outputs": [
    {
     "data": {
      "text/html": [
       "<div>\n",
       "<style scoped>\n",
       "    .dataframe tbody tr th:only-of-type {\n",
       "        vertical-align: middle;\n",
       "    }\n",
       "\n",
       "    .dataframe tbody tr th {\n",
       "        vertical-align: top;\n",
       "    }\n",
       "\n",
       "    .dataframe thead th {\n",
       "        text-align: right;\n",
       "    }\n",
       "</style>\n",
       "<table border=\"1\" class=\"dataframe\">\n",
       "  <thead>\n",
       "    <tr style=\"text-align: right;\">\n",
       "      <th></th>\n",
       "      <th>culmen_length_mm</th>\n",
       "      <th>culmen_depth_mm</th>\n",
       "      <th>flipper_length_mm</th>\n",
       "      <th>culmen_length_mm^2</th>\n",
       "      <th>culmen_depth_mm^2</th>\n",
       "      <th>culmen_diff</th>\n",
       "      <th>culmen_ratio</th>\n",
       "    </tr>\n",
       "  </thead>\n",
       "  <tbody>\n",
       "    <tr>\n",
       "      <th>0</th>\n",
       "      <td>39.1</td>\n",
       "      <td>18.7</td>\n",
       "      <td>181.0</td>\n",
       "      <td>1528.81</td>\n",
       "      <td>349.69</td>\n",
       "      <td>20.4</td>\n",
       "      <td>2.090909</td>\n",
       "    </tr>\n",
       "    <tr>\n",
       "      <th>1</th>\n",
       "      <td>39.5</td>\n",
       "      <td>17.4</td>\n",
       "      <td>186.0</td>\n",
       "      <td>1560.25</td>\n",
       "      <td>302.76</td>\n",
       "      <td>22.1</td>\n",
       "      <td>2.270115</td>\n",
       "    </tr>\n",
       "    <tr>\n",
       "      <th>2</th>\n",
       "      <td>40.3</td>\n",
       "      <td>18.0</td>\n",
       "      <td>195.0</td>\n",
       "      <td>1624.09</td>\n",
       "      <td>324.00</td>\n",
       "      <td>22.3</td>\n",
       "      <td>2.238889</td>\n",
       "    </tr>\n",
       "    <tr>\n",
       "      <th>4</th>\n",
       "      <td>36.7</td>\n",
       "      <td>19.3</td>\n",
       "      <td>193.0</td>\n",
       "      <td>1346.89</td>\n",
       "      <td>372.49</td>\n",
       "      <td>17.4</td>\n",
       "      <td>1.901554</td>\n",
       "    </tr>\n",
       "    <tr>\n",
       "      <th>5</th>\n",
       "      <td>39.3</td>\n",
       "      <td>20.6</td>\n",
       "      <td>190.0</td>\n",
       "      <td>1544.49</td>\n",
       "      <td>424.36</td>\n",
       "      <td>18.7</td>\n",
       "      <td>1.907767</td>\n",
       "    </tr>\n",
       "    <tr>\n",
       "      <th>...</th>\n",
       "      <td>...</td>\n",
       "      <td>...</td>\n",
       "      <td>...</td>\n",
       "      <td>...</td>\n",
       "      <td>...</td>\n",
       "      <td>...</td>\n",
       "      <td>...</td>\n",
       "    </tr>\n",
       "    <tr>\n",
       "      <th>338</th>\n",
       "      <td>47.2</td>\n",
       "      <td>13.7</td>\n",
       "      <td>214.0</td>\n",
       "      <td>2227.84</td>\n",
       "      <td>187.69</td>\n",
       "      <td>33.5</td>\n",
       "      <td>3.445255</td>\n",
       "    </tr>\n",
       "    <tr>\n",
       "      <th>340</th>\n",
       "      <td>46.8</td>\n",
       "      <td>14.3</td>\n",
       "      <td>215.0</td>\n",
       "      <td>2190.24</td>\n",
       "      <td>204.49</td>\n",
       "      <td>32.5</td>\n",
       "      <td>3.272727</td>\n",
       "    </tr>\n",
       "    <tr>\n",
       "      <th>341</th>\n",
       "      <td>50.4</td>\n",
       "      <td>15.7</td>\n",
       "      <td>222.0</td>\n",
       "      <td>2540.16</td>\n",
       "      <td>246.49</td>\n",
       "      <td>34.7</td>\n",
       "      <td>3.210191</td>\n",
       "    </tr>\n",
       "    <tr>\n",
       "      <th>342</th>\n",
       "      <td>45.2</td>\n",
       "      <td>14.8</td>\n",
       "      <td>212.0</td>\n",
       "      <td>2043.04</td>\n",
       "      <td>219.04</td>\n",
       "      <td>30.4</td>\n",
       "      <td>3.054054</td>\n",
       "    </tr>\n",
       "    <tr>\n",
       "      <th>343</th>\n",
       "      <td>49.9</td>\n",
       "      <td>16.1</td>\n",
       "      <td>213.0</td>\n",
       "      <td>2490.01</td>\n",
       "      <td>259.21</td>\n",
       "      <td>33.8</td>\n",
       "      <td>3.099379</td>\n",
       "    </tr>\n",
       "  </tbody>\n",
       "</table>\n",
       "<p>342 rows × 7 columns</p>\n",
       "</div>"
      ],
      "text/plain": [
       "     culmen_length_mm  culmen_depth_mm  flipper_length_mm  culmen_length_mm^2  \\\n",
       "0                39.1             18.7              181.0             1528.81   \n",
       "1                39.5             17.4              186.0             1560.25   \n",
       "2                40.3             18.0              195.0             1624.09   \n",
       "4                36.7             19.3              193.0             1346.89   \n",
       "5                39.3             20.6              190.0             1544.49   \n",
       "..                ...              ...                ...                 ...   \n",
       "338              47.2             13.7              214.0             2227.84   \n",
       "340              46.8             14.3              215.0             2190.24   \n",
       "341              50.4             15.7              222.0             2540.16   \n",
       "342              45.2             14.8              212.0             2043.04   \n",
       "343              49.9             16.1              213.0             2490.01   \n",
       "\n",
       "     culmen_depth_mm^2  culmen_diff  culmen_ratio  \n",
       "0               349.69         20.4      2.090909  \n",
       "1               302.76         22.1      2.270115  \n",
       "2               324.00         22.3      2.238889  \n",
       "4               372.49         17.4      1.901554  \n",
       "5               424.36         18.7      1.907767  \n",
       "..                 ...          ...           ...  \n",
       "338             187.69         33.5      3.445255  \n",
       "340             204.49         32.5      3.272727  \n",
       "341             246.49         34.7      3.210191  \n",
       "342             219.04         30.4      3.054054  \n",
       "343             259.21         33.8      3.099379  \n",
       "\n",
       "[342 rows x 7 columns]"
      ]
     },
     "execution_count": 258,
     "metadata": {},
     "output_type": "execute_result"
    }
   ],
   "source": [
    "sfm = SelectFromModel(RandomForestClassifier(random_state=0, ))\n",
    "sfm.fit(X, y)\n",
    "sfm.set_output(transform='pandas')\n",
    "X_selected = sfm.transform(X)\n",
    "X_selected"
   ]
  },
  {
   "cell_type": "code",
   "execution_count": 254,
   "id": "ef7b03a7-ede2-4cdc-a902-70520b29014e",
   "metadata": {},
   "outputs": [
    {
     "data": {
      "text/plain": [
       "array([0.08924232, 0.07961904, 0.09933245, 0.0525517 , 0.08072858,\n",
       "       0.01467092, 0.10925035, 0.14543881, 0.24562145, 0.07424349,\n",
       "       0.00630753, 0.00299336, 0.        ])"
      ]
     },
     "execution_count": 254,
     "metadata": {},
     "output_type": "execute_result"
    }
   ],
   "source": [
    "# 重要度の結果\n",
    "sfm.estimator_.feature_importances_"
   ]
  },
  {
   "cell_type": "code",
   "execution_count": 256,
   "id": "c357b130-a86c-4657-9703-b059c01eca72",
   "metadata": {},
   "outputs": [
    {
     "data": {
      "text/plain": [
       "array(['culmen_length_mm', 'culmen_depth_mm', 'flipper_length_mm',\n",
       "       'culmen_length_mm^2', 'culmen_depth_mm^2', 'culmen_diff',\n",
       "       'culmen_ratio'], dtype=object)"
      ]
     },
     "execution_count": 256,
     "metadata": {},
     "output_type": "execute_result"
    }
   ],
   "source": [
    "sfm.feature_names_in_[sfm.get_support()]"
   ]
  },
  {
   "cell_type": "markdown",
   "id": "c6297568-c139-4a1d-a883-9f0deb9e0ab5",
   "metadata": {},
   "source": [
    "## L1正則化項で特徴量選択"
   ]
  },
  {
   "cell_type": "code",
   "execution_count": 283,
   "id": "2640bf11-00bd-4d06-9d28-9d0fc905fcb4",
   "metadata": {},
   "outputs": [],
   "source": [
    "# sfmにL1ノルムが設定できるモデルを組み込む\n",
    "# 自分で作成することもできるが、この方法を使う方が、簡単に作成できてpiplineも使える\n",
    "sfm = SelectFromModel(LogisticRegression(penalty='l1', solver='liblinear'))"
   ]
  },
  {
   "cell_type": "code",
   "execution_count": 281,
   "id": "5e8b7fc7-e008-4bef-a6d8-1170655ef6b0",
   "metadata": {},
   "outputs": [
    {
     "data": {
      "text/html": [
       "<div>\n",
       "<style scoped>\n",
       "    .dataframe tbody tr th:only-of-type {\n",
       "        vertical-align: middle;\n",
       "    }\n",
       "\n",
       "    .dataframe tbody tr th {\n",
       "        vertical-align: top;\n",
       "    }\n",
       "\n",
       "    .dataframe thead th {\n",
       "        text-align: right;\n",
       "    }\n",
       "</style>\n",
       "<table border=\"1\" class=\"dataframe\">\n",
       "  <thead>\n",
       "    <tr style=\"text-align: right;\">\n",
       "      <th></th>\n",
       "      <th>culmen_length_mm</th>\n",
       "      <th>culmen_depth_mm</th>\n",
       "      <th>flipper_length_mm</th>\n",
       "      <th>body_mass_g</th>\n",
       "      <th>culmen_length_mm * culmen_length_mm</th>\n",
       "      <th>culmen_depth_mm^2</th>\n",
       "      <th>culmen_diff</th>\n",
       "      <th>culmen_ratio</th>\n",
       "      <th>island_Dream</th>\n",
       "      <th>island_Torgersen</th>\n",
       "      <th>sex_MALE</th>\n",
       "    </tr>\n",
       "  </thead>\n",
       "  <tbody>\n",
       "    <tr>\n",
       "      <th>0</th>\n",
       "      <td>-0.884499</td>\n",
       "      <td>0.785449</td>\n",
       "      <td>-1.418347</td>\n",
       "      <td>-0.564142</td>\n",
       "      <td>-0.170197</td>\n",
       "      <td>0.768371</td>\n",
       "      <td>-1.024588</td>\n",
       "      <td>-1.036429</td>\n",
       "      <td>-0.754193</td>\n",
       "      <td>2.388699</td>\n",
       "      <td>1.017700</td>\n",
       "    </tr>\n",
       "    <tr>\n",
       "      <th>1</th>\n",
       "      <td>-0.811126</td>\n",
       "      <td>0.126188</td>\n",
       "      <td>-1.062250</td>\n",
       "      <td>-0.501703</td>\n",
       "      <td>-0.550838</td>\n",
       "      <td>0.070068</td>\n",
       "      <td>-0.751183</td>\n",
       "      <td>-0.675598</td>\n",
       "      <td>-0.754193</td>\n",
       "      <td>2.388699</td>\n",
       "      <td>-0.982607</td>\n",
       "    </tr>\n",
       "    <tr>\n",
       "      <th>2</th>\n",
       "      <td>-0.664380</td>\n",
       "      <td>0.430462</td>\n",
       "      <td>-0.421277</td>\n",
       "      <td>-1.188532</td>\n",
       "      <td>-0.220261</td>\n",
       "      <td>0.386112</td>\n",
       "      <td>-0.719018</td>\n",
       "      <td>-0.738471</td>\n",
       "      <td>-0.754193</td>\n",
       "      <td>2.388699</td>\n",
       "      <td>-0.982607</td>\n",
       "    </tr>\n",
       "    <tr>\n",
       "      <th>4</th>\n",
       "      <td>-1.324737</td>\n",
       "      <td>1.089724</td>\n",
       "      <td>-0.563715</td>\n",
       "      <td>-0.938776</td>\n",
       "      <td>-0.368543</td>\n",
       "      <td>1.107627</td>\n",
       "      <td>-1.507068</td>\n",
       "      <td>-1.417695</td>\n",
       "      <td>-0.754193</td>\n",
       "      <td>2.388699</td>\n",
       "      <td>-0.982607</td>\n",
       "    </tr>\n",
       "    <tr>\n",
       "      <th>5</th>\n",
       "      <td>-0.847812</td>\n",
       "      <td>1.748985</td>\n",
       "      <td>-0.777373</td>\n",
       "      <td>-0.689020</td>\n",
       "      <td>0.510134</td>\n",
       "      <td>1.879435</td>\n",
       "      <td>-1.297994</td>\n",
       "      <td>-1.405186</td>\n",
       "      <td>-0.754193</td>\n",
       "      <td>2.388699</td>\n",
       "      <td>1.017700</td>\n",
       "    </tr>\n",
       "    <tr>\n",
       "      <th>...</th>\n",
       "      <td>...</td>\n",
       "      <td>...</td>\n",
       "      <td>...</td>\n",
       "      <td>...</td>\n",
       "      <td>...</td>\n",
       "      <td>...</td>\n",
       "      <td>...</td>\n",
       "      <td>...</td>\n",
       "      <td>...</td>\n",
       "      <td>...</td>\n",
       "      <td>...</td>\n",
       "    </tr>\n",
       "    <tr>\n",
       "      <th>338</th>\n",
       "      <td>0.601305</td>\n",
       "      <td>-1.750171</td>\n",
       "      <td>0.931890</td>\n",
       "      <td>0.903175</td>\n",
       "      <td>-0.903628</td>\n",
       "      <td>-1.642135</td>\n",
       "      <td>1.082241</td>\n",
       "      <td>1.690550</td>\n",
       "      <td>-0.754193</td>\n",
       "      <td>-0.418638</td>\n",
       "      <td>-0.982607</td>\n",
       "    </tr>\n",
       "    <tr>\n",
       "      <th>340</th>\n",
       "      <td>0.527932</td>\n",
       "      <td>-1.445897</td>\n",
       "      <td>1.003109</td>\n",
       "      <td>0.809516</td>\n",
       "      <td>-0.707537</td>\n",
       "      <td>-1.392157</td>\n",
       "      <td>0.921415</td>\n",
       "      <td>1.343164</td>\n",
       "      <td>-0.754193</td>\n",
       "      <td>-0.418638</td>\n",
       "      <td>-0.982607</td>\n",
       "    </tr>\n",
       "    <tr>\n",
       "      <th>341</th>\n",
       "      <td>1.188289</td>\n",
       "      <td>-0.735923</td>\n",
       "      <td>1.501644</td>\n",
       "      <td>1.933419</td>\n",
       "      <td>0.351353</td>\n",
       "      <td>-0.767211</td>\n",
       "      <td>1.275233</td>\n",
       "      <td>1.217248</td>\n",
       "      <td>-0.754193</td>\n",
       "      <td>-0.418638</td>\n",
       "      <td>1.017700</td>\n",
       "    </tr>\n",
       "    <tr>\n",
       "      <th>342</th>\n",
       "      <td>0.234440</td>\n",
       "      <td>-1.192335</td>\n",
       "      <td>0.789451</td>\n",
       "      <td>1.246590</td>\n",
       "      <td>-0.709967</td>\n",
       "      <td>-1.175658</td>\n",
       "      <td>0.583679</td>\n",
       "      <td>0.902865</td>\n",
       "      <td>-0.754193</td>\n",
       "      <td>-0.418638</td>\n",
       "      <td>-0.982607</td>\n",
       "    </tr>\n",
       "    <tr>\n",
       "      <th>343</th>\n",
       "      <td>1.096572</td>\n",
       "      <td>-0.533073</td>\n",
       "      <td>0.860670</td>\n",
       "      <td>1.496346</td>\n",
       "      <td>0.456426</td>\n",
       "      <td>-0.577941</td>\n",
       "      <td>1.130489</td>\n",
       "      <td>0.994127</td>\n",
       "      <td>-0.754193</td>\n",
       "      <td>-0.418638</td>\n",
       "      <td>1.017700</td>\n",
       "    </tr>\n",
       "  </tbody>\n",
       "</table>\n",
       "<p>342 rows × 11 columns</p>\n",
       "</div>"
      ],
      "text/plain": [
       "     culmen_length_mm  culmen_depth_mm  flipper_length_mm  body_mass_g  \\\n",
       "0           -0.884499         0.785449          -1.418347    -0.564142   \n",
       "1           -0.811126         0.126188          -1.062250    -0.501703   \n",
       "2           -0.664380         0.430462          -0.421277    -1.188532   \n",
       "4           -1.324737         1.089724          -0.563715    -0.938776   \n",
       "5           -0.847812         1.748985          -0.777373    -0.689020   \n",
       "..                ...              ...                ...          ...   \n",
       "338          0.601305        -1.750171           0.931890     0.903175   \n",
       "340          0.527932        -1.445897           1.003109     0.809516   \n",
       "341          1.188289        -0.735923           1.501644     1.933419   \n",
       "342          0.234440        -1.192335           0.789451     1.246590   \n",
       "343          1.096572        -0.533073           0.860670     1.496346   \n",
       "\n",
       "     culmen_length_mm * culmen_length_mm  culmen_depth_mm^2  culmen_diff  \\\n",
       "0                              -0.170197           0.768371    -1.024588   \n",
       "1                              -0.550838           0.070068    -0.751183   \n",
       "2                              -0.220261           0.386112    -0.719018   \n",
       "4                              -0.368543           1.107627    -1.507068   \n",
       "5                               0.510134           1.879435    -1.297994   \n",
       "..                                   ...                ...          ...   \n",
       "338                            -0.903628          -1.642135     1.082241   \n",
       "340                            -0.707537          -1.392157     0.921415   \n",
       "341                             0.351353          -0.767211     1.275233   \n",
       "342                            -0.709967          -1.175658     0.583679   \n",
       "343                             0.456426          -0.577941     1.130489   \n",
       "\n",
       "     culmen_ratio  island_Dream  island_Torgersen  sex_MALE  \n",
       "0       -1.036429     -0.754193          2.388699  1.017700  \n",
       "1       -0.675598     -0.754193          2.388699 -0.982607  \n",
       "2       -0.738471     -0.754193          2.388699 -0.982607  \n",
       "4       -1.417695     -0.754193          2.388699 -0.982607  \n",
       "5       -1.405186     -0.754193          2.388699  1.017700  \n",
       "..            ...           ...               ...       ...  \n",
       "338      1.690550     -0.754193         -0.418638 -0.982607  \n",
       "340      1.343164     -0.754193         -0.418638 -0.982607  \n",
       "341      1.217248     -0.754193         -0.418638  1.017700  \n",
       "342      0.902865     -0.754193         -0.418638 -0.982607  \n",
       "343      0.994127     -0.754193         -0.418638  1.017700  \n",
       "\n",
       "[342 rows x 11 columns]"
      ]
     },
     "execution_count": 281,
     "metadata": {},
     "output_type": "execute_result"
    }
   ],
   "source": [
    "pipeline = Pipeline([('scaler', StandardScaler()), \n",
    "                    ('feature selection', sfm)])\n",
    "\n",
    "pipeline.set_output(transform='pandas')\n",
    "pipeline.fit_transform(X, y)"
   ]
  },
  {
   "cell_type": "code",
   "execution_count": 282,
   "id": "fb2625e3-10e2-4c99-889f-8549aadb06e2",
   "metadata": {},
   "outputs": [
    {
     "data": {
      "text/plain": [
       "array([[ 0.        ,  0.        , -0.16471467,  0.        ,  0.        ,\n",
       "         0.        ,  0.01637399, -6.83155071, -0.19960674, -0.34668202,\n",
       "         0.8920866 ,  1.17494055,  0.        ],\n",
       "       [ 4.21271482,  0.        ,  0.        , -2.37015805,  0.        ,\n",
       "         0.14776045,  0.        ,  0.        ,  0.        ,  2.66080323,\n",
       "         0.        , -0.75570219,  0.        ],\n",
       "       [ 0.        , -2.7677246 ,  1.68201918,  1.82121475,  0.        ,\n",
       "         0.        ,  0.        ,  0.        ,  0.52376917, -0.24724443,\n",
       "         0.        ,  0.        ,  0.        ]])"
      ]
     },
     "execution_count": 282,
     "metadata": {},
     "output_type": "execute_result"
    }
   ],
   "source": [
    "sfm.estimator_.coef_"
   ]
  },
  {
   "cell_type": "markdown",
   "id": "6149583a-e31b-4754-8cf6-9d48a5560595",
   "metadata": {},
   "source": [
    "# このセクションのまとめ"
   ]
  },
  {
   "cell_type": "markdown",
   "id": "8cfe98e7-4523-4720-bf10-39eb031ded92",
   "metadata": {},
   "source": [
    "・特徴エンジニアリングの後に特徴量の選択を行う  \n",
    "・特徴量が多いとvarianceが高くなったり、計算量が多くなったりする -> 重要な特徴量だけのこす  \n",
    "・greedy feature selection -> 精度が上がるか  \n",
    "・recursive feature elimination -> 重要度の低いものを減らしていく  \n",
    "・モデルの特徴量の係数や重要度をみて、閾値より高い特徴量を残す  \n",
    "　-> 線形回帰：t検定量  \n",
    "　-> 決定木:重要度  \n",
    "・L1正則化項  \n",
    "　-> 自動で特徴量を選択できる"
   ]
  },
  {
   "cell_type": "code",
   "execution_count": null,
   "id": "dc99ea5f-cf65-483a-8ac7-8012d2a0d423",
   "metadata": {},
   "outputs": [],
   "source": []
  },
  {
   "cell_type": "code",
   "execution_count": null,
   "id": "c478450e-d6ba-4e4c-b1d4-dd3cf4b826f3",
   "metadata": {},
   "outputs": [],
   "source": []
  },
  {
   "cell_type": "code",
   "execution_count": null,
   "id": "10e4b335-6a1a-4ed2-b700-11feba1fe6d6",
   "metadata": {},
   "outputs": [],
   "source": []
  },
  {
   "cell_type": "code",
   "execution_count": null,
   "id": "e860da26-1c0a-49ed-b86a-c0aacd1d3965",
   "metadata": {},
   "outputs": [],
   "source": []
  },
  {
   "cell_type": "code",
   "execution_count": null,
   "id": "a66d4c8e-ca57-427e-8499-3151f1cab016",
   "metadata": {},
   "outputs": [],
   "source": []
  },
  {
   "cell_type": "code",
   "execution_count": null,
   "id": "3f4c4a43-3b16-49b0-b69f-08c005b4e29e",
   "metadata": {},
   "outputs": [],
   "source": []
  },
  {
   "cell_type": "code",
   "execution_count": null,
   "id": "0902e830-75e6-496f-8d00-6a0fbf47000e",
   "metadata": {},
   "outputs": [],
   "source": []
  },
  {
   "cell_type": "code",
   "execution_count": null,
   "id": "5ac650d1-ec4d-4025-9201-f77300d9228e",
   "metadata": {},
   "outputs": [],
   "source": []
  },
  {
   "cell_type": "code",
   "execution_count": null,
   "id": "216f75b0-868c-4a1d-bc5e-8ff7da0bb106",
   "metadata": {},
   "outputs": [],
   "source": []
  },
  {
   "cell_type": "code",
   "execution_count": null,
   "id": "0de51d9f-9766-45f9-a1bc-71b66e1cef27",
   "metadata": {},
   "outputs": [],
   "source": []
  }
 ],
 "metadata": {
  "kernelspec": {
   "display_name": "Python 3 (ipykernel)",
   "language": "python",
   "name": "python3"
  },
  "language_info": {
   "codemirror_mode": {
    "name": "ipython",
    "version": 3
   },
   "file_extension": ".py",
   "mimetype": "text/x-python",
   "name": "python",
   "nbconvert_exporter": "python",
   "pygments_lexer": "ipython3",
   "version": "3.8.18"
  }
 },
 "nbformat": 4,
 "nbformat_minor": 5
}
