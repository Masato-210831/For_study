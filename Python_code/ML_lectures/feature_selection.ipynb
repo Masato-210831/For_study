{
 "cells": [
  {
   "cell_type": "markdown",
   "id": "b0ed9fed-7aa6-40b2-b025-2381c54f4535",
   "metadata": {},
   "source": [
    "## Greedy feature selection"
   ]
  },
  {
   "cell_type": "code",
   "execution_count": 48,
   "id": "2635cfca-532f-4313-99c2-edfc1fedcc32",
   "metadata": {},
   "outputs": [],
   "source": [
    "import numpy as np\n",
    "import pandas as pd\n",
    "from sklearn.impute import SimpleImputer\n",
    "from sklearn.base import BaseEstimator, TransformerMixin\n",
    "from sklearn.preprocessing import StandardScaler, PolynomialFeatures\n",
    "from sklearn.pipeline import Pipeline\n",
    "from sklearn.linear_model import LogisticRegression\n",
    "from sklearn.model_selection import KFold, cross_val_score"
   ]
  },
  {
   "cell_type": "code",
   "execution_count": 6,
   "id": "97903130-d468-4622-a8d7-b4448ab04ab2",
   "metadata": {},
   "outputs": [],
   "source": [
    "df = pd.read_csv('document/penguins_size.csv')\n",
    "df.loc[df[df['sex'] == '.'].index, 'sex'] = np.nan"
   ]
  },
  {
   "cell_type": "code",
   "execution_count": 7,
   "id": "cd476a9e-cd62-44d6-bcd8-c5444d97c42f",
   "metadata": {},
   "outputs": [],
   "source": [
    "# threshを指定することでその数以上の特徴量データを持っていないとドロップする\n",
    "df.dropna(thresh=3, inplace=True)"
   ]
  },
  {
   "cell_type": "code",
   "execution_count": 53,
   "id": "bdcee037-09e2-4813-a5d4-bea0a6ec1b36",
   "metadata": {},
   "outputs": [],
   "source": [
    "X = df.drop('species', axis=1)\n",
    "y = df['species']\n",
    "\n",
    "# 欠損値を新しいカテゴリ'NaN'に代入\n",
    "imputer = SimpleImputer(strategy='constant', fill_value='NaN')\n",
    "imputer.set_output(transform='pandas')\n",
    "X['sex'] = imputer.fit_transform(X[['sex']])\n",
    "\n",
    "\n",
    "# pipelineのためのダミー変数クラス\n",
    "class GetDummies(BaseEstimator, TransformerMixin):\n",
    "    def __init__(self):\n",
    "        self.X_columns = None\n",
    "    \n",
    "    def fit(self, X, y):\n",
    "        self.X_columns = pd.get_dummies(X).columns.to_list()\n",
    "        return self\n",
    "    \n",
    "    def transform(self, X):\n",
    "        X_dummies = pd.get_dummies(X)\n",
    "        return X_dummies.reindex(columns=self.X_columns, fill_value=0)\n",
    "    \n",
    "    \n",
    "# 特徴量エンジニアリング\n",
    "# 多項式特徴量\n",
    "poly = PolynomialFeatures(degree=2, include_bias=False)\n",
    "X[['culmen_length_mm', 'culmen_depth_mm', 'culmen_length_mm^2', 'culmen_length_mm * culmen_length_mm', 'culmen_depth_mm^2',]] = poly.fit_transform(X[['culmen_length_mm', 'culmen_depth_mm']])\n",
    "\n",
    "# 四則演算\n",
    "X['culmen_diff'] = X['culmen_length_mm'] - X['culmen_depth_mm']\n",
    "X['culmen_ratio'] = X['culmen_length_mm'] / X['culmen_depth_mm']\n",
    "\n",
    "\n",
    "# Pipeline\n",
    "pipeline =Pipeline(steps=[('dummy', GetDummies()),\n",
    "                          ('scaler', StandardScaler()),\n",
    "                          ('model', LogisticRegression())])\n",
    "\n",
    "\n",
    "# cv\n",
    "cv = KFold(n_splits=3, random_state=0, shuffle=True)\n",
    "\n",
    "\n"
   ]
  },
  {
   "cell_type": "code",
   "execution_count": 213,
   "id": "f3447341-b339-4e30-b57f-c1f10fa61488",
   "metadata": {},
   "outputs": [],
   "source": [
    "# Greedy feature selection\n",
    "# gfs = GreedyFeatureSElection(Piplene=pipline, cv=cv)\n",
    "# gfs.select_feature(X, y)\n",
    "# gfs.scores -> 各最高精度が見れる\n",
    "# gfs.selected_features -> 選択された特徴量が見れる\n",
    "\n",
    "\n",
    "class GreedyFeatureSelection:\n",
    "    def __init__(self, pipeline, cv):\n",
    "        self.pipeline = pipeline\n",
    "        self.cv = cv\n",
    "        self.scores = []\n",
    "        self.selected_features = []\n",
    "        \n",
    "    \n",
    "    def select_feature(self, X, y):\n",
    "        \n",
    "        while True:\n",
    "            # Xのカラム名リスト\n",
    "            X_cols = X.columns.to_list()\n",
    "            \n",
    "            # 最初にiterとそれ以降のiterで分岐\n",
    "            if len(self.scores) == 0:\n",
    "                selected_cols = X_cols\n",
    "            else:\n",
    "                # self.selected_featuresに入っていないカラムを抽出\n",
    "                selected_cols = [col for col in X_cols if col not in self.selected_features]\n",
    "\n",
    "            # 各カラムを使用した精度を格納\n",
    "            scores = {}\n",
    "            for col in selected_cols:\n",
    "                # 格納したカラム名との結合 -> list型\n",
    "                cols = [col] + self.selected_features\n",
    "                selected_col_X = X[cols]\n",
    "                score = cross_val_score(self.pipeline, selected_col_X, y, cv=self.cv, scoring='accuracy')\n",
    "                scores[col] = score.mean()\n",
    "\n",
    "            # 一番高い精度のcolを選出\n",
    "            best_col = max(scores,  key=scores.get)\n",
    "            best_score = scores[best_col]\n",
    "            self.selected_features.append(best_col)\n",
    "            self.scores.append(best_score)\n",
    "            \n",
    "            # bestscoreが向上していなかったらbreak\n",
    "            # 初回のiterは回避\n",
    "            if len(self.scores) > 1:\n",
    "                if best_score <= self.scores[-2]:\n",
    "                    self.selected_features.pop(-1)\n",
    "                    self.scores.pop(-1)\n",
    "                    break\n",
    "\n",
    "            \n",
    "\n",
    "    "
   ]
  },
  {
   "cell_type": "code",
   "execution_count": 214,
   "id": "75b88aa2-0951-4eae-a78f-a0441bd9c379",
   "metadata": {},
   "outputs": [],
   "source": [
    "gfs = GreedyFeatureSelection(pipeline=pipeline, cv=cv)\n",
    "gfs.select_feature(X, y)"
   ]
  },
  {
   "cell_type": "code",
   "execution_count": 215,
   "id": "589ba9df-e7a2-4e2b-8eca-5217386ccd3d",
   "metadata": {},
   "outputs": [
    {
     "data": {
      "text/plain": [
       "['culmen_ratio', 'island', 'culmen_diff', 'body_mass_g']"
      ]
     },
     "execution_count": 215,
     "metadata": {},
     "output_type": "execute_result"
    }
   ],
   "source": [
    "gfs.selected_features"
   ]
  },
  {
   "cell_type": "code",
   "execution_count": 216,
   "id": "32689579-3a97-422c-9c6e-cef30962e3a0",
   "metadata": {},
   "outputs": [
    {
     "data": {
      "text/plain": [
       "[0.9619883040935672, 0.9912280701754387, 0.9970760233918128, 1.0]"
      ]
     },
     "execution_count": 216,
     "metadata": {},
     "output_type": "execute_result"
    }
   ],
   "source": [
    "gfs.scores"
   ]
  },
  {
   "cell_type": "code",
   "execution_count": null,
   "id": "c8b2c997-192c-4bc6-bd59-f714e68dfab6",
   "metadata": {},
   "outputs": [],
   "source": []
  },
  {
   "cell_type": "code",
   "execution_count": null,
   "id": "c0655547-5f23-4435-b046-d25fa2ae85b6",
   "metadata": {},
   "outputs": [],
   "source": []
  },
  {
   "cell_type": "code",
   "execution_count": null,
   "id": "b93a3150-36f9-4e6b-aea6-282f4e9e5c51",
   "metadata": {},
   "outputs": [],
   "source": []
  },
  {
   "cell_type": "code",
   "execution_count": null,
   "id": "0de51d9f-9766-45f9-a1bc-71b66e1cef27",
   "metadata": {},
   "outputs": [],
   "source": []
  }
 ],
 "metadata": {
  "kernelspec": {
   "display_name": "Python 3 (ipykernel)",
   "language": "python",
   "name": "python3"
  },
  "language_info": {
   "codemirror_mode": {
    "name": "ipython",
    "version": 3
   },
   "file_extension": ".py",
   "mimetype": "text/x-python",
   "name": "python",
   "nbconvert_exporter": "python",
   "pygments_lexer": "ipython3",
   "version": "3.9.13"
  }
 },
 "nbformat": 4,
 "nbformat_minor": 5
}
