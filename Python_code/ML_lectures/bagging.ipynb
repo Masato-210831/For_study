{
 "cells": [
  {
   "cell_type": "markdown",
   "id": "81fc11df-0dc7-40aa-808e-9302f7054783",
   "metadata": {},
   "source": [
    "## Bagging"
   ]
  },
  {
   "cell_type": "code",
   "execution_count": 65,
   "id": "cb53bcca-7f6b-4476-8d9f-2372d176ed1c",
   "metadata": {},
   "outputs": [],
   "source": [
    "import seaborn as sns\n",
    "import pandas as pd\n",
    "import numpy as np\n",
    "from sklearn.model_selection import train_test_split\n",
    "from sklearn.ensemble import BaggingClassifier\n",
    "from sklearn.metrics import roc_auc_score"
   ]
  },
  {
   "cell_type": "code",
   "execution_count": 82,
   "id": "1be8c82b-a180-42b2-8bf6-bcf0faf76f66",
   "metadata": {},
   "outputs": [],
   "source": [
    "# データのロード\n",
    "df = sns.load_dataset('titanic')\n",
    "df.dropna(inplace=True)\n",
    "\n",
    "\n",
    "# x, yの準備\n",
    "X = df.loc[:, (df.columns != 'survived') & (df.columns != 'alive')]\n",
    "y = df['survived']\n",
    "\n",
    "\n",
    "# ラベルエンコーディング\n",
    "from sklearn.preprocessing import OrdinalEncoder\n",
    "oe = OrdinalEncoder()\n",
    "\n",
    "\n",
    "# defaultはnp.arrayで返るので、pdで返るようにする\n",
    "oe.set_output(transform='pandas')\n",
    "\n",
    "\n",
    "# カテゴリカルデータの選択 => label encoding\n",
    "cat_cols = X.select_dtypes(exclude=np.number).columns.to_numpy()\n",
    "X.loc[:, cat_cols] = oe.fit_transform(X[cat_cols])\n",
    "# X = oe.fit_transform(X)\n",
    "\n",
    "\n",
    "# hold-out\n",
    "X_train, X_test, y_train, y_test = train_test_split(X, y, test_size=0.3, random_state=0)"
   ]
  },
  {
   "cell_type": "code",
   "execution_count": 83,
   "id": "70733a91-cea5-4791-aef4-bc6f28ea997b",
   "metadata": {},
   "outputs": [],
   "source": [
    "# 学習\n",
    "clf = BaggingClassifier(random_state=0)\n",
    "clf.fit(X_train, y_train)\n",
    "y_pred = clf.predict_proba(X_test)"
   ]
  },
  {
   "cell_type": "code",
   "execution_count": 84,
   "id": "0c4d5ba0-51be-4030-85ed-da6e04963ced",
   "metadata": {},
   "outputs": [
    {
     "name": "stdout",
     "output_type": "stream",
     "text": [
      "bagging AUC:0.8846153846153846\n"
     ]
    }
   ],
   "source": [
    "# 評価\n",
    "print(f\"bagging AUC:{roc_auc_score(y_test,y_pred[:, 1])}\")"
   ]
  },
  {
   "cell_type": "markdown",
   "id": "edce712d-d4a5-42d2-a5b3-5f0f1b000d85",
   "metadata": {},
   "source": [
    "## 一本の決定木の精度確認"
   ]
  },
  {
   "cell_type": "code",
   "execution_count": 86,
   "id": "879b388d-c68d-491f-b106-3b8cdd82ff8a",
   "metadata": {},
   "outputs": [
    {
     "name": "stdout",
     "output_type": "stream",
     "text": [
      "sigle tree AUC:0.7596153846153846\n"
     ]
    }
   ],
   "source": [
    "# 単一の決定技の精度\n",
    "from sklearn.tree import DecisionTreeClassifier\n",
    "single_tree = DecisionTreeClassifier(random_state=0).fit(X_train, y_train)\n",
    "y_pred_tree = single_tree.predict_proba(X_test)\n",
    "\n",
    "print(f\"sigle tree AUC:{roc_auc_score(y_test,y_pred_tree[:, 1])}\")"
   ]
  },
  {
   "cell_type": "markdown",
   "id": "f40ac517-0d6b-4e89-a72b-594afad1072b",
   "metadata": {},
   "source": [
    "バギングで多数のモデルのアンサンブルの方が精度が良い！！"
   ]
  },
  {
   "cell_type": "code",
   "execution_count": null,
   "id": "7f0939e1-01d3-40db-b028-3d6e63e25a93",
   "metadata": {},
   "outputs": [],
   "source": []
  },
  {
   "cell_type": "code",
   "execution_count": null,
   "id": "d7986a34-a028-449e-8cab-288e67c89c0a",
   "metadata": {},
   "outputs": [],
   "source": []
  },
  {
   "cell_type": "code",
   "execution_count": null,
   "id": "83aa3e17-54ce-445e-b095-176635ee5748",
   "metadata": {},
   "outputs": [],
   "source": []
  },
  {
   "cell_type": "code",
   "execution_count": null,
   "id": "63c41f4c-c5ca-4233-b221-30485b7faf17",
   "metadata": {},
   "outputs": [],
   "source": []
  },
  {
   "cell_type": "code",
   "execution_count": null,
   "id": "e9e39cf4-b927-4f05-900f-e66a6511aaeb",
   "metadata": {},
   "outputs": [],
   "source": []
  },
  {
   "cell_type": "code",
   "execution_count": null,
   "id": "4eb322b3-b907-4f6c-b45d-b848bd074070",
   "metadata": {},
   "outputs": [],
   "source": []
  },
  {
   "cell_type": "code",
   "execution_count": null,
   "id": "6d1ffe9b-377d-42f4-ab95-e50b94ae916a",
   "metadata": {},
   "outputs": [],
   "source": []
  },
  {
   "cell_type": "code",
   "execution_count": null,
   "id": "7513b5dd-35d8-483c-93d8-42b36aa28bca",
   "metadata": {},
   "outputs": [],
   "source": []
  }
 ],
 "metadata": {
  "kernelspec": {
   "display_name": "Python 3 (ipykernel)",
   "language": "python",
   "name": "python3"
  },
  "language_info": {
   "codemirror_mode": {
    "name": "ipython",
    "version": 3
   },
   "file_extension": ".py",
   "mimetype": "text/x-python",
   "name": "python",
   "nbconvert_exporter": "python",
   "pygments_lexer": "ipython3",
   "version": "3.9.13"
  }
 },
 "nbformat": 4,
 "nbformat_minor": 5
}
