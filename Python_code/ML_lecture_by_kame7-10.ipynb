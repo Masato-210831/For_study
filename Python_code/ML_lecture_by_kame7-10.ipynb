{
 "cells": [
  {
   "cell_type": "markdown",
   "id": "32ca6c94-9c53-4d0a-b6f6-a2fc3ae456ba",
   "metadata": {},
   "source": [
    "## 汎化性能と過学習"
   ]
  },
  {
   "cell_type": "code",
   "execution_count": 2,
   "id": "3c48a4af-a091-447d-9b1f-8dec9386fe5e",
   "metadata": {},
   "outputs": [],
   "source": [
    "import seaborn as sns"
   ]
  },
  {
   "cell_type": "code",
   "execution_count": 3,
   "id": "f99e9364-d3f6-4ba9-9c4c-08eea19bda60",
   "metadata": {},
   "outputs": [],
   "source": [
    "df = sns.load_dataset('diamonds')\n",
    "df = df[(df[['x', 'y', 'z']] != 0).all(axis=1)]\n",
    "X = df['carat'].values.reshape(-1, 1)\n",
    "y = df['price'].values"
   ]
  },
  {
   "cell_type": "code",
   "execution_count": 4,
   "id": "359aad50-5722-4fee-9134-38f913d23a21",
   "metadata": {},
   "outputs": [],
   "source": [
    "#テストデータと学習データに分割する方法\n",
    "from sklearn.model_selection import train_test_split\n",
    "\n",
    "# shuffleは分割前にシャッフルするか？\n",
    "X_train, X_test, y_train, y_test = train_test_split(X, y, test_size=0.5, shuffle=True, random_state=0)"
   ]
  },
  {
   "cell_type": "code",
   "execution_count": 5,
   "id": "7015601a-a71e-4180-a9e2-b5f4bde2a9bf",
   "metadata": {},
   "outputs": [],
   "source": [
    "from sklearn.linear_model import LinearRegression\n",
    "model = LinearRegression()\n",
    "model.fit(X_train, y_train)\n",
    "y_pred = model.predict(X_test)"
   ]
  },
  {
   "cell_type": "code",
   "execution_count": null,
   "id": "5755c2ec-0bde-4489-a372-022de157dde9",
   "metadata": {},
   "outputs": [],
   "source": []
  },
  {
   "cell_type": "markdown",
   "id": "3c035ce6-8b21-4538-98a5-62fef0a599ac",
   "metadata": {},
   "source": [
    "## LOOCVについて"
   ]
  },
  {
   "cell_type": "code",
   "execution_count": 7,
   "id": "f646adbd-05bb-4637-8637-5fe2bbfaffe4",
   "metadata": {},
   "outputs": [],
   "source": [
    "import numpy as np\n",
    "\n",
    "df = sns.load_dataset('tips')\n",
    "X = df['total_bill'].values.reshape(-1, 1)\n",
    "y = df['tip'].values"
   ]
  },
  {
   "cell_type": "code",
   "execution_count": 9,
   "id": "04f1c04d-df7c-4234-82bc-2af9fe5c4d6e",
   "metadata": {},
   "outputs": [],
   "source": [
    "#LOOCVを使用\n",
    "from sklearn.model_selection import LeaveOneOut\n",
    "loo = LeaveOneOut()\n",
    "# for train_index, test_index in loo.split(X):\n",
    "#     print(\"train_index:\", train_index, \"test_index:\", test_index)"
   ]
  },
  {
   "cell_type": "code",
   "execution_count": 36,
   "id": "e9ddeb95-4026-441e-9fa5-916c0b780c87",
   "metadata": {},
   "outputs": [
    {
     "name": "stdout",
     "output_type": "stream",
     "text": [
      "MSE(LOOCV):1.0675673489857438\n",
      "std:2.099794455177631\n"
     ]
    }
   ],
   "source": [
    "mse_list = []\n",
    "for train_index, test_index in loo.split(X):\n",
    "    \n",
    "    #テストデータ１つとそれ以外の学習データに分ける\n",
    "    X_train, X_test = X[train_index], X[test_index]\n",
    "    y_train, y_test = y[train_index], y[test_index]\n",
    "    \n",
    "    #モデル作成\n",
    "    model.fit(X_train, y_train)\n",
    "    \n",
    "    #予測\n",
    "    y_pred = model.predict(X_test)\n",
    "    \n",
    "    #損失\n",
    "    mse = np.mean((y_pred - y_test)**2) #データ一つしかないのに平均を取る必要ある？ ndarray => numpy.floatに変わるぐらい？？　 => 汎用的なコードにしたいからとのこと\n",
    "     # mse = (y_pred - y_test)**2          \n",
    "    \n",
    "    mse_list.append(mse)\n",
    "\n",
    "print(f'MSE(LOOCV):{np.mean(mse_list)}')\n",
    "print(f'std:{np.std(mse_list)}')"
   ]
  },
  {
   "cell_type": "code",
   "execution_count": null,
   "id": "8a13198b-fc2a-4254-97ce-2b59972cb33e",
   "metadata": {},
   "outputs": [],
   "source": []
  },
  {
   "cell_type": "markdown",
   "id": "b50db057-1ff5-49ec-8bce-1a7893017b89",
   "metadata": {},
   "source": [
    "## k-Fold Cross Validation"
   ]
  },
  {
   "cell_type": "code",
   "execution_count": 53,
   "id": "1ba7cd05-2964-470e-b3f3-20bf4a4c5cf5",
   "metadata": {},
   "outputs": [],
   "source": [
    "from sklearn.model_selection import KFold\n",
    "cv = KFold(n_splits=5, random_state=0, shuffle=True)\n",
    "model = LinearRegression()\n",
    "# for train_index, test_index in cv.split(X):\n",
    "#     print(\"train_index:\", train_index, \"test_index:\", test_index)"
   ]
  },
  {
   "cell_type": "code",
   "execution_count": 56,
   "id": "6273eddc-9428-4ee6-b699-a33455481c30",
   "metadata": {},
   "outputs": [
    {
     "name": "stdout",
     "output_type": "stream",
     "text": [
      "MSE(5FoldCV): 1.080211088394392\n",
      "std: 0.16170100507039514\n"
     ]
    }
   ],
   "source": [
    "mse_list = []\n",
    "for train_index, test_index in cv.split(X):\n",
    "    X_tarin, X_test = X[train_index], X[test_index]\n",
    "    y_train, y_test = y[train_index], y[test_index]\n",
    "    model.fit(X_tarin, y_train)\n",
    "    y_pred = model.predict(X_test)\n",
    "    \n",
    "    mse = np.mean((y_test - y_pred)**2)\n",
    "    mse_list.append(mse)\n",
    "print(f\"MSE(5FoldCV): {np.mean(mse_list)}\")\n",
    "print(f\"std: {np.std(mse_list)}\")"
   ]
  },
  {
   "cell_type": "markdown",
   "id": "ec224adc-9720-4c0b-b79c-ae9b32d81aa7",
   "metadata": {},
   "source": [
    "## cross_val_scoreを使用した方法"
   ]
  },
  {
   "cell_type": "code",
   "execution_count": 57,
   "id": "053d0c54-6d84-4677-ae34-7bac055bbe0d",
   "metadata": {},
   "outputs": [],
   "source": [
    "from sklearn.model_selection import cross_val_score\n",
    "scores = cross_val_score(model, X, y, scoring='neg_mean_squared_error', cv=cv, n_jobs=1)"
   ]
  },
  {
   "cell_type": "code",
   "execution_count": 59,
   "id": "ab35dd57-282b-4df9-876d-d3b28368caec",
   "metadata": {},
   "outputs": [
    {
     "data": {
      "text/plain": [
       "-1.080211088394392"
      ]
     },
     "execution_count": 59,
     "metadata": {},
     "output_type": "execute_result"
    }
   ],
   "source": [
    "np.mean(scores)"
   ]
  },
  {
   "cell_type": "markdown",
   "id": "bbbda426-74a1-4dee-ab9a-aec9d285e118",
   "metadata": {},
   "source": [
    "## 回帰モデルの評価指標を一挙に解説"
   ]
  },
  {
   "cell_type": "code",
   "execution_count": 63,
   "id": "792c1971-c80c-46d8-bf1d-b5ed67ec57c8",
   "metadata": {},
   "outputs": [
    {
     "data": {
      "text/plain": [
       "0.8711845537539947"
      ]
     },
     "execution_count": 63,
     "metadata": {},
     "output_type": "execute_result"
    }
   ],
   "source": [
    "#MSE (Mean Squared Erorr)\n",
    "\n",
    "from sklearn.metrics import mean_squared_error\n",
    "\n",
    "df = sns.load_dataset('tips')\n",
    "X = df['total_bill'].values.reshape(-1, 1)\n",
    "y = df['tip'].values\n",
    "\n",
    "X_train, X_test, y_train, y_test = train_test_split(X, y, test_size=0.3, shuffle=True, random_state=0)\n",
    "\n",
    "model = LinearRegression()\n",
    "model.fit(X_train, y_train)\n",
    "\n",
    "y_pred = model.predict(X_test)\n",
    "\n",
    "mean_squared_error(y_pred, y_test)"
   ]
  },
  {
   "cell_type": "code",
   "execution_count": 64,
   "id": "f03e0717-c3e4-43d2-ad52-f041bce2ced3",
   "metadata": {},
   "outputs": [
    {
     "data": {
      "text/plain": [
       "0.933372676777071"
      ]
     },
     "execution_count": 64,
     "metadata": {},
     "output_type": "execute_result"
    }
   ],
   "source": [
    "# RMSE (Root Mean Squared Erorr)\n",
    "\n",
    "mean_squared_error(y_test, y_pred, squared=False)"
   ]
  },
  {
   "cell_type": "code",
   "execution_count": 65,
   "id": "adb57ced-47db-44de-8aad-e216748ab46d",
   "metadata": {},
   "outputs": [
    {
     "data": {
      "text/plain": [
       "0.6903119067790223"
      ]
     },
     "execution_count": 65,
     "metadata": {},
     "output_type": "execute_result"
    }
   ],
   "source": [
    "# MAE (Mean Absolute Erorr)\n",
    "from sklearn.metrics import mean_absolute_error\n",
    "mean_absolute_error(y_test, y_pred)"
   ]
  },
  {
   "cell_type": "code",
   "execution_count": 66,
   "id": "f935ae04-3b47-4f36-90f1-98eb08be179a",
   "metadata": {},
   "outputs": [
    {
     "data": {
      "text/plain": [
       "0.49515102188632776"
      ]
     },
     "execution_count": 66,
     "metadata": {},
     "output_type": "execute_result"
    }
   ],
   "source": [
    "#決定係数\n",
    "\n",
    "from sklearn.metrics import r2_score\n",
    "r2_score(y_test, y_pred)"
   ]
  },
  {
   "cell_type": "code",
   "execution_count": 71,
   "id": "52379348-b603-429d-98e5-e133fc528bb2",
   "metadata": {},
   "outputs": [
    {
     "data": {
      "text/plain": [
       "array([[1.        , 0.67573411],\n",
       "       [0.67573411, 1.        ]])"
      ]
     },
     "execution_count": 71,
     "metadata": {},
     "output_type": "execute_result"
    }
   ],
   "source": [
    "np.corrcoef(df['total_bill'].values, y)"
   ]
  },
  {
   "cell_type": "code",
   "execution_count": 74,
   "id": "91d3ce5d-1896-4d82-bc80-1c6bee915684",
   "metadata": {},
   "outputs": [
    {
     "data": {
      "text/plain": [
       "0.48813923052363783"
      ]
     },
     "execution_count": 74,
     "metadata": {},
     "output_type": "execute_result"
    }
   ],
   "source": [
    "#調整済み決定係数\n",
    "\n",
    "r2 = r2_score(y_test, y_pred)\n",
    "adj_r2 = 1-(1-r2)*(len(X_test)-1)/(len(X_test)- len(X_test[0])-1)\n",
    "adj_r2"
   ]
  },
  {
   "cell_type": "code",
   "execution_count": 75,
   "id": "3d21b4f9-4599-4d20-a2aa-abc94333e777",
   "metadata": {},
   "outputs": [
    {
     "name": "stdout",
     "output_type": "stream",
     "text": [
      "                            OLS Regression Results                            \n",
      "==============================================================================\n",
      "Dep. Variable:                      y   R-squared:                       0.457\n",
      "Model:                            OLS   Adj. R-squared:                  0.454\n",
      "Method:                 Least Squares   F-statistic:                     203.4\n",
      "Date:                Tue, 17 Oct 2023   Prob (F-statistic):           6.69e-34\n",
      "Time:                        12:05:53   Log-Likelihood:                -350.54\n",
      "No. Observations:                 244   AIC:                             705.1\n",
      "Df Residuals:                     242   BIC:                             712.1\n",
      "Df Model:                           1                                         \n",
      "Covariance Type:            nonrobust                                         \n",
      "==============================================================================\n",
      "                 coef    std err          t      P>|t|      [0.025      0.975]\n",
      "------------------------------------------------------------------------------\n",
      "const          0.9203      0.160      5.761      0.000       0.606       1.235\n",
      "x1             0.1050      0.007     14.260      0.000       0.091       0.120\n",
      "==============================================================================\n",
      "Omnibus:                       20.185   Durbin-Watson:                   2.151\n",
      "Prob(Omnibus):                  0.000   Jarque-Bera (JB):               37.750\n",
      "Skew:                           0.443   Prob(JB):                     6.35e-09\n",
      "Kurtosis:                       4.711   Cond. No.                         53.0\n",
      "==============================================================================\n",
      "\n",
      "Notes:\n",
      "[1] Standard Errors assume that the covariance matrix of the errors is correctly specified.\n"
     ]
    }
   ],
   "source": [
    "import statsmodels.api as sma\n",
    "\n",
    "#学習データでOLS\n",
    "X2 = sma.add_constant(X)\n",
    "est = sma.OLS(y, X2)\n",
    "est_trainded = est.fit()\n",
    "print(est_trainded.summary())"
   ]
  },
  {
   "cell_type": "code",
   "execution_count": null,
   "id": "500c47e5-1ce5-404b-b73d-1b2ec08305b7",
   "metadata": {},
   "outputs": [],
   "source": []
  },
  {
   "cell_type": "code",
   "execution_count": null,
   "id": "6beeaf63-effa-4309-95dc-701b9e57491b",
   "metadata": {},
   "outputs": [],
   "source": []
  },
  {
   "cell_type": "code",
   "execution_count": null,
   "id": "9526d6a5-eaa5-495f-9fca-75a70eb83734",
   "metadata": {},
   "outputs": [],
   "source": []
  },
  {
   "cell_type": "code",
   "execution_count": null,
   "id": "98ecd3ab-939f-455f-93ba-c3e2da383cd7",
   "metadata": {},
   "outputs": [],
   "source": []
  },
  {
   "cell_type": "code",
   "execution_count": null,
   "id": "cae832c3-3410-424f-a872-6b770de32f37",
   "metadata": {},
   "outputs": [],
   "source": []
  },
  {
   "cell_type": "code",
   "execution_count": null,
   "id": "f64d5083-fe81-4da1-bf3c-0ae7ca41ba74",
   "metadata": {},
   "outputs": [],
   "source": []
  },
  {
   "cell_type": "code",
   "execution_count": null,
   "id": "5d4c3c82-756d-4d6e-80e9-53df469f79dd",
   "metadata": {},
   "outputs": [],
   "source": []
  },
  {
   "cell_type": "code",
   "execution_count": null,
   "id": "b70ba18a-cf10-46fe-ba6e-efae39960f3c",
   "metadata": {},
   "outputs": [],
   "source": []
  },
  {
   "cell_type": "code",
   "execution_count": null,
   "id": "7e1b85d0-40ee-4763-afa7-b5647687c94f",
   "metadata": {},
   "outputs": [],
   "source": []
  },
  {
   "cell_type": "code",
   "execution_count": null,
   "id": "24798ab3-0ca2-42a0-8961-8e5e01c9bc73",
   "metadata": {},
   "outputs": [],
   "source": []
  },
  {
   "cell_type": "code",
   "execution_count": null,
   "id": "3de73396-b6e7-4a81-89d7-04c0c0785477",
   "metadata": {},
   "outputs": [],
   "source": []
  },
  {
   "cell_type": "code",
   "execution_count": null,
   "id": "4bd7d8eb-811f-4973-9927-1677ca77466b",
   "metadata": {},
   "outputs": [],
   "source": []
  },
  {
   "cell_type": "code",
   "execution_count": null,
   "id": "81095b6b-3566-41cf-ab86-ec6342ce4969",
   "metadata": {},
   "outputs": [],
   "source": []
  },
  {
   "cell_type": "code",
   "execution_count": null,
   "id": "db5db9ad-9a41-48a2-b98e-9e9d43871a96",
   "metadata": {},
   "outputs": [],
   "source": []
  },
  {
   "cell_type": "code",
   "execution_count": null,
   "id": "66994530-9c01-46cf-84fa-5307f811b072",
   "metadata": {},
   "outputs": [],
   "source": []
  },
  {
   "cell_type": "code",
   "execution_count": null,
   "id": "11945de9-5c7c-4c05-9c09-590d9c91e2ac",
   "metadata": {},
   "outputs": [],
   "source": []
  },
  {
   "cell_type": "code",
   "execution_count": null,
   "id": "a2146094-9080-4315-be6a-e43aff3cd163",
   "metadata": {},
   "outputs": [],
   "source": []
  },
  {
   "cell_type": "code",
   "execution_count": null,
   "id": "02f0df37-c6eb-440b-9688-403977404aa5",
   "metadata": {},
   "outputs": [],
   "source": []
  },
  {
   "cell_type": "code",
   "execution_count": null,
   "id": "e9c8dcb4-f546-4a95-a954-6b134d653b9a",
   "metadata": {},
   "outputs": [],
   "source": []
  },
  {
   "cell_type": "code",
   "execution_count": null,
   "id": "4ab82b3f-45ea-420a-b45b-8e33233a9013",
   "metadata": {},
   "outputs": [],
   "source": []
  },
  {
   "cell_type": "code",
   "execution_count": null,
   "id": "e3e7c679-34dd-4f1a-ad02-7643f58e7268",
   "metadata": {},
   "outputs": [],
   "source": []
  },
  {
   "cell_type": "code",
   "execution_count": null,
   "id": "7b672bf2-6242-4a28-ba03-a7bdea479359",
   "metadata": {},
   "outputs": [],
   "source": []
  },
  {
   "cell_type": "code",
   "execution_count": null,
   "id": "43884ed9-f082-454d-81c2-e014768eac8c",
   "metadata": {},
   "outputs": [],
   "source": []
  },
  {
   "cell_type": "code",
   "execution_count": null,
   "id": "0247cf3e-5491-4be0-aca6-2deaf10a9411",
   "metadata": {},
   "outputs": [],
   "source": []
  },
  {
   "cell_type": "code",
   "execution_count": null,
   "id": "b2c9dea0-85e1-4108-95b6-fe098be1fadd",
   "metadata": {},
   "outputs": [],
   "source": []
  },
  {
   "cell_type": "code",
   "execution_count": null,
   "id": "309b167a-3d59-4b98-8f4f-606b0dc8d5e4",
   "metadata": {},
   "outputs": [],
   "source": []
  },
  {
   "cell_type": "code",
   "execution_count": null,
   "id": "b0a184a2-f7ef-4c64-a30b-c5b1fc04a970",
   "metadata": {},
   "outputs": [],
   "source": []
  }
 ],
 "metadata": {
  "kernelspec": {
   "display_name": "Python 3 (ipykernel)",
   "language": "python",
   "name": "python3"
  },
  "language_info": {
   "codemirror_mode": {
    "name": "ipython",
    "version": 3
   },
   "file_extension": ".py",
   "mimetype": "text/x-python",
   "name": "python",
   "nbconvert_exporter": "python",
   "pygments_lexer": "ipython3",
   "version": "3.9.13"
  }
 },
 "nbformat": 4,
 "nbformat_minor": 5
}
