{
 "cells": [
  {
   "cell_type": "code",
   "execution_count": 4,
   "id": "4108f2ec-2153-4a43-a7ae-2cff07952f41",
   "metadata": {},
   "outputs": [
    {
     "data": {
      "text/plain": [
       "True"
      ]
     },
     "execution_count": 4,
     "metadata": {},
     "output_type": "execute_result"
    }
   ],
   "source": [
    "import os\n",
    "from dotenv import load_dotenv\n",
    "\n",
    "load_dotenv()"
   ]
  },
  {
   "cell_type": "code",
   "execution_count": 2,
   "id": "7b15e227-211d-4086-86e8-ad6b078c2834",
   "metadata": {},
   "outputs": [],
   "source": [
    "import operator\n",
    "from typing import Annotated\n",
    "\n",
    "from langchain_core.pydantic_v1 import BaseModel, Field"
   ]
  },
  {
   "cell_type": "code",
   "execution_count": 26,
   "id": "60688787-7aac-4561-b7e4-20f7dbfeb209",
   "metadata": {},
   "outputs": [],
   "source": [
    "# ロール\n",
    "ROLES = {\n",
    "    \"1\": {\n",
    "        \"name\": \"一般知識エキスパート\",\n",
    "        \"description\": \"幅広い分野の一般的な質問に答える\",\n",
    "        \"details\": \"幅広い分野の一般的な質問に対して、正確で分かりやすい回答を提供してください。\"\n",
    "    },\n",
    "    \"2\": {\n",
    "        \"name\": \"生成AI製品エキスパート\",\n",
    "        \"description\": \"生成AIや関連製品、技術に関する専門的な質問に答える\",\n",
    "        \"details\": \"生成AIや関連製品、技術に関する専門的な質問に対して、最新の情報と深い洞察を提供してください。\"\n",
    "    },\n",
    "    \"3\": {\n",
    "        \"name\": \"カウンセラー\",\n",
    "        \"description\": \"個人的な悩みや心理的な問題に対してサポートを提供する\",\n",
    "        \"details\": \"個人的な悩みや心理的な問題に対して、共感的で支援的な回答を提供し、可能であれば適切なアドバイスも行ってください。\"\n",
    "    }\n",
    "}"
   ]
  },
  {
   "cell_type": "code",
   "execution_count": 63,
   "id": "16471465-e8de-46f8-8f25-cad718b3473c",
   "metadata": {},
   "outputs": [],
   "source": [
    "# state\n",
    "\n",
    "class State(BaseModel):\n",
    "    query: str = Field(..., description=\"ユーザーからの質問\")\n",
    "    current_role: str = Field(\n",
    "        default=\"\", description=\"選定された回答ロール\"\n",
    "    )\n",
    "    messages: Annotated[list[str], operator.add] = Field(default=[], description=\"回答履歴\")\n",
    "    current_judge: bool = Field(\n",
    "        default=False, description=\"品質チェックの結果\"\n",
    "    )\n",
    "    judgement_reason: str = Field(\n",
    "        default=\"\", description=\"品質チェックの判定理由\"\n",
    "    )"
   ]
  },
  {
   "cell_type": "code",
   "execution_count": null,
   "id": "668b8f29-6942-477a-9b2d-c0f9ed875fa1",
   "metadata": {},
   "outputs": [],
   "source": []
  },
  {
   "cell_type": "code",
   "execution_count": 64,
   "id": "bc7d2552-5c76-4b9b-b144-67d781f813ff",
   "metadata": {},
   "outputs": [],
   "source": [
    "# llm\n",
    "\n",
    "from langchain_openai import ChatOpenAI\n",
    "from langchain_core.runnables import ConfigurableField\n",
    "\n",
    "\n",
    "llm = ChatOpenAI(model=\"gpt-4o\", temperature=0.0)\n",
    "\n",
    "# Maxtokenは後から変更可能にするためのフィールドを宣言\n",
    "llm = llm.configurable_fields(max_tokens=ConfigurableField(id='max_tokens'))"
   ]
  },
  {
   "cell_type": "markdown",
   "id": "08dd62ce-3cf9-43ab-839e-5efd3c0795ea",
   "metadata": {},
   "source": [
    "### nodeの作成"
   ]
  },
  {
   "cell_type": "code",
   "execution_count": 65,
   "id": "fe663186-3799-4165-80a2-c0bf6647a26b",
   "metadata": {},
   "outputs": [],
   "source": [
    "# selection\n",
    "\n",
    "from typing import Any\n",
    "\n",
    "from langchain_core.prompts import ChatPromptTemplate\n",
    "from langchain_core.output_parsers import StrOutputParser\n",
    "\n",
    "def selection_node(state:State) -> dict[str, Any]:\n",
    "    query = state.query\n",
    "    role_options = \"\\n\".join( f\"{k}.{v['name']}: {v['description']}\" for k, v in ROLES.items())\n",
    "    prompt = ChatPromptTemplate.from_template(\n",
    "        \"\"\"質問を分析し、最も適切な回答担当ロールを選択してください。\n",
    "\n",
    "        選択技:\n",
    "        {role_options}\n",
    "\n",
    "        回答は選択技の（1, 2, または3）のみ返してください。\n",
    "\n",
    "        質問: {query}\n",
    "        \n",
    "        \"\"\".strip()\n",
    "    )\n",
    "\n",
    "    # 選択肢の番号のみを返すことにしたいので、max_tokensを1にする\n",
    "    chain = prompt | llm.with_config(configurable=dict(max_tokens=1)) | StrOutputParser()\n",
    "    role_number = chain.invoke({\"role_options\": role_options, \"query\": query})\n",
    "\n",
    "    selected_role = ROLES[role_number.strip()]['name']\n",
    "    return {\"current_role\": selected_role}\n",
    "    "
   ]
  },
  {
   "cell_type": "code",
   "execution_count": 66,
   "id": "9d551bb9-9a60-46b1-86b3-368bdf4b79f2",
   "metadata": {},
   "outputs": [],
   "source": [
    "# answering\n",
    "\n",
    "def answering_node(state: State) -> dict[str, Any]:\n",
    "    query = state.query\n",
    "    role = state.current_role\n",
    "    role_details = \"\\n\".join([f\"- {v['name']}: {v['details']}\" for v in ROLES.values()])\n",
    "    prompt = ChatPromptTemplate.from_template(\n",
    "\"\"\"あなたは{role}として回答してください。以下の質問に対して、あなたの役割に基づいた適切な回答を提供してください。\n",
    "\n",
    "役割の詳細:\n",
    "{role_details}\n",
    "\n",
    "質問: {query}\n",
    "\n",
    "回答:\"\"\".strip()\n",
    "    )\n",
    "    chain = prompt | llm | StrOutputParser()\n",
    "    answer = chain.invoke({\"role\": role, \"role_details\": role_details, \"query\": query})\n",
    "    return {\"messages\": [answer]} "
   ]
  },
  {
   "cell_type": "code",
   "execution_count": 67,
   "id": "d62b7027-9a75-4336-bafa-89c3587f366c",
   "metadata": {},
   "outputs": [],
   "source": [
    "# chack\n",
    "\n",
    "class Judgement(BaseModel):\n",
    "    reason: str = Field(default=\"\", description=\"判定理由\")\n",
    "    judge: bool = Field(default=False, description=\"判定結果\")\n",
    "\n",
    "def check_node(state: State) -> dict[str, Any]:\n",
    "    query = state.query\n",
    "    answer = state.messages[-1]\n",
    "    prompt = ChatPromptTemplate.from_template(\n",
    "\"\"\"以下の回答の品質をチェックし、問題がある場合は'False'、問題がない場合は'True'を回答してください。\n",
    "また、その判断理由も説明してください。\n",
    "\n",
    "ユーザーからの質問: {query}\n",
    "回答: {answer}\n",
    "\"\"\".strip()\n",
    "    )\n",
    "    chain = prompt | llm.with_structured_output(Judgement)\n",
    "    result: Judgement = chain.invoke({\"query\": query, \"answer\": answer})\n",
    "\n",
    "    return {\n",
    "        \"current_judge\": result.judge,\n",
    "        \"judgement_reason\": result.reason\n",
    "    }"
   ]
  },
  {
   "cell_type": "code",
   "execution_count": 68,
   "id": "499fdcb9-a6b9-464b-942d-65e1237384d5",
   "metadata": {},
   "outputs": [],
   "source": [
    "# グラフのインスタンス化\n",
    "workflow = StateGraph(State)"
   ]
  },
  {
   "cell_type": "code",
   "execution_count": 69,
   "id": "3cffc4e7-ad70-4507-83ce-d9af8388c9c0",
   "metadata": {},
   "outputs": [
    {
     "data": {
      "text/plain": [
       "<langgraph.graph.state.StateGraph at 0xffff800420c0>"
      ]
     },
     "execution_count": 69,
     "metadata": {},
     "output_type": "execute_result"
    }
   ],
   "source": [
    "# nodeの追加\n",
    "workflow.add_node(\"selection\", selection_node)\n",
    "workflow.add_node(\"answering\", answering_node)\n",
    "workflow.add_node(\"check\", check_node)"
   ]
  },
  {
   "cell_type": "code",
   "execution_count": 70,
   "id": "1365437d-2b10-4cbd-a704-50c55b6f6d54",
   "metadata": {},
   "outputs": [
    {
     "data": {
      "text/plain": [
       "<langgraph.graph.state.StateGraph at 0xffff800420c0>"
      ]
     },
     "execution_count": 70,
     "metadata": {},
     "output_type": "execute_result"
    }
   ],
   "source": [
    "# edge\n",
    "# selectionノードから処理を開始\n",
    "workflow.set_entry_point(\"selection\")"
   ]
  },
  {
   "cell_type": "code",
   "execution_count": 71,
   "id": "9b2f29ca-b363-4dc2-930a-ecfd25c933f4",
   "metadata": {},
   "outputs": [
    {
     "data": {
      "text/plain": [
       "<langgraph.graph.state.StateGraph at 0xffff800420c0>"
      ]
     },
     "execution_count": 71,
     "metadata": {},
     "output_type": "execute_result"
    }
   ],
   "source": [
    "# selectionノードからansweringノードへ\n",
    "workflow.add_edge(\"selection\", \"answering\")\n",
    "# answeringノードからcheckノードへ\n",
    "workflow.add_edge(\"answering\", \"check\")"
   ]
  },
  {
   "cell_type": "code",
   "execution_count": 72,
   "id": "695982d6-9c24-477b-94b4-c7843bd67999",
   "metadata": {},
   "outputs": [
    {
     "data": {
      "text/plain": [
       "<langgraph.graph.state.StateGraph at 0xffff800420c0>"
      ]
     },
     "execution_count": 72,
     "metadata": {},
     "output_type": "execute_result"
    }
   ],
   "source": [
    "from langgraph.graph import END\n",
    "\n",
    "workflow.add_conditional_edges(\n",
    "    \"check\",\n",
    "    lambda state: state.current_judge,\n",
    "    {True: END, False: \"selection\"}\n",
    ")\n"
   ]
  },
  {
   "cell_type": "code",
   "execution_count": 73,
   "id": "6cde1353-ef96-4dec-bac2-105011c55997",
   "metadata": {},
   "outputs": [],
   "source": [
    "compiled = workflow.compile()"
   ]
  },
  {
   "cell_type": "code",
   "execution_count": 74,
   "id": "8e33ba13-1a55-4a52-94ce-031e8281b153",
   "metadata": {},
   "outputs": [],
   "source": [
    "# 引数には初期ステートを渡す必要がある。\n",
    "inital_state = State(query=\"生成AIについて教えてください。\")\n",
    "\n",
    "result = compiled.invoke(inital_state)"
   ]
  },
  {
   "cell_type": "code",
   "execution_count": 39,
   "id": "37cf9ba3-76ce-48b3-ba68-c34d896e7e31",
   "metadata": {},
   "outputs": [
    {
     "data": {
      "text/plain": [
       "{'query': '生成AIについて教えてください。',\n",
       " 'current_role': '生成AI製品エキスパート',\n",
       " 'messages': ['生成AI製品エキスパートとしてお答えします。\\n\\n生成AI（生成的人工知能）は、データから新しいコンテンツを生成する能力を持つAI技術の一分野です。これには、テキスト、画像、音声、音楽など、さまざまな形式のコンテンツが含まれます。生成AIの代表的な技術には、以下のようなものがあります。\\n\\n1. **GPT（Generative Pre-trained Transformer）**: これは、自然言語処理に特化したモデルで、テキストの生成や翻訳、要約などに利用されます。OpenAIのGPTシリーズが有名です。\\n\\n2. **GAN（Generative Adversarial Networks）**: これは、2つのニューラルネットワークが競い合うことで、リアルなデータを生成する技術です。画像生成や映像の合成に多く使われています。\\n\\n3. **VAE（Variational Autoencoders）**: これは、データの潜在的な特徴を学習し、新しいデータを生成するためのモデルです。主に画像生成に利用されます。\\n\\n生成AIは、クリエイティブな分野での応用が進んでおり、アートや音楽の制作、広告やマーケティングコンテンツの自動生成、さらにはゲーム開発など、多岐にわたる分野で活用されています。また、医療や教育などの分野でも、データのシミュレーションやパーソナライズされたコンテンツの提供に役立っています。\\n\\n生成AIの進化により、より自然で人間らしいコンテンツの生成が可能になりつつありますが、倫理的な課題やデータの偏りといった問題も存在します。これらの課題に対処しながら、生成AIの可能性を最大限に引き出すことが求められています。'],\n",
       " 'current_judge': True,\n",
       " 'judgement_reason': '回答は生成AIについての基本的な情報を網羅しており、具体的な技術例（GPT、GAN、VAE）を挙げて説明しています。また、生成AIの応用分野や課題についても触れており、全体的にバランスの取れた内容です。特に誤った情報や不適切な表現は見当たりません。'}"
      ]
     },
     "execution_count": 39,
     "metadata": {},
     "output_type": "execute_result"
    }
   ],
   "source": [
    "result"
   ]
  },
  {
   "cell_type": "code",
   "execution_count": 40,
   "id": "2d1d7bb8-7458-4a54-a3d1-e6f428aa2ed7",
   "metadata": {},
   "outputs": [
    {
     "name": "stdout",
     "output_type": "stream",
     "text": [
      "生成AI製品エキスパートとしてお答えします。\n",
      "\n",
      "生成AI（生成的人工知能）は、データから新しいコンテンツを生成する能力を持つAI技術の一分野です。これには、テキスト、画像、音声、音楽など、さまざまな形式のコンテンツが含まれます。生成AIの代表的な技術には、以下のようなものがあります。\n",
      "\n",
      "1. **GPT（Generative Pre-trained Transformer）**: これは、自然言語処理に特化したモデルで、テキストの生成や翻訳、要約などに利用されます。OpenAIのGPTシリーズが有名です。\n",
      "\n",
      "2. **GAN（Generative Adversarial Networks）**: これは、2つのニューラルネットワークが競い合うことで、リアルなデータを生成する技術です。画像生成や映像の合成に多く使われています。\n",
      "\n",
      "3. **VAE（Variational Autoencoders）**: これは、データの潜在的な特徴を学習し、新しいデータを生成するためのモデルです。主に画像生成に利用されます。\n",
      "\n",
      "生成AIは、クリエイティブな分野での応用が進んでおり、アートや音楽の制作、広告やマーケティングコンテンツの自動生成、さらにはゲーム開発など、多岐にわたる分野で活用されています。また、医療や教育などの分野でも、データのシミュレーションやパーソナライズされたコンテンツの提供に役立っています。\n",
      "\n",
      "生成AIの進化により、より自然で人間らしいコンテンツの生成が可能になりつつありますが、倫理的な課題やデータの偏りといった問題も存在します。これらの課題に対処しながら、生成AIの可能性を最大限に引き出すことが求められています。\n"
     ]
    }
   ],
   "source": [
    "print(result[\"messages\"][-1])"
   ]
  },
  {
   "cell_type": "code",
   "execution_count": 49,
   "id": "0a7d0592-97fa-469b-b1d7-c4e0024a0692",
   "metadata": {},
   "outputs": [
    {
     "data": {
      "image/png": "[encoded data removed]",
      "text/plain": [
       "<IPython.core.display.Image object>"
      ]
     },
     "execution_count": 49,
     "metadata": {},
     "output_type": "execute_result"
    }
   ],
   "source": [
    "# 作成したグラフの描画\n",
    "from IPython.display import Image\n",
    "\n",
    "Image(compiled.get_graph().draw_png())"
   ]
  },
  {
   "cell_type": "code",
   "execution_count": 50,
   "id": "75615907-3c1e-47b8-8a10-8aeb1962ebcb",
   "metadata": {},
   "outputs": [
    {
     "data": {
      "image/png": "[encoded data removed]",
      "text/plain": [
       "<IPython.core.display.Image object>"
      ]
     },
     "execution_count": 50,
     "metadata": {},
     "output_type": "execute_result"
    }
   ],
   "source": [
    "Image(compiled.get_graph().draw_mermaid_png())"
   ]
  },
  {
   "cell_type": "markdown",
   "id": "fe50ec8b-ea09-47e9-8928-b466ac53c572",
   "metadata": {},
   "source": [
    "## checkpoint"
   ]
  },
  {
   "cell_type": "code",
   "execution_count": 94,
   "id": "c433b7b9-0137-494d-85ea-7d23bd350ea5",
   "metadata": {},
   "outputs": [],
   "source": [
    "import operator\n",
    "from typing import Any, Annotated\n",
    "from langchain_core.messages import SystemMessage, HumanMessage, BaseMessage\n",
    "from langchain_openai import ChatOpenAI\n",
    "from pydantic import BaseModel, Field\n",
    "\n",
    "# state\n",
    "class State(BaseModel):\n",
    "    query: str\n",
    "    messages: Annotated[list[BaseModel], operator.add] = Field(default=[])\n",
    "\n",
    "def add_message(state: State) -> dict[str, Any]:\n",
    "    additional_messages = []\n",
    "    if not state.messages:\n",
    "        additional_messages.append(\n",
    "            SystemMessage(content=\"あなたは最小限の応答をする対話エージェントです。\")\n",
    "        )\n",
    "    additional_messages.append(HumanMessage(content=state.query))\n",
    "    return {\"messages\": additional_messages}\n",
    "\n",
    "def llm_response(state: State) -> dict[str, Any]:\n",
    "    llm = ChatOpenAI(model=\"gpt-4o-mini\", temperature=0.5)\n",
    "    ai_message = llm.invoke(state.messages)\n",
    "    return {\"messages\": [ai_message]}"
   ]
  },
  {
   "cell_type": "code",
   "execution_count": 95,
   "id": "3a9f4e32-27ac-4c04-9429-76b74d918d88",
   "metadata": {},
   "outputs": [],
   "source": [
    "# checkpoint\n",
    "\n",
    "from pprint import pprint\n",
    "from langchain_core.runnables import RunnableConfig\n",
    "from langgraph.checkpoint.base import BaseCheckpointSaver\n",
    "\n",
    "def print_checkpoint_dump(ckeckpointer: BaseCheckpointSaver, config: RunnableConfig):\n",
    "    checkpoint_tuple = checkpointer.get_tuple(config)\n",
    "\n",
    "    print('チェックポイントデータ')\n",
    "    pprint(checkpoint_tuple.checkpoint)\n",
    "    print('\\nメタデータ:')\n",
    "    pprint(checkpoint_tuple.metadata)"
   ]
  },
  {
   "cell_type": "code",
   "execution_count": 96,
   "id": "abc40e95-4a23-4262-adef-0c9440593a3e",
   "metadata": {},
   "outputs": [],
   "source": [
    "# グラフの作成、コンパイル\n",
    "from langgraph.graph import StateGraph, END\n",
    "from langgraph.checkpoint.memory import MemorySaver\n",
    "\n",
    "graph = StateGraph(State)\n",
    "graph.add_node(\"add_message\", add_message)\n",
    "graph.add_node(\"llm_response\", llm_response)\n",
    "\n",
    "graph.set_entry_point(\"add_message\")\n",
    "graph.add_edge(\"add_message\", \"llm_response\")\n",
    "graph.add_edge(\"llm_response\", END)\n",
    "\n",
    "\n",
    "checkpointer = MemorySaver()\n",
    "\n",
    "\n",
    "compiled_graph = graph.compile(checkpointer=checkpointer)"
   ]
  },
  {
   "cell_type": "code",
   "execution_count": 97,
   "id": "9bd2af34-2c21-488d-82a8-82bbc10653db",
   "metadata": {},
   "outputs": [],
   "source": [
    "config = {\"configurable\": {\"thread_id\": \"example-1\"}}\n",
    "\n",
    "user_query = State(query=\"私の好きなものはずんだもちです。覚えておいてね。\")\n",
    "first_respose = compiled_graph.invoke(user_query, config)"
   ]
  },
  {
   "cell_type": "code",
   "execution_count": 98,
   "id": "6d523a82-10e1-4818-ab50-c3fe651a322d",
   "metadata": {},
   "outputs": [
    {
     "data": {
      "text/plain": [
       "{'query': '私の好きなものはずんだもちです。覚えておいてね。',\n",
       " 'messages': [SystemMessage(content='あなたは最小限の応答をする対話エージェントです。', additional_kwargs={}, response_metadata={}),\n",
       "  HumanMessage(content='私の好きなものはずんだもちです。覚えておいてね。', additional_kwargs={}, response_metadata={}),\n",
       "  AIMessage(content='ずんだもち、覚えました！', additional_kwargs={'refusal': None}, response_metadata={'token_usage': {'completion_tokens': 10, 'prompt_tokens': 47, 'total_tokens': 57, 'completion_tokens_details': {'accepted_prediction_tokens': 0, 'audio_tokens': 0, 'reasoning_tokens': 0, 'rejected_prediction_tokens': 0}, 'prompt_tokens_details': {'audio_tokens': 0, 'cached_tokens': 0}}, 'model_name': 'gpt-4o-mini-2024-07-18', 'system_fingerprint': 'fp_d02d531b47', 'finish_reason': 'stop', 'logprobs': None}, id='run-e2bbde1b-2c34-4444-9518-f2c43a3648af-0', usage_metadata={'input_tokens': 47, 'output_tokens': 10, 'total_tokens': 57, 'input_token_details': {'audio': 0, 'cache_read': 0}, 'output_token_details': {'audio': 0, 'reasoning': 0}})]}"
      ]
     },
     "execution_count": 98,
     "metadata": {},
     "output_type": "execute_result"
    }
   ],
   "source": [
    "first_respose"
   ]
  },
  {
   "cell_type": "code",
   "execution_count": 101,
   "id": "878b51c8-89ea-4f28-a3cf-4006e639a66b",
   "metadata": {},
   "outputs": [
    {
     "name": "stdout",
     "output_type": "stream",
     "text": [
      "CheckpointTuple(config={'configurable': {'thread_id': 'example-1', 'checkpoint_ns': '', 'checkpoint_id': '1efc7235-ec64-632c-8002-7a52a93769bc'}}, checkpoint={'v': 1, 'ts': '2024-12-31T03:00:19.960884+00:00', 'id': '1efc7235-ec64-632c-8002-7a52a93769bc', 'channel_values': {'query': '私の好きなものはずんだもちです。覚えておいてね。', 'messages': [SystemMessage(content='あなたは最小限の応答をする対話エージェントです。', additional_kwargs={}, response_metadata={}), HumanMessage(content='私の好きなものはずんだもちです。覚えておいてね。', additional_kwargs={}, response_metadata={}), AIMessage(content='ずんだもち、覚えました！', additional_kwargs={'refusal': None}, response_metadata={'token_usage': {'completion_tokens': 10, 'prompt_tokens': 47, 'total_tokens': 57, 'completion_tokens_details': {'accepted_prediction_tokens': 0, 'audio_tokens': 0, 'reasoning_tokens': 0, 'rejected_prediction_tokens': 0}, 'prompt_tokens_details': {'audio_tokens': 0, 'cached_tokens': 0}}, 'model_name': 'gpt-4o-mini-2024-07-18', 'system_fingerprint': 'fp_d02d531b47', 'finish_reason': 'stop', 'logprobs': None}, id='run-e2bbde1b-2c34-4444-9518-f2c43a3648af-0', usage_metadata={'input_tokens': 47, 'output_tokens': 10, 'total_tokens': 57, 'input_token_details': {'audio': 0, 'cache_read': 0}, 'output_token_details': {'audio': 0, 'reasoning': 0}})], 'llm_response': 'llm_response'}, 'channel_versions': {'__start__': '00000000000000000000000000000002.0.083306738181262', 'query': '00000000000000000000000000000002.0.8843698508662333', 'messages': '00000000000000000000000000000004.0.2834019541450449', 'start:add_message': '00000000000000000000000000000003.0.14797872626421193', 'add_message': '00000000000000000000000000000004.0.4778552636606076', 'llm_response': '00000000000000000000000000000004.0.7791431317632498'}, 'versions_seen': {'__input__': {}, '__start__': {'__start__': '00000000000000000000000000000001.0.6114191104078212'}, 'add_message': {'start:add_message': '00000000000000000000000000000002.0.8053346166398331'}, 'llm_response': {'add_message': '00000000000000000000000000000003.0.042202050183268724'}}, 'pending_sends': []}, metadata={'source': 'loop', 'writes': {'llm_response': {'messages': [AIMessage(content='ずんだもち、覚えました！', additional_kwargs={'refusal': None}, response_metadata={'token_usage': {'completion_tokens': 10, 'prompt_tokens': 47, 'total_tokens': 57, 'completion_tokens_details': {'accepted_prediction_tokens': 0, 'audio_tokens': 0, 'reasoning_tokens': 0, 'rejected_prediction_tokens': 0}, 'prompt_tokens_details': {'audio_tokens': 0, 'cached_tokens': 0}}, 'model_name': 'gpt-4o-mini-2024-07-18', 'system_fingerprint': 'fp_d02d531b47', 'finish_reason': 'stop', 'logprobs': None}, id='run-e2bbde1b-2c34-4444-9518-f2c43a3648af-0', usage_metadata={'input_tokens': 47, 'output_tokens': 10, 'total_tokens': 57, 'input_token_details': {'audio': 0, 'cache_read': 0}, 'output_token_details': {'audio': 0, 'reasoning': 0}})]}}, 'thread_id': 'example-1', 'step': 2, 'parents': {}}, parent_config={'configurable': {'thread_id': 'example-1', 'checkpoint_ns': '', 'checkpoint_id': '1efc7235-e0b3-6bf0-8001-b607043a196c'}}, pending_writes=[])\n",
      "CheckpointTuple(config={'configurable': {'thread_id': 'example-1', 'checkpoint_ns': '', 'checkpoint_id': '1efc7235-e0b3-6bf0-8001-b607043a196c'}}, checkpoint={'v': 1, 'ts': '2024-12-31T03:00:18.735190+00:00', 'id': '1efc7235-e0b3-6bf0-8001-b607043a196c', 'channel_values': {'query': '私の好きなものはずんだもちです。覚えておいてね。', 'messages': [SystemMessage(content='あなたは最小限の応答をする対話エージェントです。', additional_kwargs={}, response_metadata={}), HumanMessage(content='私の好きなものはずんだもちです。覚えておいてね。', additional_kwargs={}, response_metadata={})], 'add_message': 'add_message'}, 'channel_versions': {'__start__': '00000000000000000000000000000002.0.083306738181262', 'query': '00000000000000000000000000000002.0.8843698508662333', 'messages': '00000000000000000000000000000003.0.6247490573455072', 'start:add_message': '00000000000000000000000000000003.0.14797872626421193', 'add_message': '00000000000000000000000000000003.0.042202050183268724'}, 'versions_seen': {'__input__': {}, '__start__': {'__start__': '00000000000000000000000000000001.0.6114191104078212'}, 'add_message': {'start:add_message': '00000000000000000000000000000002.0.8053346166398331'}}, 'pending_sends': []}, metadata={'source': 'loop', 'writes': {'add_message': {'messages': [SystemMessage(content='あなたは最小限の応答をする対話エージェントです。', additional_kwargs={}, response_metadata={}), HumanMessage(content='私の好きなものはずんだもちです。覚えておいてね。', additional_kwargs={}, response_metadata={})]}}, 'thread_id': 'example-1', 'step': 1, 'parents': {}}, parent_config={'configurable': {'thread_id': 'example-1', 'checkpoint_ns': '', 'checkpoint_id': '1efc7235-e0ad-6f66-8000-92875719a6f2'}}, pending_writes=[('7ea49864-41d5-614c-e1c2-e0b2bb083a33', 'messages', [AIMessage(content='ずんだもち、覚えました！', additional_kwargs={'refusal': None}, response_metadata={'token_usage': {'completion_tokens': 10, 'prompt_tokens': 47, 'total_tokens': 57, 'completion_tokens_details': {'accepted_prediction_tokens': 0, 'audio_tokens': 0, 'reasoning_tokens': 0, 'rejected_prediction_tokens': 0}, 'prompt_tokens_details': {'audio_tokens': 0, 'cached_tokens': 0}}, 'model_name': 'gpt-4o-mini-2024-07-18', 'system_fingerprint': 'fp_d02d531b47', 'finish_reason': 'stop', 'logprobs': None}, id='run-e2bbde1b-2c34-4444-9518-f2c43a3648af-0', usage_metadata={'input_tokens': 47, 'output_tokens': 10, 'total_tokens': 57, 'input_token_details': {'audio': 0, 'cache_read': 0}, 'output_token_details': {'audio': 0, 'reasoning': 0}})]), ('7ea49864-41d5-614c-e1c2-e0b2bb083a33', 'llm_response', 'llm_response')])\n",
      "CheckpointTuple(config={'configurable': {'thread_id': 'example-1', 'checkpoint_ns': '', 'checkpoint_id': '1efc7235-e0ad-6f66-8000-92875719a6f2'}}, checkpoint={'v': 1, 'ts': '2024-12-31T03:00:18.732820+00:00', 'id': '1efc7235-e0ad-6f66-8000-92875719a6f2', 'channel_values': {'query': '私の好きなものはずんだもちです。覚えておいてね。', 'messages': [], 'start:add_message': '__start__'}, 'channel_versions': {'__start__': '00000000000000000000000000000002.0.083306738181262', 'query': '00000000000000000000000000000002.0.8843698508662333', 'messages': '00000000000000000000000000000002.0.4393150000957514', 'start:add_message': '00000000000000000000000000000002.0.8053346166398331'}, 'versions_seen': {'__input__': {}, '__start__': {'__start__': '00000000000000000000000000000001.0.6114191104078212'}}, 'pending_sends': []}, metadata={'source': 'loop', 'writes': None, 'thread_id': 'example-1', 'step': 0, 'parents': {}}, parent_config={'configurable': {'thread_id': 'example-1', 'checkpoint_ns': '', 'checkpoint_id': '1efc7235-e0a3-6578-bfff-3e4c652bc600'}}, pending_writes=[('3c203521-251b-c8e4-1170-4788cd800d3f', 'messages', [SystemMessage(content='あなたは最小限の応答をする対話エージェントです。', additional_kwargs={}, response_metadata={}), HumanMessage(content='私の好きなものはずんだもちです。覚えておいてね。', additional_kwargs={}, response_metadata={})]), ('3c203521-251b-c8e4-1170-4788cd800d3f', 'add_message', 'add_message')])\n",
      "CheckpointTuple(config={'configurable': {'thread_id': 'example-1', 'checkpoint_ns': '', 'checkpoint_id': '1efc7235-e0a3-6578-bfff-3e4c652bc600'}}, checkpoint={'v': 1, 'ts': '2024-12-31T03:00:18.728474+00:00', 'id': '1efc7235-e0a3-6578-bfff-3e4c652bc600', 'channel_values': {'__start__': State(query='私の好きなものはずんだもちです。覚えておいてね。', messages=[])}, 'channel_versions': {'__start__': '00000000000000000000000000000001.0.6114191104078212'}, 'versions_seen': {'__input__': {}}, 'pending_sends': []}, metadata={'source': 'input', 'writes': {'__start__': State(query='私の好きなものはずんだもちです。覚えておいてね。', messages=[])}, 'thread_id': 'example-1', 'step': -1, 'parents': {}}, parent_config=None, pending_writes=[('2b3f291d-0d44-4814-9554-825e9eaf53b7', 'query', '私の好きなものはずんだもちです。覚えておいてね。'), ('2b3f291d-0d44-4814-9554-825e9eaf53b7', 'messages', []), ('2b3f291d-0d44-4814-9554-825e9eaf53b7', 'start:add_message', '__start__')])\n"
     ]
    }
   ],
   "source": [
    "for checkpoint in checkpointer.list(config):\n",
    "    print(checkpoint)"
   ]
  },
  {
   "cell_type": "code",
   "execution_count": 102,
   "id": "f2232d71-6872-48f4-9a0e-b34fb9e484cf",
   "metadata": {},
   "outputs": [
    {
     "name": "stdout",
     "output_type": "stream",
     "text": [
      "チェックポイントデータ\n",
      "{'channel_values': {'llm_response': 'llm_response',\n",
      "                    'messages': [SystemMessage(content='あなたは最小限の応答をする対話エージェントです。', additional_kwargs={}, response_metadata={}),\n",
      "                                 HumanMessage(content='私の好きなものはずんだもちです。覚えておいてね。', additional_kwargs={}, response_metadata={}),\n",
      "                                 AIMessage(content='ずんだもち、覚えました！', additional_kwargs={'refusal': None}, response_metadata={'token_usage': {'completion_tokens': 10, 'prompt_tokens': 47, 'total_tokens': 57, 'completion_tokens_details': {'accepted_prediction_tokens': 0, 'audio_tokens': 0, 'reasoning_tokens': 0, 'rejected_prediction_tokens': 0}, 'prompt_tokens_details': {'audio_tokens': 0, 'cached_tokens': 0}}, 'model_name': 'gpt-4o-mini-2024-07-18', 'system_fingerprint': 'fp_d02d531b47', 'finish_reason': 'stop', 'logprobs': None}, id='run-e2bbde1b-2c34-4444-9518-f2c43a3648af-0', usage_metadata={'input_tokens': 47, 'output_tokens': 10, 'total_tokens': 57, 'input_token_details': {'audio': 0, 'cache_read': 0}, 'output_token_details': {'audio': 0, 'reasoning': 0}})],\n",
      "                    'query': '私の好きなものはずんだもちです。覚えておいてね。'},\n",
      " 'channel_versions': {'__start__': '00000000000000000000000000000002.0.083306738181262',\n",
      "                      'add_message': '00000000000000000000000000000004.0.4778552636606076',\n",
      "                      'llm_response': '00000000000000000000000000000004.0.7791431317632498',\n",
      "                      'messages': '00000000000000000000000000000004.0.2834019541450449',\n",
      "                      'query': '00000000000000000000000000000002.0.8843698508662333',\n",
      "                      'start:add_message': '00000000000000000000000000000003.0.14797872626421193'},\n",
      " 'id': '1efc7235-ec64-632c-8002-7a52a93769bc',\n",
      " 'pending_sends': [],\n",
      " 'ts': '2024-12-31T03:00:19.960884+00:00',\n",
      " 'v': 1,\n",
      " 'versions_seen': {'__input__': {},\n",
      "                   '__start__': {'__start__': '00000000000000000000000000000001.0.6114191104078212'},\n",
      "                   'add_message': {'start:add_message': '00000000000000000000000000000002.0.8053346166398331'},\n",
      "                   'llm_response': {'add_message': '00000000000000000000000000000003.0.042202050183268724'}}}\n",
      "\n",
      "メタデータ:\n",
      "{'parents': {},\n",
      " 'source': 'loop',\n",
      " 'step': 2,\n",
      " 'thread_id': 'example-1',\n",
      " 'writes': {'llm_response': {'messages': [AIMessage(content='ずんだもち、覚えました！', additional_kwargs={'refusal': None}, response_metadata={'token_usage': {'completion_tokens': 10, 'prompt_tokens': 47, 'total_tokens': 57, 'completion_tokens_details': {'accepted_prediction_tokens': 0, 'audio_tokens': 0, 'reasoning_tokens': 0, 'rejected_prediction_tokens': 0}, 'prompt_tokens_details': {'audio_tokens': 0, 'cached_tokens': 0}}, 'model_name': 'gpt-4o-mini-2024-07-18', 'system_fingerprint': 'fp_d02d531b47', 'finish_reason': 'stop', 'logprobs': None}, id='run-e2bbde1b-2c34-4444-9518-f2c43a3648af-0', usage_metadata={'input_tokens': 47, 'output_tokens': 10, 'total_tokens': 57, 'input_token_details': {'audio': 0, 'cache_read': 0}, 'output_token_details': {'audio': 0, 'reasoning': 0}})]}}}\n"
     ]
    }
   ],
   "source": [
    "print_checkpoint_dump(checkpointer, config)"
   ]
  },
  {
   "cell_type": "code",
   "execution_count": 103,
   "id": "3ef3ba2f-6858-43d5-9ec3-f0a3bd8e8a55",
   "metadata": {},
   "outputs": [
    {
     "data": {
      "text/plain": [
       "{'query': '私の好物は何か覚えてる？',\n",
       " 'messages': [SystemMessage(content='あなたは最小限の応答をする対話エージェントです。', additional_kwargs={}, response_metadata={}),\n",
       "  HumanMessage(content='私の好きなものはずんだもちです。覚えておいてね。', additional_kwargs={}, response_metadata={}),\n",
       "  AIMessage(content='ずんだもち、覚えました！', additional_kwargs={'refusal': None}, response_metadata={'token_usage': {'completion_tokens': 10, 'prompt_tokens': 47, 'total_tokens': 57, 'completion_tokens_details': {'accepted_prediction_tokens': 0, 'audio_tokens': 0, 'reasoning_tokens': 0, 'rejected_prediction_tokens': 0}, 'prompt_tokens_details': {'audio_tokens': 0, 'cached_tokens': 0}}, 'model_name': 'gpt-4o-mini-2024-07-18', 'system_fingerprint': 'fp_d02d531b47', 'finish_reason': 'stop', 'logprobs': None}, id='run-e2bbde1b-2c34-4444-9518-f2c43a3648af-0', usage_metadata={'input_tokens': 47, 'output_tokens': 10, 'total_tokens': 57, 'input_token_details': {'audio': 0, 'cache_read': 0}, 'output_token_details': {'audio': 0, 'reasoning': 0}}),\n",
       "  HumanMessage(content='私の好物は何か覚えてる？', additional_kwargs={}, response_metadata={}),\n",
       "  AIMessage(content='はい、ずんだもちですね。', additional_kwargs={'refusal': None}, response_metadata={'token_usage': {'completion_tokens': 9, 'prompt_tokens': 75, 'total_tokens': 84, 'completion_tokens_details': {'accepted_prediction_tokens': 0, 'audio_tokens': 0, 'reasoning_tokens': 0, 'rejected_prediction_tokens': 0}, 'prompt_tokens_details': {'audio_tokens': 0, 'cached_tokens': 0}}, 'model_name': 'gpt-4o-mini-2024-07-18', 'system_fingerprint': 'fp_0aa8d3e20b', 'finish_reason': 'stop', 'logprobs': None}, id='run-52a34459-da27-42d1-af8a-64dec6eb9f66-0', usage_metadata={'input_tokens': 75, 'output_tokens': 9, 'total_tokens': 84, 'input_token_details': {'audio': 0, 'cache_read': 0}, 'output_token_details': {'audio': 0, 'reasoning': 0}})]}"
      ]
     },
     "execution_count": 103,
     "metadata": {},
     "output_type": "execute_result"
    }
   ],
   "source": [
    "user_query = State(query=\"私の好物は何か覚えてる？\")\n",
    "second_response = compiled_graph.invoke(user_query, config)\n",
    "second_response"
   ]
  },
  {
   "cell_type": "code",
   "execution_count": 104,
   "id": "696df8a5-d13d-491e-bb46-7fcdbdde86fb",
   "metadata": {},
   "outputs": [
    {
     "name": "stdout",
     "output_type": "stream",
     "text": [
      "CheckpointTuple(config={'configurable': {'thread_id': 'example-1', 'checkpoint_ns': '', 'checkpoint_id': '1efc724e-a99f-68f2-8006-9c173a1a46f6'}}, checkpoint={'v': 1, 'ts': '2024-12-31T03:11:24.048378+00:00', 'id': '1efc724e-a99f-68f2-8006-9c173a1a46f6', 'channel_values': {'query': '私の好物は何か覚えてる？', 'messages': [SystemMessage(content='あなたは最小限の応答をする対話エージェントです。', additional_kwargs={}, response_metadata={}), HumanMessage(content='私の好きなものはずんだもちです。覚えておいてね。', additional_kwargs={}, response_metadata={}), AIMessage(content='ずんだもち、覚えました！', additional_kwargs={'refusal': None}, response_metadata={'token_usage': {'completion_tokens': 10, 'prompt_tokens': 47, 'total_tokens': 57, 'completion_tokens_details': {'accepted_prediction_tokens': 0, 'audio_tokens': 0, 'reasoning_tokens': 0, 'rejected_prediction_tokens': 0}, 'prompt_tokens_details': {'audio_tokens': 0, 'cached_tokens': 0}}, 'model_name': 'gpt-4o-mini-2024-07-18', 'system_fingerprint': 'fp_d02d531b47', 'finish_reason': 'stop', 'logprobs': None}, id='run-e2bbde1b-2c34-4444-9518-f2c43a3648af-0', usage_metadata={'input_tokens': 47, 'output_tokens': 10, 'total_tokens': 57, 'input_token_details': {'audio': 0, 'cache_read': 0}, 'output_token_details': {'audio': 0, 'reasoning': 0}}), HumanMessage(content='私の好物は何か覚えてる？', additional_kwargs={}, response_metadata={}), AIMessage(content='はい、ずんだもちですね。', additional_kwargs={'refusal': None}, response_metadata={'token_usage': {'completion_tokens': 9, 'prompt_tokens': 75, 'total_tokens': 84, 'completion_tokens_details': {'accepted_prediction_tokens': 0, 'audio_tokens': 0, 'reasoning_tokens': 0, 'rejected_prediction_tokens': 0}, 'prompt_tokens_details': {'audio_tokens': 0, 'cached_tokens': 0}}, 'model_name': 'gpt-4o-mini-2024-07-18', 'system_fingerprint': 'fp_0aa8d3e20b', 'finish_reason': 'stop', 'logprobs': None}, id='run-52a34459-da27-42d1-af8a-64dec6eb9f66-0', usage_metadata={'input_tokens': 75, 'output_tokens': 9, 'total_tokens': 84, 'input_token_details': {'audio': 0, 'cache_read': 0}, 'output_token_details': {'audio': 0, 'reasoning': 0}})], 'llm_response': 'llm_response'}, 'channel_versions': {'__start__': '00000000000000000000000000000006.0.26423542628452235', 'query': '00000000000000000000000000000006.0.7644819731201579', 'messages': '00000000000000000000000000000008.0.501334865510631', 'start:add_message': '00000000000000000000000000000007.0.9482434341680376', 'add_message': '00000000000000000000000000000008.0.04580952475552902', 'llm_response': '00000000000000000000000000000008.0.937276429506085'}, 'versions_seen': {'__input__': {}, '__start__': {'__start__': '00000000000000000000000000000005.0.4207061129889449'}, 'add_message': {'start:add_message': '00000000000000000000000000000006.0.07061041807002011'}, 'llm_response': {'add_message': '00000000000000000000000000000007.0.24955096914570263'}}, 'pending_sends': []}, metadata={'source': 'loop', 'writes': {'llm_response': {'messages': [AIMessage(content='はい、ずんだもちですね。', additional_kwargs={'refusal': None}, response_metadata={'token_usage': {'completion_tokens': 9, 'prompt_tokens': 75, 'total_tokens': 84, 'completion_tokens_details': {'accepted_prediction_tokens': 0, 'audio_tokens': 0, 'reasoning_tokens': 0, 'rejected_prediction_tokens': 0}, 'prompt_tokens_details': {'audio_tokens': 0, 'cached_tokens': 0}}, 'model_name': 'gpt-4o-mini-2024-07-18', 'system_fingerprint': 'fp_0aa8d3e20b', 'finish_reason': 'stop', 'logprobs': None}, id='run-52a34459-da27-42d1-af8a-64dec6eb9f66-0', usage_metadata={'input_tokens': 75, 'output_tokens': 9, 'total_tokens': 84, 'input_token_details': {'audio': 0, 'cache_read': 0}, 'output_token_details': {'audio': 0, 'reasoning': 0}})]}}, 'thread_id': 'example-1', 'step': 6, 'parents': {}}, parent_config={'configurable': {'thread_id': 'example-1', 'checkpoint_ns': '', 'checkpoint_id': '1efc724e-a239-6ee7-8005-81b63dfd0b42'}}, pending_writes=[])\n",
      "CheckpointTuple(config={'configurable': {'thread_id': 'example-1', 'checkpoint_ns': '', 'checkpoint_id': '1efc724e-a239-6ee7-8005-81b63dfd0b42'}}, checkpoint={'v': 1, 'ts': '2024-12-31T03:11:23.272762+00:00', 'id': '1efc724e-a239-6ee7-8005-81b63dfd0b42', 'channel_values': {'query': '私の好物は何か覚えてる？', 'messages': [SystemMessage(content='あなたは最小限の応答をする対話エージェントです。', additional_kwargs={}, response_metadata={}), HumanMessage(content='私の好きなものはずんだもちです。覚えておいてね。', additional_kwargs={}, response_metadata={}), AIMessage(content='ずんだもち、覚えました！', additional_kwargs={'refusal': None}, response_metadata={'token_usage': {'completion_tokens': 10, 'prompt_tokens': 47, 'total_tokens': 57, 'completion_tokens_details': {'accepted_prediction_tokens': 0, 'audio_tokens': 0, 'reasoning_tokens': 0, 'rejected_prediction_tokens': 0}, 'prompt_tokens_details': {'audio_tokens': 0, 'cached_tokens': 0}}, 'model_name': 'gpt-4o-mini-2024-07-18', 'system_fingerprint': 'fp_d02d531b47', 'finish_reason': 'stop', 'logprobs': None}, id='run-e2bbde1b-2c34-4444-9518-f2c43a3648af-0', usage_metadata={'input_tokens': 47, 'output_tokens': 10, 'total_tokens': 57, 'input_token_details': {'audio': 0, 'cache_read': 0}, 'output_token_details': {'audio': 0, 'reasoning': 0}}), HumanMessage(content='私の好物は何か覚えてる？', additional_kwargs={}, response_metadata={})], 'add_message': 'add_message'}, 'channel_versions': {'__start__': '00000000000000000000000000000006.0.26423542628452235', 'query': '00000000000000000000000000000006.0.7644819731201579', 'messages': '00000000000000000000000000000007.0.011436493657152935', 'start:add_message': '00000000000000000000000000000007.0.9482434341680376', 'add_message': '00000000000000000000000000000007.0.24955096914570263', 'llm_response': '00000000000000000000000000000006.0.9103130786329637'}, 'versions_seen': {'__input__': {}, '__start__': {'__start__': '00000000000000000000000000000005.0.4207061129889449'}, 'add_message': {'start:add_message': '00000000000000000000000000000006.0.07061041807002011'}, 'llm_response': {'add_message': '00000000000000000000000000000003.0.042202050183268724'}}, 'pending_sends': []}, metadata={'source': 'loop', 'writes': {'add_message': {'messages': [HumanMessage(content='私の好物は何か覚えてる？', additional_kwargs={}, response_metadata={})]}}, 'thread_id': 'example-1', 'step': 5, 'parents': {}}, parent_config={'configurable': {'thread_id': 'example-1', 'checkpoint_ns': '', 'checkpoint_id': '1efc724e-a234-60d6-8004-b989c7849e31'}}, pending_writes=[('b551fbcf-c298-8c37-19f3-cb1488c2e265', 'messages', [AIMessage(content='はい、ずんだもちですね。', additional_kwargs={'refusal': None}, response_metadata={'token_usage': {'completion_tokens': 9, 'prompt_tokens': 75, 'total_tokens': 84, 'completion_tokens_details': {'accepted_prediction_tokens': 0, 'audio_tokens': 0, 'reasoning_tokens': 0, 'rejected_prediction_tokens': 0}, 'prompt_tokens_details': {'audio_tokens': 0, 'cached_tokens': 0}}, 'model_name': 'gpt-4o-mini-2024-07-18', 'system_fingerprint': 'fp_0aa8d3e20b', 'finish_reason': 'stop', 'logprobs': None}, id='run-52a34459-da27-42d1-af8a-64dec6eb9f66-0', usage_metadata={'input_tokens': 75, 'output_tokens': 9, 'total_tokens': 84, 'input_token_details': {'audio': 0, 'cache_read': 0}, 'output_token_details': {'audio': 0, 'reasoning': 0}})]), ('b551fbcf-c298-8c37-19f3-cb1488c2e265', 'llm_response', 'llm_response')])\n",
      "CheckpointTuple(config={'configurable': {'thread_id': 'example-1', 'checkpoint_ns': '', 'checkpoint_id': '1efc724e-a234-60d6-8004-b989c7849e31'}}, checkpoint={'v': 1, 'ts': '2024-12-31T03:11:23.270355+00:00', 'id': '1efc724e-a234-60d6-8004-b989c7849e31', 'channel_values': {'query': '私の好物は何か覚えてる？', 'messages': [SystemMessage(content='あなたは最小限の応答をする対話エージェントです。', additional_kwargs={}, response_metadata={}), HumanMessage(content='私の好きなものはずんだもちです。覚えておいてね。', additional_kwargs={}, response_metadata={}), AIMessage(content='ずんだもち、覚えました！', additional_kwargs={'refusal': None}, response_metadata={'token_usage': {'completion_tokens': 10, 'prompt_tokens': 47, 'total_tokens': 57, 'completion_tokens_details': {'accepted_prediction_tokens': 0, 'audio_tokens': 0, 'reasoning_tokens': 0, 'rejected_prediction_tokens': 0}, 'prompt_tokens_details': {'audio_tokens': 0, 'cached_tokens': 0}}, 'model_name': 'gpt-4o-mini-2024-07-18', 'system_fingerprint': 'fp_d02d531b47', 'finish_reason': 'stop', 'logprobs': None}, id='run-e2bbde1b-2c34-4444-9518-f2c43a3648af-0', usage_metadata={'input_tokens': 47, 'output_tokens': 10, 'total_tokens': 57, 'input_token_details': {'audio': 0, 'cache_read': 0}, 'output_token_details': {'audio': 0, 'reasoning': 0}})], 'start:add_message': '__start__'}, 'channel_versions': {'__start__': '00000000000000000000000000000006.0.26423542628452235', 'query': '00000000000000000000000000000006.0.7644819731201579', 'messages': '00000000000000000000000000000006.0.6322573173792857', 'start:add_message': '00000000000000000000000000000006.0.07061041807002011', 'add_message': '00000000000000000000000000000004.0.4778552636606076', 'llm_response': '00000000000000000000000000000006.0.9103130786329637'}, 'versions_seen': {'__input__': {}, '__start__': {'__start__': '00000000000000000000000000000005.0.4207061129889449'}, 'add_message': {'start:add_message': '00000000000000000000000000000002.0.8053346166398331'}, 'llm_response': {'add_message': '00000000000000000000000000000003.0.042202050183268724'}}, 'pending_sends': []}, metadata={'source': 'loop', 'writes': None, 'thread_id': 'example-1', 'step': 4, 'parents': {}}, parent_config={'configurable': {'thread_id': 'example-1', 'checkpoint_ns': '', 'checkpoint_id': '1efc724e-a229-6e5b-8003-6e1da2951a78'}}, pending_writes=[('4641a215-a1d3-4b15-6ebf-a4298c8daefe', 'messages', [HumanMessage(content='私の好物は何か覚えてる？', additional_kwargs={}, response_metadata={})]), ('4641a215-a1d3-4b15-6ebf-a4298c8daefe', 'add_message', 'add_message')])\n",
      "CheckpointTuple(config={'configurable': {'thread_id': 'example-1', 'checkpoint_ns': '', 'checkpoint_id': '1efc724e-a229-6e5b-8003-6e1da2951a78'}}, checkpoint={'v': 1, 'ts': '2024-12-31T03:11:23.266186+00:00', 'id': '1efc724e-a229-6e5b-8003-6e1da2951a78', 'channel_values': {'query': '私の好きなものはずんだもちです。覚えておいてね。', 'messages': [SystemMessage(content='あなたは最小限の応答をする対話エージェントです。', additional_kwargs={}, response_metadata={}), HumanMessage(content='私の好きなものはずんだもちです。覚えておいてね。', additional_kwargs={}, response_metadata={}), AIMessage(content='ずんだもち、覚えました！', additional_kwargs={'refusal': None}, response_metadata={'token_usage': {'completion_tokens': 10, 'prompt_tokens': 47, 'total_tokens': 57, 'completion_tokens_details': {'accepted_prediction_tokens': 0, 'audio_tokens': 0, 'reasoning_tokens': 0, 'rejected_prediction_tokens': 0}, 'prompt_tokens_details': {'audio_tokens': 0, 'cached_tokens': 0}}, 'model_name': 'gpt-4o-mini-2024-07-18', 'system_fingerprint': 'fp_d02d531b47', 'finish_reason': 'stop', 'logprobs': None}, id='run-e2bbde1b-2c34-4444-9518-f2c43a3648af-0', usage_metadata={'input_tokens': 47, 'output_tokens': 10, 'total_tokens': 57, 'input_token_details': {'audio': 0, 'cache_read': 0}, 'output_token_details': {'audio': 0, 'reasoning': 0}})], '__start__': State(query='私の好物は何か覚えてる？', messages=[]), 'llm_response': 'llm_response'}, 'channel_versions': {'__start__': '00000000000000000000000000000005.0.4207061129889449', 'query': '00000000000000000000000000000002.0.8843698508662333', 'messages': '00000000000000000000000000000004.0.2834019541450449', 'start:add_message': '00000000000000000000000000000003.0.14797872626421193', 'add_message': '00000000000000000000000000000004.0.4778552636606076', 'llm_response': '00000000000000000000000000000004.0.7791431317632498'}, 'versions_seen': {'__input__': {}, '__start__': {'__start__': '00000000000000000000000000000001.0.6114191104078212'}, 'add_message': {'start:add_message': '00000000000000000000000000000002.0.8053346166398331'}, 'llm_response': {'add_message': '00000000000000000000000000000003.0.042202050183268724'}}, 'pending_sends': []}, metadata={'source': 'input', 'writes': {'__start__': State(query='私の好物は何か覚えてる？', messages=[])}, 'thread_id': 'example-1', 'step': 3, 'parents': {}}, parent_config={'configurable': {'thread_id': 'example-1', 'checkpoint_ns': '', 'checkpoint_id': '1efc7235-ec64-632c-8002-7a52a93769bc'}}, pending_writes=[('33dc1ed5-ba35-03c4-c431-aa962f8ecd2a', 'query', '私の好物は何か覚えてる？'), ('33dc1ed5-ba35-03c4-c431-aa962f8ecd2a', 'messages', []), ('33dc1ed5-ba35-03c4-c431-aa962f8ecd2a', 'start:add_message', '__start__')])\n",
      "CheckpointTuple(config={'configurable': {'thread_id': 'example-1', 'checkpoint_ns': '', 'checkpoint_id': '1efc7235-ec64-632c-8002-7a52a93769bc'}}, checkpoint={'v': 1, 'ts': '2024-12-31T03:00:19.960884+00:00', 'id': '1efc7235-ec64-632c-8002-7a52a93769bc', 'channel_values': {'query': '私の好きなものはずんだもちです。覚えておいてね。', 'messages': [SystemMessage(content='あなたは最小限の応答をする対話エージェントです。', additional_kwargs={}, response_metadata={}), HumanMessage(content='私の好きなものはずんだもちです。覚えておいてね。', additional_kwargs={}, response_metadata={}), AIMessage(content='ずんだもち、覚えました！', additional_kwargs={'refusal': None}, response_metadata={'token_usage': {'completion_tokens': 10, 'prompt_tokens': 47, 'total_tokens': 57, 'completion_tokens_details': {'accepted_prediction_tokens': 0, 'audio_tokens': 0, 'reasoning_tokens': 0, 'rejected_prediction_tokens': 0}, 'prompt_tokens_details': {'audio_tokens': 0, 'cached_tokens': 0}}, 'model_name': 'gpt-4o-mini-2024-07-18', 'system_fingerprint': 'fp_d02d531b47', 'finish_reason': 'stop', 'logprobs': None}, id='run-e2bbde1b-2c34-4444-9518-f2c43a3648af-0', usage_metadata={'input_tokens': 47, 'output_tokens': 10, 'total_tokens': 57, 'input_token_details': {'audio': 0, 'cache_read': 0}, 'output_token_details': {'audio': 0, 'reasoning': 0}})], 'llm_response': 'llm_response'}, 'channel_versions': {'__start__': '00000000000000000000000000000002.0.083306738181262', 'query': '00000000000000000000000000000002.0.8843698508662333', 'messages': '00000000000000000000000000000004.0.2834019541450449', 'start:add_message': '00000000000000000000000000000003.0.14797872626421193', 'add_message': '00000000000000000000000000000004.0.4778552636606076', 'llm_response': '00000000000000000000000000000004.0.7791431317632498'}, 'versions_seen': {'__input__': {}, '__start__': {'__start__': '00000000000000000000000000000001.0.6114191104078212'}, 'add_message': {'start:add_message': '00000000000000000000000000000002.0.8053346166398331'}, 'llm_response': {'add_message': '00000000000000000000000000000003.0.042202050183268724'}}, 'pending_sends': []}, metadata={'source': 'loop', 'writes': {'llm_response': {'messages': [AIMessage(content='ずんだもち、覚えました！', additional_kwargs={'refusal': None}, response_metadata={'token_usage': {'completion_tokens': 10, 'prompt_tokens': 47, 'total_tokens': 57, 'completion_tokens_details': {'accepted_prediction_tokens': 0, 'audio_tokens': 0, 'reasoning_tokens': 0, 'rejected_prediction_tokens': 0}, 'prompt_tokens_details': {'audio_tokens': 0, 'cached_tokens': 0}}, 'model_name': 'gpt-4o-mini-2024-07-18', 'system_fingerprint': 'fp_d02d531b47', 'finish_reason': 'stop', 'logprobs': None}, id='run-e2bbde1b-2c34-4444-9518-f2c43a3648af-0', usage_metadata={'input_tokens': 47, 'output_tokens': 10, 'total_tokens': 57, 'input_token_details': {'audio': 0, 'cache_read': 0}, 'output_token_details': {'audio': 0, 'reasoning': 0}})]}}, 'thread_id': 'example-1', 'step': 2, 'parents': {}}, parent_config={'configurable': {'thread_id': 'example-1', 'checkpoint_ns': '', 'checkpoint_id': '1efc7235-e0b3-6bf0-8001-b607043a196c'}}, pending_writes=[])\n",
      "CheckpointTuple(config={'configurable': {'thread_id': 'example-1', 'checkpoint_ns': '', 'checkpoint_id': '1efc7235-e0b3-6bf0-8001-b607043a196c'}}, checkpoint={'v': 1, 'ts': '2024-12-31T03:00:18.735190+00:00', 'id': '1efc7235-e0b3-6bf0-8001-b607043a196c', 'channel_values': {'query': '私の好きなものはずんだもちです。覚えておいてね。', 'messages': [SystemMessage(content='あなたは最小限の応答をする対話エージェントです。', additional_kwargs={}, response_metadata={}), HumanMessage(content='私の好きなものはずんだもちです。覚えておいてね。', additional_kwargs={}, response_metadata={})], 'add_message': 'add_message'}, 'channel_versions': {'__start__': '00000000000000000000000000000002.0.083306738181262', 'query': '00000000000000000000000000000002.0.8843698508662333', 'messages': '00000000000000000000000000000003.0.6247490573455072', 'start:add_message': '00000000000000000000000000000003.0.14797872626421193', 'add_message': '00000000000000000000000000000003.0.042202050183268724'}, 'versions_seen': {'__input__': {}, '__start__': {'__start__': '00000000000000000000000000000001.0.6114191104078212'}, 'add_message': {'start:add_message': '00000000000000000000000000000002.0.8053346166398331'}}, 'pending_sends': []}, metadata={'source': 'loop', 'writes': {'add_message': {'messages': [SystemMessage(content='あなたは最小限の応答をする対話エージェントです。', additional_kwargs={}, response_metadata={}), HumanMessage(content='私の好きなものはずんだもちです。覚えておいてね。', additional_kwargs={}, response_metadata={})]}}, 'thread_id': 'example-1', 'step': 1, 'parents': {}}, parent_config={'configurable': {'thread_id': 'example-1', 'checkpoint_ns': '', 'checkpoint_id': '1efc7235-e0ad-6f66-8000-92875719a6f2'}}, pending_writes=[('7ea49864-41d5-614c-e1c2-e0b2bb083a33', 'messages', [AIMessage(content='ずんだもち、覚えました！', additional_kwargs={'refusal': None}, response_metadata={'token_usage': {'completion_tokens': 10, 'prompt_tokens': 47, 'total_tokens': 57, 'completion_tokens_details': {'accepted_prediction_tokens': 0, 'audio_tokens': 0, 'reasoning_tokens': 0, 'rejected_prediction_tokens': 0}, 'prompt_tokens_details': {'audio_tokens': 0, 'cached_tokens': 0}}, 'model_name': 'gpt-4o-mini-2024-07-18', 'system_fingerprint': 'fp_d02d531b47', 'finish_reason': 'stop', 'logprobs': None}, id='run-e2bbde1b-2c34-4444-9518-f2c43a3648af-0', usage_metadata={'input_tokens': 47, 'output_tokens': 10, 'total_tokens': 57, 'input_token_details': {'audio': 0, 'cache_read': 0}, 'output_token_details': {'audio': 0, 'reasoning': 0}})]), ('7ea49864-41d5-614c-e1c2-e0b2bb083a33', 'llm_response', 'llm_response')])\n",
      "CheckpointTuple(config={'configurable': {'thread_id': 'example-1', 'checkpoint_ns': '', 'checkpoint_id': '1efc7235-e0ad-6f66-8000-92875719a6f2'}}, checkpoint={'v': 1, 'ts': '2024-12-31T03:00:18.732820+00:00', 'id': '1efc7235-e0ad-6f66-8000-92875719a6f2', 'channel_values': {'query': '私の好きなものはずんだもちです。覚えておいてね。', 'messages': [], 'start:add_message': '__start__'}, 'channel_versions': {'__start__': '00000000000000000000000000000002.0.083306738181262', 'query': '00000000000000000000000000000002.0.8843698508662333', 'messages': '00000000000000000000000000000002.0.4393150000957514', 'start:add_message': '00000000000000000000000000000002.0.8053346166398331'}, 'versions_seen': {'__input__': {}, '__start__': {'__start__': '00000000000000000000000000000001.0.6114191104078212'}}, 'pending_sends': []}, metadata={'source': 'loop', 'writes': None, 'thread_id': 'example-1', 'step': 0, 'parents': {}}, parent_config={'configurable': {'thread_id': 'example-1', 'checkpoint_ns': '', 'checkpoint_id': '1efc7235-e0a3-6578-bfff-3e4c652bc600'}}, pending_writes=[('3c203521-251b-c8e4-1170-4788cd800d3f', 'messages', [SystemMessage(content='あなたは最小限の応答をする対話エージェントです。', additional_kwargs={}, response_metadata={}), HumanMessage(content='私の好きなものはずんだもちです。覚えておいてね。', additional_kwargs={}, response_metadata={})]), ('3c203521-251b-c8e4-1170-4788cd800d3f', 'add_message', 'add_message')])\n",
      "CheckpointTuple(config={'configurable': {'thread_id': 'example-1', 'checkpoint_ns': '', 'checkpoint_id': '1efc7235-e0a3-6578-bfff-3e4c652bc600'}}, checkpoint={'v': 1, 'ts': '2024-12-31T03:00:18.728474+00:00', 'id': '1efc7235-e0a3-6578-bfff-3e4c652bc600', 'channel_values': {'__start__': State(query='私の好きなものはずんだもちです。覚えておいてね。', messages=[])}, 'channel_versions': {'__start__': '00000000000000000000000000000001.0.6114191104078212'}, 'versions_seen': {'__input__': {}}, 'pending_sends': []}, metadata={'source': 'input', 'writes': {'__start__': State(query='私の好きなものはずんだもちです。覚えておいてね。', messages=[])}, 'thread_id': 'example-1', 'step': -1, 'parents': {}}, parent_config=None, pending_writes=[('2b3f291d-0d44-4814-9554-825e9eaf53b7', 'query', '私の好きなものはずんだもちです。覚えておいてね。'), ('2b3f291d-0d44-4814-9554-825e9eaf53b7', 'messages', []), ('2b3f291d-0d44-4814-9554-825e9eaf53b7', 'start:add_message', '__start__')])\n"
     ]
    }
   ],
   "source": [
    "for checkpoint in checkpointer.list(config):\n",
    "    print(checkpoint)"
   ]
  },
  {
   "cell_type": "code",
   "execution_count": 105,
   "id": "e737fce5-af42-469a-9d29-4c8e2adbd1e2",
   "metadata": {},
   "outputs": [
    {
     "name": "stdout",
     "output_type": "stream",
     "text": [
      "チェックポイントデータ\n",
      "{'channel_values': {'llm_response': 'llm_response',\n",
      "                    'messages': [SystemMessage(content='あなたは最小限の応答をする対話エージェントです。', additional_kwargs={}, response_metadata={}),\n",
      "                                 HumanMessage(content='私の好きなものはずんだもちです。覚えておいてね。', additional_kwargs={}, response_metadata={}),\n",
      "                                 AIMessage(content='ずんだもち、覚えました！', additional_kwargs={'refusal': None}, response_metadata={'token_usage': {'completion_tokens': 10, 'prompt_tokens': 47, 'total_tokens': 57, 'completion_tokens_details': {'accepted_prediction_tokens': 0, 'audio_tokens': 0, 'reasoning_tokens': 0, 'rejected_prediction_tokens': 0}, 'prompt_tokens_details': {'audio_tokens': 0, 'cached_tokens': 0}}, 'model_name': 'gpt-4o-mini-2024-07-18', 'system_fingerprint': 'fp_d02d531b47', 'finish_reason': 'stop', 'logprobs': None}, id='run-e2bbde1b-2c34-4444-9518-f2c43a3648af-0', usage_metadata={'input_tokens': 47, 'output_tokens': 10, 'total_tokens': 57, 'input_token_details': {'audio': 0, 'cache_read': 0}, 'output_token_details': {'audio': 0, 'reasoning': 0}}),\n",
      "                                 HumanMessage(content='私の好物は何か覚えてる？', additional_kwargs={}, response_metadata={}),\n",
      "                                 AIMessage(content='はい、ずんだもちですね。', additional_kwargs={'refusal': None}, response_metadata={'token_usage': {'completion_tokens': 9, 'prompt_tokens': 75, 'total_tokens': 84, 'completion_tokens_details': {'accepted_prediction_tokens': 0, 'audio_tokens': 0, 'reasoning_tokens': 0, 'rejected_prediction_tokens': 0}, 'prompt_tokens_details': {'audio_tokens': 0, 'cached_tokens': 0}}, 'model_name': 'gpt-4o-mini-2024-07-18', 'system_fingerprint': 'fp_0aa8d3e20b', 'finish_reason': 'stop', 'logprobs': None}, id='run-52a34459-da27-42d1-af8a-64dec6eb9f66-0', usage_metadata={'input_tokens': 75, 'output_tokens': 9, 'total_tokens': 84, 'input_token_details': {'audio': 0, 'cache_read': 0}, 'output_token_details': {'audio': 0, 'reasoning': 0}})],\n",
      "                    'query': '私の好物は何か覚えてる？'},\n",
      " 'channel_versions': {'__start__': '00000000000000000000000000000006.0.26423542628452235',\n",
      "                      'add_message': '00000000000000000000000000000008.0.04580952475552902',\n",
      "                      'llm_response': '00000000000000000000000000000008.0.937276429506085',\n",
      "                      'messages': '00000000000000000000000000000008.0.501334865510631',\n",
      "                      'query': '00000000000000000000000000000006.0.7644819731201579',\n",
      "                      'start:add_message': '00000000000000000000000000000007.0.9482434341680376'},\n",
      " 'id': '1efc724e-a99f-68f2-8006-9c173a1a46f6',\n",
      " 'pending_sends': [],\n",
      " 'ts': '2024-12-31T03:11:24.048378+00:00',\n",
      " 'v': 1,\n",
      " 'versions_seen': {'__input__': {},\n",
      "                   '__start__': {'__start__': '00000000000000000000000000000005.0.4207061129889449'},\n",
      "                   'add_message': {'start:add_message': '00000000000000000000000000000006.0.07061041807002011'},\n",
      "                   'llm_response': {'add_message': '00000000000000000000000000000007.0.24955096914570263'}}}\n",
      "\n",
      "メタデータ:\n",
      "{'parents': {},\n",
      " 'source': 'loop',\n",
      " 'step': 6,\n",
      " 'thread_id': 'example-1',\n",
      " 'writes': {'llm_response': {'messages': [AIMessage(content='はい、ずんだもちですね。', additional_kwargs={'refusal': None}, response_metadata={'token_usage': {'completion_tokens': 9, 'prompt_tokens': 75, 'total_tokens': 84, 'completion_tokens_details': {'accepted_prediction_tokens': 0, 'audio_tokens': 0, 'reasoning_tokens': 0, 'rejected_prediction_tokens': 0}, 'prompt_tokens_details': {'audio_tokens': 0, 'cached_tokens': 0}}, 'model_name': 'gpt-4o-mini-2024-07-18', 'system_fingerprint': 'fp_0aa8d3e20b', 'finish_reason': 'stop', 'logprobs': None}, id='run-52a34459-da27-42d1-af8a-64dec6eb9f66-0', usage_metadata={'input_tokens': 75, 'output_tokens': 9, 'total_tokens': 84, 'input_token_details': {'audio': 0, 'cache_read': 0}, 'output_token_details': {'audio': 0, 'reasoning': 0}})]}}}\n"
     ]
    }
   ],
   "source": [
    "print_checkpoint_dump(checkpointer, config)"
   ]
  },
  {
   "cell_type": "code",
   "execution_count": 106,
   "id": "c91820e6-2b61-4ca5-82ec-fe1770590a92",
   "metadata": {},
   "outputs": [
    {
     "data": {
      "text/plain": [
       "{'query': '私の好物は何？',\n",
       " 'messages': [SystemMessage(content='あなたは最小限の応答をする対話エージェントです。', additional_kwargs={}, response_metadata={}),\n",
       "  HumanMessage(content='私の好物は何？', additional_kwargs={}, response_metadata={}),\n",
       "  AIMessage(content='わかりません。あなたの好物は何ですか？', additional_kwargs={'refusal': None}, response_metadata={'token_usage': {'completion_tokens': 15, 'prompt_tokens': 36, 'total_tokens': 51, 'completion_tokens_details': {'accepted_prediction_tokens': 0, 'audio_tokens': 0, 'reasoning_tokens': 0, 'rejected_prediction_tokens': 0}, 'prompt_tokens_details': {'audio_tokens': 0, 'cached_tokens': 0}}, 'model_name': 'gpt-4o-mini-2024-07-18', 'system_fingerprint': 'fp_d02d531b47', 'finish_reason': 'stop', 'logprobs': None}, id='run-00076858-b38d-4c41-8691-cf051c06b980-0', usage_metadata={'input_tokens': 36, 'output_tokens': 15, 'total_tokens': 51, 'input_token_details': {'audio': 0, 'cache_read': 0}, 'output_token_details': {'audio': 0, 'reasoning': 0}})]}"
      ]
     },
     "execution_count": 106,
     "metadata": {},
     "output_type": "execute_result"
    }
   ],
   "source": [
    "config = {\"configurable\": {\"thread_id\": \"example-2\"}}\n",
    "user_query = State(query=\"私の好物は何？\")\n",
    "other_thread_response = compiled_graph.invoke(user_query, config)\n",
    "other_thread_response"
   ]
  },
  {
   "cell_type": "code",
   "execution_count": null,
   "id": "39c0a48e-1d44-4adf-b870-84d5d7cd31da",
   "metadata": {},
   "outputs": [],
   "source": []
  },
  {
   "cell_type": "code",
   "execution_count": null,
   "id": "035daee9-ac2d-4a54-a82a-ede7d544b4a6",
   "metadata": {},
   "outputs": [],
   "source": []
  },
  {
   "cell_type": "code",
   "execution_count": null,
   "id": "23374af6-518e-4cb1-b75e-2b793508af11",
   "metadata": {},
   "outputs": [],
   "source": []
  },
  {
   "cell_type": "code",
   "execution_count": null,
   "id": "9aada10e-9b96-4f5f-a6ea-ec54e383cdce",
   "metadata": {},
   "outputs": [],
   "source": []
  }
 ],
 "metadata": {
  "kernelspec": {
   "display_name": "Python 3 (ipykernel)",
   "language": "python",
   "name": "python3"
  },
  "language_info": {
   "codemirror_mode": {
    "name": "ipython",
    "version": 3
   },
   "file_extension": ".py",
   "mimetype": "text/x-python",
   "name": "python",
   "nbconvert_exporter": "python",
   "pygments_lexer": "ipython3",
   "version": "3.11.10"
  }
 },
 "nbformat": 4,
 "nbformat_minor": 5
}
