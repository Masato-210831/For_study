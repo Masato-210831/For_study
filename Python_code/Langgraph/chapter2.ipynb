{
 "cells": [
  {
   "cell_type": "code",
   "execution_count": 2,
   "id": "16e4926a-db58-47aa-8f7e-601e7624e1f8",
   "metadata": {},
   "outputs": [],
   "source": [
    "import os\n",
    "from dotenv import load_dotenv\n",
    "\n",
    "load_dotenv()\n",
    "api_key = os.environ['OPENAI_API_KEY']"
   ]
  },
  {
   "cell_type": "code",
   "execution_count": 3,
   "id": "b8e385f1-8978-437d-8157-bc2a2f1c1e39",
   "metadata": {},
   "outputs": [
    {
     "name": "stdout",
     "output_type": "stream",
     "text": [
      "ChatCompletion(id='chatcmpl-BECuSdrsiAbnJqzVHVq4N3YizMsrR', choices=[Choice(finish_reason='stop', index=0, logprobs=None, message=ChatCompletionMessage(content='こんにちは、masaさん！お話できてうれしいです。今日はどんなことをお話ししましょうか？', refusal=None, role='assistant', audio=None, function_call=None, tool_calls=None, annotations=[]))], created=1742725916, model='gpt-4o-mini-2024-07-18', object='chat.completion', service_tier='default', system_fingerprint='fp_b8bc95a0ac', usage=CompletionUsage(completion_tokens=27, prompt_tokens=22, total_tokens=49, completion_tokens_details=CompletionTokensDetails(accepted_prediction_tokens=0, audio_tokens=0, reasoning_tokens=0, rejected_prediction_tokens=0), prompt_tokens_details=PromptTokensDetails(audio_tokens=0, cached_tokens=0)))\n"
     ]
    }
   ],
   "source": [
    "from openai import OpenAI\n",
    "\n",
    "client = OpenAI()\n",
    "\n",
    "respose = client.chat.completions.create(\n",
    "    model='gpt-4o-mini',\n",
    "    messages=[\n",
    "        {'role': 'system', \"content\": 'You are a helpful assistant'},\n",
    "        {'role': 'user', 'content': 'こんにちは、私はmasaです。'}\n",
    "    ],\n",
    "    # logprobs=True\n",
    ")\n",
    "\n",
    "print(respose)"
   ]
  },
  {
   "cell_type": "code",
   "execution_count": 23,
   "id": "ad218564-e73a-4666-ac9a-9722cbf42365",
   "metadata": {},
   "outputs": [
    {
     "name": "stdout",
     "output_type": "stream",
     "text": [
      "{\n",
      "  \"id\": \"chatcmpl-AWdZqGisaWQzvN6rdf3WBXlQKXMyc\",\n",
      "  \"choices\": [\n",
      "    {\n",
      "      \"finish_reason\": \"stop\",\n",
      "      \"index\": 0,\n",
      "      \"logprobs\": null,\n",
      "      \"message\": {\n",
      "        \"content\": \"こんにちは、masaさん！今日はどんなことをお手伝いしましょうか？\",\n",
      "        \"refusal\": null,\n",
      "        \"role\": \"assistant\"\n",
      "      }\n",
      "    }\n",
      "  ],\n",
      "  \"created\": 1732341994,\n",
      "  \"model\": \"gpt-4o-mini-2024-07-18\",\n",
      "  \"object\": \"chat.completion\",\n",
      "  \"system_fingerprint\": \"fp_0705bf87c0\",\n",
      "  \"usage\": {\n",
      "    \"completion_tokens\": 18,\n",
      "    \"prompt_tokens\": 22,\n",
      "    \"total_tokens\": 40,\n",
      "    \"completion_tokens_details\": {\n",
      "      \"accepted_prediction_tokens\": 0,\n",
      "      \"audio_tokens\": 0,\n",
      "      \"reasoning_tokens\": 0,\n",
      "      \"rejected_prediction_tokens\": 0\n",
      "    },\n",
      "    \"prompt_tokens_details\": {\n",
      "      \"audio_tokens\": 0,\n",
      "      \"cached_tokens\": 0\n",
      "    }\n",
      "  }\n",
      "}\n"
     ]
    }
   ],
   "source": [
    "print(respose.to_json(indent=2))"
   ]
  },
  {
   "cell_type": "code",
   "execution_count": 19,
   "id": "923f7579-c28a-4290-bb98-7ddecfba4dc6",
   "metadata": {},
   "outputs": [
    {
     "name": "stdout",
     "output_type": "stream",
     "text": [
      "こんにちは、masaさん！お元気ですか？何かお手伝いできることがあれば教えてください。"
     ]
    }
   ],
   "source": [
    "response = client.chat.completions.create(\n",
    "    model='gpt-4o-mini',\n",
    "    messages=[\n",
    "        {'role': 'system', \"content\": 'You are a helpful assistant'},\n",
    "        {'role': 'user', 'content': 'こんにちは、私はmasaです。'}\n",
    "    ],\n",
    "    stream=True,\n",
    ")\n",
    "\n",
    "for chunk in response:\n",
    "    content = chunk.choices[0].delta.content\n",
    "    if content is not None:\n",
    "        print(content, end='', flush=True)"
   ]
  },
  {
   "cell_type": "markdown",
   "id": "8704b38d-970d-4886-b533-e53bf7ff946d",
   "metadata": {},
   "source": [
    "## JSON"
   ]
  },
  {
   "cell_type": "code",
   "execution_count": 24,
   "id": "18b3ab9b-bf9c-4bf1-9659-843e0af3e375",
   "metadata": {},
   "outputs": [
    {
     "name": "stdout",
     "output_type": "stream",
     "text": [
      "{\"people\": [\"お祖父さん\", \"お婆さん\"]}\n"
     ]
    }
   ],
   "source": [
    "response = client.chat.completions.create(\n",
    "    model='gpt-4o-mini',\n",
    "    messages=[\n",
    "        {'role': 'system', \"content\": '人物一覧を次のJSON形式で出力してください。\\n{\"people\": [\"aaa\", \"bbb\"]}'},\n",
    "        {'role': 'user', 'content': '昔あるところにお祖父さんとお婆さんがいました'}\n",
    "    ],\n",
    "    response_format={'type': 'json_object'}\n",
    "    \n",
    ")\n",
    "\n",
    "print(response.choices[0].message.content)"
   ]
  },
  {
   "cell_type": "markdown",
   "id": "b2879e8d-3373-4283-a0ec-7c8d559e1abf",
   "metadata": {},
   "source": [
    "## 画像取り込み"
   ]
  },
  {
   "cell_type": "code",
   "execution_count": 25,
   "id": "5884ca29-62e3-4ab0-adb0-baf889fd10f4",
   "metadata": {},
   "outputs": [
    {
     "name": "stdout",
     "output_type": "stream",
     "text": [
      "この画像は本の表紙です。タイトルは「ChatGPT/LangChainによるチャットシステム構築[実践]入門」となっており、著者は吉田真吾氏と大嶋秀樹氏です。表紙にはカラフルなオウムのイラストが描かれており、背景は明るい青色です。また、「ChatGPT」という言葉が大きく表示されています。全体的に専門的な内容を示すデザインです。\n"
     ]
    }
   ],
   "source": [
    "image_url = \"https://raw.githubusercontent.com/yoshidashingo/langchain-book/main/assets/cover.jpg\"\n",
    "\n",
    "response = client.chat.completions.create(\n",
    "    model=\"gpt-4o-mini\",\n",
    "    messages=[\n",
    "        {\n",
    "            \"role\": \"user\",\n",
    "            \"content\": [\n",
    "                {\"type\": \"text\", \"text\": \"画像を説明してください。\"},\n",
    "                {\"type\": \"image_url\", \"image_url\": {\"url\": image_url}},\n",
    "            ],\n",
    "        }\n",
    "    ],\n",
    ")\n",
    "\n",
    "print(response.choices[0].message.content)"
   ]
  },
  {
   "cell_type": "markdown",
   "id": "8f488790-0207-4fb0-9a79-8fa3d1eabc76",
   "metadata": {},
   "source": [
    "# 2.6 Function Calling"
   ]
  },
  {
   "cell_type": "code",
   "execution_count": 3,
   "id": "33b15825-6ed2-401b-9735-1f929857c891",
   "metadata": {},
   "outputs": [],
   "source": [
    "import json\n",
    "\n",
    "# Fanction callingの関数\n",
    "def get_current_weather(location, unit=\"fahrenheit\"):\n",
    "    if \"tokyo\" in location.lower():\n",
    "        return json.dumps({\"location\": \"Tokyo\", \"temperature\": \"10\", \"unit\": unit})\n",
    "    elif \"san francisco\" in location.lower():\n",
    "        return json.dumps(\n",
    "            {\"location\": \"San Francisco\", \"temperature\": \"72\", \"unit\": unit}\n",
    "        )\n",
    "    elif \"paris\" in location.lower():\n",
    "        return json.dumps({\"location\": \"Paris\", \"temperature\": \"22\", \"unit\": unit})\n",
    "    else:\n",
    "        return json.dumps({\"location\": location, \"temperature\": \"unknown\"})"
   ]
  },
  {
   "cell_type": "code",
   "execution_count": 4,
   "id": "ca23890b-9424-484c-9440-49fe4d0474cd",
   "metadata": {},
   "outputs": [],
   "source": [
    "# LLMが使用できる関数一覧\n",
    "tools = [\n",
    "    {\n",
    "        \"type\": \"function\",\n",
    "        \"function\": {\n",
    "            \"name\": \"get_current_weather\",\n",
    "            \"description\": \"Get the current weather in a given location\",\n",
    "            \"parameters\": {\n",
    "                \"type\": \"object\",\n",
    "                \"properties\": {\n",
    "                    \"location\": {\n",
    "                        \"type\": \"string\",\n",
    "                        \"description\": \"The city and state, e.g. San Francisco, CA, described in Engligh, but not country\",\n",
    "                    },\n",
    "                    \"unit\": {\"type\": \"string\", \"enum\": [\"celsius\", \"fahrenheit\"]},\n",
    "                },\n",
    "                \"required\": [\"location\"],\n",
    "            },\n",
    "        },\n",
    "    }\n",
    "]"
   ]
  },
  {
   "cell_type": "code",
   "execution_count": 5,
   "id": "174db848-78af-4c05-9d50-38fdaa2a8b28",
   "metadata": {},
   "outputs": [
    {
     "name": "stdout",
     "output_type": "stream",
     "text": [
      "{\n",
      "  \"id\": \"chatcmpl-BQxslaGQJKkhqSoACfqYmEoJsqtf0\",\n",
      "  \"choices\": [\n",
      "    {\n",
      "      \"finish_reason\": \"tool_calls\",\n",
      "      \"index\": 0,\n",
      "      \"logprobs\": null,\n",
      "      \"message\": {\n",
      "        \"content\": null,\n",
      "        \"refusal\": null,\n",
      "        \"role\": \"assistant\",\n",
      "        \"tool_calls\": [\n",
      "          {\n",
      "            \"id\": \"call_f24A6fWh3WPUmEasmkHGT5z8\",\n",
      "            \"function\": {\n",
      "              \"arguments\": \"{\\\"location\\\":\\\"Tokyo\\\"}\",\n",
      "              \"name\": \"get_current_weather\"\n",
      "            },\n",
      "            \"type\": \"function\"\n",
      "          }\n",
      "        ],\n",
      "        \"annotations\": []\n",
      "      }\n",
      "    }\n",
      "  ],\n",
      "  \"created\": 1745766415,\n",
      "  \"model\": \"gpt-4o-2024-08-06\",\n",
      "  \"object\": \"chat.completion\",\n",
      "  \"service_tier\": \"default\",\n",
      "  \"system_fingerprint\": \"fp_f5bdcc3276\",\n",
      "  \"usage\": {\n",
      "    \"completion_tokens\": 16,\n",
      "    \"prompt_tokens\": 90,\n",
      "    \"total_tokens\": 106,\n",
      "    \"completion_tokens_details\": {\n",
      "      \"accepted_prediction_tokens\": 0,\n",
      "      \"audio_tokens\": 0,\n",
      "      \"reasoning_tokens\": 0,\n",
      "      \"rejected_prediction_tokens\": 0\n",
      "    },\n",
      "    \"prompt_tokens_details\": {\n",
      "      \"audio_tokens\": 0,\n",
      "      \"cached_tokens\": 0\n",
      "    }\n",
      "  }\n",
      "}\n"
     ]
    }
   ],
   "source": [
    "messages = [\n",
    "    {\"role\": \"user\", \"content\": \"東京の天気はどうですか？\"},\n",
    "]\n",
    "\n",
    "response = client.chat.completions.create(\n",
    "    model=\"gpt-4o\",\n",
    "    messages=messages,\n",
    "    tools=tools,\n",
    ")\n",
    "print(response.to_json(indent=2))"
   ]
  },
  {
   "cell_type": "code",
   "execution_count": 6,
   "id": "f94c1937-2141-412b-8a8f-9b9f45145825",
   "metadata": {},
   "outputs": [],
   "source": [
    "response_message = response.choices[0].message\n",
    "messages.append(response_message.to_dict())"
   ]
  },
  {
   "cell_type": "code",
   "execution_count": 11,
   "id": "2b563dbb-eecf-4e3b-be92-7e1bba0bbd56",
   "metadata": {},
   "outputs": [
    {
     "data": {
      "text/plain": [
       "ChatCompletionMessage(content=None, refusal=None, role='assistant', audio=None, function_call=None, tool_calls=[ChatCompletionMessageToolCall(id='call_f24A6fWh3WPUmEasmkHGT5z8', function=Function(arguments='{\"location\":\"Tokyo\"}', name='get_current_weather'), type='function')], annotations=[])"
      ]
     },
     "execution_count": 11,
     "metadata": {},
     "output_type": "execute_result"
    }
   ],
   "source": [
    "response_message"
   ]
  },
  {
   "cell_type": "code",
   "execution_count": 7,
   "id": "ce7dbd41-100f-4290-b458-0618c50874c7",
   "metadata": {},
   "outputs": [
    {
     "data": {
      "text/plain": [
       "{'content': None,\n",
       " 'refusal': None,\n",
       " 'role': 'assistant',\n",
       " 'tool_calls': [{'id': 'call_f24A6fWh3WPUmEasmkHGT5z8',\n",
       "   'function': {'arguments': '{\"location\":\"Tokyo\"}',\n",
       "    'name': 'get_current_weather'},\n",
       "   'type': 'function'}],\n",
       " 'annotations': []}"
      ]
     },
     "execution_count": 7,
     "metadata": {},
     "output_type": "execute_result"
    }
   ],
   "source": [
    "response_message.to_dict()"
   ]
  },
  {
   "cell_type": "code",
   "execution_count": 8,
   "id": "1c72f127-19cc-433e-a0cd-8e9bd58467ee",
   "metadata": {},
   "outputs": [
    {
     "data": {
      "text/plain": [
       "[{'role': 'user', 'content': '東京の天気はどうですか？'},\n",
       " {'content': None,\n",
       "  'refusal': None,\n",
       "  'role': 'assistant',\n",
       "  'tool_calls': [{'id': 'call_f24A6fWh3WPUmEasmkHGT5z8',\n",
       "    'function': {'arguments': '{\"location\":\"Tokyo\"}',\n",
       "     'name': 'get_current_weather'},\n",
       "    'type': 'function'}],\n",
       "  'annotations': []}]"
      ]
     },
     "execution_count": 8,
     "metadata": {},
     "output_type": "execute_result"
    }
   ],
   "source": [
    "messages"
   ]
  },
  {
   "cell_type": "code",
   "execution_count": 10,
   "id": "43f5bf3c-a3cb-4218-abf6-0c16b2ba7be0",
   "metadata": {},
   "outputs": [
    {
     "name": "stdout",
     "output_type": "stream",
     "text": [
      "{\"location\": \"Tokyo\", \"temperature\": \"10\", \"unit\": null}\n"
     ]
    }
   ],
   "source": [
    "available_functions = {\n",
    "    \"get_current_weather\": get_current_weather,\n",
    "}\n",
    "\n",
    "# 使いたい関数は複数あるかもしれないのでループ\n",
    "for tool_call in response_message.tool_calls:\n",
    "    # 関数を実行\n",
    "    function_name = tool_call.function.name\n",
    "    function_to_call = available_functions[function_name]\n",
    "    function_args = json.loads(tool_call.function.arguments)\n",
    "    function_response = function_to_call(\n",
    "        location=function_args.get(\"location\"),\n",
    "        unit=function_args.get(\"unit\"),\n",
    "    )\n",
    "    print(function_response)\n",
    "\n",
    "    # 関数の実行結果を会話履歴としてmessagesに追加\n",
    "    messages.append(\n",
    "        {\n",
    "            \"tool_call_id\": tool_call.id,\n",
    "            \"role\": \"tool\",\n",
    "            \"name\": function_name,\n",
    "            \"content\": function_response,\n",
    "        }\n",
    "    )"
   ]
  },
  {
   "cell_type": "code",
   "execution_count": 48,
   "id": "a1fe7f7c-04ea-432e-a90f-0eb2e4b10238",
   "metadata": {},
   "outputs": [
    {
     "name": "stdout",
     "output_type": "stream",
     "text": [
      "[\n",
      "  {\n",
      "    \"role\": \"user\",\n",
      "    \"content\": \"東京の天気はどうですか？\"\n",
      "  },\n",
      "  {\n",
      "    \"content\": null,\n",
      "    \"refusal\": null,\n",
      "    \"role\": \"assistant\",\n",
      "    \"tool_calls\": [\n",
      "      {\n",
      "        \"id\": \"call_wBBKUzh5FAZXKApZeA9GyMwS\",\n",
      "        \"function\": {\n",
      "          \"arguments\": \"{\\\"location\\\":\\\"Tokyo\\\"}\",\n",
      "          \"name\": \"get_current_weather\"\n",
      "        },\n",
      "        \"type\": \"function\"\n",
      "      }\n",
      "    ]\n",
      "  },\n",
      "  {\n",
      "    \"tool_call_id\": \"call_wBBKUzh5FAZXKApZeA9GyMwS\",\n",
      "    \"role\": \"tool\",\n",
      "    \"name\": \"get_current_weather\",\n",
      "    \"content\": \"{\\\"location\\\": \\\"Tokyo\\\", \\\"temperature\\\": \\\"10\\\", \\\"unit\\\": null}\"\n",
      "  }\n",
      "]\n"
     ]
    }
   ],
   "source": [
    "print(json.dumps(messages, ensure_ascii=False, indent=2))"
   ]
  },
  {
   "cell_type": "code",
   "execution_count": 49,
   "id": "6648b07f-293c-4b49-a022-0b6ab5a1e226",
   "metadata": {},
   "outputs": [
    {
     "name": "stdout",
     "output_type": "stream",
     "text": [
      "{\n",
      "  \"id\": \"chatcmpl-AWfJ6iVliuU5PxPwxHFe2rjFR0Meb\",\n",
      "  \"choices\": [\n",
      "    {\n",
      "      \"finish_reason\": \"stop\",\n",
      "      \"index\": 0,\n",
      "      \"logprobs\": null,\n",
      "      \"message\": {\n",
      "        \"content\": \"現在の東京の気温は10度です。他にも知りたいことがあれば教えてくださいね。\",\n",
      "        \"refusal\": null,\n",
      "        \"role\": \"assistant\"\n",
      "      }\n",
      "    }\n",
      "  ],\n",
      "  \"created\": 1732348644,\n",
      "  \"model\": \"gpt-4o-2024-08-06\",\n",
      "  \"object\": \"chat.completion\",\n",
      "  \"system_fingerprint\": \"fp_831e067d82\",\n",
      "  \"usage\": {\n",
      "    \"completion_tokens\": 24,\n",
      "    \"prompt_tokens\": 57,\n",
      "    \"total_tokens\": 81,\n",
      "    \"completion_tokens_details\": {\n",
      "      \"accepted_prediction_tokens\": 0,\n",
      "      \"audio_tokens\": 0,\n",
      "      \"reasoning_tokens\": 0,\n",
      "      \"rejected_prediction_tokens\": 0\n",
      "    },\n",
      "    \"prompt_tokens_details\": {\n",
      "      \"audio_tokens\": 0,\n",
      "      \"cached_tokens\": 0\n",
      "    }\n",
      "  }\n",
      "}\n"
     ]
    }
   ],
   "source": [
    "second_response = client.chat.completions.create(\n",
    "    model=\"gpt-4o\",\n",
    "    messages=messages,\n",
    ")\n",
    "print(second_response.to_json(indent=2))"
   ]
  },
  {
   "cell_type": "markdown",
   "id": "04f43643-dbaf-4da4-b68b-874ef4b9ac7e",
   "metadata": {},
   "source": [
    "## プロンプトエンジアリング"
   ]
  },
  {
   "cell_type": "code",
   "execution_count": 50,
   "id": "6f2821a9-40dc-4032-ac05-60fea1550766",
   "metadata": {},
   "outputs": [
    {
     "name": "stdout",
     "output_type": "stream",
     "text": [
      "カレーの基本的なレシピをご紹介します。お好みで具材を変更したり、スパイスの量を調整したりして、自分だけのカレーを楽しんでください。\n",
      "\n",
      "### 材料（4人分）\n",
      "\n",
      "- 鶏肉または牛肉または豚肉: 400g（お好きな部位で）\n",
      "- 玉ねぎ: 2個\n",
      "- にんじん: 1本\n",
      "- じゃがいも: 2個\n",
      "- カレールー: 1箱（約180g）\n",
      "- 水: 800ml\n",
      "- サラダ油: 大さじ2\n",
      "- 塩: 適量\n",
      "- こしょう: 適量\n",
      "- Optional: ガーリックパウダー、しょうがパウダー、クミン、ターメリック、チリパウダー（お好みで）\n",
      "\n",
      "### 作り方\n",
      "\n",
      "1. **下準備**:\n",
      "   - 玉ねぎを薄切りにする。\n",
      "   - にんじんとじゃがいもは皮をむいて、一口大に切る。\n",
      "   - 肉は一口大に切り、塩とこしょうを振って下味をつける。\n",
      "\n",
      "2. **炒める**:\n",
      "   - 大きめの鍋にサラダ油を熱し、薄切りにした玉ねぎを中火で炒める。\n",
      "   - 玉ねぎが透明になるまで炒め、その後に肉を加えて表面が白くなるまで炒める。\n",
      "\n",
      "3. **野菜を加える**:\n",
      "   - にんじんとじゃがいもを鍋に加え、全体をよく混ぜる。\n",
      "   - さらに約2〜3分炒める。\n",
      "\n",
      "4. **煮込む**:\n",
      "   - 水を加え、沸騰したらアクを取り除く。\n",
      "   - 蓋をして中弱火で約15〜20分間、野菜が柔らかくなるまで煮る。\n",
      "\n",
      "5. **カレールーを溶かす**:\n",
      "   - 火を止めてカレールーを加え、よく混ぜる。再び弱火にし、ルーが完全に溶けるまで煮込む。\n",
      "\n",
      "6. **味を調える**:\n",
      "   - お好みに応じて、ガーリックパウダーやしょうがパウダーなどのスパイスを加える。味見をして、必要なら塩で調整する。\n",
      "\n",
      "7. **完成**:\n",
      "   - 煮込んだカレーを器に盛り、ご飯やナンと一緒にお召し上がりください。\n",
      "\n",
      "### お好みのトッピング\n",
      "- 刻みパセリやコリアンダー\n",
      "- 笹かまぼこやゆで卵\n",
      "- チーズやサワークリーム\n",
      "\n",
      "このレシピは基本のカレーですが、具材やスパイス類を変えることで、お好みのカレーを楽しんでください！おいしく仕上げてくださいね。\n"
     ]
    }
   ],
   "source": [
    "prompt = '''\\\n",
    "以下の料理のレシピを考えてください。\n",
    "\n",
    "料理名: \"\"\"\n",
    "{dish}\n",
    "\"\"\"\n",
    "'''\n",
    "\n",
    "\n",
    "def generate_recipe(dish: str) -> str:\n",
    "    response = client.chat.completions.create(\n",
    "        model=\"gpt-4o-mini\",\n",
    "        messages=[\n",
    "            {\"role\": \"user\", \"content\": prompt.format(dish=dish)},\n",
    "        ],\n",
    "    )\n",
    "    return response.choices[0].message.content\n",
    "\n",
    "\n",
    "recipe = generate_recipe(\"カレー\")\n",
    "print(recipe)"
   ]
  },
  {
   "cell_type": "code",
   "execution_count": 52,
   "id": "4b96aa0a-4dec-4f6b-b68b-cea1b6009663",
   "metadata": {},
   "outputs": [
    {
     "data": {
      "text/plain": [
       "'以下の料理のレシピを考えてください。\\n\\n料理名: \"\"\"\\n{dish}\\n\"\"\"\\n'"
      ]
     },
     "execution_count": 52,
     "metadata": {},
     "output_type": "execute_result"
    }
   ],
   "source": [
    "prompt"
   ]
  },
  {
   "cell_type": "code",
   "execution_count": null,
   "id": "42f3cf8b-52a9-43b4-a173-ab7d45d9306c",
   "metadata": {},
   "outputs": [],
   "source": [
    "\n"
   ]
  },
  {
   "cell_type": "code",
   "execution_count": null,
   "id": "68d5cff8-68fd-4152-839d-63cfe3ca6d7e",
   "metadata": {},
   "outputs": [],
   "source": []
  },
  {
   "cell_type": "code",
   "execution_count": null,
   "id": "98f3311c-b3c0-423d-951c-ec6edff55d02",
   "metadata": {},
   "outputs": [],
   "source": []
  },
  {
   "cell_type": "code",
   "execution_count": null,
   "id": "27934d47-b65a-4625-99f3-5b1e1eed7c64",
   "metadata": {},
   "outputs": [],
   "source": []
  },
  {
   "cell_type": "code",
   "execution_count": null,
   "id": "fb429852-c076-4a63-ac7c-d959c15efc79",
   "metadata": {},
   "outputs": [],
   "source": []
  },
  {
   "cell_type": "code",
   "execution_count": null,
   "id": "87bcc537-0299-41eb-858e-7c4f72bc69eb",
   "metadata": {},
   "outputs": [],
   "source": []
  }
 ],
 "metadata": {
  "kernelspec": {
   "display_name": "Python 3 (ipykernel)",
   "language": "python",
   "name": "python3"
  },
  "language_info": {
   "codemirror_mode": {
    "name": "ipython",
    "version": 3
   },
   "file_extension": ".py",
   "mimetype": "text/x-python",
   "name": "python",
   "nbconvert_exporter": "python",
   "pygments_lexer": "ipython3",
   "version": "3.12.7"
  }
 },
 "nbformat": 4,
 "nbformat_minor": 5
}
