{
 "cells": [
  {
   "cell_type": "code",
   "execution_count": 421,
   "id": "f47f11e7-d62f-40e1-a312-771484c17082",
   "metadata": {},
   "outputs": [],
   "source": [
    "import numpy as np\n",
    "import pandas as pd\n",
    "import matplotlib.pyplot as plt\n",
    "import seaborn as sns\n",
    "from sklearn.model_selection import train_test_split\n",
    "from sklearn.preprocessing import OrdinalEncoder, StandardScaler\n",
    "%matplotlib inline\n",
    "\n",
    "import warnings\n",
    "warnings.simplefilter('ignore')"
   ]
  },
  {
   "cell_type": "code",
   "execution_count": 359,
   "id": "a4b09fcd-1f99-4d1a-acd1-8c0d6b94beed",
   "metadata": {},
   "outputs": [],
   "source": [
    "#データのダウンロード\n",
    "train_data = pd.read_csv('csv/train.csv', index_col=0)\n",
    "test_data = pd.read_csv('csv/test.csv', index_col=0)\n",
    "val_data = pd.read_csv('csv/sample_submission.csv', index_col=0, header=None)"
   ]
  },
  {
   "cell_type": "code",
   "execution_count": 360,
   "id": "05f7b09e-e634-4b73-8211-d75dd6bc0201",
   "metadata": {},
   "outputs": [
    {
     "data": {
      "text/html": [
       "<div>\n",
       "<style scoped>\n",
       "    .dataframe tbody tr th:only-of-type {\n",
       "        vertical-align: middle;\n",
       "    }\n",
       "\n",
       "    .dataframe tbody tr th {\n",
       "        vertical-align: top;\n",
       "    }\n",
       "\n",
       "    .dataframe thead th {\n",
       "        text-align: right;\n",
       "    }\n",
       "</style>\n",
       "<table border=\"1\" class=\"dataframe\">\n",
       "  <thead>\n",
       "    <tr style=\"text-align: right;\">\n",
       "      <th></th>\n",
       "      <th>created_at</th>\n",
       "      <th>tree_dbh</th>\n",
       "      <th>curb_loc</th>\n",
       "      <th>health</th>\n",
       "      <th>steward</th>\n",
       "      <th>guards</th>\n",
       "      <th>sidewalk</th>\n",
       "      <th>user_type</th>\n",
       "      <th>problems</th>\n",
       "      <th>spc_common</th>\n",
       "      <th>...</th>\n",
       "      <th>nta</th>\n",
       "      <th>nta_name</th>\n",
       "      <th>borocode</th>\n",
       "      <th>boro_ct</th>\n",
       "      <th>boroname</th>\n",
       "      <th>zip_city</th>\n",
       "      <th>cb_num</th>\n",
       "      <th>st_senate</th>\n",
       "      <th>st_assem</th>\n",
       "      <th>cncldist</th>\n",
       "    </tr>\n",
       "  </thead>\n",
       "  <tbody>\n",
       "    <tr>\n",
       "      <th>0</th>\n",
       "      <td>2015-06-29</td>\n",
       "      <td>14</td>\n",
       "      <td>OnCurb</td>\n",
       "      <td>1</td>\n",
       "      <td>NaN</td>\n",
       "      <td>NaN</td>\n",
       "      <td>Damage</td>\n",
       "      <td>Volunteer</td>\n",
       "      <td>NaN</td>\n",
       "      <td>English oak</td>\n",
       "      <td>...</td>\n",
       "      <td>QN45</td>\n",
       "      <td>Douglas Manor-Douglaston-Little Neck</td>\n",
       "      <td>4</td>\n",
       "      <td>4152901</td>\n",
       "      <td>Queens</td>\n",
       "      <td>Little Neck</td>\n",
       "      <td>411</td>\n",
       "      <td>11</td>\n",
       "      <td>25</td>\n",
       "      <td>23</td>\n",
       "    </tr>\n",
       "    <tr>\n",
       "      <th>1</th>\n",
       "      <td>2016-09-21</td>\n",
       "      <td>5</td>\n",
       "      <td>OnCurb</td>\n",
       "      <td>1</td>\n",
       "      <td>3or4</td>\n",
       "      <td>Helpful</td>\n",
       "      <td>NoDamage</td>\n",
       "      <td>Volunteer</td>\n",
       "      <td>NaN</td>\n",
       "      <td>crimson king maple</td>\n",
       "      <td>...</td>\n",
       "      <td>BX05</td>\n",
       "      <td>Bedford Park-Fordham North</td>\n",
       "      <td>2</td>\n",
       "      <td>2039901</td>\n",
       "      <td>Bronx</td>\n",
       "      <td>Bronx</td>\n",
       "      <td>207</td>\n",
       "      <td>33</td>\n",
       "      <td>78</td>\n",
       "      <td>15</td>\n",
       "    </tr>\n",
       "    <tr>\n",
       "      <th>2</th>\n",
       "      <td>2015-09-13</td>\n",
       "      <td>26</td>\n",
       "      <td>OnCurb</td>\n",
       "      <td>2</td>\n",
       "      <td>NaN</td>\n",
       "      <td>NaN</td>\n",
       "      <td>NoDamage</td>\n",
       "      <td>Volunteer</td>\n",
       "      <td>StonesBranchLights</td>\n",
       "      <td>English oak</td>\n",
       "      <td>...</td>\n",
       "      <td>SI01</td>\n",
       "      <td>Annadale-Huguenot-Prince's Bay-Eltingville</td>\n",
       "      <td>5</td>\n",
       "      <td>5017011</td>\n",
       "      <td>Staten Island</td>\n",
       "      <td>Staten Island</td>\n",
       "      <td>503</td>\n",
       "      <td>24</td>\n",
       "      <td>62</td>\n",
       "      <td>51</td>\n",
       "    </tr>\n",
       "    <tr>\n",
       "      <th>3</th>\n",
       "      <td>2016-05-09</td>\n",
       "      <td>15</td>\n",
       "      <td>OnCurb</td>\n",
       "      <td>0</td>\n",
       "      <td>NaN</td>\n",
       "      <td>NaN</td>\n",
       "      <td>Damage</td>\n",
       "      <td>NYC Parks Staff</td>\n",
       "      <td>NaN</td>\n",
       "      <td>honeylocust</td>\n",
       "      <td>...</td>\n",
       "      <td>SI11</td>\n",
       "      <td>Charleston-Richmond Valley-Tottenville</td>\n",
       "      <td>5</td>\n",
       "      <td>5024401</td>\n",
       "      <td>Staten Island</td>\n",
       "      <td>Staten Island</td>\n",
       "      <td>503</td>\n",
       "      <td>24</td>\n",
       "      <td>62</td>\n",
       "      <td>51</td>\n",
       "    </tr>\n",
       "    <tr>\n",
       "      <th>4</th>\n",
       "      <td>2016-06-24</td>\n",
       "      <td>23</td>\n",
       "      <td>OnCurb</td>\n",
       "      <td>1</td>\n",
       "      <td>NaN</td>\n",
       "      <td>NaN</td>\n",
       "      <td>NoDamage</td>\n",
       "      <td>Volunteer</td>\n",
       "      <td>Stones</td>\n",
       "      <td>London planetree</td>\n",
       "      <td>...</td>\n",
       "      <td>MN03</td>\n",
       "      <td>Central Harlem North-Polo Grounds</td>\n",
       "      <td>1</td>\n",
       "      <td>1022102</td>\n",
       "      <td>Manhattan</td>\n",
       "      <td>New York</td>\n",
       "      <td>110</td>\n",
       "      <td>30</td>\n",
       "      <td>70</td>\n",
       "      <td>9</td>\n",
       "    </tr>\n",
       "  </tbody>\n",
       "</table>\n",
       "<p>5 rows × 21 columns</p>\n",
       "</div>"
      ],
      "text/plain": [
       "   created_at  tree_dbh curb_loc  health steward   guards  sidewalk  \\\n",
       "0  2015-06-29        14   OnCurb       1     NaN      NaN    Damage   \n",
       "1  2016-09-21         5   OnCurb       1    3or4  Helpful  NoDamage   \n",
       "2  2015-09-13        26   OnCurb       2     NaN      NaN  NoDamage   \n",
       "3  2016-05-09        15   OnCurb       0     NaN      NaN    Damage   \n",
       "4  2016-06-24        23   OnCurb       1     NaN      NaN  NoDamage   \n",
       "\n",
       "         user_type            problems          spc_common  ...   nta  \\\n",
       "0        Volunteer                 NaN         English oak  ...  QN45   \n",
       "1        Volunteer                 NaN  crimson king maple  ...  BX05   \n",
       "2        Volunteer  StonesBranchLights         English oak  ...  SI01   \n",
       "3  NYC Parks Staff                 NaN         honeylocust  ...  SI11   \n",
       "4        Volunteer              Stones    London planetree  ...  MN03   \n",
       "\n",
       "                                     nta_name borocode  boro_ct  \\\n",
       "0        Douglas Manor-Douglaston-Little Neck        4  4152901   \n",
       "1                  Bedford Park-Fordham North        2  2039901   \n",
       "2  Annadale-Huguenot-Prince's Bay-Eltingville        5  5017011   \n",
       "3      Charleston-Richmond Valley-Tottenville        5  5024401   \n",
       "4           Central Harlem North-Polo Grounds        1  1022102   \n",
       "\n",
       "        boroname       zip_city cb_num  st_senate  st_assem  cncldist  \n",
       "0         Queens    Little Neck    411         11        25        23  \n",
       "1          Bronx          Bronx    207         33        78        15  \n",
       "2  Staten Island  Staten Island    503         24        62        51  \n",
       "3  Staten Island  Staten Island    503         24        62        51  \n",
       "4      Manhattan       New York    110         30        70         9  \n",
       "\n",
       "[5 rows x 21 columns]"
      ]
     },
     "execution_count": 360,
     "metadata": {},
     "output_type": "execute_result"
    }
   ],
   "source": [
    "train_data.head()"
   ]
  },
  {
   "cell_type": "code",
   "execution_count": 361,
   "id": "d2de6c32-fabd-4a68-bbe8-93cbd3beb5b6",
   "metadata": {},
   "outputs": [
    {
     "data": {
      "text/plain": [
       "(19984, 21)"
      ]
     },
     "execution_count": 361,
     "metadata": {},
     "output_type": "execute_result"
    }
   ],
   "source": [
    "#訓練データのデータ、特徴量数\n",
    "train_data.shape"
   ]
  },
  {
   "cell_type": "code",
   "execution_count": 435,
   "id": "41ac19aa-07d1-4a82-a980-48fb4fd095e0",
   "metadata": {},
   "outputs": [],
   "source": [
    "train_df = train_data.copy()\n",
    "test_df = test_data.copy()"
   ]
  },
  {
   "cell_type": "code",
   "execution_count": 436,
   "id": "5bfad135-5edc-44d6-9737-37686bf601a2",
   "metadata": {},
   "outputs": [
    {
     "data": {
      "text/plain": [
       "health\n",
       "0     3535\n",
       "1    15751\n",
       "2      698\n",
       "Name: count, dtype: int64"
      ]
     },
     "execution_count": 436,
     "metadata": {},
     "output_type": "execute_result"
    }
   ],
   "source": [
    "\"\"\"\n",
    "不均衡データ\n",
    "\"\"\"\n",
    "train_df['health'].value_counts().sort_index()"
   ]
  },
  {
   "cell_type": "code",
   "execution_count": 364,
   "id": "c3971a16-2aa8-44a2-9247-dc8ed763a476",
   "metadata": {},
   "outputs": [
    {
     "name": "stdout",
     "output_type": "stream",
     "text": [
      "<class 'pandas.core.frame.DataFrame'>\n",
      "Index: 19984 entries, 0 to 19983\n",
      "Data columns (total 21 columns):\n",
      " #   Column      Non-Null Count  Dtype \n",
      "---  ------      --------------  ----- \n",
      " 0   created_at  19984 non-null  object\n",
      " 1   tree_dbh    19984 non-null  int64 \n",
      " 2   curb_loc    19984 non-null  object\n",
      " 3   health      19984 non-null  int64 \n",
      " 4   steward     5101 non-null   object\n",
      " 5   guards      5041 non-null   object\n",
      " 6   sidewalk    19984 non-null  object\n",
      " 7   user_type   19984 non-null  object\n",
      " 8   problems    7741 non-null   object\n",
      " 9   spc_common  19984 non-null  object\n",
      " 10  spc_latin   19984 non-null  object\n",
      " 11  nta         19984 non-null  object\n",
      " 12  nta_name    19984 non-null  object\n",
      " 13  borocode    19984 non-null  int64 \n",
      " 14  boro_ct     19984 non-null  int64 \n",
      " 15  boroname    19984 non-null  object\n",
      " 16  zip_city    19984 non-null  object\n",
      " 17  cb_num      19984 non-null  int64 \n",
      " 18  st_senate   19984 non-null  int64 \n",
      " 19  st_assem    19984 non-null  int64 \n",
      " 20  cncldist    19984 non-null  int64 \n",
      "dtypes: int64(8), object(13)\n",
      "memory usage: 3.4+ MB\n"
     ]
    }
   ],
   "source": [
    "train_df.info()"
   ]
  },
  {
   "cell_type": "code",
   "execution_count": 365,
   "id": "db3fefb4-b9fe-4b5e-a899-edcf7825c32c",
   "metadata": {},
   "outputs": [
    {
     "name": "stdout",
     "output_type": "stream",
     "text": [
      "<class 'pandas.core.frame.DataFrame'>\n",
      "Index: 19702 entries, 19984 to 39968\n",
      "Data columns (total 20 columns):\n",
      " #   Column      Non-Null Count  Dtype \n",
      "---  ------      --------------  ----- \n",
      " 0   created_at  19702 non-null  object\n",
      " 1   tree_dbh    19702 non-null  int64 \n",
      " 2   curb_loc    19702 non-null  object\n",
      " 3   steward     5176 non-null   object\n",
      " 4   guards      5135 non-null   object\n",
      " 5   sidewalk    19702 non-null  object\n",
      " 6   user_type   19702 non-null  object\n",
      " 7   problems    7657 non-null   object\n",
      " 8   spc_common  19702 non-null  object\n",
      " 9   spc_latin   19702 non-null  object\n",
      " 10  nta         19702 non-null  object\n",
      " 11  nta_name    19702 non-null  object\n",
      " 12  borocode    19702 non-null  int64 \n",
      " 13  boro_ct     19702 non-null  int64 \n",
      " 14  boroname    19702 non-null  object\n",
      " 15  zip_city    19702 non-null  object\n",
      " 16  cb_num      19702 non-null  int64 \n",
      " 17  st_senate   19702 non-null  int64 \n",
      " 18  st_assem    19702 non-null  int64 \n",
      " 19  cncldist    19702 non-null  int64 \n",
      "dtypes: int64(7), object(13)\n",
      "memory usage: 3.2+ MB\n"
     ]
    }
   ],
   "source": [
    "test_data.info()"
   ]
  },
  {
   "cell_type": "code",
   "execution_count": 366,
   "id": "a7329ee3-f51a-40b1-a1ef-6e8b4092b95d",
   "metadata": {},
   "outputs": [
    {
     "data": {
      "text/plain": [
       "created_at        0\n",
       "tree_dbh          0\n",
       "curb_loc          0\n",
       "health            0\n",
       "steward       14883\n",
       "guards        14943\n",
       "sidewalk          0\n",
       "user_type         0\n",
       "problems      12243\n",
       "spc_common        0\n",
       "spc_latin         0\n",
       "nta               0\n",
       "nta_name          0\n",
       "borocode          0\n",
       "boro_ct           0\n",
       "boroname          0\n",
       "zip_city          0\n",
       "cb_num            0\n",
       "st_senate         0\n",
       "st_assem          0\n",
       "cncldist          0\n",
       "dtype: int64"
      ]
     },
     "execution_count": 366,
     "metadata": {},
     "output_type": "execute_result"
    }
   ],
   "source": [
    "#各特徴量の欠損値数\n",
    "train_df.isnull().sum()"
   ]
  },
  {
   "cell_type": "code",
   "execution_count": 367,
   "id": "8f79284d-3bf9-49c5-8607-2525192dbe6e",
   "metadata": {},
   "outputs": [
    {
     "data": {
      "text/plain": [
       "created_at        0\n",
       "tree_dbh          0\n",
       "curb_loc          0\n",
       "steward       14526\n",
       "guards        14567\n",
       "sidewalk          0\n",
       "user_type         0\n",
       "problems      12045\n",
       "spc_common        0\n",
       "spc_latin         0\n",
       "nta               0\n",
       "nta_name          0\n",
       "borocode          0\n",
       "boro_ct           0\n",
       "boroname          0\n",
       "zip_city          0\n",
       "cb_num            0\n",
       "st_senate         0\n",
       "st_assem          0\n",
       "cncldist          0\n",
       "dtype: int64"
      ]
     },
     "execution_count": 367,
     "metadata": {},
     "output_type": "execute_result"
    }
   ],
   "source": [
    "test_df.isnull().sum()"
   ]
  },
  {
   "cell_type": "code",
   "execution_count": 368,
   "id": "bf822ae2-4c9e-4d5a-8e05-7913a1e8eab5",
   "metadata": {},
   "outputs": [
    {
     "name": "stdout",
     "output_type": "stream",
     "text": [
      "steward\n",
      "1or2       3999\n",
      "3or4       1079\n",
      "4orMore      23\n",
      "Name: count, dtype: int64\n",
      "------------------------------\n",
      "guards\n",
      "Helpful    3650\n",
      "Unsure      737\n",
      "Harmful     654\n",
      "Name: count, dtype: int64\n",
      "------------------------------\n",
      "problems\n",
      "Stones                                  2219\n",
      "BranchLights                            1036\n",
      "StonesBranchLights                       762\n",
      "BranchOther                              408\n",
      "RootOther                                333\n",
      "                                        ... \n",
      "StonesRootOtherTrunkOtherBranchOther       8\n",
      "StonesRootOtherWiresRopeBranchOther        5\n",
      "StonesMetalGratesTrunkOther                4\n",
      "TrunkLightsBranchLightsBranchOther         4\n",
      "WiresRopeTrunkLightsBranchLights           4\n",
      "Name: count, Length: 73, dtype: int64\n",
      "------------------------------\n",
      "problemsのユニークデータ数\n"
     ]
    },
    {
     "data": {
      "text/plain": [
       "74"
      ]
     },
     "execution_count": 368,
     "metadata": {},
     "output_type": "execute_result"
    }
   ],
   "source": [
    "#欠損値を含む特徴量のデータ確認\n",
    "print(train_df['steward'].value_counts())\n",
    "print('-'*30)\n",
    "print(train_df['guards'].value_counts())\n",
    "print('-'*30)\n",
    "print(train_df['problems'].value_counts())\n",
    "print('-'*30)\n",
    "print('problemsのユニークデータ数')\n",
    "train_df['problems'].unique().shape[0]"
   ]
  },
  {
   "cell_type": "code",
   "execution_count": 369,
   "id": "32e12445-1871-40a1-829c-9399855266e8",
   "metadata": {},
   "outputs": [
    {
     "name": "stdout",
     "output_type": "stream",
     "text": [
      "steward\n",
      "1or2       4165\n",
      "3or4        989\n",
      "4orMore      22\n",
      "Name: count, dtype: int64\n",
      "------------------------------\n",
      "guards\n",
      "Helpful    3716\n",
      "Unsure      753\n",
      "Harmful     666\n",
      "Name: count, dtype: int64\n",
      "------------------------------\n",
      "problems\n",
      "Stones                                  2236\n",
      "BranchLights                            1009\n",
      "StonesBranchLights                       767\n",
      "BranchOther                              385\n",
      "RootOther                                384\n",
      "                                        ... \n",
      "StonesRootOtherTrunkOtherBranchOther       7\n",
      "WiresRopeTrunkLights                       6\n",
      "StonesTrunkLightsBranchLights              6\n",
      "WiresRopeTrunkLightsBranchLights           5\n",
      "RootOtherWiresRopeTrunkLights              4\n",
      "Name: count, Length: 73, dtype: int64\n",
      "------------------------------\n",
      "problemsのユニークデータ数\n"
     ]
    },
    {
     "data": {
      "text/plain": [
       "74"
      ]
     },
     "execution_count": 369,
     "metadata": {},
     "output_type": "execute_result"
    }
   ],
   "source": [
    "#----テストデーターーーーー\n",
    "print(test_df['steward'].value_counts())\n",
    "print('-'*30)\n",
    "print(test_df['guards'].value_counts())\n",
    "print('-'*30)\n",
    "print(test_df['problems'].value_counts())\n",
    "print('-'*30)\n",
    "print('problemsのユニークデータ数')\n",
    "test_df['problems'].unique().shape[0]"
   ]
  },
  {
   "cell_type": "code",
   "execution_count": 437,
   "id": "7253f6b0-e641-4cab-a05d-72529b2d46eb",
   "metadata": {},
   "outputs": [
    {
     "name": "stdout",
     "output_type": "stream",
     "text": [
      "------------------------------↓トレーニングデータ\n",
      "created_at    0\n",
      "tree_dbh      0\n",
      "curb_loc      0\n",
      "health        0\n",
      "steward       0\n",
      "guards        0\n",
      "sidewalk      0\n",
      "user_type     0\n",
      "problems      0\n",
      "spc_common    0\n",
      "spc_latin     0\n",
      "nta           0\n",
      "nta_name      0\n",
      "borocode      0\n",
      "boro_ct       0\n",
      "boroname      0\n",
      "zip_city      0\n",
      "cb_num        0\n",
      "st_senate     0\n",
      "st_assem      0\n",
      "cncldist      0\n",
      "dtype: int64\n",
      "------------------------------↓テストデータ\n",
      "created_at    0\n",
      "tree_dbh      0\n",
      "curb_loc      0\n",
      "steward       0\n",
      "guards        0\n",
      "sidewalk      0\n",
      "user_type     0\n",
      "problems      0\n",
      "spc_common    0\n",
      "spc_latin     0\n",
      "nta           0\n",
      "nta_name      0\n",
      "borocode      0\n",
      "boro_ct       0\n",
      "boroname      0\n",
      "zip_city      0\n",
      "cb_num        0\n",
      "st_senate     0\n",
      "st_assem      0\n",
      "cncldist      0\n",
      "dtype: int64\n"
     ]
    }
   ],
   "source": [
    "#欠損値をNULLに置き換え\n",
    "train_df.fillna('NULL', inplace=True)\n",
    "test_df.fillna('NULL', inplace=True)\n",
    "print('-'*30 + '↓トレーニングデータ')\n",
    "print(train_df.isnull().sum())\n",
    "print('-'*30 + '↓テストデータ')\n",
    "print(test_df.isnull().sum())"
   ]
  },
  {
   "cell_type": "code",
   "execution_count": 438,
   "id": "efd690cf-e087-4b75-855e-6c8387fa4d2d",
   "metadata": {},
   "outputs": [],
   "source": [
    "#problemを問題あり、なしのバイナリデータに変換\n",
    "train_df['bool_problems'] = train_df['problems'].apply(lambda x: 0 if x == 'NULL' else 1)\n",
    "test_df['bool_problems'] = test_df['problems'].apply(lambda x: 0 if x == 'NULL' else 1)"
   ]
  },
  {
   "cell_type": "code",
   "execution_count": 439,
   "id": "56837c26-1b6a-4d3f-b19d-2fa7dc8a0599",
   "metadata": {},
   "outputs": [
    {
     "data": {
      "text/html": [
       "<div>\n",
       "<style scoped>\n",
       "    .dataframe tbody tr th:only-of-type {\n",
       "        vertical-align: middle;\n",
       "    }\n",
       "\n",
       "    .dataframe tbody tr th {\n",
       "        vertical-align: top;\n",
       "    }\n",
       "\n",
       "    .dataframe thead th {\n",
       "        text-align: right;\n",
       "    }\n",
       "</style>\n",
       "<table border=\"1\" class=\"dataframe\">\n",
       "  <thead>\n",
       "    <tr style=\"text-align: right;\">\n",
       "      <th></th>\n",
       "      <th>bool_problems</th>\n",
       "      <th>problems</th>\n",
       "    </tr>\n",
       "  </thead>\n",
       "  <tbody>\n",
       "    <tr>\n",
       "      <th>0</th>\n",
       "      <td>0</td>\n",
       "      <td>NULL</td>\n",
       "    </tr>\n",
       "    <tr>\n",
       "      <th>1</th>\n",
       "      <td>0</td>\n",
       "      <td>NULL</td>\n",
       "    </tr>\n",
       "    <tr>\n",
       "      <th>2</th>\n",
       "      <td>1</td>\n",
       "      <td>StonesBranchLights</td>\n",
       "    </tr>\n",
       "    <tr>\n",
       "      <th>3</th>\n",
       "      <td>0</td>\n",
       "      <td>NULL</td>\n",
       "    </tr>\n",
       "    <tr>\n",
       "      <th>4</th>\n",
       "      <td>1</td>\n",
       "      <td>Stones</td>\n",
       "    </tr>\n",
       "    <tr>\n",
       "      <th>5</th>\n",
       "      <td>0</td>\n",
       "      <td>NULL</td>\n",
       "    </tr>\n",
       "    <tr>\n",
       "      <th>6</th>\n",
       "      <td>1</td>\n",
       "      <td>BranchLights</td>\n",
       "    </tr>\n",
       "    <tr>\n",
       "      <th>7</th>\n",
       "      <td>0</td>\n",
       "      <td>NULL</td>\n",
       "    </tr>\n",
       "    <tr>\n",
       "      <th>8</th>\n",
       "      <td>0</td>\n",
       "      <td>NULL</td>\n",
       "    </tr>\n",
       "    <tr>\n",
       "      <th>9</th>\n",
       "      <td>1</td>\n",
       "      <td>Stones</td>\n",
       "    </tr>\n",
       "  </tbody>\n",
       "</table>\n",
       "</div>"
      ],
      "text/plain": [
       "   bool_problems            problems\n",
       "0              0                NULL\n",
       "1              0                NULL\n",
       "2              1  StonesBranchLights\n",
       "3              0                NULL\n",
       "4              1              Stones\n",
       "5              0                NULL\n",
       "6              1        BranchLights\n",
       "7              0                NULL\n",
       "8              0                NULL\n",
       "9              1              Stones"
      ]
     },
     "execution_count": 439,
     "metadata": {},
     "output_type": "execute_result"
    }
   ],
   "source": [
    "train_df[['bool_problems', 'problems']].head(10)"
   ]
  },
  {
   "cell_type": "code",
   "execution_count": 440,
   "id": "bbac5c96-7a64-42d6-981b-3091a254e32e",
   "metadata": {},
   "outputs": [
    {
     "data": {
      "text/html": [
       "<div>\n",
       "<style scoped>\n",
       "    .dataframe tbody tr th:only-of-type {\n",
       "        vertical-align: middle;\n",
       "    }\n",
       "\n",
       "    .dataframe tbody tr th {\n",
       "        vertical-align: top;\n",
       "    }\n",
       "\n",
       "    .dataframe thead th {\n",
       "        text-align: right;\n",
       "    }\n",
       "</style>\n",
       "<table border=\"1\" class=\"dataframe\">\n",
       "  <thead>\n",
       "    <tr style=\"text-align: right;\">\n",
       "      <th></th>\n",
       "      <th>bool_problems</th>\n",
       "      <th>problems</th>\n",
       "    </tr>\n",
       "  </thead>\n",
       "  <tbody>\n",
       "    <tr>\n",
       "      <th>19984</th>\n",
       "      <td>0</td>\n",
       "      <td>NULL</td>\n",
       "    </tr>\n",
       "    <tr>\n",
       "      <th>19985</th>\n",
       "      <td>0</td>\n",
       "      <td>NULL</td>\n",
       "    </tr>\n",
       "    <tr>\n",
       "      <th>19986</th>\n",
       "      <td>0</td>\n",
       "      <td>NULL</td>\n",
       "    </tr>\n",
       "    <tr>\n",
       "      <th>19987</th>\n",
       "      <td>0</td>\n",
       "      <td>NULL</td>\n",
       "    </tr>\n",
       "    <tr>\n",
       "      <th>19988</th>\n",
       "      <td>1</td>\n",
       "      <td>Stones</td>\n",
       "    </tr>\n",
       "    <tr>\n",
       "      <th>19989</th>\n",
       "      <td>0</td>\n",
       "      <td>NULL</td>\n",
       "    </tr>\n",
       "    <tr>\n",
       "      <th>19990</th>\n",
       "      <td>0</td>\n",
       "      <td>NULL</td>\n",
       "    </tr>\n",
       "    <tr>\n",
       "      <th>19991</th>\n",
       "      <td>1</td>\n",
       "      <td>Stones</td>\n",
       "    </tr>\n",
       "    <tr>\n",
       "      <th>19992</th>\n",
       "      <td>1</td>\n",
       "      <td>StonesRootOtherTrunkOther</td>\n",
       "    </tr>\n",
       "    <tr>\n",
       "      <th>19993</th>\n",
       "      <td>1</td>\n",
       "      <td>RootOther</td>\n",
       "    </tr>\n",
       "  </tbody>\n",
       "</table>\n",
       "</div>"
      ],
      "text/plain": [
       "       bool_problems                   problems\n",
       "19984              0                       NULL\n",
       "19985              0                       NULL\n",
       "19986              0                       NULL\n",
       "19987              0                       NULL\n",
       "19988              1                     Stones\n",
       "19989              0                       NULL\n",
       "19990              0                       NULL\n",
       "19991              1                     Stones\n",
       "19992              1  StonesRootOtherTrunkOther\n",
       "19993              1                  RootOther"
      ]
     },
     "execution_count": 440,
     "metadata": {},
     "output_type": "execute_result"
    }
   ],
   "source": [
    "test_df[['bool_problems', 'problems']].head(10)"
   ]
  },
  {
   "cell_type": "code",
   "execution_count": 441,
   "id": "698088be-0402-47e8-95bc-725be0cf306b",
   "metadata": {},
   "outputs": [],
   "source": [
    "#必要な特徴量を選抜\n",
    "val_df = train_df.pop('health')\n",
    "select_train_df = train_df.drop(['created_at', 'spc_latin', 'nta_name','boroname'], axis=1)\n",
    "select_test_df = test_df.drop(['created_at', 'spc_latin', 'nta_name','boroname'], axis=1)"
   ]
  },
  {
   "cell_type": "code",
   "execution_count": 442,
   "id": "ee9a3ca3-ee6f-4c0e-b4b3-36a3481d72e3",
   "metadata": {},
   "outputs": [
    {
     "data": {
      "text/html": [
       "<div>\n",
       "<style scoped>\n",
       "    .dataframe tbody tr th:only-of-type {\n",
       "        vertical-align: middle;\n",
       "    }\n",
       "\n",
       "    .dataframe tbody tr th {\n",
       "        vertical-align: top;\n",
       "    }\n",
       "\n",
       "    .dataframe thead th {\n",
       "        text-align: right;\n",
       "    }\n",
       "</style>\n",
       "<table border=\"1\" class=\"dataframe\">\n",
       "  <thead>\n",
       "    <tr style=\"text-align: right;\">\n",
       "      <th></th>\n",
       "      <th>tree_dbh</th>\n",
       "      <th>curb_loc</th>\n",
       "      <th>steward</th>\n",
       "      <th>guards</th>\n",
       "      <th>sidewalk</th>\n",
       "      <th>user_type</th>\n",
       "      <th>problems</th>\n",
       "      <th>spc_common</th>\n",
       "      <th>nta</th>\n",
       "      <th>borocode</th>\n",
       "      <th>boro_ct</th>\n",
       "      <th>zip_city</th>\n",
       "      <th>cb_num</th>\n",
       "      <th>st_senate</th>\n",
       "      <th>st_assem</th>\n",
       "      <th>cncldist</th>\n",
       "      <th>bool_problems</th>\n",
       "    </tr>\n",
       "  </thead>\n",
       "  <tbody>\n",
       "    <tr>\n",
       "      <th>0</th>\n",
       "      <td>14</td>\n",
       "      <td>OnCurb</td>\n",
       "      <td>NULL</td>\n",
       "      <td>NULL</td>\n",
       "      <td>Damage</td>\n",
       "      <td>Volunteer</td>\n",
       "      <td>NULL</td>\n",
       "      <td>English oak</td>\n",
       "      <td>QN45</td>\n",
       "      <td>4</td>\n",
       "      <td>4152901</td>\n",
       "      <td>Little Neck</td>\n",
       "      <td>411</td>\n",
       "      <td>11</td>\n",
       "      <td>25</td>\n",
       "      <td>23</td>\n",
       "      <td>0</td>\n",
       "    </tr>\n",
       "    <tr>\n",
       "      <th>1</th>\n",
       "      <td>5</td>\n",
       "      <td>OnCurb</td>\n",
       "      <td>3or4</td>\n",
       "      <td>Helpful</td>\n",
       "      <td>NoDamage</td>\n",
       "      <td>Volunteer</td>\n",
       "      <td>NULL</td>\n",
       "      <td>crimson king maple</td>\n",
       "      <td>BX05</td>\n",
       "      <td>2</td>\n",
       "      <td>2039901</td>\n",
       "      <td>Bronx</td>\n",
       "      <td>207</td>\n",
       "      <td>33</td>\n",
       "      <td>78</td>\n",
       "      <td>15</td>\n",
       "      <td>0</td>\n",
       "    </tr>\n",
       "    <tr>\n",
       "      <th>2</th>\n",
       "      <td>26</td>\n",
       "      <td>OnCurb</td>\n",
       "      <td>NULL</td>\n",
       "      <td>NULL</td>\n",
       "      <td>NoDamage</td>\n",
       "      <td>Volunteer</td>\n",
       "      <td>StonesBranchLights</td>\n",
       "      <td>English oak</td>\n",
       "      <td>SI01</td>\n",
       "      <td>5</td>\n",
       "      <td>5017011</td>\n",
       "      <td>Staten Island</td>\n",
       "      <td>503</td>\n",
       "      <td>24</td>\n",
       "      <td>62</td>\n",
       "      <td>51</td>\n",
       "      <td>1</td>\n",
       "    </tr>\n",
       "    <tr>\n",
       "      <th>3</th>\n",
       "      <td>15</td>\n",
       "      <td>OnCurb</td>\n",
       "      <td>NULL</td>\n",
       "      <td>NULL</td>\n",
       "      <td>Damage</td>\n",
       "      <td>NYC Parks Staff</td>\n",
       "      <td>NULL</td>\n",
       "      <td>honeylocust</td>\n",
       "      <td>SI11</td>\n",
       "      <td>5</td>\n",
       "      <td>5024401</td>\n",
       "      <td>Staten Island</td>\n",
       "      <td>503</td>\n",
       "      <td>24</td>\n",
       "      <td>62</td>\n",
       "      <td>51</td>\n",
       "      <td>0</td>\n",
       "    </tr>\n",
       "    <tr>\n",
       "      <th>4</th>\n",
       "      <td>23</td>\n",
       "      <td>OnCurb</td>\n",
       "      <td>NULL</td>\n",
       "      <td>NULL</td>\n",
       "      <td>NoDamage</td>\n",
       "      <td>Volunteer</td>\n",
       "      <td>Stones</td>\n",
       "      <td>London planetree</td>\n",
       "      <td>MN03</td>\n",
       "      <td>1</td>\n",
       "      <td>1022102</td>\n",
       "      <td>New York</td>\n",
       "      <td>110</td>\n",
       "      <td>30</td>\n",
       "      <td>70</td>\n",
       "      <td>9</td>\n",
       "      <td>1</td>\n",
       "    </tr>\n",
       "  </tbody>\n",
       "</table>\n",
       "</div>"
      ],
      "text/plain": [
       "   tree_dbh curb_loc steward   guards  sidewalk        user_type  \\\n",
       "0        14   OnCurb    NULL     NULL    Damage        Volunteer   \n",
       "1         5   OnCurb    3or4  Helpful  NoDamage        Volunteer   \n",
       "2        26   OnCurb    NULL     NULL  NoDamage        Volunteer   \n",
       "3        15   OnCurb    NULL     NULL    Damage  NYC Parks Staff   \n",
       "4        23   OnCurb    NULL     NULL  NoDamage        Volunteer   \n",
       "\n",
       "             problems          spc_common   nta  borocode  boro_ct  \\\n",
       "0                NULL         English oak  QN45         4  4152901   \n",
       "1                NULL  crimson king maple  BX05         2  2039901   \n",
       "2  StonesBranchLights         English oak  SI01         5  5017011   \n",
       "3                NULL         honeylocust  SI11         5  5024401   \n",
       "4              Stones    London planetree  MN03         1  1022102   \n",
       "\n",
       "        zip_city  cb_num  st_senate  st_assem  cncldist  bool_problems  \n",
       "0    Little Neck     411         11        25        23              0  \n",
       "1          Bronx     207         33        78        15              0  \n",
       "2  Staten Island     503         24        62        51              1  \n",
       "3  Staten Island     503         24        62        51              0  \n",
       "4       New York     110         30        70         9              1  "
      ]
     },
     "execution_count": 442,
     "metadata": {},
     "output_type": "execute_result"
    }
   ],
   "source": [
    "select_train_df.head()"
   ]
  },
  {
   "cell_type": "code",
   "execution_count": 443,
   "id": "66902e76-5b99-4871-b3e8-319418d26365",
   "metadata": {},
   "outputs": [
    {
     "data": {
      "text/plain": [
       "tree_dbh          int64\n",
       "curb_loc         object\n",
       "steward          object\n",
       "guards           object\n",
       "sidewalk         object\n",
       "user_type        object\n",
       "problems         object\n",
       "spc_common       object\n",
       "nta              object\n",
       "borocode          int64\n",
       "boro_ct           int64\n",
       "zip_city         object\n",
       "cb_num            int64\n",
       "st_senate         int64\n",
       "st_assem          int64\n",
       "cncldist          int64\n",
       "bool_problems     int64\n",
       "dtype: object"
      ]
     },
     "execution_count": 443,
     "metadata": {},
     "output_type": "execute_result"
    }
   ],
   "source": [
    "select_train_df.dtypes"
   ]
  },
  {
   "cell_type": "code",
   "execution_count": 444,
   "id": "bdd5e6cb-a698-44ab-bcd3-e5fd508f37cc",
   "metadata": {},
   "outputs": [
    {
     "data": {
      "text/plain": [
       "tree_dbh          int64\n",
       "curb_loc         object\n",
       "steward          object\n",
       "guards           object\n",
       "sidewalk         object\n",
       "user_type        object\n",
       "problems         object\n",
       "spc_common       object\n",
       "nta              object\n",
       "borocode          int64\n",
       "boro_ct           int64\n",
       "zip_city         object\n",
       "cb_num            int64\n",
       "st_senate         int64\n",
       "st_assem          int64\n",
       "cncldist          int64\n",
       "bool_problems     int64\n",
       "dtype: object"
      ]
     },
     "execution_count": 444,
     "metadata": {},
     "output_type": "execute_result"
    }
   ],
   "source": [
    "select_test_df.dtypes"
   ]
  },
  {
   "cell_type": "code",
   "execution_count": 445,
   "id": "b1ff93f0-9a69-4757-882d-5ae89bd7069a",
   "metadata": {},
   "outputs": [],
   "source": [
    "#OrdinalEncodeのために数値コードのものをObject化\n",
    "int_labels =['borocode', 'boro_ct', 'cb_num', 'st_senate', 'st_assem', 'cncldist'] \n",
    "select_train_df[int_labels] = select_train_df[int_labels].astype(str)\n",
    "select_test_df[int_labels] = select_test_df[int_labels].astype(str)"
   ]
  },
  {
   "cell_type": "code",
   "execution_count": 446,
   "id": "853841a3-dcb9-43bc-a7ec-e9d54ecacca0",
   "metadata": {},
   "outputs": [],
   "source": [
    "#object型の特徴量を抽出\n",
    "object_train_df = select_train_df.loc[:, select_train_df.dtypes == 'object']\n",
    "object_test_df = select_test_df.loc[:, select_test_df.dtypes == 'object']"
   ]
  },
  {
   "cell_type": "code",
   "execution_count": 447,
   "id": "c47507fa-9ba2-4473-92de-e640b25a312b",
   "metadata": {},
   "outputs": [
    {
     "data": {
      "text/plain": [
       "15"
      ]
     },
     "execution_count": 447,
     "metadata": {},
     "output_type": "execute_result"
    }
   ],
   "source": [
    "len(extra_col)"
   ]
  },
  {
   "cell_type": "code",
   "execution_count": 448,
   "id": "c9d34c89-6458-47e3-bf17-12c931bb912f",
   "metadata": {},
   "outputs": [],
   "source": [
    "#ラベルエンコード\n",
    "\n",
    "#抽出したobjectの名前、空df\n",
    "extra_col = object_train_df.columns\n",
    "label_train_df = pd.DataFrame()\n",
    "label_test_df = pd.DataFrame(index=select_test_df.index)\n",
    "\n",
    "#ラベルエンコード\n",
    "oe = OrdinalEncoder()\n",
    "label_train_df[extra_col] = oe.fit_transform(object_train_df)\n",
    "label_test_df[extra_col] = oe.transform(object_test_df)\n",
    "label_test_df[extra_col] = oe.transform(object_test_df)\n",
    "\n",
    "\n",
    "# #ラベルエンコードしたデータに置き換え\n",
    "select_train_df[extra_col] = label_train_df\n",
    "select_test_df[extra_col] = label_test_df\n"
   ]
  },
  {
   "cell_type": "code",
   "execution_count": 449,
   "id": "387bb364-86d3-44e6-a9a1-5c599c9d7393",
   "metadata": {},
   "outputs": [
    {
     "data": {
      "text/plain": [
       "<Axes: >"
      ]
     },
     "execution_count": 449,
     "metadata": {},
     "output_type": "execute_result"
    },
    {
     "data": {
      "image/png": "[encoded data removed]",
      "text/plain": [
       "<Figure size 640x480 with 2 Axes>"
      ]
     },
     "metadata": {},
     "output_type": "display_data"
    }
   ],
   "source": [
    "sns.heatmap(select_train_df.corr())"
   ]
  },
  {
   "cell_type": "code",
   "execution_count": 450,
   "id": "37a981f1-289c-4ef6-8bea-ec1e8c094ea6",
   "metadata": {},
   "outputs": [
    {
     "data": {
      "text/plain": [
       "<Axes: >"
      ]
     },
     "execution_count": 450,
     "metadata": {},
     "output_type": "execute_result"
    },
    {
     "data": {
      "image/png": "[encoded data removed]",
      "text/plain": [
       "<Figure size 640x480 with 2 Axes>"
      ]
     },
     "metadata": {},
     "output_type": "display_data"
    }
   ],
   "source": [
    "sns.heatmap(select_test_df.corr())"
   ]
  },
  {
   "cell_type": "code",
   "execution_count": 451,
   "id": "08a92cd6-ca69-4fc4-8922-2f808cf01800",
   "metadata": {},
   "outputs": [],
   "source": [
    "#多重共線性を危惧して相関係数の高くて、必要度が低いものをドロップ　＝＞ 次回はVIFも検討\n",
    "select_train_df = select_train_df.drop(['boro_ct', 'cb_num', 'st_assem', 'zip_city'], axis=1)\n",
    "select_test_df = select_test_df.drop(['boro_ct', 'cb_num', 'st_assem', 'zip_city'], axis=1)"
   ]
  },
  {
   "cell_type": "code",
   "execution_count": 452,
   "id": "be938460-d5ed-43ae-ad94-d57860f49202",
   "metadata": {},
   "outputs": [
    {
     "data": {
      "text/plain": [
       "<Axes: >"
      ]
     },
     "execution_count": 452,
     "metadata": {},
     "output_type": "execute_result"
    },
    {
     "data": {
      "image/png": "[encoded data removed]",
      "text/plain": [
       "<Figure size 640x480 with 2 Axes>"
      ]
     },
     "metadata": {},
     "output_type": "display_data"
    }
   ],
   "source": [
    "sns.heatmap(select_train_df.corr())"
   ]
  },
  {
   "cell_type": "code",
   "execution_count": 453,
   "id": "0ef456a7-8639-4b28-92e5-e67f34b81acd",
   "metadata": {},
   "outputs": [
    {
     "data": {
      "text/plain": [
       "<Axes: >"
      ]
     },
     "execution_count": 453,
     "metadata": {},
     "output_type": "execute_result"
    },
    {
     "data": {
      "image/png": "[encoded data removed]",
      "text/plain": [
       "<Figure size 640x480 with 2 Axes>"
      ]
     },
     "metadata": {},
     "output_type": "display_data"
    }
   ],
   "source": [
    "sns.heatmap(select_test_df.corr())"
   ]
  },
  {
   "cell_type": "code",
   "execution_count": null,
   "id": "a383d38a-df44-4ecd-84d9-54981b0fd84b",
   "metadata": {},
   "outputs": [],
   "source": [
    "\"\"\"\n",
    "・tree_dbhの標準化　ー＞　今回はlightGBMを使用するので必要ない\n",
    "・今までの処理をまとめる\n",
    "・lightGBMをする\n",
    "・結果からハイパーパラメータチューニング\n",
    "\n",
    "\"\"\""
   ]
  },
  {
   "cell_type": "code",
   "execution_count": 429,
   "id": "024d5696-714e-40c1-a5b2-620a4cb252d5",
   "metadata": {},
   "outputs": [],
   "source": []
  },
  {
   "cell_type": "code",
   "execution_count": null,
   "id": "0fa95aa8-7465-4eb0-be16-1fb4fb08705a",
   "metadata": {},
   "outputs": [],
   "source": []
  },
  {
   "cell_type": "code",
   "execution_count": null,
   "id": "690db85d-7db6-4749-9e27-d74e043fbebe",
   "metadata": {},
   "outputs": [],
   "source": []
  },
  {
   "cell_type": "markdown",
   "id": "6e535fd0-846d-494d-ad49-0cb863053674",
   "metadata": {},
   "source": [
    "## ここから機械学習"
   ]
  },
  {
   "cell_type": "code",
   "execution_count": null,
   "id": "98399121-c022-4452-9d1a-a13124757dc1",
   "metadata": {},
   "outputs": [],
   "source": []
  },
  {
   "cell_type": "code",
   "execution_count": null,
   "id": "78b92c57-8f67-4857-8006-9209de1aad74",
   "metadata": {},
   "outputs": [],
   "source": []
  },
  {
   "cell_type": "code",
   "execution_count": null,
   "id": "21fc7706-e0ac-4dab-98be-21de0e68c774",
   "metadata": {},
   "outputs": [],
   "source": []
  },
  {
   "cell_type": "code",
   "execution_count": null,
   "id": "b30be87d-4138-45aa-bffd-dc60cc055835",
   "metadata": {},
   "outputs": [],
   "source": []
  },
  {
   "cell_type": "code",
   "execution_count": null,
   "id": "5169cbdc-accd-4e99-bead-64db48ce548e",
   "metadata": {},
   "outputs": [],
   "source": []
  },
  {
   "cell_type": "code",
   "execution_count": null,
   "id": "b743a40e-53c9-4c63-86dc-cad52de2b879",
   "metadata": {},
   "outputs": [],
   "source": []
  },
  {
   "cell_type": "code",
   "execution_count": null,
   "id": "fcc02525-85e7-4057-963b-dffb90b154af",
   "metadata": {},
   "outputs": [],
   "source": []
  },
  {
   "cell_type": "code",
   "execution_count": null,
   "id": "8de72d95-4872-4a45-a4d8-96c722e409b6",
   "metadata": {},
   "outputs": [],
   "source": []
  },
  {
   "cell_type": "code",
   "execution_count": null,
   "id": "9938cde1-5cd5-4009-a4bb-4543c18c1fb7",
   "metadata": {},
   "outputs": [],
   "source": []
  },
  {
   "cell_type": "code",
   "execution_count": null,
   "id": "850a8148-af24-498f-a6a6-60a76ad7e72f",
   "metadata": {},
   "outputs": [],
   "source": []
  }
 ],
 "metadata": {
  "kernelspec": {
   "display_name": "Python 3 (ipykernel)",
   "language": "python",
   "name": "python3"
  },
  "language_info": {
   "codemirror_mode": {
    "name": "ipython",
    "version": 3
   },
   "file_extension": ".py",
   "mimetype": "text/x-python",
   "name": "python",
   "nbconvert_exporter": "python",
   "pygments_lexer": "ipython3",
   "version": "3.9.13"
  }
 },
 "nbformat": 4,
 "nbformat_minor": 5
}
