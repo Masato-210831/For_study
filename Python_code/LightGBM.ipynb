{
 "cells": [
  {
   "cell_type": "code",
   "execution_count": 4,
   "id": "34809968-2171-428b-94ce-0cf3fc146a8a",
   "metadata": {},
   "outputs": [
    {
     "name": "stderr",
     "output_type": "stream",
     "text": [
      "/tmp/ipykernel_67/3377016417.py:11: DtypeWarning: Columns (10) have mixed types. Specify dtype option on import or set low_memory=False.\n",
      "  data_list.append(pd.read_csv(file, index_col=0))\n",
      "/tmp/ipykernel_67/3377016417.py:11: DtypeWarning: Columns (10) have mixed types. Specify dtype option on import or set low_memory=False.\n",
      "  data_list.append(pd.read_csv(file, index_col=0))\n"
     ]
    }
   ],
   "source": [
    "import glob\n",
    "import pandas as pd\n",
    "import numpy as np\n",
    "import lightgbm as lgb\n",
    "from sklearn.model_selection import train_test_split\n",
    "from sklearn.metrics import mean_absolute_error as mae\n",
    "\n",
    "files = glob.glob(\"csv/train/*.csv\")\n",
    "data_list = []\n",
    "for file in files:\n",
    "    data_list.append(pd.read_csv(file, index_col=0))\n",
    "df = pd.concat(data_list)"
   ]
  },
  {
   "cell_type": "code",
   "execution_count": 7,
   "id": "0935aa13-1593-41e0-ab3f-44c641c6ec5a",
   "metadata": {},
   "outputs": [
    {
     "name": "stdout",
     "output_type": "stream",
     "text": [
      "<class 'pandas.core.frame.DataFrame'>\n",
      "Index: 637351 entries, 1060685 to 47003572\n",
      "Data columns (total 27 columns):\n",
      " #   Column        Non-Null Count   Dtype  \n",
      "---  ------        --------------   -----  \n",
      " 0   種類            637351 non-null  object \n",
      " 1   地域            0 non-null       float64\n",
      " 2   市区町村コード       637351 non-null  int64  \n",
      " 3   都道府県名         637351 non-null  object \n",
      " 4   市区町村名         637351 non-null  object \n",
      " 5   地区名           637060 non-null  object \n",
      " 6   最寄駅：名称        634732 non-null  object \n",
      " 7   最寄駅：距離（分）     614306 non-null  object \n",
      " 8   間取り           615609 non-null  object \n",
      " 9   面積（㎡）         637351 non-null  object \n",
      " 10  土地の形状         0 non-null       float64\n",
      " 11  間口            0 non-null       float64\n",
      " 12  延床面積（㎡）       0 non-null       float64\n",
      " 13  建築年           619117 non-null  object \n",
      " 14  建物の構造         623423 non-null  object \n",
      " 15  用途            591214 non-null  object \n",
      " 16  今後の利用目的       275091 non-null  object \n",
      " 17  前面道路：方位       0 non-null       float64\n",
      " 18  前面道路：種類       0 non-null       float64\n",
      " 19  前面道路：幅員（ｍ）    0 non-null       float64\n",
      " 20  都市計画          618786 non-null  object \n",
      " 21  建ぺい率（％）       614848 non-null  float64\n",
      " 22  容積率（％）        614848 non-null  float64\n",
      " 23  取引時点          637351 non-null  object \n",
      " 24  改装            580431 non-null  object \n",
      " 25  取引の事情等        18275 non-null   object \n",
      " 26  取引価格（総額）_log  637351 non-null  float64\n",
      "dtypes: float64(10), int64(1), object(16)\n",
      "memory usage: 136.2+ MB\n"
     ]
    }
   ],
   "source": [
    "df.info()"
   ]
  },
  {
   "cell_type": "code",
   "execution_count": 8,
   "id": "79bbb246-ebe1-4d0f-882e-3cd579d94b9e",
   "metadata": {},
   "outputs": [],
   "source": [
    "\"\"\"\n",
    "前処理\n",
    "XGBoostの例と同じなので、コピペ\n",
    "\"\"\"\n",
    "def data_pre(df):\n",
    "    nonnull_list = []\n",
    "    for col in df.columns:\n",
    "        nonnull = df[col].count()\n",
    "        if nonnull == 0:\n",
    "            nonnull_list.append(col)\n",
    "    df = df.drop(nonnull_list, axis=1)\n",
    "\n",
    "    df = df.drop(\"市区町村名\", axis=1)\n",
    "\n",
    "    df = df.drop(\"種類\", axis=1)\n",
    "\n",
    "    dis = {\n",
    "        \"30分?60分\":45,\n",
    "        \"1H?1H30\":75,\n",
    "        \"2H?\":120,\n",
    "        \"1H30?2H\":105\n",
    "    }\n",
    "    df[\"最寄駅：距離（分）\"] = df[\"最寄駅：距離（分）\"].replace(dis).astype(float)\n",
    "\n",
    "    df[\"面積（㎡）\"] = df[\"面積（㎡）\"].replace(\"2000㎡以上\", 2000).astype(float)\n",
    "\n",
    "\n",
    "    y_list = {}\n",
    "    for i in df[\"建築年\"].value_counts().keys():\n",
    "        if \"平成\" in i:\n",
    "            num = float(i.split(\"平成\")[1].split(\"年\")[0])\n",
    "            year = 33 - num\n",
    "        if \"令和\" in i:\n",
    "            num = float(i.split(\"令和\")[1].split(\"年\")[0])\n",
    "            year = 3 - num\n",
    "        if \"昭和\" in i:\n",
    "            num = float(i.split(\"昭和\")[1].split(\"年\")[0])\n",
    "            year = 96 - num\n",
    "        y_list[i] = year\n",
    "    y_list[\"戦前\"] = 76\n",
    "    df[\"建築年\"] = df[\"建築年\"].replace(y_list)\n",
    "\n",
    "    year = {\n",
    "        \"年第１四半期\": \".25\",\n",
    "        \"年第２四半期\": \".50\",\n",
    "        \"年第３四半期\": \".75\",\n",
    "        \"年第４四半期\": \".99\"\n",
    "    }\n",
    "    year_list = {}\n",
    "    for i in df[\"取引時点\"].value_counts().keys():\n",
    "        for k, j in year.items():\n",
    "            if k in i:\n",
    "                year_rep = i.replace(k, j)\n",
    "        year_list[i] = year_rep\n",
    "    df[\"取引時点\"] = df[\"取引時点\"].replace(year_list).astype(float)\n",
    "    \n",
    "    for col in [\"都道府県名\", \"地区名\", \"最寄駅：名称\", \"間取り\", \"建物の構造\", \"用途\", \"今後の利用目的\", \"都市計画\", \"改装\", \"取引の事情等\"]:\n",
    "                df[col] = df[col].astype(\"category\")\n",
    "    \n",
    "    return df\n",
    "    \n",
    "df = data_pre(df)\n"
   ]
  },
  {
   "cell_type": "code",
   "execution_count": 19,
   "id": "dfe5acda-6524-4115-b9dc-c700c0738ade",
   "metadata": {},
   "outputs": [
    {
     "name": "stdout",
     "output_type": "stream",
     "text": [
      "[LightGBM] [Warning] Categorical features with more bins than the configured maximum bin number found.\n",
      "[LightGBM] [Warning] For categorical features, max_bin and max_bin_by_feature may be ignored with a large number of categories.\n",
      "[LightGBM] [Info] Auto-choosing col-wise multi-threading, the overhead of testing was 0.064771 seconds.\n",
      "You can set `force_col_wise=true` to remove the overhead.\n",
      "[LightGBM] [Info] Total Bins 11646\n",
      "[LightGBM] [Info] Number of data points in the train set: 509880, number of used features: 17\n",
      "[LightGBM] [Info] Start training from score 7.217676\n",
      "Training until validation scores don't improve for 100 rounds\n",
      "Did not meet early stopping. Best iteration is:\n",
      "[953]\tvalid_0's l1: 0.0767385\n"
     ]
    }
   ],
   "source": [
    "df_train, df_val = train_test_split(df, test_size=0.2)\n",
    "\n",
    "col = '取引価格（総額）_log'\n",
    "train_y = df_train[col]\n",
    "train_x = df_train.drop(col, axis=1)\n",
    "\n",
    "val_y = df_val[col]\n",
    "val_x = df_val.drop(col, axis=1)\n",
    "\n",
    "trains = lgb.Dataset(train_x, train_y)\n",
    "valids = lgb.Dataset(val_x, val_y)\n",
    "\n",
    "params = {\n",
    "    'objective':'regression',\n",
    "    'metrics':'mae'\n",
    "}\n",
    "\n",
    "\n",
    "model = lgb.train(params, trains, valid_sets=valids, num_boost_round=1000, callbacks=[lgb.early_stopping(stopping_rounds=100,verbose=True)])\n",
    "\n",
    "\"\"\"\n",
    "lgb.train（）のearly_stopping_raound引数がなくなったので、callbackにlgb.early_stopping()メソッドを使用することでearly_stoppingを可能にする。\n",
    "\n",
    "\"\"\""
   ]
  },
  {
   "cell_type": "code",
   "execution_count": 42,
   "id": "63c5de12-ff4a-491d-8b73-5257cbc8b83f",
   "metadata": {},
   "outputs": [],
   "source": [
    "#テストデータでの予測値算出\n",
    "\n",
    "df_test = pd.read_csv('csv/test.csv', index_col=0)\n",
    "df_test = data_pre(df_test)"
   ]
  },
  {
   "cell_type": "code",
   "execution_count": 44,
   "id": "2820c36a-e476-466c-8746-b6dd09bcc348",
   "metadata": {},
   "outputs": [],
   "source": [
    "predict = model.predict(df_test)\n",
    "df_test[\"取引価格（総額）_log\"] = predict\n",
    "df_test['取引価格（総額）_log'].to_csv('submit_test.csv')"
   ]
  },
  {
   "cell_type": "code",
   "execution_count": null,
   "id": "439456e6-e0a5-4c54-89e0-615bf9f146aa",
   "metadata": {},
   "outputs": [],
   "source": []
  },
  {
   "cell_type": "markdown",
   "id": "479e395f-b736-46bc-892d-c336b6eceef3",
   "metadata": {},
   "source": [
    "## 画像認識タスクでの実装"
   ]
  },
  {
   "cell_type": "code",
   "execution_count": 47,
   "id": "b76c6065-539e-418f-b0e6-b982d3d5b3df",
   "metadata": {},
   "outputs": [],
   "source": [
    "import lightgbm as lgb\n",
    "import pandas as pd\n",
    "import numpy as np\n",
    "from tensorflow.keras.datasets import mnist\n",
    "from sklearn.model_selection import train_test_split"
   ]
  },
  {
   "cell_type": "code",
   "execution_count": 48,
   "id": "2d9730b1-f7f4-4a46-b4dd-fd870192594b",
   "metadata": {},
   "outputs": [],
   "source": [
    "np.random.seed(0)\n",
    "(X_train, labels_train), (X_test, labels_test) = mnist.load_data()"
   ]
  },
  {
   "cell_type": "code",
   "execution_count": 52,
   "id": "3883343f-eef8-43e4-8659-ab17dbbc207d",
   "metadata": {},
   "outputs": [],
   "source": [
    "# Training set を学習データ（X_train, labels_train）と検証データ（X_validation, labels_validation）に8:2で分割する\n",
    "X_train,X_validation,labels_train,labels_validation = train_test_split(X_train,labels_train, test_size = 0.2)\n",
    "\n",
    "# 各画像は行列なので1次元に変換→X_train,X_validation,X_testを上書き(28 x 28 = 784)\n",
    "X_train = X_train.reshape(-1,784)\n",
    "X_validation = X_validation.reshape(-1,784)\n",
    "X_test = X_test.reshape(-1,784)\n",
    "\n",
    "#正規化\n",
    "X_train = X_train.astype('float32')\n",
    "X_validation = X_validation.astype('float32')\n",
    "X_test = X_test.astype('float32')\n",
    "X_train /= 255\n",
    "X_validation /= 255\n",
    "X_test /= 255"
   ]
  },
  {
   "cell_type": "code",
   "execution_count": 55,
   "id": "f88fd3e8-9f6b-49ff-a7a7-9885367a3465",
   "metadata": {},
   "outputs": [
    {
     "name": "stdout",
     "output_type": "stream",
     "text": [
      "[LightGBM] [Info] Auto-choosing col-wise multi-threading, the overhead of testing was 0.245346 seconds.\n",
      "You can set `force_col_wise=true` to remove the overhead.\n",
      "[LightGBM] [Info] Total Bins 106940\n",
      "[LightGBM] [Info] Number of data points in the train set: 48000, number of used features: 621\n",
      "[LightGBM] [Info] Start training from score -2.319816\n",
      "[LightGBM] [Info] Start training from score -2.191677\n",
      "[LightGBM] [Info] Start training from score -2.304253\n",
      "[LightGBM] [Info] Start training from score -2.277283\n",
      "[LightGBM] [Info] Start training from score -2.325982\n",
      "[LightGBM] [Info] Start training from score -2.401945\n",
      "[LightGBM] [Info] Start training from score -2.317699\n",
      "[LightGBM] [Info] Start training from score -2.254390\n",
      "[LightGBM] [Info] Start training from score -2.332186\n",
      "[LightGBM] [Info] Start training from score -2.314320\n",
      "Training until validation scores don't improve for 100 rounds\n",
      "Did not meet early stopping. Best iteration is:\n",
      "[100]\tvalid_0's multi_logloss: 0.0750335\n",
      "accuracy_score:0.9766\n",
      "elapsed_timetime:60.97939896583557\n"
     ]
    }
   ],
   "source": [
    "train_data = lgb.Dataset(X_train, label=labels_train)\n",
    "eval_data = lgb.Dataset(X_validation, label=labels_validation)\n",
    "\n",
    "#時間測定\n",
    "import time\n",
    "start = time.time()\n",
    "\n",
    "params = {\n",
    "    'task':'train',\n",
    "    'boosting':'gbdt',\n",
    "    'objective':'multiclass',\n",
    "    'num_class':10\n",
    "}\n",
    "\n",
    "gbm = lgb.train(\n",
    "params,\n",
    "train_data,\n",
    "valid_sets=eval_data,\n",
    "num_boost_round=100,\n",
    "callbacks=[lgb.early_stopping(stopping_rounds=100,verbose=True)],\n",
    ")\n",
    "\n",
    "\n",
    "#各データに対応する予想確率スコア\n",
    "preds = gbm.predict(X_test)\n",
    "preds\n",
    "\n",
    "\n",
    "y_pred=[]\n",
    "for x in preds:\n",
    "    \n",
    "    #確率スコアで最も高い確率を持つクラス（インデックス）を格納\n",
    "    y_pred.append(np.argmax(x))\n",
    "    \n",
    "from sklearn.metrics import accuracy_score\n",
    "print('accuracy_score:{}'.format(accuracy_score(labels_test, y_pred)))\n",
    "\n",
    "#経過時間\n",
    "print('elapsed_timetime:{}'.format(time.time()-start))"
   ]
  },
  {
   "cell_type": "code",
   "execution_count": 58,
   "id": "70da7eec-11b9-4002-9fbb-99421b2bf751",
   "metadata": {},
   "outputs": [
    {
     "data": {
      "text/plain": [
       "array([1.03946033e-06, 3.34329002e-07, 8.98868827e-06, 9.00528217e-05,\n",
       "       2.98981244e-06, 4.52592236e-06, 1.69127782e-07, 9.99849520e-01,\n",
       "       2.76789952e-06, 3.96116291e-05])"
      ]
     },
     "execution_count": 58,
     "metadata": {},
     "output_type": "execute_result"
    }
   ],
   "source": [
    "preds[0]"
   ]
  },
  {
   "cell_type": "code",
   "execution_count": 61,
   "id": "208118b0-5463-4e1f-9bd9-2dac6896b975",
   "metadata": {},
   "outputs": [],
   "source": [
    "n_samples = 20000\n",
    "y = np.ones(n_samples)"
   ]
  },
  {
   "cell_type": "code",
   "execution_count": 66,
   "id": "fa7c86bb-8c16-42c4-9c13-90b76c0c1dec",
   "metadata": {},
   "outputs": [
    {
     "data": {
      "text/plain": [
       "(20000,)"
      ]
     },
     "execution_count": 66,
     "metadata": {},
     "output_type": "execute_result"
    }
   ],
   "source": [
    "np.arange(n_samples).shape"
   ]
  },
  {
   "cell_type": "code",
   "execution_count": null,
   "id": "42363788-a097-4bb9-b6e0-dd9831219a39",
   "metadata": {},
   "outputs": [],
   "source": []
  },
  {
   "cell_type": "code",
   "execution_count": null,
   "id": "f55daca1-71db-4612-b7d0-211d90c03eb4",
   "metadata": {},
   "outputs": [],
   "source": []
  },
  {
   "cell_type": "code",
   "execution_count": null,
   "id": "d3de7fa9-c79d-40a7-901f-6c5d19d48380",
   "metadata": {},
   "outputs": [],
   "source": []
  },
  {
   "cell_type": "code",
   "execution_count": null,
   "id": "eabf7718-24bc-4be0-804f-6eabb6beab33",
   "metadata": {},
   "outputs": [],
   "source": []
  },
  {
   "cell_type": "code",
   "execution_count": null,
   "id": "4b981fae-efad-4069-874d-1bfb6b896baa",
   "metadata": {},
   "outputs": [],
   "source": []
  },
  {
   "cell_type": "code",
   "execution_count": null,
   "id": "56fc8719-85dd-4272-9dd4-46e260106745",
   "metadata": {},
   "outputs": [],
   "source": []
  },
  {
   "cell_type": "code",
   "execution_count": null,
   "id": "dee30217-95f2-4be8-9041-ab1d3e348ece",
   "metadata": {},
   "outputs": [],
   "source": []
  },
  {
   "cell_type": "code",
   "execution_count": null,
   "id": "633b260f-e7ba-4760-ae2e-282de980b9db",
   "metadata": {},
   "outputs": [],
   "source": []
  },
  {
   "cell_type": "code",
   "execution_count": null,
   "id": "08840e8b-4a6f-4c1c-97a9-f552cfa8d841",
   "metadata": {},
   "outputs": [],
   "source": []
  },
  {
   "cell_type": "code",
   "execution_count": null,
   "id": "60360e77-3914-4527-ae37-9ee47cf3db75",
   "metadata": {},
   "outputs": [],
   "source": []
  },
  {
   "cell_type": "code",
   "execution_count": null,
   "id": "3bb35b82-d354-46b8-9404-6ae262e48cdb",
   "metadata": {},
   "outputs": [],
   "source": []
  }
 ],
 "metadata": {
  "kernelspec": {
   "display_name": "Python 3 (ipykernel)",
   "language": "python",
   "name": "python3"
  },
  "language_info": {
   "codemirror_mode": {
    "name": "ipython",
    "version": 3
   },
   "file_extension": ".py",
   "mimetype": "text/x-python",
   "name": "python",
   "nbconvert_exporter": "python",
   "pygments_lexer": "ipython3",
   "version": "3.9.13"
  }
 },
 "nbformat": 4,
 "nbformat_minor": 5
}
