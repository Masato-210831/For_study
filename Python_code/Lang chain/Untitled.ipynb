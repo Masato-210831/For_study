{
 "cells": [
  {
   "cell_type": "code",
   "execution_count": 9,
   "id": "e85ec90b-bd40-48f5-8e46-4fe5f7117419",
   "metadata": {},
   "outputs": [],
   "source": [
    "class Masa:\n",
    "    def __init__(self, x, y):\n",
    "        self.x = x\n",
    "        self.y = y\n",
    "\n",
    "\n",
    "    def add(self, a):\n",
    "        return a + self.x\n",
    "\n",
    "\n",
    "    def devide(self, b):\n",
    "        return b - self.y\n",
    "\n",
    "\n",
    "    def __call__(self, a):\n",
    "        return a + self.x + self.y\n",
    "\n",
    "    def __str__(self):\n",
    "        return f\"xの値は{self.x}, yの値は{self.y}です\"\n"
   ]
  },
  {
   "cell_type": "code",
   "execution_count": 10,
   "id": "c5e20ffb-99eb-413a-9626-417b553f29ff",
   "metadata": {},
   "outputs": [],
   "source": [
    "masa = Masa(1, 2)"
   ]
  },
  {
   "cell_type": "code",
   "execution_count": 11,
   "id": "e956b62b-65dc-4832-93d3-37de6fe57a18",
   "metadata": {},
   "outputs": [
    {
     "data": {
      "text/plain": [
       "6"
      ]
     },
     "execution_count": 11,
     "metadata": {},
     "output_type": "execute_result"
    }
   ],
   "source": [
    "masa(3)"
   ]
  },
  {
   "cell_type": "code",
   "execution_count": 12,
   "id": "fd323fa6-5308-46f5-a209-df2367bf0e41",
   "metadata": {},
   "outputs": [
    {
     "name": "stdout",
     "output_type": "stream",
     "text": [
      "xの値は1, yの値は2です\n"
     ]
    }
   ],
   "source": [
    "type()"
   ]
  },
  {
   "cell_type": "code",
   "execution_count": null,
   "id": "318709b2-c183-4be0-bae2-bc9cbfa2dac4",
   "metadata": {},
   "outputs": [],
   "source": []
  }
 ],
 "metadata": {
  "kernelspec": {
   "display_name": "Python 3 (ipykernel)",
   "language": "python",
   "name": "python3"
  },
  "language_info": {
   "codemirror_mode": {
    "name": "ipython",
    "version": 3
   },
   "file_extension": ".py",
   "mimetype": "text/x-python",
   "name": "python",
   "nbconvert_exporter": "python",
   "pygments_lexer": "ipython3",
   "version": "3.8.18"
  }
 },
 "nbformat": 4,
 "nbformat_minor": 5
}
