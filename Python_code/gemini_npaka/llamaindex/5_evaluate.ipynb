{
 "cells": [
  {
   "cell_type": "markdown",
   "id": "aYIcu7qgylua",
   "metadata": {
    "id": "aYIcu7qgylua"
   },
   "source": [
    "### LlamaIndexの準備"
   ]
  },
  {
   "cell_type": "code",
   "execution_count": null,
   "id": "tucyJz5b322y",
   "metadata": {
    "id": "tucyJz5b322y",
    "scrolled": true
   },
   "outputs": [],
   "source": [
    "# パッケージのインストール\n",
    "!pip install llama-index==0.10.39\n",
    "!pip install llama-index-llms-gemini\n",
    "!pip install llama-index-embeddings-huggingface"
   ]
  },
  {
   "cell_type": "code",
   "execution_count": 20,
   "id": "HetKSIo7325F",
   "metadata": {
    "id": "HetKSIo7325F"
   },
   "outputs": [],
   "source": [
    "import google.generativeai as genai\n",
    "from dotenv import load_dotenv\n",
    "import os\n",
    "from tqdm.notebook import tqdm\n",
    "\n",
    "load_dotenv()\n",
    "GOOGLE_API_KEY=os.environ.get(\"GOOGLE_API_KEY\")\n",
    "genai.configure(api_key=GOOGLE_API_KEY)"
   ]
  },
  {
   "cell_type": "code",
   "execution_count": 21,
   "id": "2PxPS1UT329U",
   "metadata": {
    "id": "2PxPS1UT329U"
   },
   "outputs": [],
   "source": [
    "import logging\n",
    "import sys\n",
    "\n",
    "# ログレベルの設定\n",
    "logging.basicConfig(stream=sys.stdout, level=logging.DEBUG, force=True)"
   ]
  },
  {
   "cell_type": "code",
   "execution_count": 22,
   "id": "l1iJEC9CyvNq",
   "metadata": {
    "id": "l1iJEC9CyvNq"
   },
   "outputs": [
    {
     "name": "stdout",
     "output_type": "stream",
     "text": [
      "INFO:sentence_transformers.SentenceTransformer:Load pretrained SentenceTransformer: BAAI/bge-m3\n",
      "DEBUG:urllib3.connectionpool:Resetting dropped connection: huggingface.co\n",
      "DEBUG:urllib3.connectionpool:https://huggingface.co:443 \"HEAD /BAAI/bge-m3/resolve/main/modules.json HTTP/1.1\" 200 0\n",
      "DEBUG:urllib3.connectionpool:https://huggingface.co:443 \"HEAD /BAAI/bge-m3/resolve/main/config_sentence_transformers.json HTTP/1.1\" 200 0\n",
      "DEBUG:urllib3.connectionpool:https://huggingface.co:443 \"HEAD /BAAI/bge-m3/resolve/main/README.md HTTP/1.1\" 200 0\n",
      "DEBUG:urllib3.connectionpool:https://huggingface.co:443 \"HEAD /BAAI/bge-m3/resolve/main/modules.json HTTP/1.1\" 200 0\n",
      "DEBUG:urllib3.connectionpool:https://huggingface.co:443 \"HEAD /BAAI/bge-m3/resolve/main/sentence_bert_config.json HTTP/1.1\" 200 0\n",
      "DEBUG:urllib3.connectionpool:https://huggingface.co:443 \"HEAD /BAAI/bge-m3/resolve/main/config.json HTTP/1.1\" 200 0\n",
      "DEBUG:urllib3.connectionpool:https://huggingface.co:443 \"HEAD /BAAI/bge-m3/resolve/main/model.safetensors HTTP/1.1\" 404 0\n",
      "DEBUG:urllib3.connectionpool:https://huggingface.co:443 \"HEAD /BAAI/bge-m3/resolve/main/tokenizer_config.json HTTP/1.1\" 200 0\n",
      "DEBUG:urllib3.connectionpool:https://huggingface.co:443 \"GET /api/models/BAAI/bge-m3/revision/main HTTP/1.1\" 200 4533\n",
      "DEBUG:urllib3.connectionpool:https://huggingface.co:443 \"GET /api/models/BAAI/bge-m3 HTTP/1.1\" 200 4533\n",
      "INFO:sentence_transformers.SentenceTransformer:2 prompts are loaded, with the keys: ['query', 'text']\n"
     ]
    }
   ],
   "source": [
    "from llama_index.core import Settings\n",
    "from llama_index.llms.gemini import Gemini\n",
    "from llama_index.embeddings.huggingface import HuggingFaceEmbedding\n",
    "\n",
    "# LLMの準備\n",
    "Settings.llm = Gemini(\n",
    "    model_name=\"models/gemini-1.0-pro\",\n",
    "    safety_settings={\n",
    "        \"HARM_CATEGORY_HARASSMENT\": \"BLOCK_NONE\",\n",
    "        \"HARM_CATEGORY_HATE_SPEECH\": \"BLOCK_NONE\",\n",
    "        \"HARM_CATEGORY_SEXUALLY_EXPLICIT\" : \"BLOCK_NONE\",\n",
    "        \"HARM_CATEGORY_DANGEROUS_CONTENT\" : \"BLOCK_NONE\"\n",
    "    }\n",
    ")\n",
    "\n",
    "# 埋め込みモデルの準備\n",
    "Settings.embed_model = HuggingFaceEmbedding(\n",
    "    model_name=\"BAAI/bge-m3\"\n",
    ")"
   ]
  },
  {
   "cell_type": "markdown",
   "id": "VPiSJjbWIufv",
   "metadata": {
    "id": "VPiSJjbWIufv"
   },
   "source": [
    "### 質問コンテキストデータセットの生成"
   ]
  },
  {
   "cell_type": "code",
   "execution_count": 23,
   "id": "hUoGCIYlI6U4",
   "metadata": {
    "id": "hUoGCIYlI6U4"
   },
   "outputs": [],
   "source": [
    "# Colabでのasyncio利用の有効化\n",
    "import nest_asyncio\n",
    "nest_asyncio.apply()"
   ]
  },
  {
   "cell_type": "code",
   "execution_count": 24,
   "id": "U0XIBV5XIgXW",
   "metadata": {
    "id": "U0XIBV5XIgXW"
   },
   "outputs": [
    {
     "name": "stdout",
     "output_type": "stream",
     "text": [
      "DEBUG:llama_index.core.readers.file.base:> [SimpleDirectoryReader] Total files added: 7\n",
      "DEBUG:fsspec.local:open file: /work/gemini_npaka/llamaindex/data/akazukin1.txt\n",
      "DEBUG:fsspec.local:open file: /work/gemini_npaka/llamaindex/data/akazukin2.txt\n",
      "DEBUG:fsspec.local:open file: /work/gemini_npaka/llamaindex/data/akazukin3.txt\n",
      "DEBUG:fsspec.local:open file: /work/gemini_npaka/llamaindex/data/akazukin4.txt\n",
      "DEBUG:fsspec.local:open file: /work/gemini_npaka/llamaindex/data/akazukin5.txt\n",
      "DEBUG:fsspec.local:open file: /work/gemini_npaka/llamaindex/data/akazukin6.txt\n",
      "DEBUG:fsspec.local:open file: /work/gemini_npaka/llamaindex/data/akazukin7.txt\n"
     ]
    }
   ],
   "source": [
    "from llama_index.core import SimpleDirectoryReader\n",
    "\n",
    "# ドキュメントの読み込み (dataフォルダにドキュメントを配置しておきます)\n",
    "documents = SimpleDirectoryReader(\"data\").load_data()"
   ]
  },
  {
   "cell_type": "code",
   "execution_count": 25,
   "id": "Zrpjzfo8Hiij",
   "metadata": {
    "id": "Zrpjzfo8Hiij"
   },
   "outputs": [
    {
     "name": "stdout",
     "output_type": "stream",
     "text": [
      "DEBUG:llama_index.core.node_parser.node_utils:> Adding chunk: 第1章：ネオン街の影\n",
      "2078年、東京。ネオン街の闇に紛れ、少女アズキはフードを深く被り、路地...\n",
      "DEBUG:llama_index.core.node_parser.node_utils:> Adding chunk: 第2章：牢獄の出会い\n",
      "暗い牢獄に閉じ込められたアズキ。絶望に打ちひしがれながらも、彼女は諦めな...\n",
      "DEBUG:llama_index.core.node_parser.node_utils:> Adding chunk: 第3章：情報収集\n",
      "ネオン街の裏社会に潜伏するアズキとオオカミ。彼らは帝国の秘密情報を収集するた...\n",
      "DEBUG:llama_index.core.node_parser.node_utils:> Adding chunk: 第4章：裏切り\n",
      "ある日、オオカミの裏切りが発覚する。彼は帝国に情報を売っていたのだ。\n",
      "アズキは...\n",
      "DEBUG:llama_index.core.node_parser.node_utils:> Adding chunk: 第5章：決戦\n",
      "ついに、アズキとオオカミは帝国の本拠地へ潜入する。そこで、彼らは帝国の恐るべき計...\n",
      "DEBUG:llama_index.core.node_parser.node_utils:> Adding chunk: 第6章：希望の光\n",
      "激しい戦いの末、アズキとオオカミはシステムを破壊することに成功する。帝国は崩...\n",
      "DEBUG:llama_index.core.node_parser.node_utils:> Adding chunk: 第7章：新たな旅\n",
      "街に平和が訪れた数年後、アズキは新たな旅に出る。\n",
      "彼女は世界中を旅し、他の抑...\n"
     ]
    }
   ],
   "source": [
    "from llama_index.core.node_parser import SentenceSplitter\n",
    "\n",
    "# ドキュメントからノードを取得\n",
    "node_parser = SentenceSplitter()\n",
    "nodes = node_parser.get_nodes_from_documents(documents)\n",
    "\n",
    "# ノードIDを手動で設定\n",
    "for idx, node in enumerate(nodes):\n",
    "    node.id_ = f\"node_{idx}\""
   ]
  },
  {
   "cell_type": "code",
   "execution_count": 26,
   "id": "0ed843f4-0b51-423f-98ef-18e99461863a",
   "metadata": {
    "scrolled": true
   },
   "outputs": [
    {
     "data": {
      "text/plain": [
       "[TextNode(id_='node_0', embedding=None, metadata={'file_path': '/work/gemini_npaka/llamaindex/data/akazukin1.txt', 'file_name': 'akazukin1.txt', 'file_type': 'text/plain', 'file_size': 632, 'creation_date': '2024-11-09', 'last_modified_date': '2024-11-09'}, excluded_embed_metadata_keys=['file_name', 'file_type', 'file_size', 'creation_date', 'last_modified_date', 'last_accessed_date'], excluded_llm_metadata_keys=['file_name', 'file_type', 'file_size', 'creation_date', 'last_modified_date', 'last_accessed_date'], relationships={<NodeRelationship.SOURCE: '1'>: RelatedNodeInfo(node_id='cd1e6db3-b625-43fc-a298-e0d1f725db63', node_type=<ObjectType.DOCUMENT: '4'>, metadata={'file_path': '/work/gemini_npaka/llamaindex/data/akazukin1.txt', 'file_name': 'akazukin1.txt', 'file_type': 'text/plain', 'file_size': 632, 'creation_date': '2024-11-09', 'last_modified_date': '2024-11-09'}, hash='389805e4071c5b62d98f4afd2ae515fdd3e09b766b199fc0077175dfd18deac6')}, text='第1章：ネオン街の影\\n2078年、東京。ネオン街の闇に紛れ、少女アズキはフードを深く被り、路地裏を疾走していた。彼女は16歳、ハッカー集団「紅ずきん」の一員だ。\\nアズキのターゲットは、企業連合「帝国」の秘密情報。帝国は街を支配し、人々を搾取していた。アズキたちは、そんな帝国に立ち向かうレジスタンスの尖兵だった。\\nしかし、アズキは罠に嵌められた。背後から襲い掛かる帝国の警備隊。アズキは必死に逃げ回るが、追いつかれ、捕らわれてしまう。', mimetype='text/plain', start_char_idx=0, end_char_idx=217, text_template='{metadata_str}\\n\\n{content}', metadata_template='{key}: {value}', metadata_seperator='\\n'),\n",
       " TextNode(id_='node_1', embedding=None, metadata={'file_path': '/work/gemini_npaka/llamaindex/data/akazukin2.txt', 'file_name': 'akazukin2.txt', 'file_type': 'text/plain', 'file_size': 522, 'creation_date': '2024-11-09', 'last_modified_date': '2024-11-09'}, excluded_embed_metadata_keys=['file_name', 'file_type', 'file_size', 'creation_date', 'last_modified_date', 'last_accessed_date'], excluded_llm_metadata_keys=['file_name', 'file_type', 'file_size', 'creation_date', 'last_modified_date', 'last_accessed_date'], relationships={<NodeRelationship.SOURCE: '1'>: RelatedNodeInfo(node_id='ff881a06-b48a-4f5e-938e-70870d8fa1ac', node_type=<ObjectType.DOCUMENT: '4'>, metadata={'file_path': '/work/gemini_npaka/llamaindex/data/akazukin2.txt', 'file_name': 'akazukin2.txt', 'file_type': 'text/plain', 'file_size': 522, 'creation_date': '2024-11-09', 'last_modified_date': '2024-11-09'}, hash='da3fadef38df0878239d241c98b28509bb0aef47bcc7b1fa308a0deee10eafed')}, text='第2章：牢獄の出会い\\n暗い牢獄に閉じ込められたアズキ。絶望に打ちひしがれながらも、彼女は諦めなかった。脱出する方法を探るアズキの前に、謎めいた青年が現れる。\\n青年はハッカー「オオカミ」と呼ばれ、帝国に追われていた。オオカミはアズキの才能を見抜き、彼女に協力を求める。\\n/互いに信頼を築き始めたアズキとオオカミ。彼らは脱出計画を練り、ついに牢獄を脱出する。', mimetype='text/plain', start_char_idx=0, end_char_idx=177, text_template='{metadata_str}\\n\\n{content}', metadata_template='{key}: {value}', metadata_seperator='\\n'),\n",
       " TextNode(id_='node_2', embedding=None, metadata={'file_path': '/work/gemini_npaka/llamaindex/data/akazukin3.txt', 'file_name': 'akazukin3.txt', 'file_type': 'text/plain', 'file_size': 425, 'creation_date': '2024-11-09', 'last_modified_date': '2024-11-09'}, excluded_embed_metadata_keys=['file_name', 'file_type', 'file_size', 'creation_date', 'last_modified_date', 'last_accessed_date'], excluded_llm_metadata_keys=['file_name', 'file_type', 'file_size', 'creation_date', 'last_modified_date', 'last_accessed_date'], relationships={<NodeRelationship.SOURCE: '1'>: RelatedNodeInfo(node_id='2b63ca5d-d0be-40e7-87f6-8f8510247548', node_type=<ObjectType.DOCUMENT: '4'>, metadata={'file_path': '/work/gemini_npaka/llamaindex/data/akazukin3.txt', 'file_name': 'akazukin3.txt', 'file_type': 'text/plain', 'file_size': 425, 'creation_date': '2024-11-09', 'last_modified_date': '2024-11-09'}, hash='d181ee73198bed68a7a0256b6dd20380b1defe5370a775c071dd80b3bc2be290')}, text='第3章：情報収集\\nネオン街の裏社会に潜伏するアズキとオオカミ。彼らは帝国の秘密情報を収集するために、様々なハッキング作戦を実行していく。\\nしかし、帝国も黙っていない。アズキたちを追跡し、次々と罠を仕掛けてくる。\\n危険な状況の中でも、アズキとオオカミは互いを支え合い、情報を集め続けていく。', mimetype='text/plain', start_char_idx=0, end_char_idx=144, text_template='{metadata_str}\\n\\n{content}', metadata_template='{key}: {value}', metadata_seperator='\\n'),\n",
       " TextNode(id_='node_3', embedding=None, metadata={'file_path': '/work/gemini_npaka/llamaindex/data/akazukin4.txt', 'file_name': 'akazukin4.txt', 'file_type': 'text/plain', 'file_size': 404, 'creation_date': '2024-11-09', 'last_modified_date': '2024-11-09'}, excluded_embed_metadata_keys=['file_name', 'file_type', 'file_size', 'creation_date', 'last_modified_date', 'last_accessed_date'], excluded_llm_metadata_keys=['file_name', 'file_type', 'file_size', 'creation_date', 'last_modified_date', 'last_accessed_date'], relationships={<NodeRelationship.SOURCE: '1'>: RelatedNodeInfo(node_id='a44cf7a6-a9de-432c-bbac-4258505a5a5a', node_type=<ObjectType.DOCUMENT: '4'>, metadata={'file_path': '/work/gemini_npaka/llamaindex/data/akazukin4.txt', 'file_name': 'akazukin4.txt', 'file_type': 'text/plain', 'file_size': 404, 'creation_date': '2024-11-09', 'last_modified_date': '2024-11-09'}, hash='6142374b18eb8699c10657d7c0572a72fe6e94608135aacc95ece66c80f46d1f')}, text='第4章：裏切り\\nある日、オオカミの裏切りが発覚する。彼は帝国に情報を売っていたのだ。\\nアズキはショックを受け、オオカミを問い詰める。オオカミは、妹を人質に取られており、帝国に協力せざるを得なかったことを告白する。\\nアズキはオオカミを信じることを決め、彼を救うために奔走する。', mimetype='text/plain', start_char_idx=0, end_char_idx=137, text_template='{metadata_str}\\n\\n{content}', metadata_template='{key}: {value}', metadata_seperator='\\n'),\n",
       " TextNode(id_='node_4', embedding=None, metadata={'file_path': '/work/gemini_npaka/llamaindex/data/akazukin5.txt', 'file_name': 'akazukin5.txt', 'file_type': 'text/plain', 'file_size': 379, 'creation_date': '2024-11-09', 'last_modified_date': '2024-11-09'}, excluded_embed_metadata_keys=['file_name', 'file_type', 'file_size', 'creation_date', 'last_modified_date', 'last_accessed_date'], excluded_llm_metadata_keys=['file_name', 'file_type', 'file_size', 'creation_date', 'last_modified_date', 'last_accessed_date'], relationships={<NodeRelationship.SOURCE: '1'>: RelatedNodeInfo(node_id='5df2537d-8bad-4cb5-88df-d0ed74172410', node_type=<ObjectType.DOCUMENT: '4'>, metadata={'file_path': '/work/gemini_npaka/llamaindex/data/akazukin5.txt', 'file_name': 'akazukin5.txt', 'file_type': 'text/plain', 'file_size': 379, 'creation_date': '2024-11-09', 'last_modified_date': '2024-11-09'}, hash='b671af7909e5f00c739b4a182b32eb8ba166f51ea664f72d2e0c2c863384e535')}, text='第5章：決戦\\nついに、アズキとオオカミは帝国の本拠地へ潜入する。そこで、彼らは帝国の恐るべき計画を知ってしまう。帝国は、人々を支配するために、人工知能を使った洗脳システムを開発していたのだ。\\nアズキとオオカミは、システムを破壊するために、最後の戦いに挑む。', mimetype='text/plain', start_char_idx=0, end_char_idx=128, text_template='{metadata_str}\\n\\n{content}', metadata_template='{key}: {value}', metadata_seperator='\\n'),\n",
       " TextNode(id_='node_5', embedding=None, metadata={'file_path': '/work/gemini_npaka/llamaindex/data/akazukin6.txt', 'file_name': 'akazukin6.txt', 'file_type': 'text/plain', 'file_size': 407, 'creation_date': '2024-11-09', 'last_modified_date': '2024-11-09'}, excluded_embed_metadata_keys=['file_name', 'file_type', 'file_size', 'creation_date', 'last_modified_date', 'last_accessed_date'], excluded_llm_metadata_keys=['file_name', 'file_type', 'file_size', 'creation_date', 'last_modified_date', 'last_accessed_date'], relationships={<NodeRelationship.SOURCE: '1'>: RelatedNodeInfo(node_id='7794b363-03b5-42e8-96e7-a73e4a398ffa', node_type=<ObjectType.DOCUMENT: '4'>, metadata={'file_path': '/work/gemini_npaka/llamaindex/data/akazukin6.txt', 'file_name': 'akazukin6.txt', 'file_type': 'text/plain', 'file_size': 407, 'creation_date': '2024-11-09', 'last_modified_date': '2024-11-09'}, hash='928764f1e65a13b10dacb33937e51b2a766e239a3e3fd8e82a5d3d31990ce24b')}, text='第6章：希望の光\\n激しい戦いの末、アズキとオオカミはシステムを破壊することに成功する。帝国は崩壊し、街は解放される。\\nしかし、オオカミは戦いの傷が深すぎ、命を落としてしまう。\\nアズキはオオカミの死を悼みながらも、彼の意志を継いで、街の人々を救うために戦い続けることを決意する。', mimetype='text/plain', start_char_idx=0, end_char_idx=138, text_template='{metadata_str}\\n\\n{content}', metadata_template='{key}: {value}', metadata_seperator='\\n'),\n",
       " TextNode(id_='node_6', embedding=None, metadata={'file_path': '/work/gemini_npaka/llamaindex/data/akazukin7.txt', 'file_name': 'akazukin7.txt', 'file_type': 'text/plain', 'file_size': 326, 'creation_date': '2024-11-09', 'last_modified_date': '2024-11-09'}, excluded_embed_metadata_keys=['file_name', 'file_type', 'file_size', 'creation_date', 'last_modified_date', 'last_accessed_date'], excluded_llm_metadata_keys=['file_name', 'file_type', 'file_size', 'creation_date', 'last_modified_date', 'last_accessed_date'], relationships={<NodeRelationship.SOURCE: '1'>: RelatedNodeInfo(node_id='c7d1798d-2cb4-4db2-a2d4-3e251cbd81fe', node_type=<ObjectType.DOCUMENT: '4'>, metadata={'file_path': '/work/gemini_npaka/llamaindex/data/akazukin7.txt', 'file_name': 'akazukin7.txt', 'file_type': 'text/plain', 'file_size': 326, 'creation_date': '2024-11-09', 'last_modified_date': '2024-11-09'}, hash='024c9c5830e24de5a6764ca3a2a34291f9115b84b51b9f6c0b536045ff2d419c')}, text='第7章：新たな旅\\n街に平和が訪れた数年後、アズキは新たな旅に出る。\\n彼女は世界中を旅し、他の抑圧された人々を助け、自由と正義のために戦い続ける。\\nアズキは、ネオン街の影から生まれ、希望の光となって世界を照らす存在となった。', mimetype='text/plain', start_char_idx=0, end_char_idx=111, text_template='{metadata_str}\\n\\n{content}', metadata_template='{key}: {value}', metadata_seperator='\\n')]"
      ]
     },
     "execution_count": 26,
     "metadata": {},
     "output_type": "execute_result"
    }
   ],
   "source": [
    "nodes"
   ]
  },
  {
   "cell_type": "code",
   "execution_count": 27,
   "id": "q1bSipZJHik7",
   "metadata": {
    "id": "q1bSipZJHik7"
   },
   "outputs": [
    {
     "name": "stderr",
     "output_type": "stream",
     "text": [
      "100%|██████████| 7/7 [00:09<00:00,  1.33s/it]\n"
     ]
    }
   ],
   "source": [
    "from llama_index.core.evaluation import generate_question_context_pairs\n",
    "from llama_index.llms.openai import OpenAI\n",
    "\n",
    "# 日本語テンプレートの準備\n",
    "DEFAULT_QA_GENERATE_PROMPT_TMPL = \"\"\"コンテキスト情報は以下のとおりです。\n",
    "\n",
    "---------------------\n",
    "{context_str}\n",
    "---------------------\n",
    "\n",
    "予備知識がなく、文脈情報が与えられた場合。\n",
    "以下のクエリに基づいて問題のみを生成します。\n",
    "\n",
    "あなたは先生です。\n",
    "あなたのタスクは、今後の試験用に {num_questions_per_chunk} 個の質問を作成することです。\n",
    "問題は文書全体にわたって多様でなければなりません。\n",
    "設問は提供されたコンテキスト情報に限定してください。\n",
    "質問 1や問題1などは出力せずに作成した質問のみ出力してください\"\"\"\n",
    "\n",
    "# 質問コンテキストデータセットの生成\n",
    "qa_dataset = generate_question_context_pairs(\n",
    "    nodes,\n",
    "    llm=Settings.llm,\n",
    "    num_questions_per_chunk=2,\n",
    "    qa_generate_prompt_tmpl=DEFAULT_QA_GENERATE_PROMPT_TMPL,\n",
    ")"
   ]
  },
  {
   "cell_type": "code",
   "execution_count": 28,
   "id": "8f977fa1-3ed4-44cc-88f3-73f5dafa9ce7",
   "metadata": {},
   "outputs": [
    {
     "data": {
      "text/plain": [
       "EmbeddingQAFinetuneDataset(queries={'bde1678c-9b5e-40e7-848d-f1269a868c6d': 'アズキがハッカー集団「紅ずきん」の一員である理由は？', '92027deb-8160-4bf0-ba16-a4714ca0fec5': 'アズキが帝国の警備隊に捕らえられた状況を説明せよ。', 'e03778d0-3eef-4e9c-ba07-cd4befdb7cf1': 'アズキとオオカミが出会った状況を説明してください。', '78852c97-a098-471a-97fb-7a889d06955b': 'アズキとオオカミが協力して達成したことを述べてください。', '0c49a378-ee3a-4837-8e4f-a2aa837697c9': 'アズキとオオカミが情報収集のために実行したハッキング作戦について説明してください。', '1add70b3-06eb-4401-9cba-096673eb3ef4': '帝国がアズキとオオカミを追跡するために仕かけた罠を挙げてください。', '241ccb92-842f-408f-9f60-b805b1058ba2': 'オオカミが帝国に情報を売っていた理由は？', '1e377ac6-c437-46c0-bce6-28cca0002be7': 'アズキがオオカミを信じることにした理由は？', '00bb6342-5415-4188-836c-c6cf72f43599': '帝国が開発していた洗脳システムの目的は何でしたか？', '6638a831-a363-45b9-9053-4bdd129be841': 'アズキとオオカミが帝国の本拠地に潜入した理由は？', 'efe35741-64b1-46eb-a375-741932a9780a': 'アズキとオオカミがシステムを破壊した結果、街にどのような変化が生じたか。', 'b2990894-7e35-49ed-b78b-6ec3df13addd': 'オオカミの死後、アズキが下した決意とは何か。', '905d3982-1c74-4788-8af9-59874439e603': 'アズキの旅の目的は何ですか？', '4a8caf9f-3499-4fe7-b8df-be81ab9da0cb': 'アズキの出身地はどこか、そして彼女はどのようにして希望の象徴となったのですか？'}, corpus={'node_0': '第1章：ネオン街の影\\n2078年、東京。ネオン街の闇に紛れ、少女アズキはフードを深く被り、路地裏を疾走していた。彼女は16歳、ハッカー集団「紅ずきん」の一員だ。\\nアズキのターゲットは、企業連合「帝国」の秘密情報。帝国は街を支配し、人々を搾取していた。アズキたちは、そんな帝国に立ち向かうレジスタンスの尖兵だった。\\nしかし、アズキは罠に嵌められた。背後から襲い掛かる帝国の警備隊。アズキは必死に逃げ回るが、追いつかれ、捕らわれてしまう。', 'node_1': '第2章：牢獄の出会い\\n暗い牢獄に閉じ込められたアズキ。絶望に打ちひしがれながらも、彼女は諦めなかった。脱出する方法を探るアズキの前に、謎めいた青年が現れる。\\n青年はハッカー「オオカミ」と呼ばれ、帝国に追われていた。オオカミはアズキの才能を見抜き、彼女に協力を求める。\\n/互いに信頼を築き始めたアズキとオオカミ。彼らは脱出計画を練り、ついに牢獄を脱出する。', 'node_2': '第3章：情報収集\\nネオン街の裏社会に潜伏するアズキとオオカミ。彼らは帝国の秘密情報を収集するために、様々なハッキング作戦を実行していく。\\nしかし、帝国も黙っていない。アズキたちを追跡し、次々と罠を仕掛けてくる。\\n危険な状況の中でも、アズキとオオカミは互いを支え合い、情報を集め続けていく。', 'node_3': '第4章：裏切り\\nある日、オオカミの裏切りが発覚する。彼は帝国に情報を売っていたのだ。\\nアズキはショックを受け、オオカミを問い詰める。オオカミは、妹を人質に取られており、帝国に協力せざるを得なかったことを告白する。\\nアズキはオオカミを信じることを決め、彼を救うために奔走する。', 'node_4': '第5章：決戦\\nついに、アズキとオオカミは帝国の本拠地へ潜入する。そこで、彼らは帝国の恐るべき計画を知ってしまう。帝国は、人々を支配するために、人工知能を使った洗脳システムを開発していたのだ。\\nアズキとオオカミは、システムを破壊するために、最後の戦いに挑む。', 'node_5': '第6章：希望の光\\n激しい戦いの末、アズキとオオカミはシステムを破壊することに成功する。帝国は崩壊し、街は解放される。\\nしかし、オオカミは戦いの傷が深すぎ、命を落としてしまう。\\nアズキはオオカミの死を悼みながらも、彼の意志を継いで、街の人々を救うために戦い続けることを決意する。', 'node_6': '第7章：新たな旅\\n街に平和が訪れた数年後、アズキは新たな旅に出る。\\n彼女は世界中を旅し、他の抑圧された人々を助け、自由と正義のために戦い続ける。\\nアズキは、ネオン街の影から生まれ、希望の光となって世界を照らす存在となった。'}, relevant_docs={'bde1678c-9b5e-40e7-848d-f1269a868c6d': ['node_0'], '92027deb-8160-4bf0-ba16-a4714ca0fec5': ['node_0'], 'e03778d0-3eef-4e9c-ba07-cd4befdb7cf1': ['node_1'], '78852c97-a098-471a-97fb-7a889d06955b': ['node_1'], '0c49a378-ee3a-4837-8e4f-a2aa837697c9': ['node_2'], '1add70b3-06eb-4401-9cba-096673eb3ef4': ['node_2'], '241ccb92-842f-408f-9f60-b805b1058ba2': ['node_3'], '1e377ac6-c437-46c0-bce6-28cca0002be7': ['node_3'], '00bb6342-5415-4188-836c-c6cf72f43599': ['node_4'], '6638a831-a363-45b9-9053-4bdd129be841': ['node_4'], 'efe35741-64b1-46eb-a375-741932a9780a': ['node_5'], 'b2990894-7e35-49ed-b78b-6ec3df13addd': ['node_5'], '905d3982-1c74-4788-8af9-59874439e603': ['node_6'], '4a8caf9f-3499-4fe7-b8df-be81ab9da0cb': ['node_6']}, mode='text')"
      ]
     },
     "execution_count": 28,
     "metadata": {},
     "output_type": "execute_result"
    }
   ],
   "source": [
    "qa_dataset"
   ]
  },
  {
   "cell_type": "code",
   "execution_count": 29,
   "id": "6oMqxZatHimo",
   "metadata": {
    "id": "6oMqxZatHimo"
   },
   "outputs": [],
   "source": [
    "# 質問コンテキストデータセットの保存\n",
    "qa_dataset.save_json(\"pg_eval_dataset.json\")"
   ]
  },
  {
   "cell_type": "code",
   "execution_count": 30,
   "id": "JuA1KzZLHior",
   "metadata": {
    "id": "JuA1KzZLHior"
   },
   "outputs": [],
   "source": [
    "from llama_index.core.evaluation import EmbeddingQAFinetuneDataset\n",
    "\n",
    "# 質問コンテキストデータセットの読み込み\n",
    "qa_dataset = EmbeddingQAFinetuneDataset.from_json(\"pg_eval_dataset.json\")"
   ]
  },
  {
   "cell_type": "code",
   "execution_count": 31,
   "id": "BemIjaRlHiqi",
   "metadata": {
    "id": "BemIjaRlHiqi"
   },
   "outputs": [
    {
     "name": "stdout",
     "output_type": "stream",
     "text": [
      "queries アズキがハッカー集団「紅ずきん」の一員である理由は？\n",
      "relevant_docs ['node_0']\n",
      "queries アズキが帝国の警備隊に捕らえられた状況を説明せよ。\n",
      "relevant_docs ['node_0']\n",
      "queries アズキとオオカミが出会った状況を説明してください。\n",
      "relevant_docs ['node_1']\n",
      "queries アズキとオオカミが協力して達成したことを述べてください。\n",
      "relevant_docs ['node_1']\n",
      "queries アズキとオオカミが情報収集のために実行したハッキング作戦について説明してください。\n",
      "relevant_docs ['node_2']\n"
     ]
    }
   ],
   "source": [
    "# 生成したデータセットの確認 (先頭5つ)\n",
    "for key in list(qa_dataset.queries.keys())[:5]:\n",
    "    print(\"queries\", qa_dataset.queries[key])\n",
    "    print(\"relevant_docs\", qa_dataset.relevant_docs[key])"
   ]
  },
  {
   "cell_type": "markdown",
   "id": "BySO139rPu8N",
   "metadata": {
    "id": "BySO139rPu8N"
   },
   "source": [
    "### Retrieval Evaluation (取得評価)"
   ]
  },
  {
   "cell_type": "code",
   "execution_count": 16,
   "id": "pxqCyFjKPzKK",
   "metadata": {
    "id": "pxqCyFjKPzKK"
   },
   "outputs": [
    {
     "data": {
      "application/vnd.jupyter.widget-view+json": {
       "model_id": "c0d7ad6a709f4844b64a523e40060354",
       "version_major": 2,
       "version_minor": 0
      },
      "text/plain": [
       "Batches:   0%|          | 0/1 [00:00<?, ?it/s]"
      ]
     },
     "metadata": {},
     "output_type": "display_data"
    }
   ],
   "source": [
    "from llama_index.core import VectorStoreIndex\n",
    "\n",
    "# インデックスとRetrieverの準備\n",
    "vector_index = VectorStoreIndex(nodes)\n",
    "retriever = vector_index.as_retriever(similarity_top_k=3)"
   ]
  },
  {
   "cell_type": "code",
   "execution_count": 17,
   "id": "J1p-SHd5PzMZ",
   "metadata": {
    "id": "J1p-SHd5PzMZ"
   },
   "outputs": [],
   "source": [
    "from llama_index.core.evaluation import RetrieverEvaluator\n",
    "\n",
    "# RetrieverEvaluatorの準備\n",
    "retriever_evaluator = RetrieverEvaluator.from_metric_names(\n",
    "    [\"mrr\", \"hit_rate\"],\n",
    "    retriever=retriever\n",
    ")"
   ]
  },
  {
   "cell_type": "code",
   "execution_count": 32,
   "id": "HVYK9v4NPzOm",
   "metadata": {
    "id": "HVYK9v4NPzOm"
   },
   "outputs": [
    {
     "data": {
      "application/vnd.jupyter.widget-view+json": {
       "model_id": "862b50ca2ebe47a08d0fe949b4656dd2",
       "version_major": 2,
       "version_minor": 0
      },
      "text/plain": [
       "Batches:   0%|          | 0/1 [00:00<?, ?it/s]"
      ]
     },
     "metadata": {},
     "output_type": "display_data"
    },
    {
     "name": "stdout",
     "output_type": "stream",
     "text": [
      "DEBUG:llama_index.core.indices.utils:> Top 3 nodes:\n",
      "> [Node node_0] [Similarity score:             0.637423] 第1章：ネオン街の影\n",
      "2078年、東京。ネオン街の闇に紛れ、少女アズキはフードを深く被り、路地裏を疾走していた。彼女は16歳、ハッカー集団「紅ずきん」の一員だ。\n",
      "アズキのターゲットは、企業連合「...\n",
      "> [Node node_1] [Similarity score:             0.541058] 第2章：牢獄の出会い\n",
      "暗い牢獄に閉じ込められたアズキ。絶望に打ちひしがれながらも、彼女は諦めなかった。脱出する方法を探るアズキの前に、謎めいた青年が現れる。\n",
      "青年はハッカー「オオカミ」と呼ばれ、...\n",
      "> [Node node_2] [Similarity score:             0.507502] 第3章：情報収集\n",
      "ネオン街の裏社会に潜伏するアズキとオオカミ。彼らは帝国の秘密情報を収集するために、様々なハッキング作戦を実行していく。\n",
      "しかし、帝国も黙っていない。アズキたちを追跡し、次々と罠...\n",
      "Query: アズキがハッカー集団「紅ずきん」の一員である理由は？\n",
      "Metrics: {'mrr': 1.0, 'hit_rate': 1.0}\n",
      "\n"
     ]
    },
    {
     "data": {
      "application/vnd.jupyter.widget-view+json": {
       "model_id": "097726c55052460a874892868d508485",
       "version_major": 2,
       "version_minor": 0
      },
      "text/plain": [
       "Batches:   0%|          | 0/1 [00:00<?, ?it/s]"
      ]
     },
     "metadata": {},
     "output_type": "display_data"
    },
    {
     "name": "stdout",
     "output_type": "stream",
     "text": [
      "DEBUG:llama_index.core.indices.utils:> Top 3 nodes:\n",
      "> [Node node_0] [Similarity score:             0.590785] 第1章：ネオン街の影\n",
      "2078年、東京。ネオン街の闇に紛れ、少女アズキはフードを深く被り、路地裏を疾走していた。彼女は16歳、ハッカー集団「紅ずきん」の一員だ。\n",
      "アズキのターゲットは、企業連合「...\n",
      "> [Node node_3] [Similarity score:             0.579266] 第4章：裏切り\n",
      "ある日、オオカミの裏切りが発覚する。彼は帝国に情報を売っていたのだ。\n",
      "アズキはショックを受け、オオカミを問い詰める。オオカミは、妹を人質に取られており、帝国に協力せざるを得なかっ...\n",
      "> [Node node_2] [Similarity score:             0.572892] 第3章：情報収集\n",
      "ネオン街の裏社会に潜伏するアズキとオオカミ。彼らは帝国の秘密情報を収集するために、様々なハッキング作戦を実行していく。\n",
      "しかし、帝国も黙っていない。アズキたちを追跡し、次々と罠...\n",
      "Query: アズキが帝国の警備隊に捕らえられた状況を説明せよ。\n",
      "Metrics: {'mrr': 1.0, 'hit_rate': 1.0}\n",
      "\n"
     ]
    },
    {
     "data": {
      "application/vnd.jupyter.widget-view+json": {
       "model_id": "9b0af762ae7645709237131c29444649",
       "version_major": 2,
       "version_minor": 0
      },
      "text/plain": [
       "Batches:   0%|          | 0/1 [00:00<?, ?it/s]"
      ]
     },
     "metadata": {},
     "output_type": "display_data"
    },
    {
     "name": "stdout",
     "output_type": "stream",
     "text": [
      "DEBUG:llama_index.core.indices.utils:> Top 3 nodes:\n",
      "> [Node node_1] [Similarity score:             0.621113] 第2章：牢獄の出会い\n",
      "暗い牢獄に閉じ込められたアズキ。絶望に打ちひしがれながらも、彼女は諦めなかった。脱出する方法を探るアズキの前に、謎めいた青年が現れる。\n",
      "青年はハッカー「オオカミ」と呼ばれ、...\n",
      "> [Node node_2] [Similarity score:             0.57368] 第3章：情報収集\n",
      "ネオン街の裏社会に潜伏するアズキとオオカミ。彼らは帝国の秘密情報を収集するために、様々なハッキング作戦を実行していく。\n",
      "しかし、帝国も黙っていない。アズキたちを追跡し、次々と罠...\n",
      "> [Node node_5] [Similarity score:             0.572077] 第6章：希望の光\n",
      "激しい戦いの末、アズキとオオカミはシステムを破壊することに成功する。帝国は崩壊し、街は解放される。\n",
      "しかし、オオカミは戦いの傷が深すぎ、命を落としてしまう。\n",
      "アズキはオオカミの...\n",
      "Query: アズキとオオカミが出会った状況を説明してください。\n",
      "Metrics: {'mrr': 1.0, 'hit_rate': 1.0}\n",
      "\n"
     ]
    },
    {
     "data": {
      "application/vnd.jupyter.widget-view+json": {
       "model_id": "04fc9e16278e49808e87008420bcae5d",
       "version_major": 2,
       "version_minor": 0
      },
      "text/plain": [
       "Batches:   0%|          | 0/1 [00:00<?, ?it/s]"
      ]
     },
     "metadata": {},
     "output_type": "display_data"
    },
    {
     "name": "stdout",
     "output_type": "stream",
     "text": [
      "DEBUG:llama_index.core.indices.utils:> Top 3 nodes:\n",
      "> [Node node_5] [Similarity score:             0.594158] 第6章：希望の光\n",
      "激しい戦いの末、アズキとオオカミはシステムを破壊することに成功する。帝国は崩壊し、街は解放される。\n",
      "しかし、オオカミは戦いの傷が深すぎ、命を落としてしまう。\n",
      "アズキはオオカミの...\n",
      "> [Node node_1] [Similarity score:             0.586873] 第2章：牢獄の出会い\n",
      "暗い牢獄に閉じ込められたアズキ。絶望に打ちひしがれながらも、彼女は諦めなかった。脱出する方法を探るアズキの前に、謎めいた青年が現れる。\n",
      "青年はハッカー「オオカミ」と呼ばれ、...\n",
      "> [Node node_2] [Similarity score:             0.569103] 第3章：情報収集\n",
      "ネオン街の裏社会に潜伏するアズキとオオカミ。彼らは帝国の秘密情報を収集するために、様々なハッキング作戦を実行していく。\n",
      "しかし、帝国も黙っていない。アズキたちを追跡し、次々と罠...\n",
      "Query: アズキとオオカミが協力して達成したことを述べてください。\n",
      "Metrics: {'mrr': 0.5, 'hit_rate': 1.0}\n",
      "\n"
     ]
    },
    {
     "data": {
      "application/vnd.jupyter.widget-view+json": {
       "model_id": "8ffa2418bd064e7f89c0e0a9db9b72fa",
       "version_major": 2,
       "version_minor": 0
      },
      "text/plain": [
       "Batches:   0%|          | 0/1 [00:00<?, ?it/s]"
      ]
     },
     "metadata": {},
     "output_type": "display_data"
    },
    {
     "name": "stdout",
     "output_type": "stream",
     "text": [
      "DEBUG:llama_index.core.indices.utils:> Top 3 nodes:\n",
      "> [Node node_2] [Similarity score:             0.681971] 第3章：情報収集\n",
      "ネオン街の裏社会に潜伏するアズキとオオカミ。彼らは帝国の秘密情報を収集するために、様々なハッキング作戦を実行していく。\n",
      "しかし、帝国も黙っていない。アズキたちを追跡し、次々と罠...\n",
      "> [Node node_1] [Similarity score:             0.638121] 第2章：牢獄の出会い\n",
      "暗い牢獄に閉じ込められたアズキ。絶望に打ちひしがれながらも、彼女は諦めなかった。脱出する方法を探るアズキの前に、謎めいた青年が現れる。\n",
      "青年はハッカー「オオカミ」と呼ばれ、...\n",
      "> [Node node_4] [Similarity score:             0.637492] 第5章：決戦\n",
      "ついに、アズキとオオカミは帝国の本拠地へ潜入する。そこで、彼らは帝国の恐るべき計画を知ってしまう。帝国は、人々を支配するために、人工知能を使った洗脳システムを開発していたのだ。\n",
      "ア...\n",
      "Query: アズキとオオカミが情報収集のために実行したハッキング作戦について説明してください。\n",
      "Metrics: {'mrr': 1.0, 'hit_rate': 1.0}\n",
      "\n"
     ]
    },
    {
     "data": {
      "application/vnd.jupyter.widget-view+json": {
       "model_id": "7e7c279b4c5c449c80cf65faf8cef7d9",
       "version_major": 2,
       "version_minor": 0
      },
      "text/plain": [
       "Batches:   0%|          | 0/1 [00:00<?, ?it/s]"
      ]
     },
     "metadata": {},
     "output_type": "display_data"
    },
    {
     "name": "stdout",
     "output_type": "stream",
     "text": [
      "DEBUG:llama_index.core.indices.utils:> Top 3 nodes:\n",
      "> [Node node_2] [Similarity score:             0.58015] 第3章：情報収集\n",
      "ネオン街の裏社会に潜伏するアズキとオオカミ。彼らは帝国の秘密情報を収集するために、様々なハッキング作戦を実行していく。\n",
      "しかし、帝国も黙っていない。アズキたちを追跡し、次々と罠...\n",
      "> [Node node_4] [Similarity score:             0.56347] 第5章：決戦\n",
      "ついに、アズキとオオカミは帝国の本拠地へ潜入する。そこで、彼らは帝国の恐るべき計画を知ってしまう。帝国は、人々を支配するために、人工知能を使った洗脳システムを開発していたのだ。\n",
      "ア...\n",
      "> [Node node_3] [Similarity score:             0.539893] 第4章：裏切り\n",
      "ある日、オオカミの裏切りが発覚する。彼は帝国に情報を売っていたのだ。\n",
      "アズキはショックを受け、オオカミを問い詰める。オオカミは、妹を人質に取られており、帝国に協力せざるを得なかっ...\n",
      "Query: 帝国がアズキとオオカミを追跡するために仕かけた罠を挙げてください。\n",
      "Metrics: {'mrr': 1.0, 'hit_rate': 1.0}\n",
      "\n"
     ]
    },
    {
     "data": {
      "application/vnd.jupyter.widget-view+json": {
       "model_id": "773a407c0a96418fbf44428d92955ce5",
       "version_major": 2,
       "version_minor": 0
      },
      "text/plain": [
       "Batches:   0%|          | 0/1 [00:00<?, ?it/s]"
      ]
     },
     "metadata": {},
     "output_type": "display_data"
    },
    {
     "name": "stdout",
     "output_type": "stream",
     "text": [
      "DEBUG:llama_index.core.indices.utils:> Top 3 nodes:\n",
      "> [Node node_3] [Similarity score:             0.602375] 第4章：裏切り\n",
      "ある日、オオカミの裏切りが発覚する。彼は帝国に情報を売っていたのだ。\n",
      "アズキはショックを受け、オオカミを問い詰める。オオカミは、妹を人質に取られており、帝国に協力せざるを得なかっ...\n",
      "> [Node node_2] [Similarity score:             0.561188] 第3章：情報収集\n",
      "ネオン街の裏社会に潜伏するアズキとオオカミ。彼らは帝国の秘密情報を収集するために、様々なハッキング作戦を実行していく。\n",
      "しかし、帝国も黙っていない。アズキたちを追跡し、次々と罠...\n",
      "> [Node node_4] [Similarity score:             0.556292] 第5章：決戦\n",
      "ついに、アズキとオオカミは帝国の本拠地へ潜入する。そこで、彼らは帝国の恐るべき計画を知ってしまう。帝国は、人々を支配するために、人工知能を使った洗脳システムを開発していたのだ。\n",
      "ア...\n",
      "Query: オオカミが帝国に情報を売っていた理由は？\n",
      "Metrics: {'mrr': 1.0, 'hit_rate': 1.0}\n",
      "\n"
     ]
    },
    {
     "data": {
      "application/vnd.jupyter.widget-view+json": {
       "model_id": "91cefda88cad4b118b58bc268de9953a",
       "version_major": 2,
       "version_minor": 0
      },
      "text/plain": [
       "Batches:   0%|          | 0/1 [00:00<?, ?it/s]"
      ]
     },
     "metadata": {},
     "output_type": "display_data"
    },
    {
     "name": "stdout",
     "output_type": "stream",
     "text": [
      "DEBUG:llama_index.core.indices.utils:> Top 3 nodes:\n",
      "> [Node node_3] [Similarity score:             0.596971] 第4章：裏切り\n",
      "ある日、オオカミの裏切りが発覚する。彼は帝国に情報を売っていたのだ。\n",
      "アズキはショックを受け、オオカミを問い詰める。オオカミは、妹を人質に取られており、帝国に協力せざるを得なかっ...\n",
      "> [Node node_1] [Similarity score:             0.547632] 第2章：牢獄の出会い\n",
      "暗い牢獄に閉じ込められたアズキ。絶望に打ちひしがれながらも、彼女は諦めなかった。脱出する方法を探るアズキの前に、謎めいた青年が現れる。\n",
      "青年はハッカー「オオカミ」と呼ばれ、...\n",
      "> [Node node_5] [Similarity score:             0.547425] 第6章：希望の光\n",
      "激しい戦いの末、アズキとオオカミはシステムを破壊することに成功する。帝国は崩壊し、街は解放される。\n",
      "しかし、オオカミは戦いの傷が深すぎ、命を落としてしまう。\n",
      "アズキはオオカミの...\n",
      "Query: アズキがオオカミを信じることにした理由は？\n",
      "Metrics: {'mrr': 1.0, 'hit_rate': 1.0}\n",
      "\n"
     ]
    },
    {
     "data": {
      "application/vnd.jupyter.widget-view+json": {
       "model_id": "0251b52281d443ea8a1a4c05f09afcda",
       "version_major": 2,
       "version_minor": 0
      },
      "text/plain": [
       "Batches:   0%|          | 0/1 [00:00<?, ?it/s]"
      ]
     },
     "metadata": {},
     "output_type": "display_data"
    },
    {
     "name": "stdout",
     "output_type": "stream",
     "text": [
      "DEBUG:llama_index.core.indices.utils:> Top 3 nodes:\n",
      "> [Node node_4] [Similarity score:             0.564929] 第5章：決戦\n",
      "ついに、アズキとオオカミは帝国の本拠地へ潜入する。そこで、彼らは帝国の恐るべき計画を知ってしまう。帝国は、人々を支配するために、人工知能を使った洗脳システムを開発していたのだ。\n",
      "ア...\n",
      "> [Node node_2] [Similarity score:             0.366802] 第3章：情報収集\n",
      "ネオン街の裏社会に潜伏するアズキとオオカミ。彼らは帝国の秘密情報を収集するために、様々なハッキング作戦を実行していく。\n",
      "しかし、帝国も黙っていない。アズキたちを追跡し、次々と罠...\n",
      "> [Node node_0] [Similarity score:             0.365] 第1章：ネオン街の影\n",
      "2078年、東京。ネオン街の闇に紛れ、少女アズキはフードを深く被り、路地裏を疾走していた。彼女は16歳、ハッカー集団「紅ずきん」の一員だ。\n",
      "アズキのターゲットは、企業連合「...\n",
      "Query: 帝国が開発していた洗脳システムの目的は何でしたか？\n",
      "Metrics: {'mrr': 1.0, 'hit_rate': 1.0}\n",
      "\n"
     ]
    },
    {
     "data": {
      "application/vnd.jupyter.widget-view+json": {
       "model_id": "1c72b75c09204f94b5528783049df000",
       "version_major": 2,
       "version_minor": 0
      },
      "text/plain": [
       "Batches:   0%|          | 0/1 [00:00<?, ?it/s]"
      ]
     },
     "metadata": {},
     "output_type": "display_data"
    },
    {
     "name": "stdout",
     "output_type": "stream",
     "text": [
      "DEBUG:llama_index.core.indices.utils:> Top 3 nodes:\n",
      "> [Node node_4] [Similarity score:             0.667796] 第5章：決戦\n",
      "ついに、アズキとオオカミは帝国の本拠地へ潜入する。そこで、彼らは帝国の恐るべき計画を知ってしまう。帝国は、人々を支配するために、人工知能を使った洗脳システムを開発していたのだ。\n",
      "ア...\n",
      "> [Node node_2] [Similarity score:             0.606448] 第3章：情報収集\n",
      "ネオン街の裏社会に潜伏するアズキとオオカミ。彼らは帝国の秘密情報を収集するために、様々なハッキング作戦を実行していく。\n",
      "しかし、帝国も黙っていない。アズキたちを追跡し、次々と罠...\n",
      "> [Node node_3] [Similarity score:             0.551562] 第4章：裏切り\n",
      "ある日、オオカミの裏切りが発覚する。彼は帝国に情報を売っていたのだ。\n",
      "アズキはショックを受け、オオカミを問い詰める。オオカミは、妹を人質に取られており、帝国に協力せざるを得なかっ...\n",
      "Query: アズキとオオカミが帝国の本拠地に潜入した理由は？\n",
      "Metrics: {'mrr': 1.0, 'hit_rate': 1.0}\n",
      "\n"
     ]
    },
    {
     "data": {
      "application/vnd.jupyter.widget-view+json": {
       "model_id": "27e3e590d1474ccbad4bcdaeb56774cc",
       "version_major": 2,
       "version_minor": 0
      },
      "text/plain": [
       "Batches:   0%|          | 0/1 [00:00<?, ?it/s]"
      ]
     },
     "metadata": {},
     "output_type": "display_data"
    },
    {
     "name": "stdout",
     "output_type": "stream",
     "text": [
      "DEBUG:llama_index.core.indices.utils:> Top 3 nodes:\n",
      "> [Node node_5] [Similarity score:             0.634167] 第6章：希望の光\n",
      "激しい戦いの末、アズキとオオカミはシステムを破壊することに成功する。帝国は崩壊し、街は解放される。\n",
      "しかし、オオカミは戦いの傷が深すぎ、命を落としてしまう。\n",
      "アズキはオオカミの...\n",
      "> [Node node_4] [Similarity score:             0.545066] 第5章：決戦\n",
      "ついに、アズキとオオカミは帝国の本拠地へ潜入する。そこで、彼らは帝国の恐るべき計画を知ってしまう。帝国は、人々を支配するために、人工知能を使った洗脳システムを開発していたのだ。\n",
      "ア...\n",
      "> [Node node_2] [Similarity score:             0.539178] 第3章：情報収集\n",
      "ネオン街の裏社会に潜伏するアズキとオオカミ。彼らは帝国の秘密情報を収集するために、様々なハッキング作戦を実行していく。\n",
      "しかし、帝国も黙っていない。アズキたちを追跡し、次々と罠...\n",
      "Query: アズキとオオカミがシステムを破壊した結果、街にどのような変化が生じたか。\n",
      "Metrics: {'mrr': 1.0, 'hit_rate': 1.0}\n",
      "\n"
     ]
    },
    {
     "data": {
      "application/vnd.jupyter.widget-view+json": {
       "model_id": "9d3c9f8325ae4ec3863c03fd27db67b1",
       "version_major": 2,
       "version_minor": 0
      },
      "text/plain": [
       "Batches:   0%|          | 0/1 [00:00<?, ?it/s]"
      ]
     },
     "metadata": {},
     "output_type": "display_data"
    },
    {
     "name": "stdout",
     "output_type": "stream",
     "text": [
      "DEBUG:llama_index.core.indices.utils:> Top 3 nodes:\n",
      "> [Node node_5] [Similarity score:             0.585484] 第6章：希望の光\n",
      "激しい戦いの末、アズキとオオカミはシステムを破壊することに成功する。帝国は崩壊し、街は解放される。\n",
      "しかし、オオカミは戦いの傷が深すぎ、命を落としてしまう。\n",
      "アズキはオオカミの...\n",
      "> [Node node_3] [Similarity score:             0.516703] 第4章：裏切り\n",
      "ある日、オオカミの裏切りが発覚する。彼は帝国に情報を売っていたのだ。\n",
      "アズキはショックを受け、オオカミを問い詰める。オオカミは、妹を人質に取られており、帝国に協力せざるを得なかっ...\n",
      "> [Node node_1] [Similarity score:             0.50772] 第2章：牢獄の出会い\n",
      "暗い牢獄に閉じ込められたアズキ。絶望に打ちひしがれながらも、彼女は諦めなかった。脱出する方法を探るアズキの前に、謎めいた青年が現れる。\n",
      "青年はハッカー「オオカミ」と呼ばれ、...\n",
      "Query: オオカミの死後、アズキが下した決意とは何か。\n",
      "Metrics: {'mrr': 1.0, 'hit_rate': 1.0}\n",
      "\n"
     ]
    },
    {
     "data": {
      "application/vnd.jupyter.widget-view+json": {
       "model_id": "6765db29d4cb44fe84a436c3176fbdca",
       "version_major": 2,
       "version_minor": 0
      },
      "text/plain": [
       "Batches:   0%|          | 0/1 [00:00<?, ?it/s]"
      ]
     },
     "metadata": {},
     "output_type": "display_data"
    },
    {
     "name": "stdout",
     "output_type": "stream",
     "text": [
      "DEBUG:llama_index.core.indices.utils:> Top 3 nodes:\n",
      "> [Node node_6] [Similarity score:             0.556335] 第7章：新たな旅\n",
      "街に平和が訪れた数年後、アズキは新たな旅に出る。\n",
      "彼女は世界中を旅し、他の抑圧された人々を助け、自由と正義のために戦い続ける。\n",
      "アズキは、ネオン街の影から生まれ、希望の光となっ...\n",
      "> [Node node_1] [Similarity score:             0.475553] 第2章：牢獄の出会い\n",
      "暗い牢獄に閉じ込められたアズキ。絶望に打ちひしがれながらも、彼女は諦めなかった。脱出する方法を探るアズキの前に、謎めいた青年が現れる。\n",
      "青年はハッカー「オオカミ」と呼ばれ、...\n",
      "> [Node node_0] [Similarity score:             0.475018] 第1章：ネオン街の影\n",
      "2078年、東京。ネオン街の闇に紛れ、少女アズキはフードを深く被り、路地裏を疾走していた。彼女は16歳、ハッカー集団「紅ずきん」の一員だ。\n",
      "アズキのターゲットは、企業連合「...\n",
      "Query: アズキの旅の目的は何ですか？\n",
      "Metrics: {'mrr': 1.0, 'hit_rate': 1.0}\n",
      "\n"
     ]
    },
    {
     "data": {
      "application/vnd.jupyter.widget-view+json": {
       "model_id": "ee48edc1ea264074801c9371d35216df",
       "version_major": 2,
       "version_minor": 0
      },
      "text/plain": [
       "Batches:   0%|          | 0/1 [00:00<?, ?it/s]"
      ]
     },
     "metadata": {},
     "output_type": "display_data"
    },
    {
     "name": "stdout",
     "output_type": "stream",
     "text": [
      "DEBUG:llama_index.core.indices.utils:> Top 3 nodes:\n",
      "> [Node node_6] [Similarity score:             0.551354] 第7章：新たな旅\n",
      "街に平和が訪れた数年後、アズキは新たな旅に出る。\n",
      "彼女は世界中を旅し、他の抑圧された人々を助け、自由と正義のために戦い続ける。\n",
      "アズキは、ネオン街の影から生まれ、希望の光となっ...\n",
      "> [Node node_0] [Similarity score:             0.470442] 第1章：ネオン街の影\n",
      "2078年、東京。ネオン街の闇に紛れ、少女アズキはフードを深く被り、路地裏を疾走していた。彼女は16歳、ハッカー集団「紅ずきん」の一員だ。\n",
      "アズキのターゲットは、企業連合「...\n",
      "> [Node node_5] [Similarity score:             0.460826] 第6章：希望の光\n",
      "激しい戦いの末、アズキとオオカミはシステムを破壊することに成功する。帝国は崩壊し、街は解放される。\n",
      "しかし、オオカミは戦いの傷が深すぎ、命を落としてしまう。\n",
      "アズキはオオカミの...\n",
      "Query: アズキの出身地はどこか、そして彼女はどのようにして希望の象徴となったのですか？\n",
      "Metrics: {'mrr': 1.0, 'hit_rate': 1.0}\n",
      "\n",
      "MRR: 0.9642857142857143 Hit Rate: 1.0\n"
     ]
    }
   ],
   "source": [
    "mrr_values = []\n",
    "hit_rate_values = []\n",
    "\n",
    "# 評価の実行\n",
    "for key in list(qa_dataset.queries.keys()):\n",
    "    # 1クエリの評価の実行\n",
    "    result =retriever_evaluator.evaluate(\n",
    "        query=qa_dataset.queries[key],\n",
    "        expected_ids=qa_dataset.relevant_docs[key]\n",
    "    )\n",
    "\n",
    "    # 集計\n",
    "    mrr_values.append(result.metric_dict[\"mrr\"].score)\n",
    "    hit_rate_values.append(result.metric_dict[\"hit_rate\"].score)\n",
    "\n",
    "    # 確認\n",
    "    print(result)\n",
    "\n",
    "# 確認\n",
    "mmr_average = sum(mrr_values) / len(mrr_values)\n",
    "hit_rate_average = sum(hit_rate_values) / len(hit_rate_values)\n",
    "print(\"MRR:\", mmr_average, \"Hit Rate:\", hit_rate_average)"
   ]
  },
  {
   "cell_type": "markdown",
   "id": "9TnfWt4TSMwi",
   "metadata": {
    "id": "9TnfWt4TSMwi"
   },
   "source": [
    "### Response Evaluation (応答評価)"
   ]
  },
  {
   "cell_type": "code",
   "execution_count": 33,
   "id": "U-VyzkhZQXlj",
   "metadata": {
    "id": "U-VyzkhZQXlj"
   },
   "outputs": [],
   "source": [
    "# LLMの準備\n",
    "Settings.llm = Gemini(\n",
    "    model_name=\"models/gemini-1.0-pro\",\n",
    "    safety_settings={\n",
    "        \"HARM_CATEGORY_HARASSMENT\": \"BLOCK_NONE\",\n",
    "        \"HARM_CATEGORY_HATE_SPEECH\": \"BLOCK_NONE\",\n",
    "        \"HARM_CATEGORY_SEXUALLY_EXPLICIT\" : \"BLOCK_NONE\",\n",
    "        \"HARM_CATEGORY_DANGEROUS_CONTENT\" : \"BLOCK_NONE\"\n",
    "    }\n",
    ")"
   ]
  },
  {
   "cell_type": "code",
   "execution_count": null,
   "id": "SGNfKFdZdX4Y",
   "metadata": {
    "id": "SGNfKFdZdX4Y"
   },
   "outputs": [],
   "source": [
    "# 環境変数の準備 (左端の鍵アイコンでOPENAI_API_KEYを設定)\n",
    "import os\n",
    "from google.colab import userdata\n",
    "os.environ[\"OPENAI_API_KEY\"] = userdata.get(\"OPENAI_API_KEY\")"
   ]
  },
  {
   "cell_type": "code",
   "execution_count": null,
   "id": "DiCN6zvYPzQs",
   "metadata": {
    "id": "DiCN6zvYPzQs"
   },
   "outputs": [],
   "source": [
    "from llama_index.core.prompts import PromptTemplate\n",
    "from llama_index.core.evaluation import FaithfulnessEvaluator\n",
    "from llama_index.llms.openai import OpenAI\n",
    "\n",
    "# 日本語テンプレートの準備\n",
    "DEFAULT_EVAL_TEMPLATE = PromptTemplate(\n",
    "    \"\"\"特定の情報がコンテキストによってサポートされているかどうかを教えてください。\n",
    "YES か NO で答える必要があります。\n",
    "コンテキストの大部分が無関係であっても、コンテキストのいずれかが情報をサポートしている場合は、YES と答えてください。いくつかの例を以下に示します。\n",
    "\n",
    "Information: アップルパイは通常、二重の生地です。\n",
    "Context: アップルパイは、主な詰め物の材料がリンゴであるフルーツパイです。\n",
    "アップルパイには、ホイップクリーム、アイスクリーム、カスタード、チェダーチーズが添えられることがよくあります。\n",
    "通常は二重の生地で、中身の上下にペストリーが入っています。上部の生地は固体または格子状の場合があります。\n",
    "Answer: YES\n",
    "\n",
    "Information: アップルパイは不味い。\n",
    "Context: アップルパイは、主な詰め物の材料がリンゴであるフルーツパイです。\n",
    "アップルパイには、ホイップクリーム、アイスクリーム、カスタード、チェダーチーズが添えられることがよくあります。\n",
    "通常は二重の生地で、中身の上下にペストリーが入っています。上部の生地は固体または格子状の場合があります。\n",
    "Answer: NO\n",
    "\n",
    "Information: {query_str}\n",
    "Context: {context_str}\n",
    "Answer: \"\"\"\n",
    ")\n",
    "\n",
    "# FaithfulnessEvaluatorの準備\n",
    "evaluator = FaithfulnessEvaluator(\n",
    "    llm=OpenAI(model=\"gpt-4-turbo\"),\n",
    "    eval_template=DEFAULT_EVAL_TEMPLATE\n",
    ")"
   ]
  },
  {
   "cell_type": "code",
   "execution_count": null,
   "id": "KUj8ElYoTRcH",
   "metadata": {
    "id": "KUj8ElYoTRcH"
   },
   "outputs": [],
   "source": [
    "from llama_index.core import VectorStoreIndex\n",
    "\n",
    "# インデックスとクエリエンジンの準備\n",
    "index = VectorStoreIndex.from_documents(documents)\n",
    "query_engine = index.as_query_engine()"
   ]
  },
  {
   "cell_type": "code",
   "execution_count": null,
   "id": "sR75nC9iPzSx",
   "metadata": {
    "id": "sR75nC9iPzSx"
   },
   "outputs": [],
   "source": [
    "faithfulness_values = []\n",
    "\n",
    "# 評価の実行\n",
    "for key in list(qa_dataset.queries.keys()):\n",
    "    # 1クエリの評価の実行\n",
    "    response = query_engine.query(qa_dataset.queries[key])\n",
    "    result = evaluator.evaluate_response(response=response)\n",
    "\n",
    "    # 集計\n",
    "    faithfulness_values.append(1 if result.passing else 0)\n",
    "\n",
    "    # 確認\n",
    "    print(\"Information:\", qa_dataset.queries[key])\n",
    "    print(\"Context:\")\n",
    "    for node in response.source_nodes:\n",
    "        print(node.get_text())\n",
    "    print(\"Answer:\", result.passing)\n",
    "\n",
    "# 確認\n",
    "faithfulness_average = sum(faithfulness_values) / len(faithfulness_values)\n",
    "print(\"Faithfulness:\", faithfulness_average)"
   ]
  }
 ],
 "metadata": {
  "colab": {
   "provenance": [
    {
     "file_id": "https://github.com/run-llama/llama_index/blob/main/docs/docs/examples/evaluation/retrieval/retriever_eval.ipynb",
     "timestamp": 1712044783503
    }
   ]
  },
  "kernelspec": {
   "display_name": "Python 3 (ipykernel)",
   "language": "python",
   "name": "python3"
  },
  "language_info": {
   "codemirror_mode": {
    "name": "ipython",
    "version": 3
   },
   "file_extension": ".py",
   "mimetype": "text/x-python",
   "name": "python",
   "nbconvert_exporter": "python",
   "pygments_lexer": "ipython3",
   "version": "3.11.10"
  }
 },
 "nbformat": 4,
 "nbformat_minor": 5
}
