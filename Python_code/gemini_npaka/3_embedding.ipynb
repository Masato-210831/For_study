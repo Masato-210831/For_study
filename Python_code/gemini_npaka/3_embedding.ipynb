{
 "cells": [
  {
   "cell_type": "markdown",
   "metadata": {
    "id": "kwQcQ6gBircL"
   },
   "source": [
    "### Gemini APIの前準備"
   ]
  },
  {
   "cell_type": "code",
   "execution_count": 1,
   "metadata": {
    "id": "QWRkM3xd1TAo"
   },
   "outputs": [
    {
     "name": "stdout",
     "output_type": "stream",
     "text": [
      "Requirement already satisfied: google-generativeai in /usr/local/lib/python3.11/site-packages (0.5.4)\n",
      "Requirement already satisfied: google-ai-generativelanguage==0.6.4 in /usr/local/lib/python3.11/site-packages (from google-generativeai) (0.6.4)\n",
      "Requirement already satisfied: google-api-core in /usr/local/lib/python3.11/site-packages (from google-generativeai) (2.22.0)\n",
      "Requirement already satisfied: google-api-python-client in /usr/local/lib/python3.11/site-packages (from google-generativeai) (2.151.0)\n",
      "Requirement already satisfied: google-auth>=2.15.0 in /usr/local/lib/python3.11/site-packages (from google-generativeai) (2.36.0)\n",
      "Requirement already satisfied: protobuf in /usr/local/lib/python3.11/site-packages (from google-generativeai) (4.25.5)\n",
      "Requirement already satisfied: pydantic in /usr/local/lib/python3.11/site-packages (from google-generativeai) (2.9.2)\n",
      "Requirement already satisfied: tqdm in /usr/local/lib/python3.11/site-packages (from google-generativeai) (4.67.0)\n",
      "Requirement already satisfied: typing-extensions in /usr/local/lib/python3.11/site-packages (from google-generativeai) (4.12.2)\n",
      "Requirement already satisfied: proto-plus<2.0.0dev,>=1.22.3 in /usr/local/lib/python3.11/site-packages (from google-ai-generativelanguage==0.6.4->google-generativeai) (1.25.0)\n",
      "Requirement already satisfied: googleapis-common-protos<2.0.dev0,>=1.56.2 in /usr/local/lib/python3.11/site-packages (from google-api-core->google-generativeai) (1.65.0)\n",
      "Requirement already satisfied: requests<3.0.0.dev0,>=2.18.0 in /usr/local/lib/python3.11/site-packages (from google-api-core->google-generativeai) (2.32.3)\n",
      "Requirement already satisfied: cachetools<6.0,>=2.0.0 in /usr/local/lib/python3.11/site-packages (from google-auth>=2.15.0->google-generativeai) (5.5.0)\n",
      "Requirement already satisfied: pyasn1-modules>=0.2.1 in /usr/local/lib/python3.11/site-packages (from google-auth>=2.15.0->google-generativeai) (0.4.1)\n",
      "Requirement already satisfied: rsa<5,>=3.1.4 in /usr/local/lib/python3.11/site-packages (from google-auth>=2.15.0->google-generativeai) (4.9)\n",
      "Requirement already satisfied: httplib2<1.dev0,>=0.19.0 in /usr/local/lib/python3.11/site-packages (from google-api-python-client->google-generativeai) (0.22.0)\n",
      "Requirement already satisfied: google-auth-httplib2<1.0.0,>=0.2.0 in /usr/local/lib/python3.11/site-packages (from google-api-python-client->google-generativeai) (0.2.0)\n",
      "Requirement already satisfied: uritemplate<5,>=3.0.1 in /usr/local/lib/python3.11/site-packages (from google-api-python-client->google-generativeai) (4.1.1)\n",
      "Requirement already satisfied: annotated-types>=0.6.0 in /usr/local/lib/python3.11/site-packages (from pydantic->google-generativeai) (0.7.0)\n",
      "Requirement already satisfied: pydantic-core==2.23.4 in /usr/local/lib/python3.11/site-packages (from pydantic->google-generativeai) (2.23.4)\n",
      "Requirement already satisfied: grpcio<2.0dev,>=1.33.2 in /usr/local/lib/python3.11/site-packages (from google-api-core[grpc]!=2.0.*,!=2.1.*,!=2.10.*,!=2.2.*,!=2.3.*,!=2.4.*,!=2.5.*,!=2.6.*,!=2.7.*,!=2.8.*,!=2.9.*,<3.0.0dev,>=1.34.1->google-ai-generativelanguage==0.6.4->google-generativeai) (1.67.1)\n",
      "Requirement already satisfied: grpcio-status<2.0.dev0,>=1.33.2 in /usr/local/lib/python3.11/site-packages (from google-api-core[grpc]!=2.0.*,!=2.1.*,!=2.10.*,!=2.2.*,!=2.3.*,!=2.4.*,!=2.5.*,!=2.6.*,!=2.7.*,!=2.8.*,!=2.9.*,<3.0.0dev,>=1.34.1->google-ai-generativelanguage==0.6.4->google-generativeai) (1.62.3)\n",
      "Requirement already satisfied: pyparsing!=3.0.0,!=3.0.1,!=3.0.2,!=3.0.3,<4,>=2.4.2 in /usr/local/lib/python3.11/site-packages (from httplib2<1.dev0,>=0.19.0->google-api-python-client->google-generativeai) (3.2.0)\n",
      "Requirement already satisfied: pyasn1<0.7.0,>=0.4.6 in /usr/local/lib/python3.11/site-packages (from pyasn1-modules>=0.2.1->google-auth>=2.15.0->google-generativeai) (0.6.1)\n",
      "Requirement already satisfied: charset-normalizer<4,>=2 in /usr/local/lib/python3.11/site-packages (from requests<3.0.0.dev0,>=2.18.0->google-api-core->google-generativeai) (3.4.0)\n",
      "Requirement already satisfied: idna<4,>=2.5 in /usr/local/lib/python3.11/site-packages (from requests<3.0.0.dev0,>=2.18.0->google-api-core->google-generativeai) (3.10)\n",
      "Requirement already satisfied: urllib3<3,>=1.21.1 in /usr/local/lib/python3.11/site-packages (from requests<3.0.0.dev0,>=2.18.0->google-api-core->google-generativeai) (2.2.3)\n",
      "Requirement already satisfied: certifi>=2017.4.17 in /usr/local/lib/python3.11/site-packages (from requests<3.0.0.dev0,>=2.18.0->google-api-core->google-generativeai) (2024.8.30)\n",
      "\u001b[33mWARNING: Running pip as the 'root' user can result in broken permissions and conflicting behaviour with the system package manager, possibly rendering your system unusable.It is recommended to use a virtual environment instead: https://pip.pypa.io/warnings/venv. Use the --root-user-action option if you know what you are doing and want to suppress this warning.\u001b[0m\u001b[33m\n",
      "\u001b[0m"
     ]
    }
   ],
   "source": [
    "# パッケージのインストール\n",
    "!pip install google-generativeai"
   ]
  },
  {
   "cell_type": "code",
   "execution_count": 3,
   "metadata": {
    "id": "70ktIK1S1TEz"
   },
   "outputs": [],
   "source": [
    "# from google.colab import userdata\n",
    "import google.generativeai as genai\n",
    "from dotenv import load_dotenv\n",
    "import os\n",
    "\n",
    "load_dotenv()\n",
    "# 環境変数の準備 (左端の鍵アイコンでGOOGLE_API_KEYを設定)\n",
    "GOOGLE_API_KEY=os.environ.get(\"GOOGLE_API_KEY\")\n",
    "genai.configure(api_key=GOOGLE_API_KEY)"
   ]
  },
  {
   "cell_type": "markdown",
   "metadata": {
    "id": "-LlJDy-Z39S8"
   },
   "source": [
    "### 埋め込みモデル一覧の確認"
   ]
  },
  {
   "cell_type": "code",
   "execution_count": 4,
   "metadata": {
    "id": "1SPn0vZ53-vf"
   },
   "outputs": [
    {
     "name": "stdout",
     "output_type": "stream",
     "text": [
      "models/embedding-001\n",
      "models/text-embedding-004\n"
     ]
    }
   ],
   "source": [
    "import google.generativeai as genai\n",
    "\n",
    "# 埋め込みモデル一覧の取得\n",
    "for m in genai.list_models():\n",
    "    if \"embedContent\" in m.supported_generation_methods:\n",
    "        print(m.name)"
   ]
  },
  {
   "cell_type": "markdown",
   "metadata": {
    "id": "TqHXoCrVivYd"
   },
   "source": [
    "### text-embedding-004の使い方"
   ]
  },
  {
   "cell_type": "code",
   "execution_count": 5,
   "metadata": {
    "id": "7rZyY5jy0mMD"
   },
   "outputs": [],
   "source": [
    "# 埋め込み関数の準備\n",
    "def embedding(texts):\n",
    "    return genai.embed_content(\n",
    "        model=\"models/text-embedding-004\",\n",
    "        content=texts,\n",
    "    )[\"embedding\"]"
   ]
  },
  {
   "cell_type": "code",
   "execution_count": 6,
   "metadata": {
    "id": "EIIsyX9zi17y",
    "scrolled": true
   },
   "outputs": [
    {
     "name": "stdout",
     "output_type": "stream",
     "text": [
      "[[0.021709729, -0.010004897, -0.07831449, 0.00021625146, 0.016366882, -0.0061589633, 0.056820635, 0.03478271, -0.0053757853, 0.035010446, -4.1074087e-05, 0.01616381, 0.046615493, -0.01919706, -0.0007648253, -0.019785572, 0.026104966, 0.067962535, -0.06785214, -0.031471316, 0.020794155, -0.04611739, 0.0019919872, -0.035202015, -0.026550822, -0.033206027, 0.008064024, 0.003174477, 0.025845889, -0.021457084, 0.012842088, 0.043763965, 0.031452913, -0.004718091, 0.012690874, -0.011095253, -0.012762027, 0.020994188, 0.020329844, -0.080613144, 0.0061794934, 0.08040166, -0.076733366, -0.00773825, -0.025886035, -0.041227743, 0.038715918, 0.0044989176, 0.003333499, -0.0023913558, 0.0407256, 0.051695146, -0.057483457, -0.0028400905, 0.015980821, -0.009783751, 0.013114645, -0.046905294, 0.052408155, 0.0075120507, 0.041234136, -0.02858687, -0.0052159308, 0.005603428, 0.013024177, -0.0059801494, 0.014997179, -0.019358763, -0.03909497, -0.029858405, -0.071830705, 0.018266415, 0.0065697925, -0.008557144, -0.021605914, -0.010085072, 0.0205363, -0.025874237, 0.052698515, 0.038966678, 0.024349058, -0.00027610277, 0.05026931, 0.06294185, 0.049504083, 0.007984248, 0.076344974, -0.05344273, -0.007483514, 0.006134383, 0.098782025, 0.04416795, -0.031236388, 0.023809897, 0.003039643, 0.012141073, -0.053168114, -0.0012625532, 0.059360992, 0.09755789, 0.023514124, 0.015006473, 0.021937042, -0.02676343, 0.003490982, 0.020703759, -0.07997401, 0.022577006, -0.027810693, -0.019347772, -0.0026310869, -0.040584262, 0.03976492, -0.016449962, -0.04470714, -0.0072424845, -0.04428871, 0.034052975, -0.015454707, -0.006669017, -0.0071410304, 0.04097349, -0.06292113, 0.0063290554, 0.03576487, 0.010267284, 0.0034743687, 0.022714324, -0.022402484, -0.04158752, -0.004800434, -0.06921487, 0.0637978, 0.028000763, -0.069765806, 0.0012123965, 0.03849425, 0.0918081, 0.01942434, -0.013174846, -0.007428081, -0.00829136, -0.1077372, -0.00617611, 0.0058277883, 0.0028739206, 0.029881494, 0.016603993, 0.024973158, -0.023262212, -0.025307635, 0.0024856934, 0.019442532, -0.01362745, -0.005600551, 0.0068682623, 0.049441777, -0.058192775, 0.07645318, -0.02214638, 0.03661391, -0.05819189, 0.04097805, -0.012116145, -0.031158729, -0.013612748, 0.019856272, -0.053131733, 0.037862748, -0.055267103, 0.0028124554, -0.040038407, -0.018485205, 0.020867309, 0.01289854, -0.023052197, -0.061006527, 0.016489552, 0.026925454, -0.0600178, 0.04901763, -0.007869855, 0.02066683, -0.08939997, -0.023491943, -0.009269235, -0.014692708, 0.0011942401, 0.09830192, 0.04153002, 0.038100857, 0.0068022674, 0.069154695, 0.033297066, 0.024351766, 0.072268, 0.035358224, -0.026060447, -0.025424838, 0.03435081, 0.037626896, 0.0052846163, -0.00839447, 0.02548851, 0.00016554182, 0.061062682, -0.05369042, -0.06090242, 0.07738561, 0.029082043, -0.027392196, -0.043715093, 0.021631548, -0.05522875, 0.033574034, 0.02375813, 0.019092657, -0.014641332, 0.052025016, -0.0353144, 0.033898298, 0.039399683, 0.088518314, 0.084018804, 0.029643277, 0.027397808, -0.021438202, 0.015549735, -0.036576487, -0.050268963, -0.003032096, 0.031231144, 0.0036085998, 0.02821124, -0.05904391, 0.03283909, 0.038068563, -0.022384068, -0.015921239, -0.042434774, 0.03920387, 0.0044232216, 0.004563547, 0.019057963, 0.075368434, -0.016963845, 0.058044422, -0.008839109, 0.045722503, -0.04557075, -0.045044646, 0.02386227, -0.012243059, -0.029434199, -0.03503633, -0.004614599, 0.0109007945, -0.04050657, 0.025181465, -0.0076190764, 0.08840228, -0.015334757, -0.016707227, -0.10793856, -0.03250508, -0.05616112, 0.003954078, 0.05568296, 0.043765984, -0.086364895, 0.01945986, -0.03188369, -0.022627141, 0.012023052, -0.0006345349, 0.03183047, -0.019440355, 0.009214887, -0.099801, -0.094337024, 0.03928894, 0.05133913, 0.01906499, -0.022594899, -0.036492657, -0.030806465, 0.019933185, 0.01162801, -0.012905975, 0.009319324, 0.06076088, 0.034377698, 0.009889117, -0.022113007, 0.009150509, 0.028970696, 0.020854594, -0.009745429, 0.032893755, -0.011857786, -0.0023261318, 0.046922695, -0.08498145, 0.02527929, -0.016264992, -0.0078330515, -0.012711782, -0.057927422, -0.012022698, -0.021264967, 0.0063804165, 0.028657569, 0.014605563, -0.012129305, -0.025489496, -0.072737224, -0.091763236, -0.010971611, -0.098387405, -0.042849857, 0.059993356, -0.033879455, -0.054972913, -0.014201744, 0.0013337628, 0.0023127433, 0.004949405, 0.013859924, -0.02105351, -0.026620626, 0.032294724, -0.029763022, -0.03946027, -0.061682276, -0.012469027, 0.0049740123, -0.044165142, -0.0044684303, 0.056449898, 0.048706327, 0.0015424844, -0.02933298, 0.04036778, 0.05055406, -0.011616119, -0.019961504, 0.027405923, -0.022618327, 0.00866488, -0.013539789, 0.024073903, 0.0055573564, 0.060030688, -0.010956122, -0.016526222, -0.015189418, 0.011052055, 0.034566235, 0.033711843, -0.013560031, 0.013318557, -0.0078115403, -0.027204355, 0.035370816, 0.048847742, 0.01719597, 0.01930819, 0.054852847, 0.004645411, -0.076121494, 0.046665464, 0.036719415, -0.047851358, 0.018268397, 0.021355996, -0.016112449, -0.055649262, 0.016509194, 0.016088728, -0.06846854, -0.04958407, -0.035566356, -0.013359103, 0.008758932, -0.023596385, 0.053997826, -0.07257383, 0.00537941, 0.010501635, -0.004460761, 0.013821736, 0.050405227, 0.03747916, 0.06321101, 0.02542553, -0.0077859075, -0.025493687, 0.04986241, -0.02890583, 0.08078602, -0.028830355, -0.041929103, -0.0017171437, -0.016264081, -0.014577107, -0.024829727, 0.044047352, 0.034573957, -0.01892672, -0.04766976, -0.009595071, 0.022093756, -0.033033144, 0.032620776, -0.06376428, 0.0058592716, 0.0023939975, 0.013197051, -0.016176514, 0.0044366317, -0.012242476, -0.019358145, 0.050426736, 0.036566637, -0.009901847, -0.082174845, -0.070536, -0.019386252, 0.036723595, -0.05641927, 0.02610547, 0.0740127, -0.009451957, 0.025251234, -0.024568174, -0.028763933, -0.0028479644, 0.023998324, -0.00869316, 0.00081007933, -0.046715114, 0.013903083, 0.04936657, 0.02956096, -0.053184964, -0.016357608, 0.024525387, -0.036515392, -0.00972102, -0.018790584, -0.034002267, 0.006664821, 0.0029277734, -0.017520292, -0.057426907, 0.037945006, -0.02258333, 0.041983567, 0.013618063, 0.02331981, -0.035465136, 0.024481874, 0.116578415, -0.009372467, 0.011216072, 0.006793163, -0.03642117, 0.00373106, 0.015382702, 0.050189752, 0.02182204, 0.022063492, -0.0027896082, -0.0011279113, -0.021805253, -0.0042544273, 0.011159585, -0.019796636, -0.05280654, 0.0618809, -0.028362539, 0.021043543, -0.0145824645, 0.032902446, 0.063497, -0.0034720795, -0.06057429, -0.012323452, -0.000140519, -0.0075405943, 0.021790057, 0.05656347, 0.055824887, 0.031342737, -0.013005293, -0.0030450113, 0.01818752, 0.002365481, 0.015876729, 0.07977673, 0.038831852, -0.005463432, -0.0368533, -0.024311502, 0.0015829055, -0.0059371702, -0.022511305, -0.013496021, 0.017112907, 0.03471186, 0.044955168, -0.018336162, 0.08213996, 0.020053254, -0.006186622, 0.031733025, -0.03284854, 0.044812895, -0.0064048385, 0.006765972, -0.0050001475, -0.01074265, 0.029776119, -0.014650773, 0.020049065, 0.0067917253, 0.019611187, -0.0051464713, 0.0043665343, -0.013060342, -0.065966226, 0.056511063, 0.02026828, 0.005073325, 0.0075678974, 0.0529566, 0.022877024, 0.02049892, -0.034628887, 0.020999316, 0.015318397, 0.020129463, 0.03106974, 0.065896004, 0.02004342, 0.023009244, -0.032478943, 0.017498627, 0.0038437948, 0.040415205, -0.018401518, 0.012416098, -0.047929328, -0.0018884747, -0.011939482, -0.039389294, 0.0032674216, 0.034661137, -0.011237158, 0.019963814, 0.039152347, -0.019275282, -0.009074903, -0.04739648, 0.010701204, 0.011964454, -0.006784722, 0.01520647, 0.039007317, 0.023045734, 0.008529024, 0.0035449583, 0.06780959, 0.014725432, 0.044553995, 0.021724679, -0.053933065, -0.0090600345, 0.04757274, 0.0033486881, 0.044978835, 0.025798503, 0.10389566, 0.021495618, -0.0076197577, 0.001370779, 0.012508484, -0.015200235, 0.061708078, 0.019335708, 0.0014407708, 0.058505345, 0.0027906222, -0.03565435, 0.055532947, 0.041256055, -0.016766766, 0.07303182, 0.045230106, 0.0471042, 0.02199689, -0.05766605, 0.033421647, -0.012491785, -0.029808935, -0.052567802, -0.016384156, -0.04617668, 0.012120793, 0.0038625721, 0.015047324, 0.025452677, -0.02270937, -0.058511145, -0.04086057, 0.030056527, -0.06632551, -0.017087072, 0.064738505, 0.009249275, 0.021479936, -0.012879524, 0.043893132, 0.011364187, -6.9758644e-05, -0.006950362, 0.002195099, 0.04689945, 0.032394256, -0.018170431, 0.0020447972, -0.008628983, 0.046161283, -0.0198837, -0.027542418, -0.018600794, -0.02239898, 0.031016512, -0.019374136, -0.0448952, -0.0046770805, 0.051513076, 0.03203202, 0.022275558, -0.025294112, 0.039765887, 0.021150563, 0.010201307, -0.0025896733, 0.023598356, -0.03203672, 0.06385768, 0.007618409, 0.00020608645, -0.031596668, 0.013387359, -0.0052747787, 0.012707995, 0.03479292, 0.005274818, -0.012563234, -0.05422629, -0.019815456, 0.0049995827, -0.03843571, -0.044178233, -0.0690705, -0.010728551, 0.024337782, 0.012232895, 0.0023692262, -0.019055229, -0.0013129005, 0.010876662, -0.009036133, -0.00021182121, 0.017824471, -0.020286562, -0.030240264, 0.017956086, -0.021821465, -0.016556608, 0.050658613, -0.038420964, -0.05095718, 0.013933694, 0.024638666, -0.07552457, 0.018413287, 0.033370752, -0.029848162, 0.013267025, -0.042948574, 0.016219305, -0.047595974, 0.04580756, -0.0151722925, 0.045209747, -0.024113422, 0.01382127, -0.018302362, -0.018342502, -0.019188002, -0.028040351, 0.061212175, -0.0030933274, 0.030336479, 0.032500453, -0.01722753, -0.00010311838, -0.02831197, -0.04254634, 0.08123126, -0.0028945315, 0.04073668, 0.045671348, 0.024400068, 0.003179726, 0.023763847, -0.00486695, 0.004378528, -0.0045116795, 0.062170208, 0.030045733, 0.039972015, -0.008392876, 0.012913532, 0.022912325, -0.037211776, 0.062057246, 0.01683327, 0.016220048, -0.016640961, 0.026838114, -0.004593426, 0.005628462, 0.05919832, -0.020352142, 0.0010511022, 0.0023780614, -0.0022470746, -0.045910053, -0.05164029, -0.0062469635, 0.014593824, 0.0013368992, -0.06843874, -0.008816019, -0.03225271, -0.01595971, -0.068945624, -0.027694209, -0.023904275, 0.041780986, 0.021725891, -0.031377785, -0.027601209, -0.018287404, 0.035794545, -0.029495835, -0.023020338, 0.059582844, -0.018625647, 0.04593788, -0.04194523, -0.065675795, 0.019252969, -0.042567983]]\n"
     ]
    }
   ],
   "source": [
    "# テキストの準備\n",
    "texts = [\"This is a Test.\"]\n",
    "\n",
    "# 埋め込みベクトルへの変換\n",
    "embeds = embedding(texts)\n",
    "print(embeds)"
   ]
  },
  {
   "cell_type": "code",
   "execution_count": 7,
   "metadata": {},
   "outputs": [
    {
     "data": {
      "text/plain": [
       "float"
      ]
     },
     "execution_count": 7,
     "metadata": {},
     "output_type": "execute_result"
    }
   ],
   "source": [
    "type(embeds[0][0])"
   ]
  },
  {
   "cell_type": "code",
   "execution_count": 8,
   "metadata": {
    "id": "fRHKvrcSn4c9"
   },
   "outputs": [
    {
     "name": "stdout",
     "output_type": "stream",
     "text": [
      "768\n"
     ]
    }
   ],
   "source": [
    "# 埋め込みベクトルの長さの確認\n",
    "print(len(embeds[0]))"
   ]
  },
  {
   "cell_type": "markdown",
   "metadata": {
    "id": "t14GPMi2qncB"
   },
   "source": [
    "### text-embedding-004の近傍探索"
   ]
  },
  {
   "cell_type": "code",
   "execution_count": 9,
   "metadata": {
    "id": "22GfT438VHZt"
   },
   "outputs": [
    {
     "name": "stdout",
     "output_type": "stream",
     "text": [
      "Collecting faiss-cpu\n",
      "  Downloading faiss_cpu-1.9.0-cp311-cp311-manylinux_2_17_aarch64.manylinux2014_aarch64.whl.metadata (4.4 kB)\n",
      "Requirement already satisfied: numpy<3.0,>=1.25.0 in /usr/local/lib/python3.11/site-packages (from faiss-cpu) (1.26.4)\n",
      "Requirement already satisfied: packaging in /usr/local/lib/python3.11/site-packages (from faiss-cpu) (24.2)\n",
      "Downloading faiss_cpu-1.9.0-cp311-cp311-manylinux_2_17_aarch64.manylinux2014_aarch64.whl (3.6 MB)\n",
      "\u001b[2K   \u001b[90m━━━━━━━━━━━━━━━━━━━━━━━━━━━━━━━━━━━━━━━━\u001b[0m \u001b[32m3.6/3.6 MB\u001b[0m \u001b[31m20.9 MB/s\u001b[0m eta \u001b[36m0:00:00\u001b[0m\n",
      "\u001b[?25hInstalling collected packages: faiss-cpu\n",
      "Successfully installed faiss-cpu-1.9.0\n",
      "\u001b[33mWARNING: Running pip as the 'root' user can result in broken permissions and conflicting behaviour with the system package manager, possibly rendering your system unusable.It is recommended to use a virtual environment instead: https://pip.pypa.io/warnings/venv. Use the --root-user-action option if you know what you are doing and want to suppress this warning.\u001b[0m\u001b[33m\n",
      "\u001b[0m"
     ]
    }
   ],
   "source": [
    "# Faissのパッケージのインストール\n",
    "!pip install faiss-cpu"
   ]
  },
  {
   "cell_type": "code",
   "execution_count": 10,
   "metadata": {
    "id": "Erh3IyYZxGds"
   },
   "outputs": [],
   "source": [
    "# 入力テキスト\n",
    "in_texts = [\n",
    "    \"I'm glad it didn't rain today\"\n",
    "]\n",
    "\n",
    "# 対象テキスト\n",
    "target_texts = [\n",
    "    \"What is your favorite food?\",\n",
    "    \"Where do you live?\",\n",
    "    \"Morning trains are crowded.\",\n",
    "    \"It's nice weather today.\",\n",
    "    \"The economy is bad lately.\",\n",
    "]\n",
    "\n",
    "# 埋め込みベクトルへの変換\n",
    "in_embeds = embedding(in_texts)\n",
    "target_embeds = embedding(target_texts)"
   ]
  },
  {
   "cell_type": "code",
   "execution_count": 11,
   "metadata": {
    "id": "PERb5z3By9WE"
   },
   "outputs": [],
   "source": [
    "import numpy as np\n",
    "\n",
    "# numpyへの変換\n",
    "in_embeds = np.array(in_embeds).astype(\"float32\")\n",
    "target_embeds = np.array(target_embeds).astype(\"float32\")"
   ]
  },
  {
   "cell_type": "code",
   "execution_count": 12,
   "metadata": {},
   "outputs": [
    {
     "data": {
      "text/plain": [
       "numpy.float32"
      ]
     },
     "execution_count": 12,
     "metadata": {},
     "output_type": "execute_result"
    }
   ],
   "source": [
    "type(in_embeds[0][0])"
   ]
  },
  {
   "cell_type": "code",
   "execution_count": 13,
   "metadata": {},
   "outputs": [
    {
     "data": {
      "text/plain": [
       "'1.26.4'"
      ]
     },
     "execution_count": 13,
     "metadata": {},
     "output_type": "execute_result"
    }
   ],
   "source": [
    "np.__version__"
   ]
  },
  {
   "cell_type": "code",
   "execution_count": 16,
   "metadata": {
    "id": "-86E2mt_ygX2"
   },
   "outputs": [],
   "source": [
    "# python 3.12由来のエラー\n",
    "\n",
    "import faiss\n",
    "# Faissのインデックス生成\n",
    "index = faiss.IndexFlatL2(len(in_embeds[0]))"
   ]
  },
  {
   "cell_type": "code",
   "execution_count": 17,
   "metadata": {
    "id": "vP6cuaxMzTTN"
   },
   "outputs": [],
   "source": [
    "# 対象テキストをインデックスに追加\n",
    "index.add(target_embeds)"
   ]
  },
  {
   "cell_type": "code",
   "execution_count": 18,
   "metadata": {
    "id": "CxSqhIupzTYi"
   },
   "outputs": [
    {
     "name": "stdout",
     "output_type": "stream",
     "text": [
      "[[0.5306722]]\n",
      "[[3]]\n",
      "It's nice weather today.\n"
     ]
    }
   ],
   "source": [
    "# 近傍探索の実行\n",
    "distances, indices = index.search(in_embeds, 1)\n",
    "\n",
    "# 確認\n",
    "print(distances)\n",
    "print(indices)\n",
    "print(target_texts[indices[0][0]])"
   ]
  },
  {
   "cell_type": "markdown",
   "metadata": {
    "id": "gkYce02E1RaA"
   },
   "source": [
    "### bge-m3の使い方"
   ]
  },
  {
   "cell_type": "code",
   "execution_count": 38,
   "metadata": {
    "id": "w6xiZGs21YP8",
    "scrolled": true
   },
   "outputs": [
    {
     "name": "stdout",
     "output_type": "stream",
     "text": [
      "Collecting FlagEmbedding\n",
      "  Using cached FlagEmbedding-1.3.2-py3-none-any.whl\n",
      "Requirement already satisfied: torch>=1.6.0 in /usr/local/lib/python3.12/site-packages (from FlagEmbedding) (2.5.1)\n",
      "Collecting transformers==4.44.2 (from FlagEmbedding)\n",
      "  Using cached transformers-4.44.2-py3-none-any.whl.metadata (43 kB)\n",
      "Collecting datasets==2.19.0 (from FlagEmbedding)\n",
      "  Using cached datasets-2.19.0-py3-none-any.whl.metadata (19 kB)\n",
      "Collecting accelerate>=0.20.1 (from FlagEmbedding)\n",
      "  Using cached accelerate-1.1.0-py3-none-any.whl.metadata (19 kB)\n",
      "Collecting sentence-transformers (from FlagEmbedding)\n",
      "  Using cached sentence_transformers-3.2.1-py3-none-any.whl.metadata (10 kB)\n",
      "Collecting peft (from FlagEmbedding)\n",
      "  Using cached peft-0.13.2-py3-none-any.whl.metadata (13 kB)\n",
      "Collecting ir-datasets (from FlagEmbedding)\n",
      "  Using cached ir_datasets-0.5.8-py3-none-any.whl.metadata (12 kB)\n",
      "Requirement already satisfied: sentencepiece in /usr/local/lib/python3.12/site-packages (from FlagEmbedding) (0.2.0)\n",
      "Requirement already satisfied: protobuf in /usr/local/lib/python3.12/site-packages (from FlagEmbedding) (5.28.3)\n",
      "Requirement already satisfied: filelock in /usr/local/lib/python3.12/site-packages (from datasets==2.19.0->FlagEmbedding) (3.16.1)\n",
      "Requirement already satisfied: numpy>=1.17 in /usr/local/lib/python3.12/site-packages (from datasets==2.19.0->FlagEmbedding) (1.26.4)\n",
      "Collecting pyarrow>=12.0.0 (from datasets==2.19.0->FlagEmbedding)\n",
      "  Using cached pyarrow-18.0.0-cp312-cp312-manylinux_2_28_aarch64.whl.metadata (3.3 kB)\n",
      "Collecting pyarrow-hotfix (from datasets==2.19.0->FlagEmbedding)\n",
      "  Using cached pyarrow_hotfix-0.6-py3-none-any.whl.metadata (3.6 kB)\n",
      "Collecting dill<0.3.9,>=0.3.0 (from datasets==2.19.0->FlagEmbedding)\n",
      "  Using cached dill-0.3.8-py3-none-any.whl.metadata (10 kB)\n",
      "Requirement already satisfied: pandas in /usr/local/lib/python3.12/site-packages (from datasets==2.19.0->FlagEmbedding) (2.2.3)\n",
      "Requirement already satisfied: requests>=2.19.0 in /usr/local/lib/python3.12/site-packages (from datasets==2.19.0->FlagEmbedding) (2.32.3)\n",
      "Requirement already satisfied: tqdm>=4.62.1 in /usr/local/lib/python3.12/site-packages (from datasets==2.19.0->FlagEmbedding) (4.66.6)\n",
      "Collecting xxhash (from datasets==2.19.0->FlagEmbedding)\n",
      "  Using cached xxhash-3.5.0-cp312-cp312-manylinux_2_17_aarch64.manylinux2014_aarch64.whl.metadata (12 kB)\n",
      "Collecting multiprocess (from datasets==2.19.0->FlagEmbedding)\n",
      "  Using cached multiprocess-0.70.17-py312-none-any.whl.metadata (7.2 kB)\n",
      "Collecting fsspec<=2024.3.1,>=2023.1.0 (from fsspec[http]<=2024.3.1,>=2023.1.0->datasets==2.19.0->FlagEmbedding)\n",
      "  Using cached fsspec-2024.3.1-py3-none-any.whl.metadata (6.8 kB)\n",
      "Collecting aiohttp (from datasets==2.19.0->FlagEmbedding)\n",
      "  Using cached aiohttp-3.10.10-cp312-cp312-manylinux_2_17_aarch64.manylinux2014_aarch64.whl.metadata (7.6 kB)\n",
      "Collecting huggingface-hub>=0.21.2 (from datasets==2.19.0->FlagEmbedding)\n",
      "  Using cached huggingface_hub-0.26.2-py3-none-any.whl.metadata (13 kB)\n",
      "Requirement already satisfied: packaging in /usr/local/lib/python3.12/site-packages (from datasets==2.19.0->FlagEmbedding) (24.1)\n",
      "Requirement already satisfied: pyyaml>=5.1 in /usr/local/lib/python3.12/site-packages (from datasets==2.19.0->FlagEmbedding) (6.0.2)\n",
      "Requirement already satisfied: regex!=2019.12.17 in /usr/local/lib/python3.12/site-packages (from transformers==4.44.2->FlagEmbedding) (2024.9.11)\n",
      "Collecting safetensors>=0.4.1 (from transformers==4.44.2->FlagEmbedding)\n",
      "  Using cached safetensors-0.4.5-cp312-cp312-manylinux_2_17_aarch64.manylinux2014_aarch64.whl.metadata (3.8 kB)\n",
      "Collecting tokenizers<0.20,>=0.19 (from transformers==4.44.2->FlagEmbedding)\n",
      "  Using cached tokenizers-0.19.1-cp312-cp312-manylinux_2_17_aarch64.manylinux2014_aarch64.whl.metadata (6.7 kB)\n",
      "Requirement already satisfied: psutil in /usr/local/lib/python3.12/site-packages (from accelerate>=0.20.1->FlagEmbedding) (6.1.0)\n",
      "Requirement already satisfied: typing-extensions>=4.8.0 in /usr/local/lib/python3.12/site-packages (from torch>=1.6.0->FlagEmbedding) (4.12.2)\n",
      "Requirement already satisfied: networkx in /usr/local/lib/python3.12/site-packages (from torch>=1.6.0->FlagEmbedding) (3.4.2)\n",
      "Requirement already satisfied: jinja2 in /usr/local/lib/python3.12/site-packages (from torch>=1.6.0->FlagEmbedding) (3.1.4)\n",
      "Requirement already satisfied: setuptools in /usr/local/lib/python3.12/site-packages (from torch>=1.6.0->FlagEmbedding) (75.3.0)\n",
      "Requirement already satisfied: sympy==1.13.1 in /usr/local/lib/python3.12/site-packages (from torch>=1.6.0->FlagEmbedding) (1.13.1)\n",
      "Requirement already satisfied: mpmath<1.4,>=1.1.0 in /usr/local/lib/python3.12/site-packages (from sympy==1.13.1->torch>=1.6.0->FlagEmbedding) (1.3.0)\n",
      "Requirement already satisfied: beautifulsoup4>=4.4.1 in /usr/local/lib/python3.12/site-packages (from ir-datasets->FlagEmbedding) (4.12.3)\n",
      "Collecting inscriptis>=2.2.0 (from ir-datasets->FlagEmbedding)\n",
      "  Using cached inscriptis-2.5.0-py3-none-any.whl.metadata (25 kB)\n",
      "Collecting lxml>=4.5.2 (from ir-datasets->FlagEmbedding)\n",
      "  Using cached lxml-5.3.0-cp312-cp312-manylinux_2_28_aarch64.whl.metadata (3.8 kB)\n",
      "Collecting trec-car-tools>=2.5.4 (from ir-datasets->FlagEmbedding)\n",
      "  Using cached trec_car_tools-2.6-py3-none-any.whl.metadata (640 bytes)\n",
      "Collecting lz4>=3.1.10 (from ir-datasets->FlagEmbedding)\n",
      "  Using cached lz4-4.3.3-cp312-cp312-manylinux_2_17_aarch64.manylinux2014_aarch64.whl.metadata (3.7 kB)\n",
      "Collecting warc3-wet>=0.2.3 (from ir-datasets->FlagEmbedding)\n",
      "  Using cached warc3_wet-0.2.5-py3-none-any.whl.metadata (2.2 kB)\n",
      "Collecting warc3-wet-clueweb09>=0.2.5 (from ir-datasets->FlagEmbedding)\n",
      "  Using cached warc3_wet_clueweb09-0.2.5-py3-none-any.whl\n",
      "Collecting zlib-state>=0.1.3 (from ir-datasets->FlagEmbedding)\n",
      "  Using cached zlib_state-0.1.9.tar.gz (9.5 kB)\n",
      "  Installing build dependencies ... \u001b[?25ldone\n",
      "\u001b[?25h  Getting requirements to build wheel ... \u001b[?25ldone\n",
      "\u001b[?25h  Preparing metadata (pyproject.toml) ... \u001b[?25ldone\n",
      "\u001b[?25hCollecting ijson>=3.1.3 (from ir-datasets->FlagEmbedding)\n",
      "  Using cached ijson-3.3.0-cp312-cp312-manylinux_2_17_aarch64.manylinux2014_aarch64.whl.metadata (21 kB)\n",
      "Collecting unlzw3>=0.2.1 (from ir-datasets->FlagEmbedding)\n",
      "  Using cached unlzw3-0.2.2-py3-none-any.whl.metadata (2.4 kB)\n",
      "Requirement already satisfied: scikit-learn in /usr/local/lib/python3.12/site-packages (from sentence-transformers->FlagEmbedding) (1.5.2)\n",
      "Requirement already satisfied: scipy in /usr/local/lib/python3.12/site-packages (from sentence-transformers->FlagEmbedding) (1.13.1)\n",
      "Requirement already satisfied: Pillow in /usr/local/lib/python3.12/site-packages (from sentence-transformers->FlagEmbedding) (11.0.0)\n",
      "Requirement already satisfied: soupsieve>1.2 in /usr/local/lib/python3.12/site-packages (from beautifulsoup4>=4.4.1->ir-datasets->FlagEmbedding) (2.6)\n",
      "Collecting aiohappyeyeballs>=2.3.0 (from aiohttp->datasets==2.19.0->FlagEmbedding)\n",
      "  Using cached aiohappyeyeballs-2.4.3-py3-none-any.whl.metadata (6.1 kB)\n",
      "Collecting aiosignal>=1.1.2 (from aiohttp->datasets==2.19.0->FlagEmbedding)\n",
      "  Using cached aiosignal-1.3.1-py3-none-any.whl.metadata (4.0 kB)\n",
      "Requirement already satisfied: attrs>=17.3.0 in /usr/local/lib/python3.12/site-packages (from aiohttp->datasets==2.19.0->FlagEmbedding) (24.2.0)\n",
      "Collecting frozenlist>=1.1.1 (from aiohttp->datasets==2.19.0->FlagEmbedding)\n",
      "  Using cached frozenlist-1.5.0-cp312-cp312-manylinux_2_17_aarch64.manylinux2014_aarch64.whl.metadata (13 kB)\n",
      "Collecting multidict<7.0,>=4.5 (from aiohttp->datasets==2.19.0->FlagEmbedding)\n",
      "  Using cached multidict-6.1.0-cp312-cp312-manylinux_2_17_aarch64.manylinux2014_aarch64.whl.metadata (5.0 kB)\n",
      "Collecting yarl<2.0,>=1.12.0 (from aiohttp->datasets==2.19.0->FlagEmbedding)\n",
      "  Using cached yarl-1.17.1-cp312-cp312-manylinux_2_17_aarch64.manylinux2014_aarch64.whl.metadata (64 kB)\n",
      "Requirement already satisfied: charset-normalizer<4,>=2 in /usr/local/lib/python3.12/site-packages (from requests>=2.19.0->datasets==2.19.0->FlagEmbedding) (3.4.0)\n",
      "Requirement already satisfied: idna<4,>=2.5 in /usr/local/lib/python3.12/site-packages (from requests>=2.19.0->datasets==2.19.0->FlagEmbedding) (3.10)\n",
      "Requirement already satisfied: urllib3<3,>=1.21.1 in /usr/local/lib/python3.12/site-packages (from requests>=2.19.0->datasets==2.19.0->FlagEmbedding) (2.2.3)\n",
      "Requirement already satisfied: certifi>=2017.4.17 in /usr/local/lib/python3.12/site-packages (from requests>=2.19.0->datasets==2.19.0->FlagEmbedding) (2024.8.30)\n",
      "Collecting cbor>=1.0.0 (from trec-car-tools>=2.5.4->ir-datasets->FlagEmbedding)\n",
      "  Using cached cbor-1.0.0-py3-none-any.whl\n",
      "Requirement already satisfied: MarkupSafe>=2.0 in /usr/local/lib/python3.12/site-packages (from jinja2->torch>=1.6.0->FlagEmbedding) (3.0.2)\n",
      "INFO: pip is looking at multiple versions of multiprocess to determine which version is compatible with other requirements. This could take a while.\n",
      "Collecting multiprocess (from datasets==2.19.0->FlagEmbedding)\n",
      "  Using cached multiprocess-0.70.16-py312-none-any.whl.metadata (7.2 kB)\n",
      "Requirement already satisfied: python-dateutil>=2.8.2 in /usr/local/lib/python3.12/site-packages (from pandas->datasets==2.19.0->FlagEmbedding) (2.9.0.post0)\n",
      "Requirement already satisfied: pytz>=2020.1 in /usr/local/lib/python3.12/site-packages (from pandas->datasets==2.19.0->FlagEmbedding) (2024.2)\n",
      "Requirement already satisfied: tzdata>=2022.7 in /usr/local/lib/python3.12/site-packages (from pandas->datasets==2.19.0->FlagEmbedding) (2024.2)\n",
      "Requirement already satisfied: joblib>=1.2.0 in /usr/local/lib/python3.12/site-packages (from scikit-learn->sentence-transformers->FlagEmbedding) (1.4.2)\n",
      "Requirement already satisfied: threadpoolctl>=3.1.0 in /usr/local/lib/python3.12/site-packages (from scikit-learn->sentence-transformers->FlagEmbedding) (3.5.0)\n",
      "Requirement already satisfied: six>=1.5 in /usr/local/lib/python3.12/site-packages (from python-dateutil>=2.8.2->pandas->datasets==2.19.0->FlagEmbedding) (1.16.0)\n",
      "Collecting propcache>=0.2.0 (from yarl<2.0,>=1.12.0->aiohttp->datasets==2.19.0->FlagEmbedding)\n",
      "  Using cached propcache-0.2.0-cp312-cp312-manylinux_2_17_aarch64.manylinux2014_aarch64.whl.metadata (7.7 kB)\n",
      "Using cached datasets-2.19.0-py3-none-any.whl (542 kB)\n",
      "Using cached transformers-4.44.2-py3-none-any.whl (9.5 MB)\n",
      "Using cached accelerate-1.1.0-py3-none-any.whl (333 kB)\n",
      "Using cached ir_datasets-0.5.8-py3-none-any.whl (347 kB)\n",
      "Using cached peft-0.13.2-py3-none-any.whl (320 kB)\n",
      "Using cached sentence_transformers-3.2.1-py3-none-any.whl (255 kB)\n",
      "Using cached dill-0.3.8-py3-none-any.whl (116 kB)\n",
      "Using cached fsspec-2024.3.1-py3-none-any.whl (171 kB)\n",
      "Using cached aiohttp-3.10.10-cp312-cp312-manylinux_2_17_aarch64.manylinux2014_aarch64.whl (1.3 MB)\n",
      "Using cached huggingface_hub-0.26.2-py3-none-any.whl (447 kB)\n",
      "Using cached ijson-3.3.0-cp312-cp312-manylinux_2_17_aarch64.manylinux2014_aarch64.whl (127 kB)\n",
      "Using cached inscriptis-2.5.0-py3-none-any.whl (45 kB)\n",
      "Using cached lxml-5.3.0-cp312-cp312-manylinux_2_28_aarch64.whl (4.7 MB)\n",
      "Using cached lz4-4.3.3-cp312-cp312-manylinux_2_17_aarch64.manylinux2014_aarch64.whl (1.2 MB)\n",
      "Using cached pyarrow-18.0.0-cp312-cp312-manylinux_2_28_aarch64.whl (38.6 MB)\n",
      "Using cached safetensors-0.4.5-cp312-cp312-manylinux_2_17_aarch64.manylinux2014_aarch64.whl (441 kB)\n",
      "Using cached tokenizers-0.19.1-cp312-cp312-manylinux_2_17_aarch64.manylinux2014_aarch64.whl (3.6 MB)\n",
      "Using cached trec_car_tools-2.6-py3-none-any.whl (8.4 kB)\n",
      "Using cached unlzw3-0.2.2-py3-none-any.whl (6.1 kB)\n",
      "Using cached warc3_wet-0.2.5-py3-none-any.whl (18 kB)\n",
      "Using cached multiprocess-0.70.16-py312-none-any.whl (146 kB)\n",
      "Using cached pyarrow_hotfix-0.6-py3-none-any.whl (7.9 kB)\n",
      "Using cached xxhash-3.5.0-cp312-cp312-manylinux_2_17_aarch64.manylinux2014_aarch64.whl (220 kB)\n",
      "Using cached aiohappyeyeballs-2.4.3-py3-none-any.whl (14 kB)\n",
      "Using cached aiosignal-1.3.1-py3-none-any.whl (7.6 kB)\n",
      "Using cached frozenlist-1.5.0-cp312-cp312-manylinux_2_17_aarch64.manylinux2014_aarch64.whl (282 kB)\n",
      "Using cached multidict-6.1.0-cp312-cp312-manylinux_2_17_aarch64.manylinux2014_aarch64.whl (130 kB)\n",
      "Using cached yarl-1.17.1-cp312-cp312-manylinux_2_17_aarch64.manylinux2014_aarch64.whl (331 kB)\n",
      "Using cached propcache-0.2.0-cp312-cp312-manylinux_2_17_aarch64.manylinux2014_aarch64.whl (246 kB)\n",
      "Building wheels for collected packages: zlib-state\n",
      "  Building wheel for zlib-state (pyproject.toml) ... \u001b[?25ldone\n",
      "\u001b[?25h  Created wheel for zlib-state: filename=zlib_state-0.1.9-cp312-cp312-linux_aarch64.whl size=21936 sha256=3d5ee07b0a0eff1e387628619e5478c576e3a6760d5c6ea63c49a0e417d64813\n",
      "  Stored in directory: /root/.cache/pip/wheels/e4/0b/ab/86e660791a4872a667afdfdeb54fbbc00ed27d70bec8ff5127\n",
      "Successfully built zlib-state\n",
      "Installing collected packages: warc3-wet-clueweb09, warc3-wet, ijson, cbor, zlib-state, xxhash, unlzw3, trec-car-tools, safetensors, pyarrow-hotfix, pyarrow, propcache, multidict, lz4, lxml, fsspec, frozenlist, dill, aiohappyeyeballs, yarl, multiprocess, inscriptis, huggingface-hub, aiosignal, tokenizers, ir-datasets, aiohttp, accelerate, transformers, sentence-transformers, peft, datasets, FlagEmbedding\n",
      "  Attempting uninstall: fsspec\n",
      "    Found existing installation: fsspec 2024.10.0\n",
      "    Uninstalling fsspec-2024.10.0:\n",
      "      Successfully uninstalled fsspec-2024.10.0\n",
      "Successfully installed FlagEmbedding-1.3.2 accelerate-1.1.0 aiohappyeyeballs-2.4.3 aiohttp-3.10.10 aiosignal-1.3.1 cbor-1.0.0 datasets-2.19.0 dill-0.3.8 frozenlist-1.5.0 fsspec-2024.3.1 huggingface-hub-0.26.2 ijson-3.3.0 inscriptis-2.5.0 ir-datasets-0.5.8 lxml-5.3.0 lz4-4.3.3 multidict-6.1.0 multiprocess-0.70.16 peft-0.13.2 propcache-0.2.0 pyarrow-18.0.0 pyarrow-hotfix-0.6 safetensors-0.4.5 sentence-transformers-3.2.1 tokenizers-0.19.1 transformers-4.44.2 trec-car-tools-2.6 unlzw3-0.2.2 warc3-wet-0.2.5 warc3-wet-clueweb09-0.2.5 xxhash-3.5.0 yarl-1.17.1 zlib-state-0.1.9\n",
      "\u001b[33mWARNING: Running pip as the 'root' user can result in broken permissions and conflicting behaviour with the system package manager, possibly rendering your system unusable.It is recommended to use a virtual environment instead: https://pip.pypa.io/warnings/venv. Use the --root-user-action option if you know what you are doing and want to suppress this warning.\u001b[0m\u001b[33m\n",
      "\u001b[0m"
     ]
    }
   ],
   "source": [
    "# bge-m3のパッケージのインストール\n",
    "!pip install FlagEmbedding"
   ]
  },
  {
   "cell_type": "code",
   "execution_count": 39,
   "metadata": {
    "id": "g_65JlM51d9Q"
   },
   "outputs": [
    {
     "name": "stderr",
     "output_type": "stream",
     "text": [
      "Fetching 30 files: 100%|██████████| 30/30 [02:04<00:00,  4.15s/it]\n"
     ]
    }
   ],
   "source": [
    "from FlagEmbedding import BGEM3FlagModel\n",
    "\n",
    "# 埋め込みモデルの準備\n",
    "model = BGEM3FlagModel(\"BAAI/bge-m3\", use_fp16=True)\n",
    "\n",
    "# 埋め込み関数の準備\n",
    "def embedding(texts):\n",
    "    return model.encode(texts)[\"dense_vecs\"]"
   ]
  },
  {
   "cell_type": "code",
   "execution_count": 40,
   "metadata": {
    "id": "mkaAyMoj2Czi"
   },
   "outputs": [
    {
     "name": "stderr",
     "output_type": "stream",
     "text": [
      "You're using a XLMRobertaTokenizerFast tokenizer. Please note that with a fast tokenizer, using the `__call__` method is faster than using a method to encode the text followed by a call to the `pad` method to get a padded encoding.\n"
     ]
    },
    {
     "name": "stdout",
     "output_type": "stream",
     "text": [
      "[[-0.02553461  0.01737304 -0.03744124 ... -0.02553592 -0.00239796\n",
      "   0.00116605]]\n"
     ]
    }
   ],
   "source": [
    "# テキストの準備\n",
    "texts = [\"これはテストです。\"]\n",
    "\n",
    "# テキストを埋め込みベクトルに変換\n",
    "embeds = embedding(texts)\n",
    "print(embeds)"
   ]
  },
  {
   "cell_type": "code",
   "execution_count": 41,
   "metadata": {
    "id": "tTcBBLFi2Czk"
   },
   "outputs": [
    {
     "name": "stdout",
     "output_type": "stream",
     "text": [
      "1024\n"
     ]
    }
   ],
   "source": [
    "# 埋め込みベクトルの長さの確認\n",
    "print(len(embeds[0]))"
   ]
  },
  {
   "cell_type": "markdown",
   "metadata": {
    "id": "r2nf0gTT2Czk"
   },
   "source": [
    "### bge-m3の近傍探索"
   ]
  },
  {
   "cell_type": "code",
   "execution_count": 42,
   "metadata": {
    "id": "egEMxzn12Czk"
   },
   "outputs": [
    {
     "name": "stderr",
     "output_type": "stream",
     "text": [
      "huggingface/tokenizers: The current process just got forked, after parallelism has already been used. Disabling parallelism to avoid deadlocks...\n",
      "To disable this warning, you can either:\n",
      "\t- Avoid using `tokenizers` before the fork if possible\n",
      "\t- Explicitly set the environment variable TOKENIZERS_PARALLELISM=(true | false)\n"
     ]
    },
    {
     "name": "stdout",
     "output_type": "stream",
     "text": [
      "Requirement already satisfied: faiss-cpu in /usr/local/lib/python3.12/site-packages (1.9.0)\n",
      "Requirement already satisfied: numpy<3.0,>=1.25.0 in /usr/local/lib/python3.12/site-packages (from faiss-cpu) (1.26.4)\n",
      "Requirement already satisfied: packaging in /usr/local/lib/python3.12/site-packages (from faiss-cpu) (24.1)\n",
      "\u001b[33mWARNING: Running pip as the 'root' user can result in broken permissions and conflicting behaviour with the system package manager, possibly rendering your system unusable.It is recommended to use a virtual environment instead: https://pip.pypa.io/warnings/venv. Use the --root-user-action option if you know what you are doing and want to suppress this warning.\u001b[0m\u001b[33m\n",
      "\u001b[0m"
     ]
    }
   ],
   "source": [
    "# Faissパッケージのインストール\n",
    "!pip install faiss-cpu"
   ]
  },
  {
   "cell_type": "code",
   "execution_count": 43,
   "metadata": {
    "id": "IgdOlssO2Czk"
   },
   "outputs": [],
   "source": [
    "# 入力テキスト\n",
    "in_texts = [\n",
    "    \"今日は雨振らなくてよかった\"\n",
    "]\n",
    "\n",
    "# 対象テキスト\n",
    "target_texts = [\n",
    "    \"好きな食べ物は何ですか?\",\n",
    "    \"どこにお住まいですか?\",\n",
    "    \"朝の電車は混みますね\",\n",
    "    \"今日は良いお天気ですね\",\n",
    "    \"最近景気悪いですね\"\n",
    "]\n",
    "\n",
    "# Embeddingの作成\n",
    "in_embeds = embedding(in_texts)\n",
    "target_embeds = embedding(target_texts)"
   ]
  },
  {
   "cell_type": "code",
   "execution_count": 44,
   "metadata": {
    "id": "OStu3itV2Czk"
   },
   "outputs": [],
   "source": [
    "import numpy as np\n",
    "\n",
    "# numpyへの変換\n",
    "in_embeds = np.array(in_embeds).astype(\"float32\")\n",
    "target_embeds = np.array(target_embeds).astype(\"float32\")"
   ]
  },
  {
   "cell_type": "code",
   "execution_count": 47,
   "metadata": {},
   "outputs": [
    {
     "data": {
      "text/plain": [
       "(5, 1024)"
      ]
     },
     "execution_count": 47,
     "metadata": {},
     "output_type": "execute_result"
    }
   ],
   "source": [
    "target_embeds.shape"
   ]
  },
  {
   "cell_type": "code",
   "execution_count": 46,
   "metadata": {
    "id": "9fKizJmV2Czl"
   },
   "outputs": [
    {
     "ename": "ModuleNotFoundError",
     "evalue": "No module named 'numpy.distutils'",
     "output_type": "error",
     "traceback": [
      "\u001b[0;31m---------------------------------------------------------------------------\u001b[0m",
      "\u001b[0;31mModuleNotFoundError\u001b[0m                       Traceback (most recent call last)",
      "Cell \u001b[0;32mIn[46], line 1\u001b[0m\n\u001b[0;32m----> 1\u001b[0m \u001b[38;5;28;01mimport\u001b[39;00m \u001b[38;5;21;01mfaiss\u001b[39;00m\n\u001b[1;32m      3\u001b[0m \u001b[38;5;66;03m# Faissのインデックス生成\u001b[39;00m\n\u001b[1;32m      4\u001b[0m index \u001b[38;5;241m=\u001b[39m faiss\u001b[38;5;241m.\u001b[39mIndexFlatL2()\n",
      "File \u001b[0;32m/usr/local/lib/python3.12/site-packages/faiss/__init__.py:16\u001b[0m\n\u001b[1;32m     13\u001b[0m \u001b[38;5;28;01mimport\u001b[39;00m \u001b[38;5;21;01minspect\u001b[39;00m\n\u001b[1;32m     15\u001b[0m \u001b[38;5;66;03m# We import * so that the symbol foo can be accessed as faiss.foo.\u001b[39;00m\n\u001b[0;32m---> 16\u001b[0m \u001b[38;5;28;01mfrom\u001b[39;00m \u001b[38;5;21;01m.\u001b[39;00m\u001b[38;5;21;01mloader\u001b[39;00m \u001b[38;5;28;01mimport\u001b[39;00m \u001b[38;5;241m*\u001b[39m\n\u001b[1;32m     18\u001b[0m \u001b[38;5;66;03m# additional wrappers\u001b[39;00m\n\u001b[1;32m     19\u001b[0m \u001b[38;5;28;01mfrom\u001b[39;00m \u001b[38;5;21;01mfaiss\u001b[39;00m \u001b[38;5;28;01mimport\u001b[39;00m class_wrappers\n",
      "File \u001b[0;32m/usr/local/lib/python3.12/site-packages/faiss/loader.py:88\u001b[0m\n\u001b[1;32m     85\u001b[0m \u001b[38;5;28;01mif\u001b[39;00m opt_level \u001b[38;5;129;01mis\u001b[39;00m \u001b[38;5;28;01mNone\u001b[39;00m:\n\u001b[1;32m     86\u001b[0m     logger\u001b[38;5;241m.\u001b[39mdebug(\u001b[38;5;124mf\u001b[39m\u001b[38;5;124m\"\u001b[39m\u001b[38;5;124mEnvironment variable \u001b[39m\u001b[38;5;132;01m{\u001b[39;00mopt_env_variable_name\u001b[38;5;132;01m}\u001b[39;00m\u001b[38;5;124m is not set, \u001b[39m\u001b[38;5;124m\"\u001b[39m \\\n\u001b[1;32m     87\u001b[0m                 \u001b[38;5;124m\"\u001b[39m\u001b[38;5;124mso let\u001b[39m\u001b[38;5;124m'\u001b[39m\u001b[38;5;124ms pick the instruction set according to the current CPU\u001b[39m\u001b[38;5;124m\"\u001b[39m)\n\u001b[0;32m---> 88\u001b[0m     instruction_sets \u001b[38;5;241m=\u001b[39m \u001b[43msupported_instruction_sets\u001b[49m\u001b[43m(\u001b[49m\u001b[43m)\u001b[49m\n\u001b[1;32m     89\u001b[0m \u001b[38;5;28;01melse\u001b[39;00m:\n\u001b[1;32m     90\u001b[0m     logger\u001b[38;5;241m.\u001b[39mdebug(\u001b[38;5;124mf\u001b[39m\u001b[38;5;124m\"\u001b[39m\u001b[38;5;124mUsing \u001b[39m\u001b[38;5;132;01m{\u001b[39;00mopt_level\u001b[38;5;132;01m}\u001b[39;00m\u001b[38;5;124m as an instruction set.\u001b[39m\u001b[38;5;124m\"\u001b[39m)\n",
      "File \u001b[0;32m/usr/local/lib/python3.12/site-packages/faiss/loader.py:53\u001b[0m, in \u001b[0;36msupported_instruction_sets\u001b[0;34m()\u001b[0m\n\u001b[1;32m     50\u001b[0m \u001b[38;5;66;03m# __cpu_features__ is a dictionary with CPU features\u001b[39;00m\n\u001b[1;32m     51\u001b[0m \u001b[38;5;66;03m# as keys, and True / False as values\u001b[39;00m\n\u001b[1;32m     52\u001b[0m supported \u001b[38;5;241m=\u001b[39m {k \u001b[38;5;28;01mfor\u001b[39;00m k, v \u001b[38;5;129;01min\u001b[39;00m __cpu_features__\u001b[38;5;241m.\u001b[39mitems() \u001b[38;5;28;01mif\u001b[39;00m v}\n\u001b[0;32m---> 53\u001b[0m \u001b[38;5;28;01mif\u001b[39;00m \u001b[43mis_sve_supported\u001b[49m\u001b[43m(\u001b[49m\u001b[43m)\u001b[49m:\n\u001b[1;32m     54\u001b[0m     supported\u001b[38;5;241m.\u001b[39madd(\u001b[38;5;124m\"\u001b[39m\u001b[38;5;124mSVE\u001b[39m\u001b[38;5;124m\"\u001b[39m)\n\u001b[1;32m     55\u001b[0m \u001b[38;5;28;01mfor\u001b[39;00m f \u001b[38;5;129;01min\u001b[39;00m os\u001b[38;5;241m.\u001b[39mgetenv(\u001b[38;5;124m\"\u001b[39m\u001b[38;5;124mFAISS_DISABLE_CPU_FEATURES\u001b[39m\u001b[38;5;124m\"\u001b[39m, \u001b[38;5;124m\"\u001b[39m\u001b[38;5;124m\"\u001b[39m)\u001b[38;5;241m.\u001b[39msplit(\u001b[38;5;124m\"\u001b[39m\u001b[38;5;124m, \u001b[39m\u001b[38;5;130;01m\\t\u001b[39;00m\u001b[38;5;130;01m\\n\u001b[39;00m\u001b[38;5;130;01m\\r\u001b[39;00m\u001b[38;5;124m\"\u001b[39m):\n",
      "File \u001b[0;32m/usr/local/lib/python3.12/site-packages/faiss/loader.py:43\u001b[0m, in \u001b[0;36msupported_instruction_sets.<locals>.is_sve_supported\u001b[0;34m()\u001b[0m\n\u001b[1;32m     41\u001b[0m     \u001b[38;5;28;01mreturn\u001b[39;00m \u001b[38;5;28;01mFalse\u001b[39;00m\n\u001b[1;32m     42\u001b[0m \u001b[38;5;66;03m# platform-dependent legacy fallback using numpy.distutils.cpuinfo\u001b[39;00m\n\u001b[0;32m---> 43\u001b[0m \u001b[38;5;28;01mimport\u001b[39;00m \u001b[38;5;21;01mnumpy\u001b[39;00m\u001b[38;5;21;01m.\u001b[39;00m\u001b[38;5;21;01mdistutils\u001b[39;00m\u001b[38;5;21;01m.\u001b[39;00m\u001b[38;5;21;01mcpuinfo\u001b[39;00m\n\u001b[1;32m     44\u001b[0m \u001b[38;5;28;01mreturn\u001b[39;00m \u001b[38;5;124m\"\u001b[39m\u001b[38;5;124msve\u001b[39m\u001b[38;5;124m\"\u001b[39m \u001b[38;5;129;01min\u001b[39;00m numpy\u001b[38;5;241m.\u001b[39mdistutils\u001b[38;5;241m.\u001b[39mcpuinfo\u001b[38;5;241m.\u001b[39mcpu\u001b[38;5;241m.\u001b[39minfo[\u001b[38;5;241m0\u001b[39m]\u001b[38;5;241m.\u001b[39mget(\u001b[38;5;124m'\u001b[39m\u001b[38;5;124mFeatures\u001b[39m\u001b[38;5;124m'\u001b[39m, \u001b[38;5;124m\"\u001b[39m\u001b[38;5;124m\"\u001b[39m)\u001b[38;5;241m.\u001b[39msplit()\n",
      "\u001b[0;31mModuleNotFoundError\u001b[0m: No module named 'numpy.distutils'"
     ]
    }
   ],
   "source": [
    "import faiss\n",
    "\n",
    "# Faissのインデックス生成\n",
    "index = faiss.IndexFlatL2(len(in_embeds[0]))"
   ]
  },
  {
   "cell_type": "code",
   "execution_count": null,
   "metadata": {
    "id": "WGj3fhG92Czl"
   },
   "outputs": [],
   "source": [
    "# 対象テキストをインデックスに追加\n",
    "index.add(target_embeds)"
   ]
  },
  {
   "cell_type": "code",
   "execution_count": null,
   "metadata": {
    "id": "yxo0VFGG2Czl"
   },
   "outputs": [],
   "source": [
    "# 近傍探索の実行\n",
    "distances, indices = index.search(in_embeds, 1)\n",
    "\n",
    "# 確認\n",
    "print(distances)\n",
    "print(indices)\n",
    "print(target_texts[indices[0][0]])"
   ]
  }
 ],
 "metadata": {
  "colab": {
   "provenance": [
    {
     "file_id": "https://github.com/camenduru/DemoFusion-colab/blob/main/DemoFusion_colab.ipynb",
     "timestamp": 1701984399165
    }
   ]
  },
  "kernelspec": {
   "display_name": "Python 3 (ipykernel)",
   "language": "python",
   "name": "python3"
  },
  "language_info": {
   "codemirror_mode": {
    "name": "ipython",
    "version": 3
   },
   "file_extension": ".py",
   "mimetype": "text/x-python",
   "name": "python",
   "nbconvert_exporter": "python",
   "pygments_lexer": "ipython3",
   "version": "3.11.10"
  }
 },
 "nbformat": 4,
 "nbformat_minor": 4
}
