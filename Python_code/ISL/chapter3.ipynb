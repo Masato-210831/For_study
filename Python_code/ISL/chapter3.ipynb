{
 "cells": [
  {
   "cell_type": "markdown",
   "id": "65791a19-7ba1-4e3b-a1e8-7ef4bd15e0b1",
   "metadata": {},
   "source": [
    "## Liner Regression "
   ]
  },
  {
   "cell_type": "code",
   "execution_count": 1,
   "id": "da736952-ca39-48db-9236-e74016afcd7e",
   "metadata": {},
   "outputs": [],
   "source": [
    "import numpy as np\n",
    "import pandas as pd\n",
    "import matplotlib.pyplot as plt\n",
    "from matplotlib.pyplot import subplot"
   ]
  },
  {
   "cell_type": "code",
   "execution_count": 2,
   "id": "8cc15a2c-851f-4f1e-aa1c-13d09ef06218",
   "metadata": {},
   "outputs": [],
   "source": [
    "import statsmodels.api as sm"
   ]
  },
  {
   "cell_type": "code",
   "execution_count": 3,
   "id": "ce6812ad-33aa-4735-9c15-016240503b9b",
   "metadata": {},
   "outputs": [],
   "source": [
    "from statsmodels.stats.outliers_influence \\\n",
    "import variance_inflation_factor as VIF\n",
    "from statsmodels.stats.anova import anova_lm"
   ]
  },
  {
   "cell_type": "code",
   "execution_count": 4,
   "id": "315e31ff-e303-42e9-8760-3fd9a65de2fd",
   "metadata": {},
   "outputs": [],
   "source": [
    "Boston = pd.read_csv('data/housing.csv', sep='\\s+', header=None)\n",
    "set_columns = [\"crim\",\"zn\",\"indus\",\"chas\",\"nox\",\"rm\",\"age\",\"dis\",\"rad\",\"tax\",\"ptratio\",\"b\",\"lstat\",\"medv\"]\n",
    "set_columns = list(map(lambda x: x.upper(),set_columns))\n",
    "Boston.columns = set_columns"
   ]
  },
  {
   "cell_type": "code",
   "execution_count": 5,
   "id": "29286a8e-9202-42a3-871c-6b53b59ce19c",
   "metadata": {
    "scrolled": true
   },
   "outputs": [
    {
     "data": {
      "text/plain": [
       "Index(['CRIM', 'ZN', 'INDUS', 'CHAS', 'NOX', 'RM', 'AGE', 'DIS', 'RAD', 'TAX',\n",
       "       'PTRATIO', 'B', 'LSTAT', 'MEDV'],\n",
       "      dtype='object')"
      ]
     },
     "execution_count": 5,
     "metadata": {},
     "output_type": "execute_result"
    }
   ],
   "source": [
    "Boston.columns"
   ]
  },
  {
   "cell_type": "markdown",
   "id": "77bb8fa9-4139-49e4-8d30-47caef93da70",
   "metadata": {},
   "source": [
    "CRIM - 一人当たりの町の犯罪率  \n",
    "ZN - 25,000平方フィート以上の区画に指定された住宅用地の割合  \n",
    "INDUS - 町ごとの非小売業務用地の割合  \n",
    "CHAS - チャールズ川ダミー変数（河川に沿っている場合は1、そうでない場合は0）  \n",
    "NOX - 一酸化窒素濃度（1000万分の1単位）  \n",
    "RM - 住宅1戸当たりの平均部屋数  \n",
    "AGE - 1940年以前に建てられた自家所有住宅の割合  \n",
    "DIS - ボストンの5つの雇用センターへの加重距離  \n",
    "RAD - 放射状高速道路へのアクセス指数  \n",
    "TAX - $10,000あたりの固定資産税率\n",
    "\n",
    "PTRATIO - 町ごとの生徒-教師比率  \n",
    "B - \"1000(Bk - 0.63)^2\" ここでBkは町ごとの黒人人口割合  \n",
    "LSTAT - 低所得者層の人口割合  \n",
    "MEDV - 自家所有住宅の中央値（$1000単位）  "
   ]
  },
  {
   "cell_type": "code",
   "execution_count": 6,
   "id": "94100954-56cb-4468-9905-6f8a15cd9866",
   "metadata": {},
   "outputs": [],
   "source": [
    "X = pd.DataFrame({'intercept': np.ones(Boston.shape[0]), 'LSTAT': \n",
    "                 Boston['LSTAT']})"
   ]
  },
  {
   "cell_type": "code",
   "execution_count": 7,
   "id": "0517fb75-a5dd-40ca-9d1f-2b5234381bcb",
   "metadata": {},
   "outputs": [
    {
     "data": {
      "text/html": [
       "<div>\n",
       "<style scoped>\n",
       "    .dataframe tbody tr th:only-of-type {\n",
       "        vertical-align: middle;\n",
       "    }\n",
       "\n",
       "    .dataframe tbody tr th {\n",
       "        vertical-align: top;\n",
       "    }\n",
       "\n",
       "    .dataframe thead th {\n",
       "        text-align: right;\n",
       "    }\n",
       "</style>\n",
       "<table border=\"1\" class=\"dataframe\">\n",
       "  <thead>\n",
       "    <tr style=\"text-align: right;\">\n",
       "      <th></th>\n",
       "      <th>intercept</th>\n",
       "      <th>LSTAT</th>\n",
       "    </tr>\n",
       "  </thead>\n",
       "  <tbody>\n",
       "    <tr>\n",
       "      <th>0</th>\n",
       "      <td>1.0</td>\n",
       "      <td>4.98</td>\n",
       "    </tr>\n",
       "    <tr>\n",
       "      <th>1</th>\n",
       "      <td>1.0</td>\n",
       "      <td>9.14</td>\n",
       "    </tr>\n",
       "    <tr>\n",
       "      <th>2</th>\n",
       "      <td>1.0</td>\n",
       "      <td>4.03</td>\n",
       "    </tr>\n",
       "    <tr>\n",
       "      <th>3</th>\n",
       "      <td>1.0</td>\n",
       "      <td>2.94</td>\n",
       "    </tr>\n",
       "  </tbody>\n",
       "</table>\n",
       "</div>"
      ],
      "text/plain": [
       "   intercept  LSTAT\n",
       "0        1.0   4.98\n",
       "1        1.0   9.14\n",
       "2        1.0   4.03\n",
       "3        1.0   2.94"
      ]
     },
     "execution_count": 7,
     "metadata": {},
     "output_type": "execute_result"
    }
   ],
   "source": [
    "X.head(4)"
   ]
  },
  {
   "cell_type": "code",
   "execution_count": 8,
   "id": "851d5acf-b7b4-4d85-8c4a-ca91867c59c3",
   "metadata": {},
   "outputs": [],
   "source": [
    "y = Boston['MEDV']\n",
    "model = sm.OLS(y, X)\n",
    "results = model.fit()"
   ]
  },
  {
   "cell_type": "code",
   "execution_count": 12,
   "id": "40e4f8bf-d340-4d83-ac2a-e379a13795cb",
   "metadata": {},
   "outputs": [
    {
     "name": "stdout",
     "output_type": "stream",
     "text": [
      "                            OLS Regression Results                            \n",
      "==============================================================================\n",
      "Dep. Variable:                   MEDV   R-squared:                       0.544\n",
      "Model:                            OLS   Adj. R-squared:                  0.543\n",
      "Method:                 Least Squares   F-statistic:                     601.6\n",
      "Date:                Thu, 11 Jul 2024   Prob (F-statistic):           5.08e-88\n",
      "Time:                        06:12:59   Log-Likelihood:                -1641.5\n",
      "No. Observations:                 506   AIC:                             3287.\n",
      "Df Residuals:                     504   BIC:                             3295.\n",
      "Df Model:                           1                                         \n",
      "Covariance Type:            nonrobust                                         \n",
      "==============================================================================\n",
      "                 coef    std err          t      P>|t|      [0.025      0.975]\n",
      "------------------------------------------------------------------------------\n",
      "intercept     34.5538      0.563     61.415      0.000      33.448      35.659\n",
      "LSTAT         -0.9500      0.039    -24.528      0.000      -1.026      -0.874\n",
      "==============================================================================\n",
      "Omnibus:                      137.043   Durbin-Watson:                   0.892\n",
      "Prob(Omnibus):                  0.000   Jarque-Bera (JB):              291.373\n",
      "Skew:                           1.453   Prob(JB):                     5.36e-64\n",
      "Kurtosis:                       5.319   Cond. No.                         29.7\n",
      "==============================================================================\n",
      "\n",
      "Notes:\n",
      "[1] Standard Errors assume that the covariance matrix of the errors is correctly specified.\n"
     ]
    }
   ],
   "source": [
    "print(results.summary())"
   ]
  },
  {
   "cell_type": "code",
   "execution_count": null,
   "id": "522bfe26-8893-40aa-956c-1f08d4541240",
   "metadata": {},
   "outputs": [],
   "source": []
  },
  {
   "cell_type": "code",
   "execution_count": null,
   "id": "bca90fc0-d48f-4016-8646-1189cb21013c",
   "metadata": {},
   "outputs": [],
   "source": []
  },
  {
   "cell_type": "code",
   "execution_count": null,
   "id": "d86e19f2-b087-4cb4-9353-4f48cdd34432",
   "metadata": {},
   "outputs": [],
   "source": []
  },
  {
   "cell_type": "code",
   "execution_count": null,
   "id": "bc92c89e-f508-4f11-b8a8-5801adce2489",
   "metadata": {},
   "outputs": [],
   "source": []
  },
  {
   "cell_type": "code",
   "execution_count": null,
   "id": "221f6be7-d073-4c3c-ba44-83c9bdba3ff0",
   "metadata": {},
   "outputs": [],
   "source": []
  }
 ],
 "metadata": {
  "kernelspec": {
   "display_name": "Python 3 (ipykernel)",
   "language": "python",
   "name": "python3"
  },
  "language_info": {
   "codemirror_mode": {
    "name": "ipython",
    "version": 3
   },
   "file_extension": ".py",
   "mimetype": "text/x-python",
   "name": "python",
   "nbconvert_exporter": "python",
   "pygments_lexer": "ipython3",
   "version": "3.8.18"
  }
 },
 "nbformat": 4,
 "nbformat_minor": 5
}
