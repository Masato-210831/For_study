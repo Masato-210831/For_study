{
 "cells": [
  {
   "cell_type": "code",
   "execution_count": 2,
   "id": "67f3067c-33fa-4642-8bba-6c30cf914c2b",
   "metadata": {},
   "outputs": [],
   "source": [
    "import numpy as np\n",
    "from hidden_others.mnist import load_mnist"
   ]
  },
  {
   "cell_type": "code",
   "execution_count": 7,
   "id": "0f9b2c99-4136-42e7-aaed-a8a6abfbe455",
   "metadata": {},
   "outputs": [
    {
     "name": "stdout",
     "output_type": "stream",
     "text": [
      "(60000, 784)\n",
      "(60000, 10)\n"
     ]
    }
   ],
   "source": [
    "# データの取り込み\n",
    "(x_train, t_train), (x_test, t_test) = load_mnist(normalize=True, one_hot_label=True)\n",
    "\n",
    "# データの形状\n",
    "print(x_train.shape)\n",
    "print(t_train.shape)"
   ]
  },
  {
   "cell_type": "code",
   "execution_count": 10,
   "id": "f5fe67c9-07ea-4584-b09d-c46988d34816",
   "metadata": {},
   "outputs": [],
   "source": [
    "# ランダムに10データを取り出す\n",
    "train_size = x_train.shape[0]\n",
    "batch_size = 10\n",
    "\n",
    "# ランダムなインデックスをチョイス => データを抽出\n",
    "batch_mask = np.random.choice(train_size, batch_size)\n",
    "x_batch = x_train[batch_mask]\n",
    "t_batch = t_train[batch_mask]\n",
    "\n"
   ]
  },
  {
   "cell_type": "code",
   "execution_count": 9,
   "id": "f07447f3-d0b1-42a5-a6e0-7ef7ad389bfe",
   "metadata": {},
   "outputs": [
    {
     "data": {
      "text/plain": [
       "array([37664, 55983, 11109, 54578, 12414, 56261, 10317, 51508, 33971,\n",
       "       53471])"
      ]
     },
     "execution_count": 9,
     "metadata": {},
     "output_type": "execute_result"
    }
   ],
   "source": [
    "batch_mask"
   ]
  },
  {
   "cell_type": "code",
   "execution_count": 19,
   "id": "7317e1bc-0791-4c1d-aef5-dad41a8fb826",
   "metadata": {},
   "outputs": [],
   "source": [
    "def corss_entropy_error(y, t):\n",
    "    if np.ndim(x) == 1:\n",
    "        # 次元を増やす\n",
    "        t = t.reshape(1, t.size)\n",
    "        y = y.reshape(1, y.size)\n",
    "        \n",
    "    batch_size = y.shape[0]\n",
    "    return -np.sum(t * log(y + 1e-7)) / batch_size"
   ]
  },
  {
   "cell_type": "code",
   "execution_count": 20,
   "id": "5d0f7cde-632e-4834-8aa9-6311a1427b91",
   "metadata": {},
   "outputs": [],
   "source": [
    "a = np.array([1, 3])"
   ]
  },
  {
   "cell_type": "code",
   "execution_count": 28,
   "id": "7db3fd48-c70c-4979-8cec-d7253a4623d5",
   "metadata": {},
   "outputs": [
    {
     "name": "stdout",
     "output_type": "stream",
     "text": [
      "2\n",
      "1\n"
     ]
    },
    {
     "data": {
      "text/plain": [
       "array([[1, 3]])"
      ]
     },
     "execution_count": 28,
     "metadata": {},
     "output_type": "execute_result"
    }
   ],
   "source": [
    "print(a.size)\n",
    "print(np.ndim(a))\n",
    "a.reshape(1, a.size)"
   ]
  },
  {
   "cell_type": "code",
   "execution_count": null,
   "id": "df34d9a4-092c-4ad1-b8ab-204345d0df1b",
   "metadata": {},
   "outputs": [],
   "source": [
    "# tがラベルだった場合\n",
    "def cross_entopy_error()"
   ]
  },
  {
   "cell_type": "code",
   "execution_count": null,
   "id": "f0c3f5ec-041e-4c10-a306-e45d62a2ffba",
   "metadata": {},
   "outputs": [],
   "source": []
  },
  {
   "cell_type": "code",
   "execution_count": null,
   "id": "a701b44d-071b-4eb2-beb0-c06bd90b57b9",
   "metadata": {},
   "outputs": [],
   "source": []
  },
  {
   "cell_type": "code",
   "execution_count": null,
   "id": "3f983c67-0c1e-4fa2-adb6-cbb21346f29f",
   "metadata": {},
   "outputs": [],
   "source": []
  },
  {
   "cell_type": "code",
   "execution_count": null,
   "id": "bdcce3de-5f0b-4d6a-b3eb-632a4d12929f",
   "metadata": {},
   "outputs": [],
   "source": []
  }
 ],
 "metadata": {
  "kernelspec": {
   "display_name": "Python 3 (ipykernel)",
   "language": "python",
   "name": "python3"
  },
  "language_info": {
   "codemirror_mode": {
    "name": "ipython",
    "version": 3
   },
   "file_extension": ".py",
   "mimetype": "text/x-python",
   "name": "python",
   "nbconvert_exporter": "python",
   "pygments_lexer": "ipython3",
   "version": "3.9.13"
  }
 },
 "nbformat": 4,
 "nbformat_minor": 5
}
