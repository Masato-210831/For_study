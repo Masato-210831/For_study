{
 "cells": [
  {
   "cell_type": "code",
   "execution_count": 2,
   "id": "67f3067c-33fa-4642-8bba-6c30cf914c2b",
   "metadata": {},
   "outputs": [],
   "source": [
    "import numpy as np\n",
    "from hidden_others.mnist import load_mnist"
   ]
  },
  {
   "cell_type": "code",
   "execution_count": 7,
   "id": "0f9b2c99-4136-42e7-aaed-a8a6abfbe455",
   "metadata": {},
   "outputs": [
    {
     "name": "stdout",
     "output_type": "stream",
     "text": [
      "(60000, 784)\n",
      "(60000, 10)\n"
     ]
    }
   ],
   "source": [
    "# データの取り込み\n",
    "(x_train, t_train), (x_test, t_test) = load_mnist(normalize=True, one_hot_label=True)\n",
    "\n",
    "# データの形状\n",
    "print(x_train.shape)\n",
    "print(t_train.shape)"
   ]
  },
  {
   "cell_type": "code",
   "execution_count": 10,
   "id": "f5fe67c9-07ea-4584-b09d-c46988d34816",
   "metadata": {},
   "outputs": [],
   "source": [
    "# ランダムに10データを取り出す\n",
    "train_size = x_train.shape[0]\n",
    "batch_size = 10\n",
    "\n",
    "# ランダムなインデックスをチョイス => データを抽出\n",
    "batch_mask = np.random.choice(train_size, batch_size)\n",
    "x_batch = x_train[batch_mask]\n",
    "t_batch = t_train[batch_mask]\n",
    "\n"
   ]
  },
  {
   "cell_type": "code",
   "execution_count": 9,
   "id": "f07447f3-d0b1-42a5-a6e0-7ef7ad389bfe",
   "metadata": {},
   "outputs": [
    {
     "data": {
      "text/plain": [
       "array([37664, 55983, 11109, 54578, 12414, 56261, 10317, 51508, 33971,\n",
       "       53471])"
      ]
     },
     "execution_count": 9,
     "metadata": {},
     "output_type": "execute_result"
    }
   ],
   "source": [
    "batch_mask"
   ]
  },
  {
   "cell_type": "code",
   "execution_count": 19,
   "id": "7317e1bc-0791-4c1d-aef5-dad41a8fb826",
   "metadata": {},
   "outputs": [],
   "source": [
    "def corss_entropy_error(y, t):\n",
    "    if np.ndim(x) == 1:\n",
    "        # 次元を増やす\n",
    "        t = t.reshape(1, t.size)\n",
    "        y = y.reshape(1, y.size)\n",
    "        \n",
    "    batch_size = y.shape[0]\n",
    "    return -np.sum(t * log(y + 1e-7)) / batch_size"
   ]
  },
  {
   "cell_type": "code",
   "execution_count": 20,
   "id": "5d0f7cde-632e-4834-8aa9-6311a1427b91",
   "metadata": {},
   "outputs": [],
   "source": [
    "a = np.array([1, 3])"
   ]
  },
  {
   "cell_type": "code",
   "execution_count": 28,
   "id": "7db3fd48-c70c-4979-8cec-d7253a4623d5",
   "metadata": {},
   "outputs": [
    {
     "name": "stdout",
     "output_type": "stream",
     "text": [
      "2\n",
      "1\n"
     ]
    },
    {
     "data": {
      "text/plain": [
       "array([[1, 3]])"
      ]
     },
     "execution_count": 28,
     "metadata": {},
     "output_type": "execute_result"
    }
   ],
   "source": [
    "print(a.size)\n",
    "print(np.ndim(a))\n",
    "a.reshape(1, a.size)"
   ]
  },
  {
   "cell_type": "code",
   "execution_count": 14,
   "id": "2f2ec259-b963-4cd9-929f-b6b78e3167ed",
   "metadata": {},
   "outputs": [],
   "source": [
    "import numpy as np\n",
    "import matplotlib.pyplot as plt"
   ]
  },
  {
   "cell_type": "code",
   "execution_count": 21,
   "id": "df34d9a4-092c-4ad1-b8ab-204345d0df1b",
   "metadata": {},
   "outputs": [],
   "source": [
    "# 数値微分　（中心差分）\n",
    "def numerical_diff(f, x):\n",
    "    h = 1e-4 # 0.0001\n",
    "    return (f(x+h) - f(x-h)) / (2*h)"
   ]
  },
  {
   "cell_type": "code",
   "execution_count": null,
   "id": "4ec851d9-05c9-445b-8a3a-f1ed818b903c",
   "metadata": {},
   "outputs": [],
   "source": []
  },
  {
   "cell_type": "code",
   "execution_count": 34,
   "id": "89459f4b-a9ba-4564-b3ef-2fef5a2faec6",
   "metadata": {},
   "outputs": [
    {
     "data": {
      "text/plain": [
       "<matplotlib.collections.LineCollection at 0x7f9ebe2c8b80>"
      ]
     },
     "execution_count": 34,
     "metadata": {},
     "output_type": "execute_result"
    },
    {
     "data": {
      "image/png": "[encoded data removed]",
      "text/plain": [
       "<Figure size 640x480 with 1 Axes>"
      ]
     },
     "metadata": {},
     "output_type": "display_data"
    }
   ],
   "source": [
    "# y = 0.01*x**2 + 0.1*xの関数\n",
    "\n",
    "def function_1(x):\n",
    "    return 0.01*x**2 + 0.1*x\n",
    "\n",
    "# x = ５の接戦\n",
    "x_pre = 5\n",
    "y = 0.01*x_pre**2 + 0.1*x_pre\n",
    "coef = numerical_diff(function_1, 5)\n",
    "intercept = y - coef*5\n",
    "diff_y = coef*x + intercept\n",
    "\n",
    "\n",
    "x = np.arange(0.0, 20.0, 0.1)\n",
    "y = function(x)\n",
    "plt.plot(x, y)\n",
    "plt.plot(x, diff_y)\n",
    "plt.xlabel('x')\n",
    "plt.ylabel('f(x)')\n"
   ]
  },
  {
   "cell_type": "code",
   "execution_count": 25,
   "id": "55961a9f-43bb-4503-86f7-4c1ce03950ee",
   "metadata": {},
   "outputs": [
    {
     "data": {
      "text/plain": [
       "0.1999999999990898"
      ]
     },
     "execution_count": 25,
     "metadata": {},
     "output_type": "execute_result"
    }
   ],
   "source": [
    "numerical_diff(function_1, 5)"
   ]
  },
  {
   "cell_type": "code",
   "execution_count": 36,
   "id": "d6903b01-cbcf-46a8-bc6c-d56705ea4c0b",
   "metadata": {},
   "outputs": [
    {
     "name": "stdout",
     "output_type": "stream",
     "text": [
      "0.1999999999990898\n"
     ]
    }
   ],
   "source": [
    "def tangent_line(f, x):\n",
    "    d = numerical_diff(f, x)\n",
    "    print(d)\n",
    "    y = f(x) - d*x\n",
    "    return lambda t: d*t + y\n",
    "\n",
    "tf = tangent_line(function_1, 5)"
   ]
  },
  {
   "cell_type": "code",
   "execution_count": 46,
   "id": "becde5eb-7474-4cd0-8e01-0b22fc35d407",
   "metadata": {},
   "outputs": [],
   "source": [
    "a = np.array([1,2,3])"
   ]
  },
  {
   "cell_type": "code",
   "execution_count": 47,
   "id": "fd2ae126-a95b-41cd-a1de-702ecf46883d",
   "metadata": {},
   "outputs": [
    {
     "data": {
      "text/plain": [
       "3"
      ]
     },
     "execution_count": 47,
     "metadata": {},
     "output_type": "execute_result"
    }
   ],
   "source": [
    "a.size"
   ]
  },
  {
   "cell_type": "markdown",
   "id": "4edcd525-0294-4f64-aaac-59122af9a061",
   "metadata": {},
   "source": [
    "## 偏微分"
   ]
  },
  {
   "cell_type": "code",
   "execution_count": 48,
   "id": "3b71357e-a2b7-40ca-84ca-ed0302fee6e4",
   "metadata": {},
   "outputs": [],
   "source": [
    "# x_0**2 + x_1**2 \n",
    "def function_2(x):\n",
    "    return np.sum(x**2)\n"
   ]
  },
  {
   "cell_type": "code",
   "execution_count": 50,
   "id": "439b6fa4-9e67-42d2-95ea-7d09d429a0e9",
   "metadata": {},
   "outputs": [
    {
     "data": {
      "text/plain": [
       "6.00000000000378"
      ]
     },
     "execution_count": 50,
     "metadata": {},
     "output_type": "execute_result"
    }
   ],
   "source": [
    "x = np.array([3.0, 4.0])\n",
    "h = 1e-4\n",
    "grad = np.zeros_like(x)\n",
    "\n",
    "tmp_val = x[0]\n",
    "x[0] = tmp_val + h\n",
    "fxh1 = function_2(x)\n",
    "\n",
    "x[0] = tmp_val - h\n",
    "fxh2 = function_2(x)\n",
    "\n",
    "(fxh1 - fxh2) / (2*h)"
   ]
  },
  {
   "cell_type": "code",
   "execution_count": null,
   "id": "5a5add0b-6995-49dc-bb9e-42d92b54f797",
   "metadata": {},
   "outputs": [],
   "source": []
  },
  {
   "cell_type": "markdown",
   "id": "136b801c-1b0c-44f7-990c-5afa3afa7a90",
   "metadata": {},
   "source": [
    "## 勾配法 "
   ]
  },
  {
   "cell_type": "code",
   "execution_count": 64,
   "id": "34bc998b-4520-4edc-bce8-ec56d2b7eb96",
   "metadata": {},
   "outputs": [],
   "source": [
    "def numerical_gradient(f, x):\n",
    "    h = 1e-4\n",
    "    grad = np.zeros_like(x)\n",
    "\n",
    "    for idx in range(x.size):\n",
    "        tmp_val = x[idx]\n",
    "        x[idx] = tmp_val + h\n",
    "        fxh1 = function_2(x)\n",
    "\n",
    "        x[idx] = tmp_val - h\n",
    "        fxh2 = function_2(x)\n",
    "\n",
    "        grad[idx] = (fxh1 - fxh2) / (2*h)\n",
    "        x[idx] = tmp_val\n",
    "    return grad"
   ]
  },
  {
   "cell_type": "code",
   "execution_count": 65,
   "id": "f02846c7-43bb-4687-ac77-efe747a688ef",
   "metadata": {},
   "outputs": [],
   "source": [
    "def gradient_descent(f, init_x, lr=0.01, step_num=100):\n",
    "    x = init_x\n",
    "    \n",
    "    for i in range(step_num):\n",
    "        # 勾配計算\n",
    "        grad = numerical_gradient(f, x)\n",
    "        # パラメータ更新\n",
    "        x -= lr * grad\n",
    "        \n",
    "    return x"
   ]
  },
  {
   "cell_type": "code",
   "execution_count": 66,
   "id": "c672849e-7d7f-4da6-bc58-a0e8b48e8ea6",
   "metadata": {},
   "outputs": [
    {
     "data": {
      "text/plain": [
       "array([-6.11110793e-10,  8.14814391e-10])"
      ]
     },
     "execution_count": 66,
     "metadata": {},
     "output_type": "execute_result"
    }
   ],
   "source": [
    "# f(x0, x1) = x0**2 + x1**2の最小値を勾配法で求める\n",
    "\n",
    "# 関数\n",
    "def function_2(x):\n",
    "    return np.sum(x**2)\n",
    "\n",
    "# 初期値\n",
    "init_x = np.array([-3.0, 4.0])\n",
    "\n",
    "gradient_descent(f=function_2, init_x=init_x, lr=0.1, step_num=100)"
   ]
  },
  {
   "cell_type": "code",
   "execution_count": 62,
   "id": "8dfbd856-6530-40d7-95aa-71c9ee35a819",
   "metadata": {},
   "outputs": [],
   "source": [
    "grad = numerical_gradient(function_2, init_x)"
   ]
  },
  {
   "cell_type": "code",
   "execution_count": 71,
   "id": "69cdb34d-ebde-4cc7-ba2a-d79fe47cb5c8",
   "metadata": {},
   "outputs": [
    {
     "data": {
      "image/png": "[encoded data removed]",
      "text/plain": [
       "<Figure size 640x480 with 1 Axes>"
      ]
     },
     "metadata": {},
     "output_type": "display_data"
    }
   ],
   "source": [
    "import numpy as np\n",
    "import matplotlib.pylab as plt\n",
    "\n",
    "\n",
    "def gradient_descent(f, init_x, lr=0.01, step_num=100):\n",
    "    x = init_x\n",
    "    x_history = []\n",
    "\n",
    "    for i in range(step_num):\n",
    "        x_history.append( x )\n",
    "\n",
    "        grad = numerical_gradient(f, x)\n",
    "        x -= lr * grad\n",
    "\n",
    "    return x, np.array(x_history)\n",
    "\n",
    "\n",
    "def function_2(x):\n",
    "    return x[0]**2 + x[1]**2\n",
    "\n",
    "init_x = np.array([-3.0, 4.0])    \n",
    "\n",
    "lr = 0.1\n",
    "step_num = 20\n",
    "x, x_history = gradient_descent(function_2, init_x, lr=lr, step_num=step_num)\n",
    "\n",
    "plt.plot( [-5, 5], [0,0], '--b')\n",
    "plt.plot( [0,0], [-5, 5], '--b')\n",
    "plt.plot(x_history[:,0], x_history[:,1], 'o')\n",
    "\n",
    "plt.xlim(-3.5, 3.5)\n",
    "plt.ylim(-4.5, 4.5)\n",
    "plt.xlabel(\"X0\")\n",
    "plt.ylabel(\"X1\")\n",
    "plt.show()"
   ]
  },
  {
   "cell_type": "code",
   "execution_count": 102,
   "id": "a8cd2ce1-51c5-49e9-b78c-a23bcf4b645a",
   "metadata": {},
   "outputs": [],
   "source": [
    "x = np.array([-3.0, 4.0]) \n",
    "x_list = []\n",
    "for i in range(step_num):\n",
    "    x_list.append(x)\n",
    "\n",
    "    grad = numerical_gradient(function_2, x)\n",
    "    x -= lr * grad"
   ]
  },
  {
   "cell_type": "code",
   "execution_count": 103,
   "id": "5ddae5d4-8889-488b-aa48-35627af40e06",
   "metadata": {},
   "outputs": [
    {
     "data": {
      "text/plain": [
       "[array([-0.03458765,  0.04611686]),\n",
       " array([-0.03458765,  0.04611686]),\n",
       " array([-0.03458765,  0.04611686]),\n",
       " array([-0.03458765,  0.04611686]),\n",
       " array([-0.03458765,  0.04611686]),\n",
       " array([-0.03458765,  0.04611686]),\n",
       " array([-0.03458765,  0.04611686]),\n",
       " array([-0.03458765,  0.04611686]),\n",
       " array([-0.03458765,  0.04611686]),\n",
       " array([-0.03458765,  0.04611686]),\n",
       " array([-0.03458765,  0.04611686]),\n",
       " array([-0.03458765,  0.04611686]),\n",
       " array([-0.03458765,  0.04611686]),\n",
       " array([-0.03458765,  0.04611686]),\n",
       " array([-0.03458765,  0.04611686]),\n",
       " array([-0.03458765,  0.04611686]),\n",
       " array([-0.03458765,  0.04611686]),\n",
       " array([-0.03458765,  0.04611686]),\n",
       " array([-0.03458765,  0.04611686]),\n",
       " array([-0.03458765,  0.04611686])]"
      ]
     },
     "execution_count": 103,
     "metadata": {},
     "output_type": "execute_result"
    }
   ],
   "source": [
    "x_list"
   ]
  },
  {
   "cell_type": "code",
   "execution_count": 110,
   "id": "f9ce1a32-423a-49cc-8a46-711faa962307",
   "metadata": {},
   "outputs": [
    {
     "data": {
      "text/plain": [
       "[array([100, 200]), array([100, 200])]"
      ]
     },
     "execution_count": 110,
     "metadata": {},
     "output_type": "execute_result"
    }
   ],
   "source": [
    "test = []\n",
    "a = np.array([0, 100])\n",
    "\n",
    "for i in range(1):\n",
    "    test.append(a)\n",
    "    a += 100\n",
    "    test.append(a)\n",
    "test"
   ]
  },
  {
   "cell_type": "code",
   "execution_count": 111,
   "id": "f0c3f5ec-041e-4c10-a306-e45d62a2ffba",
   "metadata": {},
   "outputs": [
    {
     "data": {
      "text/plain": [
       "[array([100, 200]), array([100, 200])]"
      ]
     },
     "execution_count": 111,
     "metadata": {},
     "output_type": "execute_result"
    }
   ],
   "source": [
    "test"
   ]
  },
  {
   "cell_type": "code",
   "execution_count": null,
   "id": "a701b44d-071b-4eb2-beb0-c06bd90b57b9",
   "metadata": {},
   "outputs": [],
   "source": []
  },
  {
   "cell_type": "code",
   "execution_count": null,
   "id": "3f983c67-0c1e-4fa2-adb6-cbb21346f29f",
   "metadata": {},
   "outputs": [],
   "source": []
  },
  {
   "cell_type": "code",
   "execution_count": null,
   "id": "bdcce3de-5f0b-4d6a-b3eb-632a4d12929f",
   "metadata": {},
   "outputs": [],
   "source": []
  }
 ],
 "metadata": {
  "kernelspec": {
   "display_name": "Python 3 (ipykernel)",
   "language": "python",
   "name": "python3"
  },
  "language_info": {
   "codemirror_mode": {
    "name": "ipython",
    "version": 3
   },
   "file_extension": ".py",
   "mimetype": "text/x-python",
   "name": "python",
   "nbconvert_exporter": "python",
   "pygments_lexer": "ipython3",
   "version": "3.9.13"
  }
 },
 "nbformat": 4,
 "nbformat_minor": 5
}
