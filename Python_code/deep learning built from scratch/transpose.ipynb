{
 "cells": [
  {
   "cell_type": "markdown",
   "id": "1b1c448f-a2dd-4bdd-950c-96111d199dde",
   "metadata": {},
   "source": [
    "# 3次元以上のtransposeの理解"
   ]
  },
  {
   "cell_type": "code",
   "execution_count": 2,
   "id": "7f691979-ad50-464b-9002-40e97cf0219b",
   "metadata": {},
   "outputs": [],
   "source": [
    "import numpy as np"
   ]
  },
  {
   "cell_type": "code",
   "execution_count": 3,
   "id": "d1871078-e145-489a-9a2b-ed950fa1fb20",
   "metadata": {},
   "outputs": [
    {
     "name": "stdout",
     "output_type": "stream",
     "text": [
      "[[[ 0  3  6]\n",
      "  [ 1  4  7]\n",
      "  [ 2  5  8]]\n",
      "\n",
      " [[ 9 12 15]\n",
      "  [10 13 16]\n",
      "  [11 14 17]]]\n"
     ]
    }
   ],
   "source": [
    "img = np.array([[[ 0, 1, 2],\n",
    "                 [ 3, 4, 5],\n",
    "                 [ 6, 7, 8]],\n",
    "\n",
    "                [[ 9,10,11],\n",
    "                 [12,13,14],\n",
    "                 [15,16,17]]])\n",
    "\n",
    "img = img.transpose(0, 2, 1)\n",
    "print(img)"
   ]
  },
  {
   "cell_type": "markdown",
   "id": "ac504af1-90ed-4ee1-9192-02093f616449",
   "metadata": {},
   "source": [
    "---\n",
    "<ポイント>\n",
    "\n",
    "・ 軸(C, H, W)を意識する。  \n",
    "・ まず、転置後のW要素を考える。  \n",
    "・上記の問題では、transpose(0, 2, 1)で転置後のW軸に転置前のH軸がくる  \n",
    "<br>\n",
    "・転置前の一番上の行列のH軸は  [0, 3, 6]  これが転置後の最初の1行目にくる。(串刺しともいう)   \n",
    "・転置後のH軸は転置前のW軸が来るので転置前の [0, 1, 2]　が転置後の最初の一行目になる　　　\n",
    "・転置後のC軸は転置前のC軸のままなので [0, 9]がC軸の方向になる  \n",
    "\n",
    "上記から転置後  \n",
    "[0, 3. 6]  \n",
    "[1, X, X]  \n",
    "[2, X, X],\n",
    "\n",
    "[9, X. X]  \n",
    "[X, X, X]  \n",
    "[X, X, X]  \n",
    "\n",
    "あとは上記を他の要素でも対応するだけ\n",
    "\n",
    "---"
   ]
  },
  {
   "cell_type": "markdown",
   "id": "898330ab-d107-4d5a-bd89-295d2fde0c23",
   "metadata": {},
   "source": [
    "#　４次元のTranspose"
   ]
  },
  {
   "cell_type": "code",
   "execution_count": 4,
   "id": "72a67aec-1757-4656-8387-79ff33f4628b",
   "metadata": {},
   "outputs": [
    {
     "name": "stdout",
     "output_type": "stream",
     "text": [
      "[[[[ 0  9]\n",
      "   [18 27]]\n",
      "\n",
      "  [[ 1 10]\n",
      "   [19 28]]\n",
      "\n",
      "  [[ 2 11]\n",
      "   [20 29]]]\n",
      "\n",
      "\n",
      " [[[ 3 12]\n",
      "   [21 30]]\n",
      "\n",
      "  [[ 4 13]\n",
      "   [22 31]]\n",
      "\n",
      "  [[ 5 14]\n",
      "   [23 32]]]\n",
      "\n",
      "\n",
      " [[[ 6 15]\n",
      "   [24 33]]\n",
      "\n",
      "  [[ 7 16]\n",
      "   [25 34]]\n",
      "\n",
      "  [[ 8 17]\n",
      "   [26 35]]]]\n"
     ]
    }
   ],
   "source": [
    "img = np.array([\n",
    "               [[[ 0, 1, 2],\n",
    "                 [ 3, 4, 5],\n",
    "                 [ 6, 7, 8]],\n",
    "\n",
    "                [[ 9,10,11],\n",
    "                 [12,13,14],\n",
    "                 [15,16,17]]],\n",
    "\n",
    "               [[[18,19,20],\n",
    "                 [21,22,23],\n",
    "                 [24,25,26]],\n",
    "\n",
    "                [[27,28,29],\n",
    "                 [30,31,32],\n",
    "                 [33,34,35]]]\n",
    "                ])\n",
    "\n",
    "img = img.transpose(2, 3, 0, 1)\n",
    "print(img)"
   ]
  },
  {
   "cell_type": "markdown",
   "id": "2ffaed89-7e24-4d9e-b7c4-5b12bd258b50",
   "metadata": {},
   "source": [
    "---\n",
    "<ポイント>\n",
    "\n",
    "・ 軸(N, C, H, W)を意識する。  \n",
    "・ あとは３次元の転置と同じ考え！！\n",
    "・ まず、転置後のW要素を考える。  \n",
    "・上記の問題では、transpose(2, 3, 0, 1)で転置後のW軸に転置前のC軸がくる\n",
    "<br>\n",
    "・転置前の一番上の行列(0, C, H, W)のC軸は  [0, 9]  これが転置後の最初の1行目にくる。(串刺しともいう)   \n",
    "・転置後のH軸は転置前のN軸が来るので転置前の [0, 18] 　が転置後の最初の一行目になる　　　\n",
    "・転置後のC軸は転置前のW軸なので [0, 1, 2]がC軸の方向になる\n",
    "・転置後のN軸は転置前のH軸なので [0, 3, 6]がC軸の方向になる  \n",
    "\n",
    "\n",
    "上記から転置後  \n",
    "[[[[ 0  9]  \n",
    "   [18 X]]\n",
    "\n",
    "  [[ 1 X]  \n",
    "   [X X]]\n",
    "\n",
    "  [[2  X]  \n",
    "   [X X]]]\n",
    "<br>\n",
    "\n",
    " [[[ 3 X]  \n",
    "   [X X]]  \n",
    "\n",
    "  [[X X]  \n",
    "   [X X]]  \n",
    "\n",
    "  [[X  X]  \n",
    "   [X X]]]  \n",
    "\n",
    "\n",
    " [[[6 X]  \n",
    "   [X X]]  \n",
    "\n",
    "  [[X  X]  \n",
    "   [X X]]  \n",
    "\n",
    "  [[X  X]  \n",
    "   [X X]]]]  \n",
    "あとは上記を他の要素でも対応するだけ\n",
    "\n",
    "---\n",
    "\n"
   ]
  },
  {
   "cell_type": "code",
   "execution_count": 7,
   "id": "649f16f3-01df-41e6-bbe9-c59daebaae40",
   "metadata": {},
   "outputs": [
    {
     "data": {
      "text/plain": [
       "array([[[ 0,  1],\n",
       "        [ 3,  4]],\n",
       "\n",
       "       [[ 9, 10],\n",
       "        [12, 13]]])"
      ]
     },
     "execution_count": 7,
     "metadata": {},
     "output_type": "execute_result"
    }
   ],
   "source": [
    "# 3次元のslicing結果の確認\n",
    "img = np.array([[[ 0, 1, 2],\n",
    "                 [ 3, 4, 5],\n",
    "                 [ 6, 7, 8]],\n",
    "\n",
    "                [[ 9,10,11],\n",
    "                 [12,13,14],\n",
    "                 [15,16,17]]])\n",
    "\n",
    "img[:, 0:2, 0:2]"
   ]
  },
  {
   "cell_type": "code",
   "execution_count": 69,
   "id": "42d7091a-02e8-476a-9fc8-4eab30987879",
   "metadata": {},
   "outputs": [],
   "source": [
    "col = np.zeros((1, 2, 2, 2, 2, 2))"
   ]
  },
  {
   "cell_type": "code",
   "execution_count": 70,
   "id": "1d8dfd54-6f28-4ad4-8814-a6d3bf0f2b66",
   "metadata": {},
   "outputs": [],
   "source": [
    "col[:, :, 0, 0, :, :] = img[:, 0:2, 0:2]"
   ]
  },
  {
   "cell_type": "code",
   "execution_count": 71,
   "id": "5180decf-8a83-46c3-85d2-9c90bb7a81ea",
   "metadata": {},
   "outputs": [
    {
     "data": {
      "text/plain": [
       "array([[[[[[ 0.,  1.],\n",
       "           [ 3.,  4.]],\n",
       "\n",
       "          [[ 0.,  0.],\n",
       "           [ 0.,  0.]]],\n",
       "\n",
       "\n",
       "         [[[ 0.,  0.],\n",
       "           [ 0.,  0.]],\n",
       "\n",
       "          [[ 0.,  0.],\n",
       "           [ 0.,  0.]]]],\n",
       "\n",
       "\n",
       "\n",
       "        [[[[ 9., 10.],\n",
       "           [12., 13.]],\n",
       "\n",
       "          [[ 0.,  0.],\n",
       "           [ 0.,  0.]]],\n",
       "\n",
       "\n",
       "         [[[ 0.,  0.],\n",
       "           [ 0.,  0.]],\n",
       "\n",
       "          [[ 0.,  0.],\n",
       "           [ 0.,  0.]]]]]])"
      ]
     },
     "execution_count": 71,
     "metadata": {},
     "output_type": "execute_result"
    }
   ],
   "source": [
    "col"
   ]
  },
  {
   "cell_type": "code",
   "execution_count": 72,
   "id": "dedd4dc1-1d9d-42c0-9bdc-028655f7f949",
   "metadata": {},
   "outputs": [
    {
     "data": {
      "text/plain": [
       "array([[[[[[ 0.,  0.],\n",
       "           [ 0.,  0.]],\n",
       "\n",
       "          [[ 9.,  0.],\n",
       "           [ 0.,  0.]]],\n",
       "\n",
       "\n",
       "         [[[ 1.,  0.],\n",
       "           [ 0.,  0.]],\n",
       "\n",
       "          [[10.,  0.],\n",
       "           [ 0.,  0.]]]],\n",
       "\n",
       "\n",
       "\n",
       "        [[[[ 3.,  0.],\n",
       "           [ 0.,  0.]],\n",
       "\n",
       "          [[12.,  0.],\n",
       "           [ 0.,  0.]]],\n",
       "\n",
       "\n",
       "         [[[ 4.,  0.],\n",
       "           [ 0.,  0.]],\n",
       "\n",
       "          [[13.,  0.],\n",
       "           [ 0.,  0.]]]]]])"
      ]
     },
     "execution_count": 72,
     "metadata": {},
     "output_type": "execute_result"
    }
   ],
   "source": [
    "col.transpose(0, 4, 5, 1, 2, 3)"
   ]
  },
  {
   "cell_type": "code",
   "execution_count": 73,
   "id": "d7364308-785b-4574-919b-8a1906519305",
   "metadata": {},
   "outputs": [],
   "source": [
    "a =  np.zeros((8, 8))"
   ]
  },
  {
   "cell_type": "code",
   "execution_count": 74,
   "id": "31289b29-0644-469c-9605-faeff74d1551",
   "metadata": {},
   "outputs": [
    {
     "data": {
      "text/plain": [
       "array([[0., 0., 0., 0., 0., 0., 0., 0.],\n",
       "       [0., 0., 0., 0., 0., 0., 0., 0.],\n",
       "       [0., 0., 0., 0., 0., 0., 0., 0.],\n",
       "       [0., 0., 0., 0., 0., 0., 0., 0.],\n",
       "       [0., 0., 0., 0., 0., 0., 0., 0.],\n",
       "       [0., 0., 0., 0., 0., 0., 0., 0.],\n",
       "       [0., 0., 0., 0., 0., 0., 0., 0.],\n",
       "       [0., 0., 0., 0., 0., 0., 0., 0.]])"
      ]
     },
     "execution_count": 74,
     "metadata": {},
     "output_type": "execute_result"
    }
   ],
   "source": [
    "a"
   ]
  },
  {
   "cell_type": "code",
   "execution_count": 76,
   "id": "c271a087-aea4-4664-aecb-6df5e32da0fe",
   "metadata": {},
   "outputs": [
    {
     "data": {
      "text/plain": [
       "array([[0., 0.],\n",
       "       [0., 0.]])"
      ]
     },
     "execution_count": 76,
     "metadata": {},
     "output_type": "execute_result"
    }
   ],
   "source": [
    "a[0:2:1, 0:2:1]"
   ]
  },
  {
   "cell_type": "code",
   "execution_count": null,
   "id": "08e33c0e-c232-41dc-a012-f679a43c0108",
   "metadata": {},
   "outputs": [],
   "source": []
  }
 ],
 "metadata": {
  "kernelspec": {
   "display_name": "Python 3 (ipykernel)",
   "language": "python",
   "name": "python3"
  },
  "language_info": {
   "codemirror_mode": {
    "name": "ipython",
    "version": 3
   },
   "file_extension": ".py",
   "mimetype": "text/x-python",
   "name": "python",
   "nbconvert_exporter": "python",
   "pygments_lexer": "ipython3",
   "version": "3.9.13"
  }
 },
 "nbformat": 4,
 "nbformat_minor": 5
}
