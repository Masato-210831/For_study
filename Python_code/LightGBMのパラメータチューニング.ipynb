{
 "cells": [
  {
   "cell_type": "markdown",
   "id": "1b47357d-33fd-44cc-b745-eac983238a10",
   "metadata": {},
   "source": [
    "# LightGBMのパラメータチューニング"
   ]
  },
  {
   "cell_type": "code",
   "execution_count": 1,
   "id": "d52904db-c6e3-4436-9840-45b2fec0e3c9",
   "metadata": {},
   "outputs": [],
   "source": [
    "import numpy as np\n",
    "import pandas as pd\n",
    "import matplotlib.pyplot as plt\n",
    "import seaborn as sns\n",
    "import japanize_matplotlib\n",
    "%matplotlib inline"
   ]
  },
  {
   "cell_type": "code",
   "execution_count": 10,
   "id": "b9dfb6e4-824f-4133-9151-dd4c01f55526",
   "metadata": {},
   "outputs": [
    {
     "data": {
      "text/html": [
       "<div>\n",
       "<style scoped>\n",
       "    .dataframe tbody tr th:only-of-type {\n",
       "        vertical-align: middle;\n",
       "    }\n",
       "\n",
       "    .dataframe tbody tr th {\n",
       "        vertical-align: top;\n",
       "    }\n",
       "\n",
       "    .dataframe thead th {\n",
       "        text-align: right;\n",
       "    }\n",
       "</style>\n",
       "<table border=\"1\" class=\"dataframe\">\n",
       "  <thead>\n",
       "    <tr style=\"text-align: right;\">\n",
       "      <th></th>\n",
       "      <th>2_between_30to60</th>\n",
       "      <th>3_male_ratio</th>\n",
       "      <th>5_household_member</th>\n",
       "      <th>latitude</th>\n",
       "      <th>approval_rate</th>\n",
       "    </tr>\n",
       "  </thead>\n",
       "  <tbody>\n",
       "    <tr>\n",
       "      <th>0</th>\n",
       "      <td>0.499141</td>\n",
       "      <td>0.485807</td>\n",
       "      <td>1.83</td>\n",
       "      <td>42.325</td>\n",
       "      <td>0.562728</td>\n",
       "    </tr>\n",
       "    <tr>\n",
       "      <th>1</th>\n",
       "      <td>0.425080</td>\n",
       "      <td>0.481006</td>\n",
       "      <td>2.10</td>\n",
       "      <td>42.078</td>\n",
       "      <td>0.526104</td>\n",
       "    </tr>\n",
       "    <tr>\n",
       "      <th>2</th>\n",
       "      <td>0.467986</td>\n",
       "      <td>0.473394</td>\n",
       "      <td>2.06</td>\n",
       "      <td>41.535</td>\n",
       "      <td>0.536686</td>\n",
       "    </tr>\n",
       "    <tr>\n",
       "      <th>3</th>\n",
       "      <td>0.411267</td>\n",
       "      <td>0.473798</td>\n",
       "      <td>2.20</td>\n",
       "      <td>40.197</td>\n",
       "      <td>0.496048</td>\n",
       "    </tr>\n",
       "    <tr>\n",
       "      <th>4</th>\n",
       "      <td>0.390663</td>\n",
       "      <td>0.473722</td>\n",
       "      <td>2.16</td>\n",
       "      <td>43.273</td>\n",
       "      <td>0.471734</td>\n",
       "    </tr>\n",
       "  </tbody>\n",
       "</table>\n",
       "</div>"
      ],
      "text/plain": [
       "   2_between_30to60  3_male_ratio  5_household_member  latitude  approval_rate\n",
       "0          0.499141      0.485807                1.83    42.325       0.562728\n",
       "1          0.425080      0.481006                2.10    42.078       0.526104\n",
       "2          0.467986      0.473394                2.06    41.535       0.536686\n",
       "3          0.411267      0.473798                2.20    40.197       0.496048\n",
       "4          0.390663      0.473722                2.16    43.273       0.471734"
      ]
     },
     "execution_count": 10,
     "metadata": {},
     "output_type": "execute_result"
    }
   ],
   "source": [
    "import time\n",
    "df_osaka = pd.read_csv('csv/osaka_metropolis_english.csv')\n",
    "obkective_variable = 'approval_rate' #目的変数\n",
    "use_explanatory = ['2_between_30to60', '3_male_ratio', '5_household_member', 'latitude'] #説明変数\n",
    "\n",
    "#各データのndarry化\n",
    "y = df_osaka[obkective_variable].values\n",
    "x = df_osaka[use_explanatory].values\n",
    "\n",
    "#全体のデータ確認\n",
    "df_osaka[use_explanatory+[obkective_variable]].head()"
   ]
  },
  {
   "cell_type": "code",
   "execution_count": null,
   "id": "9e018a57-3353-4eaa-8ed5-63ad4726a8cc",
   "metadata": {},
   "outputs": [],
   "source": []
  },
  {
   "cell_type": "code",
   "execution_count": null,
   "id": "52d24c30-28d4-42b4-a750-8d432adf4c9b",
   "metadata": {},
   "outputs": [],
   "source": []
  },
  {
   "cell_type": "code",
   "execution_count": null,
   "id": "7a752b00-695f-4e87-b345-677403211ee3",
   "metadata": {},
   "outputs": [],
   "source": []
  },
  {
   "cell_type": "code",
   "execution_count": null,
   "id": "d66de816-495a-4ba4-a222-0f0b5041e1b1",
   "metadata": {},
   "outputs": [],
   "source": []
  },
  {
   "cell_type": "code",
   "execution_count": null,
   "id": "58c618bc-c00c-4841-a29a-1dbd3e0e9549",
   "metadata": {},
   "outputs": [],
   "source": []
  },
  {
   "cell_type": "code",
   "execution_count": null,
   "id": "f63f9243-8407-4dca-9584-d91060183f94",
   "metadata": {},
   "outputs": [],
   "source": []
  },
  {
   "cell_type": "code",
   "execution_count": null,
   "id": "a5e35c61-a6e1-48d2-9875-3266e076ee25",
   "metadata": {},
   "outputs": [],
   "source": []
  },
  {
   "cell_type": "code",
   "execution_count": null,
   "id": "63fbc795-573a-4ca0-a8d4-2843199be4fd",
   "metadata": {},
   "outputs": [],
   "source": []
  },
  {
   "cell_type": "code",
   "execution_count": null,
   "id": "54ac7df4-5ce5-4cf7-b067-98d5a19d4edb",
   "metadata": {},
   "outputs": [],
   "source": []
  },
  {
   "cell_type": "code",
   "execution_count": null,
   "id": "8445855e-4b93-4c3f-b68c-ed1f9558f858",
   "metadata": {},
   "outputs": [],
   "source": []
  },
  {
   "cell_type": "code",
   "execution_count": null,
   "id": "25741856-3635-4487-9abb-d3cf0a86d7a1",
   "metadata": {},
   "outputs": [],
   "source": []
  },
  {
   "cell_type": "code",
   "execution_count": null,
   "id": "f107420a-5be9-483f-8ce2-a563c12210c1",
   "metadata": {},
   "outputs": [],
   "source": []
  },
  {
   "cell_type": "code",
   "execution_count": null,
   "id": "b5e15376-6d2d-4dd4-989c-13400c6caed9",
   "metadata": {},
   "outputs": [],
   "source": []
  },
  {
   "cell_type": "code",
   "execution_count": null,
   "id": "c70146ed-3f54-4b5a-9e57-39b45ebf4187",
   "metadata": {},
   "outputs": [],
   "source": []
  },
  {
   "cell_type": "code",
   "execution_count": null,
   "id": "12fb8b7d-f49b-4e2f-bd35-095916a92391",
   "metadata": {},
   "outputs": [],
   "source": []
  },
  {
   "cell_type": "code",
   "execution_count": null,
   "id": "16901073-8584-4d23-a208-e90d2ba8f974",
   "metadata": {},
   "outputs": [],
   "source": []
  }
 ],
 "metadata": {
  "kernelspec": {
   "display_name": "Python 3 (ipykernel)",
   "language": "python",
   "name": "python3"
  },
  "language_info": {
   "codemirror_mode": {
    "name": "ipython",
    "version": 3
   },
   "file_extension": ".py",
   "mimetype": "text/x-python",
   "name": "python",
   "nbconvert_exporter": "python",
   "pygments_lexer": "ipython3",
   "version": "3.9.13"
  }
 },
 "nbformat": 4,
 "nbformat_minor": 5
}
