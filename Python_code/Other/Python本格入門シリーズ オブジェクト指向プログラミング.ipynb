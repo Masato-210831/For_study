{
 "cells": [
  {
   "cell_type": "code",
   "execution_count": 1,
   "id": "7a8a8e01-d19e-43b1-84bc-24ccefa630f4",
   "metadata": {},
   "outputs": [],
   "source": [
    "class Player:\n",
    "    def __init__(self, level, name):\n",
    "        self.level = level\n",
    "        self.name = name\n",
    "        \n",
    "    def attack(self):\n",
    "        print('敵を攻撃する')\n",
    "    "
   ]
  },
  {
   "cell_type": "code",
   "execution_count": 14,
   "id": "fc0511b6-b571-4593-aef5-3fcabcdd6c3b",
   "metadata": {},
   "outputs": [],
   "source": [
    "class Player():\n",
    "    def __init__(self, level, name):\n",
    "        self.name = name\n",
    "        self.level = level\n",
    "        \n",
    "    def attack(self):\n",
    "        print('敵を攻撃をする')\n",
    "        \n",
    "    def show(self):\n",
    "        print('レベル:{}, 名前:{}'.format(self.level, self.name))"
   ]
  },
  {
   "cell_type": "code",
   "execution_count": 19,
   "id": "94d7b95b-ef36-472a-9529-043676f4a19a",
   "metadata": {},
   "outputs": [],
   "source": [
    "john = Player(1, 'JOHN')\n",
    "\n",
    "john.show()\n",
    "\n",
    "john.level = 2\n",
    "john.show()\n",
    "\n",
    "john.attack()"
   ]
  },
  {
   "cell_type": "code",
   "execution_count": 46,
   "id": "014a00cb-6f11-4d86-80b8-96fd37685801",
   "metadata": {},
   "outputs": [
    {
     "name": "stdout",
     "output_type": "stream",
     "text": [
      "ID:1, 名前:HIRO, 年齢:25\n",
      "働く\n",
      "月給 200000 賞与 400000\n"
     ]
    }
   ],
   "source": [
    "class Worker:\n",
    "    def __init__(self, id, name, age, salary):\n",
    "        self.id = id\n",
    "        self.name = name\n",
    "        self.age = age\n",
    "        self.salary = salary\n",
    "        self.bonus_rate = 2\n",
    "        \n",
    "    def work(self):\n",
    "        print('働く')\n",
    "        \n",
    "    def show(self):\n",
    "        print('ID:{}, 名前:{}, 年齢:{}'.format(self.id, self.name, self.age))\n",
    "    \n",
    "    def calc_salary(self):\n",
    "        return self.salary\n",
    "    \n",
    "    def calc_bonus(self):\n",
    "        return self.salary * self.bonus_rate\n",
    "    \n",
    "\n",
    "hiro = Worker(1, 'HIRO', 25, 200000)\n",
    "hiro.show()\n",
    "hiro.work()\n",
    "print('月給', hiro.calc_salary(), '賞与', hiro.calc_bonus())"
   ]
  },
  {
   "cell_type": "code",
   "execution_count": 44,
   "id": "aa74619c-8cee-44ae-89e8-4dbf3d9cefa2",
   "metadata": {},
   "outputs": [],
   "source": [
    "hiro.salary += 40000\n",
    "hiro.bonus_rate = 3"
   ]
  },
  {
   "cell_type": "code",
   "execution_count": 45,
   "id": "107cc6cc-4873-4b83-9aa4-b73e9f7ad1b7",
   "metadata": {},
   "outputs": [
    {
     "name": "stdout",
     "output_type": "stream",
     "text": [
      "昇給後の月給 240000 昇給後の賞与 720000\n"
     ]
    }
   ],
   "source": [
    "print('昇給後の月給', hiro.calc_salary(), '昇給後の賞与', hiro.calc_bonus())"
   ]
  },
  {
   "cell_type": "code",
   "execution_count": 48,
   "id": "3fd5ab75-5899-404c-814a-9b5728c30525",
   "metadata": {},
   "outputs": [],
   "source": [
    "class Dog:\n",
    "    def __init__(self, name):\n",
    "        self.name = name\n",
    "    \n",
    "    def show(self):\n",
    "        print('私は{}です。'.format(self.name))"
   ]
  },
  {
   "cell_type": "code",
   "execution_count": 49,
   "id": "fa3cfb23-b1d6-4f90-8cee-4a2a33a35c62",
   "metadata": {},
   "outputs": [
    {
     "name": "stdout",
     "output_type": "stream",
     "text": [
      "私はラッキーです。\n"
     ]
    }
   ],
   "source": [
    "d = Dog('ラッキー')\n",
    "d.show()"
   ]
  },
  {
   "cell_type": "code",
   "execution_count": 51,
   "id": "4f4818a4-3f34-4eb0-a923-b116dbd28162",
   "metadata": {},
   "outputs": [
    {
     "name": "stdout",
     "output_type": "stream",
     "text": [
      "車の色：赤\n",
      "発進します！\n"
     ]
    }
   ],
   "source": [
    "class Car:\n",
    "    def __init__(self, color):\n",
    "        self.color = color\n",
    "        \n",
    "    def print_color(self):\n",
    "        print('車の色：{}'.format(self.color))\n",
    "    \n",
    "    def run(self):\n",
    "        print('発進します！')\n",
    "        \n",
    "c = Car('赤')\n",
    "c.print_color()\n",
    "c.run()"
   ]
  },
  {
   "cell_type": "code",
   "execution_count": 54,
   "id": "e80e7ef2-80b0-41da-a38a-79ffaf9cac59",
   "metadata": {},
   "outputs": [
    {
     "name": "stdout",
     "output_type": "stream",
     "text": [
      "底辺:3\n",
      "高さ:5\n"
     ]
    },
    {
     "data": {
      "text/plain": [
       "15"
      ]
     },
     "execution_count": 54,
     "metadata": {},
     "output_type": "execute_result"
    }
   ],
   "source": [
    "class Rectangle:\n",
    "    def __init__(self, bottom, height):\n",
    "        self.bottom = bottom\n",
    "        self.height = height\n",
    "        \n",
    "    def show(self):\n",
    "        print('底辺:{}\\n高さ:{}'.format(self.bottom, self.height))\n",
    "    \n",
    "    def area(self):\n",
    "        return self.bottom*self.height\n",
    "r = Rectangle(3, 5)\n",
    "r.show()\n",
    "r.area()"
   ]
  },
  {
   "cell_type": "markdown",
   "id": "09ebde99-8f8e-4028-b401-4192aef112aa",
   "metadata": {},
   "source": [
    "## 継承"
   ]
  },
  {
   "cell_type": "code",
   "execution_count": 78,
   "id": "ea1b6dfe-a3a8-4791-968a-6806ef665f4b",
   "metadata": {},
   "outputs": [],
   "source": [
    "class Player:\n",
    "    def __init__(self, level, name, hp, mp):\n",
    "        self.level = level\n",
    "        self.name = name \n",
    "        self.hp = hp\n",
    "        self.mp = mp\n",
    "        \n",
    "    def attack(self):\n",
    "        print('敵を攻撃する')\n",
    "        \n",
    "    def show(self):\n",
    "        print('レベル:{}, 名前:{}, HP：{}, MP：{}'.format(self.level, self.name, self.hp, self.mp))\n",
    "    \n",
    "\n",
    "class Hero(Player):\n",
    "    def __init__(self, level, name, hp, mp, tp_rate):\n",
    "        super().__init__(level,name, hp, mp)\n",
    "        self.tp_rate = tp_rate\n",
    "        \n",
    "    def encorage(self):\n",
    "        print('みんなを勇気づける')\n",
    "        \n",
    "    def attack(self):\n",
    "        print('必殺技で攻撃する')\n",
    "        \n",
    "    def calc_tp(self):\n",
    "        return (self.hp + self.mp) * self.tp_rate\n"
   ]
  },
  {
   "cell_type": "code",
   "execution_count": 80,
   "id": "e574c9b0-8bcb-4da8-a19f-c990ddcbab90",
   "metadata": {},
   "outputs": [
    {
     "name": "stdout",
     "output_type": "stream",
     "text": [
      "レベル:1, 名前:JOHN, HP：20, MP：0\n",
      "敵を攻撃する\n",
      "必殺技で攻撃する\n",
      "レベル:30, 名前:LEO, HP：300, MP：150\n",
      "みんなを勇気づける\n",
      "900\n"
     ]
    }
   ],
   "source": [
    "john = Player(1, 'JOHN', 20, 0)\n",
    "leo = Hero(30, 'LEO', 300, 150, 2)\n",
    "\n",
    "john.show()\n",
    "john.attack()\n",
    "\n",
    "leo.attack()\n",
    "leo.show()\n",
    "leo.encorage()\n",
    "print(leo.calc_tp())"
   ]
  },
  {
   "cell_type": "code",
   "execution_count": 97,
   "id": "fa5c8bc4-4757-4dab-907b-d964b9b33f05",
   "metadata": {},
   "outputs": [],
   "source": [
    "class Worker:\n",
    "    def __init__(self, id, name, age, salary):\n",
    "        self.id = id\n",
    "        self.name = name\n",
    "        self.age = age\n",
    "        self.salary = salary\n",
    "        self.bonus_rate = 2\n",
    "        \n",
    "    def work(self):\n",
    "        print('働く')\n",
    "        \n",
    "    def show(self):\n",
    "        print('ID:{}, 名前:{}, 年齢:{}'.format(self.id, self.name, self.age))\n",
    "        \n",
    "    def calc_salary(self):\n",
    "        return self.salary\n",
    "    \n",
    "    def calc_bonus(self):\n",
    "        return self.salary * self.bonus_rate\n",
    "\n",
    "    \n",
    "class Manager(Worker):\n",
    "    def __init__(self, id, name, age, salary, allowance):\n",
    "        super().__init__(id, name, age, salary)\n",
    "        self.allowance = allowance\n",
    "    \n",
    "    def budget_manage(self):\n",
    "        print('予算管理をする')\n",
    "        \n",
    "    def work(self):\n",
    "        print('進捗管理をする')\n",
    "        \n",
    "    def calc_salary(self):\n",
    "        return self.salary + self.allowance\n"
   ]
  },
  {
   "cell_type": "code",
   "execution_count": 104,
   "id": "4ac9b0b9-b3a8-4f20-84f9-f7ec241d7697",
   "metadata": {},
   "outputs": [
    {
     "name": "stdout",
     "output_type": "stream",
     "text": [
      "ID:1, 名前:HIRO, 年齢:25\n",
      "月給: 200000 賞与： 400000\n",
      "ID:300, 名前:YUKI, 年齢:35\n",
      "進捗管理をする\n",
      "予算管理をする\n",
      "月給： 450000 賞与： 800000\n",
      "yukiの月給の内訳:\n",
      "月給： 400000 賞与： 50000\n"
     ]
    }
   ],
   "source": [
    "hiro = Worker(1, 'HIRO', 25, 200000)\n",
    "yuki = Manager(300, 'YUKI', 35, 400000, 50000)\n",
    "\n",
    "hiro.show()\n",
    "print('月給:', hiro.calc_salary(), '賞与：', hiro.calc_bonus())\n",
    "\n",
    "yuki.show()\n",
    "yuki.work()\n",
    "yuki.budget_manage()\n",
    "print('月給：', yuki.calc_salary(), '賞与：', yuki.calc_bonus())\n",
    "print('yukiの月給の内訳:')\n",
    "print('月給：', yuki.salary, '賞与：', yuki.allowance)"
   ]
  },
  {
   "cell_type": "code",
   "execution_count": 146,
   "id": "e788fa81-314b-489a-ae29-d05098146383",
   "metadata": {},
   "outputs": [
    {
     "name": "stdout",
     "output_type": "stream",
     "text": [
      "ポチ\n",
      "ラッキー\n"
     ]
    }
   ],
   "source": [
    "class Dog:\n",
    "    def __init__(self, name='名無し'):\n",
    "        self.__name = name\n",
    "    \n",
    "    def show(self):\n",
    "        print('私は{}です。'.format(self.__name))\n",
    "        \n",
    "    def get_name(self):\n",
    "        return self.__name\n",
    "        \n",
    "    def set_name(self, name):\n",
    "        if isinstance(name, str) and name != '':\n",
    "            self.__name = name\n",
    "        \n",
    "\n",
    "class SuperDog(Dog):\n",
    "    def speak(self):\n",
    "        print('{}は人間の言葉が話せませす'.format(self.__name))\n",
    "        \n",
    "    def show(self):\n",
    "        print(f'私は魔法が使える犬{self.__name}です')\n",
    "        \n",
    "\n",
    "d = Dog('ポチ')\n",
    "print(d.get_name())\n",
    "d.set_name('ラッキー')\n",
    "print(d.get_name())"
   ]
  },
  {
   "cell_type": "code",
   "execution_count": 113,
   "id": "118da9a3-ebf5-406c-bb47-4675df7c4c78",
   "metadata": {},
   "outputs": [
    {
     "name": "stdout",
     "output_type": "stream",
     "text": [
      "底辺:3\n",
      "高さ:5\n",
      "15\n",
      "周の長さ16\n"
     ]
    }
   ],
   "source": [
    "class Rectangle:\n",
    "    def __init__(self, bottom, height):\n",
    "        self.bottom = bottom\n",
    "        self.height = height\n",
    "        \n",
    "    def show(self):\n",
    "        print('底辺:{}\\n高さ:{}'.format(self.bottom, self.height))\n",
    "    \n",
    "    def area(self):\n",
    "        return self.bottom*self.height\n",
    "    \n",
    "class RectabgleEx(Rectangle):\n",
    "    def calc_circumference(self):\n",
    "        return (self.bottom + self.height) * 2\n",
    "    \n",
    "r = RectabgleEx(3, 5)\n",
    "r.show()\n",
    "print(r.area())\n",
    "print(f'周の長さ{r.calc_circumference()}')"
   ]
  },
  {
   "cell_type": "markdown",
   "id": "ddad1fc9-68aa-497d-8338-10af3035258d",
   "metadata": {},
   "source": [
    "## クラスの応用"
   ]
  },
  {
   "cell_type": "code",
   "execution_count": null,
   "id": "f06df67e-a46c-4458-8627-a7584b02febf",
   "metadata": {},
   "outputs": [],
   "source": [
    "class Player:\n",
    "    def __init__(self, level=1, name='???', hp=10, mp=0):\n",
    "        self.level = level\n",
    "        self.name = name \n",
    "        self.hp = hp\n",
    "        self.mp = mp\n",
    "        \n",
    "    def attack(self):\n",
    "        print('敵を攻撃する')\n",
    "        \n",
    "    def show(self):\n",
    "        print('レベル:{}, 名前:{}, HP：{}, MP：{}'.format(self.level, self.name, self.hp, self.mp))\n",
    "    \n",
    "\n",
    "class Hero(Player):\n",
    "    def __init__(self, level, name, hp, mp, tp_rate):\n",
    "        super().__init__(level,name, hp, mp)\n",
    "        self.tp_rate = tp_rate\n",
    "        \n",
    "    def encorage(self):\n",
    "        print('みんなを勇気づける')\n",
    "        \n",
    "    def attack(self):\n",
    "        print('必殺技で攻撃する')\n",
    "        \n",
    "    def calc_tp(self):\n",
    "        return (self.hp + self.mp) * self.tp_rate\n"
   ]
  },
  {
   "cell_type": "code",
   "execution_count": 117,
   "id": "e2f06ce0-e165-4904-b2d2-c09d652366f0",
   "metadata": {},
   "outputs": [
    {
     "name": "stdout",
     "output_type": "stream",
     "text": [
      "1 JOHN\n",
      "60 JOHN\n"
     ]
    }
   ],
   "source": [
    "class Player:\n",
    "    \n",
    "    LEVEL_LIMIT = 50\n",
    "    \n",
    "    def __init__(self, level, name):\n",
    "        self.__level =level\n",
    "        self.__name = name\n",
    "        \n",
    "    def set_level(self, level):\n",
    "        if isinstance(level, int):\n",
    "            self.__level = level\n",
    "            \n",
    "    def get_level(self):\n",
    "        return self.__level\n",
    "    \n",
    "    def set_name(self, name):\n",
    "        if isinstance(name, str) and name!='':\n",
    "            self.__name = name\n",
    "    \n",
    "    def get_name(self):\n",
    "        return self.__name\n",
    "    \n",
    "    def attack(self):\n",
    "        print('攻撃する')\n",
    "        \n",
    "john = Player(1, 'JOHN')\n",
    "\n",
    "print(john.get_level(), john.get_name())\n",
    "\n",
    "john.set_level(60)\n",
    "print(john.get_level(), john.get_name())\n",
    "\n",
    "\n"
   ]
  },
  {
   "cell_type": "code",
   "execution_count": 122,
   "id": "ebef58e2-0f8f-41f3-a248-c30292a5cbe3",
   "metadata": {},
   "outputs": [],
   "source": [
    "class Circle:\n",
    "    PI = 3.1415\n",
    "    \n",
    "    def __init__(self, radius):\n",
    "        self.radius = radius\n",
    "        \n",
    "    def area(self):\n",
    "        return self.radius**2 * Circle.PI\n",
    "    \n",
    "    @classmethod\n",
    "    def radians(cls, degree):\n",
    "        return degree * (cls.PI / 180)\n",
    "    "
   ]
  },
  {
   "cell_type": "code",
   "execution_count": 123,
   "id": "aa5312ed-2e65-4e23-bde4-d4c72b224bbf",
   "metadata": {},
   "outputs": [
    {
     "data": {
      "text/plain": [
       "3.1415"
      ]
     },
     "execution_count": 123,
     "metadata": {},
     "output_type": "execute_result"
    }
   ],
   "source": [
    "c =Circle(100)\n",
    "c.area()\n",
    "\n",
    "Circle.radians(180)"
   ]
  },
  {
   "cell_type": "code",
   "execution_count": 131,
   "id": "7cdac005-554f-4b09-81b5-fea0779e55b3",
   "metadata": {},
   "outputs": [
    {
     "name": "stdout",
     "output_type": "stream",
     "text": [
      "社員数 0\n",
      "bonus_rate: 2\n",
      "ID:1, name:HIRO, age:25\n",
      "月給 200000 賞与 400000\n",
      "社員数 1\n"
     ]
    }
   ],
   "source": [
    "class Worker:\n",
    "    bonuse_rate =2\n",
    "    __num = 0\n",
    "    \n",
    "    def __init__(self, id, name, age, salary):\n",
    "        self.id = id\n",
    "        self.name = name\n",
    "        self.age = age\n",
    "        self.salary = salary\n",
    "        Worker.__num += 1\n",
    "        \n",
    "    def work(self):\n",
    "        print('働く')\n",
    "        \n",
    "    def show(self):\n",
    "        print('ID:{}, name:{}, age:{}'.format(self.id, self.name, self.age))\n",
    "        \n",
    "    def calc_salary(self):\n",
    "        return self.salary\n",
    "    \n",
    "    \n",
    "    def calc_bonus(self):\n",
    "        return self.salary * Worker.bonuse_rate\n",
    "    \n",
    "    @classmethod\n",
    "    def get_num(cls):\n",
    "        return cls.__num\n",
    "    \n",
    "print('社員数', Worker.get_num())\n",
    "print('bonus_rate:', Worker.bonuse_rate)\n",
    "\n",
    "hiro = Worker(1, 'HIRO', 25, 200000)\n",
    "hiro.show()\n",
    "print('月給', hiro.calc_salary(), '賞与', hiro.calc_bonus())\n",
    "print('社員数', Worker.get_num())\n"
   ]
  },
  {
   "cell_type": "code",
   "execution_count": 137,
   "id": "09155d29-08e2-44f2-b9ea-d47ca208c606",
   "metadata": {},
   "outputs": [
    {
     "name": "stdout",
     "output_type": "stream",
     "text": [
      "JOHNは攻撃する\n",
      "LEOは剣で攻撃する\n",
      "REIは魔法で攻撃する\n",
      "様子を見る\n"
     ]
    }
   ],
   "source": [
    "class Player:\n",
    "    def __init__(self, name):\n",
    "        self.name = name\n",
    "        \n",
    "    def attack(self):\n",
    "        print(self.name + 'は攻撃する')\n",
    "        \n",
    "class Hero(Player):\n",
    "    def attack(self):\n",
    "        print(self.name + 'は剣で攻撃する')\n",
    "        \n",
    "class Mage(Player):\n",
    "    def attack(self):\n",
    "        print(self.name + 'は魔法で攻撃する')\n",
    "        \n",
    "class Person:\n",
    "    def attack(self):\n",
    "        print('様子を見る')\n",
    "        \n",
    "players = []\n",
    "players.append(Player('JOHN'))\n",
    "players.append(Hero('LEO'))\n",
    "players.append(Mage('REI'))\n",
    "players.append(Person())\n",
    "\n",
    "for player in players:\n",
    "    player.attack()\n",
    "    "
   ]
  },
  {
   "cell_type": "code",
   "execution_count": 139,
   "id": "90d4c401-c7a7-4a62-9c58-f7fbf5bc9aee",
   "metadata": {},
   "outputs": [
    {
     "name": "stdout",
     "output_type": "stream",
     "text": [
      "たかし\n",
      "おはよう\n"
     ]
    }
   ],
   "source": [
    "class Person:\n",
    "    def __init__(self, name):\n",
    "        self.name = name\n",
    "    def hello(self):\n",
    "        print('おはよう')\n",
    "        \n",
    "class Bird:\n",
    "    def __init__(self, name, owner):\n",
    "        self.name = name\n",
    "        self.owner = owner\n",
    "    def hello(self):\n",
    "        self.owner.hello()\n",
    "\n",
    "takashi = Person('たかし')\n",
    "pchan = Bird('ぴーちゃん', takashi)\n",
    "\n",
    "print(pchan.owner.name)\n",
    "pchan.hello()"
   ]
  },
  {
   "cell_type": "code",
   "execution_count": 140,
   "id": "bde4d0e2-0f18-47eb-97a6-96670f06fe50",
   "metadata": {},
   "outputs": [
    {
     "name": "stdout",
     "output_type": "stream",
     "text": [
      "True\n"
     ]
    }
   ],
   "source": [
    "class Player:\n",
    "    def __init__(self, name, level):\n",
    "        self.name = name\n",
    "        self.level = level\n",
    "        \n",
    "    def __gt__(self, other):\n",
    "        return self.level > other.level\n",
    "    \n",
    "leo = Player('leo', 30)\n",
    "john = Player('john', 1)\n",
    "print(leo > john)"
   ]
  },
  {
   "cell_type": "code",
   "execution_count": 142,
   "id": "f60a7c86-cc49-4c26-b4de-cf336ef7b7d5",
   "metadata": {},
   "outputs": [
    {
     "name": "stdout",
     "output_type": "stream",
     "text": [
      "leo 30\n"
     ]
    }
   ],
   "source": [
    "class Player:\n",
    "    def __init__(self, name, level):\n",
    "        self.name = name\n",
    "        self.level = level\n",
    "        \n",
    "    def __str__(self):\n",
    "        return '{} {}'.format(self.name, self.level)\n",
    "    \n",
    "leo = Player('leo', 30)\n",
    "print(leo)"
   ]
  },
  {
   "cell_type": "code",
   "execution_count": 144,
   "id": "3040d7cf-5f9a-4edf-b2dc-89fde79da59e",
   "metadata": {},
   "outputs": [
    {
     "name": "stdout",
     "output_type": "stream",
     "text": [
      "hiroは働く\n",
      "yukiは客先に行く\n",
      "reiプログラムを作成する\n",
      "仕事をする\n"
     ]
    }
   ],
   "source": [
    "class Worker:\n",
    "    def __init__(self, id, name):\n",
    "        self.id = id\n",
    "        self.name = name\n",
    "        \n",
    "    def work(self):\n",
    "        print(self.name + 'は働く')\n",
    "        \n",
    "\n",
    "class Sales(Worker):\n",
    "    def work(self):\n",
    "        print(self.name + 'は客先に行く')\n",
    "        \n",
    "class Engenner(Worker):\n",
    "    def work(self):\n",
    "        print(self.name + 'プログラムを作成する')\n",
    "\n",
    "class Partner:\n",
    "    def work(self):\n",
    "        print('仕事をする')\n",
    "        \n",
    "workers = []\n",
    "workers.append(Worker(1, 'hiro'))\n",
    "workers.append(Sales(300, 'yuki'))\n",
    "workers.append(Engenner(500, 'rei'))\n",
    "workers.append(Partner())\n",
    "\n",
    "for worker in workers:\n",
    "    worker.work()"
   ]
  },
  {
   "cell_type": "code",
   "execution_count": 152,
   "id": "9b4c63f3-aafe-4ad1-9358-b2e35d11d767",
   "metadata": {},
   "outputs": [
    {
     "name": "stdout",
     "output_type": "stream",
     "text": [
      "レベル:1, 名前:john\n",
      "レベル:11, 名前:john\n",
      "レベル:50, 名前:john\n"
     ]
    }
   ],
   "source": [
    "class Player:\n",
    "    \n",
    "    LEVEL_LIMIT = 50\n",
    "    \n",
    "    def __init__(self, level, name):\n",
    "        self.name = name\n",
    "        self.level = level\n",
    "        \n",
    "    def show(self):\n",
    "        print(f'レベル:{self.level}, 名前:{self.name}')\n",
    "        \n",
    "    def level_up(self, number):\n",
    "        self.level += number\n",
    "        self.check_level()\n",
    "        \n",
    "    def check_level(self):\n",
    "        if self.level > Player.LEVEL_LIMIT:\n",
    "            self.level = Player.LEVEL_LIMIT\n",
    "            \n",
    "john = Player(1, 'john')\n",
    "john.show()\n",
    "john.level_up(10)\n",
    "john.show()\n",
    "john.level_up(50)\n",
    "john.show()\n"
   ]
  },
  {
   "cell_type": "code",
   "execution_count": 153,
   "id": "c5a8cc80-4eef-4d35-b1e1-b48d070fa170",
   "metadata": {},
   "outputs": [
    {
     "ename": "ValueError",
     "evalue": "invalid literal for int() with base 10: 'ten'",
     "output_type": "error",
     "traceback": [
      "\u001b[0;31m---------------------------------------------------------------------------\u001b[0m",
      "\u001b[0;31mValueError\u001b[0m                                Traceback (most recent call last)",
      "\u001b[0;32m/tmp/ipykernel_5892/827799555.py\u001b[0m in \u001b[0;36m<module>\u001b[0;34m\u001b[0m\n\u001b[1;32m      2\u001b[0m \u001b[0mb\u001b[0m \u001b[0;34m=\u001b[0m \u001b[0;36m0\u001b[0m\u001b[0;34m\u001b[0m\u001b[0;34m\u001b[0m\u001b[0m\n\u001b[1;32m      3\u001b[0m \u001b[0;32mfor\u001b[0m \u001b[0mn\u001b[0m \u001b[0;32min\u001b[0m \u001b[0ma\u001b[0m \u001b[0;34m:\u001b[0m\u001b[0;34m\u001b[0m\u001b[0;34m\u001b[0m\u001b[0m\n\u001b[0;32m----> 4\u001b[0;31m     \u001b[0mb\u001b[0m \u001b[0;34m+=\u001b[0m \u001b[0mint\u001b[0m\u001b[0;34m(\u001b[0m\u001b[0mn\u001b[0m\u001b[0;34m)\u001b[0m\u001b[0;34m\u001b[0m\u001b[0;34m\u001b[0m\u001b[0m\n\u001b[0m\u001b[1;32m      5\u001b[0m \u001b[0mprint\u001b[0m\u001b[0;34m(\u001b[0m\u001b[0mb\u001b[0m\u001b[0;34m)\u001b[0m\u001b[0;34m\u001b[0m\u001b[0;34m\u001b[0m\u001b[0m\n",
      "\u001b[0;31mValueError\u001b[0m: invalid literal for int() with base 10: 'ten'"
     ]
    }
   ],
   "source": [
    "a = ['ten', '11', '12', '13']\n",
    "b = 0\n",
    "for n in a :\n",
    "    b += int(n)\n",
    "print(b)"
   ]
  },
  {
   "cell_type": "code",
   "execution_count": 154,
   "id": "c8818d71-7898-4927-8429-f8bf9584b15e",
   "metadata": {},
   "outputs": [
    {
     "name": "stdout",
     "output_type": "stream",
     "text": [
      "36\n"
     ]
    }
   ],
   "source": [
    "a = ['ten', '11', '12', '13']\n",
    "b = 0\n",
    "for n in a :\n",
    "    try:\n",
    "        b += int(n)\n",
    "    except ValueError:\n",
    "        pass\n",
    "print(b)"
   ]
  },
  {
   "cell_type": "code",
   "execution_count": 156,
   "id": "bf5a9b39-5ffa-47ce-95ea-b0193fdffa7c",
   "metadata": {},
   "outputs": [
    {
     "name": "stdout",
     "output_type": "stream",
     "text": [
      "test\n",
      "例外が発生しませんでした\n",
      "例外の発生に関わらず実行\n"
     ]
    }
   ],
   "source": [
    "try:\n",
    "    print('test')\n",
    "    int('100')\n",
    "except ValueError:\n",
    "    print('例外が発生しました')\n",
    "else:\n",
    "    print('例外が発生しませんでした')\n",
    "finally:\n",
    "    print('例外の発生に関わらず実行')"
   ]
  },
  {
   "cell_type": "code",
   "execution_count": 169,
   "id": "90ea706b-efc8-4546-bf9b-5a67c173a297",
   "metadata": {},
   "outputs": [
    {
     "name": "stdin",
     "output_type": "stream",
     "text": [
      "1つ目の数値を入れてください 1\n",
      "2つ目の数値を入れてください 2\n"
     ]
    },
    {
     "name": "stdout",
     "output_type": "stream",
     "text": [
      "0.5\n"
     ]
    }
   ],
   "source": [
    "while True:\n",
    "    try:\n",
    "        p = input('1つ目の数値を入れてください')\n",
    "        p = float(p)\n",
    "        q = input('2つ目の数値を入れてください')\n",
    "        q = float(q)\n",
    "        answer = p/q\n",
    "        print(answer)\n",
    "        break\n",
    "    except ZeroDivisionError:\n",
    "        print('０で割れません')\n",
    "    \n",
    "    except ValueError:\n",
    "        print('数値を入力してください')\n",
    "        \n",
    "    else:\n",
    "        print('その他の例外が発生しました')\n",
    "    \n",
    " "
   ]
  },
  {
   "cell_type": "code",
   "execution_count": 170,
   "id": "ccccee02-4f6e-4dd1-96f1-b893e76fdcf1",
   "metadata": {},
   "outputs": [
    {
     "name": "stdout",
     "output_type": "stream",
     "text": [
      "test\n",
      "例外が発生しました\n",
      "例外の発生に関わらず実行\n"
     ]
    }
   ],
   "source": [
    "try:\n",
    "    print('test')\n",
    "    int('test')\n",
    "except ValueError:\n",
    "    print('例外が発生しました')\n",
    "else:\n",
    "    print('例外が発生しませんでした')\n",
    "finally:\n",
    "    print('例外の発生に関わらず実行します')"
   ]
  },
  {
   "cell_type": "code",
   "execution_count": null,
   "id": "df9b5abd-1295-4e05-8cd1-cae28118224b",
   "metadata": {},
   "outputs": [],
   "source": []
  },
  {
   "cell_type": "code",
   "execution_count": null,
   "id": "29141e93-9cef-42d7-9bb0-ec20152c228b",
   "metadata": {},
   "outputs": [],
   "source": []
  },
  {
   "cell_type": "code",
   "execution_count": null,
   "id": "94a5c7f8-c37c-4cd9-ada9-86b5295ee15f",
   "metadata": {},
   "outputs": [],
   "source": []
  },
  {
   "cell_type": "code",
   "execution_count": null,
   "id": "f7c61374-f97f-497c-a405-b5115976d785",
   "metadata": {},
   "outputs": [],
   "source": []
  },
  {
   "cell_type": "code",
   "execution_count": null,
   "id": "4d346359-6a9e-4716-8a56-0e789abcb24d",
   "metadata": {},
   "outputs": [],
   "source": []
  },
  {
   "cell_type": "code",
   "execution_count": null,
   "id": "4c654173-64c4-448e-bc05-2ad5f06b03cf",
   "metadata": {},
   "outputs": [],
   "source": []
  },
  {
   "cell_type": "code",
   "execution_count": null,
   "id": "7ea62304-75b0-4bd1-ac70-dcf0dd9666e5",
   "metadata": {},
   "outputs": [],
   "source": []
  },
  {
   "cell_type": "code",
   "execution_count": null,
   "id": "51731af2-ddb3-4124-b1b3-d27b3111fd3b",
   "metadata": {},
   "outputs": [],
   "source": []
  },
  {
   "cell_type": "code",
   "execution_count": null,
   "id": "d3208ac0-da34-4135-a0df-02cc5cc06171",
   "metadata": {},
   "outputs": [],
   "source": []
  },
  {
   "cell_type": "code",
   "execution_count": null,
   "id": "3b56f871-f0a2-4b04-919f-6e03b410ca08",
   "metadata": {},
   "outputs": [],
   "source": []
  },
  {
   "cell_type": "code",
   "execution_count": null,
   "id": "bdd9ba6f-114f-4b1b-a3c4-1dedef5d0532",
   "metadata": {},
   "outputs": [],
   "source": []
  }
 ],
 "metadata": {
  "kernelspec": {
   "display_name": "Python 3 (ipykernel)",
   "language": "python",
   "name": "python3"
  },
  "language_info": {
   "codemirror_mode": {
    "name": "ipython",
    "version": 3
   },
   "file_extension": ".py",
   "mimetype": "text/x-python",
   "name": "python",
   "nbconvert_exporter": "python",
   "pygments_lexer": "ipython3",
   "version": "3.9.13"
  }
 },
 "nbformat": 4,
 "nbformat_minor": 5
}
