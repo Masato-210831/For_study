{
 "cells": [
  {
   "cell_type": "code",
   "execution_count": 1,
   "id": "f47f11e7-d62f-40e1-a312-771484c17082",
   "metadata": {},
   "outputs": [],
   "source": [
    "import numpy as np\n",
    "import pandas as pd\n",
    "import matplotlib.pyplot as plt\n",
    "import japanize_matplotlib\n",
    "import seaborn as sns\n",
    "from sklearn.model_selection import train_test_split, StratifiedKFold, cross_val_score\n",
    "from sklearn.preprocessing import OrdinalEncoder, StandardScaler\n",
    "import lightgbm as lgb\n",
    "%matplotlib inline\n",
    "\n",
    "import warnings\n",
    "warnings.simplefilter('ignore')"
   ]
  },
  {
   "cell_type": "code",
   "execution_count": 343,
   "id": "a4b09fcd-1f99-4d1a-acd1-8c0d6b94beed",
   "metadata": {},
   "outputs": [],
   "source": [
    "#データのダウンロード\n",
    "train_data = pd.read_csv('csv/train.csv', index_col=0)\n",
    "test_data = pd.read_csv('csv/test.csv', index_col=0)\n",
    "sample_submit = pd.read_csv('csv/sample_submission.csv', index_col=0, header=None)"
   ]
  },
  {
   "cell_type": "code",
   "execution_count": 344,
   "id": "05f7b09e-e634-4b73-8211-d75dd6bc0201",
   "metadata": {},
   "outputs": [
    {
     "data": {
      "text/html": [
       "<div>\n",
       "<style scoped>\n",
       "    .dataframe tbody tr th:only-of-type {\n",
       "        vertical-align: middle;\n",
       "    }\n",
       "\n",
       "    .dataframe tbody tr th {\n",
       "        vertical-align: top;\n",
       "    }\n",
       "\n",
       "    .dataframe thead th {\n",
       "        text-align: right;\n",
       "    }\n",
       "</style>\n",
       "<table border=\"1\" class=\"dataframe\">\n",
       "  <thead>\n",
       "    <tr style=\"text-align: right;\">\n",
       "      <th></th>\n",
       "      <th>created_at</th>\n",
       "      <th>tree_dbh</th>\n",
       "      <th>curb_loc</th>\n",
       "      <th>health</th>\n",
       "      <th>steward</th>\n",
       "      <th>guards</th>\n",
       "      <th>sidewalk</th>\n",
       "      <th>user_type</th>\n",
       "      <th>problems</th>\n",
       "      <th>spc_common</th>\n",
       "      <th>...</th>\n",
       "      <th>nta</th>\n",
       "      <th>nta_name</th>\n",
       "      <th>borocode</th>\n",
       "      <th>boro_ct</th>\n",
       "      <th>boroname</th>\n",
       "      <th>zip_city</th>\n",
       "      <th>cb_num</th>\n",
       "      <th>st_senate</th>\n",
       "      <th>st_assem</th>\n",
       "      <th>cncldist</th>\n",
       "    </tr>\n",
       "  </thead>\n",
       "  <tbody>\n",
       "    <tr>\n",
       "      <th>0</th>\n",
       "      <td>2015-06-29</td>\n",
       "      <td>14</td>\n",
       "      <td>OnCurb</td>\n",
       "      <td>1</td>\n",
       "      <td>NaN</td>\n",
       "      <td>NaN</td>\n",
       "      <td>Damage</td>\n",
       "      <td>Volunteer</td>\n",
       "      <td>NaN</td>\n",
       "      <td>English oak</td>\n",
       "      <td>...</td>\n",
       "      <td>QN45</td>\n",
       "      <td>Douglas Manor-Douglaston-Little Neck</td>\n",
       "      <td>4</td>\n",
       "      <td>4152901</td>\n",
       "      <td>Queens</td>\n",
       "      <td>Little Neck</td>\n",
       "      <td>411</td>\n",
       "      <td>11</td>\n",
       "      <td>25</td>\n",
       "      <td>23</td>\n",
       "    </tr>\n",
       "    <tr>\n",
       "      <th>1</th>\n",
       "      <td>2016-09-21</td>\n",
       "      <td>5</td>\n",
       "      <td>OnCurb</td>\n",
       "      <td>1</td>\n",
       "      <td>3or4</td>\n",
       "      <td>Helpful</td>\n",
       "      <td>NoDamage</td>\n",
       "      <td>Volunteer</td>\n",
       "      <td>NaN</td>\n",
       "      <td>crimson king maple</td>\n",
       "      <td>...</td>\n",
       "      <td>BX05</td>\n",
       "      <td>Bedford Park-Fordham North</td>\n",
       "      <td>2</td>\n",
       "      <td>2039901</td>\n",
       "      <td>Bronx</td>\n",
       "      <td>Bronx</td>\n",
       "      <td>207</td>\n",
       "      <td>33</td>\n",
       "      <td>78</td>\n",
       "      <td>15</td>\n",
       "    </tr>\n",
       "    <tr>\n",
       "      <th>2</th>\n",
       "      <td>2015-09-13</td>\n",
       "      <td>26</td>\n",
       "      <td>OnCurb</td>\n",
       "      <td>2</td>\n",
       "      <td>NaN</td>\n",
       "      <td>NaN</td>\n",
       "      <td>NoDamage</td>\n",
       "      <td>Volunteer</td>\n",
       "      <td>StonesBranchLights</td>\n",
       "      <td>English oak</td>\n",
       "      <td>...</td>\n",
       "      <td>SI01</td>\n",
       "      <td>Annadale-Huguenot-Prince's Bay-Eltingville</td>\n",
       "      <td>5</td>\n",
       "      <td>5017011</td>\n",
       "      <td>Staten Island</td>\n",
       "      <td>Staten Island</td>\n",
       "      <td>503</td>\n",
       "      <td>24</td>\n",
       "      <td>62</td>\n",
       "      <td>51</td>\n",
       "    </tr>\n",
       "    <tr>\n",
       "      <th>3</th>\n",
       "      <td>2016-05-09</td>\n",
       "      <td>15</td>\n",
       "      <td>OnCurb</td>\n",
       "      <td>0</td>\n",
       "      <td>NaN</td>\n",
       "      <td>NaN</td>\n",
       "      <td>Damage</td>\n",
       "      <td>NYC Parks Staff</td>\n",
       "      <td>NaN</td>\n",
       "      <td>honeylocust</td>\n",
       "      <td>...</td>\n",
       "      <td>SI11</td>\n",
       "      <td>Charleston-Richmond Valley-Tottenville</td>\n",
       "      <td>5</td>\n",
       "      <td>5024401</td>\n",
       "      <td>Staten Island</td>\n",
       "      <td>Staten Island</td>\n",
       "      <td>503</td>\n",
       "      <td>24</td>\n",
       "      <td>62</td>\n",
       "      <td>51</td>\n",
       "    </tr>\n",
       "    <tr>\n",
       "      <th>4</th>\n",
       "      <td>2016-06-24</td>\n",
       "      <td>23</td>\n",
       "      <td>OnCurb</td>\n",
       "      <td>1</td>\n",
       "      <td>NaN</td>\n",
       "      <td>NaN</td>\n",
       "      <td>NoDamage</td>\n",
       "      <td>Volunteer</td>\n",
       "      <td>Stones</td>\n",
       "      <td>London planetree</td>\n",
       "      <td>...</td>\n",
       "      <td>MN03</td>\n",
       "      <td>Central Harlem North-Polo Grounds</td>\n",
       "      <td>1</td>\n",
       "      <td>1022102</td>\n",
       "      <td>Manhattan</td>\n",
       "      <td>New York</td>\n",
       "      <td>110</td>\n",
       "      <td>30</td>\n",
       "      <td>70</td>\n",
       "      <td>9</td>\n",
       "    </tr>\n",
       "  </tbody>\n",
       "</table>\n",
       "<p>5 rows × 21 columns</p>\n",
       "</div>"
      ],
      "text/plain": [
       "   created_at  tree_dbh curb_loc  health steward   guards  sidewalk  \\\n",
       "0  2015-06-29        14   OnCurb       1     NaN      NaN    Damage   \n",
       "1  2016-09-21         5   OnCurb       1    3or4  Helpful  NoDamage   \n",
       "2  2015-09-13        26   OnCurb       2     NaN      NaN  NoDamage   \n",
       "3  2016-05-09        15   OnCurb       0     NaN      NaN    Damage   \n",
       "4  2016-06-24        23   OnCurb       1     NaN      NaN  NoDamage   \n",
       "\n",
       "         user_type            problems          spc_common  ...   nta  \\\n",
       "0        Volunteer                 NaN         English oak  ...  QN45   \n",
       "1        Volunteer                 NaN  crimson king maple  ...  BX05   \n",
       "2        Volunteer  StonesBranchLights         English oak  ...  SI01   \n",
       "3  NYC Parks Staff                 NaN         honeylocust  ...  SI11   \n",
       "4        Volunteer              Stones    London planetree  ...  MN03   \n",
       "\n",
       "                                     nta_name borocode  boro_ct  \\\n",
       "0        Douglas Manor-Douglaston-Little Neck        4  4152901   \n",
       "1                  Bedford Park-Fordham North        2  2039901   \n",
       "2  Annadale-Huguenot-Prince's Bay-Eltingville        5  5017011   \n",
       "3      Charleston-Richmond Valley-Tottenville        5  5024401   \n",
       "4           Central Harlem North-Polo Grounds        1  1022102   \n",
       "\n",
       "        boroname       zip_city cb_num  st_senate  st_assem  cncldist  \n",
       "0         Queens    Little Neck    411         11        25        23  \n",
       "1          Bronx          Bronx    207         33        78        15  \n",
       "2  Staten Island  Staten Island    503         24        62        51  \n",
       "3  Staten Island  Staten Island    503         24        62        51  \n",
       "4      Manhattan       New York    110         30        70         9  \n",
       "\n",
       "[5 rows x 21 columns]"
      ]
     },
     "execution_count": 344,
     "metadata": {},
     "output_type": "execute_result"
    }
   ],
   "source": [
    "train_data.head()"
   ]
  },
  {
   "cell_type": "code",
   "execution_count": 322,
   "id": "d2de6c32-fabd-4a68-bbe8-93cbd3beb5b6",
   "metadata": {},
   "outputs": [
    {
     "data": {
      "text/plain": [
       "(19984, 21)"
      ]
     },
     "execution_count": 322,
     "metadata": {},
     "output_type": "execute_result"
    }
   ],
   "source": [
    "#訓練データのデータ、特徴量数\n",
    "train_data.shape"
   ]
  },
  {
   "cell_type": "code",
   "execution_count": 345,
   "id": "41ac19aa-07d1-4a82-a980-48fb4fd095e0",
   "metadata": {},
   "outputs": [],
   "source": [
    "train_df = train_data.copy()\n",
    "test_df = test_data.copy()"
   ]
  },
  {
   "cell_type": "code",
   "execution_count": 346,
   "id": "5bfad135-5edc-44d6-9737-37686bf601a2",
   "metadata": {},
   "outputs": [
    {
     "data": {
      "text/plain": [
       "health\n",
       "0     3535\n",
       "1    15751\n",
       "2      698\n",
       "Name: count, dtype: int64"
      ]
     },
     "execution_count": 346,
     "metadata": {},
     "output_type": "execute_result"
    }
   ],
   "source": [
    "\"\"\"\n",
    "不均衡データ\n",
    "\"\"\"\n",
    "train_df['health'].value_counts().sort_index()"
   ]
  },
  {
   "cell_type": "code",
   "execution_count": 347,
   "id": "bb627698-0a50-4d45-841a-fdbeb40dac52",
   "metadata": {},
   "outputs": [
    {
     "data": {
      "text/plain": [
       "<BarContainer object of 3 artists>"
      ]
     },
     "execution_count": 347,
     "metadata": {},
     "output_type": "execute_result"
    },
    {
     "data": {
      "image/png": "[encoded data removed]",
      "text/plain": [
       "<Figure size 640x480 with 1 Axes>"
      ]
     },
     "metadata": {},
     "output_type": "display_data"
    }
   ],
   "source": [
    "health_counts = train_df['health'].value_counts().sort_index()\n",
    "plt.bar(['0', '1', '2'], health_counts.values)"
   ]
  },
  {
   "cell_type": "code",
   "execution_count": null,
   "id": "379d984e-ac11-4f88-bd71-5bc404de996b",
   "metadata": {},
   "outputs": [],
   "source": []
  },
  {
   "cell_type": "code",
   "execution_count": 348,
   "id": "c3971a16-2aa8-44a2-9247-dc8ed763a476",
   "metadata": {},
   "outputs": [
    {
     "name": "stdout",
     "output_type": "stream",
     "text": [
      "<class 'pandas.core.frame.DataFrame'>\n",
      "Index: 19984 entries, 0 to 19983\n",
      "Data columns (total 21 columns):\n",
      " #   Column      Non-Null Count  Dtype \n",
      "---  ------      --------------  ----- \n",
      " 0   created_at  19984 non-null  object\n",
      " 1   tree_dbh    19984 non-null  int64 \n",
      " 2   curb_loc    19984 non-null  object\n",
      " 3   health      19984 non-null  int64 \n",
      " 4   steward     5101 non-null   object\n",
      " 5   guards      5041 non-null   object\n",
      " 6   sidewalk    19984 non-null  object\n",
      " 7   user_type   19984 non-null  object\n",
      " 8   problems    7741 non-null   object\n",
      " 9   spc_common  19984 non-null  object\n",
      " 10  spc_latin   19984 non-null  object\n",
      " 11  nta         19984 non-null  object\n",
      " 12  nta_name    19984 non-null  object\n",
      " 13  borocode    19984 non-null  int64 \n",
      " 14  boro_ct     19984 non-null  int64 \n",
      " 15  boroname    19984 non-null  object\n",
      " 16  zip_city    19984 non-null  object\n",
      " 17  cb_num      19984 non-null  int64 \n",
      " 18  st_senate   19984 non-null  int64 \n",
      " 19  st_assem    19984 non-null  int64 \n",
      " 20  cncldist    19984 non-null  int64 \n",
      "dtypes: int64(8), object(13)\n",
      "memory usage: 3.4+ MB\n"
     ]
    }
   ],
   "source": [
    "train_df.info()"
   ]
  },
  {
   "cell_type": "code",
   "execution_count": 349,
   "id": "db3fefb4-b9fe-4b5e-a899-edcf7825c32c",
   "metadata": {},
   "outputs": [
    {
     "name": "stdout",
     "output_type": "stream",
     "text": [
      "<class 'pandas.core.frame.DataFrame'>\n",
      "Index: 19702 entries, 19984 to 39968\n",
      "Data columns (total 20 columns):\n",
      " #   Column      Non-Null Count  Dtype \n",
      "---  ------      --------------  ----- \n",
      " 0   created_at  19702 non-null  object\n",
      " 1   tree_dbh    19702 non-null  int64 \n",
      " 2   curb_loc    19702 non-null  object\n",
      " 3   steward     5176 non-null   object\n",
      " 4   guards      5135 non-null   object\n",
      " 5   sidewalk    19702 non-null  object\n",
      " 6   user_type   19702 non-null  object\n",
      " 7   problems    7657 non-null   object\n",
      " 8   spc_common  19702 non-null  object\n",
      " 9   spc_latin   19702 non-null  object\n",
      " 10  nta         19702 non-null  object\n",
      " 11  nta_name    19702 non-null  object\n",
      " 12  borocode    19702 non-null  int64 \n",
      " 13  boro_ct     19702 non-null  int64 \n",
      " 14  boroname    19702 non-null  object\n",
      " 15  zip_city    19702 non-null  object\n",
      " 16  cb_num      19702 non-null  int64 \n",
      " 17  st_senate   19702 non-null  int64 \n",
      " 18  st_assem    19702 non-null  int64 \n",
      " 19  cncldist    19702 non-null  int64 \n",
      "dtypes: int64(7), object(13)\n",
      "memory usage: 3.2+ MB\n"
     ]
    }
   ],
   "source": [
    "test_data.info()"
   ]
  },
  {
   "cell_type": "code",
   "execution_count": 350,
   "id": "a7329ee3-f51a-40b1-a1ef-6e8b4092b95d",
   "metadata": {},
   "outputs": [
    {
     "data": {
      "text/plain": [
       "created_at        0\n",
       "tree_dbh          0\n",
       "curb_loc          0\n",
       "health            0\n",
       "steward       14883\n",
       "guards        14943\n",
       "sidewalk          0\n",
       "user_type         0\n",
       "problems      12243\n",
       "spc_common        0\n",
       "spc_latin         0\n",
       "nta               0\n",
       "nta_name          0\n",
       "borocode          0\n",
       "boro_ct           0\n",
       "boroname          0\n",
       "zip_city          0\n",
       "cb_num            0\n",
       "st_senate         0\n",
       "st_assem          0\n",
       "cncldist          0\n",
       "dtype: int64"
      ]
     },
     "execution_count": 350,
     "metadata": {},
     "output_type": "execute_result"
    }
   ],
   "source": [
    "#各特徴量の欠損値数\n",
    "train_df.isnull().sum()"
   ]
  },
  {
   "cell_type": "code",
   "execution_count": 351,
   "id": "8f79284d-3bf9-49c5-8607-2525192dbe6e",
   "metadata": {},
   "outputs": [
    {
     "data": {
      "text/plain": [
       "created_at        0\n",
       "tree_dbh          0\n",
       "curb_loc          0\n",
       "steward       14526\n",
       "guards        14567\n",
       "sidewalk          0\n",
       "user_type         0\n",
       "problems      12045\n",
       "spc_common        0\n",
       "spc_latin         0\n",
       "nta               0\n",
       "nta_name          0\n",
       "borocode          0\n",
       "boro_ct           0\n",
       "boroname          0\n",
       "zip_city          0\n",
       "cb_num            0\n",
       "st_senate         0\n",
       "st_assem          0\n",
       "cncldist          0\n",
       "dtype: int64"
      ]
     },
     "execution_count": 351,
     "metadata": {},
     "output_type": "execute_result"
    }
   ],
   "source": [
    "test_df.isnull().sum()"
   ]
  },
  {
   "cell_type": "code",
   "execution_count": 330,
   "id": "bf822ae2-4c9e-4d5a-8e05-7913a1e8eab5",
   "metadata": {},
   "outputs": [
    {
     "name": "stdout",
     "output_type": "stream",
     "text": [
      "steward\n",
      "1or2       3999\n",
      "3or4       1079\n",
      "4orMore      23\n",
      "Name: count, dtype: int64\n",
      "------------------------------\n",
      "guards\n",
      "Helpful    3650\n",
      "Unsure      737\n",
      "Harmful     654\n",
      "Name: count, dtype: int64\n",
      "------------------------------\n",
      "problems\n",
      "Stones                                  2219\n",
      "BranchLights                            1036\n",
      "StonesBranchLights                       762\n",
      "BranchOther                              408\n",
      "RootOther                                333\n",
      "                                        ... \n",
      "StonesRootOtherTrunkOtherBranchOther       8\n",
      "StonesRootOtherWiresRopeBranchOther        5\n",
      "StonesMetalGratesTrunkOther                4\n",
      "TrunkLightsBranchLightsBranchOther         4\n",
      "WiresRopeTrunkLightsBranchLights           4\n",
      "Name: count, Length: 73, dtype: int64\n",
      "------------------------------\n",
      "problemsのユニークデータ数\n"
     ]
    },
    {
     "data": {
      "text/plain": [
       "74"
      ]
     },
     "execution_count": 330,
     "metadata": {},
     "output_type": "execute_result"
    }
   ],
   "source": [
    "#欠損値を含む特徴量のデータ確認\n",
    "print(train_df['steward'].value_counts())\n",
    "print('-'*30)\n",
    "print(train_df['guards'].value_counts())\n",
    "print('-'*30)\n",
    "print(train_df['problems'].value_counts())\n",
    "print('-'*30)\n",
    "print('problemsのユニークデータ数')\n",
    "train_df['problems'].unique().shape[0]"
   ]
  },
  {
   "cell_type": "code",
   "execution_count": 331,
   "id": "32e12445-1871-40a1-829c-9399855266e8",
   "metadata": {},
   "outputs": [
    {
     "name": "stdout",
     "output_type": "stream",
     "text": [
      "steward\n",
      "1or2       4165\n",
      "3or4        989\n",
      "4orMore      22\n",
      "Name: count, dtype: int64\n",
      "------------------------------\n",
      "guards\n",
      "Helpful    3716\n",
      "Unsure      753\n",
      "Harmful     666\n",
      "Name: count, dtype: int64\n",
      "------------------------------\n",
      "problems\n",
      "Stones                                  2236\n",
      "BranchLights                            1009\n",
      "StonesBranchLights                       767\n",
      "BranchOther                              385\n",
      "RootOther                                384\n",
      "                                        ... \n",
      "StonesRootOtherTrunkOtherBranchOther       7\n",
      "WiresRopeTrunkLights                       6\n",
      "StonesTrunkLightsBranchLights              6\n",
      "WiresRopeTrunkLightsBranchLights           5\n",
      "RootOtherWiresRopeTrunkLights              4\n",
      "Name: count, Length: 73, dtype: int64\n",
      "------------------------------\n",
      "problemsのユニークデータ数\n"
     ]
    },
    {
     "data": {
      "text/plain": [
       "74"
      ]
     },
     "execution_count": 331,
     "metadata": {},
     "output_type": "execute_result"
    }
   ],
   "source": [
    "#----テストデーターーーーー\n",
    "print(test_df['steward'].value_counts())\n",
    "print('-'*30)\n",
    "print(test_df['guards'].value_counts())\n",
    "print('-'*30)\n",
    "print(test_df['problems'].value_counts())\n",
    "print('-'*30)\n",
    "print('problemsのユニークデータ数')\n",
    "test_df['problems'].unique().shape[0]"
   ]
  },
  {
   "cell_type": "code",
   "execution_count": 332,
   "id": "7253f6b0-e641-4cab-a05d-72529b2d46eb",
   "metadata": {},
   "outputs": [
    {
     "name": "stdout",
     "output_type": "stream",
     "text": [
      "------------------------------↓トレーニングデータ\n",
      "created_at    0\n",
      "tree_dbh      0\n",
      "curb_loc      0\n",
      "health        0\n",
      "steward       0\n",
      "guards        0\n",
      "sidewalk      0\n",
      "user_type     0\n",
      "problems      0\n",
      "spc_common    0\n",
      "spc_latin     0\n",
      "nta           0\n",
      "nta_name      0\n",
      "borocode      0\n",
      "boro_ct       0\n",
      "boroname      0\n",
      "zip_city      0\n",
      "cb_num        0\n",
      "st_senate     0\n",
      "st_assem      0\n",
      "cncldist      0\n",
      "dtype: int64\n",
      "------------------------------↓テストデータ\n",
      "created_at    0\n",
      "tree_dbh      0\n",
      "curb_loc      0\n",
      "steward       0\n",
      "guards        0\n",
      "sidewalk      0\n",
      "user_type     0\n",
      "problems      0\n",
      "spc_common    0\n",
      "spc_latin     0\n",
      "nta           0\n",
      "nta_name      0\n",
      "borocode      0\n",
      "boro_ct       0\n",
      "boroname      0\n",
      "zip_city      0\n",
      "cb_num        0\n",
      "st_senate     0\n",
      "st_assem      0\n",
      "cncldist      0\n",
      "dtype: int64\n"
     ]
    }
   ],
   "source": [
    "#欠損値をNULLに置き換え\n",
    "train_df.fillna('NULL', inplace=True)\n",
    "test_df.fillna('NULL', inplace=True)\n",
    "print('-'*30 + '↓トレーニングデータ')\n",
    "print(train_df.isnull().sum())\n",
    "print('-'*30 + '↓テストデータ')\n",
    "print(test_df.isnull().sum())"
   ]
  },
  {
   "cell_type": "code",
   "execution_count": 333,
   "id": "efd690cf-e087-4b75-855e-6c8387fa4d2d",
   "metadata": {},
   "outputs": [],
   "source": [
    "#problemを問題あり、なしのバイナリデータに変換\n",
    "train_df['bool_problems'] = train_df['problems'].apply(lambda x: 0 if x == 'NULL' else 1)\n",
    "test_df['bool_problems'] = test_df['problems'].apply(lambda x: 0 if x == 'NULL' else 1)"
   ]
  },
  {
   "cell_type": "code",
   "execution_count": 334,
   "id": "56837c26-1b6a-4d3f-b19d-2fa7dc8a0599",
   "metadata": {},
   "outputs": [
    {
     "data": {
      "text/html": [
       "<div>\n",
       "<style scoped>\n",
       "    .dataframe tbody tr th:only-of-type {\n",
       "        vertical-align: middle;\n",
       "    }\n",
       "\n",
       "    .dataframe tbody tr th {\n",
       "        vertical-align: top;\n",
       "    }\n",
       "\n",
       "    .dataframe thead th {\n",
       "        text-align: right;\n",
       "    }\n",
       "</style>\n",
       "<table border=\"1\" class=\"dataframe\">\n",
       "  <thead>\n",
       "    <tr style=\"text-align: right;\">\n",
       "      <th></th>\n",
       "      <th>bool_problems</th>\n",
       "      <th>problems</th>\n",
       "    </tr>\n",
       "  </thead>\n",
       "  <tbody>\n",
       "    <tr>\n",
       "      <th>0</th>\n",
       "      <td>0</td>\n",
       "      <td>NULL</td>\n",
       "    </tr>\n",
       "    <tr>\n",
       "      <th>1</th>\n",
       "      <td>0</td>\n",
       "      <td>NULL</td>\n",
       "    </tr>\n",
       "    <tr>\n",
       "      <th>2</th>\n",
       "      <td>1</td>\n",
       "      <td>StonesBranchLights</td>\n",
       "    </tr>\n",
       "    <tr>\n",
       "      <th>3</th>\n",
       "      <td>0</td>\n",
       "      <td>NULL</td>\n",
       "    </tr>\n",
       "    <tr>\n",
       "      <th>4</th>\n",
       "      <td>1</td>\n",
       "      <td>Stones</td>\n",
       "    </tr>\n",
       "    <tr>\n",
       "      <th>5</th>\n",
       "      <td>0</td>\n",
       "      <td>NULL</td>\n",
       "    </tr>\n",
       "    <tr>\n",
       "      <th>6</th>\n",
       "      <td>1</td>\n",
       "      <td>BranchLights</td>\n",
       "    </tr>\n",
       "    <tr>\n",
       "      <th>7</th>\n",
       "      <td>0</td>\n",
       "      <td>NULL</td>\n",
       "    </tr>\n",
       "    <tr>\n",
       "      <th>8</th>\n",
       "      <td>0</td>\n",
       "      <td>NULL</td>\n",
       "    </tr>\n",
       "    <tr>\n",
       "      <th>9</th>\n",
       "      <td>1</td>\n",
       "      <td>Stones</td>\n",
       "    </tr>\n",
       "  </tbody>\n",
       "</table>\n",
       "</div>"
      ],
      "text/plain": [
       "   bool_problems            problems\n",
       "0              0                NULL\n",
       "1              0                NULL\n",
       "2              1  StonesBranchLights\n",
       "3              0                NULL\n",
       "4              1              Stones\n",
       "5              0                NULL\n",
       "6              1        BranchLights\n",
       "7              0                NULL\n",
       "8              0                NULL\n",
       "9              1              Stones"
      ]
     },
     "execution_count": 334,
     "metadata": {},
     "output_type": "execute_result"
    }
   ],
   "source": [
    "train_df[['bool_problems', 'problems']].head(10)"
   ]
  },
  {
   "cell_type": "code",
   "execution_count": 335,
   "id": "bbac5c96-7a64-42d6-981b-3091a254e32e",
   "metadata": {},
   "outputs": [
    {
     "data": {
      "text/html": [
       "<div>\n",
       "<style scoped>\n",
       "    .dataframe tbody tr th:only-of-type {\n",
       "        vertical-align: middle;\n",
       "    }\n",
       "\n",
       "    .dataframe tbody tr th {\n",
       "        vertical-align: top;\n",
       "    }\n",
       "\n",
       "    .dataframe thead th {\n",
       "        text-align: right;\n",
       "    }\n",
       "</style>\n",
       "<table border=\"1\" class=\"dataframe\">\n",
       "  <thead>\n",
       "    <tr style=\"text-align: right;\">\n",
       "      <th></th>\n",
       "      <th>bool_problems</th>\n",
       "      <th>problems</th>\n",
       "    </tr>\n",
       "  </thead>\n",
       "  <tbody>\n",
       "    <tr>\n",
       "      <th>19984</th>\n",
       "      <td>0</td>\n",
       "      <td>NULL</td>\n",
       "    </tr>\n",
       "    <tr>\n",
       "      <th>19985</th>\n",
       "      <td>0</td>\n",
       "      <td>NULL</td>\n",
       "    </tr>\n",
       "    <tr>\n",
       "      <th>19986</th>\n",
       "      <td>0</td>\n",
       "      <td>NULL</td>\n",
       "    </tr>\n",
       "    <tr>\n",
       "      <th>19987</th>\n",
       "      <td>0</td>\n",
       "      <td>NULL</td>\n",
       "    </tr>\n",
       "    <tr>\n",
       "      <th>19988</th>\n",
       "      <td>1</td>\n",
       "      <td>Stones</td>\n",
       "    </tr>\n",
       "    <tr>\n",
       "      <th>19989</th>\n",
       "      <td>0</td>\n",
       "      <td>NULL</td>\n",
       "    </tr>\n",
       "    <tr>\n",
       "      <th>19990</th>\n",
       "      <td>0</td>\n",
       "      <td>NULL</td>\n",
       "    </tr>\n",
       "    <tr>\n",
       "      <th>19991</th>\n",
       "      <td>1</td>\n",
       "      <td>Stones</td>\n",
       "    </tr>\n",
       "    <tr>\n",
       "      <th>19992</th>\n",
       "      <td>1</td>\n",
       "      <td>StonesRootOtherTrunkOther</td>\n",
       "    </tr>\n",
       "    <tr>\n",
       "      <th>19993</th>\n",
       "      <td>1</td>\n",
       "      <td>RootOther</td>\n",
       "    </tr>\n",
       "  </tbody>\n",
       "</table>\n",
       "</div>"
      ],
      "text/plain": [
       "       bool_problems                   problems\n",
       "19984              0                       NULL\n",
       "19985              0                       NULL\n",
       "19986              0                       NULL\n",
       "19987              0                       NULL\n",
       "19988              1                     Stones\n",
       "19989              0                       NULL\n",
       "19990              0                       NULL\n",
       "19991              1                     Stones\n",
       "19992              1  StonesRootOtherTrunkOther\n",
       "19993              1                  RootOther"
      ]
     },
     "execution_count": 335,
     "metadata": {},
     "output_type": "execute_result"
    }
   ],
   "source": [
    "test_df[['bool_problems', 'problems']].head(10)"
   ]
  },
  {
   "cell_type": "code",
   "execution_count": 340,
   "id": "698088be-0402-47e8-95bc-725be0cf306b",
   "metadata": {},
   "outputs": [],
   "source": [
    "#必要な特徴量を選抜\n",
    "no_select_cols = ['created_at', 'spc_latin', 'nta_name','boroname']\n",
    "corr_drop_cols = ['boro_ct', 'cb_num', 'st_assem', 'zip_city']\n",
    "\n",
    "val_df = train_df.pop('health')\n",
    "select_train_df = train_df.drop(no_select_cols + corr_drop_cols, axis=1)\n",
    "select_test_df = test_df.drop(no_select_cols + corr_drop_cols, axis=1)"
   ]
  },
  {
   "cell_type": "code",
   "execution_count": 341,
   "id": "ee9a3ca3-ee6f-4c0e-b4b3-36a3481d72e3",
   "metadata": {},
   "outputs": [
    {
     "data": {
      "text/html": [
       "<div>\n",
       "<style scoped>\n",
       "    .dataframe tbody tr th:only-of-type {\n",
       "        vertical-align: middle;\n",
       "    }\n",
       "\n",
       "    .dataframe tbody tr th {\n",
       "        vertical-align: top;\n",
       "    }\n",
       "\n",
       "    .dataframe thead th {\n",
       "        text-align: right;\n",
       "    }\n",
       "</style>\n",
       "<table border=\"1\" class=\"dataframe\">\n",
       "  <thead>\n",
       "    <tr style=\"text-align: right;\">\n",
       "      <th></th>\n",
       "      <th>tree_dbh</th>\n",
       "      <th>curb_loc</th>\n",
       "      <th>steward</th>\n",
       "      <th>guards</th>\n",
       "      <th>sidewalk</th>\n",
       "      <th>user_type</th>\n",
       "      <th>problems</th>\n",
       "      <th>spc_common</th>\n",
       "      <th>nta</th>\n",
       "      <th>borocode</th>\n",
       "      <th>st_senate</th>\n",
       "      <th>cncldist</th>\n",
       "      <th>bool_problems</th>\n",
       "    </tr>\n",
       "  </thead>\n",
       "  <tbody>\n",
       "    <tr>\n",
       "      <th>0</th>\n",
       "      <td>14</td>\n",
       "      <td>OnCurb</td>\n",
       "      <td>NULL</td>\n",
       "      <td>NULL</td>\n",
       "      <td>Damage</td>\n",
       "      <td>Volunteer</td>\n",
       "      <td>NULL</td>\n",
       "      <td>English oak</td>\n",
       "      <td>QN45</td>\n",
       "      <td>4</td>\n",
       "      <td>11</td>\n",
       "      <td>23</td>\n",
       "      <td>0</td>\n",
       "    </tr>\n",
       "    <tr>\n",
       "      <th>1</th>\n",
       "      <td>5</td>\n",
       "      <td>OnCurb</td>\n",
       "      <td>3or4</td>\n",
       "      <td>Helpful</td>\n",
       "      <td>NoDamage</td>\n",
       "      <td>Volunteer</td>\n",
       "      <td>NULL</td>\n",
       "      <td>crimson king maple</td>\n",
       "      <td>BX05</td>\n",
       "      <td>2</td>\n",
       "      <td>33</td>\n",
       "      <td>15</td>\n",
       "      <td>0</td>\n",
       "    </tr>\n",
       "    <tr>\n",
       "      <th>2</th>\n",
       "      <td>26</td>\n",
       "      <td>OnCurb</td>\n",
       "      <td>NULL</td>\n",
       "      <td>NULL</td>\n",
       "      <td>NoDamage</td>\n",
       "      <td>Volunteer</td>\n",
       "      <td>StonesBranchLights</td>\n",
       "      <td>English oak</td>\n",
       "      <td>SI01</td>\n",
       "      <td>5</td>\n",
       "      <td>24</td>\n",
       "      <td>51</td>\n",
       "      <td>1</td>\n",
       "    </tr>\n",
       "    <tr>\n",
       "      <th>3</th>\n",
       "      <td>15</td>\n",
       "      <td>OnCurb</td>\n",
       "      <td>NULL</td>\n",
       "      <td>NULL</td>\n",
       "      <td>Damage</td>\n",
       "      <td>NYC Parks Staff</td>\n",
       "      <td>NULL</td>\n",
       "      <td>honeylocust</td>\n",
       "      <td>SI11</td>\n",
       "      <td>5</td>\n",
       "      <td>24</td>\n",
       "      <td>51</td>\n",
       "      <td>0</td>\n",
       "    </tr>\n",
       "    <tr>\n",
       "      <th>4</th>\n",
       "      <td>23</td>\n",
       "      <td>OnCurb</td>\n",
       "      <td>NULL</td>\n",
       "      <td>NULL</td>\n",
       "      <td>NoDamage</td>\n",
       "      <td>Volunteer</td>\n",
       "      <td>Stones</td>\n",
       "      <td>London planetree</td>\n",
       "      <td>MN03</td>\n",
       "      <td>1</td>\n",
       "      <td>30</td>\n",
       "      <td>9</td>\n",
       "      <td>1</td>\n",
       "    </tr>\n",
       "  </tbody>\n",
       "</table>\n",
       "</div>"
      ],
      "text/plain": [
       "   tree_dbh curb_loc steward   guards  sidewalk        user_type  \\\n",
       "0        14   OnCurb    NULL     NULL    Damage        Volunteer   \n",
       "1         5   OnCurb    3or4  Helpful  NoDamage        Volunteer   \n",
       "2        26   OnCurb    NULL     NULL  NoDamage        Volunteer   \n",
       "3        15   OnCurb    NULL     NULL    Damage  NYC Parks Staff   \n",
       "4        23   OnCurb    NULL     NULL  NoDamage        Volunteer   \n",
       "\n",
       "             problems          spc_common   nta  borocode  st_senate  \\\n",
       "0                NULL         English oak  QN45         4         11   \n",
       "1                NULL  crimson king maple  BX05         2         33   \n",
       "2  StonesBranchLights         English oak  SI01         5         24   \n",
       "3                NULL         honeylocust  SI11         5         24   \n",
       "4              Stones    London planetree  MN03         1         30   \n",
       "\n",
       "   cncldist  bool_problems  \n",
       "0        23              0  \n",
       "1        15              0  \n",
       "2        51              1  \n",
       "3        51              0  \n",
       "4         9              1  "
      ]
     },
     "execution_count": 341,
     "metadata": {},
     "output_type": "execute_result"
    }
   ],
   "source": [
    "select_train_df.head()"
   ]
  },
  {
   "cell_type": "code",
   "execution_count": 497,
   "id": "66902e76-5b99-4871-b3e8-319418d26365",
   "metadata": {},
   "outputs": [
    {
     "data": {
      "text/plain": [
       "tree_dbh           int64\n",
       "curb_loc         float64\n",
       "steward          float64\n",
       "guards           float64\n",
       "sidewalk         float64\n",
       "user_type        float64\n",
       "problems         float64\n",
       "spc_common       float64\n",
       "nta              float64\n",
       "borocode         float64\n",
       "st_senate        float64\n",
       "cncldist         float64\n",
       "bool_problems      int64\n",
       "dtype: object"
      ]
     },
     "execution_count": 497,
     "metadata": {},
     "output_type": "execute_result"
    }
   ],
   "source": [
    "select_train_df.dtypes"
   ]
  },
  {
   "cell_type": "code",
   "execution_count": 495,
   "id": "bdd5e6cb-a698-44ab-bcd3-e5fd508f37cc",
   "metadata": {},
   "outputs": [
    {
     "data": {
      "text/plain": [
       "tree_dbh           int64\n",
       "curb_loc         float64\n",
       "steward          float64\n",
       "guards           float64\n",
       "sidewalk         float64\n",
       "user_type        float64\n",
       "problems         float64\n",
       "spc_common       float64\n",
       "nta              float64\n",
       "borocode         float64\n",
       "st_senate        float64\n",
       "cncldist         float64\n",
       "bool_problems      int64\n",
       "dtype: object"
      ]
     },
     "execution_count": 495,
     "metadata": {},
     "output_type": "execute_result"
    }
   ],
   "source": [
    "select_test_df.dtypes"
   ]
  },
  {
   "cell_type": "code",
   "execution_count": null,
   "id": "0cb2c7b6-f002-48cb-9cf8-188807783a86",
   "metadata": {},
   "outputs": [],
   "source": []
  },
  {
   "cell_type": "code",
   "execution_count": null,
   "id": "6ea74b84-e760-4552-84b2-6158a85140c4",
   "metadata": {},
   "outputs": [],
   "source": []
  },
  {
   "cell_type": "code",
   "execution_count": 357,
   "id": "df658e15-94bf-4ffe-bf72-e2683445db1e",
   "metadata": {},
   "outputs": [],
   "source": [
    "#OrdinalEncodeのために数値コードのものをObject化\n",
    "\n",
    "def label_coding(train, test, cols):\n",
    "    \n",
    "    #ラベルのintカラムをobjectへ変換\n",
    "    train[cols] = train[cols].astype(str)\n",
    "    test[cols] = test[cols].astype(str)\n",
    "\n",
    "    #object型の特徴量を抽出\n",
    "    object_train_df = train.loc[:, train.dtypes == 'object']\n",
    "    object_test_df = test.loc[:, test.dtypes == 'object']\n",
    "\n",
    "    #ラベルエンコード\n",
    "\n",
    "    #抽出したobjectの名前と空のdf\n",
    "    extra_col = object_train_df.columns\n",
    "    label_train_df = pd.DataFrame()\n",
    "    label_test_df = pd.DataFrame(index=test.index)\n",
    "\n",
    "    #ラベルエンコード\n",
    "    oe = OrdinalEncoder()\n",
    "    label_train_df[extra_col] = oe.fit_transform(object_train_df)\n",
    "    label_test_df[extra_col] = oe.transform(object_test_df)\n",
    "    label_test_df[extra_col] = oe.transform(object_test_df)\n",
    "\n",
    "\n",
    "    # #ラベルエンコードしたデータに置き換え\n",
    "    select_train_df[extra_col] = label_train_df\n",
    "    select_test_df[extra_col] = label_test_df\n",
    "    \n",
    "    return select_train_df, select_test_df\n",
    "\n",
    "\n",
    "int_labels =['borocode','st_senate', 'cncldist']\n",
    "select_train_df, select_test_df = label_coding(select_train_df, select_test_df, int_labels)"
   ]
  },
  {
   "cell_type": "code",
   "execution_count": 358,
   "id": "387bb364-86d3-44e6-a9a1-5c599c9d7393",
   "metadata": {},
   "outputs": [
    {
     "data": {
      "text/plain": [
       "<Axes: >"
      ]
     },
     "execution_count": 358,
     "metadata": {},
     "output_type": "execute_result"
    },
    {
     "data": {
      "image/png": "[encoded data removed]",
      "text/plain": [
       "<Figure size 640x480 with 2 Axes>"
      ]
     },
     "metadata": {},
     "output_type": "display_data"
    }
   ],
   "source": [
    "sns.heatmap(select_train_df.corr())"
   ]
  },
  {
   "cell_type": "code",
   "execution_count": 359,
   "id": "37a981f1-289c-4ef6-8bea-ec1e8c094ea6",
   "metadata": {},
   "outputs": [
    {
     "data": {
      "text/plain": [
       "<Axes: >"
      ]
     },
     "execution_count": 359,
     "metadata": {},
     "output_type": "execute_result"
    },
    {
     "data": {
      "image/png": "[encoded data removed]",
      "text/plain": [
       "<Figure size 640x480 with 2 Axes>"
      ]
     },
     "metadata": {},
     "output_type": "display_data"
    }
   ],
   "source": [
    "sns.heatmap(select_test_df.corr())"
   ]
  },
  {
   "cell_type": "code",
   "execution_count": null,
   "id": "a383d38a-df44-4ecd-84d9-54981b0fd84b",
   "metadata": {},
   "outputs": [],
   "source": []
  },
  {
   "cell_type": "code",
   "execution_count": null,
   "id": "024d5696-714e-40c1-a5b2-620a4cb252d5",
   "metadata": {},
   "outputs": [],
   "source": []
  },
  {
   "cell_type": "markdown",
   "id": "0a1ad4d6-b418-428e-86b7-087701092ad6",
   "metadata": {},
   "source": [
    "## サンダーサンプリング"
   ]
  },
  {
   "cell_type": "code",
   "execution_count": 295,
   "id": "4bcbeb16-688b-4ec6-bdbd-cacff3fd4273",
   "metadata": {},
   "outputs": [],
   "source": [
    "#healthカラムをtrain_dfに戻す\n",
    "select_train_df['health'] = val_df"
   ]
  },
  {
   "cell_type": "code",
   "execution_count": 298,
   "id": "5088f8de-555c-42fc-a875-a04370355a02",
   "metadata": {},
   "outputs": [],
   "source": [
    "#アンダーサンプリング\n",
    "from imblearn.under_sampling import RandomUnderSampler\n",
    "\n",
    "\n",
    "def under_sampling(train, target_col, random_state=42):\n",
    "    random_state = random_state\n",
    "    rs = RandomUnderSampler(random_state=random_state)\n",
    "    under_sampling, _ = rs.fit_resample(train, train[target])\n",
    "    \n",
    "    return under_sampling\n",
    "\n",
    "target = 'health'\n",
    "under_train_df = under_sampling(select_train_df, target)\n",
    "under_test_df = under_train_df.pop('health')"
   ]
  },
  {
   "cell_type": "markdown",
   "id": "6e535fd0-846d-494d-ad49-0cb863053674",
   "metadata": {},
   "source": [
    "## ここから機械学習"
   ]
  },
  {
   "cell_type": "code",
   "execution_count": 362,
   "id": "690db85d-7db6-4749-9e27-d74e043fbebe",
   "metadata": {},
   "outputs": [],
   "source": [
    "#説明変数をx、目的変数をyに格納\n",
    "X = select_train_df\n",
    "y = val_df"
   ]
  },
  {
   "cell_type": "code",
   "execution_count": 363,
   "id": "98399121-c022-4452-9d1a-a13124757dc1",
   "metadata": {},
   "outputs": [],
   "source": [
    "#データの分割\n",
    "\n",
    "seed=42\n",
    "X_train, X_eval, y_train, y_eval = train_test_split(X, y, test_size=0.3, random_state=0)\n",
    "\n",
    "train_data = lgb.Dataset(X_train, label=y_train)\n",
    "eval_data = lgb.Dataset(X_eval, label=y_eval, reference=train_data)"
   ]
  },
  {
   "cell_type": "code",
   "execution_count": null,
   "id": "c89077f7-2054-4647-8b89-44b0f2e78938",
   "metadata": {},
   "outputs": [],
   "source": []
  },
  {
   "cell_type": "markdown",
   "id": "9ce1f1da-d003-424e-a468-f5bb3a1ad23a",
   "metadata": {},
   "source": [
    "## チューニング前のモデル確認"
   ]
  },
  {
   "cell_type": "code",
   "execution_count": 34,
   "id": "14dda55c",
   "metadata": {},
   "outputs": [],
   "source": [
    "#パラメータチューニングに使用\n",
    "\n",
    "\n",
    "#チューニング対象外のパラメータ\n",
    "# params = {\n",
    "#     'objective':'multiclass',\n",
    "#     'metric':'multi_logloss',\n",
    "#     'random_state':seed,\n",
    "#     'boosting_type':'gbdt',\n",
    "#     'n_estimators':10000,\n",
    "#     'verbose':-1,\n",
    "#     'early_stopping_round':10\n",
    "# }\n",
    "\n",
    "# model = lgb.LGBMClassifier(**params)\n",
    "\n",
    "\n",
    "# fit_params = {\n",
    "#     'eval_set':[(X_eval, y_eval)]\n",
    "# }\n",
    "\n",
    "# cv = StratifiedKFold(n_splits=5, shuffle=True, random_state=seed)\n",
    "\n",
    "# scores = cross_val_score(model, X_train, y_train, scoring='f1_macro', cv=cv, n_jobs=-1, fit_params=fit_params)"
   ]
  },
  {
   "cell_type": "code",
   "execution_count": 368,
   "id": "b30be87d-4138-45aa-bffd-dc60cc055835",
   "metadata": {},
   "outputs": [
    {
     "name": "stdout",
     "output_type": "stream",
     "text": [
      "[LightGBM] [Info] Auto-choosing row-wise multi-threading, the overhead of testing was 0.008014 seconds.\n",
      "You can set `force_row_wise=true` to remove the overhead.\n",
      "And if memory is not enough, you can set `force_col_wise=true`.\n",
      "[LightGBM] [Info] Total Bins 518\n",
      "[LightGBM] [Info] Number of data points in the train set: 13988, number of used features: 13\n",
      "[LightGBM] [Info] Start training from score -1.737226\n",
      "[LightGBM] [Info] Start training from score -0.238307\n",
      "[LightGBM] [Info] Start training from score -3.323379\n",
      "Training until validation scores don't improve for 10 rounds\n",
      "Early stopping, best iteration is:\n",
      "[10]\tvalid_0's multi_logloss: 0.603513\n"
     ]
    }
   ],
   "source": [
    "params = {\n",
    "    'task':'train',\n",
    "    'boosting_type':'gbdt',\n",
    "    'objective':'multiclass',\n",
    "    'metric':'multi_logloss',\n",
    "    'n_estimators':10000,\n",
    "    'num_class':3,\n",
    "} \n",
    "\n",
    "\n",
    "evals_result = {} \n",
    "\n",
    "model = lgb.train(\n",
    "    params,\n",
    "    train_data,\n",
    "    valid_sets=eval_data,\n",
    "    num_boost_round=1000,\n",
    "    callbacks=[lgb.early_stopping(stopping_rounds=10),  lgb.record_evaluation(evals_result)])"
   ]
  },
  {
   "cell_type": "code",
   "execution_count": 369,
   "id": "5169cbdc-accd-4e99-bead-64db48ce548e",
   "metadata": {},
   "outputs": [
    {
     "name": "stdout",
     "output_type": "stream",
     "text": [
      "f1_score_score:0.293954933954934\n",
      "accuracy_score:0.7886924616410941\n",
      "precision_score:0.26289748721369804\n",
      "recall_score:0.3333333333333333\n"
     ]
    },
    {
     "data": {
      "image/png": "[encoded data removed]",
      "text/plain": [
       "<Figure size 640x480 with 1 Axes>"
      ]
     },
     "metadata": {},
     "output_type": "display_data"
    }
   ],
   "source": [
    "from sklearn.metrics import f1_score, accuracy_score, precision_score, recall_score\n",
    "\n",
    "def scores(model, X_eval, y_eval):\n",
    "    \n",
    "    #モデルの予測\n",
    "    y_pred =  model.predict(X_eval)\n",
    "\n",
    "    #最高確率のラベル抽出\n",
    "    result = []\n",
    "    for i in y_pred:\n",
    "        result.append(np.argmax(i))\n",
    "\n",
    "    \n",
    "    print('f1_score_score:{}'.format(f1_score(y_eval, result, average='macro')))\n",
    "    print('accuracy_score:{}'.format(accuracy_score(y_eval, result)))    \n",
    "    print('precision_score:{}'.format(precision_score(y_eval, result, average='macro')))    \n",
    "    print('recall_score:{}'.format(recall_score(y_eval, result, average='macro')))\n",
    "    lgb.plot_importance(model)\n",
    "    lgb.plot_metric(evals_result)\n",
    "\n",
    "    \n",
    "scores(model, X_eval, y_eval)"
   ]
  },
  {
   "cell_type": "code",
   "execution_count": 371,
   "id": "23b94bb3-93d6-41c7-a0d5-98ce8d1ba56b",
   "metadata": {},
   "outputs": [
    {
     "data": {
      "text/plain": [
       "<Axes: title={'center': 'Metric during training'}, xlabel='Iterations', ylabel='multi_logloss'>"
      ]
     },
     "execution_count": 371,
     "metadata": {},
     "output_type": "execute_result"
    },
    {
     "data": {
      "image/png": "[encoded data removed]",
      "text/plain": [
       "<Figure size 640x480 with 1 Axes>"
      ]
     },
     "metadata": {},
     "output_type": "display_data"
    }
   ],
   "source": [
    "lgb.plot_metric(evals_result)"
   ]
  },
  {
   "cell_type": "code",
   "execution_count": 386,
   "id": "0bf34481-d9b3-4d4c-88e0-418ded0ff5f5",
   "metadata": {},
   "outputs": [],
   "source": [
    "#提出用データの加工\n",
    "\n",
    "def submit_pross(model, test_data):\n",
    "    sample_submit = pd.read_csv('csv/sample_submission.csv', index_col=0, header=None)\n",
    "    pred_proba =  model.predict(select_test_df)\n",
    "    \n",
    "    #最高確率のラベル抽出\n",
    "    pred = []\n",
    "    for i in pred_proba:\n",
    "        pred.append(np.argmax(i))\n",
    "        \n",
    "    sample_submit[1] = pred\n",
    "    sample_submit.to_csv('/work/submit.csv', header=None)"
   ]
  },
  {
   "cell_type": "code",
   "execution_count": null,
   "id": "7cab9bcc-57ee-45e8-a367-c0ce6c36d1d0",
   "metadata": {},
   "outputs": [],
   "source": []
  },
  {
   "cell_type": "markdown",
   "id": "cc157b7f-d35f-44da-85f1-53d2f67e9f9a",
   "metadata": {},
   "source": [
    "## 重み付け"
   ]
  },
  {
   "cell_type": "markdown",
   "id": "75b3e582-e8b9-4885-b1b3-eeeffa876a2d",
   "metadata": {},
   "source": [
    "参考　＝＞https://qiita.com/Dixhom/items/fd78f461d038798a7e2e#weight%E3%82%AA%E3%83%97%E3%82%B7%E3%83%A7%E3%83%B3%E3%81%AE%E8%A8%AD%E5%AE%9A"
   ]
  },
  {
   "cell_type": "code",
   "execution_count": 416,
   "id": "89b89fb0-3141-4de3-9e80-0c1d84f1ef57",
   "metadata": {},
   "outputs": [],
   "source": [
    "from sklearn.utils.class_weight import compute_sample_weight\n",
    "\n",
    "#参照データ\n",
    "X = select_train_df\n",
    "y = val_df\n",
    "\n",
    "#データ分割\n",
    "X_train, X_eval, y_train, y_eval = train_test_split(X, y, test_size=0.3, random_state=0)\n",
    "\n",
    "\n",
    "#lihgtGBMでの重み付け\n",
    "train_weight = compute_sample_weight(class_weight='balanced', y=y_train).astype('float32')\n",
    "weighted_train = lgb.Dataset(X_train, y_train, weight=train_weight)\n",
    "weighted_test = lgb.Dataset(X_eval, label=y_eval, reference=lgb_train)"
   ]
  },
  {
   "cell_type": "code",
   "execution_count": 417,
   "id": "d1014180-6de9-4cd7-9c4d-eaa144f76627",
   "metadata": {},
   "outputs": [
    {
     "name": "stdout",
     "output_type": "stream",
     "text": [
      "[LightGBM] [Info] Auto-choosing row-wise multi-threading, the overhead of testing was 0.027251 seconds.\n",
      "You can set `force_row_wise=true` to remove the overhead.\n",
      "And if memory is not enough, you can set `force_col_wise=true`.\n",
      "[LightGBM] [Info] Total Bins 518\n",
      "[LightGBM] [Info] Number of data points in the train set: 13988, number of used features: 13\n",
      "[LightGBM] [Info] Start training from score -1.098612\n",
      "[LightGBM] [Info] Start training from score -1.098612\n",
      "[LightGBM] [Info] Start training from score -1.098612\n",
      "Training until validation scores don't improve for 10 rounds\n",
      "Early stopping, best iteration is:\n",
      "[538]\tvalid_0's multi_logloss: 0.817484\n"
     ]
    }
   ],
   "source": [
    "params = {\n",
    "    'task':'train',\n",
    "    'boosting_type':'gbdt',\n",
    "    'objective':'multiclass',\n",
    "    'metric':'multi_logloss',\n",
    "    'n_estimators':10000,\n",
    "    'num_class':3,\n",
    "} \n",
    "\n",
    "\n",
    "evals_result = {} \n",
    "\n",
    "model = lgb.train(\n",
    "    params,\n",
    "    weighted_train,\n",
    "    valid_sets=weighted_test,\n",
    "    num_boost_round=1000,\n",
    "    callbacks=[lgb.early_stopping(stopping_rounds=10),  lgb.record_evaluation(evals_result)])"
   ]
  },
  {
   "cell_type": "code",
   "execution_count": 382,
   "id": "fcb1e912-371a-417c-8666-66ba64fb621e",
   "metadata": {},
   "outputs": [
    {
     "name": "stdout",
     "output_type": "stream",
     "text": [
      "f1_score_score:0.3376707343812468\n",
      "accuracy_score:0.6209139426284189\n",
      "precision_score:0.33890634425226884\n",
      "recall_score:0.3402104575514259\n"
     ]
    },
    {
     "data": {
      "image/png": "[encoded data removed]",
      "text/plain": [
       "<Figure size 640x480 with 1 Axes>"
      ]
     },
     "metadata": {},
     "output_type": "display_data"
    }
   ],
   "source": [
    "scores(model, X_eval, y_eval)"
   ]
  },
  {
   "cell_type": "code",
   "execution_count": 392,
   "id": "4e86d7ac-3c08-474d-93c5-9aeeee2230c2",
   "metadata": {},
   "outputs": [
    {
     "data": {
      "text/plain": [
       "<Axes: title={'center': 'Metric during training'}, xlabel='Iterations', ylabel='multi_logloss'>"
      ]
     },
     "execution_count": 392,
     "metadata": {},
     "output_type": "execute_result"
    },
    {
     "data": {
      "image/png": "[encoded data removed]",
      "text/plain": [
       "<Figure size 640x480 with 1 Axes>"
      ]
     },
     "metadata": {},
     "output_type": "display_data"
    }
   ],
   "source": [
    "lgb.plot_metric(evals_result)"
   ]
  },
  {
   "cell_type": "code",
   "execution_count": 388,
   "id": "1a8a61e7-c37a-4660-ba30-7f260a211300",
   "metadata": {},
   "outputs": [],
   "source": [
    "submit_pross(model, select_test_df)"
   ]
  },
  {
   "cell_type": "markdown",
   "id": "2ea79ee5-06c6-4651-b57e-d7e7391febf0",
   "metadata": {},
   "source": [
    "## lightGBMのパラメーターチューニング"
   ]
  },
  {
   "cell_type": "code",
   "execution_count": 397,
   "id": "7b4e15ec-cf59-47e3-8a9a-33b105b4318a",
   "metadata": {},
   "outputs": [],
   "source": [
    "# from lightgbm import LGBMClassifier\n",
    "\n",
    "# #投稿用ではf1_scoreが評価されるので\n",
    "# scoring = 'f1_macro'\n",
    "# seed = 42 \n",
    "\n",
    "\n",
    "\n",
    "\n",
    "\n",
    "# #不均衡データなので層化KFoldを使用\n",
    "# cv = StratifiedKFold(n_splits=5, shuffle=True, random_state=seed)\n",
    "\n",
    "\n",
    "# # 学習時のfitパラメータ\n",
    "# fit_params = {'eval_set':[X_eval, y_eval]}\n",
    "\n",
    "# #クロスバリデーションの評価指標算出\n",
    "# scores = cross_val_score(model, X_train, y_train, cv=cv, scoring=scoring, n_jobs=-1, fit_params=fit_params)\n",
    "\n",
    "# print(f'scores={scores}')\n",
    "# print(f'average_score = {np.mean(scores)}')"
   ]
  },
  {
   "cell_type": "code",
   "execution_count": null,
   "id": "a0c7ea31-30d2-42b9-9ed6-0a84450b2c6c",
   "metadata": {},
   "outputs": [],
   "source": []
  },
  {
   "cell_type": "code",
   "execution_count": null,
   "id": "9ffd42e5-ff7f-4334-9c1e-d075334c423c",
   "metadata": {},
   "outputs": [],
   "source": []
  },
  {
   "cell_type": "code",
   "execution_count": null,
   "id": "6ffbedc8-e4ca-4fa8-977e-c08253165d30",
   "metadata": {},
   "outputs": [],
   "source": []
  },
  {
   "cell_type": "markdown",
   "id": "25c516e7-19b1-4d0a-a158-5f6befc57b28",
   "metadata": {},
   "source": [
    "## optunaをパラメータチューニングに使用してみる"
   ]
  },
  {
   "cell_type": "code",
   "execution_count": 486,
   "id": "ef25637a-9650-4ce4-bd4f-b9d96c6d94b1",
   "metadata": {
    "collapsed": true,
    "jupyter": {
     "outputs_hidden": true
    },
    "tags": []
   },
   "outputs": [
    {
     "name": "stderr",
     "output_type": "stream",
     "text": [
      "[I 2023-12-28 15:24:45,202] A new study created in memory with name: no-name-5494fa75-b743-4bbd-99da-c970901df767\n",
      "\n",
      "  0%|          | 0/7 [00:00<?, ?it/s]\u001b[A\n",
      "feature_fraction, val_score: inf:   0%|          | 0/7 [00:00<?, ?it/s]\u001b[A"
     ]
    },
    {
     "name": "stdout",
     "output_type": "stream",
     "text": [
      "Training until validation scores don't improve for 100 rounds\n"
     ]
    },
    {
     "name": "stderr",
     "output_type": "stream",
     "text": [
      "\n",
      "feature_fraction, val_score: 0.820785:   0%|          | 0/7 [00:03<?, ?it/s]\u001b[A\n",
      "feature_fraction, val_score: 0.820785:  14%|#4        | 1/7 [00:03<00:19,  3.21s/it]\u001b[A[I 2023-12-28 15:24:48,434] Trial 0 finished with value: 0.8207852902905791 and parameters: {'feature_fraction': 0.6}. Best is trial 0 with value: 0.8207852902905791.\n",
      "\n",
      "feature_fraction, val_score: 0.820785:  14%|#4        | 1/7 [00:03<00:19,  3.21s/it]\u001b[A"
     ]
    },
    {
     "name": "stdout",
     "output_type": "stream",
     "text": [
      "Early stopping, best iteration is:\n",
      "[561]\tvalid_0's multi_logloss: 0.820785\n",
      "Training until validation scores don't improve for 100 rounds\n"
     ]
    },
    {
     "name": "stderr",
     "output_type": "stream",
     "text": [
      "\n",
      "feature_fraction, val_score: 0.820785:  14%|#4        | 1/7 [00:05<00:19,  3.21s/it]\u001b[A\n",
      "feature_fraction, val_score: 0.820785:  29%|##8       | 2/7 [00:05<00:14,  2.90s/it]\u001b[A[I 2023-12-28 15:24:51,124] Trial 1 finished with value: 0.8235264943569656 and parameters: {'feature_fraction': 0.8999999999999999}. Best is trial 0 with value: 0.8207852902905791.\n",
      "\n",
      "feature_fraction, val_score: 0.820785:  29%|##8       | 2/7 [00:05<00:14,  2.90s/it]\u001b[A"
     ]
    },
    {
     "name": "stdout",
     "output_type": "stream",
     "text": [
      "Early stopping, best iteration is:\n",
      "[535]\tvalid_0's multi_logloss: 0.823526\n",
      "Training until validation scores don't improve for 100 rounds\n"
     ]
    },
    {
     "name": "stderr",
     "output_type": "stream",
     "text": [
      "\n",
      "feature_fraction, val_score: 0.820785:  29%|##8       | 2/7 [00:09<00:14,  2.90s/it]\u001b[A\n",
      "feature_fraction, val_score: 0.820785:  43%|####2     | 3/7 [00:09<00:12,  3.13s/it]\u001b[A[I 2023-12-28 15:24:54,535] Trial 2 finished with value: 0.8234804042547201 and parameters: {'feature_fraction': 0.5}. Best is trial 0 with value: 0.8207852902905791.\n",
      "\n",
      "feature_fraction, val_score: 0.820785:  43%|####2     | 3/7 [00:09<00:12,  3.13s/it]\u001b[A"
     ]
    },
    {
     "name": "stdout",
     "output_type": "stream",
     "text": [
      "Early stopping, best iteration is:\n",
      "[594]\tvalid_0's multi_logloss: 0.82348\n",
      "Training until validation scores don't improve for 100 rounds\n"
     ]
    },
    {
     "name": "stderr",
     "output_type": "stream",
     "text": [
      "\n",
      "feature_fraction, val_score: 0.820785:  43%|####2     | 3/7 [00:12<00:12,  3.13s/it]\u001b[A\n",
      "feature_fraction, val_score: 0.820785:  57%|#####7    | 4/7 [00:12<00:09,  3.30s/it]\u001b[A[I 2023-12-28 15:24:58,091] Trial 3 finished with value: 0.8362726218823001 and parameters: {'feature_fraction': 0.4}. Best is trial 0 with value: 0.8207852902905791.\n",
      "\n",
      "feature_fraction, val_score: 0.820785:  57%|#####7    | 4/7 [00:12<00:09,  3.30s/it]\u001b[A"
     ]
    },
    {
     "name": "stdout",
     "output_type": "stream",
     "text": [
      "Early stopping, best iteration is:\n",
      "[632]\tvalid_0's multi_logloss: 0.836273\n",
      "Training until validation scores don't improve for 100 rounds\n"
     ]
    },
    {
     "name": "stderr",
     "output_type": "stream",
     "text": [
      "\n",
      "feature_fraction, val_score: 0.820785:  57%|#####7    | 4/7 [00:16<00:09,  3.30s/it]\u001b[A\n",
      "feature_fraction, val_score: 0.820785:  71%|#######1  | 5/7 [00:16<00:06,  3.26s/it]\u001b[A[I 2023-12-28 15:25:01,286] Trial 4 finished with value: 0.8216250435412593 and parameters: {'feature_fraction': 0.8}. Best is trial 0 with value: 0.8207852902905791.\n",
      "\n",
      "feature_fraction, val_score: 0.820785:  71%|#######1  | 5/7 [00:16<00:06,  3.26s/it]\u001b[A"
     ]
    },
    {
     "name": "stdout",
     "output_type": "stream",
     "text": [
      "Early stopping, best iteration is:\n",
      "[595]\tvalid_0's multi_logloss: 0.821625\n",
      "Training until validation scores don't improve for 100 rounds\n"
     ]
    },
    {
     "name": "stderr",
     "output_type": "stream",
     "text": [
      "\n",
      "feature_fraction, val_score: 0.816161:  71%|#######1  | 5/7 [00:19<00:06,  3.26s/it]\u001b[A\n",
      "feature_fraction, val_score: 0.816161:  86%|########5 | 6/7 [00:19<00:03,  3.31s/it]\u001b[A[I 2023-12-28 15:25:04,680] Trial 5 finished with value: 0.8161608416581094 and parameters: {'feature_fraction': 0.7}. Best is trial 5 with value: 0.8161608416581094.\n",
      "\n",
      "feature_fraction, val_score: 0.816161:  86%|########5 | 6/7 [00:19<00:03,  3.31s/it]\u001b[A"
     ]
    },
    {
     "name": "stdout",
     "output_type": "stream",
     "text": [
      "Early stopping, best iteration is:\n",
      "[552]\tvalid_0's multi_logloss: 0.816161\n",
      "Training until validation scores don't improve for 100 rounds\n"
     ]
    },
    {
     "name": "stderr",
     "output_type": "stream",
     "text": [
      "\n",
      "feature_fraction, val_score: 0.816161:  86%|########5 | 6/7 [00:21<00:03,  3.31s/it]\u001b[A\n",
      "feature_fraction, val_score: 0.816161: 100%|##########| 7/7 [00:21<00:00,  3.05s/it]\u001b[A[I 2023-12-28 15:25:07,200] Trial 6 finished with value: 0.8206417924120947 and parameters: {'feature_fraction': 1.0}. Best is trial 5 with value: 0.8161608416581094.\n",
      "feature_fraction, val_score: 0.816161: 100%|##########| 7/7 [00:21<00:00,  3.14s/it]\n"
     ]
    },
    {
     "name": "stdout",
     "output_type": "stream",
     "text": [
      "Early stopping, best iteration is:\n",
      "[519]\tvalid_0's multi_logloss: 0.820642\n"
     ]
    },
    {
     "name": "stderr",
     "output_type": "stream",
     "text": [
      "\n",
      "  0%|          | 0/20 [00:00<?, ?it/s]\u001b[A\n",
      "num_leaves, val_score: 0.816161:   0%|          | 0/20 [00:00<?, ?it/s]\u001b[A"
     ]
    },
    {
     "name": "stdout",
     "output_type": "stream",
     "text": [
      "Training until validation scores don't improve for 100 rounds\n"
     ]
    },
    {
     "name": "stderr",
     "output_type": "stream",
     "text": [
      "\n",
      "num_leaves, val_score: 0.801612:   0%|          | 0/20 [00:02<?, ?it/s]\u001b[A\n",
      "num_leaves, val_score: 0.801612:   5%|5         | 1/20 [00:02<00:47,  2.51s/it]\u001b[A[I 2023-12-28 15:25:09,693] Trial 7 finished with value: 0.8016115303187954 and parameters: {'num_leaves': 55}. Best is trial 7 with value: 0.8016115303187954.\n",
      "\n",
      "num_leaves, val_score: 0.801612:   5%|5         | 1/20 [00:02<00:47,  2.51s/it]\u001b[A"
     ]
    },
    {
     "name": "stdout",
     "output_type": "stream",
     "text": [
      "Early stopping, best iteration is:\n",
      "[338]\tvalid_0's multi_logloss: 0.801612\n",
      "Training until validation scores don't improve for 100 rounds\n"
     ]
    },
    {
     "name": "stderr",
     "output_type": "stream",
     "text": [
      "\n",
      "num_leaves, val_score: 0.794985:   5%|5         | 1/20 [00:05<00:47,  2.51s/it]\u001b[A\n",
      "num_leaves, val_score: 0.794985:  10%|#         | 2/20 [00:05<00:50,  2.80s/it]\u001b[A[I 2023-12-28 15:25:12,699] Trial 8 finished with value: 0.7949850398687596 and parameters: {'num_leaves': 95}. Best is trial 8 with value: 0.7949850398687596.\n",
      "\n",
      "num_leaves, val_score: 0.794985:  10%|#         | 2/20 [00:05<00:50,  2.80s/it]\u001b[A"
     ]
    },
    {
     "name": "stdout",
     "output_type": "stream",
     "text": [
      "Early stopping, best iteration is:\n",
      "[192]\tvalid_0's multi_logloss: 0.794985\n",
      "Training until validation scores don't improve for 100 rounds\n"
     ]
    },
    {
     "name": "stderr",
     "output_type": "stream",
     "text": [
      "\n",
      "num_leaves, val_score: 0.784472:  10%|#         | 2/20 [00:09<00:50,  2.80s/it]\u001b[A\n",
      "num_leaves, val_score: 0.784472:  15%|#5        | 3/20 [00:09<00:53,  3.14s/it]\u001b[A[I 2023-12-28 15:25:16,239] Trial 9 finished with value: 0.7844724894481524 and parameters: {'num_leaves': 230}. Best is trial 9 with value: 0.7844724894481524.\n",
      "\n",
      "num_leaves, val_score: 0.784472:  15%|#5        | 3/20 [00:09<00:53,  3.14s/it]\u001b[A"
     ]
    },
    {
     "name": "stdout",
     "output_type": "stream",
     "text": [
      "Early stopping, best iteration is:\n",
      "[85]\tvalid_0's multi_logloss: 0.784472\n",
      "Training until validation scores don't improve for 100 rounds\n"
     ]
    },
    {
     "name": "stderr",
     "output_type": "stream",
     "text": [
      "\n",
      "num_leaves, val_score: 0.777784:  15%|#5        | 3/20 [00:13<00:53,  3.14s/it]\u001b[A\n",
      "num_leaves, val_score: 0.777784:  20%|##        | 4/20 [00:13<00:57,  3.60s/it]\u001b[A[I 2023-12-28 15:25:20,540] Trial 10 finished with value: 0.7777835514728949 and parameters: {'num_leaves': 256}. Best is trial 10 with value: 0.7777835514728949.\n",
      "\n",
      "num_leaves, val_score: 0.777784:  20%|##        | 4/20 [00:13<00:57,  3.60s/it]\u001b[A"
     ]
    },
    {
     "name": "stdout",
     "output_type": "stream",
     "text": [
      "Early stopping, best iteration is:\n",
      "[74]\tvalid_0's multi_logloss: 0.777784\n",
      "Training until validation scores don't improve for 100 rounds\n"
     ]
    },
    {
     "name": "stderr",
     "output_type": "stream",
     "text": [
      "\n",
      "num_leaves, val_score: 0.777784:  20%|##        | 4/20 [00:16<00:57,  3.60s/it]\u001b[A\n",
      "num_leaves, val_score: 0.777784:  25%|##5       | 5/20 [00:16<00:53,  3.54s/it]\u001b[A[I 2023-12-28 15:25:23,989] Trial 11 finished with value: 0.7777835514728949 and parameters: {'num_leaves': 256}. Best is trial 10 with value: 0.7777835514728949.\n",
      "\n",
      "num_leaves, val_score: 0.777784:  25%|##5       | 5/20 [00:16<00:53,  3.54s/it]\u001b[A"
     ]
    },
    {
     "name": "stdout",
     "output_type": "stream",
     "text": [
      "Early stopping, best iteration is:\n",
      "[74]\tvalid_0's multi_logloss: 0.777784\n",
      "Training until validation scores don't improve for 100 rounds\n"
     ]
    },
    {
     "name": "stderr",
     "output_type": "stream",
     "text": [
      "\n",
      "num_leaves, val_score: 0.777784:  25%|##5       | 5/20 [00:20<00:53,  3.54s/it]\u001b[A\n",
      "num_leaves, val_score: 0.777784:  30%|###       | 6/20 [00:20<00:48,  3.50s/it]\u001b[A[I 2023-12-28 15:25:27,393] Trial 12 finished with value: 0.7803813292672019 and parameters: {'num_leaves': 248}. Best is trial 10 with value: 0.7777835514728949.\n",
      "\n",
      "num_leaves, val_score: 0.777784:  30%|###       | 6/20 [00:20<00:48,  3.50s/it]\u001b[A"
     ]
    },
    {
     "name": "stdout",
     "output_type": "stream",
     "text": [
      "Early stopping, best iteration is:\n",
      "[80]\tvalid_0's multi_logloss: 0.780381\n",
      "Training until validation scores don't improve for 100 rounds\n"
     ]
    },
    {
     "name": "stderr",
     "output_type": "stream",
     "text": [
      "\n",
      "num_leaves, val_score: 0.777784:  30%|###       | 6/20 [00:23<00:48,  3.50s/it]\u001b[A\n",
      "num_leaves, val_score: 0.777784:  35%|###5      | 7/20 [00:23<00:44,  3.41s/it]\u001b[A[I 2023-12-28 15:25:30,635] Trial 13 finished with value: 0.7842150290090775 and parameters: {'num_leaves': 183}. Best is trial 10 with value: 0.7777835514728949.\n",
      "\n",
      "num_leaves, val_score: 0.777784:  35%|###5      | 7/20 [00:23<00:44,  3.41s/it]\u001b[A"
     ]
    },
    {
     "name": "stdout",
     "output_type": "stream",
     "text": [
      "Early stopping, best iteration is:\n",
      "[116]\tvalid_0's multi_logloss: 0.784215\n",
      "Training until validation scores don't improve for 100 rounds\n"
     ]
    },
    {
     "name": "stderr",
     "output_type": "stream",
     "text": [
      "\n",
      "num_leaves, val_score: 0.777784:  35%|###5      | 7/20 [00:26<00:44,  3.41s/it]\u001b[A\n",
      "num_leaves, val_score: 0.777784:  40%|####      | 8/20 [00:26<00:40,  3.37s/it]\u001b[A[I 2023-12-28 15:25:33,925] Trial 14 finished with value: 0.7908849274471039 and parameters: {'num_leaves': 170}. Best is trial 10 with value: 0.7777835514728949.\n",
      "\n",
      "num_leaves, val_score: 0.777784:  40%|####      | 8/20 [00:26<00:40,  3.37s/it]\u001b[A"
     ]
    },
    {
     "name": "stdout",
     "output_type": "stream",
     "text": [
      "Early stopping, best iteration is:\n",
      "[121]\tvalid_0's multi_logloss: 0.790885\n",
      "Training until validation scores don't improve for 100 rounds\n"
     ]
    },
    {
     "name": "stderr",
     "output_type": "stream",
     "text": [
      "\n",
      "num_leaves, val_score: 0.777077:  40%|####      | 8/20 [00:30<00:40,  3.37s/it]\u001b[A\n",
      "num_leaves, val_score: 0.777077:  45%|####5     | 9/20 [00:30<00:37,  3.44s/it]\u001b[A[I 2023-12-28 15:25:37,517] Trial 15 finished with value: 0.7770774126300175 and parameters: {'num_leaves': 255}. Best is trial 15 with value: 0.7770774126300175.\n",
      "\n",
      "num_leaves, val_score: 0.777077:  45%|####5     | 9/20 [00:30<00:37,  3.44s/it]\u001b[A"
     ]
    },
    {
     "name": "stdout",
     "output_type": "stream",
     "text": [
      "Early stopping, best iteration is:\n",
      "[79]\tvalid_0's multi_logloss: 0.777077\n",
      "Training until validation scores don't improve for 100 rounds\n"
     ]
    },
    {
     "name": "stderr",
     "output_type": "stream",
     "text": [
      "\n",
      "num_leaves, val_score: 0.777077:  45%|####5     | 9/20 [00:34<00:37,  3.44s/it]\u001b[A\n",
      "num_leaves, val_score: 0.777077:  50%|#####     | 10/20 [00:34<00:36,  3.67s/it]\u001b[A[I 2023-12-28 15:25:41,693] Trial 16 finished with value: 0.7858438773704428 and parameters: {'num_leaves': 185}. Best is trial 15 with value: 0.7770774126300175.\n",
      "\n",
      "num_leaves, val_score: 0.777077:  50%|#####     | 10/20 [00:34<00:36,  3.67s/it]\u001b[A"
     ]
    },
    {
     "name": "stdout",
     "output_type": "stream",
     "text": [
      "Early stopping, best iteration is:\n",
      "[118]\tvalid_0's multi_logloss: 0.785844\n",
      "Training until validation scores don't improve for 100 rounds\n"
     ]
    },
    {
     "name": "stderr",
     "output_type": "stream",
     "text": [
      "\n",
      "num_leaves, val_score: 0.777077:  50%|#####     | 10/20 [00:36<00:36,  3.67s/it]\u001b[A\n",
      "num_leaves, val_score: 0.777077:  55%|#####5    | 11/20 [00:36<00:29,  3.23s/it]\u001b[A[I 2023-12-28 15:25:43,929] Trial 17 finished with value: 1.0388999716374816 and parameters: {'num_leaves': 3}. Best is trial 15 with value: 0.7770774126300175.\n",
      "\n",
      "num_leaves, val_score: 0.777077:  55%|#####5    | 11/20 [00:36<00:29,  3.23s/it]\u001b[A"
     ]
    },
    {
     "name": "stdout",
     "output_type": "stream",
     "text": [
      "Did not meet early stopping. Best iteration is:\n",
      "[1000]\tvalid_0's multi_logloss: 1.0389\n",
      "Training until validation scores don't improve for 100 rounds\n"
     ]
    },
    {
     "name": "stderr",
     "output_type": "stream",
     "text": [
      "\n",
      "num_leaves, val_score: 0.777077:  55%|#####5    | 11/20 [00:39<00:29,  3.23s/it]\u001b[A\n",
      "num_leaves, val_score: 0.777077:  60%|######    | 12/20 [00:39<00:25,  3.21s/it]\u001b[A[I 2023-12-28 15:25:47,101] Trial 18 finished with value: 0.7878987834139349 and parameters: {'num_leaves': 205}. Best is trial 15 with value: 0.7770774126300175.\n",
      "\n",
      "num_leaves, val_score: 0.777077:  60%|######    | 12/20 [00:39<00:25,  3.21s/it]\u001b[A"
     ]
    },
    {
     "name": "stdout",
     "output_type": "stream",
     "text": [
      "Early stopping, best iteration is:\n",
      "[87]\tvalid_0's multi_logloss: 0.787899\n",
      "Training until validation scores don't improve for 100 rounds\n"
     ]
    },
    {
     "name": "stderr",
     "output_type": "stream",
     "text": [
      "\n",
      "num_leaves, val_score: 0.777077:  60%|######    | 12/20 [00:42<00:25,  3.21s/it]\u001b[A\n",
      "num_leaves, val_score: 0.777077:  65%|######5   | 13/20 [00:42<00:21,  3.14s/it]\u001b[A[I 2023-12-28 15:25:50,083] Trial 19 finished with value: 0.7948789474748164 and parameters: {'num_leaves': 120}. Best is trial 15 with value: 0.7770774126300175.\n",
      "\n",
      "num_leaves, val_score: 0.777077:  65%|######5   | 13/20 [00:42<00:21,  3.14s/it]\u001b[A"
     ]
    },
    {
     "name": "stdout",
     "output_type": "stream",
     "text": [
      "Early stopping, best iteration is:\n",
      "[153]\tvalid_0's multi_logloss: 0.794879\n",
      "Training until validation scores don't improve for 100 rounds\n"
     ]
    },
    {
     "name": "stderr",
     "output_type": "stream",
     "text": [
      "\n",
      "num_leaves, val_score: 0.777077:  65%|######5   | 13/20 [00:46<00:21,  3.14s/it]\u001b[A\n",
      "num_leaves, val_score: 0.777077:  70%|#######   | 14/20 [00:46<00:19,  3.17s/it]\u001b[A[I 2023-12-28 15:25:53,331] Trial 20 finished with value: 0.7877315080228364 and parameters: {'num_leaves': 148}. Best is trial 15 with value: 0.7770774126300175.\n",
      "\n",
      "num_leaves, val_score: 0.777077:  70%|#######   | 14/20 [00:46<00:19,  3.17s/it]\u001b[A"
     ]
    },
    {
     "name": "stdout",
     "output_type": "stream",
     "text": [
      "Early stopping, best iteration is:\n",
      "[127]\tvalid_0's multi_logloss: 0.787732\n",
      "Training until validation scores don't improve for 100 rounds\n"
     ]
    },
    {
     "name": "stderr",
     "output_type": "stream",
     "text": [
      "\n",
      "num_leaves, val_score: 0.777077:  70%|#######   | 14/20 [00:50<00:19,  3.17s/it]\u001b[A\n",
      "num_leaves, val_score: 0.777077:  75%|#######5  | 15/20 [00:50<00:17,  3.42s/it]\u001b[A[I 2023-12-28 15:25:57,330] Trial 21 finished with value: 0.7812114336235865 and parameters: {'num_leaves': 247}. Best is trial 15 with value: 0.7770774126300175.\n",
      "\n",
      "num_leaves, val_score: 0.777077:  75%|#######5  | 15/20 [00:50<00:17,  3.42s/it]\u001b[A"
     ]
    },
    {
     "name": "stdout",
     "output_type": "stream",
     "text": [
      "Early stopping, best iteration is:\n",
      "[81]\tvalid_0's multi_logloss: 0.781211\n",
      "Training until validation scores don't improve for 100 rounds\n"
     ]
    },
    {
     "name": "stderr",
     "output_type": "stream",
     "text": [
      "\n",
      "num_leaves, val_score: 0.777077:  75%|#######5  | 15/20 [00:53<00:17,  3.42s/it]\u001b[A\n",
      "num_leaves, val_score: 0.777077:  80%|########  | 16/20 [00:53<00:14,  3.53s/it]\u001b[A[I 2023-12-28 15:26:01,094] Trial 22 finished with value: 0.7777835514728949 and parameters: {'num_leaves': 256}. Best is trial 15 with value: 0.7770774126300175.\n",
      "\n",
      "num_leaves, val_score: 0.777077:  80%|########  | 16/20 [00:53<00:14,  3.53s/it]\u001b[A"
     ]
    },
    {
     "name": "stdout",
     "output_type": "stream",
     "text": [
      "Early stopping, best iteration is:\n",
      "[74]\tvalid_0's multi_logloss: 0.777784\n",
      "Training until validation scores don't improve for 100 rounds\n"
     ]
    },
    {
     "name": "stderr",
     "output_type": "stream",
     "text": [
      "\n",
      "num_leaves, val_score: 0.777077:  80%|########  | 16/20 [00:57<00:14,  3.53s/it]\u001b[A\n",
      "num_leaves, val_score: 0.777077:  85%|########5 | 17/20 [00:57<00:10,  3.58s/it]\u001b[A[I 2023-12-28 15:26:04,808] Trial 23 finished with value: 0.7814831545821602 and parameters: {'num_leaves': 217}. Best is trial 15 with value: 0.7770774126300175.\n",
      "\n",
      "num_leaves, val_score: 0.777077:  85%|########5 | 17/20 [00:57<00:10,  3.58s/it]\u001b[A"
     ]
    },
    {
     "name": "stdout",
     "output_type": "stream",
     "text": [
      "Early stopping, best iteration is:\n",
      "[86]\tvalid_0's multi_logloss: 0.781483\n",
      "Training until validation scores don't improve for 100 rounds\n"
     ]
    },
    {
     "name": "stderr",
     "output_type": "stream",
     "text": [
      "\n",
      "num_leaves, val_score: 0.777077:  85%|########5 | 17/20 [01:01<00:10,  3.58s/it]\u001b[A\n",
      "num_leaves, val_score: 0.777077:  90%|######### | 18/20 [01:01<00:07,  3.74s/it]\u001b[A[I 2023-12-28 15:26:08,899] Trial 24 finished with value: 0.7853810272744255 and parameters: {'num_leaves': 215}. Best is trial 15 with value: 0.7770774126300175.\n",
      "\n",
      "num_leaves, val_score: 0.777077:  90%|######### | 18/20 [01:01<00:07,  3.74s/it]\u001b[A"
     ]
    },
    {
     "name": "stdout",
     "output_type": "stream",
     "text": [
      "Early stopping, best iteration is:\n",
      "[93]\tvalid_0's multi_logloss: 0.785381\n",
      "Training until validation scores don't improve for 100 rounds\n"
     ]
    },
    {
     "name": "stderr",
     "output_type": "stream",
     "text": [
      "\n",
      "num_leaves, val_score: 0.777077:  90%|######### | 18/20 [01:06<00:07,  3.74s/it]\u001b[A\n",
      "num_leaves, val_score: 0.777077:  95%|#########5| 19/20 [01:06<00:04,  4.13s/it]\u001b[A[I 2023-12-28 15:26:13,949] Trial 25 finished with value: 0.7788802904935229 and parameters: {'num_leaves': 254}. Best is trial 15 with value: 0.7770774126300175.\n",
      "\n",
      "num_leaves, val_score: 0.777077:  95%|#########5| 19/20 [01:06<00:04,  4.13s/it]\u001b[A"
     ]
    },
    {
     "name": "stdout",
     "output_type": "stream",
     "text": [
      "Early stopping, best iteration is:\n",
      "[79]\tvalid_0's multi_logloss: 0.77888\n",
      "Training until validation scores don't improve for 100 rounds\n"
     ]
    },
    {
     "name": "stderr",
     "output_type": "stream",
     "text": [
      "\n",
      "num_leaves, val_score: 0.777077:  95%|#########5| 19/20 [01:10<00:04,  4.13s/it]\u001b[A\n",
      "num_leaves, val_score: 0.777077: 100%|##########| 20/20 [01:10<00:00,  4.06s/it]\u001b[A[I 2023-12-28 15:26:17,841] Trial 26 finished with value: 0.7820475209787856 and parameters: {'num_leaves': 223}. Best is trial 15 with value: 0.7770774126300175.\n",
      "num_leaves, val_score: 0.777077: 100%|##########| 20/20 [01:10<00:00,  3.53s/it]\n"
     ]
    },
    {
     "name": "stdout",
     "output_type": "stream",
     "text": [
      "Early stopping, best iteration is:\n",
      "[81]\tvalid_0's multi_logloss: 0.782048\n"
     ]
    },
    {
     "name": "stderr",
     "output_type": "stream",
     "text": [
      "\n",
      "  0%|          | 0/10 [00:00<?, ?it/s]\u001b[A\n",
      "bagging, val_score: 0.777077:   0%|          | 0/10 [00:00<?, ?it/s]\u001b[A"
     ]
    },
    {
     "name": "stdout",
     "output_type": "stream",
     "text": [
      "Training until validation scores don't improve for 100 rounds\n"
     ]
    },
    {
     "name": "stderr",
     "output_type": "stream",
     "text": [
      "\n",
      "bagging, val_score: 0.777077:   0%|          | 0/10 [00:03<?, ?it/s]\u001b[A\n",
      "bagging, val_score: 0.777077:  10%|#         | 1/10 [00:03<00:31,  3.51s/it]\u001b[A[I 2023-12-28 15:26:21,378] Trial 27 finished with value: 0.8253577232958726 and parameters: {'bagging_fraction': 0.4080357299551419, 'bagging_freq': 7}. Best is trial 27 with value: 0.8253577232958726.\n",
      "\n",
      "bagging, val_score: 0.777077:  10%|#         | 1/10 [00:03<00:31,  3.51s/it]\u001b[A"
     ]
    },
    {
     "name": "stdout",
     "output_type": "stream",
     "text": [
      "Early stopping, best iteration is:\n",
      "[91]\tvalid_0's multi_logloss: 0.825358\n",
      "Training until validation scores don't improve for 100 rounds\n"
     ]
    },
    {
     "name": "stderr",
     "output_type": "stream",
     "text": [
      "\n",
      "bagging, val_score: 0.775332:  10%|#         | 1/10 [00:07<00:31,  3.51s/it]\u001b[A\n",
      "bagging, val_score: 0.775332:  20%|##        | 2/10 [00:07<00:31,  3.99s/it]\u001b[A[I 2023-12-28 15:26:25,712] Trial 28 finished with value: 0.775332046716527 and parameters: {'bagging_fraction': 0.992879386487832, 'bagging_freq': 1}. Best is trial 28 with value: 0.775332046716527.\n",
      "\n",
      "bagging, val_score: 0.775332:  20%|##        | 2/10 [00:07<00:31,  3.99s/it]\u001b[A"
     ]
    },
    {
     "name": "stdout",
     "output_type": "stream",
     "text": [
      "Early stopping, best iteration is:\n",
      "[78]\tvalid_0's multi_logloss: 0.775332\n",
      "Training until validation scores don't improve for 100 rounds\n"
     ]
    },
    {
     "name": "stderr",
     "output_type": "stream",
     "text": [
      "\n",
      "bagging, val_score: 0.775332:  20%|##        | 2/10 [00:12<00:31,  3.99s/it]\u001b[A\n",
      "bagging, val_score: 0.775332:  30%|###       | 3/10 [00:12<00:31,  4.48s/it]\u001b[A[I 2023-12-28 15:26:30,762] Trial 29 finished with value: 0.7784636452738686 and parameters: {'bagging_fraction': 0.9849526717365741, 'bagging_freq': 1}. Best is trial 28 with value: 0.775332046716527.\n",
      "\n",
      "bagging, val_score: 0.775332:  30%|###       | 3/10 [00:12<00:31,  4.48s/it]\u001b[A"
     ]
    },
    {
     "name": "stdout",
     "output_type": "stream",
     "text": [
      "Early stopping, best iteration is:\n",
      "[71]\tvalid_0's multi_logloss: 0.778464\n",
      "Training until validation scores don't improve for 100 rounds\n"
     ]
    },
    {
     "name": "stderr",
     "output_type": "stream",
     "text": [
      "\n",
      "bagging, val_score: 0.775332:  30%|###       | 3/10 [00:17<00:31,  4.48s/it]\u001b[A\n",
      "bagging, val_score: 0.775332:  40%|####      | 4/10 [00:17<00:26,  4.45s/it]\u001b[A[I 2023-12-28 15:26:35,164] Trial 30 finished with value: 0.777738132180017 and parameters: {'bagging_fraction': 0.9356127747486972, 'bagging_freq': 1}. Best is trial 28 with value: 0.775332046716527.\n",
      "\n",
      "bagging, val_score: 0.775332:  40%|####      | 4/10 [00:17<00:26,  4.45s/it]\u001b[A"
     ]
    },
    {
     "name": "stdout",
     "output_type": "stream",
     "text": [
      "Early stopping, best iteration is:\n",
      "[78]\tvalid_0's multi_logloss: 0.777738\n",
      "Training until validation scores don't improve for 100 rounds\n"
     ]
    },
    {
     "name": "stderr",
     "output_type": "stream",
     "text": [
      "\n",
      "bagging, val_score: 0.775332:  40%|####      | 4/10 [00:20<00:26,  4.45s/it]\u001b[A\n",
      "bagging, val_score: 0.775332:  50%|#####     | 5/10 [00:20<00:20,  4.12s/it]\u001b[A[I 2023-12-28 15:26:38,700] Trial 31 finished with value: 0.7773307850683832 and parameters: {'bagging_fraction': 0.9889309204591329, 'bagging_freq': 1}. Best is trial 28 with value: 0.775332046716527.\n",
      "\n",
      "bagging, val_score: 0.775332:  50%|#####     | 5/10 [00:20<00:20,  4.12s/it]\u001b[A"
     ]
    },
    {
     "name": "stdout",
     "output_type": "stream",
     "text": [
      "Early stopping, best iteration is:\n",
      "[73]\tvalid_0's multi_logloss: 0.777331\n",
      "Training until validation scores don't improve for 100 rounds\n"
     ]
    },
    {
     "name": "stderr",
     "output_type": "stream",
     "text": [
      "\n",
      "bagging, val_score: 0.775332:  50%|#####     | 5/10 [00:25<00:20,  4.12s/it]\u001b[A\n",
      "bagging, val_score: 0.775332:  60%|######    | 6/10 [00:25<00:16,  4.20s/it]\u001b[A[I 2023-12-28 15:26:43,069] Trial 32 finished with value: 0.7760154147372346 and parameters: {'bagging_fraction': 0.9910399533832279, 'bagging_freq': 1}. Best is trial 28 with value: 0.775332046716527.\n",
      "\n",
      "bagging, val_score: 0.775332:  60%|######    | 6/10 [00:25<00:16,  4.20s/it]\u001b[A"
     ]
    },
    {
     "name": "stdout",
     "output_type": "stream",
     "text": [
      "Early stopping, best iteration is:\n",
      "[77]\tvalid_0's multi_logloss: 0.776015\n",
      "Training until validation scores don't improve for 100 rounds\n"
     ]
    },
    {
     "name": "stderr",
     "output_type": "stream",
     "text": [
      "\n",
      "bagging, val_score: 0.775332:  60%|######    | 6/10 [00:29<00:16,  4.20s/it]\u001b[A\n",
      "bagging, val_score: 0.775332:  70%|#######   | 7/10 [00:29<00:13,  4.35s/it]\u001b[A[I 2023-12-28 15:26:47,711] Trial 33 finished with value: 0.7797920467064886 and parameters: {'bagging_fraction': 0.9961013935328856, 'bagging_freq': 1}. Best is trial 28 with value: 0.775332046716527.\n",
      "\n",
      "bagging, val_score: 0.775332:  70%|#######   | 7/10 [00:29<00:13,  4.35s/it]\u001b[A"
     ]
    },
    {
     "name": "stdout",
     "output_type": "stream",
     "text": [
      "Early stopping, best iteration is:\n",
      "[73]\tvalid_0's multi_logloss: 0.779792\n",
      "Training until validation scores don't improve for 100 rounds\n"
     ]
    },
    {
     "name": "stderr",
     "output_type": "stream",
     "text": [
      "\n",
      "bagging, val_score: 0.775332:  70%|#######   | 7/10 [00:34<00:13,  4.35s/it]\u001b[A\n",
      "bagging, val_score: 0.775332:  80%|########  | 8/10 [00:34<00:08,  4.41s/it]\u001b[A[I 2023-12-28 15:26:52,256] Trial 34 finished with value: 0.77611294620883 and parameters: {'bagging_fraction': 0.9913882394628974, 'bagging_freq': 3}. Best is trial 28 with value: 0.775332046716527.\n",
      "\n",
      "bagging, val_score: 0.775332:  80%|########  | 8/10 [00:34<00:08,  4.41s/it]\u001b[A"
     ]
    },
    {
     "name": "stdout",
     "output_type": "stream",
     "text": [
      "Early stopping, best iteration is:\n",
      "[69]\tvalid_0's multi_logloss: 0.776113\n",
      "Training until validation scores don't improve for 100 rounds\n"
     ]
    },
    {
     "name": "stderr",
     "output_type": "stream",
     "text": [
      "\n",
      "bagging, val_score: 0.775332:  80%|########  | 8/10 [00:38<00:08,  4.41s/it]\u001b[A\n",
      "bagging, val_score: 0.775332:  90%|######### | 9/10 [00:38<00:04,  4.47s/it]\u001b[A[I 2023-12-28 15:26:56,873] Trial 35 finished with value: 0.7782927257204078 and parameters: {'bagging_fraction': 0.8220520928086898, 'bagging_freq': 4}. Best is trial 28 with value: 0.775332046716527.\n",
      "\n",
      "bagging, val_score: 0.775332:  90%|######### | 9/10 [00:39<00:04,  4.47s/it]\u001b[A"
     ]
    },
    {
     "name": "stdout",
     "output_type": "stream",
     "text": [
      "Early stopping, best iteration is:\n",
      "[73]\tvalid_0's multi_logloss: 0.778293\n",
      "Training until validation scores don't improve for 100 rounds\n"
     ]
    },
    {
     "name": "stderr",
     "output_type": "stream",
     "text": [
      "\n",
      "bagging, val_score: 0.775332:  90%|######### | 9/10 [00:43<00:04,  4.47s/it]\u001b[A\n",
      "bagging, val_score: 0.775332: 100%|##########| 10/10 [00:43<00:00,  4.57s/it]\u001b[A[I 2023-12-28 15:27:01,641] Trial 36 finished with value: 0.7761105043939672 and parameters: {'bagging_fraction': 0.8532571140295572, 'bagging_freq': 3}. Best is trial 28 with value: 0.775332046716527.\n",
      "bagging, val_score: 0.775332: 100%|##########| 10/10 [00:43<00:00,  4.38s/it]\n"
     ]
    },
    {
     "name": "stdout",
     "output_type": "stream",
     "text": [
      "Early stopping, best iteration is:\n",
      "[73]\tvalid_0's multi_logloss: 0.776111\n"
     ]
    },
    {
     "name": "stderr",
     "output_type": "stream",
     "text": [
      "\n",
      "  0%|          | 0/6 [00:00<?, ?it/s]\u001b[A\n",
      "feature_fraction_stage2, val_score: 0.775332:   0%|          | 0/6 [00:00<?, ?it/s]\u001b[A"
     ]
    },
    {
     "name": "stdout",
     "output_type": "stream",
     "text": [
      "Training until validation scores don't improve for 100 rounds\n"
     ]
    },
    {
     "name": "stderr",
     "output_type": "stream",
     "text": [
      "\n",
      "feature_fraction_stage2, val_score: 0.775332:   0%|          | 0/6 [00:04<?, ?it/s]\u001b[A\n",
      "feature_fraction_stage2, val_score: 0.775332:  17%|#6        | 1/6 [00:04<00:22,  4.60s/it]\u001b[A[I 2023-12-28 15:27:06,260] Trial 37 finished with value: 0.775332046716527 and parameters: {'feature_fraction': 0.6839999999999999}. Best is trial 37 with value: 0.775332046716527.\n",
      "\n",
      "feature_fraction_stage2, val_score: 0.775332:  17%|#6        | 1/6 [00:04<00:22,  4.60s/it]\u001b[A"
     ]
    },
    {
     "name": "stdout",
     "output_type": "stream",
     "text": [
      "Early stopping, best iteration is:\n",
      "[78]\tvalid_0's multi_logloss: 0.775332\n",
      "Training until validation scores don't improve for 100 rounds\n"
     ]
    },
    {
     "name": "stderr",
     "output_type": "stream",
     "text": [
      "\n",
      "feature_fraction_stage2, val_score: 0.775332:  17%|#6        | 1/6 [00:08<00:22,  4.60s/it]\u001b[A\n",
      "feature_fraction_stage2, val_score: 0.775332:  33%|###3      | 2/6 [00:08<00:17,  4.43s/it]\u001b[A[I 2023-12-28 15:27:10,576] Trial 38 finished with value: 0.7769109547441989 and parameters: {'feature_fraction': 0.652}. Best is trial 37 with value: 0.775332046716527.\n",
      "\n",
      "feature_fraction_stage2, val_score: 0.775332:  33%|###3      | 2/6 [00:08<00:17,  4.43s/it]\u001b[A"
     ]
    },
    {
     "name": "stdout",
     "output_type": "stream",
     "text": [
      "Early stopping, best iteration is:\n",
      "[85]\tvalid_0's multi_logloss: 0.776911\n",
      "Training until validation scores don't improve for 100 rounds\n"
     ]
    },
    {
     "name": "stderr",
     "output_type": "stream",
     "text": [
      "\n",
      "feature_fraction_stage2, val_score: 0.775332:  33%|###3      | 2/6 [00:14<00:17,  4.43s/it]\u001b[A\n",
      "feature_fraction_stage2, val_score: 0.775332:  50%|#####     | 3/6 [00:14<00:14,  4.76s/it]\u001b[A[I 2023-12-28 15:27:15,741] Trial 39 finished with value: 0.7769109547441989 and parameters: {'feature_fraction': 0.62}. Best is trial 37 with value: 0.775332046716527.\n",
      "\n",
      "feature_fraction_stage2, val_score: 0.775332:  50%|#####     | 3/6 [00:14<00:14,  4.76s/it]\u001b[A"
     ]
    },
    {
     "name": "stdout",
     "output_type": "stream",
     "text": [
      "Early stopping, best iteration is:\n",
      "[85]\tvalid_0's multi_logloss: 0.776911\n",
      "Training until validation scores don't improve for 100 rounds\n"
     ]
    },
    {
     "name": "stderr",
     "output_type": "stream",
     "text": [
      "\n",
      "feature_fraction_stage2, val_score: 0.775332:  50%|#####     | 3/6 [00:18<00:14,  4.76s/it]\u001b[A\n",
      "feature_fraction_stage2, val_score: 0.775332:  67%|######6   | 4/6 [00:18<00:09,  4.52s/it]\u001b[A[I 2023-12-28 15:27:19,895] Trial 40 finished with value: 0.7788264514634505 and parameters: {'feature_fraction': 0.7799999999999999}. Best is trial 37 with value: 0.775332046716527.\n",
      "\n",
      "feature_fraction_stage2, val_score: 0.775332:  67%|######6   | 4/6 [00:18<00:09,  4.52s/it]\u001b[A"
     ]
    },
    {
     "name": "stdout",
     "output_type": "stream",
     "text": [
      "Early stopping, best iteration is:\n",
      "[77]\tvalid_0's multi_logloss: 0.778826\n",
      "Training until validation scores don't improve for 100 rounds\n"
     ]
    },
    {
     "name": "stderr",
     "output_type": "stream",
     "text": [
      "\n",
      "feature_fraction_stage2, val_score: 0.775332:  67%|######6   | 4/6 [00:22<00:09,  4.52s/it]\u001b[A\n",
      "feature_fraction_stage2, val_score: 0.775332:  83%|########3 | 5/6 [00:22<00:04,  4.45s/it]\u001b[A[I 2023-12-28 15:27:24,222] Trial 41 finished with value: 0.7788264514634505 and parameters: {'feature_fraction': 0.748}. Best is trial 37 with value: 0.775332046716527.\n",
      "\n",
      "feature_fraction_stage2, val_score: 0.775332:  83%|########3 | 5/6 [00:22<00:04,  4.45s/it]\u001b[A"
     ]
    },
    {
     "name": "stdout",
     "output_type": "stream",
     "text": [
      "Early stopping, best iteration is:\n",
      "[77]\tvalid_0's multi_logloss: 0.778826\n",
      "Training until validation scores don't improve for 100 rounds\n"
     ]
    },
    {
     "name": "stderr",
     "output_type": "stream",
     "text": [
      "\n",
      "feature_fraction_stage2, val_score: 0.775332:  83%|########3 | 5/6 [00:26<00:04,  4.45s/it]\u001b[A\n",
      "feature_fraction_stage2, val_score: 0.775332: 100%|##########| 6/6 [00:26<00:00,  4.30s/it]\u001b[A[I 2023-12-28 15:27:28,214] Trial 42 finished with value: 0.775332046716527 and parameters: {'feature_fraction': 0.716}. Best is trial 37 with value: 0.775332046716527.\n",
      "feature_fraction_stage2, val_score: 0.775332: 100%|##########| 6/6 [00:26<00:00,  4.43s/it]\n"
     ]
    },
    {
     "name": "stdout",
     "output_type": "stream",
     "text": [
      "Early stopping, best iteration is:\n",
      "[78]\tvalid_0's multi_logloss: 0.775332\n"
     ]
    },
    {
     "name": "stderr",
     "output_type": "stream",
     "text": [
      "\n",
      "  0%|          | 0/20 [00:00<?, ?it/s]\u001b[A\n",
      "regularization_factors, val_score: 0.775332:   0%|          | 0/20 [00:00<?, ?it/s]\u001b[A"
     ]
    },
    {
     "name": "stdout",
     "output_type": "stream",
     "text": [
      "Training until validation scores don't improve for 100 rounds\n"
     ]
    },
    {
     "name": "stderr",
     "output_type": "stream",
     "text": [
      "\n",
      "regularization_factors, val_score: 0.775332:   0%|          | 0/20 [00:04<?, ?it/s]\u001b[A\n",
      "regularization_factors, val_score: 0.775332:   5%|5         | 1/20 [00:04<01:25,  4.52s/it]\u001b[A[I 2023-12-28 15:27:32,767] Trial 43 finished with value: 0.7773195551986767 and parameters: {'lambda_l1': 0.022676132279334755, 'lambda_l2': 0.03698842608411402}. Best is trial 43 with value: 0.7773195551986767.\n",
      "\n",
      "regularization_factors, val_score: 0.775332:   5%|5         | 1/20 [00:04<01:25,  4.52s/it]\u001b[A"
     ]
    },
    {
     "name": "stdout",
     "output_type": "stream",
     "text": [
      "Early stopping, best iteration is:\n",
      "[79]\tvalid_0's multi_logloss: 0.77732\n",
      "Training until validation scores don't improve for 100 rounds\n"
     ]
    },
    {
     "name": "stderr",
     "output_type": "stream",
     "text": [
      "\n",
      "regularization_factors, val_score: 0.775329:   5%|5         | 1/20 [00:09<01:25,  4.52s/it]\u001b[A\n",
      "regularization_factors, val_score: 0.775329:  10%|#         | 2/20 [00:09<01:24,  4.72s/it]\u001b[A[I 2023-12-28 15:27:37,623] Trial 44 finished with value: 0.7753288897864303 and parameters: {'lambda_l1': 2.7628928426872837e-08, 'lambda_l2': 3.0488000081313384e-08}. Best is trial 44 with value: 0.7753288897864303.\n",
      "\n",
      "regularization_factors, val_score: 0.775329:  10%|#         | 2/20 [00:09<01:24,  4.72s/it]\u001b[A"
     ]
    },
    {
     "name": "stdout",
     "output_type": "stream",
     "text": [
      "Early stopping, best iteration is:\n",
      "[78]\tvalid_0's multi_logloss: 0.775329\n",
      "Training until validation scores don't improve for 100 rounds\n"
     ]
    },
    {
     "name": "stderr",
     "output_type": "stream",
     "text": [
      "\n",
      "regularization_factors, val_score: 0.775329:  10%|#         | 2/20 [00:15<01:24,  4.72s/it]\u001b[A\n",
      "regularization_factors, val_score: 0.775329:  15%|#5        | 3/20 [00:15<01:30,  5.32s/it]\u001b[A[I 2023-12-28 15:27:43,660] Trial 45 finished with value: 0.7753384135945033 and parameters: {'lambda_l1': 1.2424909415986041e-08, 'lambda_l2': 2.0505934333365222e-08}. Best is trial 44 with value: 0.7753288897864303.\n",
      "\n",
      "regularization_factors, val_score: 0.775329:  15%|#5        | 3/20 [00:15<01:30,  5.32s/it]\u001b[A"
     ]
    },
    {
     "name": "stdout",
     "output_type": "stream",
     "text": [
      "Early stopping, best iteration is:\n",
      "[78]\tvalid_0's multi_logloss: 0.775338\n",
      "Training until validation scores don't improve for 100 rounds\n"
     ]
    },
    {
     "name": "stderr",
     "output_type": "stream",
     "text": [
      "\n",
      "regularization_factors, val_score: 0.775321:  15%|#5        | 3/20 [00:20<01:30,  5.32s/it]\u001b[A\n",
      "regularization_factors, val_score: 0.775321:  20%|##        | 4/20 [00:20<01:24,  5.29s/it]\u001b[A[I 2023-12-28 15:27:48,909] Trial 46 finished with value: 0.7753207028035122 and parameters: {'lambda_l1': 1.7457508290450786e-08, 'lambda_l2': 1.2527021958695796e-08}. Best is trial 46 with value: 0.7753207028035122.\n",
      "\n",
      "regularization_factors, val_score: 0.775321:  20%|##        | 4/20 [00:20<01:24,  5.29s/it]\u001b[A"
     ]
    },
    {
     "name": "stdout",
     "output_type": "stream",
     "text": [
      "Early stopping, best iteration is:\n",
      "[78]\tvalid_0's multi_logloss: 0.775321\n",
      "Training until validation scores don't improve for 100 rounds\n"
     ]
    },
    {
     "name": "stderr",
     "output_type": "stream",
     "text": [
      "\n",
      "regularization_factors, val_score: 0.775321:  20%|##        | 4/20 [00:25<01:24,  5.29s/it]\u001b[A\n",
      "regularization_factors, val_score: 0.775321:  25%|##5       | 5/20 [00:25<01:16,  5.12s/it]\u001b[A[I 2023-12-28 15:27:53,717] Trial 47 finished with value: 0.7753320465546159 and parameters: {'lambda_l1': 1.6883166535839547e-08, 'lambda_l2': 2.34984220012446e-08}. Best is trial 46 with value: 0.7753207028035122.\n",
      "\n",
      "regularization_factors, val_score: 0.775321:  25%|##5       | 5/20 [00:25<01:16,  5.12s/it]\u001b[A"
     ]
    },
    {
     "name": "stdout",
     "output_type": "stream",
     "text": [
      "Early stopping, best iteration is:\n",
      "[78]\tvalid_0's multi_logloss: 0.775332\n",
      "Training until validation scores don't improve for 100 rounds\n"
     ]
    },
    {
     "name": "stderr",
     "output_type": "stream",
     "text": [
      "\n",
      "regularization_factors, val_score: 0.775321:  25%|##5       | 5/20 [00:30<01:16,  5.12s/it]\u001b[A\n",
      "regularization_factors, val_score: 0.775321:  30%|###       | 6/20 [00:30<01:12,  5.19s/it]\u001b[A[I 2023-12-28 15:27:59,051] Trial 48 finished with value: 0.7753288899652907 and parameters: {'lambda_l1': 1.1099472707493021e-08, 'lambda_l2': 1.6533787920757444e-08}. Best is trial 46 with value: 0.7753207028035122.\n",
      "\n",
      "regularization_factors, val_score: 0.775321:  30%|###       | 6/20 [00:30<01:12,  5.19s/it]\u001b[A"
     ]
    },
    {
     "name": "stdout",
     "output_type": "stream",
     "text": [
      "Early stopping, best iteration is:\n",
      "[78]\tvalid_0's multi_logloss: 0.775329\n",
      "Training until validation scores don't improve for 100 rounds\n"
     ]
    },
    {
     "name": "stderr",
     "output_type": "stream",
     "text": [
      "\n",
      "regularization_factors, val_score: 0.775321:  30%|###       | 6/20 [00:37<01:12,  5.19s/it]\u001b[A\n",
      "regularization_factors, val_score: 0.775321:  35%|###5      | 7/20 [00:37<01:12,  5.57s/it]\u001b[A[I 2023-12-28 15:28:05,403] Trial 49 finished with value: 0.7753288899621651 and parameters: {'lambda_l1': 1.3482268575189441e-08, 'lambda_l2': 1.357155838094766e-08}. Best is trial 46 with value: 0.7753207028035122.\n",
      "\n",
      "regularization_factors, val_score: 0.775321:  35%|###5      | 7/20 [00:37<01:12,  5.57s/it]\u001b[A"
     ]
    },
    {
     "name": "stdout",
     "output_type": "stream",
     "text": [
      "Early stopping, best iteration is:\n",
      "[78]\tvalid_0's multi_logloss: 0.775329\n",
      "Training until validation scores don't improve for 100 rounds\n",
      "Early stopping, best iteration is:\n",
      "[78]\tvalid_0's multi_logloss: 0.775329\n"
     ]
    },
    {
     "name": "stderr",
     "output_type": "stream",
     "text": [
      "\n",
      "regularization_factors, val_score: 0.775321:  35%|###5      | 7/20 [00:41<01:12,  5.57s/it]\u001b[A\n",
      "regularization_factors, val_score: 0.775321:  40%|####      | 8/20 [00:41<01:02,  5.18s/it]\u001b[A[I 2023-12-28 15:28:09,754] Trial 50 finished with value: 0.7753288899611445 and parameters: {'lambda_l1': 1.3543432567693708e-08, 'lambda_l2': 1.2861644555834442e-08}. Best is trial 46 with value: 0.7753207028035122.\n",
      "\n",
      "regularization_factors, val_score: 0.775321:  40%|####      | 8/20 [00:41<01:02,  5.18s/it]\u001b[A"
     ]
    },
    {
     "name": "stdout",
     "output_type": "stream",
     "text": [
      "Training until validation scores don't improve for 100 rounds\n"
     ]
    },
    {
     "name": "stderr",
     "output_type": "stream",
     "text": [
      "\n",
      "regularization_factors, val_score: 0.775321:  40%|####      | 8/20 [00:46<01:02,  5.18s/it]\u001b[A\n",
      "regularization_factors, val_score: 0.775321:  45%|####5     | 9/20 [00:46<00:56,  5.10s/it]\u001b[A[I 2023-12-28 15:28:14,675] Trial 51 finished with value: 0.7753207028373958 and parameters: {'lambda_l1': 1.1047056030644487e-08, 'lambda_l2': 1.651955190864049e-08}. Best is trial 46 with value: 0.7753207028035122.\n",
      "\n",
      "regularization_factors, val_score: 0.775321:  45%|####5     | 9/20 [00:46<00:56,  5.10s/it]\u001b[A"
     ]
    },
    {
     "name": "stdout",
     "output_type": "stream",
     "text": [
      "Early stopping, best iteration is:\n",
      "[78]\tvalid_0's multi_logloss: 0.775321\n",
      "Training until validation scores don't improve for 100 rounds\n"
     ]
    },
    {
     "name": "stderr",
     "output_type": "stream",
     "text": [
      "\n",
      "regularization_factors, val_score: 0.775321:  45%|####5     | 9/20 [00:53<00:56,  5.10s/it]\u001b[A\n",
      "regularization_factors, val_score: 0.775321:  50%|#####     | 10/20 [00:53<00:58,  5.86s/it]\u001b[A[I 2023-12-28 15:28:22,235] Trial 52 finished with value: 0.7753352569207124 and parameters: {'lambda_l1': 1.4291277323002513e-08, 'lambda_l2': 1.920855777261286e-08}. Best is trial 46 with value: 0.7753207028035122.\n"
     ]
    },
    {
     "name": "stdout",
     "output_type": "stream",
     "text": [
      "Early stopping, best iteration is:\n",
      "[78]\tvalid_0's multi_logloss: 0.775335\n"
     ]
    },
    {
     "name": "stderr",
     "output_type": "stream",
     "text": [
      "\n",
      "regularization_factors, val_score: 0.775321:  50%|#####     | 10/20 [00:54<00:58,  5.86s/it]\u001b[A"
     ]
    },
    {
     "name": "stdout",
     "output_type": "stream",
     "text": [
      "Training until validation scores don't improve for 100 rounds\n"
     ]
    },
    {
     "name": "stderr",
     "output_type": "stream",
     "text": [
      "\n",
      "regularization_factors, val_score: 0.775321:  50%|#####     | 10/20 [01:01<00:58,  5.86s/it]\u001b[A\n",
      "regularization_factors, val_score: 0.775321:  55%|#####5    | 11/20 [01:01<00:58,  6.46s/it]\u001b[A[I 2023-12-28 15:28:30,043] Trial 53 finished with value: 0.7753320466581024 and parameters: {'lambda_l1': 1.0214158559505941e-08, 'lambda_l2': 1.2418681886972401e-08}. Best is trial 46 with value: 0.7753207028035122.\n",
      "\n",
      "regularization_factors, val_score: 0.775321:  55%|#####5    | 11/20 [01:01<00:58,  6.46s/it]\u001b[A"
     ]
    },
    {
     "name": "stdout",
     "output_type": "stream",
     "text": [
      "Early stopping, best iteration is:\n",
      "[78]\tvalid_0's multi_logloss: 0.775332\n",
      "Training until validation scores don't improve for 100 rounds\n",
      "Early stopping, best iteration is:\n",
      "[78]\tvalid_0's multi_logloss: 0.775329\n"
     ]
    },
    {
     "name": "stderr",
     "output_type": "stream",
     "text": [
      "\n",
      "regularization_factors, val_score: 0.775321:  55%|#####5    | 11/20 [01:10<00:58,  6.46s/it]\u001b[A\n",
      "regularization_factors, val_score: 0.775321:  60%|######    | 12/20 [01:10<00:58,  7.27s/it]\u001b[A[I 2023-12-28 15:28:39,191] Trial 54 finished with value: 0.7753288899950922 and parameters: {'lambda_l1': 1.16177810397726e-08, 'lambda_l2': 1.0316177202814737e-08}. Best is trial 46 with value: 0.7753207028035122.\n",
      "\n",
      "regularization_factors, val_score: 0.775321:  60%|######    | 12/20 [01:10<00:58,  7.27s/it]\u001b[A"
     ]
    },
    {
     "name": "stdout",
     "output_type": "stream",
     "text": [
      "Training until validation scores don't improve for 100 rounds\n"
     ]
    },
    {
     "name": "stderr",
     "output_type": "stream",
     "text": [
      "\n",
      "regularization_factors, val_score: 0.775321:  60%|######    | 12/20 [01:16<00:58,  7.27s/it]\u001b[A\n",
      "regularization_factors, val_score: 0.775321:  65%|######5   | 13/20 [01:16<00:46,  6.71s/it]\u001b[A[I 2023-12-28 15:28:44,585] Trial 55 finished with value: 0.7753288898354429 and parameters: {'lambda_l1': 3.051534917824567e-08, 'lambda_l2': 1.0750994041875032e-08}. Best is trial 46 with value: 0.7753207028035122.\n",
      "\n",
      "regularization_factors, val_score: 0.775321:  65%|######5   | 13/20 [01:16<00:46,  6.71s/it]\u001b[A"
     ]
    },
    {
     "name": "stdout",
     "output_type": "stream",
     "text": [
      "Early stopping, best iteration is:\n",
      "[78]\tvalid_0's multi_logloss: 0.775329\n",
      "Training until validation scores don't improve for 100 rounds\n"
     ]
    },
    {
     "name": "stderr",
     "output_type": "stream",
     "text": [
      "\n",
      "regularization_factors, val_score: 0.775153:  65%|######5   | 13/20 [01:20<00:46,  6.71s/it]\u001b[A\n",
      "regularization_factors, val_score: 0.775153:  70%|#######   | 14/20 [01:20<00:36,  6.07s/it]\u001b[A[I 2023-12-28 15:28:49,173] Trial 56 finished with value: 0.7751529957200277 and parameters: {'lambda_l1': 7.031599776222319e-07, 'lambda_l2': 6.774272430312586e-07}. Best is trial 56 with value: 0.7751529957200277.\n",
      "\n",
      "regularization_factors, val_score: 0.775153:  70%|#######   | 14/20 [01:20<00:36,  6.07s/it]\u001b[A"
     ]
    },
    {
     "name": "stdout",
     "output_type": "stream",
     "text": [
      "Early stopping, best iteration is:\n",
      "[71]\tvalid_0's multi_logloss: 0.775153\n",
      "Training until validation scores don't improve for 100 rounds\n"
     ]
    },
    {
     "name": "stderr",
     "output_type": "stream",
     "text": [
      "\n",
      "regularization_factors, val_score: 0.775153:  70%|#######   | 14/20 [01:24<00:36,  6.07s/it]\u001b[A\n",
      "regularization_factors, val_score: 0.775153:  75%|#######5  | 15/20 [01:24<00:26,  5.40s/it]\u001b[A[I 2023-12-28 15:28:53,009] Trial 57 finished with value: 0.7751528898483397 and parameters: {'lambda_l1': 9.824732325586358e-07, 'lambda_l2': 9.057100262750118e-07}. Best is trial 57 with value: 0.7751528898483397.\n",
      "\n",
      "regularization_factors, val_score: 0.775153:  75%|#######5  | 15/20 [01:24<00:26,  5.40s/it]\u001b[A"
     ]
    },
    {
     "name": "stdout",
     "output_type": "stream",
     "text": [
      "Early stopping, best iteration is:\n",
      "[71]\tvalid_0's multi_logloss: 0.775153\n",
      "Training until validation scores don't improve for 100 rounds\n"
     ]
    },
    {
     "name": "stderr",
     "output_type": "stream",
     "text": [
      "\n",
      "regularization_factors, val_score: 0.775153:  75%|#######5  | 15/20 [01:30<00:26,  5.40s/it]\u001b[A\n",
      "regularization_factors, val_score: 0.775153:  80%|########  | 16/20 [01:30<00:22,  5.50s/it]\u001b[A[I 2023-12-28 15:28:58,772] Trial 58 finished with value: 0.7751528895537844 and parameters: {'lambda_l1': 1.1835164486232256e-06, 'lambda_l2': 1.4084248932129736e-06}. Best is trial 58 with value: 0.7751528895537844.\n",
      "\n",
      "regularization_factors, val_score: 0.775153:  80%|########  | 16/20 [01:30<00:22,  5.50s/it]\u001b[A"
     ]
    },
    {
     "name": "stdout",
     "output_type": "stream",
     "text": [
      "Early stopping, best iteration is:\n",
      "[71]\tvalid_0's multi_logloss: 0.775153\n",
      "Training until validation scores don't improve for 100 rounds\n"
     ]
    },
    {
     "name": "stderr",
     "output_type": "stream",
     "text": [
      "\n",
      "regularization_factors, val_score: 0.775150:  80%|########  | 16/20 [01:35<00:22,  5.50s/it]\u001b[A\n",
      "regularization_factors, val_score: 0.775150:  85%|########5 | 17/20 [01:35<00:16,  5.44s/it]\u001b[A[I 2023-12-28 15:29:04,068] Trial 59 finished with value: 0.7751501516376054 and parameters: {'lambda_l1': 2.08881405461072e-06, 'lambda_l2': 1.1993476421554264e-06}. Best is trial 59 with value: 0.7751501516376054.\n",
      "\n",
      "regularization_factors, val_score: 0.775150:  85%|########5 | 17/20 [01:35<00:16,  5.44s/it]\u001b[A"
     ]
    },
    {
     "name": "stdout",
     "output_type": "stream",
     "text": [
      "Early stopping, best iteration is:\n",
      "[73]\tvalid_0's multi_logloss: 0.77515\n",
      "Training until validation scores don't improve for 100 rounds\n"
     ]
    },
    {
     "name": "stderr",
     "output_type": "stream",
     "text": [
      "\n",
      "regularization_factors, val_score: 0.775150:  85%|########5 | 17/20 [01:40<00:16,  5.44s/it]\u001b[A\n",
      "regularization_factors, val_score: 0.775150:  90%|######### | 18/20 [01:40<00:10,  5.30s/it]\u001b[A[I 2023-12-28 15:29:09,023] Trial 60 finished with value: 0.7751516587016636 and parameters: {'lambda_l1': 1.5356057992652693e-06, 'lambda_l2': 1.5359841948286905e-06}. Best is trial 59 with value: 0.7751501516376054.\n",
      "\n",
      "regularization_factors, val_score: 0.775150:  90%|######### | 18/20 [01:40<00:10,  5.30s/it]\u001b[A"
     ]
    },
    {
     "name": "stdout",
     "output_type": "stream",
     "text": [
      "Early stopping, best iteration is:\n",
      "[71]\tvalid_0's multi_logloss: 0.775152\n",
      "Training until validation scores don't improve for 100 rounds\n"
     ]
    },
    {
     "name": "stderr",
     "output_type": "stream",
     "text": [
      "\n",
      "regularization_factors, val_score: 0.775150:  90%|######### | 18/20 [01:44<00:10,  5.30s/it]\u001b[A\n",
      "regularization_factors, val_score: 0.775150:  95%|#########5| 19/20 [01:44<00:04,  4.94s/it]\u001b[A[I 2023-12-28 15:29:13,138] Trial 61 finished with value: 0.7751662321357986 and parameters: {'lambda_l1': 9.664501991647147e-07, 'lambda_l2': 1.1487781760779088e-06}. Best is trial 59 with value: 0.7751501516376054.\n",
      "\n",
      "regularization_factors, val_score: 0.775150:  95%|#########5| 19/20 [01:44<00:04,  4.94s/it]\u001b[A"
     ]
    },
    {
     "name": "stdout",
     "output_type": "stream",
     "text": [
      "Early stopping, best iteration is:\n",
      "[71]\tvalid_0's multi_logloss: 0.775166\n",
      "Training until validation scores don't improve for 100 rounds\n"
     ]
    },
    {
     "name": "stderr",
     "output_type": "stream",
     "text": [
      "\n",
      "regularization_factors, val_score: 0.775150:  95%|#########5| 19/20 [01:52<00:04,  4.94s/it]\u001b[A\n",
      "regularization_factors, val_score: 0.775150: 100%|##########| 20/20 [01:52<00:00,  5.72s/it]\u001b[A[I 2023-12-28 15:29:20,667] Trial 62 finished with value: 0.777136686773429 and parameters: {'lambda_l1': 1.8533926701663048e-06, 'lambda_l2': 1.7467379804478971e-06}. Best is trial 59 with value: 0.7751501516376054.\n",
      "regularization_factors, val_score: 0.775150: 100%|##########| 20/20 [01:52<00:00,  5.62s/it]\n"
     ]
    },
    {
     "name": "stdout",
     "output_type": "stream",
     "text": [
      "Early stopping, best iteration is:\n",
      "[73]\tvalid_0's multi_logloss: 0.777137\n"
     ]
    },
    {
     "name": "stderr",
     "output_type": "stream",
     "text": [
      "\n",
      "  0%|          | 0/5 [00:00<?, ?it/s]\u001b[A\n",
      "min_child_samples, val_score: 0.775150:   0%|          | 0/5 [00:00<?, ?it/s]\u001b[A"
     ]
    },
    {
     "name": "stdout",
     "output_type": "stream",
     "text": [
      "Training until validation scores don't improve for 100 rounds\n"
     ]
    },
    {
     "name": "stderr",
     "output_type": "stream",
     "text": [
      "\n",
      "min_child_samples, val_score: 0.775150:   0%|          | 0/5 [00:04<?, ?it/s]\u001b[A\n",
      "min_child_samples, val_score: 0.775150:  20%|##        | 1/5 [00:04<00:17,  4.28s/it]\u001b[A[I 2023-12-28 15:29:24,977] Trial 63 finished with value: 0.7823761199704427 and parameters: {'min_child_samples': 25}. Best is trial 63 with value: 0.7823761199704427.\n",
      "\n",
      "min_child_samples, val_score: 0.775150:  20%|##        | 1/5 [00:04<00:17,  4.28s/it]\u001b[A"
     ]
    },
    {
     "name": "stdout",
     "output_type": "stream",
     "text": [
      "Early stopping, best iteration is:\n",
      "[71]\tvalid_0's multi_logloss: 0.782376\n",
      "Training until validation scores don't improve for 100 rounds\n"
     ]
    },
    {
     "name": "stderr",
     "output_type": "stream",
     "text": [
      "\n",
      "min_child_samples, val_score: 0.775150:  20%|##        | 1/5 [00:08<00:17,  4.28s/it]\u001b[A\n",
      "min_child_samples, val_score: 0.775150:  40%|####      | 2/5 [00:08<00:12,  4.32s/it]\u001b[A[I 2023-12-28 15:29:29,314] Trial 64 finished with value: 0.8130456403551506 and parameters: {'min_child_samples': 50}. Best is trial 63 with value: 0.7823761199704427.\n",
      "\n",
      "min_child_samples, val_score: 0.775150:  40%|####      | 2/5 [00:08<00:12,  4.32s/it]\u001b[A"
     ]
    },
    {
     "name": "stdout",
     "output_type": "stream",
     "text": [
      "Early stopping, best iteration is:\n",
      "[115]\tvalid_0's multi_logloss: 0.813046\n",
      "Training until validation scores don't improve for 100 rounds\n"
     ]
    },
    {
     "name": "stderr",
     "output_type": "stream",
     "text": [
      "\n",
      "min_child_samples, val_score: 0.757996:  40%|####      | 2/5 [00:12<00:12,  4.32s/it]\u001b[A\n",
      "min_child_samples, val_score: 0.757996:  60%|######    | 3/5 [00:12<00:08,  4.18s/it]\u001b[A[I 2023-12-28 15:29:33,331] Trial 65 finished with value: 0.7579964036142307 and parameters: {'min_child_samples': 10}. Best is trial 65 with value: 0.7579964036142307.\n",
      "\n",
      "min_child_samples, val_score: 0.757996:  60%|######    | 3/5 [00:12<00:08,  4.18s/it]\u001b[A"
     ]
    },
    {
     "name": "stdout",
     "output_type": "stream",
     "text": [
      "Early stopping, best iteration is:\n",
      "[77]\tvalid_0's multi_logloss: 0.757996\n",
      "Training until validation scores don't improve for 100 rounds\n"
     ]
    },
    {
     "name": "stderr",
     "output_type": "stream",
     "text": [
      "\n",
      "min_child_samples, val_score: 0.757996:  60%|######    | 3/5 [00:18<00:08,  4.18s/it]\u001b[A\n",
      "min_child_samples, val_score: 0.757996:  80%|########  | 4/5 [00:18<00:04,  4.83s/it]\u001b[A[I 2023-12-28 15:29:39,157] Trial 66 finished with value: 0.8474726941949687 and parameters: {'min_child_samples': 100}. Best is trial 65 with value: 0.7579964036142307.\n",
      "\n",
      "min_child_samples, val_score: 0.757996:  80%|########  | 4/5 [00:18<00:04,  4.83s/it]\u001b[A"
     ]
    },
    {
     "name": "stdout",
     "output_type": "stream",
     "text": [
      "Early stopping, best iteration is:\n",
      "[218]\tvalid_0's multi_logloss: 0.847473\n",
      "Training until validation scores don't improve for 100 rounds\n"
     ]
    },
    {
     "name": "stderr",
     "output_type": "stream",
     "text": [
      "\n",
      "min_child_samples, val_score: 0.751188:  80%|########  | 4/5 [00:29<00:04,  4.83s/it]\u001b[A\n",
      "min_child_samples, val_score: 0.751188: 100%|##########| 5/5 [00:29<00:00,  7.01s/it]\u001b[A[I 2023-12-28 15:29:50,044] Trial 67 finished with value: 0.751188486352352 and parameters: {'min_child_samples': 5}. Best is trial 67 with value: 0.751188486352352.\n",
      "min_child_samples, val_score: 0.751188: 100%|##########| 5/5 [00:29<00:00,  5.87s/it]"
     ]
    },
    {
     "name": "stdout",
     "output_type": "stream",
     "text": [
      "Early stopping, best iteration is:\n",
      "[84]\tvalid_0's multi_logloss: 0.751188\n",
      "304.8620011806488\n"
     ]
    },
    {
     "name": "stderr",
     "output_type": "stream",
     "text": [
      "\n"
     ]
    }
   ],
   "source": [
    "from optuna.integration import lightgbm as lgbo\n",
    "import time\n",
    "\n",
    "start_ts = time.time() \n",
    "\n",
    "\n",
    "#lihgtGBMでの重み付け\n",
    "train_weight = compute_sample_weight(class_weight='balanced', y=y_train).astype('float32')\n",
    "lgb_train = lgbo.Dataset(X_train, y_train, weight=train_weight)\n",
    "lgb_test = lgbo.Dataset(X_eval, label=y_eval, reference=lgb_train)\n",
    "\n",
    "# mult_logloss\n",
    "params = {\n",
    "    'boosting_type':'gbdt',\n",
    "    'objective':'multiclass',\n",
    "    'metric':'multi_logloss',\n",
    "    'num_class':3,\n",
    "    'verbose':-1\n",
    "} \n",
    "\n",
    "#mult_erorr\n",
    "# params = {\n",
    "#     'boosting_type':'gbdt',\n",
    "#     'objective':'multiclass',\n",
    "#     'metric':'multi_error',\n",
    "#     'num_class':3,\n",
    "#     'verbose':-1\n",
    "# } \n",
    "\n",
    "\n",
    "evals_result = {} \n",
    "\n",
    "pre_model = lgbo.train(\n",
    "    params,\n",
    "    lgb_train,\n",
    "    valid_sets=lgb_test,\n",
    "    callbacks=[lgb.early_stopping(stopping_rounds=100)])\n",
    "\n",
    "tooked_time = time.time() - start_ts\n",
    "print(tooked_time)"
   ]
  },
  {
   "cell_type": "markdown",
   "id": "d8cc7123-051d-4c64-87b2-768feb803de4",
   "metadata": {},
   "source": [
    "## metric:multi_logloss(early_stop=100)"
   ]
  },
  {
   "cell_type": "code",
   "execution_count": 487,
   "id": "95643a79-7538-4af0-b932-abba8664bdd6",
   "metadata": {},
   "outputs": [
    {
     "name": "stdout",
     "output_type": "stream",
     "text": [
      "ベストスコア： OrderedDict([('multi_logloss', 0.751188486352352)])\n",
      "------------------------------\n",
      "ベストイテレーション： 84\n",
      "------------------------------\n",
      "ベストパラメータ\n"
     ]
    },
    {
     "data": {
      "text/plain": [
       "{'boosting_type': 'gbdt',\n",
       " 'objective': 'multiclass',\n",
       " 'metric': 'multi_logloss',\n",
       " 'num_class': 3,\n",
       " 'verbose': -1,\n",
       " 'feature_pre_filter': False,\n",
       " 'lambda_l1': 2.08881405461072e-06,\n",
       " 'lambda_l2': 1.1993476421554264e-06,\n",
       " 'num_leaves': 255,\n",
       " 'feature_fraction': 0.7,\n",
       " 'bagging_fraction': 0.992879386487832,\n",
       " 'bagging_freq': 1,\n",
       " 'min_child_samples': 5,\n",
       " 'num_iterations': 1000}"
      ]
     },
     "execution_count": 487,
     "metadata": {},
     "output_type": "execute_result"
    }
   ],
   "source": [
    "print('ベストスコア：', pre_model.best_score['valid_0'])\n",
    "print('-'*30)\n",
    "print('ベストイテレーション：', pre_model.best_iteration)\n",
    "print('-'*30)\n",
    "print('ベストパラメータ')\n",
    "pre_model.params"
   ]
  },
  {
   "cell_type": "code",
   "execution_count": 488,
   "id": "fb9ad7bd-ae19-45e6-a3c5-7e7ed3fb3435",
   "metadata": {},
   "outputs": [
    {
     "name": "stdout",
     "output_type": "stream",
     "text": [
      "Training until validation scores don't improve for 100 rounds\n",
      "Early stopping, best iteration is:\n",
      "[84]\tvalid_0's multi_logloss: 0.751188\n"
     ]
    }
   ],
   "source": [
    "#チューニング後の予測\n",
    "params = pre_model.params\n",
    "\n",
    "\n",
    "#参照データ\n",
    "X = select_train_df\n",
    "y = val_df\n",
    "\n",
    "#データ分割\n",
    "X_train, X_eval, y_train, y_eval = train_test_split(X, y, test_size=0.3, random_state=0, stratify=y)\n",
    "\n",
    "\n",
    "#lihgtGBMでの重み付け\n",
    "train_weight = compute_sample_weight(class_weight='balanced', y=y_train).astype('float32')\n",
    "weighted_train = lgb.Dataset(X_train, y_train, weight=train_weight)\n",
    "weighted_test = lgb.Dataset(X_eval, label=y_eval, reference=weighted_train)\n",
    "\n",
    "\n",
    "\n",
    "#モデルのトレーニング\n",
    "evals_result = {} \n",
    "\n",
    "model = lgb.train(\n",
    "    params,\n",
    "    weighted_train,\n",
    "    valid_sets=weighted_test,\n",
    "    num_boost_round=1000,\n",
    "    callbacks=[lgb.early_stopping(stopping_rounds=100),  lgb.record_evaluation(evals_result)])"
   ]
  },
  {
   "cell_type": "code",
   "execution_count": 489,
   "id": "5096c023-8931-4b97-82f3-4f35e649de46",
   "metadata": {},
   "outputs": [
    {
     "name": "stdout",
     "output_type": "stream",
     "text": [
      "f1_score_score:0.3400932961802141\n",
      "accuracy_score:0.6877918612408273\n",
      "precision_score:0.3408118200462715\n",
      "recall_score:0.3410064362190474\n"
     ]
    },
    {
     "data": {
      "image/png": "[encoded data removed]",
      "text/plain": [
       "<Figure size 640x480 with 1 Axes>"
      ]
     },
     "metadata": {},
     "output_type": "display_data"
    }
   ],
   "source": [
    "scores(model, X_eval, y_eval)"
   ]
  },
  {
   "cell_type": "code",
   "execution_count": 455,
   "id": "1f76d6fe-2163-4ec8-8e9c-3e338419e01b",
   "metadata": {},
   "outputs": [],
   "source": [
    "submit_pross(model, select_test_df)"
   ]
  },
  {
   "cell_type": "code",
   "execution_count": null,
   "id": "a4fd93c3-7264-4a39-ada2-42f4ac0de58a",
   "metadata": {},
   "outputs": [],
   "source": []
  },
  {
   "cell_type": "markdown",
   "id": "e7149f69-b3b0-4be9-afdc-02dbf5aba051",
   "metadata": {},
   "source": [
    "## metric: multi_errorの場合（early_stop=100）"
   ]
  },
  {
   "cell_type": "code",
   "execution_count": 483,
   "id": "56192b77-8df9-466c-a7c8-dbf0dd492ab7",
   "metadata": {},
   "outputs": [
    {
     "name": "stdout",
     "output_type": "stream",
     "text": [
      "ベストスコア： OrderedDict([('multi_error', 0.2690126751167445)])\n",
      "------------------------------\n",
      "ベストイテレーション： 392\n",
      "------------------------------\n",
      "ベストパラメータ\n"
     ]
    },
    {
     "data": {
      "text/plain": [
       "{'boosting_type': 'gbdt',\n",
       " 'objective': 'multiclass',\n",
       " 'metric': 'multi_error',\n",
       " 'num_class': 3,\n",
       " 'verbose': -1,\n",
       " 'feature_pre_filter': False,\n",
       " 'lambda_l1': 0.0,\n",
       " 'lambda_l2': 0.0,\n",
       " 'num_leaves': 253,\n",
       " 'feature_fraction': 1.0,\n",
       " 'bagging_fraction': 1.0,\n",
       " 'bagging_freq': 0,\n",
       " 'min_child_samples': 5,\n",
       " 'num_iterations': 1000}"
      ]
     },
     "execution_count": 483,
     "metadata": {},
     "output_type": "execute_result"
    }
   ],
   "source": [
    "print('ベストスコア：', pre_model.best_score['valid_0'])\n",
    "print('-'*30)\n",
    "print('ベストイテレーション：', pre_model.best_iteration)\n",
    "print('-'*30)\n",
    "print('ベストパラメータ')\n",
    "pre_model.params"
   ]
  },
  {
   "cell_type": "code",
   "execution_count": 484,
   "id": "8716eac8-4508-4c6b-8a86-590f8850a6f8",
   "metadata": {},
   "outputs": [
    {
     "name": "stdout",
     "output_type": "stream",
     "text": [
      "Training until validation scores don't improve for 100 rounds\n",
      "Early stopping, best iteration is:\n",
      "[392]\tvalid_0's multi_error: 0.269013\n"
     ]
    }
   ],
   "source": [
    "#チューニング後の予測\n",
    "params = pre_model.params\n",
    "\n",
    "\n",
    "#参照データ\n",
    "X = select_train_df\n",
    "y = val_df\n",
    "\n",
    "#データ分割\n",
    "X_train, X_eval, y_train, y_eval = train_test_split(X, y, test_size=0.3, random_state=0, stratify=y)\n",
    "\n",
    "\n",
    "#lihgtGBMでの重み付け\n",
    "train_weight = compute_sample_weight(class_weight='balanced', y=y_train).astype('float32')\n",
    "weighted_train = lgb.Dataset(X_train, y_train, weight=train_weight)\n",
    "weighted_test = lgb.Dataset(X_eval, label=y_eval, reference=weighted_train)\n",
    "\n",
    "\n",
    "\n",
    "#モデルのトレーニング\n",
    "evals_result = {} \n",
    "\n",
    "model = lgb.train(\n",
    "    params,\n",
    "    weighted_train,\n",
    "    valid_sets=weighted_test,\n",
    "    num_boost_round=1000,\n",
    "    callbacks=[lgb.early_stopping(stopping_rounds=100),  lgb.record_evaluation(evals_result)])"
   ]
  },
  {
   "cell_type": "code",
   "execution_count": 485,
   "id": "62c59c62-f715-49af-84dd-e6b0d6520b82",
   "metadata": {},
   "outputs": [
    {
     "name": "stdout",
     "output_type": "stream",
     "text": [
      "f1_score_score:0.3362215493692507\n",
      "accuracy_score:0.7309873248832555\n",
      "precision_score:0.3448732082594023\n",
      "recall_score:0.3420944875663296\n"
     ]
    },
    {
     "data": {
      "image/png": "[encoded data removed]",
      "text/plain": [
       "<Figure size 640x480 with 1 Axes>"
      ]
     },
     "metadata": {},
     "output_type": "display_data"
    }
   ],
   "source": [
    "scores(model, X_eval, y_eval)"
   ]
  },
  {
   "cell_type": "code",
   "execution_count": null,
   "id": "967197f7-e9cb-439f-99f5-b53f738dcc93",
   "metadata": {},
   "outputs": [],
   "source": []
  },
  {
   "cell_type": "markdown",
   "id": "880b0e73-ca2f-4d47-95aa-60bab0465594",
   "metadata": {},
   "source": [
    "## LightGBMTunerCVを使用してパラメーターチューニング（StratifiedKFoldを使いたい）"
   ]
  },
  {
   "cell_type": "code",
   "execution_count": 460,
   "id": "8413dd24-a896-401f-a7f8-9c76e43c5e2c",
   "metadata": {},
   "outputs": [],
   "source": [
    "from lightgbm import early_stopping\n",
    "from lightgbm import log_evaluation"
   ]
  },
  {
   "cell_type": "code",
   "execution_count": 512,
   "id": "3be2bf18-cea6-4c1d-aeaf-b98950e64468",
   "metadata": {
    "collapsed": true,
    "jupyter": {
     "outputs_hidden": true
    },
    "tags": []
   },
   "outputs": [
    {
     "name": "stderr",
     "output_type": "stream",
     "text": [
      "[I 2023-12-28 15:54:30,128] A new study created in memory with name: no-name-d48b3e9e-c274-43f0-afd7-621a3b3bdd45\n",
      "\n",
      "\n",
      "\n",
      "  0%|          | 0/7 [00:00<?, ?it/s]\u001b[A\u001b[A\u001b[A\n",
      "\n",
      "\n",
      "feature_fraction, val_score: inf:   0%|          | 0/7 [00:00<?, ?it/s]\u001b[A\u001b[A\u001b[A"
     ]
    },
    {
     "name": "stdout",
     "output_type": "stream",
     "text": [
      "Training until validation scores don't improve for 100 rounds\n"
     ]
    },
    {
     "name": "stderr",
     "output_type": "stream",
     "text": [
      "\n",
      "\n",
      "\n",
      "feature_fraction, val_score: 1.090780:   0%|          | 0/7 [00:03<?, ?it/s]\u001b[A\u001b[A\u001b[A\n",
      "\n",
      "\n",
      "feature_fraction, val_score: 1.090780:  14%|#4        | 1/7 [00:03<00:20,  3.49s/it]\u001b[A\u001b[A\u001b[A[I 2023-12-28 15:54:33,645] Trial 0 finished with value: 1.0907802191081573 and parameters: {'feature_fraction': 0.5}. Best is trial 0 with value: 1.0907802191081573.\n",
      "\n",
      "\n",
      "\n",
      "feature_fraction, val_score: 1.090780:  14%|#4        | 1/7 [00:03<00:20,  3.49s/it]\u001b[A\u001b[A\u001b[A"
     ]
    },
    {
     "name": "stdout",
     "output_type": "stream",
     "text": [
      "Early stopping, best iteration is:\n",
      "[4]\tcv_agg's valid multi_logloss: 1.09078 + 0.00543007\n",
      "Training until validation scores don't improve for 100 rounds\n"
     ]
    },
    {
     "name": "stderr",
     "output_type": "stream",
     "text": [
      "\n",
      "\n",
      "\n",
      "feature_fraction, val_score: 1.089123:  14%|#4        | 1/7 [00:06<00:20,  3.49s/it]\u001b[A\u001b[A\u001b[A\n",
      "\n",
      "\n",
      "feature_fraction, val_score: 1.089123:  29%|##8       | 2/7 [00:06<00:16,  3.33s/it]\u001b[A\u001b[A\u001b[A[I 2023-12-28 15:54:36,867] Trial 1 finished with value: 1.0891230048689138 and parameters: {'feature_fraction': 0.8999999999999999}. Best is trial 1 with value: 1.0891230048689138.\n",
      "\n",
      "\n",
      "\n",
      "feature_fraction, val_score: 1.089123:  29%|##8       | 2/7 [00:06<00:16,  3.33s/it]\u001b[A\u001b[A\u001b[A"
     ]
    },
    {
     "name": "stdout",
     "output_type": "stream",
     "text": [
      "Early stopping, best iteration is:\n",
      "[3]\tcv_agg's valid multi_logloss: 1.08912 + 0.0029962\n",
      "Training until validation scores don't improve for 100 rounds\n"
     ]
    },
    {
     "name": "stderr",
     "output_type": "stream",
     "text": [
      "\n",
      "\n",
      "\n",
      "feature_fraction, val_score: 1.089123:  29%|##8       | 2/7 [00:10<00:16,  3.33s/it]\u001b[A\u001b[A\u001b[A\n",
      "\n",
      "\n",
      "feature_fraction, val_score: 1.089123:  43%|####2     | 3/7 [00:10<00:13,  3.46s/it]\u001b[A\u001b[A\u001b[A[I 2023-12-28 15:54:40,489] Trial 2 finished with value: 1.0918912361256632 and parameters: {'feature_fraction': 0.6}. Best is trial 1 with value: 1.0891230048689138.\n",
      "\n",
      "\n",
      "\n",
      "feature_fraction, val_score: 1.089123:  43%|####2     | 3/7 [00:10<00:13,  3.46s/it]\u001b[A\u001b[A\u001b[A"
     ]
    },
    {
     "name": "stdout",
     "output_type": "stream",
     "text": [
      "Early stopping, best iteration is:\n",
      "[4]\tcv_agg's valid multi_logloss: 1.09189 + 0.00443107\n",
      "Training until validation scores don't improve for 100 rounds\n"
     ]
    },
    {
     "name": "stderr",
     "output_type": "stream",
     "text": [
      "\n",
      "\n",
      "\n",
      "feature_fraction, val_score: 1.085183:  43%|####2     | 3/7 [00:13<00:13,  3.46s/it]\u001b[A\u001b[A\u001b[A\n",
      "\n",
      "\n",
      "feature_fraction, val_score: 1.085183:  57%|#####7    | 4/7 [00:13<00:10,  3.42s/it]\u001b[A\u001b[A\u001b[A[I 2023-12-28 15:54:43,830] Trial 3 finished with value: 1.085182639164566 and parameters: {'feature_fraction': 0.4}. Best is trial 3 with value: 1.085182639164566.\n",
      "\n",
      "\n",
      "\n",
      "feature_fraction, val_score: 1.085183:  57%|#####7    | 4/7 [00:13<00:10,  3.42s/it]\u001b[A\u001b[A\u001b[A"
     ]
    },
    {
     "name": "stdout",
     "output_type": "stream",
     "text": [
      "Early stopping, best iteration is:\n",
      "[5]\tcv_agg's valid multi_logloss: 1.08518 + 0.00255052\n",
      "Training until validation scores don't improve for 100 rounds\n"
     ]
    },
    {
     "name": "stderr",
     "output_type": "stream",
     "text": [
      "\n",
      "\n",
      "\n",
      "feature_fraction, val_score: 1.085183:  57%|#####7    | 4/7 [00:16<00:10,  3.42s/it]\u001b[A\u001b[A\u001b[A\n",
      "\n",
      "\n",
      "feature_fraction, val_score: 1.085183:  71%|#######1  | 5/7 [00:16<00:06,  3.33s/it]\u001b[A\u001b[A\u001b[A[I 2023-12-28 15:54:47,004] Trial 4 finished with value: 1.0915623085672799 and parameters: {'feature_fraction': 0.7}. Best is trial 3 with value: 1.085182639164566.\n",
      "\n",
      "\n",
      "\n",
      "feature_fraction, val_score: 1.085183:  71%|#######1  | 5/7 [00:16<00:06,  3.33s/it]\u001b[A\u001b[A\u001b[A"
     ]
    },
    {
     "name": "stdout",
     "output_type": "stream",
     "text": [
      "Early stopping, best iteration is:\n",
      "[3]\tcv_agg's valid multi_logloss: 1.09156 + 0.00418148\n",
      "Training until validation scores don't improve for 100 rounds\n"
     ]
    },
    {
     "name": "stderr",
     "output_type": "stream",
     "text": [
      "\n",
      "\n",
      "\n",
      "feature_fraction, val_score: 1.085183:  71%|#######1  | 5/7 [00:20<00:06,  3.33s/it]\u001b[A\u001b[A\u001b[A\n",
      "\n",
      "\n",
      "feature_fraction, val_score: 1.085183:  86%|########5 | 6/7 [00:20<00:03,  3.35s/it]\u001b[A\u001b[A\u001b[A[I 2023-12-28 15:54:50,411] Trial 5 finished with value: 1.090403481660377 and parameters: {'feature_fraction': 1.0}. Best is trial 3 with value: 1.085182639164566.\n",
      "\n",
      "\n",
      "\n",
      "feature_fraction, val_score: 1.085183:  86%|########5 | 6/7 [00:20<00:03,  3.35s/it]\u001b[A\u001b[A\u001b[A"
     ]
    },
    {
     "name": "stdout",
     "output_type": "stream",
     "text": [
      "Early stopping, best iteration is:\n",
      "[2]\tcv_agg's valid multi_logloss: 1.0904 + 0.00345759\n",
      "Training until validation scores don't improve for 100 rounds\n"
     ]
    },
    {
     "name": "stderr",
     "output_type": "stream",
     "text": [
      "\n",
      "\n",
      "\n",
      "feature_fraction, val_score: 1.085183:  86%|########5 | 6/7 [00:23<00:03,  3.35s/it]\u001b[A\u001b[A\u001b[A\n",
      "\n",
      "\n",
      "feature_fraction, val_score: 1.085183: 100%|##########| 7/7 [00:23<00:00,  3.38s/it]\u001b[A\u001b[A\u001b[A[I 2023-12-28 15:54:53,856] Trial 6 finished with value: 1.091060766917636 and parameters: {'feature_fraction': 0.8}. Best is trial 3 with value: 1.085182639164566.\n",
      "feature_fraction, val_score: 1.085183: 100%|##########| 7/7 [00:23<00:00,  3.39s/it]\n"
     ]
    },
    {
     "name": "stdout",
     "output_type": "stream",
     "text": [
      "Early stopping, best iteration is:\n",
      "[3]\tcv_agg's valid multi_logloss: 1.09106 + 0.00431947\n"
     ]
    },
    {
     "name": "stderr",
     "output_type": "stream",
     "text": [
      "\n",
      "\n",
      "\n",
      "  0%|          | 0/20 [00:00<?, ?it/s]\u001b[A\u001b[A\u001b[A\n",
      "\n",
      "\n",
      "num_leaves, val_score: 1.085183:   0%|          | 0/20 [00:00<?, ?it/s]\u001b[A\u001b[A\u001b[A"
     ]
    },
    {
     "name": "stdout",
     "output_type": "stream",
     "text": [
      "Training until validation scores don't improve for 100 rounds\n"
     ]
    },
    {
     "name": "stderr",
     "output_type": "stream",
     "text": [
      "\n",
      "\n",
      "\n",
      "num_leaves, val_score: 1.085183:   0%|          | 0/20 [00:08<?, ?it/s]\u001b[A\u001b[A\u001b[A\n",
      "\n",
      "\n",
      "num_leaves, val_score: 1.085183:   5%|5         | 1/20 [00:08<02:39,  8.37s/it]\u001b[A\u001b[A\u001b[A[I 2023-12-28 15:55:02,255] Trial 7 finished with value: 1.0876933385842034 and parameters: {'num_leaves': 235}. Best is trial 7 with value: 1.0876933385842034.\n",
      "\n",
      "\n",
      "\n",
      "num_leaves, val_score: 1.085183:   5%|5         | 1/20 [00:08<02:39,  8.37s/it]\u001b[A\u001b[A\u001b[A"
     ]
    },
    {
     "name": "stdout",
     "output_type": "stream",
     "text": [
      "Early stopping, best iteration is:\n",
      "[5]\tcv_agg's valid multi_logloss: 1.08769 + 0.00296137\n",
      "Training until validation scores don't improve for 100 rounds\n"
     ]
    },
    {
     "name": "stderr",
     "output_type": "stream",
     "text": [
      "\n",
      "\n",
      "\n",
      "num_leaves, val_score: 1.085183:   5%|5         | 1/20 [00:20<02:39,  8.37s/it]\u001b[A\u001b[A\u001b[A\n",
      "\n",
      "\n",
      "num_leaves, val_score: 1.085183:  10%|#         | 2/20 [00:20<03:14, 10.82s/it]\u001b[A\u001b[A\u001b[A[I 2023-12-28 15:55:14,785] Trial 8 finished with value: 1.0875864323411144 and parameters: {'num_leaves': 186}. Best is trial 8 with value: 1.0875864323411144.\n",
      "\n",
      "\n",
      "\n",
      "num_leaves, val_score: 1.085183:  10%|#         | 2/20 [00:20<03:14, 10.82s/it]\u001b[A\u001b[A\u001b[A"
     ]
    },
    {
     "name": "stdout",
     "output_type": "stream",
     "text": [
      "Early stopping, best iteration is:\n",
      "[5]\tcv_agg's valid multi_logloss: 1.08759 + 0.00335754\n",
      "Training until validation scores don't improve for 100 rounds\n"
     ]
    },
    {
     "name": "stderr",
     "output_type": "stream",
     "text": [
      "\n",
      "\n",
      "\n",
      "num_leaves, val_score: 1.079860:  10%|#         | 2/20 [00:23<03:14, 10.82s/it]\u001b[A\u001b[A\u001b[A\n",
      "\n",
      "\n",
      "num_leaves, val_score: 1.079860:  15%|#5        | 3/20 [00:23<01:57,  6.93s/it]\u001b[A\u001b[A\u001b[A[I 2023-12-28 15:55:17,097] Trial 9 finished with value: 1.0798596132031486 and parameters: {'num_leaves': 2}. Best is trial 9 with value: 1.0798596132031486.\n",
      "\n",
      "\n",
      "\n",
      "num_leaves, val_score: 1.079860:  15%|#5        | 3/20 [00:23<01:57,  6.93s/it]\u001b[A\u001b[A\u001b[A"
     ]
    },
    {
     "name": "stdout",
     "output_type": "stream",
     "text": [
      "Early stopping, best iteration is:\n",
      "[23]\tcv_agg's valid multi_logloss: 1.07986 + 0.00677181\n",
      "Training until validation scores don't improve for 100 rounds\n"
     ]
    },
    {
     "name": "stderr",
     "output_type": "stream",
     "text": [
      "\n",
      "\n",
      "\n",
      "num_leaves, val_score: 1.079860:  15%|#5        | 3/20 [00:25<01:57,  6.93s/it]\u001b[A\u001b[A\u001b[A\n",
      "\n",
      "\n",
      "num_leaves, val_score: 1.079860:  20%|##        | 4/20 [00:25<01:21,  5.06s/it]\u001b[A\u001b[A\u001b[A[I 2023-12-28 15:55:19,297] Trial 10 finished with value: 1.0798842379149267 and parameters: {'num_leaves': 3}. Best is trial 9 with value: 1.0798596132031486.\n",
      "\n",
      "\n",
      "\n",
      "num_leaves, val_score: 1.079860:  20%|##        | 4/20 [00:25<01:21,  5.06s/it]\u001b[A\u001b[A\u001b[A"
     ]
    },
    {
     "name": "stdout",
     "output_type": "stream",
     "text": [
      "Early stopping, best iteration is:\n",
      "[17]\tcv_agg's valid multi_logloss: 1.07988 + 0.0062746\n",
      "Training until validation scores don't improve for 100 rounds\n"
     ]
    },
    {
     "name": "stderr",
     "output_type": "stream",
     "text": [
      "\n",
      "\n",
      "\n",
      "num_leaves, val_score: 1.079860:  20%|##        | 4/20 [00:26<01:21,  5.06s/it]\u001b[A\u001b[A\u001b[A\n",
      "\n",
      "\n",
      "num_leaves, val_score: 1.079860:  25%|##5       | 5/20 [00:26<00:56,  3.73s/it]\u001b[A\u001b[A\u001b[A[I 2023-12-28 15:55:20,668] Trial 11 finished with value: 1.0809873487560373 and parameters: {'num_leaves': 4}. Best is trial 9 with value: 1.0798596132031486.\n",
      "\n",
      "\n",
      "\n",
      "num_leaves, val_score: 1.079860:  25%|##5       | 5/20 [00:26<00:56,  3.73s/it]\u001b[A\u001b[A\u001b[A"
     ]
    },
    {
     "name": "stdout",
     "output_type": "stream",
     "text": [
      "Early stopping, best iteration is:\n",
      "[16]\tcv_agg's valid multi_logloss: 1.08099 + 0.00722811\n",
      "Training until validation scores don't improve for 100 rounds\n"
     ]
    },
    {
     "name": "stderr",
     "output_type": "stream",
     "text": [
      "\n",
      "\n",
      "\n",
      "num_leaves, val_score: 1.079860:  25%|##5       | 5/20 [00:28<00:56,  3.73s/it]\u001b[A\u001b[A\u001b[A\n",
      "\n",
      "\n",
      "num_leaves, val_score: 1.079860:  30%|###       | 6/20 [00:28<00:43,  3.10s/it]\u001b[A\u001b[A\u001b[A[I 2023-12-28 15:55:22,553] Trial 12 finished with value: 1.083815017902591 and parameters: {'num_leaves': 9}. Best is trial 9 with value: 1.0798596132031486.\n",
      "\n",
      "\n",
      "\n",
      "num_leaves, val_score: 1.079860:  30%|###       | 6/20 [00:28<00:43,  3.10s/it]\u001b[A\u001b[A\u001b[A"
     ]
    },
    {
     "name": "stdout",
     "output_type": "stream",
     "text": [
      "Early stopping, best iteration is:\n",
      "[13]\tcv_agg's valid multi_logloss: 1.08382 + 0.00505777\n",
      "Training until validation scores don't improve for 100 rounds\n"
     ]
    },
    {
     "name": "stderr",
     "output_type": "stream",
     "text": [
      "\n",
      "\n",
      "\n",
      "num_leaves, val_score: 1.079860:  30%|###       | 6/20 [00:33<00:43,  3.10s/it]\u001b[A\u001b[A\u001b[A\n",
      "\n",
      "\n",
      "num_leaves, val_score: 1.079860:  35%|###5      | 7/20 [00:33<00:49,  3.78s/it]\u001b[A\u001b[A\u001b[A[I 2023-12-28 15:55:27,735] Trial 13 finished with value: 1.0863929061974669 and parameters: {'num_leaves': 74}. Best is trial 9 with value: 1.0798596132031486.\n",
      "\n",
      "\n",
      "\n",
      "num_leaves, val_score: 1.079860:  35%|###5      | 7/20 [00:33<00:49,  3.78s/it]\u001b[A\u001b[A\u001b[A"
     ]
    },
    {
     "name": "stdout",
     "output_type": "stream",
     "text": [
      "Early stopping, best iteration is:\n",
      "[5]\tcv_agg's valid multi_logloss: 1.08639 + 0.00183585\n",
      "Training until validation scores don't improve for 100 rounds\n"
     ]
    },
    {
     "name": "stderr",
     "output_type": "stream",
     "text": [
      "\n",
      "\n",
      "\n",
      "num_leaves, val_score: 1.079860:  35%|###5      | 7/20 [00:39<00:49,  3.78s/it]\u001b[A\u001b[A\u001b[A\n",
      "\n",
      "\n",
      "num_leaves, val_score: 1.079860:  40%|####      | 8/20 [00:39<00:52,  4.35s/it]\u001b[A\u001b[A\u001b[A[I 2023-12-28 15:55:33,283] Trial 14 finished with value: 1.0868284384555755 and parameters: {'num_leaves': 77}. Best is trial 9 with value: 1.0798596132031486.\n",
      "\n",
      "\n",
      "\n",
      "num_leaves, val_score: 1.079860:  40%|####      | 8/20 [00:39<00:52,  4.35s/it]\u001b[A\u001b[A\u001b[A"
     ]
    },
    {
     "name": "stdout",
     "output_type": "stream",
     "text": [
      "Early stopping, best iteration is:\n",
      "[5]\tcv_agg's valid multi_logloss: 1.08683 + 0.0019337\n",
      "Training until validation scores don't improve for 100 rounds\n"
     ]
    },
    {
     "name": "stderr",
     "output_type": "stream",
     "text": [
      "\n",
      "\n",
      "\n",
      "num_leaves, val_score: 1.079860:  40%|####      | 8/20 [00:44<00:52,  4.35s/it]\u001b[A\u001b[A\u001b[A\n",
      "\n",
      "\n",
      "num_leaves, val_score: 1.079860:  45%|####5     | 9/20 [00:44<00:51,  4.70s/it]\u001b[A\u001b[A\u001b[A[I 2023-12-28 15:55:38,752] Trial 15 finished with value: 1.085885256958491 and parameters: {'num_leaves': 66}. Best is trial 9 with value: 1.0798596132031486.\n",
      "\n",
      "\n",
      "\n",
      "num_leaves, val_score: 1.079860:  45%|####5     | 9/20 [00:44<00:51,  4.70s/it]\u001b[A\u001b[A\u001b[A"
     ]
    },
    {
     "name": "stdout",
     "output_type": "stream",
     "text": [
      "Early stopping, best iteration is:\n",
      "[5]\tcv_agg's valid multi_logloss: 1.08589 + 0.00287396\n",
      "Training until validation scores don't improve for 100 rounds\n"
     ]
    },
    {
     "name": "stderr",
     "output_type": "stream",
     "text": [
      "\n",
      "\n",
      "\n",
      "num_leaves, val_score: 1.079860:  45%|####5     | 9/20 [00:47<00:51,  4.70s/it]\u001b[A\u001b[A\u001b[A\n",
      "\n",
      "\n",
      "num_leaves, val_score: 1.079860:  50%|#####     | 10/20 [00:47<00:39,  3.98s/it]\u001b[A\u001b[A\u001b[A[I 2023-12-28 15:55:41,122] Trial 16 finished with value: 1.083815017902591 and parameters: {'num_leaves': 9}. Best is trial 9 with value: 1.0798596132031486.\n",
      "\n",
      "\n",
      "\n",
      "num_leaves, val_score: 1.079860:  50%|#####     | 10/20 [00:47<00:39,  3.98s/it]\u001b[A\u001b[A\u001b[A"
     ]
    },
    {
     "name": "stdout",
     "output_type": "stream",
     "text": [
      "Early stopping, best iteration is:\n",
      "[13]\tcv_agg's valid multi_logloss: 1.08382 + 0.00505777\n",
      "Training until validation scores don't improve for 100 rounds\n"
     ]
    },
    {
     "name": "stderr",
     "output_type": "stream",
     "text": [
      "\n",
      "\n",
      "\n",
      "num_leaves, val_score: 1.079860:  50%|#####     | 10/20 [00:56<00:39,  3.98s/it]\u001b[A\u001b[A\u001b[A\n",
      "\n",
      "\n",
      "num_leaves, val_score: 1.079860:  55%|#####5    | 11/20 [00:56<00:49,  5.49s/it]\u001b[A\u001b[A\u001b[A[I 2023-12-28 15:55:50,041] Trial 17 finished with value: 1.0868657244719302 and parameters: {'num_leaves': 127}. Best is trial 9 with value: 1.0798596132031486.\n",
      "\n",
      "\n",
      "\n",
      "num_leaves, val_score: 1.079860:  55%|#####5    | 11/20 [00:56<00:49,  5.49s/it]\u001b[A\u001b[A\u001b[A"
     ]
    },
    {
     "name": "stdout",
     "output_type": "stream",
     "text": [
      "Early stopping, best iteration is:\n",
      "[5]\tcv_agg's valid multi_logloss: 1.08687 + 0.00200422\n",
      "Training until validation scores don't improve for 100 rounds\n"
     ]
    },
    {
     "name": "stderr",
     "output_type": "stream",
     "text": [
      "\n",
      "\n",
      "\n",
      "num_leaves, val_score: 1.079860:  55%|#####5    | 11/20 [01:02<00:49,  5.49s/it]\u001b[A\u001b[A\u001b[A\n",
      "\n",
      "\n",
      "num_leaves, val_score: 1.079860:  60%|######    | 12/20 [01:02<00:45,  5.70s/it]\u001b[A\u001b[A\u001b[A[I 2023-12-28 15:55:56,231] Trial 18 finished with value: 1.0862628411870525 and parameters: {'num_leaves': 54}. Best is trial 9 with value: 1.0798596132031486.\n",
      "\n",
      "\n",
      "\n",
      "num_leaves, val_score: 1.079860:  60%|######    | 12/20 [01:02<00:45,  5.70s/it]\u001b[A\u001b[A\u001b[A"
     ]
    },
    {
     "name": "stdout",
     "output_type": "stream",
     "text": [
      "Early stopping, best iteration is:\n",
      "[5]\tcv_agg's valid multi_logloss: 1.08626 + 0.00221614\n",
      "Training until validation scores don't improve for 100 rounds\n"
     ]
    },
    {
     "name": "stderr",
     "output_type": "stream",
     "text": [
      "\n",
      "\n",
      "\n",
      "num_leaves, val_score: 1.079860:  60%|######    | 12/20 [01:14<00:45,  5.70s/it]\u001b[A\u001b[A\u001b[A\n",
      "\n",
      "\n",
      "num_leaves, val_score: 1.079860:  65%|######5   | 13/20 [01:14<00:54,  7.79s/it]\u001b[A\u001b[A\u001b[A[I 2023-12-28 15:56:08,806] Trial 19 finished with value: 1.0873678867492722 and parameters: {'num_leaves': 125}. Best is trial 9 with value: 1.0798596132031486.\n",
      "\n",
      "\n",
      "\n",
      "num_leaves, val_score: 1.079860:  65%|######5   | 13/20 [01:14<00:54,  7.79s/it]\u001b[A\u001b[A\u001b[A"
     ]
    },
    {
     "name": "stdout",
     "output_type": "stream",
     "text": [
      "Early stopping, best iteration is:\n",
      "[5]\tcv_agg's valid multi_logloss: 1.08737 + 0.0024151\n",
      "Training until validation scores don't improve for 100 rounds\n"
     ]
    },
    {
     "name": "stderr",
     "output_type": "stream",
     "text": [
      "\n",
      "\n",
      "\n",
      "num_leaves, val_score: 1.079860:  65%|######5   | 13/20 [01:19<00:54,  7.79s/it]\u001b[A\u001b[A\u001b[A\n",
      "\n",
      "\n",
      "num_leaves, val_score: 1.079860:  70%|#######   | 14/20 [01:19<00:40,  6.78s/it]\u001b[A\u001b[A\u001b[A[I 2023-12-28 15:56:13,262] Trial 20 finished with value: 1.085501948865627 and parameters: {'num_leaves': 40}. Best is trial 9 with value: 1.0798596132031486.\n",
      "\n",
      "\n",
      "\n",
      "num_leaves, val_score: 1.079860:  70%|#######   | 14/20 [01:19<00:40,  6.78s/it]\u001b[A\u001b[A\u001b[A"
     ]
    },
    {
     "name": "stdout",
     "output_type": "stream",
     "text": [
      "Early stopping, best iteration is:\n",
      "[5]\tcv_agg's valid multi_logloss: 1.0855 + 0.00248559\n",
      "Training until validation scores don't improve for 100 rounds\n"
     ]
    },
    {
     "name": "stderr",
     "output_type": "stream",
     "text": [
      "\n",
      "\n",
      "\n",
      "num_leaves, val_score: 1.079860:  70%|#######   | 14/20 [01:20<00:40,  6.78s/it]\u001b[A\u001b[A\u001b[A\n",
      "\n",
      "\n",
      "num_leaves, val_score: 1.079860:  75%|#######5  | 15/20 [01:20<00:26,  5.21s/it]\u001b[A\u001b[A\u001b[A[I 2023-12-28 15:56:14,849] Trial 21 finished with value: 1.0798842379149267 and parameters: {'num_leaves': 3}. Best is trial 9 with value: 1.0798596132031486.\n",
      "\n",
      "\n",
      "\n",
      "num_leaves, val_score: 1.079860:  75%|#######5  | 15/20 [01:20<00:26,  5.21s/it]\u001b[A\u001b[A\u001b[A"
     ]
    },
    {
     "name": "stdout",
     "output_type": "stream",
     "text": [
      "Early stopping, best iteration is:\n",
      "[17]\tcv_agg's valid multi_logloss: 1.07988 + 0.0062746\n",
      "Training until validation scores don't improve for 100 rounds\n"
     ]
    },
    {
     "name": "stderr",
     "output_type": "stream",
     "text": [
      "\n",
      "\n",
      "\n",
      "num_leaves, val_score: 1.079860:  75%|#######5  | 15/20 [01:25<00:26,  5.21s/it]\u001b[A\u001b[A\u001b[A\n",
      "\n",
      "\n",
      "num_leaves, val_score: 1.079860:  80%|########  | 16/20 [01:25<00:19,  4.89s/it]\u001b[A\u001b[A\u001b[A[I 2023-12-28 15:56:18,982] Trial 22 finished with value: 1.0854415310152024 and parameters: {'num_leaves': 32}. Best is trial 9 with value: 1.0798596132031486.\n",
      "\n",
      "\n",
      "\n",
      "num_leaves, val_score: 1.079860:  80%|########  | 16/20 [01:25<00:19,  4.89s/it]\u001b[A\u001b[A\u001b[A"
     ]
    },
    {
     "name": "stdout",
     "output_type": "stream",
     "text": [
      "Early stopping, best iteration is:\n",
      "[5]\tcv_agg's valid multi_logloss: 1.08544 + 0.00258634\n",
      "Training until validation scores don't improve for 100 rounds\n"
     ]
    },
    {
     "name": "stderr",
     "output_type": "stream",
     "text": [
      "\n",
      "\n",
      "\n",
      "num_leaves, val_score: 1.079860:  80%|########  | 16/20 [01:31<00:19,  4.89s/it]\u001b[A\u001b[A\u001b[A\n",
      "\n",
      "\n",
      "num_leaves, val_score: 1.079860:  85%|########5 | 17/20 [01:31<00:16,  5.37s/it]\u001b[A\u001b[A\u001b[A[I 2023-12-28 15:56:25,474] Trial 23 finished with value: 1.0861248695213088 and parameters: {'num_leaves': 98}. Best is trial 9 with value: 1.0798596132031486.\n",
      "\n",
      "\n",
      "\n",
      "num_leaves, val_score: 1.079860:  85%|########5 | 17/20 [01:31<00:16,  5.37s/it]\u001b[A\u001b[A\u001b[A"
     ]
    },
    {
     "name": "stdout",
     "output_type": "stream",
     "text": [
      "Early stopping, best iteration is:\n",
      "[5]\tcv_agg's valid multi_logloss: 1.08612 + 0.00176452\n",
      "Training until validation scores don't improve for 100 rounds\n"
     ]
    },
    {
     "name": "stderr",
     "output_type": "stream",
     "text": [
      "\n",
      "\n",
      "\n",
      "num_leaves, val_score: 1.079860:  85%|########5 | 17/20 [01:34<00:16,  5.37s/it]\u001b[A\u001b[A\u001b[A\n",
      "\n",
      "\n",
      "num_leaves, val_score: 1.079860:  90%|######### | 18/20 [01:34<00:09,  4.66s/it]\u001b[A\u001b[A\u001b[A[I 2023-12-28 15:56:28,493] Trial 24 finished with value: 1.0849849534636953 and parameters: {'num_leaves': 27}. Best is trial 9 with value: 1.0798596132031486.\n",
      "\n",
      "\n",
      "\n",
      "num_leaves, val_score: 1.079860:  90%|######### | 18/20 [01:34<00:09,  4.66s/it]\u001b[A\u001b[A\u001b[A"
     ]
    },
    {
     "name": "stdout",
     "output_type": "stream",
     "text": [
      "Early stopping, best iteration is:\n",
      "[5]\tcv_agg's valid multi_logloss: 1.08498 + 0.00242654\n",
      "Training until validation scores don't improve for 100 rounds\n"
     ]
    },
    {
     "name": "stderr",
     "output_type": "stream",
     "text": [
      "\n",
      "\n",
      "\n",
      "num_leaves, val_score: 1.079860:  90%|######### | 18/20 [01:42<00:09,  4.66s/it]\u001b[A\u001b[A\u001b[A\n",
      "\n",
      "\n",
      "num_leaves, val_score: 1.079860:  95%|#########5| 19/20 [01:42<00:05,  5.77s/it]\u001b[A\u001b[A\u001b[A[I 2023-12-28 15:56:36,845] Trial 25 finished with value: 1.0872583705392227 and parameters: {'num_leaves': 182}. Best is trial 9 with value: 1.0798596132031486.\n",
      "\n",
      "\n",
      "\n",
      "num_leaves, val_score: 1.079860:  95%|#########5| 19/20 [01:42<00:05,  5.77s/it]\u001b[A\u001b[A\u001b[A"
     ]
    },
    {
     "name": "stdout",
     "output_type": "stream",
     "text": [
      "Early stopping, best iteration is:\n",
      "[5]\tcv_agg's valid multi_logloss: 1.08726 + 0.00296449\n",
      "Training until validation scores don't improve for 100 rounds\n"
     ]
    },
    {
     "name": "stderr",
     "output_type": "stream",
     "text": [
      "\n",
      "\n",
      "\n",
      "num_leaves, val_score: 1.079860:  95%|#########5| 19/20 [01:44<00:05,  5.77s/it]\u001b[A\u001b[A\u001b[A\n",
      "\n",
      "\n",
      "num_leaves, val_score: 1.079860: 100%|##########| 20/20 [01:44<00:00,  4.41s/it]\u001b[A\u001b[A\u001b[A[I 2023-12-28 15:56:38,066] Trial 26 finished with value: 1.0798842379149267 and parameters: {'num_leaves': 3}. Best is trial 9 with value: 1.0798596132031486.\n",
      "num_leaves, val_score: 1.079860: 100%|##########| 20/20 [01:44<00:00,  5.21s/it]\n"
     ]
    },
    {
     "name": "stdout",
     "output_type": "stream",
     "text": [
      "Early stopping, best iteration is:\n",
      "[17]\tcv_agg's valid multi_logloss: 1.07988 + 0.0062746\n"
     ]
    },
    {
     "name": "stderr",
     "output_type": "stream",
     "text": [
      "\n",
      "\n",
      "\n",
      "  0%|          | 0/10 [00:00<?, ?it/s]\u001b[A\u001b[A\u001b[A\n",
      "\n",
      "\n",
      "bagging, val_score: 1.079860:   0%|          | 0/10 [00:00<?, ?it/s]\u001b[A\u001b[A\u001b[A"
     ]
    },
    {
     "name": "stdout",
     "output_type": "stream",
     "text": [
      "Training until validation scores don't improve for 100 rounds\n"
     ]
    },
    {
     "name": "stderr",
     "output_type": "stream",
     "text": [
      "\n",
      "\n",
      "\n",
      "bagging, val_score: 1.079860:   0%|          | 0/10 [00:01<?, ?it/s]\u001b[A\u001b[A\u001b[A\n",
      "\n",
      "\n",
      "bagging, val_score: 1.079860:  10%|#         | 1/10 [00:01<00:09,  1.01s/it]\u001b[A\u001b[A\u001b[A[I 2023-12-28 15:56:39,092] Trial 27 finished with value: 1.0885264382904984 and parameters: {'bagging_fraction': 0.42606046836187317, 'bagging_freq': 3}. Best is trial 27 with value: 1.0885264382904984.\n",
      "\n",
      "\n",
      "\n",
      "bagging, val_score: 1.079860:  10%|#         | 1/10 [00:01<00:09,  1.01s/it]\u001b[A\u001b[A\u001b[A"
     ]
    },
    {
     "name": "stdout",
     "output_type": "stream",
     "text": [
      "Early stopping, best iteration is:\n",
      "[13]\tcv_agg's valid multi_logloss: 1.08853 + 0.00298326\n",
      "Training until validation scores don't improve for 100 rounds\n"
     ]
    },
    {
     "name": "stderr",
     "output_type": "stream",
     "text": [
      "\n",
      "\n",
      "\n",
      "bagging, val_score: 1.079788:  10%|#         | 1/10 [00:02<00:09,  1.01s/it]\u001b[A\u001b[A\u001b[A\n",
      "\n",
      "\n",
      "bagging, val_score: 1.079788:  20%|##        | 2/10 [00:02<00:10,  1.26s/it]\u001b[A\u001b[A\u001b[A[I 2023-12-28 15:56:40,528] Trial 28 finished with value: 1.0797877470389718 and parameters: {'bagging_fraction': 0.9932486353468164, 'bagging_freq': 7}. Best is trial 28 with value: 1.0797877470389718.\n",
      "\n",
      "\n",
      "\n",
      "bagging, val_score: 1.079788:  20%|##        | 2/10 [00:02<00:10,  1.26s/it]\u001b[A\u001b[A\u001b[A"
     ]
    },
    {
     "name": "stdout",
     "output_type": "stream",
     "text": [
      "Early stopping, best iteration is:\n",
      "[28]\tcv_agg's valid multi_logloss: 1.07979 + 0.00657075\n",
      "Training until validation scores don't improve for 100 rounds\n"
     ]
    },
    {
     "name": "stderr",
     "output_type": "stream",
     "text": [
      "\n",
      "\n",
      "\n",
      "bagging, val_score: 1.079788:  20%|##        | 2/10 [00:04<00:10,  1.26s/it]\u001b[A\u001b[A\u001b[A\n",
      "\n",
      "\n",
      "bagging, val_score: 1.079788:  30%|###       | 3/10 [00:04<00:09,  1.43s/it]\u001b[A\u001b[A\u001b[A[I 2023-12-28 15:56:42,151] Trial 29 finished with value: 1.080081787997979 and parameters: {'bagging_fraction': 0.9976114039842391, 'bagging_freq': 7}. Best is trial 28 with value: 1.0797877470389718.\n",
      "\n",
      "\n",
      "\n",
      "bagging, val_score: 1.079788:  30%|###       | 3/10 [00:04<00:09,  1.43s/it]\u001b[A\u001b[A\u001b[A"
     ]
    },
    {
     "name": "stdout",
     "output_type": "stream",
     "text": [
      "Early stopping, best iteration is:\n",
      "[28]\tcv_agg's valid multi_logloss: 1.08008 + 0.00762521\n",
      "Training until validation scores don't improve for 100 rounds\n"
     ]
    },
    {
     "name": "stderr",
     "output_type": "stream",
     "text": [
      "\n",
      "\n",
      "\n",
      "bagging, val_score: 1.079788:  30%|###       | 3/10 [00:05<00:09,  1.43s/it]\u001b[A\u001b[A\u001b[A\n",
      "\n",
      "\n",
      "bagging, val_score: 1.079788:  40%|####      | 4/10 [00:05<00:08,  1.47s/it]\u001b[A\u001b[A\u001b[A[I 2023-12-28 15:56:43,693] Trial 30 finished with value: 1.0800840217521015 and parameters: {'bagging_fraction': 0.9949099604129629, 'bagging_freq': 7}. Best is trial 28 with value: 1.0797877470389718.\n",
      "\n",
      "\n",
      "\n",
      "bagging, val_score: 1.079788:  40%|####      | 4/10 [00:05<00:08,  1.47s/it]\u001b[A\u001b[A\u001b[A"
     ]
    },
    {
     "name": "stdout",
     "output_type": "stream",
     "text": [
      "Early stopping, best iteration is:\n",
      "[28]\tcv_agg's valid multi_logloss: 1.08008 + 0.00716932\n",
      "Training until validation scores don't improve for 100 rounds\n"
     ]
    },
    {
     "name": "stderr",
     "output_type": "stream",
     "text": [
      "\n",
      "\n",
      "\n",
      "bagging, val_score: 1.079788:  40%|####      | 4/10 [00:06<00:08,  1.47s/it]\u001b[A\u001b[A\u001b[A\n",
      "\n",
      "\n",
      "bagging, val_score: 1.079788:  50%|#####     | 5/10 [00:06<00:06,  1.39s/it]\u001b[A\u001b[A\u001b[A[I 2023-12-28 15:56:44,945] Trial 31 finished with value: 1.0843059894450973 and parameters: {'bagging_fraction': 0.7692238798264861, 'bagging_freq': 1}. Best is trial 28 with value: 1.0797877470389718.\n",
      "\n",
      "\n",
      "\n",
      "bagging, val_score: 1.079788:  50%|#####     | 5/10 [00:06<00:06,  1.39s/it]\u001b[A\u001b[A\u001b[A"
     ]
    },
    {
     "name": "stdout",
     "output_type": "stream",
     "text": [
      "Early stopping, best iteration is:\n",
      "[17]\tcv_agg's valid multi_logloss: 1.08431 + 0.00385041\n",
      "Training until validation scores don't improve for 100 rounds\n"
     ]
    },
    {
     "name": "stderr",
     "output_type": "stream",
     "text": [
      "\n",
      "\n",
      "\n",
      "bagging, val_score: 1.079788:  50%|#####     | 5/10 [00:07<00:06,  1.39s/it]\u001b[A\u001b[A\u001b[A\n",
      "\n",
      "\n",
      "bagging, val_score: 1.079788:  60%|######    | 6/10 [00:07<00:05,  1.30s/it]\u001b[A\u001b[A\u001b[A[I 2023-12-28 15:56:46,071] Trial 32 finished with value: 1.082032490570975 and parameters: {'bagging_fraction': 0.7879613015670754, 'bagging_freq': 5}. Best is trial 28 with value: 1.0797877470389718.\n",
      "\n",
      "\n",
      "\n",
      "bagging, val_score: 1.079788:  60%|######    | 6/10 [00:07<00:05,  1.30s/it]\u001b[A\u001b[A\u001b[A"
     ]
    },
    {
     "name": "stdout",
     "output_type": "stream",
     "text": [
      "Early stopping, best iteration is:\n",
      "[23]\tcv_agg's valid multi_logloss: 1.08203 + 0.00603575\n",
      "Training until validation scores don't improve for 100 rounds\n"
     ]
    },
    {
     "name": "stderr",
     "output_type": "stream",
     "text": [
      "\n",
      "\n",
      "\n",
      "bagging, val_score: 1.079788:  60%|######    | 6/10 [00:09<00:05,  1.30s/it]\u001b[A\u001b[A\u001b[A\n",
      "\n",
      "\n",
      "bagging, val_score: 1.079788:  70%|#######   | 7/10 [00:09<00:03,  1.29s/it]\u001b[A\u001b[A\u001b[A[I 2023-12-28 15:56:47,345] Trial 33 finished with value: 1.0810422340340962 and parameters: {'bagging_fraction': 0.8546490954983746, 'bagging_freq': 5}. Best is trial 28 with value: 1.0797877470389718.\n",
      "\n",
      "\n",
      "\n",
      "bagging, val_score: 1.079788:  70%|#######   | 7/10 [00:09<00:03,  1.29s/it]\u001b[A\u001b[A\u001b[A"
     ]
    },
    {
     "name": "stdout",
     "output_type": "stream",
     "text": [
      "Early stopping, best iteration is:\n",
      "[21]\tcv_agg's valid multi_logloss: 1.08104 + 0.00512657\n",
      "Training until validation scores don't improve for 100 rounds\n"
     ]
    },
    {
     "name": "stderr",
     "output_type": "stream",
     "text": [
      "\n",
      "\n",
      "\n",
      "bagging, val_score: 1.079788:  70%|#######   | 7/10 [00:10<00:03,  1.29s/it]\u001b[A\u001b[A\u001b[A\n",
      "\n",
      "\n",
      "bagging, val_score: 1.079788:  80%|########  | 8/10 [00:10<00:02,  1.26s/it]\u001b[A\u001b[A\u001b[A[I 2023-12-28 15:56:48,534] Trial 34 finished with value: 1.0865241128788088 and parameters: {'bagging_fraction': 0.644642458619253, 'bagging_freq': 3}. Best is trial 28 with value: 1.0797877470389718.\n",
      "\n",
      "\n",
      "\n",
      "bagging, val_score: 1.079788:  80%|########  | 8/10 [00:10<00:02,  1.26s/it]\u001b[A\u001b[A\u001b[A"
     ]
    },
    {
     "name": "stdout",
     "output_type": "stream",
     "text": [
      "Early stopping, best iteration is:\n",
      "[16]\tcv_agg's valid multi_logloss: 1.08652 + 0.00231278\n",
      "Training until validation scores don't improve for 100 rounds\n"
     ]
    },
    {
     "name": "stderr",
     "output_type": "stream",
     "text": [
      "\n",
      "\n",
      "\n",
      "bagging, val_score: 1.079788:  80%|########  | 8/10 [00:11<00:02,  1.26s/it]\u001b[A\u001b[A\u001b[A\n",
      "\n",
      "\n",
      "bagging, val_score: 1.079788:  90%|######### | 9/10 [00:11<00:01,  1.20s/it]\u001b[A\u001b[A\u001b[A[I 2023-12-28 15:56:49,608] Trial 35 finished with value: 1.0852899075945308 and parameters: {'bagging_fraction': 0.6365563229892091, 'bagging_freq': 6}. Best is trial 28 with value: 1.0797877470389718.\n",
      "\n",
      "\n",
      "\n",
      "bagging, val_score: 1.079788:  90%|######### | 9/10 [00:11<00:01,  1.20s/it]\u001b[A\u001b[A\u001b[A"
     ]
    },
    {
     "name": "stdout",
     "output_type": "stream",
     "text": [
      "Early stopping, best iteration is:\n",
      "[16]\tcv_agg's valid multi_logloss: 1.08529 + 0.00297001\n",
      "Training until validation scores don't improve for 100 rounds\n"
     ]
    },
    {
     "name": "stderr",
     "output_type": "stream",
     "text": [
      "\n",
      "\n",
      "\n",
      "bagging, val_score: 1.079788:  90%|######### | 9/10 [00:12<00:01,  1.20s/it]\u001b[A\u001b[A\u001b[A\n",
      "\n",
      "\n",
      "bagging, val_score: 1.079788: 100%|##########| 10/10 [00:12<00:00,  1.18s/it]\u001b[A\u001b[A\u001b[A[I 2023-12-28 15:56:50,739] Trial 36 finished with value: 1.0810194849246033 and parameters: {'bagging_fraction': 0.90714379031878, 'bagging_freq': 1}. Best is trial 28 with value: 1.0797877470389718.\n",
      "bagging, val_score: 1.079788: 100%|##########| 10/10 [00:12<00:00,  1.27s/it]\n"
     ]
    },
    {
     "name": "stdout",
     "output_type": "stream",
     "text": [
      "Early stopping, best iteration is:\n",
      "[21]\tcv_agg's valid multi_logloss: 1.08102 + 0.00509935\n"
     ]
    },
    {
     "name": "stderr",
     "output_type": "stream",
     "text": [
      "\n",
      "\n",
      "\n",
      "  0%|          | 0/3 [00:00<?, ?it/s]\u001b[A\u001b[A\u001b[A\n",
      "\n",
      "\n",
      "feature_fraction_stage2, val_score: 1.079788:   0%|          | 0/3 [00:00<?, ?it/s]\u001b[A\u001b[A\u001b[A"
     ]
    },
    {
     "name": "stdout",
     "output_type": "stream",
     "text": [
      "Training until validation scores don't improve for 100 rounds\n"
     ]
    },
    {
     "name": "stderr",
     "output_type": "stream",
     "text": [
      "\n",
      "\n",
      "\n",
      "feature_fraction_stage2, val_score: 1.079788:   0%|          | 0/3 [00:01<?, ?it/s]\u001b[A\u001b[A\u001b[A\n",
      "\n",
      "\n",
      "feature_fraction_stage2, val_score: 1.079788:  33%|###3      | 1/3 [00:01<00:02,  1.40s/it]\u001b[A\u001b[A\u001b[A[I 2023-12-28 15:56:52,165] Trial 37 finished with value: 1.0818389874032026 and parameters: {'feature_fraction': 0.48000000000000004}. Best is trial 37 with value: 1.0818389874032026.\n",
      "\n",
      "\n",
      "\n",
      "feature_fraction_stage2, val_score: 1.079788:  33%|###3      | 1/3 [00:01<00:02,  1.40s/it]\u001b[A\u001b[A\u001b[A"
     ]
    },
    {
     "name": "stdout",
     "output_type": "stream",
     "text": [
      "Early stopping, best iteration is:\n",
      "[31]\tcv_agg's valid multi_logloss: 1.08184 + 0.00695452\n",
      "Training until validation scores don't improve for 100 rounds\n"
     ]
    },
    {
     "name": "stderr",
     "output_type": "stream",
     "text": [
      "\n",
      "\n",
      "\n",
      "feature_fraction_stage2, val_score: 1.079788:  33%|###3      | 1/3 [00:02<00:02,  1.40s/it]\u001b[A\u001b[A\u001b[A\n",
      "\n",
      "\n",
      "feature_fraction_stage2, val_score: 1.079788:  67%|######6   | 2/3 [00:02<00:01,  1.51s/it]\u001b[A\u001b[A\u001b[A[I 2023-12-28 15:56:53,753] Trial 38 finished with value: 1.0818389874032026 and parameters: {'feature_fraction': 0.44800000000000006}. Best is trial 37 with value: 1.0818389874032026.\n",
      "\n",
      "\n",
      "\n",
      "feature_fraction_stage2, val_score: 1.079788:  67%|######6   | 2/3 [00:03<00:01,  1.51s/it]\u001b[A\u001b[A\u001b[A"
     ]
    },
    {
     "name": "stdout",
     "output_type": "stream",
     "text": [
      "Early stopping, best iteration is:\n",
      "[31]\tcv_agg's valid multi_logloss: 1.08184 + 0.00695452\n",
      "Training until validation scores don't improve for 100 rounds\n"
     ]
    },
    {
     "name": "stderr",
     "output_type": "stream",
     "text": [
      "\n",
      "\n",
      "\n",
      "feature_fraction_stage2, val_score: 1.079788:  67%|######6   | 2/3 [00:04<00:01,  1.51s/it]\u001b[A\u001b[A\u001b[A\n",
      "\n",
      "\n",
      "feature_fraction_stage2, val_score: 1.079788: 100%|##########| 3/3 [00:04<00:00,  1.42s/it]\u001b[A\u001b[A\u001b[A[I 2023-12-28 15:56:55,059] Trial 39 finished with value: 1.0797877470389714 and parameters: {'feature_fraction': 0.41600000000000004}. Best is trial 39 with value: 1.0797877470389714.\n",
      "feature_fraction_stage2, val_score: 1.079788: 100%|##########| 3/3 [00:04<00:00,  1.44s/it]\n"
     ]
    },
    {
     "name": "stdout",
     "output_type": "stream",
     "text": [
      "Early stopping, best iteration is:\n",
      "[28]\tcv_agg's valid multi_logloss: 1.07979 + 0.00657075\n"
     ]
    },
    {
     "name": "stderr",
     "output_type": "stream",
     "text": [
      "\n",
      "\n",
      "\n",
      "  0%|          | 0/20 [00:00<?, ?it/s]\u001b[A\u001b[A\u001b[A\n",
      "\n",
      "\n",
      "regularization_factors, val_score: 1.079788:   0%|          | 0/20 [00:00<?, ?it/s]\u001b[A\u001b[A\u001b[A"
     ]
    },
    {
     "name": "stdout",
     "output_type": "stream",
     "text": [
      "Training until validation scores don't improve for 100 rounds\n"
     ]
    },
    {
     "name": "stderr",
     "output_type": "stream",
     "text": [
      "\n",
      "\n",
      "\n",
      "regularization_factors, val_score: 1.079787:   0%|          | 0/20 [00:01<?, ?it/s]\u001b[A\u001b[A\u001b[A\n",
      "\n",
      "\n",
      "regularization_factors, val_score: 1.079787:   5%|5         | 1/20 [00:01<00:29,  1.56s/it]\u001b[A\u001b[A\u001b[A[I 2023-12-28 15:56:56,643] Trial 40 finished with value: 1.0797873321734568 and parameters: {'lambda_l1': 3.339604838360883e-07, 'lambda_l2': 0.04532735029381254}. Best is trial 40 with value: 1.0797873321734568.\n",
      "\n",
      "\n",
      "\n",
      "regularization_factors, val_score: 1.079787:   5%|5         | 1/20 [00:01<00:29,  1.56s/it]\u001b[A\u001b[A\u001b[A"
     ]
    },
    {
     "name": "stdout",
     "output_type": "stream",
     "text": [
      "Early stopping, best iteration is:\n",
      "[28]\tcv_agg's valid multi_logloss: 1.07979 + 0.00657019\n",
      "Training until validation scores don't improve for 100 rounds\n"
     ]
    },
    {
     "name": "stderr",
     "output_type": "stream",
     "text": [
      "\n",
      "\n",
      "\n",
      "regularization_factors, val_score: 1.079787:   5%|5         | 1/20 [00:02<00:29,  1.56s/it]\u001b[A\u001b[A\u001b[A\n",
      "\n",
      "\n",
      "regularization_factors, val_score: 1.079787:  10%|#         | 2/20 [00:02<00:25,  1.43s/it]\u001b[A\u001b[A\u001b[A[I 2023-12-28 15:56:57,993] Trial 41 finished with value: 1.0797869517794794 and parameters: {'lambda_l1': 1.3719745493044053e-07, 'lambda_l2': 0.08691319257112744}. Best is trial 41 with value: 1.0797869517794794.\n",
      "\n",
      "\n",
      "\n",
      "regularization_factors, val_score: 1.079787:  10%|#         | 2/20 [00:02<00:25,  1.43s/it]\u001b[A\u001b[A\u001b[A"
     ]
    },
    {
     "name": "stdout",
     "output_type": "stream",
     "text": [
      "Early stopping, best iteration is:\n",
      "[28]\tcv_agg's valid multi_logloss: 1.07979 + 0.00656967\n",
      "Training until validation scores don't improve for 100 rounds\n"
     ]
    },
    {
     "name": "stderr",
     "output_type": "stream",
     "text": [
      "\n",
      "\n",
      "\n",
      "regularization_factors, val_score: 1.079787:  10%|#         | 2/20 [00:04<00:25,  1.43s/it]\u001b[A\u001b[A\u001b[A\n",
      "\n",
      "\n",
      "regularization_factors, val_score: 1.079787:  15%|#5        | 3/20 [00:04<00:23,  1.39s/it]\u001b[A\u001b[A\u001b[A[I 2023-12-28 15:56:59,321] Trial 42 finished with value: 1.079786891717363 and parameters: {'lambda_l1': 9.252895194229042e-08, 'lambda_l2': 0.09347992492951959}. Best is trial 42 with value: 1.079786891717363.\n",
      "\n",
      "\n",
      "\n",
      "regularization_factors, val_score: 1.079787:  15%|#5        | 3/20 [00:04<00:23,  1.39s/it]\u001b[A\u001b[A\u001b[A"
     ]
    },
    {
     "name": "stdout",
     "output_type": "stream",
     "text": [
      "Early stopping, best iteration is:\n",
      "[28]\tcv_agg's valid multi_logloss: 1.07979 + 0.00656958\n",
      "Training until validation scores don't improve for 100 rounds\n"
     ]
    },
    {
     "name": "stderr",
     "output_type": "stream",
     "text": [
      "\n",
      "\n",
      "\n",
      "regularization_factors, val_score: 1.079787:  15%|#5        | 3/20 [00:05<00:23,  1.39s/it]\u001b[A\u001b[A\u001b[A\n",
      "\n",
      "\n",
      "regularization_factors, val_score: 1.079787:  20%|##        | 4/20 [00:05<00:22,  1.40s/it]\u001b[A\u001b[A\u001b[A[I 2023-12-28 15:57:00,750] Trial 43 finished with value: 1.080060358548179 and parameters: {'lambda_l1': 8.835195397989762e-08, 'lambda_l2': 0.12645444268085781}. Best is trial 42 with value: 1.079786891717363.\n",
      "\n",
      "\n",
      "\n",
      "regularization_factors, val_score: 1.079787:  20%|##        | 4/20 [00:05<00:22,  1.40s/it]\u001b[A\u001b[A\u001b[A"
     ]
    },
    {
     "name": "stdout",
     "output_type": "stream",
     "text": [
      "Early stopping, best iteration is:\n",
      "[27]\tcv_agg's valid multi_logloss: 1.08006 + 0.00643125\n",
      "Training until validation scores don't improve for 100 rounds\n"
     ]
    },
    {
     "name": "stderr",
     "output_type": "stream",
     "text": [
      "\n",
      "\n",
      "\n",
      "regularization_factors, val_score: 1.079787:  20%|##        | 4/20 [00:06<00:22,  1.40s/it]\u001b[A\u001b[A\u001b[A\n",
      "\n",
      "\n",
      "regularization_factors, val_score: 1.079787:  25%|##5       | 5/20 [00:06<00:20,  1.36s/it]\u001b[A\u001b[A\u001b[A[I 2023-12-28 15:57:02,035] Trial 44 finished with value: 1.0797874586594054 and parameters: {'lambda_l1': 9.563496119286713e-08, 'lambda_l2': 0.03150563261832602}. Best is trial 42 with value: 1.079786891717363.\n",
      "\n",
      "\n",
      "\n",
      "regularization_factors, val_score: 1.079787:  25%|##5       | 5/20 [00:06<00:20,  1.36s/it]\u001b[A\u001b[A\u001b[A"
     ]
    },
    {
     "name": "stdout",
     "output_type": "stream",
     "text": [
      "Early stopping, best iteration is:\n",
      "[28]\tcv_agg's valid multi_logloss: 1.07979 + 0.00657036\n",
      "Training until validation scores don't improve for 100 rounds\n"
     ]
    },
    {
     "name": "stderr",
     "output_type": "stream",
     "text": [
      "\n",
      "\n",
      "\n",
      "regularization_factors, val_score: 1.079787:  25%|##5       | 5/20 [00:08<00:20,  1.36s/it]\u001b[A\u001b[A\u001b[A\n",
      "\n",
      "\n",
      "regularization_factors, val_score: 1.079787:  30%|###       | 6/20 [00:08<00:19,  1.39s/it]\u001b[A\u001b[A\u001b[A[I 2023-12-28 15:57:03,473] Trial 45 finished with value: 1.0797873729171577 and parameters: {'lambda_l1': 8.346695310730815e-08, 'lambda_l2': 0.04087144039618585}. Best is trial 42 with value: 1.079786891717363.\n",
      "\n",
      "\n",
      "\n",
      "regularization_factors, val_score: 1.079787:  30%|###       | 6/20 [00:08<00:19,  1.39s/it]\u001b[A\u001b[A\u001b[A"
     ]
    },
    {
     "name": "stdout",
     "output_type": "stream",
     "text": [
      "Early stopping, best iteration is:\n",
      "[28]\tcv_agg's valid multi_logloss: 1.07979 + 0.00657024\n",
      "Training until validation scores don't improve for 100 rounds\n"
     ]
    },
    {
     "name": "stderr",
     "output_type": "stream",
     "text": [
      "\n",
      "\n",
      "\n",
      "regularization_factors, val_score: 1.079787:  30%|###       | 6/20 [00:09<00:19,  1.39s/it]\u001b[A\u001b[A\u001b[A\n",
      "\n",
      "\n",
      "regularization_factors, val_score: 1.079787:  35%|###5      | 7/20 [00:09<00:18,  1.42s/it]\u001b[A\u001b[A\u001b[A[I 2023-12-28 15:57:04,960] Trial 46 finished with value: 1.079787225251414 and parameters: {'lambda_l1': 1.0126761793512992e-07, 'lambda_l2': 0.057010683569336675}. Best is trial 42 with value: 1.079786891717363.\n",
      "\n",
      "\n",
      "\n",
      "regularization_factors, val_score: 1.079787:  35%|###5      | 7/20 [00:09<00:18,  1.42s/it]\u001b[A\u001b[A\u001b[A"
     ]
    },
    {
     "name": "stdout",
     "output_type": "stream",
     "text": [
      "Early stopping, best iteration is:\n",
      "[28]\tcv_agg's valid multi_logloss: 1.07979 + 0.00657004\n",
      "Training until validation scores don't improve for 100 rounds\n"
     ]
    },
    {
     "name": "stderr",
     "output_type": "stream",
     "text": [
      "\n",
      "\n",
      "\n",
      "regularization_factors, val_score: 1.079787:  35%|###5      | 7/20 [00:11<00:18,  1.42s/it]\u001b[A\u001b[A\u001b[A\n",
      "\n",
      "\n",
      "regularization_factors, val_score: 1.079787:  40%|####      | 8/20 [00:11<00:17,  1.42s/it]\u001b[A\u001b[A\u001b[A[I 2023-12-28 15:57:06,384] Trial 47 finished with value: 1.0797872373109882 and parameters: {'lambda_l1': 1.1289160405551774e-07, 'lambda_l2': 0.055693914296143}. Best is trial 42 with value: 1.079786891717363.\n",
      "\n",
      "\n",
      "\n",
      "regularization_factors, val_score: 1.079787:  40%|####      | 8/20 [00:11<00:17,  1.42s/it]\u001b[A\u001b[A\u001b[A"
     ]
    },
    {
     "name": "stdout",
     "output_type": "stream",
     "text": [
      "Early stopping, best iteration is:\n",
      "[28]\tcv_agg's valid multi_logloss: 1.07979 + 0.00657006\n",
      "Training until validation scores don't improve for 100 rounds\n"
     ]
    },
    {
     "name": "stderr",
     "output_type": "stream",
     "text": [
      "\n",
      "\n",
      "\n",
      "regularization_factors, val_score: 1.079787:  40%|####      | 8/20 [00:12<00:17,  1.42s/it]\u001b[A\u001b[A\u001b[A\n",
      "\n",
      "\n",
      "regularization_factors, val_score: 1.079787:  45%|####5     | 9/20 [00:12<00:14,  1.36s/it]\u001b[A\u001b[A\u001b[A[I 2023-12-28 15:57:07,607] Trial 48 finished with value: 1.0797868946521076 and parameters: {'lambda_l1': 1.3962022788459746e-07, 'lambda_l2': 0.09315738192127901}. Best is trial 42 with value: 1.079786891717363.\n",
      "\n",
      "\n",
      "\n",
      "regularization_factors, val_score: 1.079787:  45%|####5     | 9/20 [00:12<00:14,  1.36s/it]\u001b[A\u001b[A\u001b[A"
     ]
    },
    {
     "name": "stdout",
     "output_type": "stream",
     "text": [
      "Early stopping, best iteration is:\n",
      "[28]\tcv_agg's valid multi_logloss: 1.07979 + 0.00656959\n",
      "Training until validation scores don't improve for 100 rounds\n"
     ]
    },
    {
     "name": "stderr",
     "output_type": "stream",
     "text": [
      "\n",
      "\n",
      "\n",
      "regularization_factors, val_score: 1.079787:  45%|####5     | 9/20 [00:14<00:14,  1.36s/it]\u001b[A\u001b[A\u001b[A\n",
      "\n",
      "\n",
      "regularization_factors, val_score: 1.079787:  50%|#####     | 10/20 [00:14<00:15,  1.54s/it]\u001b[A\u001b[A\u001b[A[I 2023-12-28 15:57:09,555] Trial 49 finished with value: 1.0800601976015123 and parameters: {'lambda_l1': 1.5497737590079684e-07, 'lambda_l2': 0.1479193783844507}. Best is trial 42 with value: 1.079786891717363.\n",
      "\n",
      "\n",
      "\n",
      "regularization_factors, val_score: 1.079787:  50%|#####     | 10/20 [00:14<00:15,  1.54s/it]\u001b[A\u001b[A\u001b[A"
     ]
    },
    {
     "name": "stdout",
     "output_type": "stream",
     "text": [
      "Early stopping, best iteration is:\n",
      "[27]\tcv_agg's valid multi_logloss: 1.08006 + 0.006431\n",
      "Training until validation scores don't improve for 100 rounds\n"
     ]
    },
    {
     "name": "stderr",
     "output_type": "stream",
     "text": [
      "\n",
      "\n",
      "\n",
      "regularization_factors, val_score: 1.079368:  50%|#####     | 10/20 [00:15<00:15,  1.54s/it]\u001b[A\u001b[A\u001b[A\n",
      "\n",
      "\n",
      "regularization_factors, val_score: 1.079368:  55%|#####5    | 11/20 [00:15<00:13,  1.48s/it]\u001b[A\u001b[A\u001b[A[I 2023-12-28 15:57:10,913] Trial 50 finished with value: 1.079368267622708 and parameters: {'lambda_l1': 0.007793829127041855, 'lambda_l2': 4.987829252453812}. Best is trial 50 with value: 1.079368267622708.\n",
      "\n",
      "\n",
      "\n",
      "regularization_factors, val_score: 1.079368:  55%|#####5    | 11/20 [00:15<00:13,  1.48s/it]\u001b[A\u001b[A\u001b[A"
     ]
    },
    {
     "name": "stdout",
     "output_type": "stream",
     "text": [
      "Early stopping, best iteration is:\n",
      "[28]\tcv_agg's valid multi_logloss: 1.07937 + 0.00673972\n",
      "Training until validation scores don't improve for 100 rounds\n"
     ]
    },
    {
     "name": "stderr",
     "output_type": "stream",
     "text": [
      "\n",
      "\n",
      "\n",
      "regularization_factors, val_score: 1.079131:  55%|#####5    | 11/20 [00:17<00:13,  1.48s/it]\u001b[A\u001b[A\u001b[A\n",
      "\n",
      "\n",
      "regularization_factors, val_score: 1.079131:  60%|######    | 12/20 [00:17<00:12,  1.51s/it]\u001b[A\u001b[A\u001b[A[I 2023-12-28 15:57:12,490] Trial 51 finished with value: 1.0791313169162815 and parameters: {'lambda_l1': 0.004141794964690501, 'lambda_l2': 9.570192512640041}. Best is trial 51 with value: 1.0791313169162815.\n",
      "\n",
      "\n",
      "\n",
      "regularization_factors, val_score: 1.079131:  60%|######    | 12/20 [00:17<00:12,  1.51s/it]\u001b[A\u001b[A\u001b[A"
     ]
    },
    {
     "name": "stdout",
     "output_type": "stream",
     "text": [
      "Early stopping, best iteration is:\n",
      "[27]\tcv_agg's valid multi_logloss: 1.07913 + 0.00646642\n",
      "Training until validation scores don't improve for 100 rounds\n"
     ]
    },
    {
     "name": "stderr",
     "output_type": "stream",
     "text": [
      "\n",
      "\n",
      "\n",
      "regularization_factors, val_score: 1.079131:  60%|######    | 12/20 [00:18<00:12,  1.51s/it]\u001b[A\u001b[A\u001b[A\n",
      "\n",
      "\n",
      "regularization_factors, val_score: 1.079131:  65%|######5   | 13/20 [00:18<00:10,  1.49s/it]\u001b[A\u001b[A\u001b[A[I 2023-12-28 15:57:13,935] Trial 52 finished with value: 1.079331828369234 and parameters: {'lambda_l1': 0.010834191137829999, 'lambda_l2': 6.870064010223949}. Best is trial 51 with value: 1.0791313169162815.\n",
      "\n",
      "\n",
      "\n",
      "regularization_factors, val_score: 1.079131:  65%|######5   | 13/20 [00:18<00:10,  1.49s/it]\u001b[A\u001b[A\u001b[A"
     ]
    },
    {
     "name": "stdout",
     "output_type": "stream",
     "text": [
      "Early stopping, best iteration is:\n",
      "[27]\tcv_agg's valid multi_logloss: 1.07933 + 0.00637711\n",
      "Training until validation scores don't improve for 100 rounds\n"
     ]
    },
    {
     "name": "stderr",
     "output_type": "stream",
     "text": [
      "\n",
      "\n",
      "\n",
      "regularization_factors, val_score: 1.079131:  65%|######5   | 13/20 [00:20<00:10,  1.49s/it]\u001b[A\u001b[A\u001b[A\n",
      "\n",
      "\n",
      "regularization_factors, val_score: 1.079131:  70%|#######   | 14/20 [00:20<00:08,  1.46s/it]\u001b[A\u001b[A\u001b[A[I 2023-12-28 15:57:15,304] Trial 53 finished with value: 1.079200314697808 and parameters: {'lambda_l1': 0.006968910406716092, 'lambda_l2': 8.301859967277174}. Best is trial 51 with value: 1.0791313169162815.\n",
      "\n",
      "\n",
      "\n",
      "regularization_factors, val_score: 1.079131:  70%|#######   | 14/20 [00:20<00:08,  1.46s/it]\u001b[A\u001b[A\u001b[A"
     ]
    },
    {
     "name": "stdout",
     "output_type": "stream",
     "text": [
      "Early stopping, best iteration is:\n",
      "[27]\tcv_agg's valid multi_logloss: 1.0792 + 0.00638677\n",
      "Training until validation scores don't improve for 100 rounds\n"
     ]
    },
    {
     "name": "stderr",
     "output_type": "stream",
     "text": [
      "\n",
      "\n",
      "\n",
      "regularization_factors, val_score: 1.079131:  70%|#######   | 14/20 [00:21<00:08,  1.46s/it]\u001b[A\u001b[A\u001b[A\n",
      "\n",
      "\n",
      "regularization_factors, val_score: 1.079131:  75%|#######5  | 15/20 [00:21<00:07,  1.51s/it]\u001b[A\u001b[A\u001b[A[I 2023-12-28 15:57:16,933] Trial 54 finished with value: 1.0792042201188814 and parameters: {'lambda_l1': 0.006739175986583156, 'lambda_l2': 8.749805299338613}. Best is trial 51 with value: 1.0791313169162815.\n",
      "\n",
      "\n",
      "\n",
      "regularization_factors, val_score: 1.079131:  75%|#######5  | 15/20 [00:21<00:07,  1.51s/it]\u001b[A\u001b[A\u001b[A"
     ]
    },
    {
     "name": "stdout",
     "output_type": "stream",
     "text": [
      "Early stopping, best iteration is:\n",
      "[27]\tcv_agg's valid multi_logloss: 1.0792 + 0.00637861\n",
      "Training until validation scores don't improve for 100 rounds\n"
     ]
    },
    {
     "name": "stderr",
     "output_type": "stream",
     "text": [
      "\n",
      "\n",
      "\n",
      "regularization_factors, val_score: 1.079093:  75%|#######5  | 15/20 [00:23<00:07,  1.51s/it]\u001b[A\u001b[A\u001b[A\n",
      "\n",
      "\n",
      "regularization_factors, val_score: 1.079093:  80%|########  | 16/20 [00:23<00:05,  1.46s/it]\u001b[A\u001b[A\u001b[A[I 2023-12-28 15:57:18,265] Trial 55 finished with value: 1.0790925928696484 and parameters: {'lambda_l1': 0.009130212758948495, 'lambda_l2': 9.375459794770714}. Best is trial 55 with value: 1.0790925928696484.\n",
      "\n",
      "\n",
      "\n",
      "regularization_factors, val_score: 1.079093:  80%|########  | 16/20 [00:23<00:05,  1.46s/it]\u001b[A\u001b[A\u001b[A"
     ]
    },
    {
     "name": "stdout",
     "output_type": "stream",
     "text": [
      "Early stopping, best iteration is:\n",
      "[28]\tcv_agg's valid multi_logloss: 1.07909 + 0.00680562\n",
      "Training until validation scores don't improve for 100 rounds\n"
     ]
    },
    {
     "name": "stderr",
     "output_type": "stream",
     "text": [
      "\n",
      "\n",
      "\n",
      "regularization_factors, val_score: 1.079093:  80%|########  | 16/20 [00:24<00:05,  1.46s/it]\u001b[A\u001b[A\u001b[A\n",
      "\n",
      "\n",
      "regularization_factors, val_score: 1.079093:  85%|########5 | 17/20 [00:24<00:04,  1.39s/it]\u001b[A\u001b[A\u001b[A[I 2023-12-28 15:57:19,506] Trial 56 finished with value: 1.0793684613830081 and parameters: {'lambda_l1': 0.015497844818209781, 'lambda_l2': 4.959845039542897}. Best is trial 55 with value: 1.0790925928696484.\n",
      "\n",
      "\n",
      "\n",
      "regularization_factors, val_score: 1.079093:  85%|########5 | 17/20 [00:24<00:04,  1.39s/it]\u001b[A\u001b[A\u001b[A"
     ]
    },
    {
     "name": "stdout",
     "output_type": "stream",
     "text": [
      "Early stopping, best iteration is:\n",
      "[28]\tcv_agg's valid multi_logloss: 1.07937 + 0.00673983\n",
      "Training until validation scores don't improve for 100 rounds\n"
     ]
    },
    {
     "name": "stderr",
     "output_type": "stream",
     "text": [
      "\n",
      "\n",
      "\n",
      "regularization_factors, val_score: 1.079093:  85%|########5 | 17/20 [00:25<00:04,  1.39s/it]\u001b[A\u001b[A\u001b[A\n",
      "\n",
      "\n",
      "regularization_factors, val_score: 1.079093:  90%|######### | 18/20 [00:25<00:02,  1.36s/it]\u001b[A\u001b[A\u001b[A[I 2023-12-28 15:57:20,785] Trial 57 finished with value: 1.0791771312117167 and parameters: {'lambda_l1': 0.009766962000396796, 'lambda_l2': 9.06249209180473}. Best is trial 55 with value: 1.0790925928696484.\n",
      "\n",
      "\n",
      "\n",
      "regularization_factors, val_score: 1.079093:  90%|######### | 18/20 [00:25<00:02,  1.36s/it]\u001b[A\u001b[A\u001b[A"
     ]
    },
    {
     "name": "stdout",
     "output_type": "stream",
     "text": [
      "Early stopping, best iteration is:\n",
      "[27]\tcv_agg's valid multi_logloss: 1.07918 + 0.00639205\n",
      "Training until validation scores don't improve for 100 rounds\n"
     ]
    },
    {
     "name": "stderr",
     "output_type": "stream",
     "text": [
      "\n",
      "\n",
      "\n",
      "regularization_factors, val_score: 1.079093:  90%|######### | 18/20 [00:27<00:02,  1.36s/it]\u001b[A\u001b[A\u001b[A\n",
      "\n",
      "\n",
      "regularization_factors, val_score: 1.079093:  95%|#########5| 19/20 [00:27<00:01,  1.38s/it]\u001b[A\u001b[A\u001b[A[I 2023-12-28 15:57:22,209] Trial 58 finished with value: 1.0792003272270294 and parameters: {'lambda_l1': 0.0046672948540060506, 'lambda_l2': 8.300261781909482}. Best is trial 55 with value: 1.0790925928696484.\n",
      "\n",
      "\n",
      "\n",
      "regularization_factors, val_score: 1.079093:  95%|#########5| 19/20 [00:27<00:01,  1.38s/it]\u001b[A\u001b[A\u001b[A"
     ]
    },
    {
     "name": "stdout",
     "output_type": "stream",
     "text": [
      "Early stopping, best iteration is:\n",
      "[27]\tcv_agg's valid multi_logloss: 1.0792 + 0.00638685\n",
      "Training until validation scores don't improve for 100 rounds\n"
     ]
    },
    {
     "name": "stderr",
     "output_type": "stream",
     "text": [
      "\n",
      "\n",
      "\n",
      "regularization_factors, val_score: 1.079092:  95%|#########5| 19/20 [00:30<00:01,  1.38s/it]\u001b[A\u001b[A\u001b[A\n",
      "\n",
      "\n",
      "regularization_factors, val_score: 1.079092: 100%|##########| 20/20 [00:30<00:00,  1.85s/it]\u001b[A\u001b[A\u001b[A[I 2023-12-28 15:57:25,153] Trial 59 finished with value: 1.0790918893298098 and parameters: {'lambda_l1': 0.001584138702294125, 'lambda_l2': 9.468955769724898}. Best is trial 59 with value: 1.0790918893298098.\n",
      "regularization_factors, val_score: 1.079092: 100%|##########| 20/20 [00:30<00:00,  1.50s/it]\n"
     ]
    },
    {
     "name": "stdout",
     "output_type": "stream",
     "text": [
      "Early stopping, best iteration is:\n",
      "[28]\tcv_agg's valid multi_logloss: 1.07909 + 0.00680478\n"
     ]
    },
    {
     "name": "stderr",
     "output_type": "stream",
     "text": [
      "\n",
      "\n",
      "\n",
      "  0%|          | 0/5 [00:00<?, ?it/s]\u001b[A\u001b[A\u001b[A\n",
      "\n",
      "\n",
      "min_child_samples, val_score: 1.079092:   0%|          | 0/5 [00:00<?, ?it/s]\u001b[A\u001b[A\u001b[A"
     ]
    },
    {
     "name": "stdout",
     "output_type": "stream",
     "text": [
      "Training until validation scores don't improve for 100 rounds\n"
     ]
    },
    {
     "name": "stderr",
     "output_type": "stream",
     "text": [
      "\n",
      "\n",
      "\n",
      "min_child_samples, val_score: 1.079092:   0%|          | 0/5 [00:01<?, ?it/s]\u001b[A\u001b[A\u001b[A\n",
      "\n",
      "\n",
      "min_child_samples, val_score: 1.079092:  20%|##        | 1/5 [00:01<00:06,  1.72s/it]\u001b[A\u001b[A\u001b[A[I 2023-12-28 15:57:26,910] Trial 60 finished with value: 1.0790918893298096 and parameters: {'min_child_samples': 50}. Best is trial 60 with value: 1.0790918893298096.\n",
      "\n",
      "\n",
      "\n",
      "min_child_samples, val_score: 1.079092:  20%|##        | 1/5 [00:01<00:06,  1.72s/it]\u001b[A\u001b[A\u001b[A"
     ]
    },
    {
     "name": "stdout",
     "output_type": "stream",
     "text": [
      "Early stopping, best iteration is:\n",
      "[28]\tcv_agg's valid multi_logloss: 1.07909 + 0.00680478\n",
      "Training until validation scores don't improve for 100 rounds\n"
     ]
    },
    {
     "name": "stderr",
     "output_type": "stream",
     "text": [
      "\n",
      "\n",
      "\n",
      "min_child_samples, val_score: 1.079092:  20%|##        | 1/5 [00:03<00:06,  1.72s/it]\u001b[A\u001b[A\u001b[A\n",
      "\n",
      "\n",
      "min_child_samples, val_score: 1.079092:  40%|####      | 2/5 [00:03<00:05,  1.68s/it]\u001b[A\u001b[A\u001b[A[I 2023-12-28 15:57:28,549] Trial 61 finished with value: 1.0790918893298096 and parameters: {'min_child_samples': 100}. Best is trial 60 with value: 1.0790918893298096.\n",
      "\n",
      "\n",
      "\n",
      "min_child_samples, val_score: 1.079092:  40%|####      | 2/5 [00:03<00:05,  1.68s/it]\u001b[A\u001b[A\u001b[A"
     ]
    },
    {
     "name": "stdout",
     "output_type": "stream",
     "text": [
      "Early stopping, best iteration is:\n",
      "[28]\tcv_agg's valid multi_logloss: 1.07909 + 0.00680478\n",
      "Training until validation scores don't improve for 100 rounds\n"
     ]
    },
    {
     "name": "stderr",
     "output_type": "stream",
     "text": [
      "\n",
      "\n",
      "\n",
      "min_child_samples, val_score: 1.079092:  40%|####      | 2/5 [00:04<00:05,  1.68s/it]\u001b[A\u001b[A\u001b[A\n",
      "\n",
      "\n",
      "min_child_samples, val_score: 1.079092:  60%|######    | 3/5 [00:04<00:03,  1.63s/it]\u001b[A\u001b[A\u001b[A[I 2023-12-28 15:57:30,125] Trial 62 finished with value: 1.0790918893298096 and parameters: {'min_child_samples': 10}. Best is trial 60 with value: 1.0790918893298096.\n",
      "\n",
      "\n",
      "\n",
      "min_child_samples, val_score: 1.079092:  60%|######    | 3/5 [00:04<00:03,  1.63s/it]\u001b[A\u001b[A\u001b[A"
     ]
    },
    {
     "name": "stdout",
     "output_type": "stream",
     "text": [
      "Early stopping, best iteration is:\n",
      "[28]\tcv_agg's valid multi_logloss: 1.07909 + 0.00680478\n",
      "Training until validation scores don't improve for 100 rounds\n"
     ]
    },
    {
     "name": "stderr",
     "output_type": "stream",
     "text": [
      "\n",
      "\n",
      "\n",
      "min_child_samples, val_score: 1.079092:  60%|######    | 3/5 [00:06<00:03,  1.63s/it]\u001b[A\u001b[A\u001b[A\n",
      "\n",
      "\n",
      "min_child_samples, val_score: 1.079092:  80%|########  | 4/5 [00:06<00:01,  1.54s/it]\u001b[A\u001b[A\u001b[A[I 2023-12-28 15:57:31,523] Trial 63 finished with value: 1.0790918893298096 and parameters: {'min_child_samples': 25}. Best is trial 60 with value: 1.0790918893298096.\n",
      "\n",
      "\n",
      "\n",
      "min_child_samples, val_score: 1.079092:  80%|########  | 4/5 [00:06<00:01,  1.54s/it]\u001b[A\u001b[A\u001b[A"
     ]
    },
    {
     "name": "stdout",
     "output_type": "stream",
     "text": [
      "Early stopping, best iteration is:\n",
      "[28]\tcv_agg's valid multi_logloss: 1.07909 + 0.00680478\n",
      "Training until validation scores don't improve for 100 rounds\n"
     ]
    },
    {
     "name": "stderr",
     "output_type": "stream",
     "text": [
      "\n",
      "\n",
      "\n",
      "min_child_samples, val_score: 1.079092:  80%|########  | 4/5 [00:07<00:01,  1.54s/it]\u001b[A\u001b[A\u001b[A\n",
      "\n",
      "\n",
      "min_child_samples, val_score: 1.079092: 100%|##########| 5/5 [00:07<00:00,  1.56s/it]\u001b[A\u001b[A\u001b[A[I 2023-12-28 15:57:33,127] Trial 64 finished with value: 1.0790918893298094 and parameters: {'min_child_samples': 5}. Best is trial 64 with value: 1.0790918893298094.\n",
      "min_child_samples, val_score: 1.079092: 100%|##########| 5/5 [00:07<00:00,  1.59s/it]"
     ]
    },
    {
     "name": "stdout",
     "output_type": "stream",
     "text": [
      "Early stopping, best iteration is:\n",
      "[28]\tcv_agg's valid multi_logloss: 1.07909 + 0.00680478\n"
     ]
    },
    {
     "name": "stderr",
     "output_type": "stream",
     "text": [
      "\n"
     ]
    }
   ],
   "source": [
    "#参照データ\n",
    "X = select_train_df\n",
    "y = val_df\n",
    "\n",
    "#データ分割\n",
    "X_train, X_eval, y_train, y_eval = train_test_split(X, y, test_size=0.3, random_state=0, stratify=y)\n",
    "\n",
    "\n",
    "#lihgtGBMでの重み付け\n",
    "train_weight = compute_sample_weight(class_weight='balanced', y=y_train).astype('float32')\n",
    "trainval = lgbo.Dataset(X_train, y_train, weight=train_weight)\n",
    "\n",
    "\n",
    "\n",
    "#探索用の最低限のパラメーター\n",
    "params ={\n",
    "    'boosting_type':'gbdt',\n",
    "    'objective':'multiclass',\n",
    "    'metric':'multi_logloss',\n",
    "    'num_class':3,\n",
    "    'verbosity':-1,\n",
    "}\n",
    "\n",
    "\n",
    "\n",
    "#目玉のCV設定\n",
    "cv = StratifiedKFold(n_splits=5, shuffle=True, random_state=0)\n",
    "\n",
    "#チューナー設定\n",
    "tuner = lgbo.LightGBMTunerCV(params, trainval, nfold=cv, callbacks=[early_stopping(100)])\n",
    "\n",
    "#パラメーター探索の実行\n",
    "tuner.run()"
   ]
  },
  {
   "cell_type": "code",
   "execution_count": 491,
   "id": "a7ffc791-f684-4283-a998-abec43689be3",
   "metadata": {},
   "outputs": [
    {
     "data": {
      "text/plain": [
       "{'boosting_type': 'gbdt',\n",
       " 'objective': 'multiclass',\n",
       " 'metric': 'multi_logloss',\n",
       " 'num_class': 3,\n",
       " 'verbosity': -1,\n",
       " 'feature_pre_filter': False,\n",
       " 'lambda_l1': 0.33946625742004943,\n",
       " 'lambda_l2': 0.1826561384760263,\n",
       " 'num_leaves': 2,\n",
       " 'feature_fraction': 0.58,\n",
       " 'bagging_fraction': 0.9942494087700924,\n",
       " 'bagging_freq': 4,\n",
       " 'min_child_samples': 50}"
      ]
     },
     "execution_count": 491,
     "metadata": {},
     "output_type": "execute_result"
    }
   ],
   "source": [
    "tuner.best_params"
   ]
  },
  {
   "cell_type": "code",
   "execution_count": null,
   "id": "10d04cf8-e78c-4d05-9355-cdb81a662d46",
   "metadata": {},
   "outputs": [],
   "source": []
  },
  {
   "cell_type": "code",
   "execution_count": 507,
   "id": "121b9884-6fca-4ef6-a885-e0997e11632c",
   "metadata": {},
   "outputs": [
    {
     "name": "stdout",
     "output_type": "stream",
     "text": [
      "Training until validation scores don't improve for 100 rounds\n",
      "Early stopping, best iteration is:\n",
      "[716]\tvalid_0's multi_logloss: 1.07134\n"
     ]
    }
   ],
   "source": [
    "#チューニング後の予測\n",
    "params = tuner.best_params\n",
    "\n",
    "\n",
    "#参照データ\n",
    "X = select_train_df\n",
    "y = val_df\n",
    "\n",
    "#データ分割\n",
    "X_train, X_eval, y_train, y_eval = train_test_split(X, y, test_size=0.3, random_state=0, stratify=y)\n",
    "\n",
    "\n",
    "#lihgtGBMでの重み付け\n",
    "train_weight = compute_sample_weight(class_weight='balanced', y=y_train).astype('float32')\n",
    "weighted_train = lgb.Dataset(X_train, y_train, weight=train_weight)\n",
    "weighted_test = lgb.Dataset(X_eval, label=y_eval, reference=lgb_train)\n",
    "\n",
    "\n",
    "#モデルのトレーニング\n",
    "evals_result = {} \n",
    "\n",
    "model = lgb.train(\n",
    "    params,\n",
    "    weighted_train,\n",
    "    valid_sets=weighted_test,\n",
    "    num_boost_round=1000,\n",
    "    callbacks=[lgb.early_stopping(stopping_rounds=100),  lgb.record_evaluation(evals_result)])"
   ]
  },
  {
   "cell_type": "code",
   "execution_count": 493,
   "id": "d603e9d9-f8e6-49e1-a67c-74e5572baf37",
   "metadata": {},
   "outputs": [
    {
     "name": "stdout",
     "output_type": "stream",
     "text": [
      "f1_score_score:0.27720231053687877\n",
      "accuracy_score:0.3645763842561708\n",
      "precision_score:0.3510397307097104\n",
      "recall_score:0.3753116270832127\n"
     ]
    },
    {
     "data": {
      "image/png": "[encoded data removed]",
      "text/plain": [
       "<Figure size 640x480 with 1 Axes>"
      ]
     },
     "metadata": {},
     "output_type": "display_data"
    }
   ],
   "source": [
    "scores(model, X_eval, y_eval)"
   ]
  },
  {
   "cell_type": "code",
   "execution_count": null,
   "id": "fc21c40b-7d4a-433c-89d5-9864d23b97da",
   "metadata": {},
   "outputs": [],
   "source": []
  },
  {
   "cell_type": "code",
   "execution_count": null,
   "id": "157a3ed0-f172-408f-9c34-8415f12cc114",
   "metadata": {},
   "outputs": [],
   "source": []
  },
  {
   "cell_type": "markdown",
   "id": "df3d3eed-b98b-4054-8ef7-bdd42886c24e",
   "metadata": {},
   "source": [
    "次の課題\n",
    "\n",
    "・アンダーフィッティング\n",
    " →ラベルエンコーディングだけでなく、one-hotも使う -> モデルよりもデータが悪い可能性があるのでこれで改善？\n",
    " ->不均衡データの対応をする\n",
    " →次元削減　or 特徴量の削減　→アンダーサンプリングと重み付で不均衡の解消\n",
    " →時間があればターゲットエンコーディングを試す -> https://zenn.dev/y0/articles/5f76249012200a#tips-13%3A-%E4%B8%8D%E5%9D%87%E8%A1%A1%E3%83%87%E3%83%BC%E3%82%BF\n"
   ]
  },
  {
   "cell_type": "code",
   "execution_count": null,
   "id": "fcc02525-85e7-4057-963b-dffb90b154af",
   "metadata": {},
   "outputs": [],
   "source": []
  },
  {
   "cell_type": "code",
   "execution_count": null,
   "id": "8de72d95-4872-4a45-a4d8-96c722e409b6",
   "metadata": {},
   "outputs": [],
   "source": []
  },
  {
   "cell_type": "code",
   "execution_count": null,
   "id": "9938cde1-5cd5-4009-a4bb-4543c18c1fb7",
   "metadata": {},
   "outputs": [],
   "source": []
  },
  {
   "cell_type": "code",
   "execution_count": null,
   "id": "850a8148-af24-498f-a6a6-60a76ad7e72f",
   "metadata": {},
   "outputs": [],
   "source": []
  }
 ],
 "metadata": {
  "kernelspec": {
   "display_name": "Python 3 (ipykernel)",
   "language": "python",
   "name": "python3"
  },
  "language_info": {
   "codemirror_mode": {
    "name": "ipython",
    "version": 3
   },
   "file_extension": ".py",
   "mimetype": "text/x-python",
   "name": "python",
   "nbconvert_exporter": "python",
   "pygments_lexer": "ipython3",
   "version": "3.9.13"
  }
 },
 "nbformat": 4,
 "nbformat_minor": 5
}
