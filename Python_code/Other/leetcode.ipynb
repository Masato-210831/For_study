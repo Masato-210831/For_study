{
 "cells": [
  {
   "cell_type": "code",
   "execution_count": 52,
   "id": "dea82621-93b9-4290-bd5e-fc9bbc19bb06",
   "metadata": {},
   "outputs": [
    {
     "name": "stdout",
     "output_type": "stream",
     "text": [
      "loop前のword_idx 0\n",
      "[]\n",
      "best_length 1\n",
      "1\n"
     ]
    }
   ],
   "source": [
    "s = \"c\"\n",
    "\n",
    "\n",
    "\n",
    "word_idx = 0\n",
    "best_str_length = 0\n",
    "for iter_num in range(len(s)):\n",
    "    tmp_holder = []\n",
    "    partical_best = 0\n",
    "    \n",
    "    print('loop前のword_idx', word_idx)\n",
    "    for word in s[word_idx:]:\n",
    "        if word in tmp_holder:\n",
    "            partical_best = len(tmp_holder)\n",
    "            print('break前のword_idx:', word_idx)\n",
    "            break\n",
    "    \n",
    "        else:\n",
    "            word_idx += 1\n",
    "            tmp_holder.append(word)\n",
    "\n",
    "    print(tmp_holder)\n",
    "    if word_idx < len(s):\n",
    "        if best_str_length <= partical_best:\n",
    "            best_str_length = partical_best\n",
    "        print('best_length', best_str_length)\n",
    "    else:\n",
    "        break\n",
    "        \n",
    "        \n",
    "print(best_str_length)"
   ]
  },
  {
   "cell_type": "code",
   "execution_count": 38,
   "id": "db5af6e8-019f-4d68-a55f-f5f94ed4e42c",
   "metadata": {},
   "outputs": [
    {
     "data": {
      "text/plain": [
       "1"
      ]
     },
     "execution_count": 38,
     "metadata": {},
     "output_type": "execute_result"
    }
   ],
   "source": [
    "best_str_length"
   ]
  },
  {
   "cell_type": "code",
   "execution_count": 42,
   "id": "4083818d-fb52-4e07-bbad-ffd678f71d26",
   "metadata": {},
   "outputs": [
    {
     "data": {
      "text/plain": [
       "True"
      ]
     },
     "execution_count": 42,
     "metadata": {},
     "output_type": "execute_result"
    }
   ],
   "source": [
    "\" \" == \" \""
   ]
  },
  {
   "cell_type": "code",
   "execution_count": 60,
   "id": "8f2e7424-e500-4105-86ff-7f05605a65a8",
   "metadata": {},
   "outputs": [
    {
     "name": "stdout",
     "output_type": "stream",
     "text": [
      "best_length 3\n",
      "3\n"
     ]
    }
   ],
   "source": [
    "s =\"abcabcbb\"\n",
    "\n",
    "word_idx = 0\n",
    "best_str_length = 0\n",
    "\n",
    "for iter_num in range(len(s)):\n",
    "    tmp_holder = []\n",
    "    partical_best = 0\n",
    "    for word in s[word_idx:]:\n",
    "        if word_idx == 0:\n",
    "            partical_best = 1\n",
    "            word_idx += 1\n",
    "        elif word in tmp_holder:\n",
    "            partical_best = len(tmp_holder)\n",
    "            break\n",
    "    \n",
    "        else:\n",
    "            word_idx += 1\n",
    "            tmp_holder.append(word)\n",
    "\n",
    "    if word_idx <= len(s):\n",
    "        if best_str_length < partical_best:\n",
    "            best_str_length = partical_best\n",
    "            print('best_length', best_str_length)\n",
    "    else:\n",
    "        break\n",
    "\n",
    "print(best_str_length)"
   ]
  },
  {
   "cell_type": "code",
   "execution_count": null,
   "id": "b7dec545-af9e-4044-8377-c9c70dabca30",
   "metadata": {},
   "outputs": [],
   "source": []
  }
 ],
 "metadata": {
  "kernelspec": {
   "display_name": "Python 3 (ipykernel)",
   "language": "python",
   "name": "python3"
  },
  "language_info": {
   "codemirror_mode": {
    "name": "ipython",
    "version": 3
   },
   "file_extension": ".py",
   "mimetype": "text/x-python",
   "name": "python",
   "nbconvert_exporter": "python",
   "pygments_lexer": "ipython3",
   "version": "3.8.18"
  }
 },
 "nbformat": 4,
 "nbformat_minor": 5
}
