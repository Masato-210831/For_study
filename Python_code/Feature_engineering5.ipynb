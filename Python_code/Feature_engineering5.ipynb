{
 "cells": [
  {
   "cell_type": "markdown",
   "id": "100bffcf-a13e-4e32-8a6f-5af9aaab38b5",
   "metadata": {},
   "source": [
    "# 欠損値データ"
   ]
  },
  {
   "cell_type": "code",
   "execution_count": null,
   "id": "4aab0386-4513-4219-9cad-41ac15c8cd72",
   "metadata": {},
   "outputs": [],
   "source": [
    "\"\"\"\n",
    "欠損データの３つの発生メカニズム\n",
    "\n",
    "・Missing completely At Random (MCAR)\n",
    "・Missing At Random:MAR (MAR)\n",
    "・Missing Not At Random (MNAR)\n",
    "\n",
    "解析における分類\n",
    "・無視可能 => MCAR, MAR\n",
    "・無視不可能 => MNAR\n",
    "\n",
    "\"\"\""
   ]
  },
  {
   "cell_type": "code",
   "execution_count": null,
   "id": "30db9281-02a0-4e45-8954-049717edd541",
   "metadata": {},
   "outputs": [],
   "source": [
    "\"\"\"\n",
    "処理方法\n",
    "\n",
    "・削除する\n",
    "　リストワイズ法\n",
    "　ペアワイズ法\n",
    "-> 欠損データ量、発生原因を考慮する必要がある\n",
    "\n",
    "\n",
    "・補完する\n",
    "\n",
    "単一代入法\n",
    "　平均値代入法\n",
    "　比例代入法\n",
    "　回帰代入法\n",
    "　確率的回帰代入法\n",
    "　ホットデック法\n",
    "\n",
    "多重代入法\n",
    "　EMアルゴリズムによる補完\n",
    "　マルコフ連鎖モンテカルロ法\n",
    " \n",
    " \n",
    "・そのまま使用する\n",
    "　完全情報最尤推定法\n",
    " \n",
    "\n",
    "\"\"\""
   ]
  },
  {
   "cell_type": "markdown",
   "id": "4ee62291-c374-4645-a261-5d3e0b246512",
   "metadata": {},
   "source": [
    "## 欠損値の確認方法"
   ]
  },
  {
   "cell_type": "code",
   "execution_count": 1,
   "id": "f17a6493-b792-41c3-9b70-60f7393fbed3",
   "metadata": {},
   "outputs": [],
   "source": [
    "import pandas as pd \n",
    "\n",
    "user_table = pd.read_csv('csv/user_table.csv')\n",
    "\n",
    "missing_table = pd.DataFrame()\n",
    "for col in user_table.columns:\n",
    "    missing_table[col] = [user_table[user_table[col].isnull()].shape[0]]"
   ]
  },
  {
   "cell_type": "code",
   "execution_count": 2,
   "id": "a22fde9a-7a5f-4f04-9b8a-b46be0a9d6d8",
   "metadata": {},
   "outputs": [
    {
     "data": {
      "text/html": [
       "<div>\n",
       "<style scoped>\n",
       "    .dataframe tbody tr th:only-of-type {\n",
       "        vertical-align: middle;\n",
       "    }\n",
       "\n",
       "    .dataframe tbody tr th {\n",
       "        vertical-align: top;\n",
       "    }\n",
       "\n",
       "    .dataframe thead th {\n",
       "        text-align: right;\n",
       "    }\n",
       "</style>\n",
       "<table border=\"1\" class=\"dataframe\">\n",
       "  <thead>\n",
       "    <tr style=\"text-align: right;\">\n",
       "      <th></th>\n",
       "      <th>user_id</th>\n",
       "      <th>name</th>\n",
       "      <th>nickname</th>\n",
       "      <th>age</th>\n",
       "      <th>country</th>\n",
       "      <th>num_family</th>\n",
       "      <th>married</th>\n",
       "      <th>job</th>\n",
       "      <th>income</th>\n",
       "      <th>profile</th>\n",
       "    </tr>\n",
       "  </thead>\n",
       "  <tbody>\n",
       "    <tr>\n",
       "      <th>0</th>\n",
       "      <td>0</td>\n",
       "      <td>0</td>\n",
       "      <td>0</td>\n",
       "      <td>5131</td>\n",
       "      <td>10148</td>\n",
       "      <td>2570</td>\n",
       "      <td>2456</td>\n",
       "      <td>0</td>\n",
       "      <td>2527</td>\n",
       "      <td>0</td>\n",
       "    </tr>\n",
       "  </tbody>\n",
       "</table>\n",
       "</div>"
      ],
      "text/plain": [
       "   user_id  name  nickname   age  country  num_family  married  job  income  \\\n",
       "0        0     0         0  5131    10148        2570     2456    0    2527   \n",
       "\n",
       "   profile  \n",
       "0        0  "
      ]
     },
     "execution_count": 2,
     "metadata": {},
     "output_type": "execute_result"
    }
   ],
   "source": [
    "missing_table"
   ]
  },
  {
   "cell_type": "code",
   "execution_count": 4,
   "id": "6f416fc6-033e-451d-80d1-145281cb0a2f",
   "metadata": {},
   "outputs": [
    {
     "data": {
      "text/html": [
       "<div>\n",
       "<style scoped>\n",
       "    .dataframe tbody tr th:only-of-type {\n",
       "        vertical-align: middle;\n",
       "    }\n",
       "\n",
       "    .dataframe tbody tr th {\n",
       "        vertical-align: top;\n",
       "    }\n",
       "\n",
       "    .dataframe thead th {\n",
       "        text-align: right;\n",
       "    }\n",
       "</style>\n",
       "<table border=\"1\" class=\"dataframe\">\n",
       "  <thead>\n",
       "    <tr style=\"text-align: right;\">\n",
       "      <th></th>\n",
       "      <th>user_id</th>\n",
       "      <th>name</th>\n",
       "      <th>nickname</th>\n",
       "      <th>age</th>\n",
       "      <th>country</th>\n",
       "      <th>num_family</th>\n",
       "      <th>married</th>\n",
       "      <th>job</th>\n",
       "      <th>income</th>\n",
       "      <th>profile</th>\n",
       "    </tr>\n",
       "  </thead>\n",
       "  <tbody>\n",
       "    <tr>\n",
       "      <th>0</th>\n",
       "      <td>0</td>\n",
       "      <td>0</td>\n",
       "      <td>0</td>\n",
       "      <td>5131</td>\n",
       "      <td>10148</td>\n",
       "      <td>2570</td>\n",
       "      <td>2456</td>\n",
       "      <td>0</td>\n",
       "      <td>2527</td>\n",
       "      <td>0</td>\n",
       "    </tr>\n",
       "  </tbody>\n",
       "</table>\n",
       "</div>"
      ],
      "text/plain": [
       "   user_id  name  nickname   age  country  num_family  married  job  income  \\\n",
       "0        0     0         0  5131    10148        2570     2456    0    2527   \n",
       "\n",
       "   profile  \n",
       "0        0  "
      ]
     },
     "execution_count": 4,
     "metadata": {},
     "output_type": "execute_result"
    }
   ],
   "source": [
    "#これでも簡単に表示できる\n",
    "pd.DataFrame(user_table.isnull().sum()).T"
   ]
  },
  {
   "cell_type": "markdown",
   "id": "cd6079fe-9210-4f1a-b626-3319c64ab58b",
   "metadata": {},
   "source": [
    "## リストワイズ法"
   ]
  },
  {
   "cell_type": "code",
   "execution_count": 21,
   "id": "e07f0d8e-c8f3-4779-b99b-1d090a9c9eae",
   "metadata": {},
   "outputs": [
    {
     "data": {
      "text/html": [
       "<div>\n",
       "<style scoped>\n",
       "    .dataframe tbody tr th:only-of-type {\n",
       "        vertical-align: middle;\n",
       "    }\n",
       "\n",
       "    .dataframe tbody tr th {\n",
       "        vertical-align: top;\n",
       "    }\n",
       "\n",
       "    .dataframe thead th {\n",
       "        text-align: right;\n",
       "    }\n",
       "</style>\n",
       "<table border=\"1\" class=\"dataframe\">\n",
       "  <thead>\n",
       "    <tr style=\"text-align: right;\">\n",
       "      <th></th>\n",
       "      <th>項目名</th>\n",
       "      <th>削除前件数</th>\n",
       "      <th>削除後件数</th>\n",
       "      <th>削除数</th>\n",
       "    </tr>\n",
       "  </thead>\n",
       "  <tbody>\n",
       "    <tr>\n",
       "      <th>0</th>\n",
       "      <td>user_id</td>\n",
       "      <td>50103</td>\n",
       "      <td>30714</td>\n",
       "      <td>19389</td>\n",
       "    </tr>\n",
       "    <tr>\n",
       "      <th>1</th>\n",
       "      <td>name</td>\n",
       "      <td>50103</td>\n",
       "      <td>30714</td>\n",
       "      <td>19389</td>\n",
       "    </tr>\n",
       "    <tr>\n",
       "      <th>2</th>\n",
       "      <td>nickname</td>\n",
       "      <td>50103</td>\n",
       "      <td>30714</td>\n",
       "      <td>19389</td>\n",
       "    </tr>\n",
       "    <tr>\n",
       "      <th>3</th>\n",
       "      <td>age</td>\n",
       "      <td>44972</td>\n",
       "      <td>30714</td>\n",
       "      <td>14258</td>\n",
       "    </tr>\n",
       "    <tr>\n",
       "      <th>4</th>\n",
       "      <td>country</td>\n",
       "      <td>39955</td>\n",
       "      <td>30714</td>\n",
       "      <td>9241</td>\n",
       "    </tr>\n",
       "    <tr>\n",
       "      <th>5</th>\n",
       "      <td>num_family</td>\n",
       "      <td>47533</td>\n",
       "      <td>30714</td>\n",
       "      <td>16819</td>\n",
       "    </tr>\n",
       "    <tr>\n",
       "      <th>6</th>\n",
       "      <td>married</td>\n",
       "      <td>47647</td>\n",
       "      <td>30714</td>\n",
       "      <td>16933</td>\n",
       "    </tr>\n",
       "    <tr>\n",
       "      <th>7</th>\n",
       "      <td>job</td>\n",
       "      <td>50103</td>\n",
       "      <td>30714</td>\n",
       "      <td>19389</td>\n",
       "    </tr>\n",
       "    <tr>\n",
       "      <th>8</th>\n",
       "      <td>income</td>\n",
       "      <td>47576</td>\n",
       "      <td>30714</td>\n",
       "      <td>16862</td>\n",
       "    </tr>\n",
       "    <tr>\n",
       "      <th>9</th>\n",
       "      <td>profile</td>\n",
       "      <td>50103</td>\n",
       "      <td>30714</td>\n",
       "      <td>19389</td>\n",
       "    </tr>\n",
       "  </tbody>\n",
       "</table>\n",
       "</div>"
      ],
      "text/plain": [
       "          項目名  削除前件数  削除後件数    削除数\n",
       "0     user_id  50103  30714  19389\n",
       "1        name  50103  30714  19389\n",
       "2    nickname  50103  30714  19389\n",
       "3         age  44972  30714  14258\n",
       "4     country  39955  30714   9241\n",
       "5  num_family  47533  30714  16819\n",
       "6     married  47647  30714  16933\n",
       "7         job  50103  30714  19389\n",
       "8      income  47576  30714  16862\n",
       "9     profile  50103  30714  19389"
      ]
     },
     "execution_count": 21,
     "metadata": {},
     "output_type": "execute_result"
    }
   ],
   "source": [
    "user_table_drop = user_table.copy()\n",
    "\n",
    "user_table_drop = user_table.dropna()\n",
    "\n",
    "rows = []\n",
    "rows_drop = []\n",
    "\n",
    "for col in user_table_drop:\n",
    "    rows.append(user_table[col].count())\n",
    "    rows_drop.append(user_table_drop[col].count()) \n",
    "\n",
    "df = pd.DataFrame()\n",
    "df['項目名'] = user_table.columns\n",
    "df['削除前件数'] = rows\n",
    "df['削除後件数'] = rows_drop\n",
    "\n",
    "#削除数もあった方が良いと思い作成（自分で実装）\n",
    "df['削除数'] = [ rows[i] - rows_drop[1] for i in range(len(rows))]\n",
    "df\n"
   ]
  },
  {
   "cell_type": "markdown",
   "id": "eb494e3d-a768-473b-9b79-113c4e389e60",
   "metadata": {},
   "source": [
    "## ペアワイズ削除法"
   ]
  },
  {
   "cell_type": "code",
   "execution_count": 59,
   "id": "7f7054a1-fece-4910-a495-b78a82c81331",
   "metadata": {},
   "outputs": [
    {
     "data": {
      "text/html": [
       "<div>\n",
       "<style scoped>\n",
       "    .dataframe tbody tr th:only-of-type {\n",
       "        vertical-align: middle;\n",
       "    }\n",
       "\n",
       "    .dataframe tbody tr th {\n",
       "        vertical-align: top;\n",
       "    }\n",
       "\n",
       "    .dataframe thead th {\n",
       "        text-align: right;\n",
       "    }\n",
       "</style>\n",
       "<table border=\"1\" class=\"dataframe\">\n",
       "  <thead>\n",
       "    <tr style=\"text-align: right;\">\n",
       "      <th></th>\n",
       "      <th>項目名</th>\n",
       "      <th>削除前件数</th>\n",
       "      <th>削除後件数</th>\n",
       "    </tr>\n",
       "  </thead>\n",
       "  <tbody>\n",
       "    <tr>\n",
       "      <th>0</th>\n",
       "      <td>user_id</td>\n",
       "      <td>50103</td>\n",
       "      <td>42940</td>\n",
       "    </tr>\n",
       "    <tr>\n",
       "      <th>1</th>\n",
       "      <td>name</td>\n",
       "      <td>50103</td>\n",
       "      <td>42940</td>\n",
       "    </tr>\n",
       "    <tr>\n",
       "      <th>2</th>\n",
       "      <td>nickname</td>\n",
       "      <td>50103</td>\n",
       "      <td>42940</td>\n",
       "    </tr>\n",
       "    <tr>\n",
       "      <th>3</th>\n",
       "      <td>num_family</td>\n",
       "      <td>47533</td>\n",
       "      <td>42940</td>\n",
       "    </tr>\n",
       "    <tr>\n",
       "      <th>4</th>\n",
       "      <td>married</td>\n",
       "      <td>47647</td>\n",
       "      <td>42940</td>\n",
       "    </tr>\n",
       "    <tr>\n",
       "      <th>5</th>\n",
       "      <td>job</td>\n",
       "      <td>50103</td>\n",
       "      <td>42940</td>\n",
       "    </tr>\n",
       "    <tr>\n",
       "      <th>6</th>\n",
       "      <td>income</td>\n",
       "      <td>47576</td>\n",
       "      <td>42940</td>\n",
       "    </tr>\n",
       "    <tr>\n",
       "      <th>7</th>\n",
       "      <td>profile</td>\n",
       "      <td>50103</td>\n",
       "      <td>42940</td>\n",
       "    </tr>\n",
       "  </tbody>\n",
       "</table>\n",
       "</div>"
      ],
      "text/plain": [
       "          項目名  削除前件数  削除後件数\n",
       "0     user_id  50103  42940\n",
       "1        name  50103  42940\n",
       "2    nickname  50103  42940\n",
       "3  num_family  47533  42940\n",
       "4     married  47647  42940\n",
       "5         job  50103  42940\n",
       "6      income  47576  42940\n",
       "7     profile  50103  42940"
      ]
     },
     "execution_count": 59,
     "metadata": {},
     "output_type": "execute_result"
    }
   ],
   "source": [
    "drop_list = pd.DataFrame(user_table.isnull().sum())\n",
    "\n",
    "#欠損値数　top2を抽出 -> [age, country]\n",
    "top_2_feature = drop_list.sort_values(by=0, ascending=False).index[0:2]\n",
    "\n",
    "#欠損数top2の列を削除\n",
    "drop_df = user_table.drop(top_2_feature, axis=1)\n",
    "user_table_drop = drop_df.copy()\n",
    "user_table_drop = user_table_drop.dropna()\n",
    "\n",
    "\n",
    "df = pd.DataFrame()\n",
    "df['項目名'] = drop_df.columns\n",
    "rows = []\n",
    "rows_drop = []\n",
    "\n",
    "for col in user_table_drop:\n",
    "    rows.append(user_table[col].count())\n",
    "    rows_drop.append(user_table_drop[col].count()) \n",
    "\n",
    "df = pd.DataFrame()\n",
    "df['項目名'] = user_table_drop.columns\n",
    "df['削除前件数'] = rows\n",
    "df['削除後件数'] = rows_drop\n",
    "df"
   ]
  },
  {
   "cell_type": "code",
   "execution_count": 77,
   "id": "416885f4-d133-44f6-b98b-0e46b1807d4b",
   "metadata": {},
   "outputs": [
    {
     "name": "stdout",
     "output_type": "stream",
     "text": [
      "483.63813687573565\n"
     ]
    },
    {
     "data": {
      "image/png": "[encoded data removed]",
      "text/plain": [
       "<Figure size 2000x500 with 1 Axes>"
      ]
     },
     "metadata": {},
     "output_type": "display_data"
    }
   ],
   "source": [
    "import seaborn as sns\n",
    "import matplotlib.pyplot as plt\n",
    "from matplotlib import rcParams\n",
    "%matplotlib inline\n",
    "rcParams['font.family'] = 'Noto Sans JP'\n",
    "\n",
    "fig,ax = plt.subplots(1,1, figsize=(20,5))\n",
    "\n",
    "# plt.rcParams['font.sans-serif'] \n",
    "\n",
    "#代入前\n",
    "sns.histplot(user_table['income'], label='before', kde=True, bins=50, color='b')\n",
    "\n",
    "#代入後\n",
    "user_table_fillna = user_table.copy()\n",
    "\n",
    "#平均値代入法\n",
    "user_table_fillna['income'] = user_table['income'].fillna(user_table['income'].mean())\n",
    "sns.histplot(user_table_fillna['income'], label='after', kde=True, bins=50, color='r')\n",
    "\n",
    "ax.set_ylabel('密度')\n",
    "ax.legend()\n",
    "plt.grid()\n",
    "\n",
    "print(user_table['income'].mean())\n",
    "\n",
    "\"\"\"\n",
    "incomeの欠損値は2527件（全体の5%）あり、全てを平均で補完したため、平均値の数が突出してしまっている。\n",
    "->欠損の背景を知る必要がある。\n",
    "->それから欠損値の適切な処理を実施する\n",
    "\n",
    "\"\"\""
   ]
  },
  {
   "cell_type": "code",
   "execution_count": null,
   "id": "244a611c-2f16-45d4-bd90-54770515960d",
   "metadata": {},
   "outputs": [],
   "source": []
  },
  {
   "cell_type": "markdown",
   "id": "ba027550-b1d8-40a6-a601-6068b9d32394",
   "metadata": {},
   "source": [
    "# クラスタリング"
   ]
  },
  {
   "cell_type": "code",
   "execution_count": null,
   "id": "1f51f7f4-2607-4b60-b64d-eb12e905cd41",
   "metadata": {},
   "outputs": [],
   "source": [
    "\"\"\"\n",
    "活用の場\n",
    "・ECサイトの顧客分析\n",
    "・機械学習を取り入れたAIシステムの構築\n",
    "　→特徴量の生成\n",
    "\n",
    "クラスタリングは2つの手法に分けられる\n",
    "・階層的クラスター分析\n",
    "・非階層的クラスター分析\n",
    "　→ビジネスではこっちが使われる\n",
    "\n",
    "\"\"\""
   ]
  },
  {
   "cell_type": "markdown",
   "id": "ec514699-b846-41e9-9b29-302e26aed493",
   "metadata": {},
   "source": [
    "## 階層クラスタリング"
   ]
  },
  {
   "cell_type": "code",
   "execution_count": null,
   "id": "3a055c8e-48a9-4510-a795-f40cbd3cdc68",
   "metadata": {},
   "outputs": [],
   "source": [
    "\"\"\"\n",
    "クラスター同士の類似度を測る方法\n",
    "・重心法\n",
    "・最短（最長）距離法\n",
    "・群平均法\n",
    "\"\"\""
   ]
  },
  {
   "cell_type": "code",
   "execution_count": 121,
   "id": "0e5d2bbf-fead-476b-92a5-dbb5e6627271",
   "metadata": {},
   "outputs": [
    {
     "data": {
      "image/png": "[encoded data removed]",
      "text/plain": [
       "<Figure size 640x480 with 1 Axes>"
      ]
     },
     "metadata": {},
     "output_type": "display_data"
    },
    {
     "data": {
      "text/plain": [
       "<Figure size 2000x500 with 0 Axes>"
      ]
     },
     "metadata": {},
     "output_type": "display_data"
    },
    {
     "data": {
      "text/html": [
       "<div>\n",
       "<style scoped>\n",
       "    .dataframe tbody tr th:only-of-type {\n",
       "        vertical-align: middle;\n",
       "    }\n",
       "\n",
       "    .dataframe tbody tr th {\n",
       "        vertical-align: top;\n",
       "    }\n",
       "\n",
       "    .dataframe thead th {\n",
       "        text-align: right;\n",
       "    }\n",
       "</style>\n",
       "<table border=\"1\" class=\"dataframe\">\n",
       "  <thead>\n",
       "    <tr style=\"text-align: right;\">\n",
       "      <th></th>\n",
       "      <th>項目名</th>\n",
       "    </tr>\n",
       "  </thead>\n",
       "  <tbody>\n",
       "    <tr>\n",
       "      <th>0</th>\n",
       "      <td>alcohol</td>\n",
       "    </tr>\n",
       "    <tr>\n",
       "      <th>1</th>\n",
       "      <td>malic_acid</td>\n",
       "    </tr>\n",
       "    <tr>\n",
       "      <th>2</th>\n",
       "      <td>ash</td>\n",
       "    </tr>\n",
       "    <tr>\n",
       "      <th>3</th>\n",
       "      <td>alcalinity_of_ash</td>\n",
       "    </tr>\n",
       "    <tr>\n",
       "      <th>4</th>\n",
       "      <td>magnesium</td>\n",
       "    </tr>\n",
       "    <tr>\n",
       "      <th>5</th>\n",
       "      <td>total_phenols</td>\n",
       "    </tr>\n",
       "    <tr>\n",
       "      <th>6</th>\n",
       "      <td>flavanoids</td>\n",
       "    </tr>\n",
       "    <tr>\n",
       "      <th>7</th>\n",
       "      <td>nonflavanoid_phenols</td>\n",
       "    </tr>\n",
       "    <tr>\n",
       "      <th>8</th>\n",
       "      <td>proanthocyanins</td>\n",
       "    </tr>\n",
       "    <tr>\n",
       "      <th>9</th>\n",
       "      <td>color_intensity</td>\n",
       "    </tr>\n",
       "    <tr>\n",
       "      <th>10</th>\n",
       "      <td>hue</td>\n",
       "    </tr>\n",
       "    <tr>\n",
       "      <th>11</th>\n",
       "      <td>od280/od315_of_diluted_wines</td>\n",
       "    </tr>\n",
       "    <tr>\n",
       "      <th>12</th>\n",
       "      <td>proline</td>\n",
       "    </tr>\n",
       "  </tbody>\n",
       "</table>\n",
       "</div>"
      ],
      "text/plain": [
       "                             項目名\n",
       "0                        alcohol\n",
       "1                     malic_acid\n",
       "2                            ash\n",
       "3              alcalinity_of_ash\n",
       "4                      magnesium\n",
       "5                  total_phenols\n",
       "6                     flavanoids\n",
       "7           nonflavanoid_phenols\n",
       "8                proanthocyanins\n",
       "9                color_intensity\n",
       "10                           hue\n",
       "11  od280/od315_of_diluted_wines\n",
       "12                       proline"
      ]
     },
     "execution_count": 121,
     "metadata": {},
     "output_type": "execute_result"
    }
   ],
   "source": [
    "from scipy.cluster.hierarchy import linkage,dendrogram\n",
    "\n",
    "\"\"\"\n",
    "デンドログラムは階層的クラスタリングを示す。\n",
    "階層的クラスタリングはクラスタリングの過程を木で表す。\n",
    "\n",
    "【疑問】\n",
    "各特徴量間の関連性を見たいから、相関行列をlinkage()しているのか？\n",
    "->Yes\n",
    "\n",
    "\"\"\"\n",
    "def plot_dendrograme(df):\n",
    "    \n",
    "    #linkage:階層的クラスタリング -> dengrogram：階層の可視化\n",
    "    li = linkage(df.corr())\n",
    "    r = dendrogram(li, labels=df.columns)\n",
    "    plt.figure(figsize=[20,5])\n",
    "    plt.show()\n",
    "\n",
    "\n",
    "from sklearn import datasets\n",
    "X, y = datasets.load_wine(return_X_y=True, as_frame=True)\n",
    "wine_data = X.copy()\n",
    "dframe = pd.DataFrame()\n",
    "dframe['項目名'] = wine_data.columns\n",
    "\n",
    "number_list = list(range(0, 13))\n",
    "wine_data.columns = number_list\n",
    "plot_dendrograme(wine_data)\n",
    "pd.DataFrame(dframe)"
   ]
  },
  {
   "cell_type": "code",
   "execution_count": 129,
   "id": "46d9f598-ee84-40b2-a6ad-8f7f2a79e083",
   "metadata": {},
   "outputs": [
    {
     "data": {
      "image/png": "[encoded data removed]",
      "text/plain": [
       "<Figure size 640x480 with 1 Axes>"
      ]
     },
     "metadata": {},
     "output_type": "display_data"
    },
    {
     "data": {
      "text/plain": [
       "<Figure size 2000x500 with 0 Axes>"
      ]
     },
     "metadata": {},
     "output_type": "display_data"
    }
   ],
   "source": [
    "df_sale = pd.read_csv('csv/Wholesale customers data.csv')\n",
    "plot_dendrograme(df_sale)"
   ]
  },
  {
   "cell_type": "code",
   "execution_count": 139,
   "id": "e85c8883-781d-4994-afa0-cb27461f218e",
   "metadata": {},
   "outputs": [
    {
     "data": {
      "image/png": "[encoded data removed]",
      "text/plain": [
       "<Figure size 640x480 with 1 Axes>"
      ]
     },
     "metadata": {},
     "output_type": "display_data"
    },
    {
     "data": {
      "text/plain": [
       "<Figure size 2000x500 with 0 Axes>"
      ]
     },
     "metadata": {},
     "output_type": "display_data"
    }
   ],
   "source": [
    "wholesale_drop = df_sale.drop(['Channel', 'Region'], axis=1)\n",
    "\n",
    "\n",
    "wholesale_drop.columns = ['新鮮さ', 'ミルク', '食料品', '冷凍', '洗剤紙', 'デリカテッセン']\n",
    "plot_dendrograme(wholesale_drop)"
   ]
  },
  {
   "cell_type": "code",
   "execution_count": null,
   "id": "7163cfec-b982-4f68-90fe-0c4ff283f7f0",
   "metadata": {},
   "outputs": [],
   "source": []
  },
  {
   "cell_type": "markdown",
   "id": "e102d385-e476-44cb-af60-b85fc3972135",
   "metadata": {},
   "source": [
    "## 非階層クラスタリング"
   ]
  },
  {
   "cell_type": "code",
   "execution_count": null,
   "id": "8d6379a1-c858-4bce-a9b2-70da17ecda53",
   "metadata": {},
   "outputs": [],
   "source": [
    "\"\"\"\n",
    "k-means法\n",
    "クラスター内では分散が小さく、クラスター間では分散が大きくなるように分割\n",
    "\n",
    "メリット：\n",
    "・階層クラスタリングに比べてデータ間の距離を計算する必要がないため、処理が早い\n",
    "\n",
    "デメリット：\n",
    "・最初の重心がランダムなため、同じ母集団でも計算する度に分類結果が少し変わることがある\n",
    "・外れ値の影響で正しく分類できないことがある\n",
    "・複雑なデータや、特定の方向に分散したデータをうまく分類できないことがある\n",
    "\n",
    "<クラスタリングの注意点>\n",
    "・分析の前に分析の目的、仮説を明確にする\n",
    "　→これがないと分類だけに終始してしまい、それ以上の考察が得られない\n",
    "　→どのようなセグメント分けになるのか\n",
    "　→セグメント分けの結果を何に役立てるのか\n",
    "・スケールが異なる特徴量を持つデータは標準化をする　→ ユークリッド距離に影響\n",
    "\n",
    "\"\"\""
   ]
  },
  {
   "cell_type": "code",
   "execution_count": null,
   "id": "50adf63b-ba5e-4197-b15f-6535baa69882",
   "metadata": {},
   "outputs": [],
   "source": [
    "\"\"\"\n",
    "目的\n",
    "\n",
    "データセット（１）：ワインの品質データ\n",
    "ワインの品質（レベル感）を把握し、改善が必要なグループを検出すること。\n",
    "\n",
    "データセット（２）：卸売業者の顧客（取引）データ\n",
    "取引情報から顧客の属性を把握し、アプローチするターゲット層を見つけること。\n",
    "\n",
    "\"\"\""
   ]
  },
  {
   "cell_type": "code",
   "execution_count": 145,
   "id": "c786f40f-d1c8-40ca-8107-411fa3469cd1",
   "metadata": {},
   "outputs": [
    {
     "data": {
      "text/html": [
       "<div>\n",
       "<style scoped>\n",
       "    .dataframe tbody tr th:only-of-type {\n",
       "        vertical-align: middle;\n",
       "    }\n",
       "\n",
       "    .dataframe tbody tr th {\n",
       "        vertical-align: top;\n",
       "    }\n",
       "\n",
       "    .dataframe thead th {\n",
       "        text-align: right;\n",
       "    }\n",
       "</style>\n",
       "<table border=\"1\" class=\"dataframe\">\n",
       "  <thead>\n",
       "    <tr style=\"text-align: right;\">\n",
       "      <th></th>\n",
       "      <th>アルコール</th>\n",
       "      <th>リンゴ酸</th>\n",
       "      <th>灰</th>\n",
       "      <th>アルカリ性の灰</th>\n",
       "      <th>マグネシウム</th>\n",
       "      <th>トータルフェノール</th>\n",
       "      <th>フラボノイド</th>\n",
       "      <th>非フラボノイドフェノール</th>\n",
       "      <th>プロアントシアニン</th>\n",
       "      <th>色の強度</th>\n",
       "      <th>色相</th>\n",
       "      <th>希釈値</th>\n",
       "      <th>プロリン</th>\n",
       "    </tr>\n",
       "  </thead>\n",
       "  <tbody>\n",
       "    <tr>\n",
       "      <th>0</th>\n",
       "      <td>14.23</td>\n",
       "      <td>1.71</td>\n",
       "      <td>2.43</td>\n",
       "      <td>15.6</td>\n",
       "      <td>127.0</td>\n",
       "      <td>2.80</td>\n",
       "      <td>3.06</td>\n",
       "      <td>0.28</td>\n",
       "      <td>2.29</td>\n",
       "      <td>5.64</td>\n",
       "      <td>1.04</td>\n",
       "      <td>3.92</td>\n",
       "      <td>1065.0</td>\n",
       "    </tr>\n",
       "    <tr>\n",
       "      <th>1</th>\n",
       "      <td>13.20</td>\n",
       "      <td>1.78</td>\n",
       "      <td>2.14</td>\n",
       "      <td>11.2</td>\n",
       "      <td>100.0</td>\n",
       "      <td>2.65</td>\n",
       "      <td>2.76</td>\n",
       "      <td>0.26</td>\n",
       "      <td>1.28</td>\n",
       "      <td>4.38</td>\n",
       "      <td>1.05</td>\n",
       "      <td>3.40</td>\n",
       "      <td>1050.0</td>\n",
       "    </tr>\n",
       "    <tr>\n",
       "      <th>2</th>\n",
       "      <td>13.16</td>\n",
       "      <td>2.36</td>\n",
       "      <td>2.67</td>\n",
       "      <td>18.6</td>\n",
       "      <td>101.0</td>\n",
       "      <td>2.80</td>\n",
       "      <td>3.24</td>\n",
       "      <td>0.30</td>\n",
       "      <td>2.81</td>\n",
       "      <td>5.68</td>\n",
       "      <td>1.03</td>\n",
       "      <td>3.17</td>\n",
       "      <td>1185.0</td>\n",
       "    </tr>\n",
       "    <tr>\n",
       "      <th>3</th>\n",
       "      <td>14.37</td>\n",
       "      <td>1.95</td>\n",
       "      <td>2.50</td>\n",
       "      <td>16.8</td>\n",
       "      <td>113.0</td>\n",
       "      <td>3.85</td>\n",
       "      <td>3.49</td>\n",
       "      <td>0.24</td>\n",
       "      <td>2.18</td>\n",
       "      <td>7.80</td>\n",
       "      <td>0.86</td>\n",
       "      <td>3.45</td>\n",
       "      <td>1480.0</td>\n",
       "    </tr>\n",
       "    <tr>\n",
       "      <th>4</th>\n",
       "      <td>13.24</td>\n",
       "      <td>2.59</td>\n",
       "      <td>2.87</td>\n",
       "      <td>21.0</td>\n",
       "      <td>118.0</td>\n",
       "      <td>2.80</td>\n",
       "      <td>2.69</td>\n",
       "      <td>0.39</td>\n",
       "      <td>1.82</td>\n",
       "      <td>4.32</td>\n",
       "      <td>1.04</td>\n",
       "      <td>2.93</td>\n",
       "      <td>735.0</td>\n",
       "    </tr>\n",
       "  </tbody>\n",
       "</table>\n",
       "</div>"
      ],
      "text/plain": [
       "   アルコール  リンゴ酸     灰  アルカリ性の灰  マグネシウム  トータルフェノール  フラボノイド  非フラボノイドフェノール  \\\n",
       "0  14.23  1.71  2.43     15.6   127.0       2.80    3.06          0.28   \n",
       "1  13.20  1.78  2.14     11.2   100.0       2.65    2.76          0.26   \n",
       "2  13.16  2.36  2.67     18.6   101.0       2.80    3.24          0.30   \n",
       "3  14.37  1.95  2.50     16.8   113.0       3.85    3.49          0.24   \n",
       "4  13.24  2.59  2.87     21.0   118.0       2.80    2.69          0.39   \n",
       "\n",
       "   プロアントシアニン  色の強度    色相   希釈値    プロリン  \n",
       "0       2.29  5.64  1.04  3.92  1065.0  \n",
       "1       1.28  4.38  1.05  3.40  1050.0  \n",
       "2       2.81  5.68  1.03  3.17  1185.0  \n",
       "3       2.18  7.80  0.86  3.45  1480.0  \n",
       "4       1.82  4.32  1.04  2.93   735.0  "
      ]
     },
     "execution_count": 145,
     "metadata": {},
     "output_type": "execute_result"
    }
   ],
   "source": [
    "#データセット（１）：ワインの品質データ\n",
    "\n",
    "wine =datasets.load_wine()\n",
    "wine_df = pd.DataFrame(wine.data, columns=wine.feature_names)\n",
    "\n",
    "\n",
    "name_list = ['アルコール','リンゴ酸','灰','アルカリ性の灰','マグネシウム','トータルフェノール','フラボノイド','非フラボノイドフェノール','プロアントシアニン','色の強度','色相','希釈値','プロリン']\n",
    "wine_df.columns = name_list\n",
    "wine_df.head()"
   ]
  },
  {
   "cell_type": "code",
   "execution_count": 150,
   "id": "0f12b3f5-b340-4219-9f0c-a0472990ec6b",
   "metadata": {},
   "outputs": [
    {
     "data": {
      "text/html": [
       "<div>\n",
       "<style scoped>\n",
       "    .dataframe tbody tr th:only-of-type {\n",
       "        vertical-align: middle;\n",
       "    }\n",
       "\n",
       "    .dataframe tbody tr th {\n",
       "        vertical-align: top;\n",
       "    }\n",
       "\n",
       "    .dataframe thead th {\n",
       "        text-align: right;\n",
       "    }\n",
       "</style>\n",
       "<table border=\"1\" class=\"dataframe\">\n",
       "  <thead>\n",
       "    <tr style=\"text-align: right;\">\n",
       "      <th></th>\n",
       "      <th>チャネル</th>\n",
       "      <th>地域</th>\n",
       "      <th>新鮮さ</th>\n",
       "      <th>ミルク</th>\n",
       "      <th>食料品</th>\n",
       "      <th>冷凍</th>\n",
       "      <th>洗剤紙</th>\n",
       "      <th>デリカテッセン</th>\n",
       "    </tr>\n",
       "  </thead>\n",
       "  <tbody>\n",
       "    <tr>\n",
       "      <th>0</th>\n",
       "      <td>2</td>\n",
       "      <td>3</td>\n",
       "      <td>12669</td>\n",
       "      <td>9656</td>\n",
       "      <td>7561</td>\n",
       "      <td>214</td>\n",
       "      <td>2674</td>\n",
       "      <td>1338</td>\n",
       "    </tr>\n",
       "    <tr>\n",
       "      <th>1</th>\n",
       "      <td>2</td>\n",
       "      <td>3</td>\n",
       "      <td>7057</td>\n",
       "      <td>9810</td>\n",
       "      <td>9568</td>\n",
       "      <td>1762</td>\n",
       "      <td>3293</td>\n",
       "      <td>1776</td>\n",
       "    </tr>\n",
       "    <tr>\n",
       "      <th>2</th>\n",
       "      <td>2</td>\n",
       "      <td>3</td>\n",
       "      <td>6353</td>\n",
       "      <td>8808</td>\n",
       "      <td>7684</td>\n",
       "      <td>2405</td>\n",
       "      <td>3516</td>\n",
       "      <td>7844</td>\n",
       "    </tr>\n",
       "    <tr>\n",
       "      <th>3</th>\n",
       "      <td>1</td>\n",
       "      <td>3</td>\n",
       "      <td>13265</td>\n",
       "      <td>1196</td>\n",
       "      <td>4221</td>\n",
       "      <td>6404</td>\n",
       "      <td>507</td>\n",
       "      <td>1788</td>\n",
       "    </tr>\n",
       "    <tr>\n",
       "      <th>4</th>\n",
       "      <td>2</td>\n",
       "      <td>3</td>\n",
       "      <td>22615</td>\n",
       "      <td>5410</td>\n",
       "      <td>7198</td>\n",
       "      <td>3915</td>\n",
       "      <td>1777</td>\n",
       "      <td>5185</td>\n",
       "    </tr>\n",
       "  </tbody>\n",
       "</table>\n",
       "</div>"
      ],
      "text/plain": [
       "   チャネル  地域    新鮮さ   ミルク   食料品    冷凍   洗剤紙  デリカテッセン\n",
       "0     2   3  12669  9656  7561   214  2674     1338\n",
       "1     2   3   7057  9810  9568  1762  3293     1776\n",
       "2     2   3   6353  8808  7684  2405  3516     7844\n",
       "3     1   3  13265  1196  4221  6404   507     1788\n",
       "4     2   3  22615  5410  7198  3915  1777     5185"
      ]
     },
     "execution_count": 150,
     "metadata": {},
     "output_type": "execute_result"
    }
   ],
   "source": [
    "# データ取得②（卸売りの顧客データ）\n",
    "wholesale_customers = pd.read_csv(\"csv/Wholesale customers data.csv\")\n",
    "\n",
    "# データ概要\n",
    "wholesale_customers.columns = ['チャネル','地域', '新鮮さ', 'ミルク', '食料品', '冷凍', '洗剤紙', 'デリカテッセン']\n",
    "wholesale_customers.head()\n"
   ]
  },
  {
   "cell_type": "code",
   "execution_count": 176,
   "id": "b798f1cb-8d79-4a51-b19a-973b9249e8ed",
   "metadata": {},
   "outputs": [],
   "source": [
    "#クラスタリング\n",
    "from sklearn.preprocessing import StandardScaler\n",
    "from sklearn.cluster import KMeans\n",
    "\n",
    "def clustering(df, num):\n",
    "    \n",
    "    #標準化\n",
    "    sc = StandardScaler()\n",
    "    data_norm = sc.fit_transform(df)\n",
    "    \n",
    "    #必要なし\n",
    "    # data_norm = sc.transform(df)\n",
    "    \n",
    "    #分類器\n",
    "    cls = KMeans(n_clusters=num, n_init='auto')\n",
    "    result = cls.fit(data_norm)\n",
    "    pred = cls.fit_predict(data_norm)\n",
    "    \n",
    "    plt.figure(figsize=[10, 5])\n",
    "    #プロット様式の変更\n",
    "    sns.set(rc = {'axes.facecolor':'cornflowerblue', 'figure.facecolor':'cornflowerblue'})\n",
    "    sns.scatterplot(x=data_norm[:, 0], y=data_norm[:, 1], c=result.labels_)\n",
    "    plt.scatter(result.cluster_centers_[:, 0], result.cluster_centers_[:, 1], s=250, marker='*', c='b')\n",
    "    plt.grid('darkgray')\n",
    "    plt.show()"
   ]
  },
  {
   "cell_type": "code",
   "execution_count": 177,
   "id": "7d2737bf-abd9-456c-862d-42d2876439b9",
   "metadata": {},
   "outputs": [
    {
     "data": {
      "image/png": "[encoded data removed]",
      "text/plain": [
       "<Figure size 1000x500 with 1 Axes>"
      ]
     },
     "metadata": {},
     "output_type": "display_data"
    }
   ],
   "source": [
    "# ワインデータ\n",
    "clustering(wine_data, 3)"
   ]
  },
  {
   "cell_type": "code",
   "execution_count": 179,
   "id": "f2535afa-1bf0-48ec-ba17-f302f4f91262",
   "metadata": {},
   "outputs": [
    {
     "data": {
      "image/png": "[encoded data removed]",
      "text/plain": [
       "<Figure size 1000x500 with 1 Axes>"
      ]
     },
     "metadata": {},
     "output_type": "display_data"
    }
   ],
   "source": [
    "# 顧客（取引）データは、取引商品情報以外の項目を除外\n",
    "wholesale_drop = wholesale_customers.copy()\n",
    "wholesale_drop = wholesale_drop.drop(columns=['チャネル', '地域'])\n",
    "clustering(wholesale_drop, 3)\n",
    "\n",
    "\"\"\"\n",
    "外れ値の除去をしていないので、データの拡散が見られる。\n",
    "分類は厳しい\n",
    "\"\"\""
   ]
  },
  {
   "cell_type": "code",
   "execution_count": null,
   "id": "0cd6fd43-5245-441b-a99b-9478519bc83e",
   "metadata": {},
   "outputs": [],
   "source": []
  },
  {
   "cell_type": "code",
   "execution_count": null,
   "id": "5321002e-6d61-494b-985c-1230fe8c60e6",
   "metadata": {},
   "outputs": [],
   "source": []
  },
  {
   "cell_type": "code",
   "execution_count": null,
   "id": "63340748-ab2a-43bc-a648-66a55588ce67",
   "metadata": {},
   "outputs": [],
   "source": []
  },
  {
   "cell_type": "code",
   "execution_count": null,
   "id": "f7e3444c-ee99-403c-8a0f-c35999b363f7",
   "metadata": {},
   "outputs": [],
   "source": []
  },
  {
   "cell_type": "code",
   "execution_count": null,
   "id": "36834252-48f2-4c10-af0a-679a0ef2e17d",
   "metadata": {},
   "outputs": [],
   "source": []
  },
  {
   "cell_type": "code",
   "execution_count": null,
   "id": "964c708b-79f5-45c6-bad9-be7cdef9e420",
   "metadata": {},
   "outputs": [],
   "source": []
  },
  {
   "cell_type": "code",
   "execution_count": null,
   "id": "c4e4256e-a795-4865-9e53-f266bad443c8",
   "metadata": {},
   "outputs": [],
   "source": []
  },
  {
   "cell_type": "code",
   "execution_count": null,
   "id": "d5c50a2f-9592-4dc3-bd78-c8ef2ec9e93d",
   "metadata": {},
   "outputs": [],
   "source": []
  }
 ],
 "metadata": {
  "kernelspec": {
   "display_name": "Python 3 (ipykernel)",
   "language": "python",
   "name": "python3"
  },
  "language_info": {
   "codemirror_mode": {
    "name": "ipython",
    "version": 3
   },
   "file_extension": ".py",
   "mimetype": "text/x-python",
   "name": "python",
   "nbconvert_exporter": "python",
   "pygments_lexer": "ipython3",
   "version": "3.9.13"
  }
 },
 "nbformat": 4,
 "nbformat_minor": 5
}
