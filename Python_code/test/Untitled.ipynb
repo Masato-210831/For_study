{
 "cells": [
  {
   "cell_type": "code",
   "execution_count": 9,
   "id": "40e04ae4-d43e-48e7-a4d1-4900a9ad2d7a",
   "metadata": {},
   "outputs": [],
   "source": [
    "from PIL import Image, ImageOps\n",
    "import glob\n",
    "import numpy as np\n",
    "import onnxruntime as ort\n",
    "import pandas as pd"
   ]
  },
  {
   "cell_type": "code",
   "execution_count": 10,
   "id": "f1ac8772-577f-4b97-a691-7a1d85bdd1e3",
   "metadata": {},
   "outputs": [
    {
     "data": {
      "text/plain": [
       "(1, 1, 3, 640, 640)"
      ]
     },
     "execution_count": 10,
     "metadata": {},
     "output_type": "execute_result"
    }
   ],
   "source": [
    "target_size = 640\n",
    "path = glob.glob('*.jpg')\n",
    "img_list = []\n",
    "for img in path:\n",
    "    image = Image.open(path[0])\n",
    "    image.thumbnail((target_size, target_size))\n",
    "    padded_img = ImageOps.pad(image, (target_size, target_size))\n",
    "    img_np = np.array(padded_img).astype(np.float32)/255.0\n",
    "    img_np = img_np.transpose([2, 0, 1])\n",
    "    img_np = np.expand_dims(img_np, axis=0)\n",
    "    img_list.append(img_np)\n",
    "\n",
    "np.array(img_list).shape"
   ]
  },
  {
   "cell_type": "code",
   "execution_count": 11,
   "id": "8041a493-8084-4760-9426-4acc1e144fd1",
   "metadata": {},
   "outputs": [],
   "source": [
    "session = ort.InferenceSession('best.onnx')\n",
    "input_name = session.get_inputs()[0].name\n",
    "output_name = session.get_outputs()[0].name\n",
    "\n",
    "result = session.run([output_name], {input_name: img_list[0]})"
   ]
  },
  {
   "cell_type": "code",
   "execution_count": 12,
   "id": "c32f12a6-79d4-4e52-a7dc-c005ace90b73",
   "metadata": {},
   "outputs": [
    {
     "data": {
      "text/plain": [
       "(1, 25200, 7)"
      ]
     },
     "execution_count": 12,
     "metadata": {},
     "output_type": "execute_result"
    }
   ],
   "source": [
    "result[0].shape"
   ]
  },
  {
   "cell_type": "markdown",
   "id": "0fe40fcc-062e-4d57-86fd-25d42655c80f",
   "metadata": {},
   "source": [
    "## 推論後の処理"
   ]
  },
  {
   "cell_type": "code",
   "execution_count": 13,
   "id": "5f64023e-3ed2-4d8e-88fd-c2e302a85cff",
   "metadata": {},
   "outputs": [],
   "source": [
    "# 推論結果\n",
    "detections = result[0][0]  # [25200, 7]\n",
    "\n",
    "# 信頼度スコアの閾値\n",
    "confidence_threshold = 0.6\n",
    "\n",
    "# クラス確率が最も高いクラスのインデックスを取得\n",
    "class_ids = np.argmax(detections[:, 5:], axis=1)\n",
    "class_confidences = np.max(detections[:, 5:], axis=1)\n",
    "\n",
    "# 信頼度スコアが閾値以上の検出のみを選択\n",
    "selected = detections[:, 4] > confidence_threshold\n",
    "\n",
    "# 選択された検出を取得\n",
    "final_detections = detections[selected]\n",
    "final_class_ids = class_ids[selected]\n",
    "final_class_confidences = class_confidences[selected]\n",
    "\n",
    "# for det, class_id, class_confidence in zip(final_detections, final_class_ids, final_class_confidences):\n",
    "#     print(det)"
   ]
  },
  {
   "cell_type": "code",
   "execution_count": 14,
   "id": "1301a983-3865-4c7e-8e98-a08e42d1315f",
   "metadata": {},
   "outputs": [
    {
     "data": {
      "text/plain": [
       "array([False, False, False, ..., False, False, False])"
      ]
     },
     "execution_count": 14,
     "metadata": {},
     "output_type": "execute_result"
    }
   ],
   "source": [
    "selected"
   ]
  },
  {
   "cell_type": "code",
   "execution_count": 15,
   "id": "b461a2fb-180d-4ce1-bdd1-56479f880108",
   "metadata": {},
   "outputs": [],
   "source": [
    "class_conf = (class_confidences>0.5)"
   ]
  },
  {
   "cell_type": "code",
   "execution_count": 16,
   "id": "0e3d1f64-532a-4dcf-ac84-c9f9114694e3",
   "metadata": {},
   "outputs": [
    {
     "data": {
      "text/plain": [
       "(25200,)"
      ]
     },
     "execution_count": 16,
     "metadata": {},
     "output_type": "execute_result"
    }
   ],
   "source": [
    "selected.shape"
   ]
  },
  {
   "cell_type": "code",
   "execution_count": 17,
   "id": "a219835a-697c-4c58-8c89-0777df424682",
   "metadata": {},
   "outputs": [
    {
     "data": {
      "text/plain": [
       "(25200,)"
      ]
     },
     "execution_count": 17,
     "metadata": {},
     "output_type": "execute_result"
    }
   ],
   "source": [
    "class_conf.shape"
   ]
  },
  {
   "cell_type": "code",
   "execution_count": 18,
   "id": "5e2ce7f3-4080-4f98-a30f-a3c374fe0e0e",
   "metadata": {},
   "outputs": [
    {
     "data": {
      "text/plain": [
       "77"
      ]
     },
     "execution_count": 18,
     "metadata": {},
     "output_type": "execute_result"
    }
   ],
   "source": [
    "(selected*class_conf).sum()"
   ]
  },
  {
   "cell_type": "code",
   "execution_count": 19,
   "id": "6322996f-bfed-4433-a83c-3de160eb0b11",
   "metadata": {},
   "outputs": [],
   "source": [
    "def nms(bboxes, score_threshold, iou_threshold):\n",
    "    \"\"\"\n",
    "    非最大抑制（NMS）を実行します。\n",
    "    \n",
    "    :param bboxes: バウンディングボックスのリスト。各ボックスは[x, y, width, height, confidence, class_id]の形式。\n",
    "    :param score_threshold: 信頼度スコアの閾値。この値以上のボックスのみが考慮されます。\n",
    "    :param iou_threshold: IoUの閾値。この値以上のボックスは排除されます。\n",
    "    :return: 抑制後のバウンディングボックスのインデックスのリスト。\n",
    "    \"\"\"\n",
    "    # 信頼度スコアに基づいてフィルタリング\n",
    "    scores = bboxes[:, 4]\n",
    "    keep = scores > score_threshold\n",
    "    bboxes = bboxes[keep]\n",
    "    scores = scores[keep]  # フィルタリングされたスコアも更新\n",
    "    \n",
    "    # バウンディングボックスの座標を[x1, y1, x2, y2]形式に変換（フィルタリング後のbboxesに対して）\n",
    "    x1 = bboxes[:, 0] - bboxes[:, 2] / 2\n",
    "    y1 = bboxes[:, 1] - bboxes[:, 3] / 2\n",
    "    x2 = bboxes[:, 0] + bboxes[:, 2] / 2\n",
    "    y2 = bboxes[:, 1] + bboxes[:, 3] / 2\n",
    "    \n",
    "    # エリアを計算（フィルタリング後のbboxesに対して）\n",
    "    areas = (x2 - x1) * (y2 - y1)\n",
    "    order = scores.argsort()[::-1]\n",
    "\n",
    "    keep = []\n",
    "    while order.size > 0:\n",
    "        i = order[0]\n",
    "        keep.append(i)\n",
    "        xx1 = np.maximum(x1[i], x1[order[1:]])\n",
    "        yy1 = np.maximum(y1[i], y1[order[1:]])\n",
    "        xx2 = np.minimum(x2[i], x2[order[1:]])\n",
    "        yy2 = np.minimum(y2[i], y2[order[1:]])\n",
    "\n",
    "        w = np.maximum(0.0, xx2 - xx1)\n",
    "        h = np.maximum(0.0, yy2 - yy1)\n",
    "        inter = w * h\n",
    "        iou = inter / (areas[i] + areas[order[1:]] - inter)\n",
    "\n",
    "        inds = np.where(iou <= iou_threshold)[0]\n",
    "        order = order[inds + 1]\n",
    "    \n",
    "    return keep\n"
   ]
  },
  {
   "cell_type": "code",
   "execution_count": 20,
   "id": "b6c46cdc-2121-425f-9397-92c7811fcd90",
   "metadata": {},
   "outputs": [],
   "source": [
    "selected_bboxs = np.concatenate((final_detections[:, :5], final_class_ids.reshape(-1, 1)),axis=1)"
   ]
  },
  {
   "cell_type": "code",
   "execution_count": 21,
   "id": "74aaeb04-b5a1-4aca-a758-4a0e644617b0",
   "metadata": {},
   "outputs": [],
   "source": [
    "a = nms(selected_bboxs, 0.6, 0.45)"
   ]
  },
  {
   "cell_type": "code",
   "execution_count": 23,
   "id": "9a2a73d6-e556-4e31-a547-9b8fea4b1c3f",
   "metadata": {},
   "outputs": [
    {
     "data": {
      "text/plain": [
       "array([[     506.57,      570.86,      45.328,      54.833,     0.96756,           0],\n",
       "       [     411.23,      98.826,      43.501,      57.181,     0.96155,           0],\n",
       "       [     452.92,      98.285,      42.485,      58.394,     0.95768,           1],\n",
       "       [     494.58,      96.644,      42.293,      57.775,     0.94943,           1]])"
      ]
     },
     "execution_count": 23,
     "metadata": {},
     "output_type": "execute_result"
    }
   ],
   "source": [
    "selected_bboxs[a]"
   ]
  },
  {
   "cell_type": "code",
   "execution_count": null,
   "id": "33274c19-d4f1-4a57-a8a7-90ce7c988d28",
   "metadata": {},
   "outputs": [],
   "source": []
  },
  {
   "cell_type": "code",
   "execution_count": null,
   "id": "8183e9e8-f681-40d0-bbdb-36c00271d00c",
   "metadata": {},
   "outputs": [],
   "source": []
  },
  {
   "cell_type": "code",
   "execution_count": null,
   "id": "1734f1a4-feae-4801-814b-76c7db029889",
   "metadata": {},
   "outputs": [],
   "source": []
  },
  {
   "cell_type": "code",
   "execution_count": null,
   "id": "d35a5c93-3e08-4434-b678-471f0471a75d",
   "metadata": {},
   "outputs": [],
   "source": []
  },
  {
   "cell_type": "code",
   "execution_count": null,
   "id": "377bfe62-c064-4f64-807a-516e34c27cc7",
   "metadata": {},
   "outputs": [],
   "source": []
  },
  {
   "cell_type": "code",
   "execution_count": null,
   "id": "7995ce3d-41b1-4370-9cda-8000dc2b7244",
   "metadata": {},
   "outputs": [],
   "source": []
  },
  {
   "cell_type": "code",
   "execution_count": null,
   "id": "a6d08c83-1808-4332-8e97-ebc0a4b68048",
   "metadata": {},
   "outputs": [],
   "source": []
  },
  {
   "cell_type": "code",
   "execution_count": null,
   "id": "00f998b2-fe9a-461c-8eb6-629d2470e9a0",
   "metadata": {},
   "outputs": [],
   "source": []
  },
  {
   "cell_type": "code",
   "execution_count": null,
   "id": "d9765ec5-afbf-46b5-ba41-ad22153b390e",
   "metadata": {},
   "outputs": [],
   "source": []
  },
  {
   "cell_type": "code",
   "execution_count": null,
   "id": "ae9ed301-b3a9-40cc-981c-775e452c71eb",
   "metadata": {},
   "outputs": [],
   "source": []
  },
  {
   "cell_type": "code",
   "execution_count": null,
   "id": "b78f181f-ac30-47fd-8e99-b045ffc118cf",
   "metadata": {},
   "outputs": [],
   "source": []
  },
  {
   "cell_type": "code",
   "execution_count": null,
   "id": "8145d4ce-e533-4c1d-800d-efe2364354ef",
   "metadata": {},
   "outputs": [],
   "source": []
  },
  {
   "cell_type": "code",
   "execution_count": null,
   "id": "5a6a3f60-854b-4068-9707-1b9455fc7493",
   "metadata": {},
   "outputs": [],
   "source": []
  },
  {
   "cell_type": "code",
   "execution_count": null,
   "id": "f723ad8e-19c6-4de0-8324-9a6c1a2dc72f",
   "metadata": {},
   "outputs": [],
   "source": []
  },
  {
   "cell_type": "code",
   "execution_count": 326,
   "id": "3c0ec5aa-00ea-42df-bc45-a06bfa8165ee",
   "metadata": {},
   "outputs": [
    {
     "data": {
      "text/plain": [
       "array([          0,           1])"
      ]
     },
     "execution_count": 326,
     "metadata": {},
     "output_type": "execute_result"
    }
   ],
   "source": [
    "np.unique(selected_bboxs[:, -1])"
   ]
  },
  {
   "cell_type": "code",
   "execution_count": 322,
   "id": "aad8c6d3-9983-4e26-92cc-e1e3fe99d67f",
   "metadata": {},
   "outputs": [],
   "source": [
    "bboxes = selected_bboxs.copy()\n",
    "x1 = bboxes[:, 0] - bboxes[:, 2] / 2\n",
    "y1 = bboxes[:, 1] - bboxes[:, 3] / 2\n",
    "x2 = bboxes[:, 0] + bboxes[:, 2] / 2\n",
    "y2 = bboxes[:, 1] + bboxes[:, 3] / 2\n",
    "\n",
    "\n",
    "# エリアを計算（フィルタリング後のbboxesに対して）\n",
    "areas = (x2 - x1) * (y2 - y1)\n",
    "order = scores.argsort()[::-1]\n",
    "\n",
    "\n",
    "i = order[0]\n",
    "xx1 = np.maximum(x1[i], x1[order[1:]])\n",
    "yy1 = np.maximum(y1[i], y1[order[1:]])\n",
    "xx2 = np.minimum(x2[i], x2[order[1:]])\n",
    "yy2 = np.minimum(y2[i], y2[order[1:]])\n",
    "\n",
    "w = np.maximum(0.0, xx2 - xx1)\n",
    "h = np.maximum(0.0, yy2 - yy1)\n",
    "\n",
    "\n",
    "inter = w * h\n",
    "iou = inter / (areas[i] + areas[order[1:]] - inter)\n",
    "\n",
    "inds = np.where(iou <= 0.45)[0]"
   ]
  },
  {
   "cell_type": "code",
   "execution_count": 323,
   "id": "62b08b82-af99-423a-a39d-218e8a0dea7c",
   "metadata": {},
   "outputs": [
    {
     "data": {
      "text/plain": [
       "array([ 2,  5,  6,  8, 10, 11, 12, 13, 14, 16, 18, 19, 20, 21, 22, 24, 25, 26, 27, 28, 29, 31, 32, 33, 34, 36, 37, 39, 40, 41, 42, 44, 45, 46, 48, 49, 50, 52, 53, 54, 55, 56, 58, 59, 61, 62, 63, 64, 65, 66, 67, 68, 69, 73, 74, 75])"
      ]
     },
     "execution_count": 323,
     "metadata": {},
     "output_type": "execute_result"
    }
   ],
   "source": [
    "inds"
   ]
  },
  {
   "cell_type": "code",
   "execution_count": 324,
   "id": "800d0258-479c-4d99-ae8e-c9f6ddec7185",
   "metadata": {},
   "outputs": [
    {
     "data": {
      "text/plain": [
       "array([    0.95553,     0.96329,           0,     0.97505,     0.96247,           0,           0,      0.9611,           0,     0.96389,           0,           0,           0,           0,           0,     0.96023,           0,      0.9446,           0,           0,           0,           0,           0,     0.95197,\n",
       "                 0,           0,           0,           0,           0,           0,     0.98044,           0,           0,           0,           0,      0.9659,           0,           0,     0.97687,           0,           0,           0,           0,     0.94639,           0,           0,           0,     0.94655,\n",
       "                 0,           0,           0,     0.94876,           0,           0,           0,           0,           0,     0.96961,           0,           0,      0.9385,           0,           0,           0,           0,           0,           0,           0,           0,           0,     0.93292,     0.95305,\n",
       "           0.95588,           0,           0,           0])"
      ]
     },
     "execution_count": 324,
     "metadata": {},
     "output_type": "execute_result"
    }
   ],
   "source": [
    "iou"
   ]
  },
  {
   "cell_type": "code",
   "execution_count": null,
   "id": "0bb37835-4a4a-42f7-8582-bf4dded50cd9",
   "metadata": {},
   "outputs": [],
   "source": []
  },
  {
   "cell_type": "code",
   "execution_count": null,
   "id": "35afae87-f9ca-4391-91a7-e564fe412467",
   "metadata": {},
   "outputs": [],
   "source": []
  },
  {
   "cell_type": "code",
   "execution_count": 4,
   "id": "ef857818-3db5-44fd-980e-0ab271e8a06a",
   "metadata": {},
   "outputs": [],
   "source": [
    "from utils.general import non_max_suppression"
   ]
  },
  {
   "cell_type": "code",
   "execution_count": 5,
   "id": "036741bb-cefc-48a3-ba12-6ab86ec13b6f",
   "metadata": {},
   "outputs": [
    {
     "ename": "AttributeError",
     "evalue": "'numpy.ndarray' object has no attribute 'device'",
     "output_type": "error",
     "traceback": [
      "\u001b[0;31m---------------------------------------------------------------------------\u001b[0m",
      "\u001b[0;31mAttributeError\u001b[0m                            Traceback (most recent call last)",
      "Cell \u001b[0;32mIn[5], line 1\u001b[0m\n\u001b[0;32m----> 1\u001b[0m \u001b[43mnon_max_suppression\u001b[49m\u001b[43m(\u001b[49m\u001b[43mresult\u001b[49m\u001b[43m)\u001b[49m\n",
      "File \u001b[0;32m/work/Python_code/test/utils/general.py:1048\u001b[0m, in \u001b[0;36mnon_max_suppression\u001b[0;34m(prediction, conf_thres, iou_thres, classes, agnostic, multi_label, labels, max_det, nm)\u001b[0m\n\u001b[1;32m   1046\u001b[0m t \u001b[38;5;241m=\u001b[39m time\u001b[38;5;241m.\u001b[39mtime()\n\u001b[1;32m   1047\u001b[0m mi \u001b[38;5;241m=\u001b[39m \u001b[38;5;241m5\u001b[39m \u001b[38;5;241m+\u001b[39m nc  \u001b[38;5;66;03m# mask start index\u001b[39;00m\n\u001b[0;32m-> 1048\u001b[0m output \u001b[38;5;241m=\u001b[39m [torch\u001b[38;5;241m.\u001b[39mzeros((\u001b[38;5;241m0\u001b[39m, \u001b[38;5;241m6\u001b[39m \u001b[38;5;241m+\u001b[39m nm), device\u001b[38;5;241m=\u001b[39m\u001b[43mprediction\u001b[49m\u001b[38;5;241;43m.\u001b[39;49m\u001b[43mdevice\u001b[49m)] \u001b[38;5;241m*\u001b[39m bs\n\u001b[1;32m   1049\u001b[0m \u001b[38;5;28;01mfor\u001b[39;00m xi, x \u001b[38;5;129;01min\u001b[39;00m \u001b[38;5;28menumerate\u001b[39m(prediction):  \u001b[38;5;66;03m# image index, image inference\u001b[39;00m\n\u001b[1;32m   1050\u001b[0m     \u001b[38;5;66;03m# Apply constraints\u001b[39;00m\n\u001b[1;32m   1051\u001b[0m     \u001b[38;5;66;03m# x[((x[..., 2:4] < min_wh) | (x[..., 2:4] > max_wh)).any(1), 4] = 0  # width-height\u001b[39;00m\n\u001b[1;32m   1052\u001b[0m     x \u001b[38;5;241m=\u001b[39m x[xc[xi]]  \u001b[38;5;66;03m# confidence\u001b[39;00m\n",
      "\u001b[0;31mAttributeError\u001b[0m: 'numpy.ndarray' object has no attribute 'device'"
     ]
    }
   ],
   "source": [
    "non_max_suppression(result)"
   ]
  },
  {
   "cell_type": "code",
   "execution_count": null,
   "id": "bcf06a61-bed6-403a-919d-a680b3832830",
   "metadata": {},
   "outputs": [],
   "source": []
  },
  {
   "cell_type": "code",
   "execution_count": null,
   "id": "41518848-0eed-4fda-94ae-b97fc3e53cba",
   "metadata": {},
   "outputs": [],
   "source": []
  },
  {
   "cell_type": "code",
   "execution_count": null,
   "id": "6994ec49-00fd-4739-a3e5-42e8360754a8",
   "metadata": {},
   "outputs": [],
   "source": []
  },
  {
   "cell_type": "code",
   "execution_count": null,
   "id": "53c9938f-26c1-4dbd-bf04-96766408ff09",
   "metadata": {},
   "outputs": [],
   "source": []
  },
  {
   "cell_type": "code",
   "execution_count": null,
   "id": "a9deb5f6-2a9b-44be-95bd-90e7c694a17f",
   "metadata": {},
   "outputs": [],
   "source": []
  },
  {
   "cell_type": "code",
   "execution_count": null,
   "id": "c012e5cd-1c20-4662-92dc-64eba06948ca",
   "metadata": {},
   "outputs": [],
   "source": []
  }
 ],
 "metadata": {
  "kernelspec": {
   "display_name": "Python 3 (ipykernel)",
   "language": "python",
   "name": "python3"
  },
  "language_info": {
   "codemirror_mode": {
    "name": "ipython",
    "version": 3
   },
   "file_extension": ".py",
   "mimetype": "text/x-python",
   "name": "python",
   "nbconvert_exporter": "python",
   "pygments_lexer": "ipython3",
   "version": "3.8.18"
  }
 },
 "nbformat": 4,
 "nbformat_minor": 5
}
