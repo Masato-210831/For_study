{
 "cells": [
  {
   "cell_type": "code",
   "execution_count": 1,
   "id": "b3f14dbc-c478-4fb6-8d6c-807e6e54a653",
   "metadata": {},
   "outputs": [],
   "source": [
    "from langchain_community.document_loaders import DirectoryLoader\n",
    "\n",
    "path = \"Sample_Docs_Markdown/\"\n",
    "loader = DirectoryLoader(path, glob=\"**/*.md\")\n",
    "docs = loader.load()"
   ]
  },
  {
   "cell_type": "code",
   "execution_count": 3,
   "id": "9095526a-5675-4d9f-bbd8-3a6a42816f2d",
   "metadata": {},
   "outputs": [
    {
     "data": {
      "text/plain": [
       "Document(metadata={'source': 'Sample_Docs_Markdown/dib-events-program.md'}, page_content='title: \"Program of Events\" description: \"This page will provide a calendar of upcoming events & program release for Diversity, Inclusion & Belonging.\"\\n\\nThis page will provide a calendar of upcoming events & program release for Diversity, Inclusion & Belonging.\\n\\nMonth Events & DRI Notes January - Release Neurodiversity in the workplace Short Course - Liam McNally February - Black History Month - Liam McNally March - International Women\\'s Day - Women\\'s History Month April May June July August September October November December January')"
      ]
     },
     "execution_count": 3,
     "metadata": {},
     "output_type": "execute_result"
    }
   ],
   "source": [
    "docs[0]"
   ]
  },
  {
   "cell_type": "code",
   "execution_count": null,
   "id": "9c9925fb-0b8a-41a3-8991-86afa883529b",
   "metadata": {},
   "outputs": [],
   "source": []
  },
  {
   "cell_type": "code",
   "execution_count": null,
   "id": "8bfbb95f-5fe4-4f88-a83f-a06eb291c2d1",
   "metadata": {},
   "outputs": [],
   "source": []
  },
  {
   "cell_type": "code",
   "execution_count": null,
   "id": "42bf1746-c868-424c-9c5e-c0f989f2b371",
   "metadata": {},
   "outputs": [],
   "source": []
  },
  {
   "cell_type": "code",
   "execution_count": null,
   "id": "054233f9-b8c6-4477-ab57-f0b154601880",
   "metadata": {},
   "outputs": [],
   "source": []
  },
  {
   "cell_type": "code",
   "execution_count": null,
   "id": "e4525845-8924-4ddf-b342-d0ce3d2ab4f4",
   "metadata": {},
   "outputs": [],
   "source": []
  }
 ],
 "metadata": {
  "kernelspec": {
   "display_name": "Python 3 (ipykernel)",
   "language": "python",
   "name": "python3"
  },
  "language_info": {
   "codemirror_mode": {
    "name": "ipython",
    "version": 3
   },
   "file_extension": ".py",
   "mimetype": "text/x-python",
   "name": "python",
   "nbconvert_exporter": "python",
   "pygments_lexer": "ipython3",
   "version": "3.11.10"
  }
 },
 "nbformat": 4,
 "nbformat_minor": 5
}
