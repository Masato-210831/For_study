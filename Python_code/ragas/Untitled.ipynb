{
 "cells": [
  {
   "cell_type": "code",
   "execution_count": 1,
   "id": "fd6dbb83-f4e6-489a-adc6-2f9933595df1",
   "metadata": {},
   "outputs": [],
   "source": [
    "import dotenv\n",
    "import os\n",
    "\n",
    "from ragas.llms import LangchainLLMWrapper\n",
    "from ragas.embeddings import LangchainEmbeddingsWrapper\n",
    "from langchain_openai import ChatOpenAI\n",
    "from langchain_openai import OpenAIEmbeddings\n",
    "from ragas.testset import TestsetGenerator\n",
    "from langchain_community.document_loaders.csv_loader import CSVLoader"
   ]
  },
  {
   "cell_type": "code",
   "execution_count": 2,
   "id": "01ca669a-d81c-4a59-aeb8-1402f209dcb0",
   "metadata": {},
   "outputs": [
    {
     "data": {
      "text/plain": [
       "True"
      ]
     },
     "execution_count": 2,
     "metadata": {},
     "output_type": "execute_result"
    }
   ],
   "source": [
    "dotenv.load_dotenv()"
   ]
  },
  {
   "cell_type": "code",
   "execution_count": null,
   "id": "70f67e26-028b-450e-9e98-b5a19dff0e03",
   "metadata": {},
   "outputs": [],
   "source": []
  },
  {
   "cell_type": "code",
   "execution_count": 3,
   "id": "aaf40ea0-c55f-4869-ba31-b3f7b0687cb9",
   "metadata": {},
   "outputs": [
    {
     "name": "stdout",
     "output_type": "stream",
     "text": [
      "page_content='id: 1\n",
      "answer: JR東日本の駅や列車内で拾得されたお忘れ物・落し物は、システムに登録のうえ一定の期間保管をし、お引取りのないものは最寄の警察署等に提出しています。 お忘れ物・落し物にお気づきの際は、以下にお問い合わせください。 （１）ＪＲ東日本の駅 　お問い合わせの際は、 　　・お忘れ物・落し物をされた日時や場所 ... 詳細表示\n",
      "\n",
      "No：1036 公開日時：2022/12/07 10:00 更新日時：2023/11/28 10:38 カテゴリー： 忘れ物をした時' metadata={'source': './ragas_for_jrc_csv.csv', 'row': 0}\n"
     ]
    }
   ],
   "source": [
    "# loader = CSVLoader(file_path=\"./QuestionAnswer.csv\", source_column='question_ja', metadata_columns=[\"id\", \"question_ja\", \"answer\"])\n",
    "loader = CSVLoader(file_path=\"./ragas_for_jrc_csv.csv\")\n",
    "data = loader.load()\n",
    "print(data[0])"
   ]
  },
  {
   "cell_type": "code",
   "execution_count": 7,
   "id": "32810786-3370-4742-9ffc-a304a56fcad8",
   "metadata": {},
   "outputs": [
    {
     "data": {
      "application/vnd.jupyter.widget-view+json": {
       "model_id": "289e496fefc045268627e36b1fe645ff",
       "version_major": 2,
       "version_minor": 0
      },
      "text/plain": [
       "Applying SummaryExtractor:   0%|          | 0/160 [00:00<?, ?it/s]"
      ]
     },
     "metadata": {},
     "output_type": "display_data"
    },
    {
     "data": {
      "application/vnd.jupyter.widget-view+json": {
       "model_id": "4977305096bf4813902af4168f9e0a97",
       "version_major": 2,
       "version_minor": 0
      },
      "text/plain": [
       "Applying CustomNodeFilter:   0%|          | 0/164 [00:00<?, ?it/s]"
      ]
     },
     "metadata": {},
     "output_type": "display_data"
    },
    {
     "name": "stderr",
     "output_type": "stream",
     "text": [
      "Node e3d1d677-16bb-44a7-85c5-456c16d66eed does not have a summary. Skipping filtering.\n",
      "Node 202a5973-3ca9-4c40-a79b-4b5af44ed5db does not have a summary. Skipping filtering.\n",
      "Node 903af679-a075-4b5e-bdda-9d0299036fd5 does not have a summary. Skipping filtering.\n",
      "Node 6bce8db8-487b-42b0-ad75-2e54ff9cb3fb does not have a summary. Skipping filtering.\n"
     ]
    },
    {
     "data": {
      "application/vnd.jupyter.widget-view+json": {
       "model_id": "cae2a5f7b14a4ce8beb15fff0a6bf6ec",
       "version_major": 2,
       "version_minor": 0
      },
      "text/plain": [
       "Applying [EmbeddingExtractor, ThemesExtractor, NERExtractor]:   0%|          | 0/488 [00:00<?, ?it/s]"
      ]
     },
     "metadata": {},
     "output_type": "display_data"
    },
    {
     "data": {
      "application/vnd.jupyter.widget-view+json": {
       "model_id": "1797ce8c923248d3a6dbf16377ec7965",
       "version_major": 2,
       "version_minor": 0
      },
      "text/plain": [
       "Applying OverlapScoreBuilder:   0%|          | 0/1 [00:00<?, ?it/s]"
      ]
     },
     "metadata": {},
     "output_type": "display_data"
    },
    {
     "data": {
      "application/vnd.jupyter.widget-view+json": {
       "model_id": "8679d51bebba4f98a43966a6fe1b497d",
       "version_major": 2,
       "version_minor": 0
      },
      "text/plain": [
       "Generating personas:   0%|          | 0/3 [00:00<?, ?it/s]"
      ]
     },
     "metadata": {},
     "output_type": "display_data"
    },
    {
     "data": {
      "application/vnd.jupyter.widget-view+json": {
       "model_id": "92d1a2aab8ad48a49e990f8fdaf75bf9",
       "version_major": 2,
       "version_minor": 0
      },
      "text/plain": [
       "Generating Scenarios:   0%|          | 0/2 [00:00<?, ?it/s]"
      ]
     },
     "metadata": {},
     "output_type": "display_data"
    },
    {
     "data": {
      "application/vnd.jupyter.widget-view+json": {
       "model_id": "b57749b090ef4491aa58b9dbad14d392",
       "version_major": 2,
       "version_minor": 0
      },
      "text/plain": [
       "Generating Samples:   0%|          | 0/164 [00:00<?, ?it/s]"
      ]
     },
     "metadata": {},
     "output_type": "display_data"
    }
   ],
   "source": [
    "generator_llm = LangchainLLMWrapper(ChatOpenAI(model=\"gpt-4o-mini\"))\n",
    "generator_embeddings = LangchainEmbeddingsWrapper(OpenAIEmbeddings())\n",
    "\n",
    "\n",
    "# テスト文章の生成\n",
    "generator = TestsetGenerator(llm=generator_llm, embedding_model=generator_embeddings)\n",
    "dataset = generator.generate_with_langchain_docs(data, testset_size=164)"
   ]
  },
  {
   "cell_type": "code",
   "execution_count": 10,
   "id": "266799ee-891a-4776-9bef-94c49f7df3d4",
   "metadata": {},
   "outputs": [],
   "source": [
    "dataset.to_csv(path='test_data.csv')"
   ]
  },
  {
   "cell_type": "code",
   "execution_count": null,
   "id": "4e25863e-e580-4595-890b-0fe8b6c4a5c3",
   "metadata": {},
   "outputs": [],
   "source": []
  },
  {
   "cell_type": "code",
   "execution_count": null,
   "id": "8f55883d-d610-4f73-97bd-8b3d1aa0d3ea",
   "metadata": {},
   "outputs": [],
   "source": []
  },
  {
   "cell_type": "code",
   "execution_count": null,
   "id": "69b2eded-cfb6-4f67-89e2-93de62b8c328",
   "metadata": {},
   "outputs": [],
   "source": []
  },
  {
   "cell_type": "code",
   "execution_count": null,
   "id": "564b5024-be29-4c7e-860b-f81afbe002c8",
   "metadata": {},
   "outputs": [],
   "source": []
  }
 ],
 "metadata": {
  "kernelspec": {
   "display_name": "Python 3 (ipykernel)",
   "language": "python",
   "name": "python3"
  },
  "language_info": {
   "codemirror_mode": {
    "name": "ipython",
    "version": 3
   },
   "file_extension": ".py",
   "mimetype": "text/x-python",
   "name": "python",
   "nbconvert_exporter": "python",
   "pygments_lexer": "ipython3",
   "version": "3.11.10"
  }
 },
 "nbformat": 4,
 "nbformat_minor": 5
}
