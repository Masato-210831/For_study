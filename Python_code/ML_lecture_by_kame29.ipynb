{
 "cells": [
  {
   "cell_type": "markdown",
   "id": "7a271be5-a851-40e7-a4a7-194d3363214d",
   "metadata": {},
   "source": [
    "## ジニ不純度と木の剪定(cost complexity pruning)を解説"
   ]
  },
  {
   "cell_type": "code",
   "execution_count": 22,
   "id": "bc72b428-47eb-4e5a-b504-786071cd45ca",
   "metadata": {},
   "outputs": [],
   "source": [
    "#決定木の分類器\n",
    "import pandas as pd\n",
    "import seaborn as sns\n",
    "from sklearn.model_selection import train_test_split\n",
    "\n",
    "df = sns.load_dataset('titanic')\n",
    "df = df.dropna()\n",
    "X = df.loc[:, (df.columns!='survived') & (df.columns!='alive')]\n",
    "X = pd.get_dummies(X, drop_first=True)\n",
    "y = df['survived']\n",
    "X_train, X_test, y_train, y_test = train_test_split(X, y, test_size=0.3, random_state=0)"
   ]
  },
  {
   "cell_type": "code",
   "execution_count": 24,
   "id": "03a2aad9-aa84-4e6a-9bd5-26793f7983fb",
   "metadata": {},
   "outputs": [
    {
     "name": "stdout",
     "output_type": "stream",
     "text": [
      "[0.         0.00656168 0.00656168 0.00699913 0.00726832 0.0077282\n",
      " 0.00787402 0.01049869 0.0111986  0.0118874  0.01526093 0.01880243\n",
      " 0.02677358 0.12717222]\n",
      "[0.         0.01312336 0.02624672 0.04024497 0.05478161 0.07023802\n",
      " 0.07811203 0.09910941 0.11030801 0.14597022 0.2375358  0.2939431\n",
      " 0.32071667 0.4478889 ]\n"
     ]
    }
   ],
   "source": [
    "from sklearn import tree\n",
    "model = tree.DecisionTreeClassifier(random_state=0)\n",
    "path = model.cost_complexity_pruning_path(X_train, y_train)\n",
    "eff_alphas, impurities = path.ccp_alphas, path.impurities\n",
    "print(eff_alphas)\n",
    "print(impurities)"
   ]
  },
  {
   "cell_type": "code",
   "execution_count": 25,
   "id": "9667f801-b67e-48c3-a998-64e529dc1f04",
   "metadata": {},
   "outputs": [],
   "source": [
    "#決定木作成\n",
    "models = []\n",
    "for eff_alpha in eff_alphas:\n",
    "    model = tree.DecisionTreeClassifier(random_state=0, ccp_alpha=eff_alpha)\n",
    "    model.fit(X_train, y_train)\n",
    "    models.append(model)"
   ]
  },
  {
   "cell_type": "code",
   "execution_count": 29,
   "id": "d1fcb698-6c3b-42d2-b0a7-2ea9fe1b0c81",
   "metadata": {},
   "outputs": [
    {
     "data": {
      "text/plain": [
       "<matplotlib.legend.Legend at 0x7f1d3c505bb0>"
      ]
     },
     "execution_count": 29,
     "metadata": {},
     "output_type": "execute_result"
    },
    {
     "data": {
      "image/png": "[encoded data removed]",
      "text/plain": [
       "<Figure size 640x480 with 1 Axes>"
      ]
     },
     "metadata": {},
     "output_type": "display_data"
    }
   ],
   "source": [
    "import matplotlib.pyplot as plt\n",
    "%matplotlib inline\n",
    "train_scores = [model.score(X_train, y_train) for model in models]\n",
    "test_scores = [model.score(X_test, y_test) for model in models]\n",
    "\n",
    "fig, ax = plt.subplots()\n",
    "ax.set_xlabel('alpha')\n",
    "ax.set_ylabel('accuracy')\n",
    "ax.plot(eff_alphas, train_scores, marker='o', label='train', drawstyle='steps-post')\n",
    "ax.plot(eff_alphas, test_scores, marker='o', label='test', drawstyle='steps-post')\n",
    "ax.legend()"
   ]
  },
  {
   "cell_type": "code",
   "execution_count": null,
   "id": "01e5c741-c33a-4046-86fb-cc4ab1cd9a53",
   "metadata": {},
   "outputs": [],
   "source": []
  },
  {
   "cell_type": "markdown",
   "id": "3692bc5e-bf5f-4780-8cce-f1065ea0084d",
   "metadata": {},
   "source": [
    "## アンサンブル学習を超わかりやすく解説"
   ]
  },
  {
   "cell_type": "code",
   "execution_count": null,
   "id": "563b660f-4336-4cda-8bce-88d12e94a50d",
   "metadata": {},
   "outputs": [],
   "source": []
  },
  {
   "cell_type": "code",
   "execution_count": null,
   "id": "b2bc13c3-c5a4-45e7-b68c-36e7d907f10d",
   "metadata": {},
   "outputs": [],
   "source": []
  },
  {
   "cell_type": "code",
   "execution_count": null,
   "id": "7a393524-449b-43db-9714-216e338886fb",
   "metadata": {},
   "outputs": [],
   "source": []
  },
  {
   "cell_type": "code",
   "execution_count": null,
   "id": "78cda595-537a-4941-a0f2-ff6a4880aa19",
   "metadata": {},
   "outputs": [],
   "source": []
  },
  {
   "cell_type": "code",
   "execution_count": null,
   "id": "f39affae-c0e1-4b95-814d-690099d8d1fc",
   "metadata": {},
   "outputs": [],
   "source": []
  },
  {
   "cell_type": "code",
   "execution_count": null,
   "id": "486ccac7-3ae9-4ae6-951c-7a874ecb09d0",
   "metadata": {},
   "outputs": [],
   "source": []
  },
  {
   "cell_type": "code",
   "execution_count": null,
   "id": "9fd6a640-97f7-4975-bff5-b80238ce3016",
   "metadata": {},
   "outputs": [],
   "source": []
  },
  {
   "cell_type": "code",
   "execution_count": null,
   "id": "af18e8fc-b4f2-4fdc-9b7e-1190204b491b",
   "metadata": {},
   "outputs": [],
   "source": []
  },
  {
   "cell_type": "code",
   "execution_count": null,
   "id": "30475953-53ff-4de1-b99e-7980091b40a5",
   "metadata": {},
   "outputs": [],
   "source": []
  },
  {
   "cell_type": "code",
   "execution_count": null,
   "id": "afe5f336-992b-4f67-9868-95413f2e9a81",
   "metadata": {},
   "outputs": [],
   "source": []
  },
  {
   "cell_type": "code",
   "execution_count": null,
   "id": "45347d2a-6337-4d58-a50a-5099c347fc91",
   "metadata": {},
   "outputs": [],
   "source": []
  },
  {
   "cell_type": "code",
   "execution_count": null,
   "id": "4848c484-7677-4b6d-8418-2f5ee88450b3",
   "metadata": {},
   "outputs": [],
   "source": []
  },
  {
   "cell_type": "code",
   "execution_count": null,
   "id": "16ad01c3-9b79-4373-a0ef-e628ba4a2faf",
   "metadata": {},
   "outputs": [],
   "source": []
  },
  {
   "cell_type": "code",
   "execution_count": null,
   "id": "ab5fc245-3709-4b28-9844-e7a2626e5db9",
   "metadata": {},
   "outputs": [],
   "source": []
  },
  {
   "cell_type": "code",
   "execution_count": null,
   "id": "6323e3ea-e177-404b-8fd5-74386fcf2216",
   "metadata": {},
   "outputs": [],
   "source": []
  },
  {
   "cell_type": "code",
   "execution_count": null,
   "id": "2c6c4ef1-5747-49f4-bc4a-cf805ec021f7",
   "metadata": {},
   "outputs": [],
   "source": []
  },
  {
   "cell_type": "code",
   "execution_count": null,
   "id": "3db5bd3b-cfa7-48a7-935e-bcc1c8f76a13",
   "metadata": {},
   "outputs": [],
   "source": []
  },
  {
   "cell_type": "code",
   "execution_count": null,
   "id": "88d1fe9a-b98d-4975-bab2-54d9c4450d88",
   "metadata": {},
   "outputs": [],
   "source": []
  },
  {
   "cell_type": "code",
   "execution_count": null,
   "id": "beb14ff8-d6a8-411a-8565-6e413d811712",
   "metadata": {},
   "outputs": [],
   "source": []
  },
  {
   "cell_type": "code",
   "execution_count": null,
   "id": "a1c5c66a-b8b9-4714-817f-a9a4916708bc",
   "metadata": {},
   "outputs": [],
   "source": []
  },
  {
   "cell_type": "code",
   "execution_count": null,
   "id": "c4267b7a-dbe2-4073-9dbb-e300fbf11f6a",
   "metadata": {},
   "outputs": [],
   "source": []
  },
  {
   "cell_type": "code",
   "execution_count": null,
   "id": "be28363b-7c6c-4d05-9f01-69009fa6523a",
   "metadata": {},
   "outputs": [],
   "source": []
  },
  {
   "cell_type": "code",
   "execution_count": null,
   "id": "631b38db-30dc-4ba2-ae33-49ba1004c906",
   "metadata": {},
   "outputs": [],
   "source": []
  },
  {
   "cell_type": "code",
   "execution_count": null,
   "id": "0654a188-85f6-47de-be35-a966793906c4",
   "metadata": {},
   "outputs": [],
   "source": []
  },
  {
   "cell_type": "code",
   "execution_count": null,
   "id": "bd78585f-eb4c-4022-aed8-cc27cb898d59",
   "metadata": {},
   "outputs": [],
   "source": []
  }
 ],
 "metadata": {
  "kernelspec": {
   "display_name": "Python 3 (ipykernel)",
   "language": "python",
   "name": "python3"
  },
  "language_info": {
   "codemirror_mode": {
    "name": "ipython",
    "version": 3
   },
   "file_extension": ".py",
   "mimetype": "text/x-python",
   "name": "python",
   "nbconvert_exporter": "python",
   "pygments_lexer": "ipython3",
   "version": "3.9.13"
  }
 },
 "nbformat": 4,
 "nbformat_minor": 5
}
